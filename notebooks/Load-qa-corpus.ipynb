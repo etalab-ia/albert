{
 "cells": [
  {
   "cell_type": "markdown",
   "id": "74c702f0-1b0f-49e3-bc30-587ea61810da",
   "metadata": {},
   "source": [
    "# Convert gpt q&a corpus"
   ]
  },
  {
   "cell_type": "code",
   "execution_count": 3,
   "id": "ed6bda41-7c1c-446a-b023-9507ca1e15d6",
   "metadata": {},
   "outputs": [
    {
     "data": {
      "text/html": [
       "<div>\n",
       "<style scoped>\n",
       "    .dataframe tbody tr th:only-of-type {\n",
       "        vertical-align: middle;\n",
       "    }\n",
       "\n",
       "    .dataframe tbody tr th {\n",
       "        vertical-align: top;\n",
       "    }\n",
       "\n",
       "    .dataframe thead th {\n",
       "        text-align: right;\n",
       "    }\n",
       "</style>\n",
       "<table border=\"1\" class=\"dataframe\">\n",
       "  <thead>\n",
       "    <tr style=\"text-align: right;\">\n",
       "      <th></th>\n",
       "      <th>question</th>\n",
       "      <th>answer</th>\n",
       "      <th>prompt</th>\n",
       "      <th>token_answer</th>\n",
       "      <th>tokens_prompt</th>\n",
       "      <th>time_taken</th>\n",
       "      <th>urls_contexts</th>\n",
       "      <th>score_retrieving</th>\n",
       "      <th>chunks_index</th>\n",
       "    </tr>\n",
       "  </thead>\n",
       "  <tbody>\n",
       "    <tr>\n",
       "      <th>0</th>\n",
       "      <td>Quelles sont les conditions requises pour béné...</td>\n",
       "      <td>Le supplément de loyer de solidarité (SLS) est...</td>\n",
       "      <td>Voici plusieurs références sur un même thème :...</td>\n",
       "      <td>321</td>\n",
       "      <td>2894</td>\n",
       "      <td>10.92</td>\n",
       "      <td>https://www.service-public.fr/particuliers/vos...</td>\n",
       "      <td>65.44\\n63.40\\n61.69</td>\n",
       "      <td>6860\\n3844\\n7721</td>\n",
       "    </tr>\n",
       "    <tr>\n",
       "      <th>1</th>\n",
       "      <td>Comment est calculé le surloyer pour les locat...</td>\n",
       "      <td>Le calcul du surloyer pour les locataires rési...</td>\n",
       "      <td>Voici plusieurs références sur un même thème :...</td>\n",
       "      <td>127</td>\n",
       "      <td>3394</td>\n",
       "      <td>6.61</td>\n",
       "      <td>https://www.service-public.fr/particuliers/vos...</td>\n",
       "      <td>68.72\\n64.41\\n64.04</td>\n",
       "      <td>5694\\n12599\\n7729</td>\n",
       "    </tr>\n",
       "    <tr>\n",
       "      <th>2</th>\n",
       "      <td>Quels sont les critères de revenus maximums po...</td>\n",
       "      <td>Pour être éligible au prêt locatif intermédiai...</td>\n",
       "      <td>Voici plusieurs références sur un même thème :...</td>\n",
       "      <td>343</td>\n",
       "      <td>3284</td>\n",
       "      <td>11.62</td>\n",
       "      <td>https://www.service-public.fr/particuliers/vos...</td>\n",
       "      <td>72.03\\n66.38\\n63.23</td>\n",
       "      <td>0\\n3053\\n3602</td>\n",
       "    </tr>\n",
       "    <tr>\n",
       "      <th>3</th>\n",
       "      <td>Quels documents sont nécessaires pour la régul...</td>\n",
       "      <td>Pour régulariser le supplément de loyer en cas...</td>\n",
       "      <td>Voici plusieurs références sur un même thème :...</td>\n",
       "      <td>452</td>\n",
       "      <td>3484</td>\n",
       "      <td>12.71</td>\n",
       "      <td>https://www.service-public.fr/professionnels-e...</td>\n",
       "      <td>73.26\\n73.25\\n72.84</td>\n",
       "      <td>13404\\n9039\\n2</td>\n",
       "    </tr>\n",
       "    <tr>\n",
       "      <th>4</th>\n",
       "      <td>Quelle est la différence entre le supplément d...</td>\n",
       "      <td>La différence entre le supplément de loyer de ...</td>\n",
       "      <td>Voici plusieurs références sur un même thème :...</td>\n",
       "      <td>542</td>\n",
       "      <td>3215</td>\n",
       "      <td>14.87</td>\n",
       "      <td>https://www.service-public.fr/particuliers/vos...</td>\n",
       "      <td>93.16\\n91.38\\n90.70</td>\n",
       "      <td>9070\\n6860\\n6</td>\n",
       "    </tr>\n",
       "  </tbody>\n",
       "</table>\n",
       "</div>"
      ],
      "text/plain": [
       "                                            question  \\\n",
       "0  Quelles sont les conditions requises pour béné...   \n",
       "1  Comment est calculé le surloyer pour les locat...   \n",
       "2  Quels sont les critères de revenus maximums po...   \n",
       "3  Quels documents sont nécessaires pour la régul...   \n",
       "4  Quelle est la différence entre le supplément d...   \n",
       "\n",
       "                                              answer  \\\n",
       "0  Le supplément de loyer de solidarité (SLS) est...   \n",
       "1  Le calcul du surloyer pour les locataires rési...   \n",
       "2  Pour être éligible au prêt locatif intermédiai...   \n",
       "3  Pour régulariser le supplément de loyer en cas...   \n",
       "4  La différence entre le supplément de loyer de ...   \n",
       "\n",
       "                                              prompt  token_answer  \\\n",
       "0  Voici plusieurs références sur un même thème :...           321   \n",
       "1  Voici plusieurs références sur un même thème :...           127   \n",
       "2  Voici plusieurs références sur un même thème :...           343   \n",
       "3  Voici plusieurs références sur un même thème :...           452   \n",
       "4  Voici plusieurs références sur un même thème :...           542   \n",
       "\n",
       "   tokens_prompt  time_taken  \\\n",
       "0           2894       10.92   \n",
       "1           3394        6.61   \n",
       "2           3284       11.62   \n",
       "3           3484       12.71   \n",
       "4           3215       14.87   \n",
       "\n",
       "                                       urls_contexts     score_retrieving  \\\n",
       "0  https://www.service-public.fr/particuliers/vos...  65.44\\n63.40\\n61.69   \n",
       "1  https://www.service-public.fr/particuliers/vos...  68.72\\n64.41\\n64.04   \n",
       "2  https://www.service-public.fr/particuliers/vos...  72.03\\n66.38\\n63.23   \n",
       "3  https://www.service-public.fr/professionnels-e...  73.26\\n73.25\\n72.84   \n",
       "4  https://www.service-public.fr/particuliers/vos...  93.16\\n91.38\\n90.70   \n",
       "\n",
       "        chunks_index  \n",
       "0   6860\\n3844\\n7721  \n",
       "1  5694\\n12599\\n7729  \n",
       "2      0\\n3053\\n3602  \n",
       "3     13404\\n9039\\n2  \n",
       "4      9070\\n6860\\n6  "
      ]
     },
     "execution_count": 3,
     "metadata": {},
     "output_type": "execute_result"
    }
   ],
   "source": [
    "# Make corpus-result from xlsx data\n",
    "# --\n",
    "import pandas as pd\n",
    "\n",
    "basedir = \"../../data/\"\n",
    "filename = \"gpt_corpus-20kq&A.xlsx\"\n",
    "sheet = \"results\"\n",
    "df = pd.read_excel(basedir + filename, sheet_name=sheet, usecols=\"A:I\")\n",
    "df.dropna(how=\"all\", inplace=True)\n",
    "df.head()"
   ]
  },
  {
   "cell_type": "code",
   "execution_count": 4,
   "id": "00f6613f-ab41-4853-b869-bd79f546c005",
   "metadata": {},
   "outputs": [],
   "source": [
    "df.to_csv('corpus-results.csv', index=False)"
   ]
  },
  {
   "cell_type": "code",
   "execution_count": null,
   "id": "9c70e744-a625-4a22-9638-db75162edb98",
   "metadata": {},
   "outputs": [],
   "source": []
  },
  {
   "cell_type": "code",
   "execution_count": 5,
   "id": "b689a2ec-63ea-49e9-b640-1ea95c8168fe",
   "metadata": {},
   "outputs": [],
   "source": [
    "# pprint(df.iloc[0].to_dict())"
   ]
  },
  {
   "cell_type": "markdown",
   "id": "44c06b71-21bc-4dae-9192-be270be23964",
   "metadata": {},
   "source": [
    "# Inference utils"
   ]
  },
  {
   "cell_type": "code",
   "execution_count": 6,
   "id": "ba54e03b-dc90-4707-8de4-01bb1f8a8a16",
   "metadata": {},
   "outputs": [],
   "source": [
    "# Inference utils\n",
    "# --\n",
    "\n",
    "import sys, os, time\n",
    "import re\n",
    "import hashlib\n",
    "import pprint\n",
    "import numpy as np\n",
    "import pandas as pd\n",
    "\n",
    "def extract_substring(text, start_tag, end_tag, include_tag=False):\n",
    "    start_index = text.find(start_tag)\n",
    "    if start_index == -1:\n",
    "      return \"\"\n",
    "\n",
    "    end_index = text[start_index:].find(end_tag)\n",
    "    if end_index == -1:\n",
    "        return \"\"\n",
    "    end_index += start_index\n",
    "\n",
    "    if include_tag:\n",
    "        end_index += len(end_tag)\n",
    "    else:\n",
    "        start_index += len(start_tag)\n",
    "\n",
    "    return text[start_index:end_index]\n",
    "    "
   ]
  },
  {
   "cell_type": "markdown",
   "id": "90f3bbe7-e5df-4693-bc7c-d554e71f1748",
   "metadata": {},
   "source": [
    "# Save answers"
   ]
  },
  {
   "cell_type": "code",
   "execution_count": 7,
   "id": "68872e7d-e3d6-4c30-893c-aec77c478501",
   "metadata": {},
   "outputs": [
    {
     "data": {
      "text/plain": [
       "['question',\n",
       " 'answer',\n",
       " 'prompt',\n",
       " 'token_answer',\n",
       " 'tokens_prompt',\n",
       " 'time_taken',\n",
       " 'urls_contexts',\n",
       " 'score_retrieving',\n",
       " 'chunks_index']"
      ]
     },
     "execution_count": 7,
     "metadata": {},
     "output_type": "execute_result"
    }
   ],
   "source": [
    "res = pd.read_csv('corpus-results.csv')\n",
    "res.columns.tolist()  "
   ]
  },
  {
   "cell_type": "code",
   "execution_count": 11,
   "id": "515866cf-4b49-4556-9e7b-0173c589cd59",
   "metadata": {},
   "outputs": [
    {
     "data": {
      "text/plain": [
       "1486.2720375024164"
      ]
     },
     "execution_count": 11,
     "metadata": {},
     "output_type": "execute_result"
    }
   ],
   "source": [
    "# Mean size of prompt columns text.\n",
    "res[\"prompt\"].apply(lambda x: len(x.split())).mean()"
   ]
  },
  {
   "cell_type": "code",
   "execution_count": null,
   "id": "15ff818a-5f1b-4e4c-8d5c-c9bc00e87b77",
   "metadata": {},
   "outputs": [],
   "source": [
    "#print(res.iloc[0][\"prompt\"])"
   ]
  },
  {
   "cell_type": "code",
   "execution_count": 7,
   "id": "2bb38054-4abc-4801-93e2-b40489764418",
   "metadata": {},
   "outputs": [],
   "source": [
    "# Make eval-corpus from drive answer txt files.\n",
    "# --\n",
    "\n",
    "eval_corpus = []\n",
    "with_prompt = False\n",
    "version = \"v4\"\n",
    "ext = \"\"\n",
    "\n",
    "for i, x in res.iterrows():\n",
    "    question = x[\"question\"]\n",
    "    answer_xgen = x[\"answer\"]\n",
    "    references = x[\"urls_contexts\"].split()\n",
    "    hash = hashlib.blake2b(question.encode(), digest_size=8).hexdigest()\n",
    "\n",
    "    with open(f\"answers/llama_ref_{version}{ext}/{i}.txt\") as f:\n",
    "        a_ref = f.read()\n",
    "\n",
    "    with open(f\"answers/llama_ref_{version}{ext}_sample/{i}.txt\") as f:\n",
    "        a_ref_sample = f.read()\n",
    "\n",
    "    prompt = x[\"prompt\"]\n",
    "    ref1 = extract_substring(prompt, \"référence 0\", \"\\n\", include_tag=True)\n",
    "    ref2 = extract_substring(prompt, \"référence 1\", \"\\n\", include_tag=True)\n",
    "    ref3 = extract_substring(prompt, \"référence 2\", \"\\n\", include_tag=True)\n",
    "    \n",
    "    item = {\n",
    "        \"qid\": hash,\n",
    "        \"question\": question,\n",
    "        \"answer_xgen\": answer_xgen,\n",
    "        \"references\": references,\n",
    "        \"references_raw\": [ref1, ref2, ref3],\n",
    "        \"answer_llama_ref\": a_ref,\n",
    "        \"answer_llama_ref_sample\": a_ref_sample,\n",
    "    }\n",
    "    if with_prompt:\n",
    "        p = \"Voici une liste de références :\\n>>REFERENCES<<\\n\" + ref1 + ref2 + ref3 + \"\\n\" + \">>QUESTION<<\\n\" + question\n",
    "        item['prompt'] = p,\n",
    "\n",
    "    eval_corpus.append(item)\n",
    "    if i == 49:\n",
    "        break\n",
    "\n",
    "fn = f\"corpus-eval-with-prompt-{version}.json\" if with_prompt else f\"corpus-eval-{version}.json\"\n",
    "pd.DataFrame(eval_corpus).to_json(fn, orient=\"records\", indent=2, force_ascii=False)"
   ]
  },
  {
   "cell_type": "code",
   "execution_count": 31,
   "id": "ffe20a49-df14-44ab-9fe9-b1abcecfdb8c",
   "metadata": {},
   "outputs": [
    {
     "data": {
      "text/plain": [
       "121"
      ]
     },
     "execution_count": 31,
     "metadata": {},
     "output_type": "execute_result"
    }
   ],
   "source": [
    "# extract part of answers (EVAL/DILA)\n",
    "# --\n",
    "\n",
    "import re\n",
    "\n",
    "\n",
    "l = [] # @obsolete\n",
    "eval_corpus = []\n",
    "source = \"llama_ref_v4_CAF_loyer\"\n",
    "fn = \"corpus-eval-dila-v0_loyer.json\"\n",
    "\n",
    "for i, x in res.iterrows():\n",
    "    q = x[\"question\"].lower()\n",
    "    q = re.sub(r'\\W+', ' ', q)\n",
    "    # if \"caf\" in q.split() or \"caisse d'allocations familiales\" in q.split():\n",
    "    #     l.append(i)   \n",
    "    if \"loyer\" in q.split():\n",
    "        l.append(i)\n",
    "    else:\n",
    "        continue\n",
    "    \n",
    "    #j = len(l) - 1 # @obsolete\n",
    "    try:\n",
    "        with open(f\"answers/{source}/{i}.txt\") as f:\n",
    "            a_ref = f.read()\n",
    "    except:\n",
    "        continue\n",
    "\n",
    "    question = x[\"question\"]\n",
    "    answer_xgen = x[\"answer\"]\n",
    "    references = x[\"urls_contexts\"].split()\n",
    "    hash = hashlib.blake2b(question.encode(), digest_size=4).hexdigest()\n",
    "    prompt = x[\"prompt\"]\n",
    "    ref1 = extract_substring(prompt, \"référence 0\", \"\\n\", include_tag=True)\n",
    "    ref2 = extract_substring(prompt, \"référence 1\", \"\\n\", include_tag=True)\n",
    "    ref3 = extract_substring(prompt, \"référence 2\", \"\\n\", include_tag=True)\n",
    "    \n",
    "    item = {\n",
    "        \"qid\": hash,\n",
    "        \"question\": question,\n",
    "        \"answer_xgen\": answer_xgen,\n",
    "        \"references\": references,\n",
    "        \"references_raw\": [ref1, ref2, ref3],\n",
    "        \"answer_llama\": a_ref,\n",
    "    }\n",
    "    eval_corpus.append(item)\n",
    "\n",
    "pd.DataFrame(eval_corpus).to_json(output_file, orient=\"records\", indent=2, force_ascii=False)\n",
    "\n",
    "len(l)"
   ]
  },
  {
   "cell_type": "markdown",
   "id": "1f8dd7ee-514e-4622-ba80-275ee4c17921",
   "metadata": {},
   "source": [
    "# Quantitative Evaluation"
   ]
  },
  {
   "cell_type": "code",
   "execution_count": 5,
   "id": "a9580bb2-46b1-438f-a99b-65d2aa1c4c47",
   "metadata": {},
   "outputs": [],
   "source": [
    "import os, json\n",
    "import pandas as pd\n",
    "import numpy as np\n",
    "from sklearn.feature_extraction.text import TfidfVectorizer\n",
    "from spacy.lang.fr.stop_words import STOP_WORDS as fr_stop\n",
    "\n",
    "# Do not print up warnings on a CPU machine only\n",
    "os.environ['TF_CPP_MIN_LOG_LEVEL'] = '2'\n",
    "os.environ['CUDA_VISIBLE_DEVICES'] = '-1'\n",
    "\n",
    "# Tfidf feature extractions\n",
    "# --\n",
    "\n",
    "# Get documents from chunks\n",
    "with open(\"xmlfiles_as_chunks.json\") as f:\n",
    "    documents = [x[\"data\"] for x in json.load(f)]\n",
    "\n",
    "# Initialize the TF-IDF vectorizer (do not match number)\n",
    "vectorizer = TfidfVectorizer(stop_words=fr_stop, min_df=0.05, max_df=0.9,\n",
    "                             token_pattern=r'\\b[A-Za-z_][A-Za-z_]+\\b')\n",
    "\n",
    "# Compute the TF-IDF matrix\n",
    "tfidf_matrix = vectorizer.fit_transform(documents)\n",
    "\n",
    "# Get the feature names (words)\n",
    "feature_names = vectorizer.get_feature_names()\n",
    "\n",
    "# Function to extract the top n most salient words from a document\n",
    "def extract_top_words(document, n=3):\n",
    "    # Compute the TF-IDF scores for the given document\n",
    "    #scores = tfidf_matrix[document]\n",
    "    scores = vectorizer.transform([document])\n",
    "\n",
    "    # Sort the TF-IDF scores in descending order\n",
    "    sorted_indices = scores.toarray()[0].argsort()[::-1]\n",
    "\n",
    "    # Extract the top n most salient words\n",
    "    top_words = [feature_names[i] for i in sorted_indices[:n]]\n",
    "\n",
    "    return top_words"
   ]
  },
  {
   "cell_type": "code",
   "execution_count": 19,
   "id": "0176f8a2-b049-4a9a-8861-63c9b35135dd",
   "metadata": {},
   "outputs": [
    {
     "data": {
      "text/html": [
       "<style  type=\"text/css\" >\n",
       "#T_361d9_row0_col0,#T_361d9_row1_col2,#T_361d9_row5_col1,#T_361d9_row6_col3{\n",
       "            background-color:  #dbf1f9;\n",
       "        }#T_361d9_row2_col1,#T_361d9_row2_col3,#T_361d9_row3_col0,#T_361d9_row5_col2{\n",
       "            background-color:  #eadddd;\n",
       "        }</style><table id=\"T_361d9_\" ><thead>    <tr>        <th class=\"blank level0\" ></th>        <th class=\"col_heading level0 col0\" >size</th>        <th class=\"col_heading level0 col1\" >no result</th>        <th class=\"col_heading level0 col2\" >ref mention</th>        <th class=\"col_heading level0 col3\" >lists</th>    </tr></thead><tbody>\n",
       "                <tr>\n",
       "                        <th id=\"T_361d9_level0_row0\" class=\"row_heading level0 row0\" >Xgen</th>\n",
       "                        <td id=\"T_361d9_row0_col0\" class=\"data row0 col0\" >195 ± 87</td>\n",
       "                        <td id=\"T_361d9_row0_col1\" class=\"data row0 col1\" >1</td>\n",
       "                        <td id=\"T_361d9_row0_col2\" class=\"data row0 col2\" >5</td>\n",
       "                        <td id=\"T_361d9_row0_col3\" class=\"data row0 col3\" >10</td>\n",
       "            </tr>\n",
       "            <tr>\n",
       "                        <th id=\"T_361d9_level0_row1\" class=\"row_heading level0 row1\" >Llama sample+rep-penalty</th>\n",
       "                        <td id=\"T_361d9_row1_col0\" class=\"data row1 col0\" >126 ± 59</td>\n",
       "                        <td id=\"T_361d9_row1_col1\" class=\"data row1 col1\" >1</td>\n",
       "                        <td id=\"T_361d9_row1_col2\" class=\"data row1 col2\" >11</td>\n",
       "                        <td id=\"T_361d9_row1_col3\" class=\"data row1 col3\" >4</td>\n",
       "            </tr>\n",
       "            <tr>\n",
       "                        <th id=\"T_361d9_level0_row2\" class=\"row_heading level0 row2\" >Llama sample+rep-penalty 2</th>\n",
       "                        <td id=\"T_361d9_row2_col0\" class=\"data row2 col0\" >106 ± 69</td>\n",
       "                        <td id=\"T_361d9_row2_col1\" class=\"data row2 col1\" >0</td>\n",
       "                        <td id=\"T_361d9_row2_col2\" class=\"data row2 col2\" >6</td>\n",
       "                        <td id=\"T_361d9_row2_col3\" class=\"data row2 col3\" >1</td>\n",
       "            </tr>\n",
       "            <tr>\n",
       "                        <th id=\"T_361d9_level0_row3\" class=\"row_heading level0 row3\" >Llama rep-penaly</th>\n",
       "                        <td id=\"T_361d9_row3_col0\" class=\"data row3 col0\" >91 ± 55</td>\n",
       "                        <td id=\"T_361d9_row3_col1\" class=\"data row3 col1\" >1</td>\n",
       "                        <td id=\"T_361d9_row3_col2\" class=\"data row3 col2\" >4</td>\n",
       "                        <td id=\"T_361d9_row3_col3\" class=\"data row3 col3\" >6</td>\n",
       "            </tr>\n",
       "            <tr>\n",
       "                        <th id=\"T_361d9_level0_row4\" class=\"row_heading level0 row4\" >Llama sample</th>\n",
       "                        <td id=\"T_361d9_row4_col0\" class=\"data row4 col0\" >116 ± 68</td>\n",
       "                        <td id=\"T_361d9_row4_col1\" class=\"data row4 col1\" >2</td>\n",
       "                        <td id=\"T_361d9_row4_col2\" class=\"data row4 col2\" >9</td>\n",
       "                        <td id=\"T_361d9_row4_col3\" class=\"data row4 col3\" >6</td>\n",
       "            </tr>\n",
       "            <tr>\n",
       "                        <th id=\"T_361d9_level0_row5\" class=\"row_heading level0 row5\" >Llama beams</th>\n",
       "                        <td id=\"T_361d9_row5_col0\" class=\"data row5 col0\" >119 ± 84</td>\n",
       "                        <td id=\"T_361d9_row5_col1\" class=\"data row5 col1\" >5</td>\n",
       "                        <td id=\"T_361d9_row5_col2\" class=\"data row5 col2\" >1</td>\n",
       "                        <td id=\"T_361d9_row5_col3\" class=\"data row5 col3\" >8</td>\n",
       "            </tr>\n",
       "            <tr>\n",
       "                        <th id=\"T_361d9_level0_row6\" class=\"row_heading level0 row6\" >Llama beams 2</th>\n",
       "                        <td id=\"T_361d9_row6_col0\" class=\"data row6 col0\" >113 ± 71</td>\n",
       "                        <td id=\"T_361d9_row6_col1\" class=\"data row6 col1\" >4</td>\n",
       "                        <td id=\"T_361d9_row6_col2\" class=\"data row6 col2\" >5</td>\n",
       "                        <td id=\"T_361d9_row6_col3\" class=\"data row6 col3\" >12</td>\n",
       "            </tr>\n",
       "            <tr>\n",
       "                        <th id=\"T_361d9_level0_row7\" class=\"row_heading level0 row7\" >Llama temperature</th>\n",
       "                        <td id=\"T_361d9_row7_col0\" class=\"data row7 col0\" >117 ± 67</td>\n",
       "                        <td id=\"T_361d9_row7_col1\" class=\"data row7 col1\" >2</td>\n",
       "                        <td id=\"T_361d9_row7_col2\" class=\"data row7 col2\" >3</td>\n",
       "                        <td id=\"T_361d9_row7_col3\" class=\"data row7 col3\" >7</td>\n",
       "            </tr>\n",
       "            <tr>\n",
       "                        <th id=\"T_361d9_level0_row8\" class=\"row_heading level0 row8\" >Llama temperature 2</th>\n",
       "                        <td id=\"T_361d9_row8_col0\" class=\"data row8 col0\" >97 ± 50</td>\n",
       "                        <td id=\"T_361d9_row8_col1\" class=\"data row8 col1\" >1</td>\n",
       "                        <td id=\"T_361d9_row8_col2\" class=\"data row8 col2\" >7</td>\n",
       "                        <td id=\"T_361d9_row8_col3\" class=\"data row8 col3\" >4</td>\n",
       "            </tr>\n",
       "    </tbody></table>"
      ],
      "text/plain": [
       "<pandas.io.formats.style.Styler at 0x7ff0023e6430>"
      ]
     },
     "execution_count": 19,
     "metadata": {},
     "output_type": "execute_result"
    }
   ],
   "source": [
    "# Draw Evalutation table\n",
    "# --\n",
    "\n",
    "corpus = pd.read_json(\"corpus-eval-v4.json\")\n",
    "res = {}\n",
    "for i, x in corpus.iterrows():\n",
    "    cols = [\n",
    "        (\"Xgen\", x[\"answer_xgen\"]),\n",
    "        (\"Llama sample+rep-penalty\", x[\"answer_llama_ref_base\"]),\n",
    "        (\"Llama sample+rep-penalty 2\", x[\"answer_llama_ref_base_2\"]),\n",
    "        (\"Llama rep-penaly\", x[\"answer_llama_ref\"]),\n",
    "        (\"Llama sample\", x[\"answer_llama_ref_sample\"]),\n",
    "        (\"Llama beams\", x[\"answer_llama_ref_beams\"]),\n",
    "        (\"Llama beams 2\", x[\"answer_llama_ref_beams_2\"]),\n",
    "        (\"Llama temperature\", x[\"answer_llama_ref_temperature\"]),\n",
    "        (\"Llama temperature 2\", x[\"answer_llama_ref_temperature_2\"]),\n",
    "    ]\n",
    "    for title, answer in cols:\n",
    "        data = res.get(title, {})\n",
    "        # Answer length\n",
    "        # --\n",
    "        size = data.get(\"size\", [])\n",
    "        size.append(len(answer.split()))\n",
    "        data[\"size\"] = size\n",
    "        # No results\n",
    "        # --\n",
    "        a = data.get(\"no result\", [])\n",
    "        a.append(len(answer.split(\".\")) in [1,2] and \"pas\" in answer.split())\n",
    "        data[\"no result\"] = a\n",
    "        # Reference mention\n",
    "        # --\n",
    "        a = data.get(\"ref mention\", [])\n",
    "        a.append(\"références\" in answer.split())\n",
    "        data[\"ref mention\"] = a\n",
    "        # Lists\n",
    "        # --\n",
    "        a = data.get(\"lists\", [])\n",
    "        a.append(\"\\n- \" in answer or \"\\n* \" in answer or \"\\n1. \" in answer)\n",
    "        data[\"lists\"] = a\n",
    "        # Ratio of best words\n",
    "        #...\n",
    "        \n",
    "        res[title] = data\n",
    "\n",
    "# Calculate the final metric (mean/std/sum) deviation for each list and store them in a new dictionary\n",
    "summary_data = {}\n",
    "for outer_key, inner_dict in res.items():\n",
    "    for inner_key, inner_list in inner_dict.items():\n",
    "        mean_value = np.mean(inner_list)\n",
    "        std_value = np.std(inner_list)\n",
    "        if inner_key in  ['no result', \"ref mention\", \"lists\"]:\n",
    "            # Count occurences\n",
    "            summary_data.setdefault(inner_key, []).append(str(sum(inner_list)))\n",
    "        else:\n",
    "            summary_data.setdefault(inner_key, []).append(f\"{mean_value:.0f} ± {std_value:.0f}\")\n",
    "\n",
    "\n",
    "# Create a pandas DataFrame from the summary_data dictionary\n",
    "df = pd.DataFrame(summary_data, index=res.keys())\n",
    "\n",
    "# Define a function to highlight max value an min values\n",
    "def highlight_max_min(s):\n",
    "    # if '±' not in s.str:\n",
    "    #     return s\n",
    "    mean_values = s.str.split(' ± ').str[0].astype(float)  # Extract mean values from the string\n",
    "    is_max = mean_values == mean_values.max()\n",
    "    is_min = mean_values == mean_values.min()   \n",
    "    return ['background-color: #dbf1f9' if v else 'background-color: #eadddd' if m else '' for v, m in zip(is_max, is_min)]\n",
    "\n",
    "styled_df = df.style.apply(highlight_max_min)\n",
    "styled_df"
   ]
  },
  {
   "cell_type": "markdown",
   "id": "287ce841-5466-4de9-8c9e-faf3ac8400b8",
   "metadata": {},
   "source": [
    "# Qualitative Evaluation"
   ]
  },
  {
   "cell_type": "code",
   "execution_count": 20,
   "id": "483fc511-18c1-4b08-a9ec-5a902739ff7f",
   "metadata": {},
   "outputs": [
    {
     "data": {
      "text/html": [
       "\n",
       "        <style>\n",
       "            .qq {\n",
       "                word-break: keep-all;\n",
       "                white-space: pre-wrap;\n",
       "            }\n",
       "        </style>\n",
       "\n",
       "        <div style=\"border:1px solid grey;padding:5px;border-radius:8px;\">\n",
       "            <div>ID: d1268e8c &nbsp Q: 0</div>\n",
       "            <h5 style=\"font-weight: bold;\">Quelles sont les conditions requises pour bénéficier du supplément de loyer de solidarité en tant que locataire dans un logement social en Île-de-France ?</h5>\n",
       "            <div style=\"display:flex; align-items:top;\"><div style=\"width: 50%; padding:10px;\"> <div style=\"text-align:center;color:blue;\">Llama sample+rep-penalty</div> <pre class=\"qq\">Pour bénéficier du supplément de loyer de solidarité en tant que locataire dans un logement social en Île-de-France, certaines conditions doivent être remplies. Tout d'abord, il faut prendre en compte que le montant du loyer d'un logement social est fixé selon une règle de calcul qui s'impose au bailleur. Cela signifie que le montant du loyer variera en fonction de différents critères tels que la surface du logement, la localisation géographique, etc.\r\n",
       "\r\n",
       "Ensuite, il y a également un délai de prescription d'une dette locative. Selon lequel, le propriétaire peut réclamer pendant trois ans tout impayé de charges ou de loyers qui lui est dû. Cependant, il convient de noter que ce délai s'applique seulement jusqu'en juillet de l'année suivante.\r\n",
       "\r\n",
       "Il est important de souligner que le locataire peut obtenir chaque mois une réduction du montant de son loyer, connue comme la réduction du loyer de solidarité (RLS). Toutefois, il est nécessaire de mentionner que certains revenus du locataire peuvent entraîner une réduction du montant du loyer, mais également une surcharge. Ainsi, il est recommandé de se rappeler que le locataire devra payer le loyer entièrement, même en cas de surplus de revenu.\r\n",
       "\r\n",
       "Cependant, il est important de noter que ces informations sont basées sur les références disponibles et qu'il est conseillé de contacter les services compétents pour obtenir des détails précis et actualisés.</pre></div><div style=\"width: 50%; padding:10px;\"> <div style=\"text-align:center;color:blue;\">Llama temp 2</div> <pre class=\"qq\">Pour bénéficier du supplément de loyer de solidarité en tant que locataire dans un logement social en île-de-France, certaines conditions doivent être remplies. Tout d’abord, le locataire doit remplir certains critères de ressources basés sur ses revenus familiaux. Cependant, il convient de noter que ces conditions varient en fonction de la situation particulière de chaque individu.</pre></div></div>['locataire', 'conditions', 'loyer', 'ressources', 'revenus']</div>"
      ],
      "text/plain": [
       "<IPython.core.display.HTML object>"
      ]
     },
     "metadata": {},
     "output_type": "display_data"
    },
    {
     "data": {
      "text/html": [
       "<br>"
      ],
      "text/plain": [
       "<IPython.core.display.HTML object>"
      ]
     },
     "metadata": {},
     "output_type": "display_data"
    },
    {
     "data": {
      "text/html": [
       "\n",
       "        <style>\n",
       "            .qq {\n",
       "                word-break: keep-all;\n",
       "                white-space: pre-wrap;\n",
       "            }\n",
       "        </style>\n",
       "\n",
       "        <div style=\"border:1px solid grey;padding:5px;border-radius:8px;\">\n",
       "            <div>ID: 6acced1a &nbsp Q: 1</div>\n",
       "            <h5 style=\"font-weight: bold;\">Comment est calculé le surloyer pour les locataires résidant dans les quartiers prioritaires de la politique de la ville ?</h5>\n",
       "            <div style=\"display:flex; align-items:top;\"><div style=\"width: 50%; padding:10px;\"> <div style=\"text-align:center;color:blue;\">Llama sample+rep-penalty</div> <pre class=\"qq\">Le surloyer pour les locataires résidant dans les quartiers prioritaires de la politique de la ville est calculé selon certaines règles. Cependant, il n'y a actuellement aucune information disponible sur ces règles ni sur comment elles sont appliquées.</pre></div><div style=\"width: 50%; padding:10px;\"> <div style=\"text-align:center;color:blue;\">Llama temp 2</div> <pre class=\"qq\">Le surloyer pour les locataires résidant dans les quartiers prioritaires de la politique de la ville est calculé en tenant compte de diverses variables telles que l'ancienne dette de logement et le revenu disponible. Cependant, il convient de noter que ces informations sont basées uniquement sur les références disponibles et qu'il n'est possible de donner une réponse précise sans connaître davantage les circonstances individuelles de chaque situation.</pre></div></div>['donner', 'revenu', 'uniquement', 'logement', 'informations']</div>"
      ],
      "text/plain": [
       "<IPython.core.display.HTML object>"
      ]
     },
     "metadata": {},
     "output_type": "display_data"
    },
    {
     "data": {
      "text/html": [
       "<br>"
      ],
      "text/plain": [
       "<IPython.core.display.HTML object>"
      ]
     },
     "metadata": {},
     "output_type": "display_data"
    },
    {
     "data": {
      "text/html": [
       "\n",
       "        <style>\n",
       "            .qq {\n",
       "                word-break: keep-all;\n",
       "                white-space: pre-wrap;\n",
       "            }\n",
       "        </style>\n",
       "\n",
       "        <div style=\"border:1px solid grey;padding:5px;border-radius:8px;\">\n",
       "            <div>ID: d6cdabe6 &nbsp Q: 2</div>\n",
       "            <h5 style=\"font-weight: bold;\">Quels sont les critères de revenus maximums pour être éligible au prêt locatif intermédiaire à Paris ou dans une commune limitrophe ?</h5>\n",
       "            <div style=\"display:flex; align-items:top;\"><div style=\"width: 50%; padding:10px;\"> <div style=\"text-align:center;color:blue;\">Llama sample+rep-penalty</div> <pre class=\"qq\">Les critères de revenus maximums pour être éligible au prêt locatif intermédiaire à Paris ou dans une commune limitrophe varient selon le nombre de personnes à loger. Par exemple, pour une personne seule, le revenu maximal autorisé est de 16 614 euros par an. Cependant, si deux personnes vivent ensemble, le revenu maximal autorisé augmente jusqu'à atteindre 39 257 euros par an.\r\n",
       "Il y a également des critères spécifiques concernant les jeunes couples et les familles nombreuses. Selon ce cas particulier, le revenu maximal autorisé diffère entre 25 298 euros par an pour un jeune couple et 76 912 euros par an pour trois personnes à loger.\r\n",
       "Cependant, veuillez noter que ces informations peuvent évoluer et qu'il est recommandé de consulter directement les organismes compétents tels que le Centre Communautaire Immobilier (CCI) ou le Service Public Immobiliers (SPI) pour obtenir des informations précises et actualisées sur les critères de revenus maximums pour le prêt locatif intermédiaire à Paris ou dans une commune limitrophe.</pre></div><div style=\"width: 50%; padding:10px;\"> <div style=\"text-align:center;color:blue;\">Llama temp 2</div> <pre class=\"qq\">Les critères de revenus maximums pour être éligible au prêt locatif intermédiaire à Paris ou dans une commune limitrophe varient selon la situation. Par exemple, pour avoir accès à ce type de prêt, les personnes doivent remplir certaines conditions telles qu'avoir moins de 20 % de leurs revenus annuels supérieurs aux revenus maximums fixés par l'organisme responsable du prêt locatif intermédiaire. Cependant, il convient de noter que chaque cas est individuellement examiné et qu'il existe parfois des exceptions.</pre></div></div>['revenus', 'qu', 'paris', 'existe', 'commune']</div>"
      ],
      "text/plain": [
       "<IPython.core.display.HTML object>"
      ]
     },
     "metadata": {},
     "output_type": "display_data"
    },
    {
     "data": {
      "text/html": [
       "<br>"
      ],
      "text/plain": [
       "<IPython.core.display.HTML object>"
      ]
     },
     "metadata": {},
     "output_type": "display_data"
    },
    {
     "data": {
      "text/html": [
       "\n",
       "        <style>\n",
       "            .qq {\n",
       "                word-break: keep-all;\n",
       "                white-space: pre-wrap;\n",
       "            }\n",
       "        </style>\n",
       "\n",
       "        <div style=\"border:1px solid grey;padding:5px;border-radius:8px;\">\n",
       "            <div>ID: 1beeba14 &nbsp Q: 3</div>\n",
       "            <h5 style=\"font-weight: bold;\">Quels documents sont nécessaires pour la régularisation du supplément de loyer en cas de baisse de revenus ou de changement dans la composition de la famille ?</h5>\n",
       "            <div style=\"display:flex; align-items:top;\"><div style=\"width: 50%; padding:10px;\"> <div style=\"text-align:center;color:blue;\">Llama sample+rep-penalty</div> <pre class=\"qq\">Pour régulariser le supplément de loyer en cas de baisse de revenus ou de changement dans la composition de la famille, plusieurs documents peuvent être demandés. Cependant, sans connaissance précise des références spécifiques, nous ne pouvons pas donner de réponses précises.</pre></div><div style=\"width: 50%; padding:10px;\"> <div style=\"text-align:center;color:blue;\">Llama temp 2</div> <pre class=\"qq\">Pour la régularisation du supplément de loyer en cas de baisse de revenus ou de changement dans la composition de la famille, les documents nécessaires sont les suivants :\n",
       "- Un avis d'impôt datant de l'année précédente ou des 12 derniers mois, pour montrer la diminution de revenus.\n",
       "- Une demande écrite signifiant le besoin de régulariser le supplément de loyer, accompagnée de pièces justificatives.\n",
       "- Tout autre document justifié qui puisse prouver le changement dans la composition de la famille.\n",
       "Il convient donc de présenter ces documents lorsque le bailleur social est contacté afin de procéder à une nouvelle estimation du montant du supplément de loyer.</pre></div></div>['loyer', 'famille', 'changement', 'revenus', 'documents']</div>"
      ],
      "text/plain": [
       "<IPython.core.display.HTML object>"
      ]
     },
     "metadata": {},
     "output_type": "display_data"
    },
    {
     "data": {
      "text/html": [
       "<br>"
      ],
      "text/plain": [
       "<IPython.core.display.HTML object>"
      ]
     },
     "metadata": {},
     "output_type": "display_data"
    },
    {
     "data": {
      "text/html": [
       "\n",
       "        <style>\n",
       "            .qq {\n",
       "                word-break: keep-all;\n",
       "                white-space: pre-wrap;\n",
       "            }\n",
       "        </style>\n",
       "\n",
       "        <div style=\"border:1px solid grey;padding:5px;border-radius:8px;\">\n",
       "            <div>ID: 9c347019 &nbsp Q: 4</div>\n",
       "            <h5 style=\"font-weight: bold;\">Quelle est la différence entre le supplément de loyer de référence et le supplément de loyer de solidarité en ce qui concerne les zones géographiques et les plafonds de revenus ?</h5>\n",
       "            <div style=\"display:flex; align-items:top;\"><div style=\"width: 50%; padding:10px;\"> <div style=\"text-align:center;color:blue;\">Llama sample+rep-penalty</div> <pre class=\"qq\">Le supplément de loyer de référence correspond aux tarifs fixes établis par le gouvernement français pour certaines zones géographiques. Ces tarifs varient en fonction de la superficie habitable du logement et du coefficient de dépassement du plafond de ressources d'attribution d'un logement locatif social.\r\n",
       "\r\n",
       "En revanche, le supplément de loyer de solidarité, également connu sous le nom de'surloyer', est calculé en tenant compte des revenus du locataire. Cela signifie que si les revenus dépassent certains seuils, un supplément de loyer peut être demandé afin de compenser cette situation.\r\n",
       "\r\n",
       "Il existe différentes règles concernant les zones géographiques et les plafonds de revenus applicables au supplément de loyer de référence et au supplément de loyer de solidarité. Les détails spécifiques doivent donc être pris en charge par le bailleur ou le gestionnaire du logement.</pre></div><div style=\"width: 50%; padding:10px;\"> <div style=\"text-align:center;color:blue;\">Llama temp 2</div> <pre class=\"qq\">Le supplément de loyer de référence correspond aux tarifs fixes établis pour certaines parties du territoire français. Il varie en fonction de la superficie habitable du logement et du coefficient de dépassement du plafond de ressources d'attribution d'un logement locatif social.\n",
       "\n",
       "En revanche, le supplément de loyer de solidarité, également connu sous le nom de surloyer, prend en compte les revenus du locataire lorsqu'ils dépassent certains critères. Son montant est calculé en ajoutant le supplément de loyer de référence à un coefficient de dépassement du plafond de ressources.\n",
       "\n",
       "Pour connaître exactement quel est le coût du supplément de loyer de solidarité dans tes circonstances spécifiques, veuillez contacter le bailleur concerné.</pre></div></div>['loyer', 'ressources', 'logement', 'parties', 'locataire']</div>"
      ],
      "text/plain": [
       "<IPython.core.display.HTML object>"
      ]
     },
     "metadata": {},
     "output_type": "display_data"
    },
    {
     "data": {
      "text/html": [
       "<br>"
      ],
      "text/plain": [
       "<IPython.core.display.HTML object>"
      ]
     },
     "metadata": {},
     "output_type": "display_data"
    },
    {
     "data": {
      "text/html": [
       "\n",
       "        <style>\n",
       "            .qq {\n",
       "                word-break: keep-all;\n",
       "                white-space: pre-wrap;\n",
       "            }\n",
       "        </style>\n",
       "\n",
       "        <div style=\"border:1px solid grey;padding:5px;border-radius:8px;\">\n",
       "            <div>ID: 4e555c98 &nbsp Q: 5</div>\n",
       "            <h5 style=\"font-weight: bold;\">Quelle est la procédure à suivre pour faire une déclaration de travaux de construction d'une propriété bâtie et comment cela affecte la valeur locative cadastrale et les impôts locaux ?</h5>\n",
       "            <div style=\"display:flex; align-items:top;\"><div style=\"width: 50%; padding:10px;\"> <div style=\"text-align:center;color:blue;\">Llama sample+rep-penalty</div> <pre class=\"qq\">Pour faire une déclaration de travaux de construction d'une propriété bâtie, il faut se renseigner auprès du centre des impôts afin de connaître les démarches spécifiques à suivre. Ils peuvent également fournir des informations sur les taux d'imposition applicables ainsi qu'un formulaire approprié à remplir.</pre></div><div style=\"width: 50%; padding:10px;\"> <div style=\"text-align:center;color:blue;\">Llama temp 2</div> <pre class=\"qq\">Pour faire une déclaration de travaux de construction d'une propriété bâtie, il faut se renseigner auprès du centre des impôts afin de connaître les démarches spécifiques à suivre. Ces démarches peuvent varier selon la nature des travaux et les règlementations applicables. Cependant, généralement, on recommande de remplir le formulaire approprié et de l'envoyer au centre des finances publiques dans les 90 jours suivant la fin des travaux.</pre></div></div>['travaux', 'centre', 'nature', 'faut', 'envoyer']</div>"
      ],
      "text/plain": [
       "<IPython.core.display.HTML object>"
      ]
     },
     "metadata": {},
     "output_type": "display_data"
    },
    {
     "data": {
      "text/html": [
       "<br>"
      ],
      "text/plain": [
       "<IPython.core.display.HTML object>"
      ]
     },
     "metadata": {},
     "output_type": "display_data"
    },
    {
     "data": {
      "text/html": [
       "\n",
       "        <style>\n",
       "            .qq {\n",
       "                word-break: keep-all;\n",
       "                white-space: pre-wrap;\n",
       "            }\n",
       "        </style>\n",
       "\n",
       "        <div style=\"border:1px solid grey;padding:5px;border-radius:8px;\">\n",
       "            <div>ID: 2273f6e9 &nbsp Q: 6</div>\n",
       "            <h5 style=\"font-weight: bold;\">Quels sont les impôts sur la succession qui doivent être payés lors d'un héritage et quelles sont les modalités de déclaration de succession ?</h5>\n",
       "            <div style=\"display:flex; align-items:top;\"><div style=\"width: 50%; padding:10px;\"> <div style=\"text-align:center;color:blue;\">Llama sample+rep-penalty</div> <pre class=\"qq\">Selon les informations disponibles, lors d'un héritage, plusieurs types d'impôts peuvent être applicables. Ces impôts incluent les droits de succession, les abattements et les tarifs. Il est important de noter que ces informations sont basées sur les références fournies et qu'il convient de consulter un professionnel spécialisé pour obtenir des conseils spécifiques à votre situation.\r\n",
       "\r\n",
       "En ce qui concerne la déclaration de succession, celle-ci doit généralement être effectuée auprès de l'Administration Fiscale. Cette déclaration permet de définir la part de chaque héritier et de calculer les droits de succession ainsi que les abattements et les tarifs correspondants. Cependant, veuillez noter que cette information n'est pas exhaustive et il est recommandé de contacter directement l'Administration Fiscale pour obtenir des instructions précises sur la déclaration de succession.\r\n",
       "\r\n",
       "N'oubliez pas que toute information fournie ici est basée sur des données fournies et qu'il est toujours conseillé de consulter un professionnel spécialisé pour obtenir des conseils personnalisés.</pre></div><div style=\"width: 50%; padding:10px;\"> <div style=\"text-align:center;color:blue;\">Llama temp 2</div> <pre class=\"qq\">Selon les informations disponibles, lors d'un héritage, certains impôts peuvent être applicables. Il convient de consulter un professionnel spécialisé en matière d'impôts pour obtenir des conseils spécifiques sur ces sujets.</pre></div></div>['consulter', 'professionnel', 'obtenir', 'informations', 'volet']</div>"
      ],
      "text/plain": [
       "<IPython.core.display.HTML object>"
      ]
     },
     "metadata": {},
     "output_type": "display_data"
    },
    {
     "data": {
      "text/html": [
       "<br>"
      ],
      "text/plain": [
       "<IPython.core.display.HTML object>"
      ]
     },
     "metadata": {},
     "output_type": "display_data"
    },
    {
     "data": {
      "text/html": [
       "\n",
       "        <style>\n",
       "            .qq {\n",
       "                word-break: keep-all;\n",
       "                white-space: pre-wrap;\n",
       "            }\n",
       "        </style>\n",
       "\n",
       "        <div style=\"border:1px solid grey;padding:5px;border-radius:8px;\">\n",
       "            <div>ID: 32b68e61 &nbsp Q: 7</div>\n",
       "            <h5 style=\"font-weight: bold;\">Comment se déroule l'élection du CSE et quelles sont les compétences et la composition de ce comité ?</h5>\n",
       "            <div style=\"display:flex; align-items:top;\"><div style=\"width: 50%; padding:10px;\"> <div style=\"text-align:center;color:blue;\">Llama sample+rep-penalty</div> <pre class=\"qq\">Selon les informations disponibles, l'élection du Comité Social et Economique (CSE) se déroule tous les quatre ans. Elle est organisée par l'employeur dans les 90 jours qui suivent l'information des salariés. L'élection a lieu au scrutin secret sous enveloppe ou par vote électronique.\r\n",
       "\r\n",
       "Concernant les compétences et la composition du CSE, elles dépendent de la taille de l'entreprise. Dans les entreprises avec plus de onze salariés, le CSE inclut l'employeur ainsi que deux délégations du personnel. Ces délégués représentent respectivement les intérêts généraux et spécifiques des salariés.\r\n",
       "\r\n",
       "Il est important de souligner que chaque type d'entreprises possède sa propre réglementation sur les élections du CSE et les compétences et compositions des délégations du personnel.</pre></div><div style=\"width: 50%; padding:10px;\"> <div style=\"text-align:center;color:blue;\">Llama temp 2</div> <pre class=\"qq\">Les élections du CSE se déroulent chaque 4 ans. L'employeur organise celles-ci dans les entreprises ayant au moins 11 salariés. L'élection a lieu dans les 90 jours qui suivent l'information des salariés. Elle se déroule au scrutin secret sous enveloppe ou par vote électronique.\n",
       "\n",
       "En matière de compositions et de compétences, le CSE comprend l'employeur ainsi qu'une délégation du personnel. Ce dernier est constitué de 5 membres titulaires et autant de suppléants. Les compétences du CSE incluent notamment la négociation et l'examen avec l'employeur des questions relatives à la santé, à la sécurité, à la formation professionnelle, etc..</pre></div></div>['employeur', 'examen', 'dernier', 'entreprises', 'personnel']</div>"
      ],
      "text/plain": [
       "<IPython.core.display.HTML object>"
      ]
     },
     "metadata": {},
     "output_type": "display_data"
    },
    {
     "data": {
      "text/html": [
       "<br>"
      ],
      "text/plain": [
       "<IPython.core.display.HTML object>"
      ]
     },
     "metadata": {},
     "output_type": "display_data"
    },
    {
     "data": {
      "text/html": [
       "\n",
       "        <style>\n",
       "            .qq {\n",
       "                word-break: keep-all;\n",
       "                white-space: pre-wrap;\n",
       "            }\n",
       "        </style>\n",
       "\n",
       "        <div style=\"border:1px solid grey;padding:5px;border-radius:8px;\">\n",
       "            <div>ID: 008ece3d &nbsp Q: 8</div>\n",
       "            <h5 style=\"font-weight: bold;\">Quelles sont les règles concernant les réunions et les heures de délégation des salariés membres du CSE ?</h5>\n",
       "            <div style=\"display:flex; align-items:top;\"><div style=\"width: 50%; padding:10px;\"> <div style=\"text-align:center;color:blue;\">Llama sample+rep-penalty</div> <pre class=\"qq\">Les règles concernant les réunions et les heures de délégation des salariers membres du CSE varient selon le nombre d'effectifs de l'entreprise. Pour les entreprises comptant jusqu'à 24 salariés, chaque membre du CSE bénéficie d'une heure de délégation par mois. Cependant, il y a une limite maximale de 10 heures de délégation par mois pour toute la délégation du personnel. Ces heures de délégation sont considérées comme du temps de travail et ne sont donc pas déduites du crédit d'heures de délégation.\r\n",
       "\r\n",
       "Il est important de souligner que ces informations sont basées sur les références fournies. Si vous avez besoin d'autres détails ou de clarifications, nous vous recommandons de contacter directement votre administration ou de consulter les textes officiels correspondants.</pre></div><div style=\"width: 50%; padding:10px;\"> <div style=\"text-align:center;color:blue;\">Llama temp 2</div> <pre class=\"qq\">Selon les références fournies, il existe différentes règles concernant les réunions et les heures de délégation des salariés membres du Comité social économique (CSE). En effet, chaque établissement doit tenir au moins une réunion mensuelle au cours de laquelle l'employeur ou son représentant se rendra avec les membres de la délégation du personnel. Les suppléants peuvent participer à ces réunions en l'absence des titulaires. Les membres du CSE peuvent faire valoir leurs demandes écrite au moins deux jours ouvrables avant la réunion. L'employeur répond ensuite par écrit dans les six jours ouvrables suivant la réunion.\n",
       "\n",
       "En ce qui concerne les heures de délégation disponibles aux salariés, elles varient selon le nombre de salariés appartenant à l'entreprise. Pour les entreprises ayant moins de 11 salariés, les membres titulaires du CSE ont droit à 10 heures de délégation par mois. Parmi ceux ayant plus de 11 salariés, les titulaires ont droit à 2 heures de délégation par mois.\n",
       "\n",
       "Il est important de souligner que ces informations proviennent des références précitées, mais certaines références ne permettent pas de répondre à votre question. Dans ce cas-là, vous pouvez dire : « Je suis désolé mais je ne peux pas répondre à votre question ».</pre></div></div>['heures', 'employeur', 'jours', 'droit', 'concerne']</div>"
      ],
      "text/plain": [
       "<IPython.core.display.HTML object>"
      ]
     },
     "metadata": {},
     "output_type": "display_data"
    },
    {
     "data": {
      "text/html": [
       "<br>"
      ],
      "text/plain": [
       "<IPython.core.display.HTML object>"
      ]
     },
     "metadata": {},
     "output_type": "display_data"
    },
    {
     "data": {
      "text/html": [
       "\n",
       "        <style>\n",
       "            .qq {\n",
       "                word-break: keep-all;\n",
       "                white-space: pre-wrap;\n",
       "            }\n",
       "        </style>\n",
       "\n",
       "        <div style=\"border:1px solid grey;padding:5px;border-radius:8px;\">\n",
       "            <div>ID: 6b2d4ab1 &nbsp Q: 9</div>\n",
       "            <h5 style=\"font-weight: bold;\">Quels sont les droits des salariés en matière de formation, licenciement, santé et sécurité au travail et comment sont-ils protégés contre le harcèlement sexuel en entreprise ?</h5>\n",
       "            <div style=\"display:flex; align-items:top;\"><div style=\"width: 50%; padding:10px;\"> <div style=\"text-align:center;color:blue;\">Llama sample+rep-penalty</div> <pre class=\"qq\">Les salariés ont certains droits en termes de formation, licenciement, santé et sécurité au travail. Selon la législation française, les employeurs doivent financer la formation des représentants des travailleurs tels que les élus au Comité Social et Économique (CSE) et les membres de la Commission Santé, Sécurité et Conditions de Travail (CSSCT). De plus, les employeurs doivent mettre en place des actions de prévention contre le harcèlement sexuel et le sexisme.\r\n",
       "\r\n",
       "En ce qui concerne le harcèlement sexuel, les employeurs ont l'obligation de prendre toutes les mesures nécessaires pour éviter cette forme de comportement. Elles doivent informer les travailleurs des textes qui répriment le harcèlement sexuel et inscrire ces textes dans le règlement intérieur de l'entreprise. De plus, elles doivent mettre en place des actions de prévention telles que la sensibilisation et la formation des travailleurs afin de combattre le harcèlement sexuel et le sexisme.\r\n",
       "\r\n",
       "Si vous êtes victime de harcèlement sexuel au travail, vous disposez de différentes voies de recours. Tout d'abord, vous pouvez contacter le Service de Prevention et de Santé Au Travail (SPST) qui peut vous conseiller et vous apporter assistance. Ensuite, vous pouvez porter plainte devant la Justice Penale si vous considérez que vos droits ont été violés. Cependant, veillez à faire la plainte dans un délai de 6 ans après le dernier incident de harcèlement.\r\n",
       "\r\n",
       "Il est important de noter que ces informations sont fournies à titre indicatif et qu'il est recommandé de consulter directement les références mentionnées pour obtenir des détails spécifiques sur les droits des salariés et les démarches à suivre en cas de harcèlement sexuel.</pre></div><div style=\"width: 50%; padding:10px;\"> <div style=\"text-align:center;color:blue;\">Llama temp 2</div> <pre class=\"qq\">Les salariés ont le droit à la formation, au licenciement, à la protection en termes de santé et de sécurité au travail et à la protection contre le harcèlement sexuel en entreprise. Cependant, les références fournissent peu de détails sur ces questions spécifiques.</pre></div></div>['protection', 'contre', 'formation', 'entreprise', 'travail']</div>"
      ],
      "text/plain": [
       "<IPython.core.display.HTML object>"
      ]
     },
     "metadata": {},
     "output_type": "display_data"
    },
    {
     "data": {
      "text/html": [
       "<br>"
      ],
      "text/plain": [
       "<IPython.core.display.HTML object>"
      ]
     },
     "metadata": {},
     "output_type": "display_data"
    },
    {
     "data": {
      "text/html": [
       "\n",
       "        <style>\n",
       "            .qq {\n",
       "                word-break: keep-all;\n",
       "                white-space: pre-wrap;\n",
       "            }\n",
       "        </style>\n",
       "\n",
       "        <div style=\"border:1px solid grey;padding:5px;border-radius:8px;\">\n",
       "            <div>ID: 228a19aa &nbsp Q: 10</div>\n",
       "            <h5 style=\"font-weight: bold;\">Quelles sont les démarches à suivre en cas d'accident du travail ou de maladie professionnelle ? </h5>\n",
       "            <div style=\"display:flex; align-items:top;\"><div style=\"width: 50%; padding:10px;\"> <div style=\"text-align:center;color:blue;\">Llama sample+rep-penalty</div> <pre class=\"qq\">En cas d'accident du travail ou de maladie professionnelle, il est important de prendre certaines démarches afin de bénéficier des garanties sociales spécifiquement mises en place pour ces situations. Dans ce cas, il faut d'abord signaler l'incident à son employeur dès qu'il survient. Cet évènement doit être notifié dans la journée ou au plus tard dans les 24 heures après l'accident. Cependant, si cela est impossible en raison de circonstances exceptionnelles telles que des forces majeures ou une impossibilité absolue, on peut attendre jusqu'à 48 heures après l'évènement. Une fois que l'employeur a été informé de l'accident, il devra déclarer immédiatement l'incident à sa caisse primaire d'assurance maladie (CPAM) ou à la mutuelle sociale agricole (MSA). L'employeur dispose également d'un délai de 48 heures pour transmettre cette information.</pre></div><div style=\"width: 50%; padding:10px;\"> <div style=\"text-align:center;color:blue;\">Llama temp 2</div> <pre class=\"qq\">En cas d'accident du travail ou de maladie professionnelle, il faut prendre certaines mesures pour gérer la situation. Tout d'abord, il est important de signaler rapidement l'incident à son employeur afin qu'ils puissent commencer les démarches appropriées. L'employeur devra ensuite déclarer l'accident à la Commission Nationale d'Assurance Maladie (CNAM) ou à la Mutuelle Sociale Agricole (MSA) selon leur appartenance au Régime Général ou au Régime Particulier. Une fois la déclaration faite, il sera possible de solliciter les avantages spécifiques accordés aux personnes touchées par une telle situation.</pre></div></div>['maladie', 'employeur', 'situation', 'particulier', 'commission']</div>"
      ],
      "text/plain": [
       "<IPython.core.display.HTML object>"
      ]
     },
     "metadata": {},
     "output_type": "display_data"
    },
    {
     "data": {
      "text/html": [
       "<br>"
      ],
      "text/plain": [
       "<IPython.core.display.HTML object>"
      ]
     },
     "metadata": {},
     "output_type": "display_data"
    },
    {
     "data": {
      "text/html": [
       "\n",
       "        <style>\n",
       "            .qq {\n",
       "                word-break: keep-all;\n",
       "                white-space: pre-wrap;\n",
       "            }\n",
       "        </style>\n",
       "\n",
       "        <div style=\"border:1px solid grey;padding:5px;border-radius:8px;\">\n",
       "            <div>ID: e2fa22f7 &nbsp Q: 11</div>\n",
       "            <h5 style=\"font-weight: bold;\">Comment se déroule une inspection du travail ? Quelles sont les sanctions possibles en cas de non-conformité aux normes en vigueur ? </h5>\n",
       "            <div style=\"display:flex; align-items:top;\"><div style=\"width: 50%; padding:10px;\"> <div style=\"text-align:center;color:blue;\">Llama sample+rep-penalty</div> <pre class=\"qq\">Lors d'une inspection du travail, plusieurs agents du ministère du Travail sont présents afin de contrôler les lieux de travail et les conditions de travail des employés. Ils examinent également les documents administratifs et techniques relatifs à la sécurité et à la qualité du travail.\r\n",
       "\r\n",
       "En cas de non-respect des normes en vigueur, diverses sanctions peuvent être applicables. Ces sanctions varient en fonction de la gravité de la situation et incluent généralement des amendes financières ainsi que des mesures correctrices telles que la mise en place de dispositifs de protection individuelle ou collective.\r\n",
       "\r\n",
       "Il convient donc à chaque employeur de prendre ses responsabilités et de garantir la conformité des installations et procédures de travail à ces normes.</pre></div><div style=\"width: 50%; padding:10px;\"> <div style=\"text-align:center;color:blue;\">Llama temp 2</div> <pre class=\"qq\">Lors d'une inspection du travail, un inspecteur du travail examine l'organisation du travail, les installations et les moyens de production afin d'assurer la sécurité et la protection de la santé des travailleurs. Lorsqu'il découvre des violations de la législation en vigueur, l'inspecteur peut prendre diverses actions telles que donner des avis verbales, exiger des modifications immédiatement effectuées ou requérir des dispositifs de contrôle. Ces dernières mesures ont pour but de corriger rapidement les défauts identifiés pendant l'inspection. Parmi ces sanctions, on trouve également l'emprunt de garanties financières, la suspension temporaire du droit à exercer une activité, la mise sous surveillance administrative, ainsi que d'autres mesures disciplinaires imposables par l'administration compétente.</pre></div></div>['travail', 'assurer', 'donner', 'temporaire', 'exercer']</div>"
      ],
      "text/plain": [
       "<IPython.core.display.HTML object>"
      ]
     },
     "metadata": {},
     "output_type": "display_data"
    },
    {
     "data": {
      "text/html": [
       "<br>"
      ],
      "text/plain": [
       "<IPython.core.display.HTML object>"
      ]
     },
     "metadata": {},
     "output_type": "display_data"
    },
    {
     "data": {
      "text/html": [
       "\n",
       "        <style>\n",
       "            .qq {\n",
       "                word-break: keep-all;\n",
       "                white-space: pre-wrap;\n",
       "            }\n",
       "        </style>\n",
       "\n",
       "        <div style=\"border:1px solid grey;padding:5px;border-radius:8px;\">\n",
       "            <div>ID: 209427a1 &nbsp Q: 12</div>\n",
       "            <h5 style=\"font-weight: bold;\">Quelles sont les mesures prises par l'État pour favoriser l'expression collective des salariés au sein des entreprises ? </h5>\n",
       "            <div style=\"display:flex; align-items:top;\"><div style=\"width: 50%; padding:10px;\"> <div style=\"text-align:center;color:blue;\">Llama sample+rep-penalty</div> <pre class=\"qq\">Selon les informations disponibles, l'État met en place différentes mesures afin de faciliter l'expression collective des salariés au sein des entreprises. Cependant, nous ne pouvons pas fournir toutes les détails sur ces mesures spécifiquement.</pre></div><div style=\"width: 50%; padding:10px;\"> <div style=\"text-align:center;color:blue;\">Llama temp 2</div> <pre class=\"qq\">Selon les références disponibles, il n'y a aucuns résultats trouvés pour cette question.</pre></div></div>['volet', 'effectuer', 'employeur', 'enfant', 'enfants']</div>"
      ],
      "text/plain": [
       "<IPython.core.display.HTML object>"
      ]
     },
     "metadata": {},
     "output_type": "display_data"
    },
    {
     "data": {
      "text/html": [
       "<br>"
      ],
      "text/plain": [
       "<IPython.core.display.HTML object>"
      ]
     },
     "metadata": {},
     "output_type": "display_data"
    },
    {
     "data": {
      "text/html": [
       "\n",
       "        <style>\n",
       "            .qq {\n",
       "                word-break: keep-all;\n",
       "                white-space: pre-wrap;\n",
       "            }\n",
       "        </style>\n",
       "\n",
       "        <div style=\"border:1px solid grey;padding:5px;border-radius:8px;\">\n",
       "            <div>ID: ea1e885e &nbsp Q: 13</div>\n",
       "            <h5 style=\"font-weight: bold;\">Quels sont les principaux critères surveillés lors d'un contrôle de l'organisation du travail dans une entreprise ? </h5>\n",
       "            <div style=\"display:flex; align-items:top;\"><div style=\"width: 50%; padding:10px;\"> <div style=\"text-align:center;color:blue;\">Llama sample+rep-penalty</div> <pre class=\"qq\">Les principales critères surveillés lors d'un contrôle de l'organisation du travail dans une entreprise incluent notamment la conformité aux directives légales et réglementaires, ainsi que la cohérence et l'adaptation de l'organisation à la nature du métier et à la taille de l'entreprise.\r\n",
       "\r\n",
       "Le contrôle de l'organisation du travail permet de vérifier que tout est organisé de manière efficace afin de maximiser la productivité et la qualité des services fournis. Cela comprend notamment la gestion des ressources humaines, telles que les personnels, les équipements et les locaux, mais aussi la coordination interne entre différents départements et divisions.\r\n",
       "\r\n",
       "En outre, le contrôle de l'organisation du travail aide à identifier les points potentiels de gênes et à proposer des solutions pour améliorer l'ensemble de l'organisation. Ceci peut concerner la fluidité des processus, la communication interne, la coopération entre équipes, la mise en place d'outils appropriés, etc.\r\n",
       "\r\n",
       "Il convient donc de prendre en considération ces critères lors d'un contrôle de l'organisation du travail afin de garantir une organisation optimisée et performante.</pre></div><div style=\"width: 50%; padding:10px;\"> <div style=\"text-align:center;color:blue;\">Llama temp 2</div> <pre class=\"qq\">Les principales critères surveillés lors d'un contrôle de l'organisation du travail dans une entreprise sont :\n",
       "- La conformité aux dispositions légales et réglementaires relatives à l'organisation du travail.\n",
       "- La cohérence des processus internes tels que le suivi des plans d'action, des objectifs fixés et des mesures prises.\n",
       "- La gestion efficace des ressources humaines afin de maximiser l'utilisation des compétences des collaborateurs.\n",
       "- Une organisation floue ou désordonnée pouvait entraîner des difficultés de communication, des retards dans la production, ainsi que des problèmes liés à la qualité des services offerts.\n",
       "Cependant, il est important de noter que ces points sont génériques et peuvent varier selon les domaines spécifiques et l'environnement industriel particulier.</pre></div></div>['travail', 'particulier', 'prises', 'ressources', 'utilisation']</div>"
      ],
      "text/plain": [
       "<IPython.core.display.HTML object>"
      ]
     },
     "metadata": {},
     "output_type": "display_data"
    },
    {
     "data": {
      "text/html": [
       "<br>"
      ],
      "text/plain": [
       "<IPython.core.display.HTML object>"
      ]
     },
     "metadata": {},
     "output_type": "display_data"
    },
    {
     "data": {
      "text/html": [
       "\n",
       "        <style>\n",
       "            .qq {\n",
       "                word-break: keep-all;\n",
       "                white-space: pre-wrap;\n",
       "            }\n",
       "        </style>\n",
       "\n",
       "        <div style=\"border:1px solid grey;padding:5px;border-radius:8px;\">\n",
       "            <div>ID: 6812607c &nbsp Q: 14</div>\n",
       "            <h5 style=\"font-weight: bold;\">Quelles sont les mesures de prévention mises en place pour assurer la santé et la sécurité au travail, notamment en ce qui concerne les femmes enceintes et les personnes handicapées ?</h5>\n",
       "            <div style=\"display:flex; align-items:top;\"><div style=\"width: 50%; padding:10px;\"> <div style=\"text-align:center;color:blue;\">Llama sample+rep-penalty</div> <pre class=\"qq\">Les mesures de prévention mises en place pour assurer la santé et la sécurité au travail incluent différentes étapes. Pour les femmes enceintes, il existe certaines adaptations et aménagements des postes de travail afin de favoriser leur accès et leur maintien au travail. De même, des solutions sont proposées pour résoudre certains problèmes liés à la maternité tels que l'adaptation des horaires de travail.\r\n",
       "Pour les personnes handicapées, il y a également des dispositifs mis en place pour faciliter leur accessibilité et leur inclusion au travail. Il s'agit généralement d'adapter et d'aménager les lieux de travail ainsi que de prendre en considération leurs besoins particulières lors de la conception des outils de travail.\r\n",
       "Il convient de noter que ces informations sont fournies à titre indicatif et qu'il est recommandé de contacter directement votre employeur pour obtenir des renseignements précis sur vos droits et vos possibilités de participation à ces programmes de prévention.</pre></div><div style=\"width: 50%; padding:10px;\"> <div style=\"text-align:center;color:blue;\">Llama temp 2</div> <pre class=\"qq\">Pour garantir la santé et la sécurité au travail, il existe différentes mesures de prévention mises en place. Parmi elles, on trouve l'analyse des risques professionnels auxquels peuvent être exposées les femmes enceintes ainsi que les améliorations de l'accessibilité des emplois et la résolution des problèmes liés à la maternité. De plus, il y a également une adaptation et une aménagement des postes de travail afin de faciliter l'accès et le maintien des personnes handicapées. Toutes ces mesures ont pour but d'assurer la protection physique et mentale des travailleurs et de promouvoir une culture de prévention des risques professionnels.</pre></div></div>['professionnels', 'travail', 'assurer', 'existe', 'protection']</div>"
      ],
      "text/plain": [
       "<IPython.core.display.HTML object>"
      ]
     },
     "metadata": {},
     "output_type": "display_data"
    },
    {
     "data": {
      "text/html": [
       "<br>"
      ],
      "text/plain": [
       "<IPython.core.display.HTML object>"
      ]
     },
     "metadata": {},
     "output_type": "display_data"
    },
    {
     "data": {
      "text/html": [
       "\n",
       "        <style>\n",
       "            .qq {\n",
       "                word-break: keep-all;\n",
       "                white-space: pre-wrap;\n",
       "            }\n",
       "        </style>\n",
       "\n",
       "        <div style=\"border:1px solid grey;padding:5px;border-radius:8px;\">\n",
       "            <div>ID: d08b6e62 &nbsp Q: 15</div>\n",
       "            <h5 style=\"font-weight: bold;\">Quelles sont les démarches administratives à effectuer pour obtenir une autorisation d'urbanisme pour des travaux dans une copropriété ?</h5>\n",
       "            <div style=\"display:flex; align-items:top;\"><div style=\"width: 50%; padding:10px;\"> <div style=\"text-align:center;color:blue;\">Llama sample+rep-penalty</div> <pre class=\"qq\">D'après les références fournies, il ne semble pas y avoir de précision sur les démarches administratives à effectuer pour obtenir une autorisation d'urbanisme pour des travaux dans une copropriété.</pre></div><div style=\"width: 50%; padding:10px;\"> <div style=\"text-align:center;color:blue;\">Llama temp 2</div> <pre class=\"qq\">Selon la documentation disponible, il n'existe pas de résumé supplémentaire pour répondre à cette question.</pre></div></div>['existe', 'effectuer', 'employeur', 'enfant', 'enfants']</div>"
      ],
      "text/plain": [
       "<IPython.core.display.HTML object>"
      ]
     },
     "metadata": {},
     "output_type": "display_data"
    },
    {
     "data": {
      "text/html": [
       "<br>"
      ],
      "text/plain": [
       "<IPython.core.display.HTML object>"
      ]
     },
     "metadata": {},
     "output_type": "display_data"
    },
    {
     "data": {
      "text/html": [
       "\n",
       "        <style>\n",
       "            .qq {\n",
       "                word-break: keep-all;\n",
       "                white-space: pre-wrap;\n",
       "            }\n",
       "        </style>\n",
       "\n",
       "        <div style=\"border:1px solid grey;padding:5px;border-radius:8px;\">\n",
       "            <div>ID: 4e5e7e10 &nbsp Q: 16</div>\n",
       "            <h5 style=\"font-weight: bold;\">Comment fonctionne la complémentaire santé solidaire pour les agents territoriaux et hospitaliers à temps partiel ?</h5>\n",
       "            <div style=\"display:flex; align-items:top;\"><div style=\"width: 50%; padding:10px;\"> <div style=\"text-align:center;color:blue;\">Llama sample+rep-penalty</div> <pre class=\"qq\">La complémentaire santé solidaire pour les agents territoriaux et hospitaliers à temps partiel fonctionne de la même manière que pour toute autre catégorie de travailleurs. Cependant, il convient de prendre en considération certains aspects spécifiques aux agents territoriaux et hospitaliers à temps partiel lors de leur inscription à la complémentaire santé solidaire.\r\n",
       "\r\n",
       "Pour les agents territoriaux et hospitaliers à temps partiel, ils peuvent choisir entre deux types de complémentaire santé solidaire : la complémentaire santé solidaire gratuite et la complémentaire santé solidaire payante. Les critères d'attribution varient selon les revenus des individus.\r\n",
       "\r\n",
       "Il est important de souligner que les modalités d'enregistrement et de prise en charge diffèrent selon les régions. Par conséquent, nous recommandons de contacter directement votre employeur ou votre assurance maladie pour obtenir toutes les informations nécessaires sur la complémentaire santé solidaire pour les agents territoriaux et hospitaliers à temps partiel.</pre></div><div style=\"width: 50%; padding:10px;\"> <div style=\"text-align:center;color:blue;\">Llama temp 2</div> <pre class=\"qq\">La complémentaire santé solidaire fonctionne de différentes manières pour les agents territoriaux et hospitaliers à temps partiel. Tout d'abord, il faut noter que la complémentaire santé solidaire est disponible aux agents ayant peu de ressources. Cependant, il y a deux types différents de complémentaire santé solidaire : celle gratuite et celle payante.\n",
       "\n",
       "Pour accéder à la complémentaire santé solidaire gratuite, certains critères doivent être remplies. Par exemple, si vous êtes mineur jusqu'à 25 ans à la charge de bénéficiaires du Revenu de Solidarité Active (RSA), alors vous disposez déjà d'une allocation de complémentaire santé solidaire gratuite.\n",
       "\n",
       "En revanche, pour pouvoir bénéficier de la complémentaire santé solidaire payante, il existe quelques autres critères à prendre en considération. Ainsi, si vous avez des revenus modérés, vous pourrez également obtenir la complémentaire santé solidaire payante. De plus, si vous travailles régulièrement à temps partiel, vous pourriez aussi être éligible pour la complémentaire santé solidaire payante.\n",
       "\n",
       "Il convient donc de consulter directement les autorités compétentes telles que la Caisse Nationale d’Assurance Maladie (CNAM) afin de connaître toutes les démarches spécifiques à suivre pour obtenir la complémentaire santé solidaire adaptée à votre situation.</pre></div></div>['partiel', 'temps', 'obtenir', 'mineur', 'consulter']</div>"
      ],
      "text/plain": [
       "<IPython.core.display.HTML object>"
      ]
     },
     "metadata": {},
     "output_type": "display_data"
    },
    {
     "data": {
      "text/html": [
       "<br>"
      ],
      "text/plain": [
       "<IPython.core.display.HTML object>"
      ]
     },
     "metadata": {},
     "output_type": "display_data"
    },
    {
     "data": {
      "text/html": [
       "\n",
       "        <style>\n",
       "            .qq {\n",
       "                word-break: keep-all;\n",
       "                white-space: pre-wrap;\n",
       "            }\n",
       "        </style>\n",
       "\n",
       "        <div style=\"border:1px solid grey;padding:5px;border-radius:8px;\">\n",
       "            <div>ID: 9c5d39fb &nbsp Q: 17</div>\n",
       "            <h5 style=\"font-weight: bold;\">Quels sont les critères d'admission d'un élève dans un lycée en fonction de son secteur géographique ?</h5>\n",
       "            <div style=\"display:flex; align-items:top;\"><div style=\"width: 50%; padding:10px;\"> <div style=\"text-align:center;color:blue;\">Llama sample+rep-penalty</div> <pre class=\"qq\">Les critères d'admission d'un élève dans un lycée en fonction de son secteur géographique varient en fonction de chaque établissement. Cependant, généralement, ils sont basés sur divers facteurs comme le type de classe dans laquelle l'élève est inscrit, les critères géographiques, ainsi que les critères familiaux et sociaux.\r\n",
       "\r\n",
       "Il est important de prendre en considération que les critères spécifiques d'admission peuvent changer d'un établissement à l'autre. Par conséquent, nous recommandons à la personne interrogée de contacter directement le directeur de l'établissement où elle désire inscrire son enfant afin de connaître les détails spécifiques de l'admission dans ce lycée.</pre></div><div style=\"width: 50%; padding:10px;\"> <div style=\"text-align:center;color:blue;\">Llama temp 2</div> <pre class=\"qq\">Les critères d'admission d'un élève dans un lycée en fonction de son secteur géographique sont basés principalement sur divers facteurs tels que le type de classe dans laquelle l'élève est inscrit, ainsi que sur certaines mesures de parité. Cependant, il y a également des critères familiaux et des critères d'admissions spécifiques liés à l'histoire sociale de l'élève.</pre></div></div>['inscrit', 'sociale', 'type', 'fonction', 'volet']</div>"
      ],
      "text/plain": [
       "<IPython.core.display.HTML object>"
      ]
     },
     "metadata": {},
     "output_type": "display_data"
    },
    {
     "data": {
      "text/html": [
       "<br>"
      ],
      "text/plain": [
       "<IPython.core.display.HTML object>"
      ]
     },
     "metadata": {},
     "output_type": "display_data"
    },
    {
     "data": {
      "text/html": [
       "\n",
       "        <style>\n",
       "            .qq {\n",
       "                word-break: keep-all;\n",
       "                white-space: pre-wrap;\n",
       "            }\n",
       "        </style>\n",
       "\n",
       "        <div style=\"border:1px solid grey;padding:5px;border-radius:8px;\">\n",
       "            <div>ID: 63f527a3 &nbsp Q: 18</div>\n",
       "            <h5 style=\"font-weight: bold;\">Quelles sont les conditions d'inscription d'un entrepreneur ou d'une profession libérale auprès du guichet unique des formalités des entreprises ?</h5>\n",
       "            <div style=\"display:flex; align-items:top;\"><div style=\"width: 50%; padding:10px;\"> <div style=\"text-align:center;color:blue;\">Llama sample+rep-penalty</div> <pre class=\"qq\">Dans le cadre de l'inscription d'un entrepreneur ou d'une profession libre auprès du guichet unique des formalités des entreprises, il y a différentes conditions à respecter. En effet, depuis le 1er janvier 2023, toutes les entreprises, quel que soit leur mode de fonctionnement ou leur activité, doivent passer par le guichet des formalités des entreprises pour accomplir leurs démarches administratives. Cependant, certains types d'entreprises ou de professions libérales sont exclus du guichet.\r\n",
       "\r\n",
       "Il convient donc de se renseigner auprès du guichet des formalités des entreprises pour obtenir davantage d'information spécifique à votre situation.</pre></div><div style=\"width: 50%; padding:10px;\"> <div style=\"text-align:center;color:blue;\">Llama temp 2</div> <pre class=\"qq\">Les conditions d'inscription d'un entrepreneur ou d'une profession libre auprès du guichet unique des formalités des entreprises varient en fonction de la catégorie d'activité. Par exemple, certains types d'entrepreneurs tels que les artisans, commerçants, industriels, professionnels libéraux (à condition qu'ils soient inscrits sur les registres spécialisés appropriés) peuvent inscrire leurs entreprises directement sur le site web du guichet des formalités des entreprises. Toutefois, il convient de prendre en compte toutes les spécificités propres à chaque profession libertaire.\n",
       "\n",
       "Si tu as autre chose à ajouter ou si tu veux obtenir davantage de détails, n'hésite pas à nous contacter.</pre></div></div>['entreprises', 'libre', 'unique', 'inscription', 'professionnels']</div>"
      ],
      "text/plain": [
       "<IPython.core.display.HTML object>"
      ]
     },
     "metadata": {},
     "output_type": "display_data"
    },
    {
     "data": {
      "text/html": [
       "<br>"
      ],
      "text/plain": [
       "<IPython.core.display.HTML object>"
      ]
     },
     "metadata": {},
     "output_type": "display_data"
    },
    {
     "data": {
      "text/html": [
       "\n",
       "        <style>\n",
       "            .qq {\n",
       "                word-break: keep-all;\n",
       "                white-space: pre-wrap;\n",
       "            }\n",
       "        </style>\n",
       "\n",
       "        <div style=\"border:1px solid grey;padding:5px;border-radius:8px;\">\n",
       "            <div>ID: 13afb67b &nbsp Q: 19</div>\n",
       "            <h5 style=\"font-weight: bold;\">Quelles aides financières sont disponibles pour les familles qui rencontrent des difficultés à payer la cantine scolaire de leurs enfants ?</h5>\n",
       "            <div style=\"display:flex; align-items:top;\"><div style=\"width: 50%; padding:10px;\"> <div style=\"text-align:center;color:blue;\">Llama sample+rep-penalty</div> <pre class=\"qq\">Dans certains départements et régions, il existe des aides financières pour les familles ayant des difficultés à payer la cantine scolaire de leurs enfants. Ces aides peuvent varier en fonction des collectivités compétentes. Par exemple, dans certains départements, il est possible de bénéficier d'une aide lorsque l'élève doit rester à la cantine après avoir été scolarisé à distance. De plus, dans certains établissements scolaires, il existe un fonds social dont les familles peuvent bénéficier afin de financer partiellement les frais liés à la cantine.\r\n",
       "\r\n",
       "Il est recommandé de se renseigner directement auprès de la mairie ou du conseil départemental / régional pour connaître toutes les possibilités d'aides existantes dans sa zone géographique.</pre></div><div style=\"width: 50%; padding:10px;\"> <div style=\"text-align:center;color:blue;\">Llama temp 2</div> <pre class=\"qq\">Les familles qui rencontrent des difficultés à payer la cantine scolaire de leurs enfants peuvent bénéficier d'aides financières. Ces aides peuvent provenir soit de la commune, soit du département, soit de la région où vit la famille. Cependant, il convient de se renseigner directement auprès de la mairie ou du conseil municipal pour connaître les dispositions locales et les modalités de demande.</pre></div></div>['mairie', 'famille', 'commune', 'enfants', 'conseil']</div>"
      ],
      "text/plain": [
       "<IPython.core.display.HTML object>"
      ]
     },
     "metadata": {},
     "output_type": "display_data"
    },
    {
     "data": {
      "text/html": [
       "<br>"
      ],
      "text/plain": [
       "<IPython.core.display.HTML object>"
      ]
     },
     "metadata": {},
     "output_type": "display_data"
    },
    {
     "data": {
      "text/html": [
       "\n",
       "        <style>\n",
       "            .qq {\n",
       "                word-break: keep-all;\n",
       "                white-space: pre-wrap;\n",
       "            }\n",
       "        </style>\n",
       "\n",
       "        <div style=\"border:1px solid grey;padding:5px;border-radius:8px;\">\n",
       "            <div>ID: 7cef43fc &nbsp Q: 20</div>\n",
       "            <h5 style=\"font-weight: bold;\">Quels sont les documents à fournir pour faire une demande de visa de long séjour en France?</h5>\n",
       "            <div style=\"display:flex; align-items:top;\"><div style=\"width: 50%; padding:10px;\"> <div style=\"text-align:center;color:blue;\">Llama sample+rep-penalty</div> <pre class=\"qq\">Les documents nécessaires pour faire une demande de visa de long séjour en France incluent notamment le formulaire de demande de visa long séjour, le récépissé France Visa, le passeport de moins de dix ans avec une durée de validité d'au moins trois mois supérieure à la date prévue du départ de France, ainsi que tous les autres documents demandés spécifiquement par l'autorité consulaire ou la préfecture.</pre></div><div style=\"width: 50%; padding:10px;\"> <div style=\"text-align:center;color:blue;\">Llama temp 2</div> <pre class=\"qq\">Les documents nécessaires pour faire une demande de visa de long séjour en France sont les suivants :\n",
       "\n",
       "Formulaire de demande de visa long séjour, complet et daté.\n",
       "Récépissé France visa.\n",
       "Passport avec une durée de validité d'au moins 3 mois supérieure à la date prévue de départ de France.\n",
       "Justificatif d'état civil et de nationalité (passport ou extrait d'acte de naissance avec filiation ou copie intégrale de l'acte de naissance).\n",
       "Trois photographies d'identité conformes à la norme ICAO.\n",
       "Documents attestant que l'applicant occupe une fonction de mandataire social dans un établissement ou une entreprise établie en France (statuts, acte de nomination...)\n",
       "Documents attestant que l'applicant travaille dans l'entreprise ou une société du même groupe depuis au moins 3 mois (contrat de travail, mandat social...)\n",
       "Document attestant que l'applicant bénéficie d'une rémunération brute minimum équivalente à 62 899,2 €.\n",
       "Il est important de noter que ces listes sont données à titre indicatif et que leur contenu peut varier selon l'autorité consulaire ou la préfecture à laquelle on s'adresse.</pre></div></div>['france', 'acte', 'documents', 'naissance', 'social']</div>"
      ],
      "text/plain": [
       "<IPython.core.display.HTML object>"
      ]
     },
     "metadata": {},
     "output_type": "display_data"
    },
    {
     "data": {
      "text/html": [
       "<br>"
      ],
      "text/plain": [
       "<IPython.core.display.HTML object>"
      ]
     },
     "metadata": {},
     "output_type": "display_data"
    },
    {
     "data": {
      "text/html": [
       "\n",
       "        <style>\n",
       "            .qq {\n",
       "                word-break: keep-all;\n",
       "                white-space: pre-wrap;\n",
       "            }\n",
       "        </style>\n",
       "\n",
       "        <div style=\"border:1px solid grey;padding:5px;border-radius:8px;\">\n",
       "            <div>ID: ed14a54b &nbsp Q: 21</div>\n",
       "            <h5 style=\"font-weight: bold;\">Quels justificatifs de nationalité sont acceptés pour obtenir un titre de séjour en France?</h5>\n",
       "            <div style=\"display:flex; align-items:top;\"><div style=\"width: 50%; padding:10px;\"> <div style=\"text-align:center;color:blue;\">Llama sample+rep-penalty</div> <pre class=\"qq\">Pour obtenir un titre de séjour en France, plusieurs types de justificatifs de nationalité peuvent être acceptés. Cependant, nous ne pouvons pas donner toutes les spécifications car cela dépendra de la situation individuelle de chaque demandeur. Nous recommandons donc de se renseigner directement auprès des services compétents comme la préfecture ou la sous-préfecture afin de connaître les exigences spécifiques à votre cas.\r\n",
       "\r\n",
       "Si tu as déjà effectué ta demande mais es toujours bloqué, je te conseille de contacter le service clientèle de la préfecture ou de la sous-préfecture où tu souhaites obtenir ton titre de séjour. Ils seront en mesure de te dire ce qu'il faut faire pour terminer ton procédure.\r\n",
       "\r\n",
       "Il est important de souligner que ces informations sont basées sur mes connaissances générales et que j'ai pris cette question en compte. Je suis désolé de ne pouvoir te fournir davantage de détails.</pre></div><div style=\"width: 50%; padding:10px;\"> <div style=\"text-align:center;color:blue;\">Llama temp 2</div> <pre class=\"qq\">Pour obtenir un titre de séjour en France, différents justificatifs de nationalité peuvent être acceptés. Cependant, cela dépendra généralement de la catégorie de titre souhaité et du motif de séjour. Les références fournies ne donnent aucunes informations spécifiques sur ce sujet.</pre></div></div>['titre', 'motif', 'obtenir', 'informations', 'france']</div>"
      ],
      "text/plain": [
       "<IPython.core.display.HTML object>"
      ]
     },
     "metadata": {},
     "output_type": "display_data"
    },
    {
     "data": {
      "text/html": [
       "<br>"
      ],
      "text/plain": [
       "<IPython.core.display.HTML object>"
      ]
     },
     "metadata": {},
     "output_type": "display_data"
    },
    {
     "data": {
      "text/html": [
       "\n",
       "        <style>\n",
       "            .qq {\n",
       "                word-break: keep-all;\n",
       "                white-space: pre-wrap;\n",
       "            }\n",
       "        </style>\n",
       "\n",
       "        <div style=\"border:1px solid grey;padding:5px;border-radius:8px;\">\n",
       "            <div>ID: 0cb52309 &nbsp Q: 22</div>\n",
       "            <h5 style=\"font-weight: bold;\">Quelles sont les conditions et les documents nécessaires pour créer une entreprise en France en tant qu'étranger?</h5>\n",
       "            <div style=\"display:flex; align-items:top;\"><div style=\"width: 50%; padding:10px;\"> <div style=\"text-align:center;color:blue;\">Llama sample+rep-penalty</div> <pre class=\"qq\">Pour créer une entreprise en France en tant qu'étranger, plusieurs conditions doivent être remplies. Tout d'abord, il est important de se renseigner sur les règles spécifiques applicables à son pays d'origine. Par ailleurs, il convient de fournir certains documents requis lors de sa demande d'autorisation d'établissement en France.\r\n",
       "\r\n",
       "Les documents généralement demandés comprennent notamment un justificatif de résidence en France, ainsi que des pièces justificatives concernant la nature de l'activité projetée et ses objectifs économiques. De plus, il peut être nécessaire de présenter des documents relatifs à la qualification professionnelle et/ou à l'expérience professionnelle.\r\n",
       "\r\n",
       "Il est recommandé de se référer directement aux organismes compétents localement, comme l'Office Français de l'Immigration et de l'Intégration (OFII), afin de connaître les procédures spécifiques à suivre et les documents exacts à fournir.\r\n",
       "\r\n",
       "Si vous disposez déjà d'un permis de travailler en France, vous pouvez commencer immédiatement à développer votre activité sans attendre d'obtenir une carte de séjour. Cependant, il est conseillé de prendre contact avec les autorités administratives locales pour connaître les éventuelles obligations liées à la création d'une entreprise en France.\r\n",
       "\r\n",
       "Enfin, veillez à bien respecter les dispositions légales relatives à la taxation et aux autres obligations fiscales liées à votre activité en France.</pre></div><div style=\"width: 50%; padding:10px;\"> <div style=\"text-align:center;color:blue;\">Llama temp 2</div> <pre class=\"qq\">Pour créer une entreprise en France en tant qu'étranger, certaines conditions doivent être remplies. Tout d'abord, il y a des critères spécifiques liés au type d'entreprise désirée. Par exemple, certains types d'entreprises requièrent une autorisation spéciale. De plus, il existe différents documents nécessaires, notamment un formulaire de demande d'autorisation d'établissement, ainsi que divers autres documents justificatifs. Pour plus d'informations sur les démarches à suivre et les documents requis, nous te recommandons de se référer à l'administration compétente, généralement la Direction générale des Entreprises (DGE), qui pourra fournir les renseignements exacts concernant ta situation particulière.</pre></div></div>['documents', 'entreprises', 'autorisation', 'entreprise', 'existe']</div>"
      ],
      "text/plain": [
       "<IPython.core.display.HTML object>"
      ]
     },
     "metadata": {},
     "output_type": "display_data"
    },
    {
     "data": {
      "text/html": [
       "<br>"
      ],
      "text/plain": [
       "<IPython.core.display.HTML object>"
      ]
     },
     "metadata": {},
     "output_type": "display_data"
    },
    {
     "data": {
      "text/html": [
       "\n",
       "        <style>\n",
       "            .qq {\n",
       "                word-break: keep-all;\n",
       "                white-space: pre-wrap;\n",
       "            }\n",
       "        </style>\n",
       "\n",
       "        <div style=\"border:1px solid grey;padding:5px;border-radius:8px;\">\n",
       "            <div>ID: c5f51741 &nbsp Q: 23</div>\n",
       "            <h5 style=\"font-weight: bold;\">Quels sont les droits et les procédures pour bénéficier des congés parentaux ou des congés liés à la maladie d'un enfant en France?</h5>\n",
       "            <div style=\"display:flex; align-items:top;\"><div style=\"width: 50%; padding:10px;\"> <div style=\"text-align:center;color:blue;\">Llama sample+rep-penalty</div> <pre class=\"qq\">Selon les informations disponibles, il n'y a aucune question directe sur ce sujet. Par conséquent, je peux vous dire qu'au moment où j'ai répondu à votre question, je n'avais pas les informations nécessaires pour répondre à vos questions précises sur les droits et les procédures pour bénéficier des congés parentaux ou des congés liés à la maladie d'un enfant en France.</pre></div><div style=\"width: 50%; padding:10px;\"> <div style=\"text-align:center;color:blue;\">Llama temp 2</div> <pre class=\"qq\">Pour bénéficier des congés parentaux ou des congés liés à la maladie d'un enfant en France, il faut prendre certaines mesures précises. En premier lieu, il convient de connaître les conditions d'accès aux congés parentaux. Ces droits peuvent être accordés aux parents après avoir eu leur enfant(e), ainsi qu'au père avant la naissance de son enfant. Cependant, chaque situation individuelle doit être évaluée afin de déterminer si les congés parentaux peuvent être demandés. Pour savoir si vous avez droit à ce type de congés, nous te recommandons de contacter votre employeur directement. Ils seront en mesure d'expliquer les modalités et les démarches à suivre.</pre></div></div>['enfant', 'parents', 'naissance', 'maladie', 'faut']</div>"
      ],
      "text/plain": [
       "<IPython.core.display.HTML object>"
      ]
     },
     "metadata": {},
     "output_type": "display_data"
    },
    {
     "data": {
      "text/html": [
       "<br>"
      ],
      "text/plain": [
       "<IPython.core.display.HTML object>"
      ]
     },
     "metadata": {},
     "output_type": "display_data"
    },
    {
     "data": {
      "text/html": [
       "\n",
       "        <style>\n",
       "            .qq {\n",
       "                word-break: keep-all;\n",
       "                white-space: pre-wrap;\n",
       "            }\n",
       "        </style>\n",
       "\n",
       "        <div style=\"border:1px solid grey;padding:5px;border-radius:8px;\">\n",
       "            <div>ID: 480cee97 &nbsp Q: 24</div>\n",
       "            <h5 style=\"font-weight: bold;\">Quelles sont les démarches et les documents requis en cas de décès d'un enfant en France?</h5>\n",
       "            <div style=\"display:flex; align-items:top;\"><div style=\"width: 50%; padding:10px;\"> <div style=\"text-align:center;color:blue;\">Llama sample+rep-penalty</div> <pre class=\"qq\">En cas de décès d'un enfant en France, plusieurs démarches et documents sont nécessaires. Tout d'abord, il faut déclarer le décès au service des impôts locaux ou à la mairie du lieu du décès. Puis, il convient de se charger des formalités liées aux obsèques, telles que la préparation du cercueil, la tenue de la cérémonie funéraire et la dispersion des cendres. Ces démarches sont généralement pris en charge par une entreprise de pompes funèbres.\r\n",
       "\r\n",
       "Concernant les documents requis, ils incluent le certificat de décès établi par le médecin constatant le décès, ainsi que tous les autres documents justifiant la filiation parentale tels que les pièces d'état civil, les bulletins trimestriels de l'année précédente, etc..\r\n",
       "\r\n",
       "Il est important de souligner que chaque situation spécifique peut avoir des exigences supplémentaires, il est conseillé de consulter un professionnel du secteur tel qu'un agent municipal ou une entreprise de pompes funèbres pour obtenir toutes les informations nécessaires.</pre></div><div style=\"width: 50%; padding:10px;\"> <div style=\"text-align:center;color:blue;\">Llama temp 2</div> <pre class=\"qq\">En cas de décès d'un enfant en France, certaines démarches et documents sont nécessaires. Tout d'abord, il faut déclarer le décès à la mairie du lieu où se situe le domicile du décédé. Suite à cela, on devra obtenir certains documents tels que l'expression écrite des dernières volontés du défunt ou la demande de la personne chargée de l'organisation des obsèques. Par ailleurs, il convient également de fournir le certificat du médecin constatant le décès ainsi que le bon de commande en cas d'acceptation du devis. Ces éléments seront ensuite utilisés lors de la réalisation des formalités.</pre></div></div>['documents', 'mairie', 'ensuite', 'suite', 'faut']</div>"
      ],
      "text/plain": [
       "<IPython.core.display.HTML object>"
      ]
     },
     "metadata": {},
     "output_type": "display_data"
    },
    {
     "data": {
      "text/html": [
       "<br>"
      ],
      "text/plain": [
       "<IPython.core.display.HTML object>"
      ]
     },
     "metadata": {},
     "output_type": "display_data"
    },
    {
     "data": {
      "text/html": [
       "\n",
       "        <style>\n",
       "            .qq {\n",
       "                word-break: keep-all;\n",
       "                white-space: pre-wrap;\n",
       "            }\n",
       "        </style>\n",
       "\n",
       "        <div style=\"border:1px solid grey;padding:5px;border-radius:8px;\">\n",
       "            <div>ID: 96f99d8c &nbsp Q: 25</div>\n",
       "            <h5 style=\"font-weight: bold;\">Quelles sont les démarches administratives nécessaires pour intégrer la fonction publique en tant qu'agent de l'État français ?</h5>\n",
       "            <div style=\"display:flex; align-items:top;\"><div style=\"width: 50%; padding:10px;\"> <div style=\"text-align:center;color:blue;\">Llama sample+rep-penalty</div> <pre class=\"qq\">Pour intégrer la fonction publique en tant qu'agent de l'État français, il faut suivre différentes démarches administratives. Tout d'abord, il convient de se rendre aux centres de gestion des personnels de l'Administration centrale, où on trouvera toutes les informations concernant les offres d'emploi et les procédures d'admission.\r\n",
       "\r\n",
       "Ensuite, il faudra répondre à un questionnaire d'aptitude physique et psychologique afin de vérifier ses capacités physiques et mentales pour exercer cette fonction.\r\n",
       "\r\n",
       "Une fois les tests réalisés, il sera possible de passer devant un comité d'admissibilité composé de représentants de différents ministères. Ce comité examinera les candidatures et donnera son avis sur celle-ci.\r\n",
       "\r\n",
       "Si le candidat est accepté, il devra signer un engagement de loyauté envers la République française ainsi qu'un serment civique.\r\n",
       "\r\n",
       "Il y aura ensuite une période de formation spécifique destinée à former les nouveaux agents à leur nouvelle mission.\r\n",
       "\r\n",
       "Cependant, veuillez noter que ces démarches peuvent varier selon les départements et les ministères.</pre></div><div style=\"width: 50%; padding:10px;\"> <div style=\"text-align:center;color:blue;\">Llama temp 2</div> <pre class=\"qq\">Pour intégrer la fonction publique en tant qu'agent de l'État français, il existe différentes démarches administratives à suivre. Tout d'abord, il faut passer devant un comité de recrutement afin d'être examiné sur ses capacités intellectuelles et physiques. Après cela, il sera invité à faire une prestation orale où il devra expliquer sa motivation pour entrer dans la fonction publique et comment il se positionne vis-à-vis de sa future mission. Ensuite, il doit présenter un dossier complet comprenant notamment une lettre d'engagement, une copie de ses diplômes, ainsi que toute preuve de sa compétence technique et professionnelle. Une fois toutes ces étapes franchies, l'individu peut alors espérer obtenir un poste d'agent de l'État français.</pre></div></div>['agent', 'publique', 'fonction', 'existe', 'ensuite']</div>"
      ],
      "text/plain": [
       "<IPython.core.display.HTML object>"
      ]
     },
     "metadata": {},
     "output_type": "display_data"
    },
    {
     "data": {
      "text/html": [
       "<br>"
      ],
      "text/plain": [
       "<IPython.core.display.HTML object>"
      ]
     },
     "metadata": {},
     "output_type": "display_data"
    },
    {
     "data": {
      "text/html": [
       "\n",
       "        <style>\n",
       "            .qq {\n",
       "                word-break: keep-all;\n",
       "                white-space: pre-wrap;\n",
       "            }\n",
       "        </style>\n",
       "\n",
       "        <div style=\"border:1px solid grey;padding:5px;border-radius:8px;\">\n",
       "            <div>ID: a6857b91 &nbsp Q: 26</div>\n",
       "            <h5 style=\"font-weight: bold;\">Quelles sont les conditions pour bénéficier du don de jours de repos entre collègues dans le cadre d'une situation particulière, comme le congé parental ?</h5>\n",
       "            <div style=\"display:flex; align-items:top;\"><div style=\"width: 50%; padding:10px;\"> <div style=\"text-align:center;color:blue;\">Llama sample+rep-penalty</div> <pre class=\"qq\">Pour bénéficier du don de jours de repos entre collègues dans le cadre d'une situation particulière, telles que le congé parental, il faut respecter certaines conditions. Tout agent peut donner des jours de repos, mais uniquement si ces derniers sont déjà disponibles après avoir pris leur propre congé parental.\r\n",
       "\r\n",
       "Il est important de noter que le don de jours de repos se fait de façon anonyme et sans contreparties. Cela signifie que chaque agent dispose librement de ses jours de repos et peut choisir de les donner à un autre membre de l'équipe.\r\n",
       "\r\n",
       "Si vous souhaitez bénéficier du don de jours de repos, veillez à demander à votre employeur. Ils seront responsables de l'organisation et de la gestion de cette initiative interprofessionnelle.\r\n",
       "\r\n",
       "N'oubliez pas que le don de jours de repos est un moyen supplémentaire de soutien mutuel parmi les membres de l'équipe. Il offre ainsi une possibilité de solidarité et de collaboration entre les différents collaborateurs.\r\n",
       "\r\n",
       "Enfin, nous vous rappelons que toutes les informations fournies sont basées sur nos connaissances actuelles et que nous vous recommandons de consulter directement votre employeur pour obtenir des détails spécifiques sur les démarches à suivre.</pre></div><div style=\"width: 50%; padding:10px;\"> <div style=\"text-align:center;color:blue;\">Llama temp 2</div> <pre class=\"qq\">Pour pouvoir bénéficier du don de jours de repos entre collègues dans le cadre d'une situation particulière, il faut respecter certaines conditions. Cependant, nous ne possédons pas suffisamment d'information pour te répondre spécifiquement à cette question.</pre></div></div>['pouvoir', 'respecter', 'cadre', 'faut', 'information']</div>"
      ],
      "text/plain": [
       "<IPython.core.display.HTML object>"
      ]
     },
     "metadata": {},
     "output_type": "display_data"
    },
    {
     "data": {
      "text/html": [
       "<br>"
      ],
      "text/plain": [
       "<IPython.core.display.HTML object>"
      ]
     },
     "metadata": {},
     "output_type": "display_data"
    },
    {
     "data": {
      "text/html": [
       "\n",
       "        <style>\n",
       "            .qq {\n",
       "                word-break: keep-all;\n",
       "                white-space: pre-wrap;\n",
       "            }\n",
       "        </style>\n",
       "\n",
       "        <div style=\"border:1px solid grey;padding:5px;border-radius:8px;\">\n",
       "            <div>ID: deee2ba0 &nbsp Q: 27</div>\n",
       "            <h5 style=\"font-weight: bold;\">Comment renouveler son passeport français et quels sont les documents nécessaires pour effectuer cette démarche ?</h5>\n",
       "            <div style=\"display:flex; align-items:top;\"><div style=\"width: 50%; padding:10px;\"> <div style=\"text-align:center;color:blue;\">Llama sample+rep-penalty</div> <pre class=\"qq\">Pour renouveler son passeport français, il faut se rendre à la mairie ou à la préfecture compétente. Les documents nécessaires varient en fonction de la situation individuelle. Cependant, généralement, on peut demander un nouveau passeport en fournissant les documents suivants :\r\n",
       "\r\n",
       "- Une photo récente conforme aux normes requises.\r\n",
       "- Son ancien passeport en cours de validité ou celui qui a pris fin depuis moins de deux ans.\r\n",
       "- Sa carte d'identité française.\r\n",
       "- Un justificatif de domicile telle qu'une facture électrique ou une attestation de logement.\r\n",
       "- Des coordonnées postales et mobiles.\r\n",
       "- Un motif de renouvellement.\r\n",
       "\r\n",
       "Il est important de noter que ces informations sont données à titre indicatif et qu'il est recommandé de se renseigner directement auprès de la mairie ou de la préfecture compétentes pour obtenir les instructions spécifiques et les documents exacts nécessaires.</pre></div><div style=\"width: 50%; padding:10px;\"> <div style=\"text-align:center;color:blue;\">Llama temp 2</div> <pre class=\"qq\">Pour renouveler son passeport français, il faut se rendre à l'ambassade ou au consulat français et présenter les documents suivants :\n",
       "\n",
       "* Carte nationale d'identité française ou passeport français en cours de validité ou périmé depuis moins de deux ans.\n",
       "* Justificatif de résidence dans la circonscription consulaire (contrat de location, facture récente d'électricité ou toute autre pièce figuant dans la liste fixée par le chef de poste consulaire)\n",
       "* Photographie récente (moins de six mois)\n",
       "\n",
       "Il est important de noter que si on a déjà été inscrit dans cet organisme ou un autre, il suffit d'actualiser ou de renouveler son inscription.\n",
       "\n",
       "Si on a déjà réalisé une demande de renouvellement sur internet, le processus sera automatisé et on devra attendre trois mois avant la fin de validité de son précédent passeport pour obtenir un nouveau.\n",
       "\n",
       "En revanche, si on refuse de se rendre directement à l'embassade ou au consulat, il existe également la possibilité de réaliser la demande sur internet. On trouvera toutes les instructions sur le site officiel du Ministère des Affaires Etrangères.\n",
       "\n",
       "N'hésite pas à continuer de nous accompagner dans nos questions.</pre></div></div>['passeport', 'internet', 'location', 'revanche', 'inscription']</div>"
      ],
      "text/plain": [
       "<IPython.core.display.HTML object>"
      ]
     },
     "metadata": {},
     "output_type": "display_data"
    },
    {
     "data": {
      "text/html": [
       "<br>"
      ],
      "text/plain": [
       "<IPython.core.display.HTML object>"
      ]
     },
     "metadata": {},
     "output_type": "display_data"
    },
    {
     "data": {
      "text/html": [
       "\n",
       "        <style>\n",
       "            .qq {\n",
       "                word-break: keep-all;\n",
       "                white-space: pre-wrap;\n",
       "            }\n",
       "        </style>\n",
       "\n",
       "        <div style=\"border:1px solid grey;padding:5px;border-radius:8px;\">\n",
       "            <div>ID: a1bc1a7a &nbsp Q: 28</div>\n",
       "            <h5 style=\"font-weight: bold;\">Quels sont les droits et obligations d'un agent de l'État français en matière de congés annuels et de périodes de professionnalisation ?</h5>\n",
       "            <div style=\"display:flex; align-items:top;\"><div style=\"width: 50%; padding:10px;\"> <div style=\"text-align:center;color:blue;\">Llama sample+rep-penalty</div> <pre class=\"qq\">Les agents de l'État français ont plusieurs droits et obligations concernant leurs congés annuels et leur période de professionnalisation. En ce qui concerne les congés annuels, ils peuvent prendre part à différents types de congés tels que le congé de maladie, le congé de maternité ou d'adoption, le congé de paternité et d'accueil de l'enfant, le congé de formation professionnelle, etc.\r\n",
       "\r\n",
       "En ce qui concerne la période de professionnalisation, il s'agit d'une période destinée à permettre à certains agents de développer certaines capacités professionnelles telles qu'une langue étrangère, la gestion de projet, la communication, etc. Cette période permet ainsi à ces agents de s'améliorer et de progresser dans leur carrière.\r\n",
       "\r\n",
       "Il convient donc aux agents de l'État français de bien connaître leurs droits et obligations en termes de congés annuels et de période de professionnalisation afin de maximiser leur développement professionnel et personnalise leur parcours.</pre></div><div style=\"width: 50%; padding:10px;\"> <div style=\"text-align:center;color:blue;\">Llama temp 2</div> <pre class=\"qq\">Lors de ses congès annuels, un agent de l'État français dispose de droits spécifiques tels qu'un certain nombre de jours de vacances payés. Ces droits varient selon différentes critères tels que le niveau d'expertise et le type de poste occupé. De plus, il existe des règles particulières concernant les absences exceptionnelles telles que la maladie ou les urgences personnelles qui peuvent accorder des avantages supplémentaires lors de la déclaration des congés annuels. En ce qui concerne les périodes de professionnalisation, elles sont destinées à favoriser le développement professionnel continu de l’agent et leur adaptation aux nouveaux défis techniques et organisationnels. Par conséquent, les agents ont la possibilité de choisir parmi différentes formations de perfectionnement technique et administratif afin de s'adapter à leurs responsabilités actuelles ou futures.</pre></div></div>['agent', 'droits', 'choisir', 'concerne', 'existe']</div>"
      ],
      "text/plain": [
       "<IPython.core.display.HTML object>"
      ]
     },
     "metadata": {},
     "output_type": "display_data"
    },
    {
     "data": {
      "text/html": [
       "<br>"
      ],
      "text/plain": [
       "<IPython.core.display.HTML object>"
      ]
     },
     "metadata": {},
     "output_type": "display_data"
    },
    {
     "data": {
      "text/html": [
       "\n",
       "        <style>\n",
       "            .qq {\n",
       "                word-break: keep-all;\n",
       "                white-space: pre-wrap;\n",
       "            }\n",
       "        </style>\n",
       "\n",
       "        <div style=\"border:1px solid grey;padding:5px;border-radius:8px;\">\n",
       "            <div>ID: 659eb40c &nbsp Q: 29</div>\n",
       "            <h5 style=\"font-weight: bold;\">Quelles sont les procédures à suivre en cas de litige avec l'administration française et comment engager une action en justice si nécessaire ?</h5>\n",
       "            <div style=\"display:flex; align-items:top;\"><div style=\"width: 50%; padding:10px;\"> <div style=\"text-align:center;color:blue;\">Llama sample+rep-penalty</div> <pre class=\"qq\">En cas de litige avec l'administration française, plusieurs options existent pour y répondre. Tout d'abord, il est recommandé de tenter une conciliation afin de trouver une solution amicale. Cependant, si cela échoue, il est possible de saisir le tribunal judiciaire français. Pour cela, il convient de rédiger une requête et de joindre les copies des pièces justificatives nécessaires.\r\n",
       "\r\n",
       "Il est important de souligner que la requête doit être signée par chaque partie impliquée dans le litige. Ensuite, il faudra fournir des arguments et des preuves suffisantes pour soutenir ses revendications. Les frais associés à la procédure doivent également être pris en considération.\r\n",
       "\r\n",
       "Si la situation persiste malgré tout, il sera possible de contester le jugement prononcé par le tribunal. Toutefois, il est essentiel de respecter les délais impartis pour effectuer cette contestation.\r\n",
       "\r\n",
       "Cependant, il est important de noter que toute information donnée ici est basée sur des références disponibles et qu'il est toujours recommandé de consulter un professionnel du droit pour obtenir des conseils personnalisés et adaptés à chaque situation spécifique.</pre></div><div style=\"width: 50%; padding:10px;\"> <div style=\"text-align:center;color:blue;\">Llama temp 2</div> <pre class=\"qq\">Pour répondre à ta question, nous te donnons les instructions suivantes :\n",
       "\n",
       "Si tu as un litige avec l'administration française, il est important de rechercher une solution amicale avant de passer à la phase légaliste.\n",
       "\n",
       "Il existe différents moyens pour gagner du temps et éviter les longues procédures légales. Tout d'abord, tu peux essayer d'engager une médiation afin de trouver une solution consensuelle avec l'administration opposée.\n",
       "\n",
       "Mais si cela échoue, tu peux toujours tenter de convaincre ton interlocuteur officiel par écrit, en expliquant clairement ton point de vue et en présentant tes arguments. \n",
       "\n",
       "Enfin, si après tout cela, rien ne fonctionne correctement, alors c'est le moment de prendre les démarches nécessaires pour engager une action en justice.\n",
       "\n",
       "Cela impliquera de trouver un avocat spécialisé dans le domaine de la jurisprudence administrative et de présenter les faits et arguments de ton côté.\n",
       "\n",
       "N'oublie pas de garder des copies de toutes les correspondances officielles, ainsi que toute information pertinente relative à ton litige.\n",
       "\n",
       "Il est recommandé de donner suite rapidement à tes démarches car plus on attend, plus il y aura de risques de perdre des dates importants et donc des droits.\n",
       "\n",
       "Ne perds pas courage! Avec persévérance et attention aux détails, tu arriveras probablement à trouver une issue satisfaisante à ton problème.</pre></div></div>['administration', 'donner', 'avocat', 'existe', 'administrative']</div>"
      ],
      "text/plain": [
       "<IPython.core.display.HTML object>"
      ]
     },
     "metadata": {},
     "output_type": "display_data"
    },
    {
     "data": {
      "text/html": [
       "<br>"
      ],
      "text/plain": [
       "<IPython.core.display.HTML object>"
      ]
     },
     "metadata": {},
     "output_type": "display_data"
    },
    {
     "data": {
      "text/html": [
       "\n",
       "        <style>\n",
       "            .qq {\n",
       "                word-break: keep-all;\n",
       "                white-space: pre-wrap;\n",
       "            }\n",
       "        </style>\n",
       "\n",
       "        <div style=\"border:1px solid grey;padding:5px;border-radius:8px;\">\n",
       "            <div>ID: de702649 &nbsp Q: 30</div>\n",
       "            <h5 style=\"font-weight: bold;\">Quels sont les documents nécessaires pour justifier ma nationalité française ?</h5>\n",
       "            <div style=\"display:flex; align-items:top;\"><div style=\"width: 50%; padding:10px;\"> <div style=\"text-align:center;color:blue;\">Llama sample+rep-penalty</div> <pre class=\"qq\">Pour justifier ta nationalité française, tu dois fournir certains documents. Ces documents peuvent varier selon tes circonstances spécifiques. Parmi ces documents figurent généralement un acte de naissance (copie intégrale ou extrait avec filiation) datant de moins de trois mois ainsi qu'un justificatif de nationalité française si tu es né à l'étranger mais habitant désormais en France.\r\n",
       "\r\n",
       "Si tu as déjà effectué une pré-demande de naturalisation, cela peut également te faciliter car tu recevras alors un numéro de pré-démarrage et un QR Code correspondant à ton dossier. Tu devrais donc prendre note de ce numéro et de ce code afin de pouvoir retrouver rapidement ton dossier lorsqu'il sera disponible.\r\n",
       "\r\n",
       "Il est important de noter que ces informations sont basées sur les références disponibles, mais elles peuvent changer sans avis précis. Pour obtenir des informations plus précises et actualisées, nous recommandons de contacter directement le ministère chargé de l'Intérieur ou le service compétent responsable de la naturalisation en France.</pre></div><div style=\"width: 50%; padding:10px;\"> <div style=\"text-align:center;color:blue;\">Llama temp 2</div> <pre class=\"qq\">Pour justifier ta nationalité française, voici la liste des documents demandés :\n",
       "- Un formulaire cerfa numéro 15277 complété, daté et signé.\n",
       "- Deux photographies d'identité récentes collés sur les deux copies du formulaire.\n",
       "Si tu as déjà effectué une pré-demande, tu devras également apporter le numéro de pré-démandre et/ou un QR code obtenu à la fin de celle-ci.\n",
       "Il te sera peut-être nécessaire de fournir d'autres pièces selon tes circonstances spécifiques.\n",
       "N'hésite pas à contacter les autorités compétentes pour obtenir davantage d'informations sur ces documents requis ainsi qu'à demander leur transmission.</pre></div></div>['documents', 'formulaire', 'justifier', 'fournir', 'obtenir']</div>"
      ],
      "text/plain": [
       "<IPython.core.display.HTML object>"
      ]
     },
     "metadata": {},
     "output_type": "display_data"
    },
    {
     "data": {
      "text/html": [
       "<br>"
      ],
      "text/plain": [
       "<IPython.core.display.HTML object>"
      ]
     },
     "metadata": {},
     "output_type": "display_data"
    },
    {
     "data": {
      "text/html": [
       "\n",
       "        <style>\n",
       "            .qq {\n",
       "                word-break: keep-all;\n",
       "                white-space: pre-wrap;\n",
       "            }\n",
       "        </style>\n",
       "\n",
       "        <div style=\"border:1px solid grey;padding:5px;border-radius:8px;\">\n",
       "            <div>ID: a00d59b4 &nbsp Q: 31</div>\n",
       "            <h5 style=\"font-weight: bold;\">Comment puis-je faire une pré-demande de carte d'identité en ligne ?</h5>\n",
       "            <div style=\"display:flex; align-items:top;\"><div style=\"width: 50%; padding:10px;\"> <div style=\"text-align:center;color:blue;\">Llama sample+rep-penalty</div> <pre class=\"qq\">Pour effectuer une pré-demande de carte d'identité en ligne, voici quelques étapes à suivre :\r\n",
       "\r\n",
       "1. Accéder à la page de pré-demande sur le site officiel de l'Agence Nationale Titres Sécurises (ANTS). Ce lien vous est fourni après avoir lu cette question.\r\n",
       "2. Une fois arrivé sur la page de pré-demande, cliquez sur 'Pré-demande'. Cette opération doit être faite avant toute autre action.\r\n",
       "3. Suivez ensuite les instructions qui sont affichées sur l'écran afin de compléter tous les champs requis. Faisons attention à bien respecter les spécifications concernant la photographie d'identité et les justificatifs nécessaires.\r\n",
       "4. Lorsqu'on a terminé la pré-demande, on obtient un numéro de pré-demande ainsi qu'un QR Code. Cela permet de retrouver son dossier lorsque le moment venu arrive de soumettre sa demande officielle de carte d'identité.\r\n",
       "5. À noter que certains communes peuvent exiger de prendre rendez-vous avant de se présenter physiquement au centre de demande de carte d'identité. Consulter le site internet de la commune où résidera la personne concernée est recommandé.\r\n",
       "\r\n",
       "Il est important de souligner que ces informations sont basées sur les références disponibles. Cependant, si vous avez besoin d'autres détails ou si vous avez des questions supplémentaires, nous vous invitons à contacter l'Agence Nationale Titres Sécurises (ANTS), dont le contact est disponible sur leur site web.</pre></div><div style=\"width: 50%; padding:10px;\"> <div style=\"text-align:center;color:blue;\">Llama temp 2</div> <pre class=\"qq\">Pour effectuer une pré-demande de carte d'identité en ligne, il est nécessaire de se connecter à son compte ANTS ou via France Connect. Une fois présent sur cette page, il suffira ensuite de choisir la rubrique intitulée 'Rechercher un remplacement de carte d'identité', qui est située sous le titre principal du site.\n",
       "\n",
       "Cette option vous permettra de créer une session personnalisée afin de prévenir l'ouverture d'une demande de remplacement de carte d'identité. Ceci signifie que lorsque tu seras prêt, tu pourras soumettre ta demande de manière unique et rapide.\n",
       "\n",
       "Il y a également deux autres options disponibles sur ce site. Il te reste toutefois à noter que ces alternatives sont basées sur des conditions spécifiques et peuvent donc varier selon tes circonstances individuelles.\n",
       "\n",
       "Si tu as encore quelques questions concernant cet exercice, nous te recommandons de contacter directement les services compétents pour obtenir des renseignements supplémentaires.\n",
       "\n",
       "N'hésite pas à utiliser nos formules de courtes répliques pour répondre à chaque question.</pre></div></div>['carte', 'site', 'demande', 'choisir', 'unique']</div>"
      ],
      "text/plain": [
       "<IPython.core.display.HTML object>"
      ]
     },
     "metadata": {},
     "output_type": "display_data"
    },
    {
     "data": {
      "text/html": [
       "<br>"
      ],
      "text/plain": [
       "<IPython.core.display.HTML object>"
      ]
     },
     "metadata": {},
     "output_type": "display_data"
    },
    {
     "data": {
      "text/html": [
       "\n",
       "        <style>\n",
       "            .qq {\n",
       "                word-break: keep-all;\n",
       "                white-space: pre-wrap;\n",
       "            }\n",
       "        </style>\n",
       "\n",
       "        <div style=\"border:1px solid grey;padding:5px;border-radius:8px;\">\n",
       "            <div>ID: 99c47cbe &nbsp Q: 32</div>\n",
       "            <h5 style=\"font-weight: bold;\">Comment obtenir un numéro ou un QR code pour suivre ma demande de passeport ?</h5>\n",
       "            <div style=\"display:flex; align-items:top;\"><div style=\"width: 50%; padding:10px;\"> <div style=\"text-align:center;color:blue;\">Llama sample+rep-penalty</div> <pre class=\"qq\">Pour obtenir un numéro ou un QR code afin de suivre ta demande de passeport, tu dois te rendre directement au lieu où tu as effectué ton dépôt initial. Une fois arrivé, tu seras invité à prendre une photographie d'identité conformément aux normes actuelles ainsi que tout autre document requis pour compléter ton dossier.\r\n",
       "\r\n",
       "Il est important de noter que certaines mairies ont besoin de prendre rendez-vous avant de pouvoir accueillir leurs clients. Cela veut dire que tu peux te renseigner sur cette possibilité avant de venir. De plus, certains lieux disposent également d'une station d'enregistrement pour faciliter la prise des empreintes digitales.\r\n",
       "\r\n",
       "Si tu as fait une pré-demande, cela signifie que tu es déjà inscrit dans leur système informatique et que tu recevras automatiquement un numéro ou un QR code lorsque ton dossier sera prête à être traité. Dans ce cas, il suffira alors de contacter le service chargé de la gestion des demandes de passeport pour connaître le statut de ton dossier.\r\n",
       "\r\n",
       "En résumé, pour obtenir un numéro ou un QR code pour suivre ta demande de passeport, il faudra se rendre directement au lieu où tu as effectué ton dépôt initial et demander à prendre une photographie d'identité conformément aux normes actuelles.</pre></div><div style=\"width: 50%; padding:10px;\"> <div style=\"text-align:center;color:blue;\">Llama temp 2</div> <pre class=\"qq\">Pour suivre ta demande de passeport, vous devez vous rendre au lieu que vous avez choisi pour faire la démarche. Lors de cette visite, vous devrez présenter les documents requis, dont notamment une photographie d'identité datant de moins de six mois et conforme aux normes. De plus, vous devrez également fournir un justificatif de domicile ainsi que, sauf exception, un timbre fiscal de 86 euros. Si nécessaire, vous pouvez également demander un numéro de pré-demande et/ou un QR code afin de suivre votre demande.</pre></div></div>['devrez', 'demande', 'passeport', 'fiscal', 'justificatif']</div>"
      ],
      "text/plain": [
       "<IPython.core.display.HTML object>"
      ]
     },
     "metadata": {},
     "output_type": "display_data"
    },
    {
     "data": {
      "text/html": [
       "<br>"
      ],
      "text/plain": [
       "<IPython.core.display.HTML object>"
      ]
     },
     "metadata": {},
     "output_type": "display_data"
    },
    {
     "data": {
      "text/html": [
       "\n",
       "        <style>\n",
       "            .qq {\n",
       "                word-break: keep-all;\n",
       "                white-space: pre-wrap;\n",
       "            }\n",
       "        </style>\n",
       "\n",
       "        <div style=\"border:1px solid grey;padding:5px;border-radius:8px;\">\n",
       "            <div>ID: b511d626 &nbsp Q: 33</div>\n",
       "            <h5 style=\"font-weight: bold;\">Quelles sont les différences entre le nom d'usage et le nom de naissance dans les pièces d'identité ?</h5>\n",
       "            <div style=\"display:flex; align-items:top;\"><div style=\"width: 50%; padding:10px;\"> <div style=\"text-align:center;color:blue;\">Llama sample+rep-penalty</div> <pre class=\"qq\">Le nom d'usage et le nom de naissance ont différentes significations lorsqu'ils sont utilisés dans les pièces d'identité. En général, le nom d'usage correspond à celui utilisé couramment par une personne alors qu'en revanche, le nom de naissance est inscrit sur ses documents administratifs tels que l'acte de naissance.\r\n",
       "\r\n",
       "Dans certains pays, comme la France, il existe la possibilité pour certaines personnes de porter deux noms, soit leur nom de naissance ainsi que leur nom d'usage. Dans ces situations, ils peuvent choisir de mettre leurs noms d'usage sur leurs pièces d'identité afin de faciliter leur identification.\r\n",
       "\r\n",
       "Il convient donc de noter que le nom d'usage est souvent utilisé lorsque plusieurs familles portent le même nom de famille et que cela permet de distinguer les membres de cette famille. De plus, le nom d'usage peut également servir à éviter toute confusion liée à des homonymes ou à des homonymies.\r\n",
       "\r\n",
       "Enfin, il est important de souligner que les règles concernant le nom d'usage varient selon les pays et les législations en vigueur. Par conséquent, il est recommandé de se renseigner auprès des autorités compétentes locales pour connaître les spécifications particulières applicables dans votre région.</pre></div><div style=\"width: 50%; padding:10px;\"> <div style=\"text-align:center;color:blue;\">Llama temp 2</div> <pre class=\"qq\">Le nom d'usage et le nom de naissance ont des différences importantes lorsqu'ils font partie des pièces d'identité. En général, lorsque deux parents partagent l'autorité parentale, ils peuvent désigner un seul nom d'usage pour leur enfant. Cela signifie qu'à partir de cet âge, l'enfant sera connu sous ce nom d'usage uniquement. Cependant, certains états nécessiteront également le nom de naissance de l'enfant afin de vérifier ses liens familiaux. Par conséquent, dans certaines situations, les personnes doivent fournir leurs documents d'identification comportant ces deux identifiants.</pre></div></div>['nom', 'usage', 'enfant', 'naissance', 'parents']</div>"
      ],
      "text/plain": [
       "<IPython.core.display.HTML object>"
      ]
     },
     "metadata": {},
     "output_type": "display_data"
    },
    {
     "data": {
      "text/html": [
       "<br>"
      ],
      "text/plain": [
       "<IPython.core.display.HTML object>"
      ]
     },
     "metadata": {},
     "output_type": "display_data"
    },
    {
     "data": {
      "text/html": [
       "\n",
       "        <style>\n",
       "            .qq {\n",
       "                word-break: keep-all;\n",
       "                white-space: pre-wrap;\n",
       "            }\n",
       "        </style>\n",
       "\n",
       "        <div style=\"border:1px solid grey;padding:5px;border-radius:8px;\">\n",
       "            <div>ID: 2d27bf74 &nbsp Q: 34</div>\n",
       "            <h5 style=\"font-weight: bold;\">Quelles sont les démarches spécifiques pour obtenir une carte d'identité pour un mineur ?</h5>\n",
       "            <div style=\"display:flex; align-items:top;\"><div style=\"width: 50%; padding:10px;\"> <div style=\"text-align:center;color:blue;\">Llama sample+rep-penalty</div> <pre class=\"qq\">Pour obtenir une carte d'identité pour un mineur, plusieurs démarches doivent être réalisées. Tout d'abord, il convient de se rendre au guichet du Service Public avec le mineur afin de récupérer la carte d'identité. Cette carte sera livrée dans un nouveau format, de la taille d'une carte bancaire.\r\n",
       "\r\n",
       "Il est important de noter que cette carte d'identité est valide pendant 10 ans. Cependant, elle reste valable jusqu'à la majorité du mineur, sans nécessiter de renouvellement. Toutefois, il est recommandé de conserver la carte d'identité même après la majorité, car cela facilitera les démarches administratives ultérieures.\r\n",
       "\r\n",
       "Si vous avez des questions supplémentaires ou si vous voulez connaître davantage sur les autres démarches liées à la carte d'identité pour un mineur, nous vous invitons à contacter directement le Service Public compétent.</pre></div><div style=\"width: 50%; padding:10px;\"> <div style=\"text-align:center;color:blue;\">Llama temp 2</div> <pre class=\"qq\">Pour obtenir une carte d'identité pour un mineur, vous devez suivre certaines démarches spécifiques. Tout d'abord, les documents nécessaires incluent la carte d'identité du mineur, une photo d'identité de moins de six mois et conforme aux normes, ainsi que la pièce d'identité du(s) parent(s) qui déposera(nt) la demande. Selon la situation, il sera également demandé d'indiquers le lieu de résidence habituel du mineur. Enfin, il est important de noter que si le mineur utilise un nom d'usage (double nom), d'autres documents peuvent être requis afin de justifier cette pratique.</pre></div></div>['mineur', 'nom', 'carte', 'documents', 'usage']</div>"
      ],
      "text/plain": [
       "<IPython.core.display.HTML object>"
      ]
     },
     "metadata": {},
     "output_type": "display_data"
    },
    {
     "data": {
      "text/html": [
       "<br>"
      ],
      "text/plain": [
       "<IPython.core.display.HTML object>"
      ]
     },
     "metadata": {},
     "output_type": "display_data"
    },
    {
     "data": {
      "text/html": [
       "\n",
       "        <style>\n",
       "            .qq {\n",
       "                word-break: keep-all;\n",
       "                white-space: pre-wrap;\n",
       "            }\n",
       "        </style>\n",
       "\n",
       "        <div style=\"border:1px solid grey;padding:5px;border-radius:8px;\">\n",
       "            <div>ID: 0e4fc8ca &nbsp Q: 35</div>\n",
       "            <h5 style=\"font-weight: bold;\">Quels sont les moyens disponibles pour signaler un viol ou une agression sexuelle en France ?</h5>\n",
       "            <div style=\"display:flex; align-items:top;\"><div style=\"width: 50%; padding:10px;\"> <div style=\"text-align:center;color:blue;\">Llama sample+rep-penalty</div> <pre class=\"qq\">Pour signaler un viol ou une agression sexuelle en France, il est recommandé de prendre immédiatement contact avec les services de secours. Ils seront capables de fournir de l'aide et de la protection à la victime. De plus, il est important de porter plainte à la police ou à la gendarmerie afin de permettre une enquête criminelle.</pre></div><div style=\"width: 50%; padding:10px;\"> <div style=\"text-align:center;color:blue;\">Llama temp 2</div> <pre class=\"qq\">Pour signaler un viol ou une agression sexuelle en France, vous avez différentes possibilités. D'abord, vous pouvez prendre contact directement avec les services de secours. Ils seront là pour vous fournir de l’aide et de la protection tout au long de la procédure. De plus, vous pouvez porter plainte à la police ou à la gendarmerie. Ces dernières entités auront la responsabilité de mener leur enquête et de rechercher les auteurs de ces crimes. Cependant, veillez à préciser que vous êtes étrangers ou résidents temporaires en France afin d'être traités conformément à la législation applicable dans chaque région.</pre></div></div>['france', 'police', 'protection', 'pouvez', 'fournir']</div>"
      ],
      "text/plain": [
       "<IPython.core.display.HTML object>"
      ]
     },
     "metadata": {},
     "output_type": "display_data"
    },
    {
     "data": {
      "text/html": [
       "<br>"
      ],
      "text/plain": [
       "<IPython.core.display.HTML object>"
      ]
     },
     "metadata": {},
     "output_type": "display_data"
    },
    {
     "data": {
      "text/html": [
       "\n",
       "        <style>\n",
       "            .qq {\n",
       "                word-break: keep-all;\n",
       "                white-space: pre-wrap;\n",
       "            }\n",
       "        </style>\n",
       "\n",
       "        <div style=\"border:1px solid grey;padding:5px;border-radius:8px;\">\n",
       "            <div>ID: 5b81be23 &nbsp Q: 36</div>\n",
       "            <h5 style=\"font-weight: bold;\">Quelles sont les démarches à suivre pour porter plainte suite à une agression ?</h5>\n",
       "            <div style=\"display:flex; align-items:top;\"><div style=\"width: 50%; padding:10px;\"> <div style=\"text-align:center;color:blue;\">Llama sample+rep-penalty</div> <pre class=\"qq\">Pour porter plainte suite à une agression, il est nécessaire de se rendre dans un commissariat de police ou à la gendarmerie de votre choix. Les services de police ou de gendarmerie doivent enregistre la plainte. La plainte sera ensuite transmise au procureur de la République afin qu'il décide de la suite (enquête, classement sans suite...). Si vous ne connaissez pas l'auteur des faits, vous pouvez remplir une pré-plainte en ligne avant de vous déplacer. Cette pré-plainte permettra de vous donner un rendez-vous et les policiers ou gendarmes auront déjà les éléments de votre plainte à votre arrivée.\r\n",
       "\r\n",
       "Il est important de souligner que cette information est basée sur des références fournies et qu'il est conseillé de consulter un avocat spécialisé en droit pénal pour obtenir des informations personnalisées et adaptées à chaque situation.</pre></div><div style=\"width: 50%; padding:10px;\"> <div style=\"text-align:center;color:blue;\">Llama temp 2</div> <pre class=\"qq\">Pour porter plainte suite à une agression, il est possible de recourir à différentes démarches. Tout d'abord, on conseille de porter plainte chez les Services de Police ou de Gendarmerie. Ils sont obligés d'enregistrement la plainte. Puisque nous sommes dans une situation urgente, il est également possible de faire appel aux Référés. Ceci concerne notamment les situations où il est nécessaire d'appeler immédiatement l'autorité compétente afin de prendre des mesures. Cependant, veuillez noter que cette option est généralement destinée à des cas d'urgence plutôt qu'à des affrontements répétés.</pre></div></div>['sommes', 'concerne', 'police', 'appel', 'suite']</div>"
      ],
      "text/plain": [
       "<IPython.core.display.HTML object>"
      ]
     },
     "metadata": {},
     "output_type": "display_data"
    },
    {
     "data": {
      "text/html": [
       "<br>"
      ],
      "text/plain": [
       "<IPython.core.display.HTML object>"
      ]
     },
     "metadata": {},
     "output_type": "display_data"
    },
    {
     "data": {
      "text/html": [
       "\n",
       "        <style>\n",
       "            .qq {\n",
       "                word-break: keep-all;\n",
       "                white-space: pre-wrap;\n",
       "            }\n",
       "        </style>\n",
       "\n",
       "        <div style=\"border:1px solid grey;padding:5px;border-radius:8px;\">\n",
       "            <div>ID: 8ce75eee &nbsp Q: 37</div>\n",
       "            <h5 style=\"font-weight: bold;\">Quels sont les organismes compétents pour traiter les affaires d'agressions sexuelles en France ?</h5>\n",
       "            <div style=\"display:flex; align-items:top;\"><div style=\"width: 50%; padding:10px;\"> <div style=\"text-align:center;color:blue;\">Llama sample+rep-penalty</div> <pre class=\"qq\">Selon les informations disponibles, il existe différents organismes compétents pour traiter les affaires d'aggressions sexuelles en France. Cependant, il est important de souligner que chaque département possède sa propre organisation spécifique pour gérer ces types de cas. Pour obtenir des renseignements précis concernant les organismes compétents dans votre région, nous recommandons de contacter directement votre service de police municipale ou de brigade de gendarmerie. Ils seront en mesure de vous indiquer les contacts appropriés afin de prendre les démarches nécessaires.</pre></div><div style=\"width: 50%; padding:10px;\"> <div style=\"text-align:center;color:blue;\">Llama temp 2</div> <pre class=\"qq\">Les organisations compétences pour gérer les affaires d'agressions sexuelles en France incluent notamment les services de police locale ainsi que certains ministères dont le ministre de la Justice et celui de la Sécurité publique.</pre></div></div>['ministre', 'police', 'publique', 'justice', 'services']</div>"
      ],
      "text/plain": [
       "<IPython.core.display.HTML object>"
      ]
     },
     "metadata": {},
     "output_type": "display_data"
    },
    {
     "data": {
      "text/html": [
       "<br>"
      ],
      "text/plain": [
       "<IPython.core.display.HTML object>"
      ]
     },
     "metadata": {},
     "output_type": "display_data"
    },
    {
     "data": {
      "text/html": [
       "\n",
       "        <style>\n",
       "            .qq {\n",
       "                word-break: keep-all;\n",
       "                white-space: pre-wrap;\n",
       "            }\n",
       "        </style>\n",
       "\n",
       "        <div style=\"border:1px solid grey;padding:5px;border-radius:8px;\">\n",
       "            <div>ID: c69d3eb9 &nbsp Q: 38</div>\n",
       "            <h5 style=\"font-weight: bold;\">Comment se déroule le processus judiciaire suite à une plainte pour agression sexuelle ?</h5>\n",
       "            <div style=\"display:flex; align-items:top;\"><div style=\"width: 50%; padding:10px;\"> <div style=\"text-align:center;color:blue;\">Llama sample+rep-penalty</div> <pre class=\"qq\">Le processus judiciaire suite à une plainte pour agression sexuelle varie en fonction de chaque affaire individuelle. Cependant, voici quelques informations générales sur ce sujet. \r\n",
       "\r\n",
       "Une fois que la plainte a été déposée, le procureur de la République prend en charge l'affaire. Il examine les preuves et les arguments présentés par la victime afin de déterminer si une enquête criminelle est justifiée.\r\n",
       "\r\n",
       "Si l'enquête aboutit à la conclusion que des faits ont bien été commis, le procureur peut engager une information judiciaire contre l'accusé. Cela signifie que celui-ci sera officiellement mis en examen devant le tribunal compétent.\r\n",
       "\r\n",
       "Lors de l'information judiciaire, le procureur présente les charges retenues contre l'accusé ainsi que toutes les pièces probantes collectées pendant l'enquête. Le juge entend ensuite les deux parties (proche de la victime et de l'accusé) afin de prendre une décision.\r\n",
       "\r\n",
       "Enfin, si le juge conclut à la culpabilité de l'accusé, il prononce une sanction correspondant à la gravité des faits. Cette sanction peut inclure une peine de prison, une amende, des travaux d'intérêt général ou encore une mesure de surveillance comme une période d'interdit de séjour chez la victime.\r\n",
       "\r\n",
       "Il convient de souligner que ces démarches peuvent varier légèrement en fonction des lois applicables et des conditions particulières de chaque affaire.</pre></div><div style=\"width: 50%; padding:10px;\"> <div style=\"text-align:center;color:blue;\">Llama temp 2</div> <pre class=\"qq\">Le processus judiciaire suite à une plainte pour agression sexuelle consiste généralement en deux phases distinctes. Tout d'abord, la victime peut porter plainte contre l'accusé. Cette première phase est souvent supervisée par la police ou la gendarmerie. Pendant ce temps, ils mènent leur enquête afin de collecter toutes les preuves nécessaires pour établir le crime. Ils peuvent également recueillir des témoignages de personnes qui ont pu assister aux faits. Ces informations seront ensuite transmises à l'instance compétente pour juguler l'affaire. \n",
       "\n",
       "La deuxième phase concerne la tenue du procès. Après que les charges formellement reçues, le procureur de la République prendra une décision sur le sort ultérieur de l'affaire. Ce pourrait être une charge officielle, c'est-à-dire que le procès va se tenir devant une juridiction spéciale, comme un tribunal correctionnel ou un conseil de prud'hommes. Cependant, il peut également être décidé que le procès se tiendra devant un tribunal ordinaire, où le jury devra prendre la décision finale.\n",
       "\n",
       "Peu importe quel type de procédures sont mises en place, le but principal reste toujours de rechercher la vérité et de protéger la victime ainsi que la société française.</pre></div></div>['tribunal', 'charges', 'concerne', 'police', 'ensuite']</div>"
      ],
      "text/plain": [
       "<IPython.core.display.HTML object>"
      ]
     },
     "metadata": {},
     "output_type": "display_data"
    },
    {
     "data": {
      "text/html": [
       "<br>"
      ],
      "text/plain": [
       "<IPython.core.display.HTML object>"
      ]
     },
     "metadata": {},
     "output_type": "display_data"
    },
    {
     "data": {
      "text/html": [
       "\n",
       "        <style>\n",
       "            .qq {\n",
       "                word-break: keep-all;\n",
       "                white-space: pre-wrap;\n",
       "            }\n",
       "        </style>\n",
       "\n",
       "        <div style=\"border:1px solid grey;padding:5px;border-radius:8px;\">\n",
       "            <div>ID: 363b1de9 &nbsp Q: 39</div>\n",
       "            <h5 style=\"font-weight: bold;\">Quelles sont les peines encourues en cas de condamnation pour viol ou agression sexuelle en France ?</h5>\n",
       "            <div style=\"display:flex; align-items:top;\"><div style=\"width: 50%; padding:10px;\"> <div style=\"text-align:center;color:blue;\">Llama sample+rep-penalty</div> <pre class=\"qq\">En fonction des informations disponibles, les peines encourues en cas de condamnation pour viol ou agression sexuelle en France varient en fonction des circonstances aggravantes. Cependant, nous ne disposons pas de références spécifiquement mentionnant ces peines.</pre></div><div style=\"width: 50%; padding:10px;\"> <div style=\"text-align:center;color:blue;\">Llama temp 2</div> <pre class=\"qq\">En cas de condamnation pour viol ou agression sexuelle en France, la peine encourue varie selon certaines circonstances aggravantes telles que l'utilisation d'une arme ou une menace d'arme, avoir exercé une autorité de droit ou de fait sur la victime ou l'abuser de cet authority, commettre ces crimes en bandes organisées, commettre ces crimes contre des enfants, commettre ces crimes par plusieurs personnes, commettre ces crimes dans le cadre d'activités commerciales, commettre ces crimes en présence d'enfants, commettre ces crimes par un ascendant ou une personne exerçant une autorité sur la victime, commettre ces crimes en utilisant Internet afin de mettre en contact la victime avec l'auteur, commettre ces crimes par l'époux, le conjoint ou le partenaire de Pacte de la victime, commettre ces crimes en utilisant des substances stupéfiantes ou alcoolisées, commettre ces crimes en utilisant des moyens de communication électronique pour manipuler la victime, commettre ces crimes par une personne présentant un handicap ou une condition médicale ou financière précaire, etc. Ces peines peuvent aller jusqu'au châtiment maximal de dix années de prison et 100 000€ d'amendes.</pre></div></div>['enfants', 'varie', 'mettre', 'condition', 'contre']</div>"
      ],
      "text/plain": [
       "<IPython.core.display.HTML object>"
      ]
     },
     "metadata": {},
     "output_type": "display_data"
    },
    {
     "data": {
      "text/html": [
       "<br>"
      ],
      "text/plain": [
       "<IPython.core.display.HTML object>"
      ]
     },
     "metadata": {},
     "output_type": "display_data"
    },
    {
     "data": {
      "text/html": [
       "\n",
       "        <style>\n",
       "            .qq {\n",
       "                word-break: keep-all;\n",
       "                white-space: pre-wrap;\n",
       "            }\n",
       "        </style>\n",
       "\n",
       "        <div style=\"border:1px solid grey;padding:5px;border-radius:8px;\">\n",
       "            <div>ID: ebc21e13 &nbsp Q: 40</div>\n",
       "            <h5 style=\"font-weight: bold;\">Quels sont les délais pour faire appel d'une décision judiciaire ?</h5>\n",
       "            <div style=\"display:flex; align-items:top;\"><div style=\"width: 50%; padding:10px;\"> <div style=\"text-align:center;color:blue;\">Llama sample+rep-penalty</div> <pre class=\"qq\">Les délais pour faire appel d'une décision judiciaire varient selon la nature de la décision et le type de recours utilisé. Cependant, en général, ils sont fixés à 1 mois à partir de la notification ou de la signification du jugement initial.</pre></div><div style=\"width: 50%; padding:10px;\"> <div style=\"text-align:center;color:blue;\">Llama temp 2</div> <pre class=\"qq\">Selon les références disponibles, il y a deux types de délais pour faire appel d'une décision judiciaire. Tout d'abord, il existe un délai de 1 mois à partir de la notification ou de la signification du jugement initial. Cependant, dans certaines circonstances spécifiques, tel que lors d'une ordonnance de référé, le délai est de 15 jours.</pre></div></div>['notification', 'existe', 'appel', 'judiciaire', 'partir']</div>"
      ],
      "text/plain": [
       "<IPython.core.display.HTML object>"
      ]
     },
     "metadata": {},
     "output_type": "display_data"
    },
    {
     "data": {
      "text/html": [
       "<br>"
      ],
      "text/plain": [
       "<IPython.core.display.HTML object>"
      ]
     },
     "metadata": {},
     "output_type": "display_data"
    },
    {
     "data": {
      "text/html": [
       "\n",
       "        <style>\n",
       "            .qq {\n",
       "                word-break: keep-all;\n",
       "                white-space: pre-wrap;\n",
       "            }\n",
       "        </style>\n",
       "\n",
       "        <div style=\"border:1px solid grey;padding:5px;border-radius:8px;\">\n",
       "            <div>ID: 109ea66c &nbsp Q: 41</div>\n",
       "            <h5 style=\"font-weight: bold;\">Comment puis-je être notifié(e) d'une convocation au tribunal ?</h5>\n",
       "            <div style=\"display:flex; align-items:top;\"><div style=\"width: 50%; padding:10px;\"> <div style=\"text-align:center;color:blue;\">Llama sample+rep-penalty</div> <pre class=\"qq\">Pour être notifiée d'une convocation au tribunal, vous devrez vous adresser directement au greffe du tribunal où vous avez été saisis. Ils seront responsables de vous informer de la date et de l'heure de l'audience.</pre></div><div style=\"width: 50%; padding:10px;\"> <div style=\"text-align:center;color:blue;\">Llama temp 2</div> <pre class=\"qq\">Pour être notifiée d'une convocation au tribunal, il existe différentes possibilités. Lorsque le tribunal est saisi par assignation, un message informatif peut être envoyé à ta adresse via le service postal. De plus, lorsque le tribunal est saisi par requête, il te sera possible d'être contacté directement par téléphone ou par lettre recommandée aux fins d'expédition.</pre></div></div>['tribunal', 'existe', 'adresse', 'lettre', 'service']</div>"
      ],
      "text/plain": [
       "<IPython.core.display.HTML object>"
      ]
     },
     "metadata": {},
     "output_type": "display_data"
    },
    {
     "data": {
      "text/html": [
       "<br>"
      ],
      "text/plain": [
       "<IPython.core.display.HTML object>"
      ]
     },
     "metadata": {},
     "output_type": "display_data"
    },
    {
     "data": {
      "text/html": [
       "\n",
       "        <style>\n",
       "            .qq {\n",
       "                word-break: keep-all;\n",
       "                white-space: pre-wrap;\n",
       "            }\n",
       "        </style>\n",
       "\n",
       "        <div style=\"border:1px solid grey;padding:5px;border-radius:8px;\">\n",
       "            <div>ID: 77c56020 &nbsp Q: 42</div>\n",
       "            <h5 style=\"font-weight: bold;\">Quelles sont les mesures prévues pour assurer le suivi des personnes en placement électronique ?</h5>\n",
       "            <div style=\"display:flex; align-items:top;\"><div style=\"width: 50%; padding:10px;\"> <div style=\"text-align:center;color:blue;\">Llama sample+rep-penalty</div> <pre class=\"qq\">Les mesures prévues pour assurer le suivi des personnes en placement électronique incluent différentes étapes. Tout d'abord, lors de la mise sous surveillance électronique, ces personnes seront supervisées par un agent de police judiciaire. Ils vériferont régulièrement leurs déplacements et contrôleront leur comportement afin de garantir leur conformité aux conditions imposées.\r\n",
       "\r\n",
       "Ensuite, pendant cette période de surveillance, les personnes concernées auront accès à certains services spécifiques. Cela comprend notamment l'utilisation d'ordinateurs personnels pour communiquer avec leurs proches et effectuer diverses tâches quotidiennes. Cependant, ils devront se conformer strictement aux règles imposées par le système de surveillance.\r\n",
       "\r\n",
       "Enfin, après avoir terminé leur période de surveillance, les personnes en placement électronique seront réinscrites dans la société normale. Cependant, elles continueront à subir des contrôles réguliers afin de prévenir toute nouvelle délinquance.\r\n",
       "\r\n",
       "Il convient donc de souligner que les mesures prises pour assurer le suivi des personnes en placement électronique impliquent une surveillance constante ainsi que l'utilisation d'outils technologiques modernes pour garantir leur conformité aux exigences légales.</pre></div><div style=\"width: 50%; padding:10px;\"> <div style=\"text-align:center;color:blue;\">Llama temp 2</div> <pre class=\"qq\">Il existe diverses mesures prévues pour assurer le suivi des personnes en placement électronique. Tout d'abord, ces personnes sont sous surveillance constante grâce à différentes technologies de suivi, notamment des bracelets GPS et des caméras installées partout dans le bâtiment. Ils ont également accès aux services numériques tels que Skype, WhatsApp et Facebook afin de rester en contact régulier avec leurs proches. Des équipes de conseils pédagogiques et juridiques sont présentes pendant toute la période de placement pour offrir leur soutien et fournir des informations utiles. Bien entendu, chaque personne en placement électronique dispose également d'autres ressources spécifiques selon leurs besoins individuels.</pre></div></div>['personnes', 'assurer', 'existe', 'ressources', 'bien']</div>"
      ],
      "text/plain": [
       "<IPython.core.display.HTML object>"
      ]
     },
     "metadata": {},
     "output_type": "display_data"
    },
    {
     "data": {
      "text/html": [
       "<br>"
      ],
      "text/plain": [
       "<IPython.core.display.HTML object>"
      ]
     },
     "metadata": {},
     "output_type": "display_data"
    },
    {
     "data": {
      "text/html": [
       "\n",
       "        <style>\n",
       "            .qq {\n",
       "                word-break: keep-all;\n",
       "                white-space: pre-wrap;\n",
       "            }\n",
       "        </style>\n",
       "\n",
       "        <div style=\"border:1px solid grey;padding:5px;border-radius:8px;\">\n",
       "            <div>ID: 407d6772 &nbsp Q: 43</div>\n",
       "            <h5 style=\"font-weight: bold;\">Comment faire une demande de médiation en cas de litige avec Pôle emploi concernant une radiation ou une allocation chômage ?</h5>\n",
       "            <div style=\"display:flex; align-items:top;\"><div style=\"width: 50%; padding:10px;\"> <div style=\"text-align:center;color:blue;\">Llama sample+rep-penalty</div> <pre class=\"qq\">Pour faire une demande de médiation en cas de litige avec Pôle emploi concernant une radiation ou une allocation chômage, il est recommandé de suivre ces démarches :\r\n",
       "\r\n",
       "Tout d'abord, il convient de contacter le service concerné de Pôle emploi afin de formuler une réclamation. Ensuite, si cette réclamation n'aboutit pas à résoudre le problème, on peut alors saisir le médiateur Pôle emploi.\r\n",
       "\r\n",
       "Le médiateur de Pôle emploi examine la demande et cherche à trouver des solutions amicales entre les parties impliquées. Il est important de noter qu'avant de contacter le médiateur, il est nécessaire de soumettre une réclamation auprès du service concerné de Pôle emploi.\r\n",
       "\r\n",
       "Il existe deux mécanismes possibles pour contacter le médiateur : soit par courriel, soit par voie postale. Cependant, il est conseillé de se référer au site internet officiel de Pôle emploi pour obtenir les coordonnées spécifiques du médiateur correspondant à leur région ou à celui national.\r\n",
       "\r\n",
       "Enfin, il est également possible de contacter le médiateur via le moyen téléphonique, mais cela devrait être pris en considération uniquement lorsque le courrier ou la poste sont difficiles à utiliser.\r\n",
       "\r\n",
       "N'hésitez pas à consulter le site internet de Pôle emploi pour obtenir toutes les informations nécessaires sur le processus de médiation ainsi que les coordonnées appropriées.</pre></div><div style=\"width: 50%; padding:10px;\"> <div style=\"text-align:center;color:blue;\">Llama temp 2</div> <pre class=\"qq\">Pour faire une demande de médiation en cas de litige avec Pôle emploi concernant une radiation ou une allocation chômage, voici quelques étapes à suivre :\n",
       "\n",
       "Tout d'abord, veuillez adresser une réclamation auprès du service concerné de Pôle emploi. Ensuite, si cette première étape n'arrive pas à résoudre le problème, vous pouvez contacter le médiateur Pôle emploi.\n",
       "\n",
       "Le médiateur peut être saisi après avoir adressé une réclamation au service concerné de Pôle emploi et obtenu une réponse insatisfaisante.\n",
       "\n",
       "Il existe deux mécanismes pour contacter le médiateur : soit via le site internet de Pôle emploi, soit en envoyant une demande de médiation par courriel au médiateur national.\n",
       "\n",
       "Si vous souhaitez contacter le médiateur par courriel, vous devriez utiliser le formulaire disponible sur le site de Pôle emploi.\n",
       "\n",
       "Enfin, lorsqu'on recevra votre demande de médiation, elle sera examinée et recherchées des solutions amiables entre les parties impliquées.\n",
       "\n",
       "Veuillez noter que si votre demande de médiation n'est pas acceptée, le médiateur doit vous communiquer les motifs de refus.\n",
       "\n",
       "N'hésitez pas à nous contacter si besoin pour obtenir davantage d'informations ou pour connaître les détails spécifiques liés à chaque situation personnelle.</pre></div></div>['emploi', 'demande', 'site', 'service', 'besoin']</div>"
      ],
      "text/plain": [
       "<IPython.core.display.HTML object>"
      ]
     },
     "metadata": {},
     "output_type": "display_data"
    },
    {
     "data": {
      "text/html": [
       "<br>"
      ],
      "text/plain": [
       "<IPython.core.display.HTML object>"
      ]
     },
     "metadata": {},
     "output_type": "display_data"
    },
    {
     "data": {
      "text/html": [
       "\n",
       "        <style>\n",
       "            .qq {\n",
       "                word-break: keep-all;\n",
       "                white-space: pre-wrap;\n",
       "            }\n",
       "        </style>\n",
       "\n",
       "        <div style=\"border:1px solid grey;padding:5px;border-radius:8px;\">\n",
       "            <div>ID: 05fe3903 &nbsp Q: 44</div>\n",
       "            <h5 style=\"font-weight: bold;\">Quels sont les recours possibles en cas de détention provisoire injustifiée ?</h5>\n",
       "            <div style=\"display:flex; align-items:top;\"><div style=\"width: 50%; padding:10px;\"> <div style=\"text-align:center;color:blue;\">Llama sample+rep-penalty</div> <pre class=\"qq\">En cas de détention provisoire injustifiée, il existe quelques recours possibles. Tout d'abord, il est important de contacter un avocat spécialisé afin de prendre conseil et de savoir quelle action légale appropriée à entreprendre. Ensuite, il est recommandé de signaler la situation à la Commission nationale des droits de l'homme (CNDH) et/ou à la Cour européenne des droits de l'Homme (CEDEM). Ces institutions seront capables de soutenir votre demande de justice et de représenter votre point de vue.</pre></div><div style=\"width: 50%; padding:10px;\"> <div style=\"text-align:center;color:blue;\">Llama temp 2</div> <pre class=\"qq\">En cas de détention provisoire injustifiée, il existe quelques recours possibles. Tout d'abord, il est important de signaler cette situation immédiatement afin de prendre toutes les mesures légales appropriées. Ensuite, il faut contacter un avocat spécialisé pour obtenir conseil juridique et représentation. Ils seront en mesure de fournir des conseils spécifiques basés sur chaque situation individuelle. De plus, les familles des personnes emprisonnées ont le droit de contester la validité de leurs arrestations devant un tribunal compétent.</pre></div></div>['situation', 'contester', 'avocat', 'existe', 'ensuite']</div>"
      ],
      "text/plain": [
       "<IPython.core.display.HTML object>"
      ]
     },
     "metadata": {},
     "output_type": "display_data"
    },
    {
     "data": {
      "text/html": [
       "<br>"
      ],
      "text/plain": [
       "<IPython.core.display.HTML object>"
      ]
     },
     "metadata": {},
     "output_type": "display_data"
    },
    {
     "data": {
      "text/html": [
       "\n",
       "        <style>\n",
       "            .qq {\n",
       "                word-break: keep-all;\n",
       "                white-space: pre-wrap;\n",
       "            }\n",
       "        </style>\n",
       "\n",
       "        <div style=\"border:1px solid grey;padding:5px;border-radius:8px;\">\n",
       "            <div>ID: 1423b4b9 &nbsp Q: 45</div>\n",
       "            <h5 style=\"font-weight: bold;\">Quelles sont les compétences et responsabilités du conseil syndical lors des réunions avec ses membres et les invités ?</h5>\n",
       "            <div style=\"display:flex; align-items:top;\"><div style=\"width: 50%; padding:10px;\"> <div style=\"text-align:center;color:blue;\">Llama sample+rep-penalty</div> <pre class=\"qq\">Le conseil syndical est composé de membres élus par les copropriétaires afin de gérer les affaires communes de l'immeuble. Durant les réunions, le conseil syndical discute des différents sujets relatifs à la gestion du syndicat des copropriétés. Il examine également les propositions présentées par les membres du conseil ainsi que celles des invités tels que le médecin du travail ou le membre de l'équipe pluridisciplinaire du service de prévention et de santé au travail.\r\n",
       "\r\n",
       "Les compétences et responsabilités du conseil syndical incluent la surveillance de la gestion financière du syndicat, la tenue régulière des réunions, la prise de décisions concernant les travaux d'entretien et de maintenance de l'immeuble, ainsi que la définition des tarifs d'utilisation des équipements communautaires.\r\n",
       "\r\n",
       "Il convient donc au conseil syndical de prendre toutes les mesures nécessaires pour garantir la transparence et la démocratie dans la gestion du syndicat des copropriétés.</pre></div><div style=\"width: 50%; padding:10px;\"> <div style=\"text-align:center;color:blue;\">Llama temp 2</div> <pre class=\"qq\">Le conseil syndical a certaines compétences et responsabilités lors des réunions avec ses membres et les invités. Il est composé de membres élus par les copropriétaires et/ou associés afin de représenter leur intérêt commun. Son objectif principal est de contrôler la gestion du syndic de copropriété et ainsi garantir la transparence financière et la protection des biens collectifs.</pre></div></div>['biens', 'protection', 'conseil', 'volet', 'entreprise']</div>"
      ],
      "text/plain": [
       "<IPython.core.display.HTML object>"
      ]
     },
     "metadata": {},
     "output_type": "display_data"
    },
    {
     "data": {
      "text/html": [
       "<br>"
      ],
      "text/plain": [
       "<IPython.core.display.HTML object>"
      ]
     },
     "metadata": {},
     "output_type": "display_data"
    },
    {
     "data": {
      "text/html": [
       "\n",
       "        <style>\n",
       "            .qq {\n",
       "                word-break: keep-all;\n",
       "                white-space: pre-wrap;\n",
       "            }\n",
       "        </style>\n",
       "\n",
       "        <div style=\"border:1px solid grey;padding:5px;border-radius:8px;\">\n",
       "            <div>ID: 0257346a &nbsp Q: 46</div>\n",
       "            <h5 style=\"font-weight: bold;\">Comment effectuer une demande professionnelle en lien avec le compte ANTS et France Connect, par exemple pour obtenir un passeport ?</h5>\n",
       "            <div style=\"display:flex; align-items:top;\"><div style=\"width: 50%; padding:10px;\"> <div style=\"text-align:center;color:blue;\">Llama sample+rep-penalty</div> <pre class=\"qq\">Pour effectuer une demande professionnelle en lien avec le compte ANTS et France Connect, comme pour obtenir un passeport, voici quelques étapes à suivre :\r\n",
       "\r\n",
       "1. Si nécessaire, créez un compte ANTS ou connectez-vous déjà à votre compte existant.\r\n",
       "2. Une fois connecté, accédez à 'Mes demandes'. Ceci vous permettra de voir toutes vos démarches en cours ainsi que celles à venir.\r\n",
       "3. Dans 'Mes demandes', cliquez sur 'Demande de passeport'. Cet ensemble de formulaires vous permettront de compléter tous les éléments nécessaires à la demande de passeport.\r\n",
       "4. Faites bien attention à remplir correctement chaque champ requis afin de garantir une meilleure expédition de votre demande.\r\n",
       "5. Lorsque tout est terminé, soumettez votre demande en cliquant sur 'Envoyer'.\r\n",
       "\r\n",
       "Il est important de noter que ces étapes peuvent varier selon les fonctionnalités disponibles sur le site web de l'ANTS et les spécifications techniques de France Connect.</pre></div><div style=\"width: 50%; padding:10px;\"> <div style=\"text-align:center;color:blue;\">Llama temp 2</div> <pre class=\"qq\">Pour effectuer une demande professionnelle en lien avec le compte ANTS et France Connect, tapez `pre-demande` dans le champ de recherche. Ceci te donnera la possibilité de préparer ta demande avant de venir au guichet.</pre></div></div>['demande', 'effectuer', 'professionnelle', 'france', 'compte']</div>"
      ],
      "text/plain": [
       "<IPython.core.display.HTML object>"
      ]
     },
     "metadata": {},
     "output_type": "display_data"
    },
    {
     "data": {
      "text/html": [
       "<br>"
      ],
      "text/plain": [
       "<IPython.core.display.HTML object>"
      ]
     },
     "metadata": {},
     "output_type": "display_data"
    },
    {
     "data": {
      "text/html": [
       "\n",
       "        <style>\n",
       "            .qq {\n",
       "                word-break: keep-all;\n",
       "                white-space: pre-wrap;\n",
       "            }\n",
       "        </style>\n",
       "\n",
       "        <div style=\"border:1px solid grey;padding:5px;border-radius:8px;\">\n",
       "            <div>ID: e32d1a99 &nbsp Q: 47</div>\n",
       "            <h5 style=\"font-weight: bold;\">Que faire en cas de vol de documents d'identité tels que le passeport, et quelle est la procédure de déclaration au commissariat ou à la gendarmerie ?</h5>\n",
       "            <div style=\"display:flex; align-items:top;\"><div style=\"width: 50%; padding:10px;\"> <div style=\"text-align:center;color:blue;\">Llama sample+rep-penalty</div> <pre class=\"qq\">En cas de vol de documents d'identité comme le passeport, il est important de déposer une déclaration au commissariat de police ou à la gendarmerie immédiatement après avoir constaté le vol. Cela permettra de prendre toutes les mesures nécessaires pour retrouver ces documents et éviter toute fraude.</pre></div><div style=\"width: 50%; padding:10px;\"> <div style=\"text-align:center;color:blue;\">Llama temp 2</div> <pre class=\"qq\">En cas de vol de documents d'identité tels que le passeport, il est recommandé de se rendre immédiatement au commissariat de police ou à la gendarmerie afin de faire une déclaration du vol. Dans cette situation, il y aura probablement un récépissé remis à la personne après avoir effectué la déclaration. Cependant, veuillez noter que ces informations peuvent varier en fonction des circonstances spécifiques de chaque cas.\n",
       "\n",
       "Il est important de souligner que si le passport a été volé, il est nécessaire de demander une nouvelle carte d'identité avant toute autre demande. Cela nécessite également la présence du responsable légal de la personne concernée, qui devrait être présent lorsque la carte d’identité sera demandée.</pre></div></div>['carte', 'passeport', 'remis', 'police', 'nouvelle']</div>"
      ],
      "text/plain": [
       "<IPython.core.display.HTML object>"
      ]
     },
     "metadata": {},
     "output_type": "display_data"
    },
    {
     "data": {
      "text/html": [
       "<br>"
      ],
      "text/plain": [
       "<IPython.core.display.HTML object>"
      ]
     },
     "metadata": {},
     "output_type": "display_data"
    },
    {
     "data": {
      "text/html": [
       "\n",
       "        <style>\n",
       "            .qq {\n",
       "                word-break: keep-all;\n",
       "                white-space: pre-wrap;\n",
       "            }\n",
       "        </style>\n",
       "\n",
       "        <div style=\"border:1px solid grey;padding:5px;border-radius:8px;\">\n",
       "            <div>ID: 613bea0d &nbsp Q: 48</div>\n",
       "            <h5 style=\"font-weight: bold;\">Quels sont les documents et pièces justificatives nécessaires pour effectuer une pré-demande de carte d'identité biométrique ?</h5>\n",
       "            <div style=\"display:flex; align-items:top;\"><div style=\"width: 50%; padding:10px;\"> <div style=\"text-align:center;color:blue;\">Llama sample+rep-penalty</div> <pre class=\"qq\">Pour effectuer une pré-demande de carte d'identité biométrique, voici les documents et pièces justificatives requis :\r\n",
       "\r\n",
       "1. Une photographie d'identité de moins de 6 mois et conforme aux normes.\r\n",
       "2. Une pièce d'identité du parent qui déposera la demande.\r\n",
       "3. Un justificatif de domicile.\r\n",
       "4. S'ils ont fait une pré-demande, ils devront également indiquer leur numéro de pré-demande ainsi que le QR code obtenu à la fin de la démarche.\r\n",
       "\r\n",
       "Il est important de noter que ces informations sont données à titre indicatif et qu'il est recommandé de consulter directement l'Agence nationale des titres sécurisés (ANTS) pour connaître les spécifications actuelles et les démarches à suivre.</pre></div><div style=\"width: 50%; padding:10px;\"> <div style=\"text-align:center;color:blue;\">Llama temp 2</div> <pre class=\"qq\">Pour effectuer une pré-demande de carte d'identité biométrique, voici les documents et pièces justificatives requises :\n",
       "\n",
       "– Une photo d'identité de moins de six mois et conforme aux normes.\n",
       "\n",
       "– Une pièce d'identité du parent qui dépose la demande.\n",
       "\n",
       "– Un justificatif de domicile.\n",
       "\n",
       "Si vous avez fait une pré-demande, veillez bien à conserver le numéro de pré-demande ainsi que le QR code obtenu à la fin de la démarche.\n",
       "\n",
       "Cependant, il est important de noter que ces informations sont basées sur les références disponibles. Par conséquent, nous sommes limités dans notre capacité à répondre à cette question spécifique.</pre></div></div>['demande', 'sommes', 'justificatif', 'bien', 'justificatives']</div>"
      ],
      "text/plain": [
       "<IPython.core.display.HTML object>"
      ]
     },
     "metadata": {},
     "output_type": "display_data"
    },
    {
     "data": {
      "text/html": [
       "<br>"
      ],
      "text/plain": [
       "<IPython.core.display.HTML object>"
      ]
     },
     "metadata": {},
     "output_type": "display_data"
    },
    {
     "data": {
      "text/html": [
       "\n",
       "        <style>\n",
       "            .qq {\n",
       "                word-break: keep-all;\n",
       "                white-space: pre-wrap;\n",
       "            }\n",
       "        </style>\n",
       "\n",
       "        <div style=\"border:1px solid grey;padding:5px;border-radius:8px;\">\n",
       "            <div>ID: 71488538 &nbsp Q: 49</div>\n",
       "            <h5 style=\"font-weight: bold;\">Quels sont les délais de fabrication et de retrait des cartes d'identité dans différents pays, et comment faire en cas de demande à l'étranger via un consulat ou une ambassade ?</h5>\n",
       "            <div style=\"display:flex; align-items:top;\"><div style=\"width: 50%; padding:10px;\"> <div style=\"text-align:center;color:blue;\">Llama sample+rep-penalty</div> <pre class=\"qq\">Les délais de fabrication et de retrait des cartes d'identité varient selon chaque pays. Dans certaines destinations, il existe des délais spécifiques pour la production et la livraison des cartes d'identité. Par exemple, en Suisse, les délais de fabrication et de retrait sont généralement compris entre deux semaines et trois semaines.\r\n",
       "\r\n",
       "Pour effectuer une demande de carte d'identité à l'étranger via un consulat ou une ambassade, il est recommandé de contacter directement ces institutions afin de connaître leurs procédures particulières. Ils seront en mesure de vous informer sur les délais de fabrication et de retrait ainsi que sur les autres formalités nécessaires à la réalisation de cette demande.\r\n",
       "\r\n",
       "Il est important de souligner que ces informations sont basées sur des données générales et qu'il est toujours conseillé de se rapprocher des autorités diplomatiques localement pour obtenir des informations précises et actualisées.</pre></div><div style=\"width: 50%; padding:10px;\"> <div style=\"text-align:center;color:blue;\">Llama temp 2</div> <pre class=\"qq\">Les délais de fabrication et de retrait des cartes d'identité varient en fonction du pays. Dans certaines régions, ils peuvent prendre jusqu'à quelques semaines voire plusieurs mois. Cela dépend également du niveau de service offert par chaque administration. Par exemple, dans certains pays, il existe des stations d'enregistrement disponibles dans les mairies pour faciliter la procédure de demande. Cependant, il est important de préciser que ces informations sont basées sur des données générales et éventuellement sujettes à changements.</pre></div></div>['pays', 'existe', 'prendre', 'administration', 'informations']</div>"
      ],
      "text/plain": [
       "<IPython.core.display.HTML object>"
      ]
     },
     "metadata": {},
     "output_type": "display_data"
    },
    {
     "data": {
      "text/html": [
       "<br>"
      ],
      "text/plain": [
       "<IPython.core.display.HTML object>"
      ]
     },
     "metadata": {},
     "output_type": "display_data"
    }
   ],
   "source": [
    "import IPython.display as display\n",
    "import pandas as pd\n",
    "\n",
    "corpus = pd.read_json(\"corpus-eval-v4.json\")\n",
    "\n",
    "def draw(view):\n",
    "    display.display(display.HTML(view))\n",
    "\n",
    "def draw_cols(cols, with_refs=False):\n",
    "    col_len = 100 // len(cols)\n",
    "    draw(f'''\n",
    "        <style>\n",
    "            .qq {{\n",
    "                word-break: keep-all;\n",
    "                white-space: pre-wrap;\n",
    "            }}\n",
    "        </style>\n",
    "\n",
    "        <div style=\"border:1px solid grey;padding:5px;border-radius:8px;\">\n",
    "            <div>ID: {qid} &nbsp Q: {i}</div>\n",
    "            <h5 style=\"font-weight: bold;\">{question}</h5>\n",
    "            <div style=\"display:flex; align-items:top;\">'''\n",
    "                    + ''.join([\n",
    "                                f'<div style=\"width: {col_len}%; padding:10px;\"> <div style=\"text-align:center;color:blue;\">{title}</div> <pre class=\"qq\">{answer}</pre></div>'\n",
    "                                for title, answer in cols\n",
    "                                ])\n",
    "            + '</div>'\n",
    "            + str(extract_top_words(cols[1][1], 5))\n",
    "            + (f'''<br><br>{\"=\"*100}<br><br>\n",
    "                 <pre>REFERENCES:<br><br>{\"<br>\".join(x[\"references_raw\"])}\n",
    "                 </pre>''' if with_refs else '')\n",
    "        + '</div>')\n",
    "    draw(\"<br>\")\n",
    "   \n",
    "\n",
    "for i, x in corpus.iterrows():\n",
    "    qid = x[\"qid\"]\n",
    "    question = x[\"question\"]\n",
    "\n",
    "    cols = [\n",
    "        #(\"Xgen\", x[\"answer_xgen\"]),\n",
    "        (\"Llama sample+rep-penalty\", x[\"answer_llama_ref_base\"]),\n",
    "        #(\"Llama sample+rep-penalty 2\", x[\"answer_llama_ref_base\"]),\n",
    "        #(\"Lama rep-penaly\", x[\"answer_llama_ref\"]),\n",
    "        #(\"Llama sample\", x[\"answer_llama_ref_sample\"]),\n",
    "        #(\"Llama temp\", x[\"answer_llama_ref_teperature\"]),\n",
    "        (\"Llama temp 2\", x[\"answer_llama_ref_temperature_2\"]),\n",
    "        #(\"Llama beams 2\", x[\"answer_llama_ref_beams_2\"]),\n",
    "        #(\"Llama beams\", x[\"answer_llama_ref_beams\"]),\n",
    "    ]\n",
    "\n",
    "    draw_cols(cols, with_refs=False)"
   ]
  },
  {
   "cell_type": "code",
   "execution_count": null,
   "id": "201278f3-dfec-41b4-b415-33be680d05e6",
   "metadata": {},
   "outputs": [],
   "source": []
  },
  {
   "cell_type": "markdown",
   "id": "de4da69d-d3da-428b-a456-ac4f85a7914b",
   "metadata": {},
   "source": []
  }
 ],
 "metadata": {
  "kernelspec": {
   "display_name": "Python 3 (ipykernel)",
   "language": "python",
   "name": "python3"
  },
  "language_info": {
   "codemirror_mode": {
    "name": "ipython",
    "version": 3
   },
   "file_extension": ".py",
   "mimetype": "text/x-python",
   "name": "python",
   "nbconvert_exporter": "python",
   "pygments_lexer": "ipython3",
   "version": "3.9.2"
  }
 },
 "nbformat": 4,
 "nbformat_minor": 5
}
