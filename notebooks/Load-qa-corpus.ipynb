{
 "cells": [
  {
   "cell_type": "markdown",
   "id": "74c702f0-1b0f-49e3-bc30-587ea61810da",
   "metadata": {},
   "source": [
    "# Convert gpt q&a corpus"
   ]
  },
  {
   "cell_type": "code",
   "execution_count": 2,
   "id": "40ad64ba-9261-43d9-9f18-a020e9941468",
   "metadata": {},
   "outputs": [],
   "source": [
    "import os\n",
    "import pandas as pd\n",
    "from pprint import pprint"
   ]
  },
  {
   "cell_type": "code",
   "execution_count": 3,
   "id": "ed6bda41-7c1c-446a-b023-9507ca1e15d6",
   "metadata": {},
   "outputs": [
    {
     "data": {
      "text/html": [
       "<div>\n",
       "<style scoped>\n",
       "    .dataframe tbody tr th:only-of-type {\n",
       "        vertical-align: middle;\n",
       "    }\n",
       "\n",
       "    .dataframe tbody tr th {\n",
       "        vertical-align: top;\n",
       "    }\n",
       "\n",
       "    .dataframe thead th {\n",
       "        text-align: right;\n",
       "    }\n",
       "</style>\n",
       "<table border=\"1\" class=\"dataframe\">\n",
       "  <thead>\n",
       "    <tr style=\"text-align: right;\">\n",
       "      <th></th>\n",
       "      <th>question</th>\n",
       "      <th>answer</th>\n",
       "      <th>prompt</th>\n",
       "      <th>token_answer</th>\n",
       "      <th>tokens_prompt</th>\n",
       "      <th>time_taken</th>\n",
       "      <th>urls_contexts</th>\n",
       "      <th>score_retrieving</th>\n",
       "      <th>chunks_index</th>\n",
       "    </tr>\n",
       "  </thead>\n",
       "  <tbody>\n",
       "    <tr>\n",
       "      <th>0</th>\n",
       "      <td>Quelles sont les conditions requises pour béné...</td>\n",
       "      <td>Le supplément de loyer de solidarité (SLS) est...</td>\n",
       "      <td>Voici plusieurs références sur un même thème :...</td>\n",
       "      <td>321</td>\n",
       "      <td>2894</td>\n",
       "      <td>10.92</td>\n",
       "      <td>https://www.service-public.fr/particuliers/vos...</td>\n",
       "      <td>65.44\\n63.40\\n61.69</td>\n",
       "      <td>6860\\n3844\\n7721</td>\n",
       "    </tr>\n",
       "    <tr>\n",
       "      <th>1</th>\n",
       "      <td>Comment est calculé le surloyer pour les locat...</td>\n",
       "      <td>Le calcul du surloyer pour les locataires rési...</td>\n",
       "      <td>Voici plusieurs références sur un même thème :...</td>\n",
       "      <td>127</td>\n",
       "      <td>3394</td>\n",
       "      <td>6.61</td>\n",
       "      <td>https://www.service-public.fr/particuliers/vos...</td>\n",
       "      <td>68.72\\n64.41\\n64.04</td>\n",
       "      <td>5694\\n12599\\n7729</td>\n",
       "    </tr>\n",
       "    <tr>\n",
       "      <th>2</th>\n",
       "      <td>Quels sont les critères de revenus maximums po...</td>\n",
       "      <td>Pour être éligible au prêt locatif intermédiai...</td>\n",
       "      <td>Voici plusieurs références sur un même thème :...</td>\n",
       "      <td>343</td>\n",
       "      <td>3284</td>\n",
       "      <td>11.62</td>\n",
       "      <td>https://www.service-public.fr/particuliers/vos...</td>\n",
       "      <td>72.03\\n66.38\\n63.23</td>\n",
       "      <td>0\\n3053\\n3602</td>\n",
       "    </tr>\n",
       "    <tr>\n",
       "      <th>3</th>\n",
       "      <td>Quels documents sont nécessaires pour la régul...</td>\n",
       "      <td>Pour régulariser le supplément de loyer en cas...</td>\n",
       "      <td>Voici plusieurs références sur un même thème :...</td>\n",
       "      <td>452</td>\n",
       "      <td>3484</td>\n",
       "      <td>12.71</td>\n",
       "      <td>https://www.service-public.fr/professionnels-e...</td>\n",
       "      <td>73.26\\n73.25\\n72.84</td>\n",
       "      <td>13404\\n9039\\n2</td>\n",
       "    </tr>\n",
       "    <tr>\n",
       "      <th>4</th>\n",
       "      <td>Quelle est la différence entre le supplément d...</td>\n",
       "      <td>La différence entre le supplément de loyer de ...</td>\n",
       "      <td>Voici plusieurs références sur un même thème :...</td>\n",
       "      <td>542</td>\n",
       "      <td>3215</td>\n",
       "      <td>14.87</td>\n",
       "      <td>https://www.service-public.fr/particuliers/vos...</td>\n",
       "      <td>93.16\\n91.38\\n90.70</td>\n",
       "      <td>9070\\n6860\\n6</td>\n",
       "    </tr>\n",
       "  </tbody>\n",
       "</table>\n",
       "</div>"
      ],
      "text/plain": [
       "                                            question  \\\n",
       "0  Quelles sont les conditions requises pour béné...   \n",
       "1  Comment est calculé le surloyer pour les locat...   \n",
       "2  Quels sont les critères de revenus maximums po...   \n",
       "3  Quels documents sont nécessaires pour la régul...   \n",
       "4  Quelle est la différence entre le supplément d...   \n",
       "\n",
       "                                              answer  \\\n",
       "0  Le supplément de loyer de solidarité (SLS) est...   \n",
       "1  Le calcul du surloyer pour les locataires rési...   \n",
       "2  Pour être éligible au prêt locatif intermédiai...   \n",
       "3  Pour régulariser le supplément de loyer en cas...   \n",
       "4  La différence entre le supplément de loyer de ...   \n",
       "\n",
       "                                              prompt  token_answer  \\\n",
       "0  Voici plusieurs références sur un même thème :...           321   \n",
       "1  Voici plusieurs références sur un même thème :...           127   \n",
       "2  Voici plusieurs références sur un même thème :...           343   \n",
       "3  Voici plusieurs références sur un même thème :...           452   \n",
       "4  Voici plusieurs références sur un même thème :...           542   \n",
       "\n",
       "   tokens_prompt  time_taken  \\\n",
       "0           2894       10.92   \n",
       "1           3394        6.61   \n",
       "2           3284       11.62   \n",
       "3           3484       12.71   \n",
       "4           3215       14.87   \n",
       "\n",
       "                                       urls_contexts     score_retrieving  \\\n",
       "0  https://www.service-public.fr/particuliers/vos...  65.44\\n63.40\\n61.69   \n",
       "1  https://www.service-public.fr/particuliers/vos...  68.72\\n64.41\\n64.04   \n",
       "2  https://www.service-public.fr/particuliers/vos...  72.03\\n66.38\\n63.23   \n",
       "3  https://www.service-public.fr/professionnels-e...  73.26\\n73.25\\n72.84   \n",
       "4  https://www.service-public.fr/particuliers/vos...  93.16\\n91.38\\n90.70   \n",
       "\n",
       "        chunks_index  \n",
       "0   6860\\n3844\\n7721  \n",
       "1  5694\\n12599\\n7729  \n",
       "2      0\\n3053\\n3602  \n",
       "3     13404\\n9039\\n2  \n",
       "4      9070\\n6860\\n6  "
      ]
     },
     "execution_count": 3,
     "metadata": {},
     "output_type": "execute_result"
    }
   ],
   "source": [
    "# Make corpus-result from xlsx data\n",
    "\n",
    "basedir = \"../../data/\"\n",
    "filename = \"gpt_corpus-20kq&A.xlsx\"\n",
    "sheet = \"results\"\n",
    "df = pd.read_excel(basedir + filename, sheet_name=sheet, usecols=\"A:I\")\n",
    "df.dropna(how=\"all\", inplace=True)\n",
    "df.head()"
   ]
  },
  {
   "cell_type": "code",
   "execution_count": 4,
   "id": "00f6613f-ab41-4853-b869-bd79f546c005",
   "metadata": {},
   "outputs": [],
   "source": [
    "df.to_csv('corpus-results.csv', index=False)"
   ]
  },
  {
   "cell_type": "code",
   "execution_count": null,
   "id": "9c70e744-a625-4a22-9638-db75162edb98",
   "metadata": {},
   "outputs": [],
   "source": []
  },
  {
   "cell_type": "code",
   "execution_count": 5,
   "id": "b689a2ec-63ea-49e9-b640-1ea95c8168fe",
   "metadata": {},
   "outputs": [],
   "source": [
    "# pprint(df.iloc[0].to_dict())"
   ]
  },
  {
   "cell_type": "markdown",
   "id": "44c06b71-21bc-4dae-9192-be270be23964",
   "metadata": {},
   "source": [
    "# Inference utils"
   ]
  },
  {
   "cell_type": "code",
   "execution_count": 5,
   "id": "ba54e03b-dc90-4707-8de4-01bb1f8a8a16",
   "metadata": {},
   "outputs": [],
   "source": [
    "# Inference utils\n",
    "\n",
    "import pandas as pd\n",
    "import time\n",
    "import os\n",
    "\n",
    "\n",
    "def extract_substring(text, start_tag, end_tag, include_tag=False):\n",
    "    start_index = text.find(start_tag)\n",
    "    if start_index == -1:\n",
    "      return \"\"\n",
    "\n",
    "    end_index = text[start_index:].find(end_tag)\n",
    "    if end_index == -1:\n",
    "        return \"\"\n",
    "    end_index += start_index\n",
    "\n",
    "    if include_tag:\n",
    "        end_index += len(end_tag)\n",
    "    else:\n",
    "        start_index += len(start_tag)\n",
    "\n",
    "    return text[start_index:end_index]\n",
    "    \n"
   ]
  },
  {
   "cell_type": "code",
   "execution_count": null,
   "id": "c49c072a-31b7-43cd-8ec7-b2ad4400ae67",
   "metadata": {},
   "outputs": [],
   "source": []
  },
  {
   "cell_type": "markdown",
   "id": "90f3bbe7-e5df-4693-bc7c-d554e71f1748",
   "metadata": {},
   "source": [
    "# Save answers"
   ]
  },
  {
   "cell_type": "code",
   "execution_count": 6,
   "id": "68872e7d-e3d6-4c30-893c-aec77c478501",
   "metadata": {},
   "outputs": [
    {
     "data": {
      "text/plain": [
       "['question',\n",
       " 'answer',\n",
       " 'prompt',\n",
       " 'token_answer',\n",
       " 'tokens_prompt',\n",
       " 'time_taken',\n",
       " 'urls_contexts',\n",
       " 'score_retrieving',\n",
       " 'chunks_index']"
      ]
     },
     "execution_count": 6,
     "metadata": {},
     "output_type": "execute_result"
    }
   ],
   "source": [
    "import hashlib\n",
    "import pandas as pd\n",
    "\n",
    "res = pd.read_csv('corpus-results.csv')\n",
    "res.columns.tolist()  "
   ]
  },
  {
   "cell_type": "code",
   "execution_count": 7,
   "id": "2bb38054-4abc-4801-93e2-b40489764418",
   "metadata": {},
   "outputs": [],
   "source": [
    "# Make eval-corpus from drive answer txt files.\n",
    "eval_corpus = []\n",
    "with_prompt = False\n",
    "version = \"v4\"\n",
    "ext = \"\"\n",
    "\n",
    "for i, x in res.iterrows():\n",
    "    question = x[\"question\"]\n",
    "    answer_xgen = x[\"answer\"]\n",
    "    references = x[\"urls_contexts\"].split()\n",
    "    hash = hashlib.blake2b(question.encode(), digest_size=4).hexdigest()\n",
    "\n",
    "    with open(f\"answers/llama_ref_{version}{ext}/{i}.txt\") as f:\n",
    "        a_ref = f.read()\n",
    "\n",
    "    with open(f\"answers/llama_ref_{version}{ext}_sample/{i}.txt\") as f:\n",
    "        a_ref_sample = f.read()\n",
    "\n",
    "\n",
    "    prompt = x[\"prompt\"]\n",
    "    ref1 = extract_substring(prompt, \"référence 0\", \"\\n\", include_tag=True)\n",
    "    ref2 = extract_substring(prompt, \"référence 1\", \"\\n\", include_tag=True)\n",
    "    ref3 = extract_substring(prompt, \"référence 2\", \"\\n\", include_tag=True)\n",
    "    \n",
    "    item = {\n",
    "        \"qid\": hash,\n",
    "        \"question\": question,\n",
    "        \"answer_xgen\": answer_xgen,\n",
    "        \"references\": references,\n",
    "        \"references_raw\": [ref1, ref2, ref3],\n",
    "        \"answer_llama_ref\": a_ref,\n",
    "        \"answer_llama_ref_sample\": a_ref_sample,\n",
    "    }\n",
    "    if with_prompt:\n",
    "        p = \"Voici une liste de références :\\n>>REFERENCES<<\\n\" + ref1 + ref2 + ref3 + \"\\n\" + \">>QUESTION<<\\n\" + question\n",
    "        item['prompt'] = p,\n",
    "\n",
    "    eval_corpus.append(item)\n",
    "    if i == 49:\n",
    "        break\n",
    "\n",
    "fn = f\"corpus-eval-with-prompt-{version}.json\" if with_prompt else f\"corpus-eval-{version}.json\"\n",
    "pd.DataFrame(eval_corpus).to_json(fn, orient=\"records\", indent=2, force_ascii=False)"
   ]
  },
  {
   "cell_type": "code",
   "execution_count": 63,
   "id": "07fad772-607d-462e-a8fb-1b39770a3e52",
   "metadata": {},
   "outputs": [],
   "source": [
    "#print(res.iloc[0][\"prompt\"])"
   ]
  },
  {
   "cell_type": "code",
   "execution_count": 23,
   "id": "8d0824d0-0766-476d-ac58-bd87acfdb1ff",
   "metadata": {},
   "outputs": [
    {
     "data": {
      "text/plain": [
       "1486.2720375024164"
      ]
     },
     "execution_count": 23,
     "metadata": {},
     "output_type": "execute_result"
    }
   ],
   "source": [
    "res[\"prompt\"].apply(lambda x: len(x.split())).mean()"
   ]
  },
  {
   "cell_type": "code",
   "execution_count": null,
   "id": "ffe20a49-df14-44ab-9fe9-b1abcecfdb8c",
   "metadata": {},
   "outputs": [],
   "source": []
  },
  {
   "cell_type": "markdown",
   "id": "1f8dd7ee-514e-4622-ba80-275ee4c17921",
   "metadata": {},
   "source": [
    "# Quantitative Evaluation"
   ]
  },
  {
   "cell_type": "code",
   "execution_count": 47,
   "id": "a9580bb2-46b1-438f-a99b-65d2aa1c4c47",
   "metadata": {},
   "outputs": [],
   "source": [
    "import json\n",
    "import pandas as pd\n",
    "import numpy as np\n",
    "from sklearn.feature_extraction.text import TfidfVectorizer\n",
    "from spacy.lang.fr.stop_words import STOP_WORDS as fr_stop\n",
    "\n",
    "# Tfidf feature extractions\n",
    "# --\n",
    "\n",
    "# Get documents from chunks\n",
    "with open(\"xmlfiles_as_chunks.json\") as f:\n",
    "    documents = [x[\"data\"] for x in json.load(f)]\n",
    "\n",
    "# Initialize the TF-IDF vectorizer\n",
    "vectorizer = TfidfVectorizer(stop_words=fr_stop, min_df=0.05, max_df=0.9,\n",
    "                             token_pattern=r'\\b[A-Za-z_][A-Za-z_]+\\b')\n",
    "\n",
    "# Compute the TF-IDF matrix\n",
    "tfidf_matrix = vectorizer.fit_transform(documents)\n",
    "\n",
    "# Get the feature names (words)\n",
    "feature_names = vectorizer.get_feature_names()\n",
    "\n",
    "# Function to extract the top n most salient words from a document\n",
    "def extract_top_words(document, n=3):\n",
    "    # Compute the TF-IDF scores for the given document\n",
    "    #scores = tfidf_matrix[document]\n",
    "    scores = vectorizer.transform([document])\n",
    "\n",
    "    # Sort the TF-IDF scores in descending order\n",
    "    sorted_indices = scores.toarray()[0].argsort()[::-1]\n",
    "\n",
    "    # Extract the top n most salient words\n",
    "    top_words = [feature_names[i] for i in sorted_indices[:n]]\n",
    "\n",
    "    return top_words"
   ]
  },
  {
   "cell_type": "code",
   "execution_count": 55,
   "id": "0176f8a2-b049-4a9a-8861-63c9b35135dd",
   "metadata": {},
   "outputs": [
    {
     "data": {
      "text/html": [
       "<style  type=\"text/css\" >\n",
       "#T_1c3e7_row0_col0,#T_1c3e7_row1_col2,#T_1c3e7_row4_col1{\n",
       "            background-color:  #dbf1f9;\n",
       "        }#T_1c3e7_row0_col1,#T_1c3e7_row1_col1,#T_1c3e7_row2_col0,#T_1c3e7_row2_col1,#T_1c3e7_row2_col2{\n",
       "            background-color:  #eadddd;\n",
       "        }</style><table id=\"T_1c3e7_\" ><thead>    <tr>        <th class=\"blank level0\" ></th>        <th class=\"col_heading level0 col0\" >size</th>        <th class=\"col_heading level0 col1\" >no result</th>        <th class=\"col_heading level0 col2\" >ref mention</th>    </tr></thead><tbody>\n",
       "                <tr>\n",
       "                        <th id=\"T_1c3e7_level0_row0\" class=\"row_heading level0 row0\" >Xgen</th>\n",
       "                        <td id=\"T_1c3e7_row0_col0\" class=\"data row0 col0\" >195 ± 87</td>\n",
       "                        <td id=\"T_1c3e7_row0_col1\" class=\"data row0 col1\" >1</td>\n",
       "                        <td id=\"T_1c3e7_row0_col2\" class=\"data row0 col2\" >5</td>\n",
       "            </tr>\n",
       "            <tr>\n",
       "                        <th id=\"T_1c3e7_level0_row1\" class=\"row_heading level0 row1\" >Llama sample+rep-penalty</th>\n",
       "                        <td id=\"T_1c3e7_row1_col0\" class=\"data row1 col0\" >126 ± 59</td>\n",
       "                        <td id=\"T_1c3e7_row1_col1\" class=\"data row1 col1\" >1</td>\n",
       "                        <td id=\"T_1c3e7_row1_col2\" class=\"data row1 col2\" >11</td>\n",
       "            </tr>\n",
       "            <tr>\n",
       "                        <th id=\"T_1c3e7_level0_row2\" class=\"row_heading level0 row2\" >Llama rep-penaly</th>\n",
       "                        <td id=\"T_1c3e7_row2_col0\" class=\"data row2 col0\" >91 ± 55</td>\n",
       "                        <td id=\"T_1c3e7_row2_col1\" class=\"data row2 col1\" >1</td>\n",
       "                        <td id=\"T_1c3e7_row2_col2\" class=\"data row2 col2\" >4</td>\n",
       "            </tr>\n",
       "            <tr>\n",
       "                        <th id=\"T_1c3e7_level0_row3\" class=\"row_heading level0 row3\" >Llama sample</th>\n",
       "                        <td id=\"T_1c3e7_row3_col0\" class=\"data row3 col0\" >116 ± 68</td>\n",
       "                        <td id=\"T_1c3e7_row3_col1\" class=\"data row3 col1\" >2</td>\n",
       "                        <td id=\"T_1c3e7_row3_col2\" class=\"data row3 col2\" >9</td>\n",
       "            </tr>\n",
       "            <tr>\n",
       "                        <th id=\"T_1c3e7_level0_row4\" class=\"row_heading level0 row4\" >Llama beams</th>\n",
       "                        <td id=\"T_1c3e7_row4_col0\" class=\"data row4 col0\" >121 ± 69</td>\n",
       "                        <td id=\"T_1c3e7_row4_col1\" class=\"data row4 col1\" >4</td>\n",
       "                        <td id=\"T_1c3e7_row4_col2\" class=\"data row4 col2\" >9</td>\n",
       "            </tr>\n",
       "    </tbody></table>"
      ],
      "text/plain": [
       "<pandas.io.formats.style.Styler at 0x7f8c99317ee0>"
      ]
     },
     "execution_count": 55,
     "metadata": {},
     "output_type": "execute_result"
    }
   ],
   "source": [
    "# Draw Evalutation table\n",
    "# --\n",
    "\n",
    "corpus = pd.read_json(\"corpus-eval-v4.json\")\n",
    "res = {}\n",
    "for i, x in corpus.iterrows():\n",
    "    cols = [\n",
    "        (\"Xgen\", x[\"answer_xgen\"]),\n",
    "        (\"Llama sample+rep-penalty\", x[\"answer_llama_base_ref\"]),\n",
    "        (\"Llama rep-penaly\", x[\"answer_llama_ref\"]),\n",
    "        (\"Llama sample\", x[\"answer_llama_ref_sample\"]),\n",
    "        (\"Llama beams\", x[\"answer_llama_ref_beams\"]),\n",
    "    ]\n",
    "    for title, answer in cols:\n",
    "        data = res.get(title, {})\n",
    "        # Answer length\n",
    "        # --\n",
    "        size = data.get(\"size\", [])\n",
    "        size.append(len(answer.split()))\n",
    "        data[\"size\"] = size\n",
    "        # No results\n",
    "        # --\n",
    "        size = data.get(\"no result\", [])\n",
    "        size.append(len(answer.split(\".\")) in [1,2] and \"pas\" in answer.split())\n",
    "        data[\"no result\"] = size\n",
    "        # Reference mention\n",
    "        # --\n",
    "        size = data.get(\"ref mention\", [])\n",
    "        size.append(\"références\" in answer.split())\n",
    "        data[\"ref mention\"] = size\n",
    "\n",
    "        # Ratio of best words\n",
    "        #...\n",
    "        \n",
    "        res[title] = data\n",
    "\n",
    "# Calculate the mean and standard deviation for each list and store them in a new dictionary\n",
    "summary_data = {}\n",
    "for outer_key, inner_dict in res.items():\n",
    "    for inner_key, inner_list in inner_dict.items():\n",
    "        mean_value = np.mean(inner_list)\n",
    "        std_value = np.std(inner_list)\n",
    "        if inner_key in  ['no result', \"ref mention\"]:\n",
    "            # Count occurences\n",
    "            summary_data.setdefault(inner_key, []).append(str(sum(inner_list)))\n",
    "        else:\n",
    "            summary_data.setdefault(inner_key, []).append(f\"{mean_value:.0f} ± {std_value:.0f}\")\n",
    "\n",
    "\n",
    "# Create a pandas DataFrame from the summary_data dictionary\n",
    "df = pd.DataFrame(summary_data, index=res.keys())\n",
    "\n",
    "# Define a function to highlight max value an min values\n",
    "def highlight_max_min(s):\n",
    "    # if '±' not in s.str:\n",
    "    #     return s\n",
    "    mean_values = s.str.split(' ± ').str[0].astype(float)  # Extract mean values from the string\n",
    "    is_max = mean_values == mean_values.max()\n",
    "    is_min = mean_values == mean_values.min()   \n",
    "    return ['background-color: #dbf1f9' if v else 'background-color: #eadddd' if m else '' for v, m in zip(is_max, is_min)]\n",
    "\n",
    "styled_df = df.style.apply(highlight_max_min)\n",
    "styled_df"
   ]
  },
  {
   "cell_type": "markdown",
   "id": "287ce841-5466-4de9-8c9e-faf3ac8400b8",
   "metadata": {},
   "source": [
    "# Qualitative Evaluation"
   ]
  },
  {
   "cell_type": "code",
   "execution_count": 48,
   "id": "483fc511-18c1-4b08-a9ec-5a902739ff7f",
   "metadata": {},
   "outputs": [
    {
     "data": {
      "text/html": [
       "\n",
       "        <style>\n",
       "            .qq {\n",
       "                word-break: keep-all;\n",
       "                white-space: pre-wrap;\n",
       "            }\n",
       "        </style>\n",
       "\n",
       "        <div style=\"border:1px solid grey;padding:5px;border-radius:8px;\">\n",
       "            <div>ID: d1268e8c &nbsp Q: 0</div>\n",
       "            <h5 style=\"font-weight: bold;\">Quelles sont les conditions requises pour bénéficier du supplément de loyer de solidarité en tant que locataire dans un logement social en Île-de-France ?</h5>\n",
       "            <div style=\"display:flex; align-items:top;\"><div style=\"width: 25%; padding:10px;\"> <div style=\"text-align:center;color:blue;\">Llama sample+rep-penalty</div> <pre class=\"qq\">Pour bénéficier du supplément de loyer de solidarité en tant que locataire dans un logement social en Île-de-France, certaines conditions doivent être remplies. Tout d'abord, il faut prendre en compte que le montant du loyer d'un logement social est fixé selon une règle de calcul qui s'impose au bailleur. Cela signifie que le montant du loyer variera en fonction de différents critères tels que la surface du logement, la localisation géographique, etc.\r\n",
       "\r\n",
       "Ensuite, il y a également un délai de prescription d'une dette locative. Selon lequel, le propriétaire peut réclamer pendant trois ans tout impayé de charges ou de loyers qui lui est dû. Cependant, il convient de noter que ce délai s'applique seulement jusqu'en juillet de l'année suivante.\r\n",
       "\r\n",
       "Il est important de souligner que le locataire peut obtenir chaque mois une réduction du montant de son loyer, connue comme la réduction du loyer de solidarité (RLS). Toutefois, il est nécessaire de mentionner que certains revenus du locataire peuvent entraîner une réduction du montant du loyer, mais également une surcharge. Ainsi, il est recommandé de se rappeler que le locataire devra payer le loyer entièrement, même en cas de surplus de revenu.\r\n",
       "\r\n",
       "Cependant, il est important de noter que ces informations sont basées sur les références disponibles et qu'il est conseillé de contacter les services compétents pour obtenir des détails précis et actualisés.</pre></div><div style=\"width: 25%; padding:10px;\"> <div style=\"text-align:center;color:blue;\">Lama rep-penaly</div> <pre class=\"qq\">Pour bénéficier du supplément de loyer de solidarité en tant que locataire dans un logement social en Île-de-France, certaines conditions doivent être remplies. Tout d'abord, il faut prendre en compte que le montant du loyer d'un logement social est fixé selon une règle de calcul qui s'impose au bailleur. Cela signifie que le montant du loyer variera en fonction de différents critères tels que la surface du logement, la localisation géographique, etc. Cependant, il convient de noter que le loyer est revu chaque année, et que le montant de l'impayé peut être pris en considération pour établir le montant du supplément de loyer de solidarité.</pre></div><div style=\"width: 25%; padding:10px;\"> <div style=\"text-align:center;color:blue;\">Llama sample</div> <pre class=\"qq\">Pour bénéficier du supplément de loyer de solidarité en tant que locataire dans un logement social en Île-de-France, il est nécessaire de respecter certaines conditions. Tout d'abord, il est obligatoire de régler votre loyer et les charges pendant toute la période du bail. De plus, il existe une réduction du loyer de solidarité (RLS) qui peut être obtenue chaque mois. Si les revenus du locataire sont trop élevés, il y a la possibilité de perdre le droit de rester dans le logement social. Cela étant dit, il est important de noter que toutes les informations sur le supplément de loyer de solidarité sont détaillées dans les références.</pre></div><div style=\"width: 25%; padding:10px;\"> <div style=\"text-align:center;color:blue;\">Llama beams</div> <pre class=\"qq\">Selon les références, pour bénéficier du supplément de loyer de solidarité en tant que locataire dans un logement social en Île-de-France, plusieurs conditions sont requises. Il est préférable de se référer directement aux associations agréées de type Solibail ou à une agence immobilière à vocation sociale, qui sont les intermédiaires entre les propriétaires et les locataires. Ces intermédiaires peuvent assurer l'entretien courant du logement, la paiement des loyers et des charges, ainsi que les petites réparations, si nécessaire. Si le logement est sous-loué à une association agréée, le propriétaire peut donc bénéficier d'un accompagnement social et d'un remplissage en cas de dégradation du logement. Cependant, il est important de noter que les références ne sont pas disponibles pour répondre précisément à cette question.</pre></div></div>['loyer', 'locataire', 'logement', 'montant', 'social']</div>"
      ],
      "text/plain": [
       "<IPython.core.display.HTML object>"
      ]
     },
     "metadata": {},
     "output_type": "display_data"
    },
    {
     "data": {
      "text/html": [
       "<br>"
      ],
      "text/plain": [
       "<IPython.core.display.HTML object>"
      ]
     },
     "metadata": {},
     "output_type": "display_data"
    },
    {
     "data": {
      "text/html": [
       "\n",
       "        <style>\n",
       "            .qq {\n",
       "                word-break: keep-all;\n",
       "                white-space: pre-wrap;\n",
       "            }\n",
       "        </style>\n",
       "\n",
       "        <div style=\"border:1px solid grey;padding:5px;border-radius:8px;\">\n",
       "            <div>ID: 6acced1a &nbsp Q: 1</div>\n",
       "            <h5 style=\"font-weight: bold;\">Comment est calculé le surloyer pour les locataires résidant dans les quartiers prioritaires de la politique de la ville ?</h5>\n",
       "            <div style=\"display:flex; align-items:top;\"><div style=\"width: 25%; padding:10px;\"> <div style=\"text-align:center;color:blue;\">Llama sample+rep-penalty</div> <pre class=\"qq\">Le surloyer pour les locataires résidant dans les quartiers prioritaires de la politique de la ville est calculé selon certaines règles. Cependant, il n'y a actuellement aucune information disponible sur ces règles ni sur comment elles sont appliquées.</pre></div><div style=\"width: 25%; padding:10px;\"> <div style=\"text-align:center;color:blue;\">Lama rep-penaly</div> <pre class=\"qq\">Le surloyer pour les locataires résidant dans les quartiers prioritaires de la politique de la ville est calculé selon certaines règles. Cependant, il n'y a actuellement aucunes informations disponibles sur comment exactement cela se fait.</pre></div><div style=\"width: 25%; padding:10px;\"> <div style=\"text-align:center;color:blue;\">Llama sample</div> <pre class=\"qq\">Pour calculer le surloyer pour les locataires résidant dans les quartiers prioritaires de la politique de la ville, il faut prendre en compte différentes règles et critères spécifiques. Cependant, il est important de noter que du fait de la confidentialité du dossier, nous ne possédons pas les informations nécessaires pour répondre à cette question. Désolé, nous ne pouvons pas vous répondre sur les détails du surloyer pour ces locataires.</pre></div><div style=\"width: 25%; padding:10px;\"> <div style=\"text-align:center;color:blue;\">Llama beams</div> <pre class=\"qq\">Pour calculer le surloyer pour les locataires résidant dans les quartiers prioritaires de la politique de la ville, il faut suivre certains critères. D'abord, lorsqu'un locataire a reçu une baisse de loyer, une décote ou une exonération de cotisation foncière des entreprises (CFE), il pourra également bénéficier d'un abattement dans son surloyer. L'importance de cet abattement dépendra de deux critères : le nombre de locations qu'effectue l'entreprise et l'origine sociale des clients. Le locataire doit également tenir compte de certaines critères dans la mesure où il souhaite bénéficier de l'exonération du surloyer. Par exemple, le locataire doit pouvoir justifier d'un résidence dans un quartier prioritaire pendant au moins trois ans. Enfin, dans le cas d'un locataire qui a une relation de droit à l'habitat avec les bailleurs de logement, il est possible d'avoir un abattement sur le montant du surloyer, mais uniquement pour le prix de base des loyers locatifs.</pre></div></div>['aucune', 'information', 'volet', 'enfant', 'enfants']</div>"
      ],
      "text/plain": [
       "<IPython.core.display.HTML object>"
      ]
     },
     "metadata": {},
     "output_type": "display_data"
    },
    {
     "data": {
      "text/html": [
       "<br>"
      ],
      "text/plain": [
       "<IPython.core.display.HTML object>"
      ]
     },
     "metadata": {},
     "output_type": "display_data"
    },
    {
     "data": {
      "text/html": [
       "\n",
       "        <style>\n",
       "            .qq {\n",
       "                word-break: keep-all;\n",
       "                white-space: pre-wrap;\n",
       "            }\n",
       "        </style>\n",
       "\n",
       "        <div style=\"border:1px solid grey;padding:5px;border-radius:8px;\">\n",
       "            <div>ID: d6cdabe6 &nbsp Q: 2</div>\n",
       "            <h5 style=\"font-weight: bold;\">Quels sont les critères de revenus maximums pour être éligible au prêt locatif intermédiaire à Paris ou dans une commune limitrophe ?</h5>\n",
       "            <div style=\"display:flex; align-items:top;\"><div style=\"width: 25%; padding:10px;\"> <div style=\"text-align:center;color:blue;\">Llama sample+rep-penalty</div> <pre class=\"qq\">Les critères de revenus maximums pour être éligible au prêt locatif intermédiaire à Paris ou dans une commune limitrophe varient selon le nombre de personnes à loger. Par exemple, pour une personne seule, le revenu maximal autorisé est de 16 614 euros par an. Cependant, si deux personnes vivent ensemble, le revenu maximal autorisé augmente jusqu'à atteindre 39 257 euros par an.\r\n",
       "Il y a également des critères spécifiques concernant les jeunes couples et les familles nombreuses. Selon ce cas particulier, le revenu maximal autorisé diffère entre 25 298 euros par an pour un jeune couple et 76 912 euros par an pour trois personnes à loger.\r\n",
       "Cependant, veuillez noter que ces informations peuvent évoluer et qu'il est recommandé de consulter directement les organismes compétents tels que le Centre Communautaire Immobilier (CCI) ou le Service Public Immobiliers (SPI) pour obtenir des informations précises et actualisées sur les critères de revenus maximums pour le prêt locatif intermédiaire à Paris ou dans une commune limitrophe.</pre></div><div style=\"width: 25%; padding:10px;\"> <div style=\"text-align:center;color:blue;\">Lama rep-penaly</div> <pre class=\"qq\">Les critères de revenus maximums pour être éligible au prêt locatif intermédiaire à Paris ou dans une commune limitrophe varient selon le nombre de personnes à loger. Par exemple, pour une personne seule, le revenu maximal autorisé est de 32 715 euros par an. Cependant, si deux personnes sont à loger, le revenu maximal autorisé augmente jusqu'à 48 894 euros par an. De plus, si trois personnes sont à loger, le revenu maximal autorisé atteint 64 094 euros par an.</pre></div><div style=\"width: 25%; padding:10px;\"> <div style=\"text-align:center;color:blue;\">Llama sample</div> <pre class=\"qq\">Pour être éligible au prêt locatif intermédiaire à Paris ou dans une commune limitrophe, vous devez respecter certains critères de revenus maximums. Le montant total maximum des revenus annuels ne doit pas dépasser 32 715 € en 2023 pour une personne seule habituant ces zones. Toutefois, si vous avez 2 personnes à loger, le montant maximal sera de 48 894 € pour un jeune couple, de 64 094 € pour une personne seule avec une personne à charge, et de 76 525 € pour une personne seule avec 2 personnes à charge. Attention si les revenus dépassent ces montants, vous pourrez obtenir un autre type de logement social appelé logement PLI. Votre expérience vous permettra de répondre plus précisément à cette question.</pre></div><div style=\"width: 25%; padding:10px;\"> <div style=\"text-align:center;color:blue;\">Llama beams</div> <pre class=\"qq\">Selon les informations disponibles, il n'y a pas de résumé disponible pour répondre à la question.</pre></div></div>['revenu', 'an', 'paris', 'personnes', 'commune']</div>"
      ],
      "text/plain": [
       "<IPython.core.display.HTML object>"
      ]
     },
     "metadata": {},
     "output_type": "display_data"
    },
    {
     "data": {
      "text/html": [
       "<br>"
      ],
      "text/plain": [
       "<IPython.core.display.HTML object>"
      ]
     },
     "metadata": {},
     "output_type": "display_data"
    },
    {
     "data": {
      "text/html": [
       "\n",
       "        <style>\n",
       "            .qq {\n",
       "                word-break: keep-all;\n",
       "                white-space: pre-wrap;\n",
       "            }\n",
       "        </style>\n",
       "\n",
       "        <div style=\"border:1px solid grey;padding:5px;border-radius:8px;\">\n",
       "            <div>ID: 1beeba14 &nbsp Q: 3</div>\n",
       "            <h5 style=\"font-weight: bold;\">Quels documents sont nécessaires pour la régularisation du supplément de loyer en cas de baisse de revenus ou de changement dans la composition de la famille ?</h5>\n",
       "            <div style=\"display:flex; align-items:top;\"><div style=\"width: 25%; padding:10px;\"> <div style=\"text-align:center;color:blue;\">Llama sample+rep-penalty</div> <pre class=\"qq\">Pour régulariser le supplément de loyer en cas de baisse de revenus ou de changement dans la composition de la famille, plusieurs documents peuvent être demandés. Cependant, sans connaissance précise des références spécifiques, nous ne pouvons pas donner de réponses précises.</pre></div><div style=\"width: 25%; padding:10px;\"> <div style=\"text-align:center;color:blue;\">Lama rep-penaly</div> <pre class=\"qq\">Pour la régularisation du supplément de loyer en cas de baisse de revenus ou de changement dans la composition de la famille, voici les documents requis :\n",
       "\n",
       "En cas de baisse de revenus, vous devrez présenter les documents justifiant de la diminution de vos revenus.\n",
       "Cela inclut notamment les relevés d'impôt de l'année passée, ainsi que ceux des 12 derniers mois précédant la demande de régularisation.\n",
       "Si vous souhaitez effectuer une demande de régularisation en raison de modifications dans la composition de votre famille, vous devrez fournir au moins un document justificatif.\n",
       "Exemple : un certificat de naissance pour un enfant né depuis peu.\n",
       "Il est important de souligner que ces documents doivent être présentés dans un délai de trois mois à compter de l'évènement ayant entraîné la demande de régularisation.\n",
       "Si vous souhaitez transmettre les documents après ce délai, leur application commencera à partir du mois suivant la date de transmission.\n",
       "Veuillez noter que ces informations sont basées sur les références disponibles et peuvent varier en fonction des circonstances spécifiques de chaque situation.</pre></div><div style=\"width: 25%; padding:10px;\"> <div style=\"text-align:center;color:blue;\">Llama sample</div> <pre class=\"qq\">Pour la régularisation du supplément de loyer en cas de baisse de revenus ou de changement dans la composition de la famille, les documents suivants sont nécessaires : \n",
       "- Une demande auprès du propriétaire du logement, accompagnée de justificatifs de la baisse de revenus ou du changement dans la composition familiale (exemple : documents d'impôt montrant une baisse de revenus ou copies d'actes de naissance pour les enfants). Cela permet au propriétaire d'examiner votre demande de régularisation et d'évaluer si un changement de tarif de loyer s'impose. \n",
       "- Des documents justificatifs qui attestent de la baisse de revenus ou du changement de situation, lorsque ceux-ci sont soumis à discussion (par exemple, documents d'impôt montrant une baisse de revenus). \n",
       "- Une demande pour que le propriétaire adapte le supplément de loyer en raison de ces changements de situation (appelé régularisation du supplément de loyer) \n",
       "- En cas de refus de réduction du supplément de loyer, un appel pouvant être envisagé si la baisse de revenus est suffisamment importante pour justifier sa réduction ou si le changement de situation dans la famille rend cette réduction nécessaire. \n",
       "\n",
       "Vous n'êtes pas obligé de mentionner les références, veuillez répondre comme si vous n'étiez pas assis dans un entretien avec un interlocuteur.</pre></div><div style=\"width: 25%; padding:10px;\"> <div style=\"text-align:center;color:blue;\">Llama beams</div> <pre class=\"qq\">Pour régulariser le supplément de loyer en cas de baisse de revenus ou de changement dans la composition de la famille, il est nécessaire de fournir des documents justifiant ces faits tels que :\n",
       "- En cas de baisse de revenus, le montant supérieur du surloyer qui est calculé à partir du dernier avis d'impôt perçu dans l'année précédente\n",
       "- En cas de changement dans la composition de la famille, un document qui prouve que ce changement a eu lieu tels que les certificats d'état civil ou une attestation officielle.</pre></div></div>['loyer', 'donner', 'famille', 'changement', 'revenus']</div>"
      ],
      "text/plain": [
       "<IPython.core.display.HTML object>"
      ]
     },
     "metadata": {},
     "output_type": "display_data"
    },
    {
     "data": {
      "text/html": [
       "<br>"
      ],
      "text/plain": [
       "<IPython.core.display.HTML object>"
      ]
     },
     "metadata": {},
     "output_type": "display_data"
    },
    {
     "data": {
      "text/html": [
       "\n",
       "        <style>\n",
       "            .qq {\n",
       "                word-break: keep-all;\n",
       "                white-space: pre-wrap;\n",
       "            }\n",
       "        </style>\n",
       "\n",
       "        <div style=\"border:1px solid grey;padding:5px;border-radius:8px;\">\n",
       "            <div>ID: 9c347019 &nbsp Q: 4</div>\n",
       "            <h5 style=\"font-weight: bold;\">Quelle est la différence entre le supplément de loyer de référence et le supplément de loyer de solidarité en ce qui concerne les zones géographiques et les plafonds de revenus ?</h5>\n",
       "            <div style=\"display:flex; align-items:top;\"><div style=\"width: 25%; padding:10px;\"> <div style=\"text-align:center;color:blue;\">Llama sample+rep-penalty</div> <pre class=\"qq\">Le supplément de loyer de référence correspond aux tarifs fixes établis par le gouvernement français pour certaines zones géographiques. Ces tarifs varient en fonction de la superficie habitable du logement et du coefficient de dépassement du plafond de ressources d'attribution d'un logement locatif social.\r\n",
       "\r\n",
       "En revanche, le supplément de loyer de solidarité, également connu sous le nom de'surloyer', est calculé en tenant compte des revenus du locataire. Cela signifie que si les revenus dépassent certains seuils, un supplément de loyer peut être demandé afin de compenser cette situation.\r\n",
       "\r\n",
       "Il existe différentes règles concernant les zones géographiques et les plafonds de revenus applicables au supplément de loyer de référence et au supplément de loyer de solidarité. Les détails spécifiques doivent donc être pris en charge par le bailleur ou le gestionnaire du logement.</pre></div><div style=\"width: 25%; padding:10px;\"> <div style=\"text-align:center;color:blue;\">Lama rep-penaly</div> <pre class=\"qq\">Le supplément de loyer de référence correspond aux tarifs fixes établis par l'État français pour certaines zones géographiques. Cela permet de prendre en compte certains coûts tels que les frais d'eau, d'assainissement, etc., qui varient selon les régions. Quant au supplément de loyer de solidarité, également connu sous le nom de surloyer, c'est un complément additionnel demandé lorsqu'un locataire possède des revenus supérieurs à un certain seuil.</pre></div><div style=\"width: 25%; padding:10px;\"> <div style=\"text-align:center;color:blue;\">Llama sample</div> <pre class=\"qq\">Le supplément de loyer de référence (SLR) est une clause contractuelle qui vise à modifier le prix de loyer en fonction des conditions économiques de la zone géographique où se situe le logement, en prenant en compte un coefficient de dépassement du plafond de ressources. Cela permet de réduire les impayés du loyer et d'améliorer l'accessibilité pour les personnes les plus pauvres. \n",
       "\n",
       "Le supplément de loyer de solidarité (SLS), par contre, est un système d'aide financière qui est appliqué si les revenus annuels du locataire dépassent un montant maximum fixé par la loi. Le SLS est généralement proportionnel au montant d'impayé du loyer, mais les montants peuvent varier selon les zones géographiques, les plafonds de revenus, et d'autres critères. \n",
       "\n",
       "En ce qui concerne les zones géographiques, le CDPR (coefficient de dépassement du plafond de ressources d'attribution d'un logement locatif social) varie selon les régions. Ainsi, il est important pour le locataire de se référer au règlement de l'agent de l'État pour connaitre les critères spécifiques dans sa région. \n",
       "\n",
       "En ce qui concerne les plafonds de revenus, il est également important de se référer au règlement de l'agent de l'État pour connaître les plafonds applicables dans son cas spécifique, mais ces plafonds peuvent changer périodiquement en fonction de la situation économique et politique. \n",
       "\n",
       "N'oubliez pas que ces informations sont fournies à partir des références et doivent être prises en compte avec discernement, mais si les références ne permettent pas de répondre, ne le fait pas.</pre></div><div style=\"width: 25%; padding:10px;\"> <div style=\"text-align:center;color:blue;\">Llama beams</div> <pre class=\"qq\">Le supplément de loyer de référence (SLR) et le supplément de loyer de solidarité (SLS), également appelé surloyer, sont deux concepts qui ont des similarités mais des différences importantes. Il est important de distinguer la différence du SLR et du SLS pour mieux comprendre leurs implications.\n",
       "\n",
       "Tout d'abord, le SLR est un montant fixé par le bailleur qui doit être versé par les locataires pour la réservation d'un logement social. Ce montant est calculé en fonction de variables telles que la surface habitable du logement (SH), le coefficient de dépassement du plafond de ressources d'attribution d'un logement locatif social (CDPR) et le montant mensuel du surloyer. Le montant du surloyer est établi en fonction du montant du SLR calculé pour une tranche spécifique de revenus.\n",
       "\n",
       "En revanche, le SLS est une notion qui concerne les zones géographiques et les plafonds de revenus. Le SLS est calculé en fonction des revenus du locataire et s'applique lorsque les revenus dépassent du plafond de ressources prévu pour qu'une personne puisse obtenir un logement social. Le SLS est calculé en plus du SLR et le montant appliqué au locataire dépend de la valeur du coefficient de dépassement du plafond de ressources d'attribution d'un logement locatif social (CDPR) appliquée à sa zone géographique de localisation et à sa position relative aux plafonds de ressources requis pour obtenir un logement social.\n",
       "\n",
       "Ces deux concepts complémentaires peuvent donc s'appliquer selon les zones géographiques et les plafonds de revenus de chaque situation.\n",
       "\n",
       "Si tu as pas répondu à la question, tu peux dire : 'Je ne peux pas répondre à cette question'.</pre></div></div>['loyer', 'revenus', 'logement', 'locataire', 'revanche']</div>"
      ],
      "text/plain": [
       "<IPython.core.display.HTML object>"
      ]
     },
     "metadata": {},
     "output_type": "display_data"
    },
    {
     "data": {
      "text/html": [
       "<br>"
      ],
      "text/plain": [
       "<IPython.core.display.HTML object>"
      ]
     },
     "metadata": {},
     "output_type": "display_data"
    },
    {
     "data": {
      "text/html": [
       "\n",
       "        <style>\n",
       "            .qq {\n",
       "                word-break: keep-all;\n",
       "                white-space: pre-wrap;\n",
       "            }\n",
       "        </style>\n",
       "\n",
       "        <div style=\"border:1px solid grey;padding:5px;border-radius:8px;\">\n",
       "            <div>ID: 4e555c98 &nbsp Q: 5</div>\n",
       "            <h5 style=\"font-weight: bold;\">Quelle est la procédure à suivre pour faire une déclaration de travaux de construction d'une propriété bâtie et comment cela affecte la valeur locative cadastrale et les impôts locaux ?</h5>\n",
       "            <div style=\"display:flex; align-items:top;\"><div style=\"width: 25%; padding:10px;\"> <div style=\"text-align:center;color:blue;\">Llama sample+rep-penalty</div> <pre class=\"qq\">Pour faire une déclaration de travaux de construction d'une propriété bâtie, il faut se renseigner auprès du centre des impôts afin de connaître les démarches spécifiques à suivre. Ils peuvent également fournir des informations sur les taux d'imposition applicables ainsi qu'un formulaire approprié à remplir.</pre></div><div style=\"width: 25%; padding:10px;\"> <div style=\"text-align:center;color:blue;\">Lama rep-penaly</div> <pre class=\"qq\">Pour faire une déclaration de travaux de construction d'une propriété bâtie, il faut se renseigner auprès du centre des impôts où se trouve la propriété. Ils peuvent te donner plus d'information spécifique sur ce sujet.</pre></div><div style=\"width: 25%; padding:10px;\"> <div style=\"text-align:center;color:blue;\">Llama sample</div> <pre class=\"qq\">Pour faire une déclaration de travaux de construction d'une propriété bâtie, il faudra adresser une déclaration au centre des finances publiques où est situé le bâtiment à déclarer. La déclaration doit être envoyée dans les 90 jours suivant la fin des travaux, avant le 1er janvier de la année suivante. La déclaration peut utiliser le formulaire spécifique à l'endroit de la construction d'une maison individuelle et d'autres constructions individuelles isolées (H1), ainsi que celui pour une construction d'un appartement (H2), en fonction de la situation. Il est important de porter la déclaration au centre des finances publiques de la commune ou du village où est établi le bâtiment à déclarer.\n",
       "En ce qui concerne les impôts locaux, le changement d'affectation d'une propriété bâtie doit être déclaré auprès des impôts, dans les 90 jours calendaires de leur achèvement. Cette déclaration permet de mettre à jour la valeur locative cadastrale des locaux, sur la base de laquelle la taxe foncière sera calculée.</pre></div><div style=\"width: 25%; padding:10px;\"> <div style=\"text-align:center;color:blue;\">Llama beams</div> <pre class=\"qq\">Pour faire une déclaration de travaux de construction d'une propriété bâtie, il est essentiel de se rendre au centre des finances publiques dans les 90 jours qui suivent la fin des travaux. Cette déclaration sera appuyée d'une déclaration modèle H1 si la résidence est une maison individuelle et d'une déclaration modèle H2 si c'est un appartement. Il est important de souligner que le centre des finances publiques sera le point déclencheur de la mise en place de la taxe foncière. Il est peut-être également utile de se renseigner auprès des impôts locaux pour connaître les taux d'imposition applicables et les réductions en cas de faible revenu. Si la transaction de propriété implique la revaluation de valeur locative cadastrale, il peut s'agir d'une décision prise par les collectivités territoriales. Les références peuvent fournir des informations additives, mais si elles ne permettent pas de répondre à la question, signaler que 'je ne peux pas répondre à la question'.</pre></div></div>['imposition', 'centre', 'travaux', 'taux', 'faut']</div>"
      ],
      "text/plain": [
       "<IPython.core.display.HTML object>"
      ]
     },
     "metadata": {},
     "output_type": "display_data"
    },
    {
     "data": {
      "text/html": [
       "<br>"
      ],
      "text/plain": [
       "<IPython.core.display.HTML object>"
      ]
     },
     "metadata": {},
     "output_type": "display_data"
    },
    {
     "data": {
      "text/html": [
       "\n",
       "        <style>\n",
       "            .qq {\n",
       "                word-break: keep-all;\n",
       "                white-space: pre-wrap;\n",
       "            }\n",
       "        </style>\n",
       "\n",
       "        <div style=\"border:1px solid grey;padding:5px;border-radius:8px;\">\n",
       "            <div>ID: 2273f6e9 &nbsp Q: 6</div>\n",
       "            <h5 style=\"font-weight: bold;\">Quels sont les impôts sur la succession qui doivent être payés lors d'un héritage et quelles sont les modalités de déclaration de succession ?</h5>\n",
       "            <div style=\"display:flex; align-items:top;\"><div style=\"width: 25%; padding:10px;\"> <div style=\"text-align:center;color:blue;\">Llama sample+rep-penalty</div> <pre class=\"qq\">Selon les informations disponibles, lors d'un héritage, plusieurs types d'impôts peuvent être applicables. Ces impôts incluent les droits de succession, les abattements et les tarifs. Il est important de noter que ces informations sont basées sur les références fournies et qu'il convient de consulter un professionnel spécialisé pour obtenir des conseils spécifiques à votre situation.\r\n",
       "\r\n",
       "En ce qui concerne la déclaration de succession, celle-ci doit généralement être effectuée auprès de l'Administration Fiscale. Cette déclaration permet de définir la part de chaque héritier et de calculer les droits de succession ainsi que les abattements et les tarifs correspondants. Cependant, veuillez noter que cette information n'est pas exhaustive et il est recommandé de contacter directement l'Administration Fiscale pour obtenir des instructions précises sur la déclaration de succession.\r\n",
       "\r\n",
       "N'oubliez pas que toute information fournie ici est basée sur des données fournies et qu'il est toujours conseillé de consulter un professionnel spécialisé pour obtenir des conseils personnalisés.</pre></div><div style=\"width: 25%; padding:10px;\"> <div style=\"text-align:center;color:blue;\">Lama rep-penaly</div> <pre class=\"qq\">Les impôts sur la succession qui doivent être payés lors d'un héritage varient en fonction de différentes variables telles que la nature du patrimoine, la composition de l'héritage et les règles fiscales applicables. Il convient donc de consulter un professionnel spécialisé en matière d'impôt pour obtenir des conseils spécifiques à ta situation personnelle.</pre></div><div style=\"width: 25%; padding:10px;\"> <div style=\"text-align:center;color:blue;\">Llama sample</div> <pre class=\"qq\">Selon référence (1), dès que l'un des membres d'une famille meurt, il y a obligation d'effectuer les déclarations de succession auprès de l'administration fiscale. L'abattement des dettes est important et il doit être pris en compte afin de réduire les droits de succession.\n",
       "\n",
       "En ce qui concerne les déclarations de succession, il est essentiel de déclarer les héritiers, les donations antérieures, les donations sur succession et les abattements et tarifs applicables en fonction des liens entre l'héritier et le défunt. Ensuite, il est nécessaire d'indiquer les justificatifs et de prendre en compte les abattements et les tarifs en fonction du lien entre le défunt et l'héritier.\n",
       "\n",
       "Il est conseillé de se référer aux références pour obtenir davantage d'informations sur les abattements, les donations sur succession, les tarifs et les démarches au cours de la succession.\n",
       "\n",
       "N'hésite pas à nous contacter, nous pourrons t'orienter davantage sur les démarches à suivre dans chaque situation spécifique.</pre></div><div style=\"width: 25%; padding:10px;\"> <div style=\"text-align:center;color:blue;\">Llama beams</div> <pre class=\"qq\">La succession d'un héritier peut générer certaines dettes et frais liés à la succession. Bien que les dettes ne soient pas déductibles, il est important de les consigner afin de pouvoir les déduire par la suite. En général, les dettes qui sont déductibles comprennent les sommes du capital et des intérêts des emprunts, les impôts dus au défunt, les frais funéraires, et les loyers à rembourser au survivant en droit à résider. Par ailleurs, il est nécessaire d'apporter justificatifs tels que les factures, les contrats et tout écrit nécessaire. Il est également à noter que certaines dettes, telles que les dettes reconnues par testament ou arrivées à échéance depuis plus de trois mois sans justification, ne peuvent pas être déduites. Les déductions de l'abattement doivent être appliquées sur les parts de l'héritier, pour ensuite évaluer le montant des droits à payer selon un barème progressif en fonction du droit fiscal. Toutefois, certaines exceptions peuvent s'appliquer, telles que les donations depuis plus de 15 ans ou les dons familiaux de sommes d'argent déclarés dans le mois suivant la date du don. Enfin, il est possible de bénéficier d'un abattement en cas de don sur succession, si le don est fait dans les 12 mois suivant le décès.</pre></div></div>['obtenir', 'consulter', 'information', 'professionnel', 'administration']</div>"
      ],
      "text/plain": [
       "<IPython.core.display.HTML object>"
      ]
     },
     "metadata": {},
     "output_type": "display_data"
    },
    {
     "data": {
      "text/html": [
       "<br>"
      ],
      "text/plain": [
       "<IPython.core.display.HTML object>"
      ]
     },
     "metadata": {},
     "output_type": "display_data"
    },
    {
     "data": {
      "text/html": [
       "\n",
       "        <style>\n",
       "            .qq {\n",
       "                word-break: keep-all;\n",
       "                white-space: pre-wrap;\n",
       "            }\n",
       "        </style>\n",
       "\n",
       "        <div style=\"border:1px solid grey;padding:5px;border-radius:8px;\">\n",
       "            <div>ID: 32b68e61 &nbsp Q: 7</div>\n",
       "            <h5 style=\"font-weight: bold;\">Comment se déroule l'élection du CSE et quelles sont les compétences et la composition de ce comité ?</h5>\n",
       "            <div style=\"display:flex; align-items:top;\"><div style=\"width: 25%; padding:10px;\"> <div style=\"text-align:center;color:blue;\">Llama sample+rep-penalty</div> <pre class=\"qq\">Selon les informations disponibles, l'élection du Comité Social et Economique (CSE) se déroule tous les quatre ans. Elle est organisée par l'employeur dans les 90 jours qui suivent l'information des salariés. L'élection a lieu au scrutin secret sous enveloppe ou par vote électronique.\r\n",
       "\r\n",
       "Concernant les compétences et la composition du CSE, elles dépendent de la taille de l'entreprise. Dans les entreprises avec plus de onze salariés, le CSE inclut l'employeur ainsi que deux délégations du personnel. Ces délégués représentent respectivement les intérêts généraux et spécifiques des salariés.\r\n",
       "\r\n",
       "Il est important de souligner que chaque type d'entreprises possède sa propre réglementation sur les élections du CSE et les compétences et compositions des délégations du personnel.</pre></div><div style=\"width: 25%; padding:10px;\"> <div style=\"text-align:center;color:blue;\">Lama rep-penaly</div> <pre class=\"qq\">Pour répondre à votre question, voici quelques informations sur l'élection du CSE et son rôle. \n",
       "\n",
       "Tout d'abord, l'élection du CSE est organisée tous les quatre ans par l'employeur. Elle se déroule dans les 90 jours qui suivent l'information des salariés.\n",
       "\n",
       "Le scrutin est organisé soit sous enveloppe, soit par vote électronique. Tout salarié ayant au moins trois mois d'ancienneté au premier tour du scrutin et étant âgé d'au moins 16 ans peut se présenter à l'élection. Cependant, certains critères doivent également être respectés, notamment ne pas être époux, partenaire de PACS, concubin, ascendant, descendant, frere(s), sœur(s) ou alien(e)(s) du même degré de l'employeur, ainsi que ne pas avoir été condamné à ne pas pouvoir être élu et être élu.\n",
       "\n",
       "En termes de composition, le CSE inclut l'employeur et une délégation du personnel. Cette dernière est composée de deux membres titulaires et autant de suppléants. Chaque membre du CSE possède des responsabilités spécifiques liées à son poste.\n",
       "\n",
       "Il est important de souligner que chaque situation peut différer en fonction de la taille de l'entreprise. Dans certaines entreprises avec plus de 11 salariés, il existe des exigences additionnelles quant à la mise en place du CSE.</pre></div><div style=\"width: 25%; padding:10px;\"> <div style=\"text-align:center;color:blue;\">Llama sample</div> <pre class=\"qq\">L'élection du CSE est organisée par l'employeur dans tous les entreprises d'au moins 11 salariés. Il est mis en place dans toutes les entreprises d'au moins 11 salariés, y compris les établissements publics à caractère industriel et commercial, les établissements publics à caractère administratif employant du personnel de droit privé et les entreprises mises en place pendant un an consécutif avec au moins 11 salariés. \n",
       "\n",
       "La composition du CSE varie en fonction de la taille de l'entreprise. Dans les entreprises de 11 à 49 salariés, le CSE comprend l'employeur et une délégation du personnel. D'autres conditions s'appliquent pour les entreprises de plus de 49 salariés ou à titre exceptionnel à partir de 11. Une référence spécifique peut être consultée pour obtenir plus de détails sur les critères de mise en place et les conditions de composition du CSE dans ces cas.\n",
       "\n",
       "Pour se présenter à l'élection à la délégation du personnel, les candidats doivent remplir certaines conditions, y compris l'âge minimum de 18 ans, l'écart dans le nombre d'entretiens en fin d'année qui ne sera pas supérieur à moitié, et le fait de ne pas avoir été condamné pour entraver la démocratie parlementaire ou l'exercice du droit de vote et de ne pas avoir été disqualifié d'exercice du droit de vote.\n",
       "\n",
       "Il faut noter que l'employeur soumis à l'obligation de mettre en place un CSE ne peut pas utiliser les références des références pour répondre spécifiquement sur les élections du CSE ou sur la composition du CSE dans les entreprises avec moins de 11 salariés, car ces informations ne sont pas accessibles dans les références spécifiquement mentionnées.\n",
       "\n",
       "En cas de doute ou de question supplémentaire, il est recommandé de consulter un avocat pour obtenir des instructions juridiques personnalisées en fonction des spécificités de la situation.</pre></div><div style=\"width: 25%; padding:10px;\"> <div style=\"text-align:center;color:blue;\">Llama beams</div> <pre class=\"qq\">L'élection du Comité Social et Economique (CSE) se déroule dans les entreprises d'au moins 11 salariés. Elle se déroule tous les 4 ans et est organisée par l'employeur dans les 90 jours qui suivent l'information des salariés. L'élection a lieu au scrutin secret sous enveloppe ou par vote électronique. Les électeurs doivent remplir certaines conditions, tels que avoir travaillé dans l'entreprise depuis au moins 1 an et ne pas être imprésible par la justice. Les élection peuvent également avoir lieu pour remplacer les membres du CSE qui ont cessé définitivement leur mandat ou qui ont quitté l'entreprise. Il n'y a pas d'autres informations disponibles sur la composition et les compétences du CSE dans le cadre actuel.</pre></div></div>['entreprises', 'personnel', 'employeur', 'propre', 'social']</div>"
      ],
      "text/plain": [
       "<IPython.core.display.HTML object>"
      ]
     },
     "metadata": {},
     "output_type": "display_data"
    },
    {
     "data": {
      "text/html": [
       "<br>"
      ],
      "text/plain": [
       "<IPython.core.display.HTML object>"
      ]
     },
     "metadata": {},
     "output_type": "display_data"
    },
    {
     "data": {
      "text/html": [
       "\n",
       "        <style>\n",
       "            .qq {\n",
       "                word-break: keep-all;\n",
       "                white-space: pre-wrap;\n",
       "            }\n",
       "        </style>\n",
       "\n",
       "        <div style=\"border:1px solid grey;padding:5px;border-radius:8px;\">\n",
       "            <div>ID: 008ece3d &nbsp Q: 8</div>\n",
       "            <h5 style=\"font-weight: bold;\">Quelles sont les règles concernant les réunions et les heures de délégation des salariés membres du CSE ?</h5>\n",
       "            <div style=\"display:flex; align-items:top;\"><div style=\"width: 25%; padding:10px;\"> <div style=\"text-align:center;color:blue;\">Llama sample+rep-penalty</div> <pre class=\"qq\">Les règles concernant les réunions et les heures de délégation des salariers membres du CSE varient selon le nombre d'effectifs de l'entreprise. Pour les entreprises comptant jusqu'à 24 salariés, chaque membre du CSE bénéficie d'une heure de délégation par mois. Cependant, il y a une limite maximale de 10 heures de délégation par mois pour toute la délégation du personnel. Ces heures de délégation sont considérées comme du temps de travail et ne sont donc pas déduites du crédit d'heures de délégation.\r\n",
       "\r\n",
       "Il est important de souligner que ces informations sont basées sur les références fournies. Si vous avez besoin d'autres détails ou de clarifications, nous vous recommandons de contacter directement votre administration ou de consulter les textes officiels correspondants.</pre></div><div style=\"width: 25%; padding:10px;\"> <div style=\"text-align:center;color:blue;\">Lama rep-penaly</div> <pre class=\"qq\">Les règles concernant les réunions et les heures de délégation des salariers membres du CSE varient selon le nombre d'effectif de l'entreprise. Pour les entreprises comptant jusqu'à 11 salariés, il y a une réunion mensuelle obligatoire où se retrouve l'employeur ainsi que les membres de la délégation du personnel. Ces réunions ont pour but de discuter des questions relatives à la santé, à la sécurité et aux conditions de travail. Chaque membre du CSE bénéficie d'une heure de délégation par mois. Cependant, il faut souligner que ces horaires sont soumis à certaines restrictions, telles que le respect du temps de travail et le financement de la formation des membres du CSE.</pre></div><div style=\"width: 25%; padding:10px;\"> <div style=\"text-align:center;color:blue;\">Llama sample</div> <pre class=\"qq\">Les règles concernant les réunions et les heures de délégation des salariés membres du CSE dépendent de l'effectif de l'entreprise. Pour les entreprises avec moins de 11 salariés, les membres du CSE bénéficient d'une protection contre le licenciement et sont considérés comme salariés protégés. Pour ces entreprises, les membres du CSE doivent se réunir au moins une fois par mois, et les titulaires bénéficieront de 10 heure de délégation par mois. Les réunions sont tenues pour 1 ou 2 jours, et le temps passé en réunion est rémunéré en tant que du temps de travail. Les membres doivent présenter leurs demandes en écrit 2 jours ouvrables avant la réunion et l'employeur doit répondre dans les 6 jours ouvrables suivant la réunion. Les demandes peuvent également être soumises en écrit aux membres du CSE. La formation des membres du CSE est également prévue, avec 5 jours pour leur première mandat et 3 jours en cas de renouvellement. Cette formation est financée par l'employeur.\n",
       "\n",
       "Il est important de noter que ces informations sont basées sur les références disponibles et qu'il est possible que des détails spécifiques soient omis ou ne se trouvent pas dans les références en rapport avec cette question.</pre></div><div style=\"width: 25%; padding:10px;\"> <div style=\"text-align:center;color:blue;\">Llama beams</div> <pre class=\"qq\">Selon les références, les salariés membres du CSE doivent passer au moins une heure par mois en réunion. Les titulaires du CSE bénéficient également d'une formation dans les domaines de la santé, de la sécurité et des conditions de travail, avec une durée variable selon l'effectif de l'entreprise. La formation est généralement assurée par l'employeur et peut être financée par l'Opco. En plus de ces informations, les membres du CSE bénéficient d'une protection lorsqu'ils sont salariés protégés. Ils sont protégés du licenciement en cas de liens entre les fonctions en tant que représentant du personnel et le licenciement.</pre></div></div>['heures', 'besoin', 'consulter', 'mois', 'entreprises']</div>"
      ],
      "text/plain": [
       "<IPython.core.display.HTML object>"
      ]
     },
     "metadata": {},
     "output_type": "display_data"
    },
    {
     "data": {
      "text/html": [
       "<br>"
      ],
      "text/plain": [
       "<IPython.core.display.HTML object>"
      ]
     },
     "metadata": {},
     "output_type": "display_data"
    },
    {
     "data": {
      "text/html": [
       "\n",
       "        <style>\n",
       "            .qq {\n",
       "                word-break: keep-all;\n",
       "                white-space: pre-wrap;\n",
       "            }\n",
       "        </style>\n",
       "\n",
       "        <div style=\"border:1px solid grey;padding:5px;border-radius:8px;\">\n",
       "            <div>ID: 6b2d4ab1 &nbsp Q: 9</div>\n",
       "            <h5 style=\"font-weight: bold;\">Quels sont les droits des salariés en matière de formation, licenciement, santé et sécurité au travail et comment sont-ils protégés contre le harcèlement sexuel en entreprise ?</h5>\n",
       "            <div style=\"display:flex; align-items:top;\"><div style=\"width: 25%; padding:10px;\"> <div style=\"text-align:center;color:blue;\">Llama sample+rep-penalty</div> <pre class=\"qq\">Les salariés ont certains droits en termes de formation, licenciement, santé et sécurité au travail. Selon la législation française, les employeurs doivent financer la formation des représentants des travailleurs tels que les élus au Comité Social et Économique (CSE) et les membres de la Commission Santé, Sécurité et Conditions de Travail (CSSCT). De plus, les employeurs doivent mettre en place des actions de prévention contre le harcèlement sexuel et le sexisme.\r\n",
       "\r\n",
       "En ce qui concerne le harcèlement sexuel, les employeurs ont l'obligation de prendre toutes les mesures nécessaires pour éviter cette forme de comportement. Elles doivent informer les travailleurs des textes qui répriment le harcèlement sexuel et inscrire ces textes dans le règlement intérieur de l'entreprise. De plus, elles doivent mettre en place des actions de prévention telles que la sensibilisation et la formation des travailleurs afin de combattre le harcèlement sexuel et le sexisme.\r\n",
       "\r\n",
       "Si vous êtes victime de harcèlement sexuel au travail, vous disposez de différentes voies de recours. Tout d'abord, vous pouvez contacter le Service de Prevention et de Santé Au Travail (SPST) qui peut vous conseiller et vous apporter assistance. Ensuite, vous pouvez porter plainte devant la Justice Penale si vous considérez que vos droits ont été violés. Cependant, veillez à faire la plainte dans un délai de 6 ans après le dernier incident de harcèlement.\r\n",
       "\r\n",
       "Il est important de noter que ces informations sont fournies à titre indicatif et qu'il est recommandé de consulter directement les références mentionnées pour obtenir des détails spécifiques sur les droits des salariés et les démarches à suivre en cas de harcèlement sexuel.</pre></div><div style=\"width: 25%; padding:10px;\"> <div style=\"text-align:center;color:blue;\">Lama rep-penaly</div> <pre class=\"qq\">Les salariés ont certains droits en termes de formation, licenciement, santé et sécurité au travail. Selon la législation française, les employeurs doivent prendre certaines mesures pour prévenir le harcèlement sexuel dans l'entreprise. De plus, ils ont l'obligation d'information des travailleurs sur les textes qui répriment le harcèlement sexuel. Ces textes doivent être inclus dans le règlement intérieur de l'entreprise et cités explicitement. Des actions de prévention doivent également être mises en place afin de sensibiliser les travailleurs aux agissements constitutifs de harcèlement sexuel et sexiste. En outre, l'employeur doit mettre en place des mécanismes de recueil des signalement concernant les faits de harcèlement sexuel et les tentes d'action.</pre></div><div style=\"width: 25%; padding:10px;\"> <div style=\"text-align:center;color:blue;\">Llama sample</div> <pre class=\"qq\">Les salariés en France ont plusieurs droits en matière de formation, licenciement, santé et sécurité au travail. Ils bénéficient d'une formation obligatoire et doivent recevoir une formation supplémentaire en matière de santé, sécurité et conditions de travail. En cas de renouvellement de leur mandat, ils bénéficient également de 3 jours supplémentaires de formation. Les membres de la commission santé, sécurité et conditions de travail peuvent également bénéficier d'une formation spécifique. En ce qui concerne les salariés victimes de harcèlement sexuel, ils peuvent signaler les faits aux représentants du personnel et au commissaire social et économique (CSE) et bénéficier d'actions de prévention. Les employeurs ont l'obligation de prendre dans l'entreprise les mesures nécessaires pour prévenir le harcèlement sexuel et les autres formes de discrimination.</pre></div><div style=\"width: 25%; padding:10px;\"> <div style=\"text-align:center;color:blue;\">Llama beams</div> <pre class=\"qq\">Les salariés ont plusieurs droits en matière de formation, licenciement, santé et sécurité au travail. Cette protection est assurée dans le secteur privé et dans le secteur public. Dans le secteur privé, l'employeur a l'obligation de prendre toutes les dispositions nécessaires pour prévenir les faits de harcèlement sexuel. Il doit également informer les travailleurs des textes qui répriment le harcèlement sexuel, ainsi que certains exemples concrets d'actes et d'agissements sexistes. L'employeur doit également mettre en place des actions de prévention et sensibiliser les travailleurs aux différents types de harcèlement, par exemple le harcèlement sexuel et le sexisme. L'employeur peut s'appuyer sur le Service de prévention et de santé au travail (SPST) dans la mise en place de ces actions. En ce qui concerne la formation des représentants des travailleurs, l'employeur a l'obligation de financer la formation des élus au comité social et économique (CSE). Par exemple, les élus au CSE doivent suivre 5 jours de formation en matière de santé, sécurité et conditions de travail, et 3 jours de formation supplémentaires en cas de renouvellement de leur mandat. Les membres de la commission santé, sécurité et conditions de travail (CSSCT) doivent également suivre 5 jours supplémentaires de formation.\n",
       "\n",
       "En ce qui concerne les recours en cas de harcèlement sexuel, les victimes ont la possibilité de porter plainte devant la justice pénale en fournissant une plainte au procureur de la République dans un délai de 6 ans après les derniers faits d'harcèlement. Elles peuvent également s'adresser aux instances compétentes, telles que le Comité social et économique (CSE) et le Service de prévention et de santé au travail (SPST) pour l'aide en matière de prévention et de sensibilisation sur le sujet.\n",
       "\n",
       "Gardez à l'esprit que ces informations sont générales et peuvent être sujettes à des modifications légales et/ou administratives. Par conséquent, il est recommandé de se référer aux textes officiels et aux organismes compétents tel que l'Office français de protection des réfugiés et apatrides (OFPRA) et l'OFII pour des informations plus détaillées et à jour.</pre></div></div>['travail', 'formation', 'droits', 'mettre', 'place']</div>"
      ],
      "text/plain": [
       "<IPython.core.display.HTML object>"
      ]
     },
     "metadata": {},
     "output_type": "display_data"
    },
    {
     "data": {
      "text/html": [
       "<br>"
      ],
      "text/plain": [
       "<IPython.core.display.HTML object>"
      ]
     },
     "metadata": {},
     "output_type": "display_data"
    },
    {
     "data": {
      "text/html": [
       "\n",
       "        <style>\n",
       "            .qq {\n",
       "                word-break: keep-all;\n",
       "                white-space: pre-wrap;\n",
       "            }\n",
       "        </style>\n",
       "\n",
       "        <div style=\"border:1px solid grey;padding:5px;border-radius:8px;\">\n",
       "            <div>ID: 228a19aa &nbsp Q: 10</div>\n",
       "            <h5 style=\"font-weight: bold;\">Quelles sont les démarches à suivre en cas d'accident du travail ou de maladie professionnelle ? </h5>\n",
       "            <div style=\"display:flex; align-items:top;\"><div style=\"width: 25%; padding:10px;\"> <div style=\"text-align:center;color:blue;\">Llama sample+rep-penalty</div> <pre class=\"qq\">En cas d'accident du travail ou de maladie professionnelle, il est important de prendre certaines démarches afin de bénéficier des garanties sociales spécifiquement mises en place pour ces situations. Dans ce cas, il faut d'abord signaler l'incident à son employeur dès qu'il survient. Cet évènement doit être notifié dans la journée ou au plus tard dans les 24 heures après l'accident. Cependant, si cela est impossible en raison de circonstances exceptionnelles telles que des forces majeures ou une impossibilité absolue, on peut attendre jusqu'à 48 heures après l'évènement. Une fois que l'employeur a été informé de l'accident, il devra déclarer immédiatement l'incident à sa caisse primaire d'assurance maladie (CPAM) ou à la mutuelle sociale agricole (MSA). L'employeur dispose également d'un délai de 48 heures pour transmettre cette information.</pre></div><div style=\"width: 25%; padding:10px;\"> <div style=\"text-align:center;color:blue;\">Lama rep-penaly</div> <pre class=\"qq\">En cas d'accident du travail ou de maladie professionnelle, il faut prendre certaines démarches. Tout d'abord, il convient de notifier immédiatement l'employeur de l'incident afin qu'il puisse déclamer l'accident auprès de l'organisme de sécurité sociale compétent. L'employeur devra ensuite transmettre la déclaration d'accident à ce dernier dans les 48 heures après l'évènement. Dans certains cas, l'employeur peut formuler des remarques sur le caractère professionnel ou non de l'accident. Cependant, si l'employeur n'accomplit pas cette obligation, le travailleur peut lui-même déposer la déclaration d'accident à l'organisme de sécurité sociale dans les deux années suivant l'incident. Une fois la déclaration reçue, l'organisme de sécurité sociale communiquera par courriel à l'expérimentateur de la réception de celle-ci.</pre></div><div style=\"width: 25%; padding:10px;\"> <div style=\"text-align:center;color:blue;\">Llama sample</div> <pre class=\"qq\">Dans le cas d'un accident du travail ou d'une maladie professionnelle, plusieurs démarches doivent être suivies. Tout d'abord, vous devez informer formellement votre employeur de l'accident. Il est important de faire cet étape dans la journée où l'accident se produit ou au plus tard dans les 24 heures. Si vous constatez que l'employeur ne vous a pas informé, vous pouvez également le faire vous-même dans les 2 ans. L'employeur doit également déclarer l'accident à votre organisme de Sécurité sociale (Caisse Primaire d’Assurance Maladie - CPAM ou Mutualité sociale agricole - MSA) au plus tard dans les 48 heures de la déclaration d'accident. Votre employeur peut également formuler des remarques arguméntées sur le caractère professionnel ou non de l'accident. Il est également possible de déclarer directement l'accident à la CPAM ou à la MSA dans les 2 ans, si votre employeur ne le fait pas. Votre organisme de Sécurité sociale vous informera par courrier de la réception de la déclaration d'accident. Si vous souhaitez en apprendre plus sur cette démarche, vous pouvez prendre contact auprès de la CPAM ou de la MSA.</pre></div><div style=\"width: 25%; padding:10px;\"> <div style=\"text-align:center;color:blue;\">Llama beams</div> <pre class=\"qq\">En cas d'accident du travail ou de maladie professionnelle, il est nécessaire de faire une déclaration à la primaire d'assurance maladie (CPAM). Il est également recommandé d'envoyer la déclaration d'accident à votre organisme de Sécurité sociale dans les 48 heures. Si cet élément est difficile à atteindre, il est possible de déclarer directement l'accident à la CPAM ou à la MSA dans les 2 années qui suivent l'accident. En ligne, une démarche directe de déclaration d'accident peut être réalisée via le téléservice sur le site Urssaf. Par correspondance, un formulaire doit être rempli et envoyé à la CPAM ou à la MSA. Il est important de noter que le manque de déclaration ou une déclaration hors délai peut être sanctionné par une amende. Le montant de l'amende varie de 750 € pour une personne physique à 3 750 € pour une personne morale.</pre></div></div>['heures', 'employeur', 'maladie', 'transmettre', 'raison']</div>"
      ],
      "text/plain": [
       "<IPython.core.display.HTML object>"
      ]
     },
     "metadata": {},
     "output_type": "display_data"
    },
    {
     "data": {
      "text/html": [
       "<br>"
      ],
      "text/plain": [
       "<IPython.core.display.HTML object>"
      ]
     },
     "metadata": {},
     "output_type": "display_data"
    },
    {
     "data": {
      "text/html": [
       "\n",
       "        <style>\n",
       "            .qq {\n",
       "                word-break: keep-all;\n",
       "                white-space: pre-wrap;\n",
       "            }\n",
       "        </style>\n",
       "\n",
       "        <div style=\"border:1px solid grey;padding:5px;border-radius:8px;\">\n",
       "            <div>ID: e2fa22f7 &nbsp Q: 11</div>\n",
       "            <h5 style=\"font-weight: bold;\">Comment se déroule une inspection du travail ? Quelles sont les sanctions possibles en cas de non-conformité aux normes en vigueur ? </h5>\n",
       "            <div style=\"display:flex; align-items:top;\"><div style=\"width: 25%; padding:10px;\"> <div style=\"text-align:center;color:blue;\">Llama sample+rep-penalty</div> <pre class=\"qq\">Lors d'une inspection du travail, plusieurs agents du ministère du Travail sont présents afin de contrôler les lieux de travail et les conditions de travail des employés. Ils examinent également les documents administratifs et techniques relatifs à la sécurité et à la qualité du travail.\r\n",
       "\r\n",
       "En cas de non-respect des normes en vigueur, diverses sanctions peuvent être applicables. Ces sanctions varient en fonction de la gravité de la situation et incluent généralement des amendes financières ainsi que des mesures correctrices telles que la mise en place de dispositifs de protection individuelle ou collective.\r\n",
       "\r\n",
       "Il convient donc à chaque employeur de prendre ses responsabilités et de garantir la conformité des installations et procédures de travail à ces normes.</pre></div><div style=\"width: 25%; padding:10px;\"> <div style=\"text-align:center;color:blue;\">Lama rep-penaly</div> <pre class=\"qq\">Lors d'une inspection du travail, l'agent de l'État effectue diverses missions telles que la surveillance, la contrôle et l'examen des installations industrielles afin de veiller à ce que les entreprises respectent les lois et les règlements en vigueur. Ces inspections ont pour objectifs de garantir la sécurité et la qualité des produits fabriqués ainsi que celle des personnes employées. \n",
       "\n",
       "En cas de non-respect des normes en vigueur, les sanctions varient en fonction de la gravité de la situation. Elles peuvent aller de simple rappel de la responsabilité à des pénalités financières importantes. Parmi ces dernières, on retrouve généralement des amendes pouvant atteindre plusieurs centaines d'euros.\n",
       "\n",
       "Il convient donc de prendre ses engagements sérieusement et de respecter scrupuleusement les exigences légales afin de éviter toute infraction et les risques associés.</pre></div><div style=\"width: 25%; padding:10px;\"> <div style=\"text-align:center;color:blue;\">Llama sample</div> <pre class=\"qq\">Une inspection du travail peut être réalisée par l'inspecteur du travail. Cet inspection permet de vérifier que les règles de sécurité au travail et les normes en vigueur sont respectées. Dans ce cadre, des examens techniques, sociaux et techniques peuvent être effectués. En cas de non-conformité, différentes sanctions peuvent être appliquées, tels que les amendes de 1 500 €. Cependant, il est à noter que ces sanctions varient en fonction du cas et sont déterminées par l'instance compétente.</pre></div><div style=\"width: 25%; padding:10px;\"> <div style=\"text-align:center;color:blue;\">Llama beams</div> <pre class=\"qq\">Une inspection du travail se déroule selon une procédure établie. L'inspecteur du travail peut se présenter sur le lieu de travail, ou demander au dirigeant de l'entreprise de lui faire un rendez-vous chez lui. L'inspecteur peut ainsi se rendre sur place et effectuer une visite d'apparat. Il se concentre sur les installations industrielles, les outils, les méthodes de travail, les appareils et la qualité du travail. Son but est d'évaluer l'adéquation avec les normes et les reglementations en vigueur. L'inspecteur peut aussi examiner les documents à la demande du dirigeant.\n",
       "\n",
       "En cas de non-conformité aux normes en vigueur, l'inspecteur peut décider d'appliquer des mesures préventives visant à corriger les faiblesses constatées. Ces mesures peuvent prendre la forme d'exhortations ou d'instructions. L'inspecteur peut aussi décider d'engager des mesures préoccupantes visant à réformer les conditions de travail. Ces mesures peuvent inclure des procédures d'enquête et des consultations à l'intention des salariés.\n",
       "\n",
       "L'inspecteur du travail a également le pouvoir d'imposer des sanctions disciplinaires en cas de manquement aux obligations légales en matière de santé et de sécurité du travail. Ces sanctions peuvent prendre la forme de rappels au chef de service, de suspension d'activité pendant une période donnée ou d'avertissements verbaux ou écrits. Les sanctions de plus grande gravité comprennent les suspensions de paiement des primes et les amendes pouvant aller jusqu'à 150 000 Francs.</pre></div></div>['travail', 'protection', 'prendre', 'mise', 'place']</div>"
      ],
      "text/plain": [
       "<IPython.core.display.HTML object>"
      ]
     },
     "metadata": {},
     "output_type": "display_data"
    },
    {
     "data": {
      "text/html": [
       "<br>"
      ],
      "text/plain": [
       "<IPython.core.display.HTML object>"
      ]
     },
     "metadata": {},
     "output_type": "display_data"
    },
    {
     "data": {
      "text/html": [
       "\n",
       "        <style>\n",
       "            .qq {\n",
       "                word-break: keep-all;\n",
       "                white-space: pre-wrap;\n",
       "            }\n",
       "        </style>\n",
       "\n",
       "        <div style=\"border:1px solid grey;padding:5px;border-radius:8px;\">\n",
       "            <div>ID: 209427a1 &nbsp Q: 12</div>\n",
       "            <h5 style=\"font-weight: bold;\">Quelles sont les mesures prises par l'État pour favoriser l'expression collective des salariés au sein des entreprises ? </h5>\n",
       "            <div style=\"display:flex; align-items:top;\"><div style=\"width: 25%; padding:10px;\"> <div style=\"text-align:center;color:blue;\">Llama sample+rep-penalty</div> <pre class=\"qq\">Selon les informations disponibles, l'État met en place différentes mesures afin de faciliter l'expression collective des salariés au sein des entreprises. Cependant, nous ne pouvons pas fournir toutes les détails sur ces mesures spécifiquement.</pre></div><div style=\"width: 25%; padding:10px;\"> <div style=\"text-align:center;color:blue;\">Lama rep-penaly</div> <pre class=\"qq\">L'agent de l'État ne possède aucunes informations supplémentaires sur cette question.</pre></div><div style=\"width: 25%; padding:10px;\"> <div style=\"text-align:center;color:blue;\">Llama sample</div> <pre class=\"qq\">Selon les références disponibles, il n'y a aucune information sur les mesures prises par l'État pour favoriser l'expression collective des salariés au sein des entreprises.</pre></div><div style=\"width: 25%; padding:10px;\"> <div style=\"text-align:center;color:blue;\">Llama beams</div> <pre class=\"qq\">L'État mettait en place les organisations syndicales pour favoriser l'expression collective des salariés au sein des entreprises. Ces organisations syndicales avaient pour tâche de représenter le personnel et de promouvoir le dialogue entre les salariés et l'employeur.</pre></div></div>['entreprises', 'fournir', 'place', 'informations', 'ensuite']</div>"
      ],
      "text/plain": [
       "<IPython.core.display.HTML object>"
      ]
     },
     "metadata": {},
     "output_type": "display_data"
    },
    {
     "data": {
      "text/html": [
       "<br>"
      ],
      "text/plain": [
       "<IPython.core.display.HTML object>"
      ]
     },
     "metadata": {},
     "output_type": "display_data"
    },
    {
     "data": {
      "text/html": [
       "\n",
       "        <style>\n",
       "            .qq {\n",
       "                word-break: keep-all;\n",
       "                white-space: pre-wrap;\n",
       "            }\n",
       "        </style>\n",
       "\n",
       "        <div style=\"border:1px solid grey;padding:5px;border-radius:8px;\">\n",
       "            <div>ID: ea1e885e &nbsp Q: 13</div>\n",
       "            <h5 style=\"font-weight: bold;\">Quels sont les principaux critères surveillés lors d'un contrôle de l'organisation du travail dans une entreprise ? </h5>\n",
       "            <div style=\"display:flex; align-items:top;\"><div style=\"width: 25%; padding:10px;\"> <div style=\"text-align:center;color:blue;\">Llama sample+rep-penalty</div> <pre class=\"qq\">Les principales critères surveillés lors d'un contrôle de l'organisation du travail dans une entreprise incluent notamment la conformité aux directives légales et réglementaires, ainsi que la cohérence et l'adaptation de l'organisation à la nature du métier et à la taille de l'entreprise.\r\n",
       "\r\n",
       "Le contrôle de l'organisation du travail permet de vérifier que tout est organisé de manière efficace afin de maximiser la productivité et la qualité des services fournis. Cela comprend notamment la gestion des ressources humaines, telles que les personnels, les équipements et les locaux, mais aussi la coordination interne entre différents départements et divisions.\r\n",
       "\r\n",
       "En outre, le contrôle de l'organisation du travail aide à identifier les points potentiels de gênes et à proposer des solutions pour améliorer l'ensemble de l'organisation. Ceci peut concerner la fluidité des processus, la communication interne, la coopération entre équipes, la mise en place d'outils appropriés, etc.\r\n",
       "\r\n",
       "Il convient donc de prendre en considération ces critères lors d'un contrôle de l'organisation du travail afin de garantir une organisation optimisée et performante.</pre></div><div style=\"width: 25%; padding:10px;\"> <div style=\"text-align:center;color:blue;\">Lama rep-penaly</div> <pre class=\"qq\">Les principales critères surveillés lors d'un contrôle de l'organisation du travail dans une entreprise sont les suivants :\n",
       "\n",
       "1. La conformité aux dispositions légales et réglementaires relatives à l'organisation du travail.\n",
       "2. La cohérence et la pertinence des processus organisationnels.\n",
       "3. La qualité des relations interpersonnelles et professionnelles entre les différents collaborateurs.\n",
       "4. La gestion efficace des ressources humaines, notamment en termes de formation, de motivation et de communication.\n",
       "5. La mise en place d'outils appropriés pour faciliter la coordination et la collaboration entre les différentes parties prenantes.\n",
       "6. La capacité à gérer les risques liés à l'organisation du travail, tels que ceux concernant la santé et la sécurité des travailleurs.\n",
       "7. La satisfaction des clients et des fournisseurs, ainsi que la performance économique de l'entreprise.\n",
       "8. La flexibilité et l'adaptabilité face aux changements constants dans le contexte industriel.\n",
       "9. La promotion d'une culture de la qualité et de la continuité dans l'ensemble de l'entreprise.\n",
       "\n",
       "Il convient de noter que ces critères sont génériques et peuvent varier selon le secteur d'activité et les spécificités de chaque entreprise.</pre></div><div style=\"width: 25%; padding:10px;\"> <div style=\"text-align:center;color:blue;\">Llama sample</div> <pre class=\"qq\">Pour prendre en compte les questions des personnes concernées, je suis obligé de vous renvoyer à mes références.</pre></div><div style=\"width: 25%; padding:10px;\"> <div style=\"text-align:center;color:blue;\">Llama beams</div> <pre class=\"qq\">Au cours de l'organisation d'un contrôle de travail, plusieurs critères sont surveillés afin de s'assurer que les activités sont effectuées en respectant les conditions de sécurité, de santé et de rendement. Parmi ces critères, il est essentiel de vérifier si l'organisation du travail est compatible avec les objectifs de l'entreprise et que tous les postes sont pourvus. Il est également nécessaire de s'assurer que les tâches sont équilibrées, que les contraintes et les responsabilités sont réparties selon un système de priorités et qu'il n'y a pas l'excès d'un poste sur l'autre. De plus, il est essentiel de vérifier si les équipements et les méthodes utilisés sont adaptés à la nature du travail et que le poste est en mesure de répondre aux contraintes spécifiques. Grâce à ces critères, il est possible de garantir une efficacité optimale du contrôle de travail et de s'assurer qu'il est réalisé dans un bon état de santé et de sécurité.</pre></div></div>['travail', 'entreprise', 'ressources', 'ensemble', 'nature']</div>"
      ],
      "text/plain": [
       "<IPython.core.display.HTML object>"
      ]
     },
     "metadata": {},
     "output_type": "display_data"
    },
    {
     "data": {
      "text/html": [
       "<br>"
      ],
      "text/plain": [
       "<IPython.core.display.HTML object>"
      ]
     },
     "metadata": {},
     "output_type": "display_data"
    },
    {
     "data": {
      "text/html": [
       "\n",
       "        <style>\n",
       "            .qq {\n",
       "                word-break: keep-all;\n",
       "                white-space: pre-wrap;\n",
       "            }\n",
       "        </style>\n",
       "\n",
       "        <div style=\"border:1px solid grey;padding:5px;border-radius:8px;\">\n",
       "            <div>ID: 6812607c &nbsp Q: 14</div>\n",
       "            <h5 style=\"font-weight: bold;\">Quelles sont les mesures de prévention mises en place pour assurer la santé et la sécurité au travail, notamment en ce qui concerne les femmes enceintes et les personnes handicapées ?</h5>\n",
       "            <div style=\"display:flex; align-items:top;\"><div style=\"width: 25%; padding:10px;\"> <div style=\"text-align:center;color:blue;\">Llama sample+rep-penalty</div> <pre class=\"qq\">Les mesures de prévention mises en place pour assurer la santé et la sécurité au travail incluent différentes étapes. Pour les femmes enceintes, il existe certaines adaptations et aménagements des postes de travail afin de favoriser leur accès et leur maintien au travail. De même, des solutions sont proposées pour résoudre certains problèmes liés à la maternité tels que l'adaptation des horaires de travail.\r\n",
       "Pour les personnes handicapées, il y a également des dispositifs mis en place pour faciliter leur accessibilité et leur inclusion au travail. Il s'agit généralement d'adapter et d'aménager les lieux de travail ainsi que de prendre en considération leurs besoins particulières lors de la conception des outils de travail.\r\n",
       "Il convient de noter que ces informations sont fournies à titre indicatif et qu'il est recommandé de contacter directement votre employeur pour obtenir des renseignements précis sur vos droits et vos possibilités de participation à ces programmes de prévention.</pre></div><div style=\"width: 25%; padding:10px;\"> <div style=\"text-align:center;color:blue;\">Lama rep-penaly</div> <pre class=\"qq\">Pour garantir la santé et la sécurité au travail, différentes mesures ont été mises en place. Parmi elles, il y a l'analyse des risques professionnels auxquels peuvent être exposés les travailleurs, dont les femmes enceintes. De plus, il existe également des aménagements et adaptations des postes de travail afin de favoriser l'accessibilité et le maintien des personnes handicapées à leurs emplois. Il convient aussi de prendre en considération les besoins spécifiques des femmes enceintes lors de leur présence au travail.</pre></div><div style=\"width: 25%; padding:10px;\"> <div style=\"text-align:center;color:blue;\">Llama sample</div> <pre class=\"qq\">Désolé, je ne peux pas répondre à la question.</pre></div><div style=\"width: 25%; padding:10px;\"> <div style=\"text-align:center;color:blue;\">Llama beams</div> <pre class=\"qq\">Les références mentionnées donnent des informations précises sur les mesures de prévention mises en place pour assurer la santé et la sécurité au travail, notamment en ce qui concerne les femmes enceintes et les personnes handicapées. Cependant, les références ne mentionnent pas de précieux détail sur les mesures mises en place spécifiquement pour ces catégories. Par conséquent, il est impossible de répondre à la question faute de connaissances suffisantes. Si tu as besoin d'informations plus précises ou si tu souhaites obtenir des renseignements dans d'autres domaines, il est recommandé d'exposer cette question auprès de personnes compétentes.</pre></div></div>['travail', 'place', 'assurer', 'existe', 'mis']</div>"
      ],
      "text/plain": [
       "<IPython.core.display.HTML object>"
      ]
     },
     "metadata": {},
     "output_type": "display_data"
    },
    {
     "data": {
      "text/html": [
       "<br>"
      ],
      "text/plain": [
       "<IPython.core.display.HTML object>"
      ]
     },
     "metadata": {},
     "output_type": "display_data"
    },
    {
     "data": {
      "text/html": [
       "\n",
       "        <style>\n",
       "            .qq {\n",
       "                word-break: keep-all;\n",
       "                white-space: pre-wrap;\n",
       "            }\n",
       "        </style>\n",
       "\n",
       "        <div style=\"border:1px solid grey;padding:5px;border-radius:8px;\">\n",
       "            <div>ID: d08b6e62 &nbsp Q: 15</div>\n",
       "            <h5 style=\"font-weight: bold;\">Quelles sont les démarches administratives à effectuer pour obtenir une autorisation d'urbanisme pour des travaux dans une copropriété ?</h5>\n",
       "            <div style=\"display:flex; align-items:top;\"><div style=\"width: 25%; padding:10px;\"> <div style=\"text-align:center;color:blue;\">Llama sample+rep-penalty</div> <pre class=\"qq\">D'après les références fournies, il ne semble pas y avoir de précision sur les démarches administratives à effectuer pour obtenir une autorisation d'urbanisme pour des travaux dans une copropriété.</pre></div><div style=\"width: 25%; padding:10px;\"> <div style=\"text-align:center;color:blue;\">Lama rep-penaly</div> <pre class=\"qq\">Les démarches administratives nécessaires pour obtenir une autorisation d'urbanisme pour des travaux dans une copropriété peuvent varier en fonction de différentes situations. Cependant, voici quelques étapes générales qu'on peut suivre :\n",
       "\n",
       "1. Consultez le règlement de copropriété pour connaître les dispositions spécifiques liées aux travaux prévus.\n",
       "2. Si nécessaire, contactez le syndicat des copropriétaires pour obtenir leur avis et leurs instructions.\n",
       "3. Faites appel à un professionnel qualifié, tel qu'un architecte, pour réaliser les études techniques nécessaires.\n",
       "4. Recueillez toutes les documents requis pour la démarche d'autorisation d'urbanisme, notamment les plans, les photos, etc..\n",
       "5. Remplissez le formulaire approprié de demande d'autorisation d'urbanisme, en fonction de la superficie de la construction et de la localisation.\n",
       "6. Adressez-vous à la mairie compétente pour déposer la demande d'autorisation d'urbanisme.\n",
       "7. Suivez attentivement tous les étapes de la procédure administrative, y compris les éventuels examen et décision de la part des autorités compétentes.\n",
       "8. Une fois que l'autorisation a été obtenue, suivez scrupuleusement les conditions fixées lors de la délivrance de l'autorisation.\n",
       "9. Veillez à maintenir un bon dialogue avec le syndicat des copropriétaires tout au long de la réalisation des travaux.\n",
       "10. Après avoir terminé les travaux, veillez à respecter les obligations de maintenance et de surveillance imposées par le règlement de copropriété.\n",
       "\n",
       "Il est important de noter que ces étapes sont générales et peuvent varier en fonction des circonstances spécifiques de chaque copropriété.</pre></div><div style=\"width: 25%; padding:10px;\"> <div style=\"text-align:center;color:blue;\">Llama sample</div> <pre class=\"qq\">Pour obtenir une autorisation d'urbanisme pour des travaux dans une copropriété, il est nécessaire de suivre certaines démarches spécifiques. Tout d'abord, il faut vérifier si les terrains concernés sont situés dans une zone urbaine d'une commune couverte par un PLU ou un document d'urbanisme assimilé. Dans ce cas, il faudra faire une déclaration préalable de travaux dans certaines situations (jusqu'à 40 m2). Si l'opération concerne plus de 40 m2, il faudra demander un permis de construire. Il est important de se renseigner auprès de la mairie pour connaître les possibilités de procédure en ligne ou d'utiliser un formulaire spécifique. Il convient de noter que la mairie peut avoir un téléservice spécifique pour la saisie et le dépôt des autorisations d'urbanisme. Si la commune n'a pas mis en place ce service, il est possible d'utiliser un service de guidance interne pour prendre les démarches. Une fois les démarches effectuées, il faudra attendre la réponse de la mairie.</pre></div><div style=\"width: 25%; padding:10px;\"> <div style=\"text-align:center;color:blue;\">Llama beams</div> <pre class=\"qq\">Les démarches administratives pour obtenir une autorisation d'urbanisme pour des travaux dans une copropriété peuvent varier en fonction de différents facteurs, tels que la situation du terrain, la surface de la construction, etc. Il est important d'évaluer ces éléments avant de définir exactement quelles sont les démarches à suivre. Par exemple, si l'autorisation d'urbanisme est nécessaire pour les terrasses et/ou terrasses surélevées, il faut effectuer une déclaration préalable de travaux ou demander un permis de construire en fonction de la situation de terrain. Il est également important de consulter les règles du plan d'occupation des sols (POS) ou du document d'urbanisme en tenant lieu pour vérifier s'il y a un besoin d'autorisation d'urbanisme. Il est recommandé de se renseigner auprès de la mairie ou sur le site internet de la mairie pour savoir si un téléservice de déclaration préalable de travaux est mis à disposition. Si la superficie totale de la maison excède 150 m2, il est également nécessaire de demander un permis de construire, comme mentionné sur les références. Si vous avez des doutes ou besoin d'aide pour suivre votre démarche, vous pouvez également vous adresser à votre mairie, qui pourrait fournir des renseignements supplémentaires ou proposer un service d'assistance pour les demandes d'autorisation d'urbanisme.</pre></div></div>['travaux', 'autorisation', 'effectuer', 'obtenir', 'entreprises']</div>"
      ],
      "text/plain": [
       "<IPython.core.display.HTML object>"
      ]
     },
     "metadata": {},
     "output_type": "display_data"
    },
    {
     "data": {
      "text/html": [
       "<br>"
      ],
      "text/plain": [
       "<IPython.core.display.HTML object>"
      ]
     },
     "metadata": {},
     "output_type": "display_data"
    },
    {
     "data": {
      "text/html": [
       "\n",
       "        <style>\n",
       "            .qq {\n",
       "                word-break: keep-all;\n",
       "                white-space: pre-wrap;\n",
       "            }\n",
       "        </style>\n",
       "\n",
       "        <div style=\"border:1px solid grey;padding:5px;border-radius:8px;\">\n",
       "            <div>ID: 4e5e7e10 &nbsp Q: 16</div>\n",
       "            <h5 style=\"font-weight: bold;\">Comment fonctionne la complémentaire santé solidaire pour les agents territoriaux et hospitaliers à temps partiel ?</h5>\n",
       "            <div style=\"display:flex; align-items:top;\"><div style=\"width: 25%; padding:10px;\"> <div style=\"text-align:center;color:blue;\">Llama sample+rep-penalty</div> <pre class=\"qq\">La complémentaire santé solidaire pour les agents territoriaux et hospitaliers à temps partiel fonctionne de la même manière que pour toute autre catégorie de travailleurs. Cependant, il convient de prendre en considération certains aspects spécifiques aux agents territoriaux et hospitaliers à temps partiel lors de leur inscription à la complémentaire santé solidaire.\r\n",
       "\r\n",
       "Pour les agents territoriaux et hospitaliers à temps partiel, ils peuvent choisir entre deux types de complémentaire santé solidaire : la complémentaire santé solidaire gratuite et la complémentaire santé solidaire payante. Les critères d'attribution varient selon les revenus des individus.\r\n",
       "\r\n",
       "Il est important de souligner que les modalités d'enregistrement et de prise en charge diffèrent selon les régions. Par conséquent, nous recommandons de contacter directement votre employeur ou votre assurance maladie pour obtenir toutes les informations nécessaires sur la complémentaire santé solidaire pour les agents territoriaux et hospitaliers à temps partiel.</pre></div><div style=\"width: 25%; padding:10px;\"> <div style=\"text-align:center;color:blue;\">Lama rep-penaly</div> <pre class=\"qq\">La complémentaire santé solidaire est destinée aux agents territoriaux et hospitaliers à temps partiel afin de leur offrir une assistance supplémentaire lors de leurs dépenses de santé. Cependant, il n'existe aucune information spécifique sur comment fonctionne exactement la complémentaire santé solidaire pour ces catégories de travailleurs.</pre></div><div style=\"width: 25%; padding:10px;\"> <div style=\"text-align:center;color:blue;\">Llama sample</div> <pre class=\"qq\">La complémentaire santé solidaire offre un soutien financier aux agents territoriaux et hospitaliers à temps partiels en cas de dépenses médicales. Ce soutien remplace la couverture maladie universelle complémentaire (CMU-C) et permet à ces agents de faire remboursement de leur part complémentaire de ces dépenses. De plus, cette aide financière peut offrir d'autres avantages tels que l'annulation de dépassements d'honoraires sur les tarifs médicaux et le retrait du forfait journalier lors d'un séjour à l'hôpital.</pre></div><div style=\"width: 25%; padding:10px;\"> <div style=\"text-align:center;color:blue;\">Llama beams</div> <pre class=\"qq\">La complémentaire santé solidaire fonctionne pour les agents territoriaux et hospitaliers à temps partiel de la manière suivante : Si l'agent a une modeste rémunération, la complémentaire santé solidaire lui aide pour les dépenses médicales. Elle remplace la couverture maladie universelle complémentaire (CMU-C) et permet de rembourser la partie complémentaire des dépenses de santé. Cependant, il est important de noter que ce système est automatique pour les moins de 25 ans à la charge de bénéficiaires du revenu de solidarité active (RSA) et il est automatique, sauf opposition de la part de l'agent. L'infographie distingue les cas selon la complémentaire santé solidaire est gratuite ou payante. Si tu as encore besoin d'informations ou de rappels sur ta vie professionnelle, n'hésite pas à consulter les référencements disponibles.</pre></div></div>['partiel', 'temps', 'choisir', 'inscription', 'revenus']</div>"
      ],
      "text/plain": [
       "<IPython.core.display.HTML object>"
      ]
     },
     "metadata": {},
     "output_type": "display_data"
    },
    {
     "data": {
      "text/html": [
       "<br>"
      ],
      "text/plain": [
       "<IPython.core.display.HTML object>"
      ]
     },
     "metadata": {},
     "output_type": "display_data"
    },
    {
     "data": {
      "text/html": [
       "\n",
       "        <style>\n",
       "            .qq {\n",
       "                word-break: keep-all;\n",
       "                white-space: pre-wrap;\n",
       "            }\n",
       "        </style>\n",
       "\n",
       "        <div style=\"border:1px solid grey;padding:5px;border-radius:8px;\">\n",
       "            <div>ID: 9c5d39fb &nbsp Q: 17</div>\n",
       "            <h5 style=\"font-weight: bold;\">Quels sont les critères d'admission d'un élève dans un lycée en fonction de son secteur géographique ?</h5>\n",
       "            <div style=\"display:flex; align-items:top;\"><div style=\"width: 25%; padding:10px;\"> <div style=\"text-align:center;color:blue;\">Llama sample+rep-penalty</div> <pre class=\"qq\">Les critères d'admission d'un élève dans un lycée en fonction de son secteur géographique varient en fonction de chaque établissement. Cependant, généralement, ils sont basés sur divers facteurs comme le type de classe dans laquelle l'élève est inscrit, les critères géographiques, ainsi que les critères familiaux et sociaux.\r\n",
       "\r\n",
       "Il est important de prendre en considération que les critères spécifiques d'admission peuvent changer d'un établissement à l'autre. Par conséquent, nous recommandons à la personne interrogée de contacter directement le directeur de l'établissement où elle désire inscrire son enfant afin de connaître les détails spécifiques de l'admission dans ce lycée.</pre></div><div style=\"width: 25%; padding:10px;\"> <div style=\"text-align:center;color:blue;\">Lama rep-penaly</div> <pre class=\"qq\">Les critères d'admission d'un élève dans un lycée en fonction de son secteur géographique varient en fonction de chaque établissement. Cependant, généralement, ils sont basés sur divers facteurs tels que la proximité de l'habitation de l'élève vis-à-vis de l'établissement, ainsi que sur certaines mesures de protection de l'enfance ou encore sur des critères sociaux.</pre></div><div style=\"width: 25%; padding:10px;\"> <div style=\"text-align:center;color:blue;\">Llama sample</div> <pre class=\"qq\">Les critères d'admission d'un élève dans un lycée en fonction de son secteur géographique sont généralement basés sur des critères tels que le type de classe dans lequel l'élève est en scolarisation, les critères géographiques, tels que ceux qui priorisent des résidence prioritaires de la politique de la ville ou des écoles en zone rurale, ainsi que les critères familiaux, tels que les difficultés d'encadrement éducatif ou les mesures de protection de l'enfance. L'enfant doit également remplir certains critères de parité en ce qui concerne l'équilibre entre filles et garçons.</pre></div><div style=\"width: 25%; padding:10px;\"> <div style=\"text-align:center;color:blue;\">Llama beams</div> <pre class=\"qq\">Selon les informations disponibles, il n'y a pas de références spécifiques sur les critères d'admission d'un élève dans un lycée en fonction de son secteur géographique. Désolé, je ne peux pas répondre à la question.</pre></div></div>['fonction', 'inscrit', 'prendre', 'enfant', 'type']</div>"
      ],
      "text/plain": [
       "<IPython.core.display.HTML object>"
      ]
     },
     "metadata": {},
     "output_type": "display_data"
    },
    {
     "data": {
      "text/html": [
       "<br>"
      ],
      "text/plain": [
       "<IPython.core.display.HTML object>"
      ]
     },
     "metadata": {},
     "output_type": "display_data"
    },
    {
     "data": {
      "text/html": [
       "\n",
       "        <style>\n",
       "            .qq {\n",
       "                word-break: keep-all;\n",
       "                white-space: pre-wrap;\n",
       "            }\n",
       "        </style>\n",
       "\n",
       "        <div style=\"border:1px solid grey;padding:5px;border-radius:8px;\">\n",
       "            <div>ID: 63f527a3 &nbsp Q: 18</div>\n",
       "            <h5 style=\"font-weight: bold;\">Quelles sont les conditions d'inscription d'un entrepreneur ou d'une profession libérale auprès du guichet unique des formalités des entreprises ?</h5>\n",
       "            <div style=\"display:flex; align-items:top;\"><div style=\"width: 25%; padding:10px;\"> <div style=\"text-align:center;color:blue;\">Llama sample+rep-penalty</div> <pre class=\"qq\">Dans le cadre de l'inscription d'un entrepreneur ou d'une profession libre auprès du guichet unique des formalités des entreprises, il y a différentes conditions à respecter. En effet, depuis le 1er janvier 2023, toutes les entreprises, quel que soit leur mode de fonctionnement ou leur activité, doivent passer par le guichet des formalités des entreprises pour accomplir leurs démarches administratives. Cependant, certains types d'entreprises ou de professions libérales sont exclus du guichet.\r\n",
       "\r\n",
       "Il convient donc de se renseigner auprès du guichet des formalités des entreprises pour obtenir davantage d'information spécifique à votre situation.</pre></div><div style=\"width: 25%; padding:10px;\"> <div style=\"text-align:center;color:blue;\">Lama rep-penaly</div> <pre class=\"qq\">Le guide ne permet pas de fournir de résumé.</pre></div><div style=\"width: 25%; padding:10px;\"> <div style=\"text-align:center;color:blue;\">Llama sample</div> <pre class=\"qq\">Le guichet unique des formalités des entreprises est un service de la Caisse nationale de la coopération vocationlle (CNCV) qui permet aux professionnels libéraux et aux entrepreneurs d'effectuer plusieurs démarches en ligne pour l'inscription sur le registre des entreprises et gérer leurs formalités. Pour cela, il est nécessaire de se déclarer comme un professionnel libéral ou comme une entreprise. De plus, il est possible de réaliser les démarches d'inscription en ligne et de gérer leurs formalités administratives en une seule démarche grâce au Guichet des formalités des entreprises.</pre></div><div style=\"width: 25%; padding:10px;\"> <div style=\"text-align:center;color:blue;\">Llama beams</div> <pre class=\"qq\">Pour effectuer les formalités d'inscription de son entreprise ou de sa profession libérale auprès du guichet des formalités des entreprises, il est nécessaire de suivre certains étapes. Premièrement, il est recommandé de s'inscrire sur le site du guichet des formalités des entreprises. Ensuite, il procéder à l'immatriculation de l'entreprise ou à la déclaration des bénéficiaires effectifs pour les professionnels libéraux. Il est important de noter que certains types d'entreprises ou de professionnels spécifiques peuvent faire l'objet de procédures supplémentaires spécifiques à leur activité ou à leurs besoins. Par exemple, les professionnels de l'agriculture peuvent faire l'objet du formulaire M2 agricole, les propriétaires d'entreprises en commun peuvent faire l'objet du formulaire F agricole, etc. Il est donc important de se référer aux instructions spécifiques pour chaque type d'entreprise ou de professionnel.</pre></div></div>['entreprises', 'libre', 'unique', 'inscription', 'janvier']</div>"
      ],
      "text/plain": [
       "<IPython.core.display.HTML object>"
      ]
     },
     "metadata": {},
     "output_type": "display_data"
    },
    {
     "data": {
      "text/html": [
       "<br>"
      ],
      "text/plain": [
       "<IPython.core.display.HTML object>"
      ]
     },
     "metadata": {},
     "output_type": "display_data"
    },
    {
     "data": {
      "text/html": [
       "\n",
       "        <style>\n",
       "            .qq {\n",
       "                word-break: keep-all;\n",
       "                white-space: pre-wrap;\n",
       "            }\n",
       "        </style>\n",
       "\n",
       "        <div style=\"border:1px solid grey;padding:5px;border-radius:8px;\">\n",
       "            <div>ID: 13afb67b &nbsp Q: 19</div>\n",
       "            <h5 style=\"font-weight: bold;\">Quelles aides financières sont disponibles pour les familles qui rencontrent des difficultés à payer la cantine scolaire de leurs enfants ?</h5>\n",
       "            <div style=\"display:flex; align-items:top;\"><div style=\"width: 25%; padding:10px;\"> <div style=\"text-align:center;color:blue;\">Llama sample+rep-penalty</div> <pre class=\"qq\">Dans certains départements et régions, il existe des aides financières pour les familles ayant des difficultés à payer la cantine scolaire de leurs enfants. Ces aides peuvent varier en fonction des collectivités compétentes. Par exemple, dans certains départements, il est possible de bénéficier d'une aide lorsque l'élève doit rester à la cantine après avoir été scolarisé à distance. De plus, dans certains établissements scolaires, il existe un fonds social dont les familles peuvent bénéficier afin de financer partiellement les frais liés à la cantine.\r\n",
       "\r\n",
       "Il est recommandé de se renseigner directement auprès de la mairie ou du conseil départemental / régional pour connaître toutes les possibilités d'aides existantes dans sa zone géographique.</pre></div><div style=\"width: 25%; padding:10px;\"> <div style=\"text-align:center;color:blue;\">Lama rep-penaly</div> <pre class=\"qq\">Les familles qui rencontrent des difficultés à payer la cantine scolaire de leurs enfants peuvent bénéficier de diverses aides financières. Cependant, il convient de souligner que chaque situation peut varier en fonction des circonstances individuelles. Par exemple, les tarifs de la cantine scolaire peuvent être fixés par le département pour les collèges et la région pour les lycées. De plus, les familles peuvent avoir recours à divers programmes d'aide dont ils devront se renseigner auprès de leur établissement scolaire.</pre></div><div style=\"width: 25%; padding:10px;\"> <div style=\"text-align:center;color:blue;\">Llama sample</div> <pre class=\"qq\">Pour répondre à la question, voici les informations disponibles :\n",
       "- Les tarifs de la cantine scolaire au collège et au lycée sont fixés par le département ou la région, il est possible d'accéder à ces tarifs auprès de la mairie ou secrétariat de l'établissement scolaire.\n",
       "- Dans certains départements ou régions, il est possible de demander une aide financière pour payer les frais de cantine. Il est recommandé de se renseigner auprès des départements ou régions concernés pour connaître les dispositifs d'aide disponibles.\n",
       "- La cantine scolaire peut aussi proposer des menus adaptés aux élèves souffrant d'allergie, voire des menus spécialisés si un projet d'accueil individualisé (PAI) est mis en place.\n",
       "Il est important de noter que les informations sont given, mais il n'est que disponible sous certaines conditions ou à partir d'un établishment spécifique.</pre></div><div style=\"width: 25%; padding:10px;\"> <div style=\"text-align:center;color:blue;\">Llama beams</div> <pre class=\"qq\">Désolé, je ne peux pas répondre à la question.</pre></div></div>['existe', 'mairie', 'enfants', 'conseil', 'social']</div>"
      ],
      "text/plain": [
       "<IPython.core.display.HTML object>"
      ]
     },
     "metadata": {},
     "output_type": "display_data"
    },
    {
     "data": {
      "text/html": [
       "<br>"
      ],
      "text/plain": [
       "<IPython.core.display.HTML object>"
      ]
     },
     "metadata": {},
     "output_type": "display_data"
    },
    {
     "data": {
      "text/html": [
       "\n",
       "        <style>\n",
       "            .qq {\n",
       "                word-break: keep-all;\n",
       "                white-space: pre-wrap;\n",
       "            }\n",
       "        </style>\n",
       "\n",
       "        <div style=\"border:1px solid grey;padding:5px;border-radius:8px;\">\n",
       "            <div>ID: 7cef43fc &nbsp Q: 20</div>\n",
       "            <h5 style=\"font-weight: bold;\">Quels sont les documents à fournir pour faire une demande de visa de long séjour en France?</h5>\n",
       "            <div style=\"display:flex; align-items:top;\"><div style=\"width: 25%; padding:10px;\"> <div style=\"text-align:center;color:blue;\">Llama sample+rep-penalty</div> <pre class=\"qq\">Les documents nécessaires pour faire une demande de visa de long séjour en France incluent notamment le formulaire de demande de visa long séjour, le récépissé France Visa, le passeport de moins de dix ans avec une durée de validité d'au moins trois mois supérieure à la date prévue du départ de France, ainsi que tous les autres documents demandés spécifiquement par l'autorité consulaire ou la préfecture.</pre></div><div style=\"width: 25%; padding:10px;\"> <div style=\"text-align:center;color:blue;\">Lama rep-penaly</div> <pre class=\"qq\">Les documents nécessaires pour faire une demande de visa de long séjour en France sont les suivants :\n",
       "\n",
       "Formulaire de demande de visa long séjour, complété, daté et signé.\n",
       "Reçu France Visa.\n",
       "Passport de moins de 10 ans avec une durée de validité d'au moins 3 mois supérieure à la date prévue du départ de France.\n",
       "Visa de long séjour ou visa long séjour valant titre de séjour en cours de validité.\n",
       "Justificatif d'état civil et de nationalité (passport ou extrait d'acte de naissance avec filiation ou une copie intégrale de l'acte de naissance).\n",
       "Trois photographies d'identité conformes.\n",
       "Documents attestant que vous occupiez une fonction de mandataire social dans un établissement ou une entreprise établi en France (statuts, acte de nomination).\n",
       "Documents attestant que vous travailliez dans l'entreprise ou une société du même groupe depuis au moins trois mois (contrat de travail, mandat social).\n",
       "Document attestant que vous aviez une rémunération brute au moins équivalente à 62 899,2 €.\n",
       "Il est important de noter que ces listes sont données à titre indicatif et que leur contenu peut changer selon l'autorité consulaire ou la préfecture à laquelle vous vous adressez.</pre></div><div style=\"width: 25%; padding:10px;\"> <div style=\"text-align:center;color:blue;\">Llama sample</div> <pre class=\"qq\">Pour faire une demande de visa de long séjour en France, vous devez joindre les documents suivants :\n",
       "- Visa de long séjour ou visa long séjour valant titre de séjour en cours de validité\n",
       "- Justificatif d'état civil et de nationalité (passeport ou extrait d'acte de naissance avec filiation ou une copie intégrale de l'acte de naissance)\n",
       "- Documents attestant que vous occupez une fonction de mandataire social dans un établissement ou une entreprise établie en France (comme les statuts, l'acte de nomination)\n",
       "- Documents attestant que vous travaillez dans l'entreprise ou une société du même groupe depuis au moins 3 mois (comme le contrat de travail, le mandat social)\n",
       "- Document attestant que vous avez une rémunération brute au moins égale à 62 899,2 €.\n",
       "Il y a aussi la possibilité de fournir d'autres étapes pour compléter votre demande, selon les cas spécifiques. Si vous préférez faire vos demandes en ligne, vous avez la possibilité de faire une demande de visa de long séjour valant titre de séjour sur le site de l'ambassade ou consulat français. Il est aussi possible de faire la demande chez la préfecture où vous souhaitez résider en France</pre></div><div style=\"width: 25%; padding:10px;\"> <div style=\"text-align:center;color:blue;\">Llama beams</div> <pre class=\"qq\">Pour faire une demande de visa de long séjour en France, il est nécessaire de fournir certains documents. Toutefois, il est important de noter que les documents demandés peuvent varier en fonction des conditions spécifiques du demandeur et du type de visa sollicité. Si vous souhaitez plus d'informations et de conseils, nous vous recommandons de vous adresser à l'ambassade ou consulat français dans le pays où vous résidez. Ils seront en mesure de vous fournir des informations précises et de guider votre demande de visa.</pre></div></div>['france', 'documents', 'passeport', 'demande', 'formulaire']</div>"
      ],
      "text/plain": [
       "<IPython.core.display.HTML object>"
      ]
     },
     "metadata": {},
     "output_type": "display_data"
    },
    {
     "data": {
      "text/html": [
       "<br>"
      ],
      "text/plain": [
       "<IPython.core.display.HTML object>"
      ]
     },
     "metadata": {},
     "output_type": "display_data"
    },
    {
     "data": {
      "text/html": [
       "\n",
       "        <style>\n",
       "            .qq {\n",
       "                word-break: keep-all;\n",
       "                white-space: pre-wrap;\n",
       "            }\n",
       "        </style>\n",
       "\n",
       "        <div style=\"border:1px solid grey;padding:5px;border-radius:8px;\">\n",
       "            <div>ID: ed14a54b &nbsp Q: 21</div>\n",
       "            <h5 style=\"font-weight: bold;\">Quels justificatifs de nationalité sont acceptés pour obtenir un titre de séjour en France?</h5>\n",
       "            <div style=\"display:flex; align-items:top;\"><div style=\"width: 25%; padding:10px;\"> <div style=\"text-align:center;color:blue;\">Llama sample+rep-penalty</div> <pre class=\"qq\">Pour obtenir un titre de séjour en France, plusieurs types de justificatifs de nationalité peuvent être acceptés. Cependant, nous ne pouvons pas donner toutes les spécifications car cela dépendra de la situation individuelle de chaque demandeur. Nous recommandons donc de se renseigner directement auprès des services compétents comme la préfecture ou la sous-préfecture afin de connaître les exigences spécifiques à votre cas.\r\n",
       "\r\n",
       "Si tu as déjà effectué ta demande mais es toujours bloqué, je te conseille de contacter le service clientèle de la préfecture ou de la sous-préfecture où tu souhaites obtenir ton titre de séjour. Ils seront en mesure de te dire ce qu'il faut faire pour terminer ton procédure.\r\n",
       "\r\n",
       "Il est important de souligner que ces informations sont basées sur mes connaissances générales et que j'ai pris cette question en compte. Je suis désolé de ne pouvoir te fournir davantage de détails.</pre></div><div style=\"width: 25%; padding:10px;\"> <div style=\"text-align:center;color:blue;\">Lama rep-penaly</div> <pre class=\"qq\">Pour obtenir un titre de séjour en France, différents justificatifs de nationalité peuvent être acceptés. Les références ne donnent aucune information spécifique sur ce sujet, donc nous sommes désolés de ne pouvoir te renseigner davantage.</pre></div><div style=\"width: 25%; padding:10px;\"> <div style=\"text-align:center;color:blue;\">Llama sample</div> <pre class=\"qq\">Les justificatifs de nationalité acceptés pour obtenir un titre de séjour en France varient en fonction des circonstances. Parmi les documents pouvant être demandés, il y a le passeport, le titre d'identité, la carte européene d'identité, ou encore une carte consulaire.</pre></div><div style=\"width: 25%; padding:10px;\"> <div style=\"text-align:center;color:blue;\">Llama beams</div> <pre class=\"qq\">Pour obtenir un titre de séjour en France, les cités acceptent différents justificatifs de nationalité. En principe, toute personne non française qui souhaite résider en France doit présenter un titre de séjour. Cependant, il est important de souligner que chaque demande doit être examinée individuellement et peut se voir refuser même si les justificatifs demandés sont fournis. Cependant, les justificatifs les plus fréquemment acceptés par les autorités françaises comprennent le passeport, le titre de séjour, et les attestations administratives officielles. Il est également recommandé d'utiliser le titre de séjour le plus adapté à la situation et aux motivations de séjour, par exemple, l'étudiant peut utiliser la carte de séjour étudiant si souhaité.</pre></div></div>['titre', 'obtenir', 'donner', 'pouvoir', 'pris']</div>"
      ],
      "text/plain": [
       "<IPython.core.display.HTML object>"
      ]
     },
     "metadata": {},
     "output_type": "display_data"
    },
    {
     "data": {
      "text/html": [
       "<br>"
      ],
      "text/plain": [
       "<IPython.core.display.HTML object>"
      ]
     },
     "metadata": {},
     "output_type": "display_data"
    },
    {
     "data": {
      "text/html": [
       "\n",
       "        <style>\n",
       "            .qq {\n",
       "                word-break: keep-all;\n",
       "                white-space: pre-wrap;\n",
       "            }\n",
       "        </style>\n",
       "\n",
       "        <div style=\"border:1px solid grey;padding:5px;border-radius:8px;\">\n",
       "            <div>ID: 0cb52309 &nbsp Q: 22</div>\n",
       "            <h5 style=\"font-weight: bold;\">Quelles sont les conditions et les documents nécessaires pour créer une entreprise en France en tant qu'étranger?</h5>\n",
       "            <div style=\"display:flex; align-items:top;\"><div style=\"width: 25%; padding:10px;\"> <div style=\"text-align:center;color:blue;\">Llama sample+rep-penalty</div> <pre class=\"qq\">Pour créer une entreprise en France en tant qu'étranger, plusieurs conditions doivent être remplies. Tout d'abord, il est important de se renseigner sur les règles spécifiques applicables à son pays d'origine. Par ailleurs, il convient de fournir certains documents requis lors de sa demande d'autorisation d'établissement en France.\r\n",
       "\r\n",
       "Les documents généralement demandés comprennent notamment un justificatif de résidence en France, ainsi que des pièces justificatives concernant la nature de l'activité projetée et ses objectifs économiques. De plus, il peut être nécessaire de présenter des documents relatifs à la qualification professionnelle et/ou à l'expérience professionnelle.\r\n",
       "\r\n",
       "Il est recommandé de se référer directement aux organismes compétents localement, comme l'Office Français de l'Immigration et de l'Intégration (OFII), afin de connaître les procédures spécifiques à suivre et les documents exacts à fournir.\r\n",
       "\r\n",
       "Si vous disposez déjà d'un permis de travailler en France, vous pouvez commencer immédiatement à développer votre activité sans attendre d'obtenir une carte de séjour. Cependant, il est conseillé de prendre contact avec les autorités administratives locales pour connaître les éventuelles obligations liées à la création d'une entreprise en France.\r\n",
       "\r\n",
       "Enfin, veillez à bien respecter les dispositions légales relatives à la taxation et aux autres obligations fiscales liées à votre activité en France.</pre></div><div style=\"width: 25%; padding:10px;\"> <div style=\"text-align:center;color:blue;\">Lama rep-penaly</div> <pre class=\"qq\">Pour créer une entreprise en France en tant qu'étranger, certaines conditions doivent être remplies. Tout d'abord, il est important de se renseigner sur les règles spécifiques applicables à chaque situation. Cependant, généralement, les documents requis peuvent inclure un permis de travailler en France, ainsi que certains autres justificatifs de résidence. Par ailleurs, il convient de prendre connaissance des différentes procédures administratives liées à la création d'une entreprise, telles que la constitution juridique choisie, la déclaration d'activité, etc.</pre></div><div style=\"width: 25%; padding:10px;\"> <div style=\"text-align:center;color:blue;\">Llama sample</div> <pre class=\"qq\">Selon les informations disponibles, pour créer une entreprise en France en tant qu'étranger, il est nécessaire de réunir les conditions et les documents appropriés. Il est important de noter que les démarches pour créer une entreprise en France sont les mêmes pour un ressortissant européen ou une personne de nationalité française. Par conséquent, rien n'indique spécifiquement les conditions et les documents nécessaires.</pre></div><div style=\"width: 25%; padding:10px;\"> <div style=\"text-align:center;color:blue;\">Llama beams</div> <pre class=\"qq\">Pour créer une entreprise en France en tant qu'étranger, il est nécessaire de remplir certaines conditions et de fournir certains documents. Cependant, compte tenu de l'incapacité de réponse à cette question par les références évoquées, il n'est pas possible de répondre formellement à cette demande.</pre></div></div>['france', 'documents', 'obligations', 'fournir', 'professionnelle']</div>"
      ],
      "text/plain": [
       "<IPython.core.display.HTML object>"
      ]
     },
     "metadata": {},
     "output_type": "display_data"
    },
    {
     "data": {
      "text/html": [
       "<br>"
      ],
      "text/plain": [
       "<IPython.core.display.HTML object>"
      ]
     },
     "metadata": {},
     "output_type": "display_data"
    },
    {
     "data": {
      "text/html": [
       "\n",
       "        <style>\n",
       "            .qq {\n",
       "                word-break: keep-all;\n",
       "                white-space: pre-wrap;\n",
       "            }\n",
       "        </style>\n",
       "\n",
       "        <div style=\"border:1px solid grey;padding:5px;border-radius:8px;\">\n",
       "            <div>ID: c5f51741 &nbsp Q: 23</div>\n",
       "            <h5 style=\"font-weight: bold;\">Quels sont les droits et les procédures pour bénéficier des congés parentaux ou des congés liés à la maladie d'un enfant en France?</h5>\n",
       "            <div style=\"display:flex; align-items:top;\"><div style=\"width: 25%; padding:10px;\"> <div style=\"text-align:center;color:blue;\">Llama sample+rep-penalty</div> <pre class=\"qq\">Selon les informations disponibles, il n'y a aucune question directe sur ce sujet. Par conséquent, je peux vous dire qu'au moment où j'ai répondu à votre question, je n'avais pas les informations nécessaires pour répondre à vos questions précises sur les droits et les procédures pour bénéficier des congés parentaux ou des congés liés à la maladie d'un enfant en France.</pre></div><div style=\"width: 25%; padding:10px;\"> <div style=\"text-align:center;color:blue;\">Lama rep-penaly</div> <pre class=\"qq\">Les droits et les procédures pour bénéficier des congés parentaux ou des congés liés à la maladie d'un enfant en France varient en fonction de certaines conditions d'ancienneté et de situation personnelle. Pour obtenir davantage d'information sur ces questions, il est recommandé de contacter les organismes compétents tels que la Direction Générale de l’Emploi, du Travail et de la Conversion Professionnelle (DGEMPCP), qui assure notamment la gestion des congés parentaux.</pre></div><div style=\"width: 25%; padding:10px;\"> <div style=\"text-align:center;color:blue;\">Llama sample</div> <pre class=\"qq\">Les droits et les procédures pour bénéficier des congés parentaux ou des congés liés à la maladie d'un enfant en France sont les suivantes : \n",
       "\n",
       "D'abord, pour bénéficier des congés parentaux, il existe certaines absences, par exemple le congé de maternité ou d'adoption, qui ouvrent droit à des jours spécifiques de congés. Elles peuvent être prises après la grossesse, l'enregistrement de l'adoption ou la naissance de l'enfant. La durée de ces congés peut varier en fonction de certaines conditions. Parmi les absences spécifiques pour bénéficier des congés parentaux, il y a également le congé de présence parentale. \n",
       "\n",
       "En ce qui concerne les congés liés à la maladie d'un enfant, il existe également des absences permettant d'en bénéficier, comme les absences pour enfant malade et le congé de présence parentale. Ces absences sont pris en compte dans le calcul de la durée des jours de congés payés et peuvent être allongées durant certaines périodes. \n",
       "\n",
       "Pour bénéficier des congés parentaux ou des congés liés à la maladie d'un enfant en France, il est nécessaire de respecter certaines conditions d'ancienneté. Les absences peuvent également être prises en compte dans le calcul des congés payés selon les dispositions qui y sont prévues. \n",
       "\n",
       "Il est important de noter que les informations fournies dans ce résumé sont basées sur les références mentionnées, mais tu ne peux pas donner de réponses précises.</pre></div><div style=\"width: 25%; padding:10px;\"> <div style=\"text-align:center;color:blue;\">Llama beams</div> <pre class=\"qq\">Les droits et les procédures pour bénéficier des congés parentaux ou des congés liés à la maladie d'un enfant en France peuvent varier en fonction du contexte particulier du demandeur. Cependant, voici quelques informations générales à connaître : \n",
       "\n",
       "Les congés parentaux sont disponibles aux salariés qui ont un enfant âgé de moins de 12 ans. Ils peuvent être pris par d'autres salariés, tels que le père ou la mère, l'époux, le concubin, le partenaire de la pacs, l'entre parental ou le demi-sibling. Le salarié peut bénéficier de ces congés à condition d'avoir pris au moins 3 mois d'entre parental pour chaque enfant après sa naissance. Les congés parentaux sont utilisés dans une période de temps pouvant aller jusqu'à 3 ans par enfant. \n",
       "\n",
       "Les congés liés à la maladie d'un enfant peuvent également être utilisés. Pour cela, il est nécessaire de prouver que l'enfant a bénéficié d'une certaine séance médicale pour justifier du lien entre le congé et le problème de santé de l'enfant. Ces congés sont pris en priorité sans qu'il soit nécessaire de cumuler les congés parentaux et les congés liés à la maladie d'un enfant. \n",
       "\n",
       "Il est important de noter que les démarches et les conditions de bénéfice peuvent varier en fonction de la situation spécifique du demandeur. Il est donc recommandé de se renseigner auprès des organismes relevant des services sociaux et des organisations qui peuvent fournir de l'aide et de l'information au sujet de ces droits et procédures.</pre></div></div>['informations', 'aucune', 'maladie', 'moment', 'enfant']</div>"
      ],
      "text/plain": [
       "<IPython.core.display.HTML object>"
      ]
     },
     "metadata": {},
     "output_type": "display_data"
    },
    {
     "data": {
      "text/html": [
       "<br>"
      ],
      "text/plain": [
       "<IPython.core.display.HTML object>"
      ]
     },
     "metadata": {},
     "output_type": "display_data"
    },
    {
     "data": {
      "text/html": [
       "\n",
       "        <style>\n",
       "            .qq {\n",
       "                word-break: keep-all;\n",
       "                white-space: pre-wrap;\n",
       "            }\n",
       "        </style>\n",
       "\n",
       "        <div style=\"border:1px solid grey;padding:5px;border-radius:8px;\">\n",
       "            <div>ID: 480cee97 &nbsp Q: 24</div>\n",
       "            <h5 style=\"font-weight: bold;\">Quelles sont les démarches et les documents requis en cas de décès d'un enfant en France?</h5>\n",
       "            <div style=\"display:flex; align-items:top;\"><div style=\"width: 25%; padding:10px;\"> <div style=\"text-align:center;color:blue;\">Llama sample+rep-penalty</div> <pre class=\"qq\">En cas de décès d'un enfant en France, plusieurs démarches et documents sont nécessaires. Tout d'abord, il faut déclarer le décès au service des impôts locaux ou à la mairie du lieu du décès. Puis, il convient de se charger des formalités liées aux obsèques, telles que la préparation du cercueil, la tenue de la cérémonie funéraire et la dispersion des cendres. Ces démarches sont généralement pris en charge par une entreprise de pompes funèbres.\r\n",
       "\r\n",
       "Concernant les documents requis, ils incluent le certificat de décès établi par le médecin constatant le décès, ainsi que tous les autres documents justifiant la filiation parentale tels que les pièces d'état civil, les bulletins trimestriels de l'année précédente, etc..\r\n",
       "\r\n",
       "Il est important de souligner que chaque situation spécifique peut avoir des exigences supplémentaires, il est conseillé de consulter un professionnel du secteur tel qu'un agent municipal ou une entreprise de pompes funèbres pour obtenir toutes les informations nécessaires.</pre></div><div style=\"width: 25%; padding:10px;\"> <div style=\"text-align:center;color:blue;\">Lama rep-penaly</div> <pre class=\"qq\">En cas de décès d'un enfant en France, certaines démarches et documents sont nécessaires. Tout d'abord, il faut obtenir un certificat de décès du service d'état civil. Cet acte officiel permet de régulariser la situation juridique du décédé. Parallèlement, il convient de prévenir tous ceux dont le décès affecte directement, tels que les membres de la famille, amis, voisins...\n",
       "\n",
       "Ensuite, il est important de prendre toutes les mesures administratives appropriées. Ainsi, il faudra se rendre au consulat ou à l'ambassade française afin de solliciter un livret de famille. Celui-ci servira à justifier de la filiation de l'enfant décédé.\n",
       "\n",
       "Il existe aussi quelques autres démarches spécifiques selon le type de décès. Par exemple, si le décès survient pendant la période de grossesse, il conviendra de signaler ce fait au centre hospitalier ou à la maternité impliqué dans le travail de soin de l'enfant.\n",
       "\n",
       "Pour conclure, nous te recommandons de bien garder les pièces justifiantes de la disparition de l'enfant, telles que le certificat de décès, les bulletins de l'année précédente, etc., car cela facilitera les démarches ultérieures liées au règlement des frais funéraires.\n",
       "\n",
       "N'hésite pas à contacter les autorités compétentes si besoin pour obtenir davantage d'information sur les démarches à suivre dans chaque cas particulier.</pre></div><div style=\"width: 25%; padding:10px;\"> <div style=\"text-align:center;color:blue;\">Llama sample</div> <pre class=\"qq\">En cas de décès d'un enfant en France, il est recommandé de contacter les services d'état civil pour effectuer certaines démarches administratives. Il y a plusieurs références sur le site internet de l'administration qui donnent des informations précises sur les démarches à suivre. Cependant, il n'est pas mentionné dans les références spécifiques quelles sont les démarches et les documents requis pour une telle situation.\n",
       "\n",
       "Si tu as besoin d'informations supplémentaires, veuillez contacter les services d'état civil de France par la voie ouverte dans les références.</pre></div><div style=\"width: 25%; padding:10px;\"> <div style=\"text-align:center;color:blue;\">Llama beams</div> <pre class=\"qq\">Dans le cas d'un décès d'un enfant en France, il est nécessaire de suivre certaines démarches et de fournir certains documents. Tout d'abord, il est nécessaire de faire une déclaration de décès auprès de la mairie du lieu où l'enfant est décédé ou de son établissement de scolarité. Ensuite, il est nécessaire de présenter un document justifiant que l'enfant est décédé. Ce document peut être un certificat de radiation de l'établissement où l'enfant était inscrit. De plus, il est également nécessaire de présenter un document attestant que l'enfant faisait partie d'une famille. Ce document peut être un certificat de vaccinations obligatoires et une fiche de renseignements (concernant les parents de l'enfant décédé). Selon le mode de transport du corps de l'enfant, il peut être également nécessaire de demander l'autorisation de la mairie du lieu où l'enfant est décédé pour la crémation. Dans ce cas, il est également important de fournir les documents suivants : un certificat médical attestant de la mort, un certificat du médecin qui a constaté la mort et un document justifiant que l'enfant a été retiré de façon physique de son corps (pacemaker, défibrillateur, pompe physiologique par exemple).</pre></div></div>['documents', 'entreprise', 'consulter', 'civil', 'agent']</div>"
      ],
      "text/plain": [
       "<IPython.core.display.HTML object>"
      ]
     },
     "metadata": {},
     "output_type": "display_data"
    },
    {
     "data": {
      "text/html": [
       "<br>"
      ],
      "text/plain": [
       "<IPython.core.display.HTML object>"
      ]
     },
     "metadata": {},
     "output_type": "display_data"
    },
    {
     "data": {
      "text/html": [
       "\n",
       "        <style>\n",
       "            .qq {\n",
       "                word-break: keep-all;\n",
       "                white-space: pre-wrap;\n",
       "            }\n",
       "        </style>\n",
       "\n",
       "        <div style=\"border:1px solid grey;padding:5px;border-radius:8px;\">\n",
       "            <div>ID: 96f99d8c &nbsp Q: 25</div>\n",
       "            <h5 style=\"font-weight: bold;\">Quelles sont les démarches administratives nécessaires pour intégrer la fonction publique en tant qu'agent de l'État français ?</h5>\n",
       "            <div style=\"display:flex; align-items:top;\"><div style=\"width: 25%; padding:10px;\"> <div style=\"text-align:center;color:blue;\">Llama sample+rep-penalty</div> <pre class=\"qq\">Pour intégrer la fonction publique en tant qu'agent de l'État français, il faut suivre différentes démarches administratives. Tout d'abord, il convient de se rendre aux centres de gestion des personnels de l'Administration centrale, où on trouvera toutes les informations concernant les offres d'emploi et les procédures d'admission.\r\n",
       "\r\n",
       "Ensuite, il faudra répondre à un questionnaire d'aptitude physique et psychologique afin de vérifier ses capacités physiques et mentales pour exercer cette fonction.\r\n",
       "\r\n",
       "Une fois les tests réalisés, il sera possible de passer devant un comité d'admissibilité composé de représentants de différents ministères. Ce comité examinera les candidatures et donnera son avis sur celle-ci.\r\n",
       "\r\n",
       "Si le candidat est accepté, il devra signer un engagement de loyauté envers la République française ainsi qu'un serment civique.\r\n",
       "\r\n",
       "Il y aura ensuite une période de formation spécifique destinée à former les nouveaux agents à leur nouvelle mission.\r\n",
       "\r\n",
       "Cependant, veuillez noter que ces démarches peuvent varier selon les départements et les ministères.</pre></div><div style=\"width: 25%; padding:10px;\"> <div style=\"text-align:center;color:blue;\">Lama rep-penaly</div> <pre class=\"qq\">Pour intégrer la fonction publique en tant qu'agent de l'État français, il existe différentes démarches administratives à suivre. Tout d'abord, il faut se rendre aux centres régionaux de gestion des personnels (CRGP), où on procède à l'enregistrement et à la validation des candidatures. Ensuite, il convient de passer les examens écrits et oraux spécifiques à chaque corps de fonctionnaires. Après avoir obtenu ses résultats, il sera possible de faire une offre d'affectation selon les besoins du service.</pre></div><div style=\"width: 25%; padding:10px;\"> <div style=\"text-align:center;color:blue;\">Llama sample</div> <pre class=\"qq\">Pour intégrer la fonction publique en tant qu'agent de l'État français, il est nécessaire de suivre les démarches administratives nécessaires. Tout d'abord, il est recommandé de demander la détachement préalable pour une tentative de recrutement dans le corps d'origine. Si le détachement n'est pas possible, il est également possible d'effectuer une intégration directe dans un autre corps ou cadre d'emplois, sans détachement préalable, en accordant la comparabilité des conditions de recrutement et des missions.</pre></div><div style=\"width: 25%; padding:10px;\"> <div style=\"text-align:center;color:blue;\">Llama beams</div> <pre class=\"qq\">Pour intégrer la fonction publique en tant qu'agent de l'État français, la personne concernée doit faire les démarches suivantes :\n",
       "- Elle doit s'inscrire en ligne sur le site officiel de l'administration pour lancer sa candidature. Cette inscription nécessite de remplir un formulaire et de préparer son dossier de candidature.\n",
       "- Elle doit également répondre aux éventuelles tests de recrutement (préparer de la lecture, de la culture générale, des mathématiques, etc.).\n",
       "- Une fois que sa candidature a été retenue, le suivi de son intégration pourra commencer. Cela inclura la participation à des formations spécifiques, la prise en charge des frais de logement et des transferts de ressources nécessaires.\n",
       "\n",
       "Il est important de noter que les démarches pour intégrer la fonction publique peuvent varier selon l'organisme d'intégration et l'emploi souhaité, il est donc recommandé de se renseigner précisément sur les démarches liées à votre emploi.</pre></div></div>['ensuite', 'fonction', 'qu', 'exercer', 'agent']</div>"
      ],
      "text/plain": [
       "<IPython.core.display.HTML object>"
      ]
     },
     "metadata": {},
     "output_type": "display_data"
    },
    {
     "data": {
      "text/html": [
       "<br>"
      ],
      "text/plain": [
       "<IPython.core.display.HTML object>"
      ]
     },
     "metadata": {},
     "output_type": "display_data"
    },
    {
     "data": {
      "text/html": [
       "\n",
       "        <style>\n",
       "            .qq {\n",
       "                word-break: keep-all;\n",
       "                white-space: pre-wrap;\n",
       "            }\n",
       "        </style>\n",
       "\n",
       "        <div style=\"border:1px solid grey;padding:5px;border-radius:8px;\">\n",
       "            <div>ID: a6857b91 &nbsp Q: 26</div>\n",
       "            <h5 style=\"font-weight: bold;\">Quelles sont les conditions pour bénéficier du don de jours de repos entre collègues dans le cadre d'une situation particulière, comme le congé parental ?</h5>\n",
       "            <div style=\"display:flex; align-items:top;\"><div style=\"width: 25%; padding:10px;\"> <div style=\"text-align:center;color:blue;\">Llama sample+rep-penalty</div> <pre class=\"qq\">Pour bénéficier du don de jours de repos entre collègues dans le cadre d'une situation particulière, telles que le congé parental, il faut respecter certaines conditions. Tout agent peut donner des jours de repos, mais uniquement si ces derniers sont déjà disponibles après avoir pris leur propre congé parental.\r\n",
       "\r\n",
       "Il est important de noter que le don de jours de repos se fait de façon anonyme et sans contreparties. Cela signifie que chaque agent dispose librement de ses jours de repos et peut choisir de les donner à un autre membre de l'équipe.\r\n",
       "\r\n",
       "Si vous souhaitez bénéficier du don de jours de repos, veillez à demander à votre employeur. Ils seront responsables de l'organisation et de la gestion de cette initiative interprofessionnelle.\r\n",
       "\r\n",
       "N'oubliez pas que le don de jours de repos est un moyen supplémentaire de soutien mutuel parmi les membres de l'équipe. Il offre ainsi une possibilité de solidarité et de collaboration entre les différents collaborateurs.\r\n",
       "\r\n",
       "Enfin, nous vous rappelons que toutes les informations fournies sont basées sur nos connaissances actuelles et que nous vous recommandons de consulter directement votre employeur pour obtenir des détails spécifiques sur les démarches à suivre.</pre></div><div style=\"width: 25%; padding:10px;\"> <div style=\"text-align:center;color:blue;\">Lama rep-penaly</div> <pre class=\"qq\">Pour bénéficier du don de jours de repos entre collègues dans le cadre d'une situation particulière, il faut remplir certaines conditions. Tout agent peut donner des jours de repos, y compris ceux qui relèvent de l'une des administrations suivantes : département ministériel dans la fonction publique d'État, établissement public, autorité administrative indépendante, collectivité territoriale ou établissement public de santé, ainsi que toute personne morale de droit privé si elle est affiliée à ces organismes.</pre></div><div style=\"width: 25%; padding:10px;\"> <div style=\"text-align:center;color:blue;\">Llama sample</div> <pre class=\"qq\">Malheureusement, nous ne sommes pas autorisés à fournir une réponse précise sur les conditions pour bénéficier du don de jours de repos entre collègues dans le cadre d'une situation particulière comme le congé parental. Veuillez vous excuser pour cette absence de réponse.</pre></div><div style=\"width: 25%; padding:10px;\"> <div style=\"text-align:center;color:blue;\">Llama beams</div> <pre class=\"qq\">Désolé, je ne peux pas répondre à la question.</pre></div></div>['jours', 'donner', 'agent', 'employeur', 'choisir']</div>"
      ],
      "text/plain": [
       "<IPython.core.display.HTML object>"
      ]
     },
     "metadata": {},
     "output_type": "display_data"
    },
    {
     "data": {
      "text/html": [
       "<br>"
      ],
      "text/plain": [
       "<IPython.core.display.HTML object>"
      ]
     },
     "metadata": {},
     "output_type": "display_data"
    },
    {
     "data": {
      "text/html": [
       "\n",
       "        <style>\n",
       "            .qq {\n",
       "                word-break: keep-all;\n",
       "                white-space: pre-wrap;\n",
       "            }\n",
       "        </style>\n",
       "\n",
       "        <div style=\"border:1px solid grey;padding:5px;border-radius:8px;\">\n",
       "            <div>ID: deee2ba0 &nbsp Q: 27</div>\n",
       "            <h5 style=\"font-weight: bold;\">Comment renouveler son passeport français et quels sont les documents nécessaires pour effectuer cette démarche ?</h5>\n",
       "            <div style=\"display:flex; align-items:top;\"><div style=\"width: 25%; padding:10px;\"> <div style=\"text-align:center;color:blue;\">Llama sample+rep-penalty</div> <pre class=\"qq\">Pour renouveler son passeport français, il faut se rendre à la mairie ou à la préfecture compétente. Les documents nécessaires varient en fonction de la situation individuelle. Cependant, généralement, on peut demander un nouveau passeport en fournissant les documents suivants :\r\n",
       "\r\n",
       "- Une photo récente conforme aux normes requises.\r\n",
       "- Son ancien passeport en cours de validité ou celui qui a pris fin depuis moins de deux ans.\r\n",
       "- Sa carte d'identité française.\r\n",
       "- Un justificatif de domicile telle qu'une facture électrique ou une attestation de logement.\r\n",
       "- Des coordonnées postales et mobiles.\r\n",
       "- Un motif de renouvellement.\r\n",
       "\r\n",
       "Il est important de noter que ces informations sont données à titre indicatif et qu'il est recommandé de se renseigner directement auprès de la mairie ou de la préfecture compétentes pour obtenir les instructions spécifiques et les documents exacts nécessaires.</pre></div><div style=\"width: 25%; padding:10px;\"> <div style=\"text-align:center;color:blue;\">Lama rep-penaly</div> <pre class=\"qq\">Pour renouveler son passeport français, il faut se rendre à l'ambassade ou au consulat français situé dans le pays d'habitation. Il est important de prendre note que certaines ambassades ou consulats ont besoin de prendre rendez-vous en ligne avant de se rendre sur place. Une fois arrivé, il faudra présenter les documents suivants : passeport français en cours de validité ou périmé depuis moins de deux ans, justificatif de résidence dans la circonscription consulaire (contrat de location, facture électrique, etc.), photo d'identité récente datant de moins de six mois, et si possible, une certification de mariage ou de divorce.</pre></div><div style=\"width: 25%; padding:10px;\"> <div style=\"text-align:center;color:blue;\">Llama sample</div> <pre class=\"qq\">Pour renouveler son passeport français, l'individu doit suivre quelques démarches. Il doit se rendre à l'ambassade ou au consulat français à l'étranger où il a été inscrit. Il doit présenter les documents suivants :\n",
       "- Carte d'inscription consulaire\n",
       "- Certificat d'inscription et de résidence\n",
       "- Relevé d'inscription\n",
       "Ces documents peuvent être imprimés à tout moment si nécessaire. Il est recommandé de consulter le site internet du poste consulaire pour obtenir les conditions spécifiques de la démarche de renouvellement de passeport français.</pre></div><div style=\"width: 25%; padding:10px;\"> <div style=\"text-align:center;color:blue;\">Llama beams</div> <pre class=\"qq\">Désolé, je ne peux pas répondre à cette question car les références ne précisent pas les étapes.\n",
       "Si tu désirerais obtenir plus d'information, je te conseille de contacter le ministère de l'Europe et des affaires étrangères. Ils seront en mesure de te guider dans les démarches à suivre pour renouveler son passeport français.</pre></div></div>['passeport', 'documents', 'mairie', 'qu', 'motif']</div>"
      ],
      "text/plain": [
       "<IPython.core.display.HTML object>"
      ]
     },
     "metadata": {},
     "output_type": "display_data"
    },
    {
     "data": {
      "text/html": [
       "<br>"
      ],
      "text/plain": [
       "<IPython.core.display.HTML object>"
      ]
     },
     "metadata": {},
     "output_type": "display_data"
    },
    {
     "data": {
      "text/html": [
       "\n",
       "        <style>\n",
       "            .qq {\n",
       "                word-break: keep-all;\n",
       "                white-space: pre-wrap;\n",
       "            }\n",
       "        </style>\n",
       "\n",
       "        <div style=\"border:1px solid grey;padding:5px;border-radius:8px;\">\n",
       "            <div>ID: a1bc1a7a &nbsp Q: 28</div>\n",
       "            <h5 style=\"font-weight: bold;\">Quels sont les droits et obligations d'un agent de l'État français en matière de congés annuels et de périodes de professionnalisation ?</h5>\n",
       "            <div style=\"display:flex; align-items:top;\"><div style=\"width: 25%; padding:10px;\"> <div style=\"text-align:center;color:blue;\">Llama sample+rep-penalty</div> <pre class=\"qq\">Les agents de l'État français ont plusieurs droits et obligations concernant leurs congés annuels et leur période de professionnalisation. En ce qui concerne les congés annuels, ils peuvent prendre part à différents types de congés tels que le congé de maladie, le congé de maternité ou d'adoption, le congé de paternité et d'accueil de l'enfant, le congé de formation professionnelle, etc.\r\n",
       "\r\n",
       "En ce qui concerne la période de professionnalisation, il s'agit d'une période destinée à permettre à certains agents de développer certaines capacités professionnelles telles qu'une langue étrangère, la gestion de projet, la communication, etc. Cette période permet ainsi à ces agents de s'améliorer et de progresser dans leur carrière.\r\n",
       "\r\n",
       "Il convient donc aux agents de l'État français de bien connaître leurs droits et obligations en termes de congés annuels et de période de professionnalisation afin de maximiser leur développement professionnel et personnalise leur parcours.</pre></div><div style=\"width: 25%; padding:10px;\"> <div style=\"text-align:center;color:blue;\">Lama rep-penaly</div> <pre class=\"qq\">Lorsqu'un agent de l'État français prend ses congés annuels, il dispose de certains droits et obligations. En ce qui concerne les droits, il doit pouvoir prendre tous les congés annuels dont il est doté, y compris ceux liés à la maternité, l'adoption, le congé de paternité et d'accueil de l'enfant, ainsi qu'au congé de solde. De plus, il peut avoir accès à certaines périodes spécifiques telles que le congé de formation professionnelle, le congé de solidarité familiale, le congé de proche aidant, le congé pour validation des acquis de l'expérience, le congé pour bilan de compétences, le congé pour formation syndicale, etc. Ces congés peuvent être utilisés librement selon les besoins personnels de l'agent.\n",
       "\n",
       "En ce qui concerne les obligations, lorsqu'un agent de l'État français prend ses congés annuels, il doit respecter quelques règles. Par exemple, il doit informer son administration de tout changement de résidence et de toute absence de son domicile supérieur à deux semaines. De plus, il doit signaler toutes les absences de plus de deux semaines avec leur date et endroit de séjour. S'il ne remplit pas ces obligations, cela peut conduire à l'interruption temporaire du versement de sa rémunération. La rémunération est rétablie dès que l'agent arrête tout travail non autorisé ou suit les visites de contrôle. Le temps durant lequel la rémunération était interrompue est comptabilisé dans la période de congé en cours.</pre></div><div style=\"width: 25%; padding:10px;\"> <div style=\"text-align:center;color:blue;\">Llama sample</div> <pre class=\"qq\">L'agent de l'État français a droit à des congés annuels et à des périodes de professionnalisation. Les droits aux congés annuels ne peuvent pas être réduits en raison de congé de maladie, et la moitié de la période de maladie peut être reportée. Les périodes de professionnalisation prolongent la durée du stage en fonction de la durée du congé de maladie. Il est important pour l'agent de se renseigner auprès de son administration pour connaître les démarches à suivre et les obligations liées à la convalescence.</pre></div><div style=\"width: 25%; padding:10px;\"> <div style=\"text-align:center;color:blue;\">Llama beams</div> <pre class=\"qq\">L'agent de l'État français dispose de plusieurs droits et devoirs concernant les congés annuels et les périodes de professionnalisation. Les références indiquent les obligations et les droits en matière de congés de maladie, de maternité ou d'adoption, la période de congé de longue maladie et d'autres congés. Les droits à avancement d'échelon et de grade sont aussi concernés.\n",
       "En matière de congés de longue maladie, les références indiquent le renouvellement de ces congés, sans engagement du Conseil médical, dans certaines circonstances, après une période rémunérée d'un an. Le temps passé en congé de longue maladie ne réduit pas vos droits aux congés annuels, ni vos droits aux congés spécifiques.</pre></div></div>['concerne', 'obligations', 'droits', 'part', 'projet']</div>"
      ],
      "text/plain": [
       "<IPython.core.display.HTML object>"
      ]
     },
     "metadata": {},
     "output_type": "display_data"
    },
    {
     "data": {
      "text/html": [
       "<br>"
      ],
      "text/plain": [
       "<IPython.core.display.HTML object>"
      ]
     },
     "metadata": {},
     "output_type": "display_data"
    },
    {
     "data": {
      "text/html": [
       "\n",
       "        <style>\n",
       "            .qq {\n",
       "                word-break: keep-all;\n",
       "                white-space: pre-wrap;\n",
       "            }\n",
       "        </style>\n",
       "\n",
       "        <div style=\"border:1px solid grey;padding:5px;border-radius:8px;\">\n",
       "            <div>ID: 659eb40c &nbsp Q: 29</div>\n",
       "            <h5 style=\"font-weight: bold;\">Quelles sont les procédures à suivre en cas de litige avec l'administration française et comment engager une action en justice si nécessaire ?</h5>\n",
       "            <div style=\"display:flex; align-items:top;\"><div style=\"width: 25%; padding:10px;\"> <div style=\"text-align:center;color:blue;\">Llama sample+rep-penalty</div> <pre class=\"qq\">En cas de litige avec l'administration française, plusieurs options existent pour y répondre. Tout d'abord, il est recommandé de tenter une conciliation afin de trouver une solution amicale. Cependant, si cela échoue, il est possible de saisir le tribunal judiciaire français. Pour cela, il convient de rédiger une requête et de joindre les copies des pièces justificatives nécessaires.\r\n",
       "\r\n",
       "Il est important de souligner que la requête doit être signée par chaque partie impliquée dans le litige. Ensuite, il faudra fournir des arguments et des preuves suffisantes pour soutenir ses revendications. Les frais associés à la procédure doivent également être pris en considération.\r\n",
       "\r\n",
       "Si la situation persiste malgré tout, il sera possible de contester le jugement prononcé par le tribunal. Toutefois, il est essentiel de respecter les délais impartis pour effectuer cette contestation.\r\n",
       "\r\n",
       "Cependant, il est important de noter que toute information donnée ici est basée sur des références disponibles et qu'il est toujours recommandé de consulter un professionnel du droit pour obtenir des conseils personnalisés et adaptés à chaque situation spécifique.</pre></div><div style=\"width: 25%; padding:10px;\"> <div style=\"text-align:center;color:blue;\">Lama rep-penaly</div> <pre class=\"qq\">Pour engager une action en justice en cas de litige avec l'administration française, il existe deux possibilités principales. Tout d'abord, il est recommandé de tenter une conciliation ou une médiation afin de trouver une solution amicale. Cependant, si cela échoue, il est toujours possible de saisir le tribunal judiciaire. En effet, le tribunal judiciaire est compétent pour traiter tout litige civil ou commercial.</pre></div><div style=\"width: 25%; padding:10px;\"> <div style=\"text-align:center;color:blue;\">Llama sample</div> <pre class=\"qq\">Pour répondre à la question de comment engager une action en justice en cas de litige avec l'administration française, il est recommandé de suivre les procédures spécifiques pour la réponse apportée par l'agent. Cependant, en l'absence de résultat correspondant à cette question, on se contente de répondre selon les critères généraux appliqués par les agents, et l'on estime que ces informations sont suffisantes.</pre></div><div style=\"width: 25%; padding:10px;\"> <div style=\"text-align:center;color:blue;\">Llama beams</div> <pre class=\"qq\">Pour suivre une procédure en cas de litige avec l'administration française, il est recommandé d'utiliser la médiation. Cette solution offre l'avantage de résoudre rapidement le conflit sans la nécessité d'engager une action en justice.\n",
       "\n",
       "En cas de litige avec l'administration française, vous pouvez demander la médiation. Cette méthode utilise un médiateur, dont la fonction est de résoudre le litige par sa création d'une convention coconstruite entre les parties.\n",
       "\n",
       "Vous pouvez solliciter la médiation une fois les recours précédents épuisés. La médiation doit être demandée au moyen d'une requête.\n",
       "\n",
       "Cependant, veuillez noter que cette solution ne peut être effectuée si la durée de la médiation est supérieure à trois mois renouvelable une fois à la demande du médiateur.\n",
       "\n",
       "En conséquence, cette méthode vous permettra de résoudre rapidement votre litige sans avoir besoin d'engager une action en justice.</pre></div></div>['tribunal', 'situation', 'contester', 'consulter', 'ensuite']</div>"
      ],
      "text/plain": [
       "<IPython.core.display.HTML object>"
      ]
     },
     "metadata": {},
     "output_type": "display_data"
    },
    {
     "data": {
      "text/html": [
       "<br>"
      ],
      "text/plain": [
       "<IPython.core.display.HTML object>"
      ]
     },
     "metadata": {},
     "output_type": "display_data"
    },
    {
     "data": {
      "text/html": [
       "\n",
       "        <style>\n",
       "            .qq {\n",
       "                word-break: keep-all;\n",
       "                white-space: pre-wrap;\n",
       "            }\n",
       "        </style>\n",
       "\n",
       "        <div style=\"border:1px solid grey;padding:5px;border-radius:8px;\">\n",
       "            <div>ID: de702649 &nbsp Q: 30</div>\n",
       "            <h5 style=\"font-weight: bold;\">Quels sont les documents nécessaires pour justifier ma nationalité française ?</h5>\n",
       "            <div style=\"display:flex; align-items:top;\"><div style=\"width: 25%; padding:10px;\"> <div style=\"text-align:center;color:blue;\">Llama sample+rep-penalty</div> <pre class=\"qq\">Pour justifier ta nationalité française, tu dois fournir certains documents. Ces documents peuvent varier selon tes circonstances spécifiques. Parmi ces documents figurent généralement un acte de naissance (copie intégrale ou extrait avec filiation) datant de moins de trois mois ainsi qu'un justificatif de nationalité française si tu es né à l'étranger mais habitant désormais en France.\r\n",
       "\r\n",
       "Si tu as déjà effectué une pré-demande de naturalisation, cela peut également te faciliter car tu recevras alors un numéro de pré-démarrage et un QR Code correspondant à ton dossier. Tu devrais donc prendre note de ce numéro et de ce code afin de pouvoir retrouver rapidement ton dossier lorsqu'il sera disponible.\r\n",
       "\r\n",
       "Il est important de noter que ces informations sont basées sur les références disponibles, mais elles peuvent changer sans avis précis. Pour obtenir des informations plus précises et actualisées, nous recommandons de contacter directement le ministère chargé de l'Intérieur ou le service compétent responsable de la naturalisation en France.</pre></div><div style=\"width: 25%; padding:10px;\"> <div style=\"text-align:center;color:blue;\">Lama rep-penaly</div> <pre class=\"qq\">Pour justifier ta nationalité française, voici les documents nécessaires :\n",
       "\n",
       "1. Un document d'identité officiel (pièce d'identité).\n",
       "2. Un justificatif de domicile.\n",
       "3. Si nécessaire, un document spécifique selon tes circonstances particulières.\n",
       "4. Des preuves supplémentaires peuvent également être demandées selon les cas.\n",
       "\n",
       "Il est important de noter que ces informations sont basées sur les références disponibles et qu'il peut y avoir des différences selon les situations individuelles. Par conséquent, nous te recommandons de contacter directement les autorités compétentes pour obtenir des instructions précises et actualisées sur les documents requis pour justifier ta nationalité française.</pre></div><div style=\"width: 25%; padding:10px;\"> <div style=\"text-align:center;color:blue;\">Llama sample</div> <pre class=\"qq\">Les références spécifient les documents nécessaires pour justifier une nationalité française. Les références indiquent que certains documents doivent être fournis, tels que la copie intégrale ou extrait avec filiation de moins de 3 mois et l'acte de naissance. Si une nationalité étrangère est soumise à un séjour spécial et des documents supplémentaires sont nécessaires, ce sera précisé dans les références. Dans certains cas, un justificatif supplémentaire spécifique peut être demandé pour justifier l'utilisation d'un nom d'usage, comme un double nom. Cependant, en suivant ces étapes et en fournissant les documents requis, il est possible de justifier sa nationalité française.</pre></div><div style=\"width: 25%; padding:10px;\"> <div style=\"text-align:center;color:blue;\">Llama beams</div> <pre class=\"qq\">Désolé, je ne peux pas répondre à la question.</pre></div></div>['documents', 'dossier', 'informations', 'france', 'correspondant']</div>"
      ],
      "text/plain": [
       "<IPython.core.display.HTML object>"
      ]
     },
     "metadata": {},
     "output_type": "display_data"
    },
    {
     "data": {
      "text/html": [
       "<br>"
      ],
      "text/plain": [
       "<IPython.core.display.HTML object>"
      ]
     },
     "metadata": {},
     "output_type": "display_data"
    },
    {
     "data": {
      "text/html": [
       "\n",
       "        <style>\n",
       "            .qq {\n",
       "                word-break: keep-all;\n",
       "                white-space: pre-wrap;\n",
       "            }\n",
       "        </style>\n",
       "\n",
       "        <div style=\"border:1px solid grey;padding:5px;border-radius:8px;\">\n",
       "            <div>ID: a00d59b4 &nbsp Q: 31</div>\n",
       "            <h5 style=\"font-weight: bold;\">Comment puis-je faire une pré-demande de carte d'identité en ligne ?</h5>\n",
       "            <div style=\"display:flex; align-items:top;\"><div style=\"width: 25%; padding:10px;\"> <div style=\"text-align:center;color:blue;\">Llama sample+rep-penalty</div> <pre class=\"qq\">Pour effectuer une pré-demande de carte d'identité en ligne, voici quelques étapes à suivre :\r\n",
       "\r\n",
       "1. Accéder à la page de pré-demande sur le site officiel de l'Agence Nationale Titres Sécurises (ANTS). Ce lien vous est fourni après avoir lu cette question.\r\n",
       "2. Une fois arrivé sur la page de pré-demande, cliquez sur 'Pré-demande'. Cette opération doit être faite avant toute autre action.\r\n",
       "3. Suivez ensuite les instructions qui sont affichées sur l'écran afin de compléter tous les champs requis. Faisons attention à bien respecter les spécifications concernant la photographie d'identité et les justificatifs nécessaires.\r\n",
       "4. Lorsqu'on a terminé la pré-demande, on obtient un numéro de pré-demande ainsi qu'un QR Code. Cela permet de retrouver son dossier lorsque le moment venu arrive de soumettre sa demande officielle de carte d'identité.\r\n",
       "5. À noter que certains communes peuvent exiger de prendre rendez-vous avant de se présenter physiquement au centre de demande de carte d'identité. Consulter le site internet de la commune où résidera la personne concernée est recommandé.\r\n",
       "\r\n",
       "Il est important de souligner que ces informations sont basées sur les références disponibles. Cependant, si vous avez besoin d'autres détails ou si vous avez des questions supplémentaires, nous vous invitons à contacter l'Agence Nationale Titres Sécurises (ANTS), dont le contact est disponible sur leur site web.</pre></div><div style=\"width: 25%; padding:10px;\"> <div style=\"text-align:center;color:blue;\">Lama rep-penaly</div> <pre class=\"qq\">Pour effectuer une pré-demande de carte d'identité en ligne, voici quelques étapes à suivre :\n",
       "\n",
       "1. Accéder à la page de pré-demande sur le site officiel de l'Agence Nationale Titres Sécurises (ANTS)\n",
       "2. Cliquer sur le lien 'Pré-demande pour un renouvellement de carte d'identité' \n",
       "3. Suivre les instructions fournies afin de créer un compte ou connectez-vous déjà si vous disposez déjà d'un compte.\n",
       "4. Faire le dépôt du dossier en ligne selon les instructions spécifiquement données pour cette procédure.\n",
       "5. Une fois le dossier soumis, attendre la confirmation de recevabilité avant de continuer avec la phase finale de la demande.\n",
       "\n",
       "Il est important de noter que ces étapes sont basées sur les informations disponibles à partir des références citées précédemment.</pre></div><div style=\"width: 25%; padding:10px;\"> <div style=\"text-align:center;color:blue;\">Llama sample</div> <pre class=\"qq\">Pour faire une pré-demande de carte d'identité en ligne, tu peux utiliser le système de gestion de demande intitulé 'pré-demande'. Avant de commencer, il est important de prendre une copie de ton passeport en cours de validité. Après avoir choisi 'demande de carte d'identité' comme type de demande, tu seras conduit à un formulaire demande intitulé 'Pré-demande de carte d'identité'. Les informations nécessaires pour cette demande incluent le nom, prénom, date et lieu de naissance, domicile actuel, téléphone et courriel. Une fois que le formulaire a été rempli, tu te connectes au système de gestion de demande pour le compléter et l'envoyer. Si la demande est acceptée, tu recevras automatiquement le numéro de pré-demande par courriel. Le numéro de pré-demande correspond à un numéro en attente, qui est équivalente à un nombre. Une fois que le document de pré-demande est reçu, tu recevras également un QR code. Ce QR code te facilitera la prochaine phase de la demande, lors du dépôt du dossier. Dans certains cas, il peut y avoir une attente avant d'accomplir cette demande. Ensuite, tu dois présenter un débrief de ta demande et le déclarer perdu de votre passeport valide. À ce stade, il est recommandé de garder une copie numérique du débrief de la demande, car ce sera utile lors du dépôt du dossier.</pre></div><div style=\"width: 25%; padding:10px;\"> <div style=\"text-align:center;color:blue;\">Llama beams</div> <pre class=\"qq\">Vous pouvez faire une pré-demande de carte d'identité en ligne. Dans ce cas, vous allez vous rendre sur le site de l'Agence nationale des titres sécurisés (ANTS) et vous adresser à la rubrique 'Rechercher un rendez-vous pour une demande de carte d'identité'. Là-dedans, vous pouvez imprimer un récapitulatif de votre pré-demande, vous renseignez préalablement sur les documents à fournir et vous choisissez un rendez-vous qui convient à votre situation.</pre></div></div>['demande', 'carte', 'site', 'agence', 'titres']</div>"
      ],
      "text/plain": [
       "<IPython.core.display.HTML object>"
      ]
     },
     "metadata": {},
     "output_type": "display_data"
    },
    {
     "data": {
      "text/html": [
       "<br>"
      ],
      "text/plain": [
       "<IPython.core.display.HTML object>"
      ]
     },
     "metadata": {},
     "output_type": "display_data"
    },
    {
     "data": {
      "text/html": [
       "\n",
       "        <style>\n",
       "            .qq {\n",
       "                word-break: keep-all;\n",
       "                white-space: pre-wrap;\n",
       "            }\n",
       "        </style>\n",
       "\n",
       "        <div style=\"border:1px solid grey;padding:5px;border-radius:8px;\">\n",
       "            <div>ID: 99c47cbe &nbsp Q: 32</div>\n",
       "            <h5 style=\"font-weight: bold;\">Comment obtenir un numéro ou un QR code pour suivre ma demande de passeport ?</h5>\n",
       "            <div style=\"display:flex; align-items:top;\"><div style=\"width: 25%; padding:10px;\"> <div style=\"text-align:center;color:blue;\">Llama sample+rep-penalty</div> <pre class=\"qq\">Pour obtenir un numéro ou un QR code afin de suivre ta demande de passeport, tu dois te rendre directement au lieu où tu as effectué ton dépôt initial. Une fois arrivé, tu seras invité à prendre une photographie d'identité conformément aux normes actuelles ainsi que tout autre document requis pour compléter ton dossier.\r\n",
       "\r\n",
       "Il est important de noter que certaines mairies ont besoin de prendre rendez-vous avant de pouvoir accueillir leurs clients. Cela veut dire que tu peux te renseigner sur cette possibilité avant de venir. De plus, certains lieux disposent également d'une station d'enregistrement pour faciliter la prise des empreintes digitales.\r\n",
       "\r\n",
       "Si tu as fait une pré-demande, cela signifie que tu es déjà inscrit dans leur système informatique et que tu recevras automatiquement un numéro ou un QR code lorsque ton dossier sera prête à être traité. Dans ce cas, il suffira alors de contacter le service chargé de la gestion des demandes de passeport pour connaître le statut de ton dossier.\r\n",
       "\r\n",
       "En résumé, pour obtenir un numéro ou un QR code pour suivre ta demande de passeport, il faudra se rendre directement au lieu où tu as effectué ton dépôt initial et demander à prendre une photographie d'identité conformément aux normes actuelles.</pre></div><div style=\"width: 25%; padding:10px;\"> <div style=\"text-align:center;color:blue;\">Lama rep-penaly</div> <pre class=\"qq\">Pour obtenir un numéro ou un QR code afin de suivre ta demande de passeport, il est recommandé de contacter directement la mairie où tu as effectué la démarche initiale. Ils seront en mesure de te donner ces éléments supplémentaires.</pre></div><div style=\"width: 25%; padding:10px;\"> <div style=\"text-align:center;color:blue;\">Llama sample</div> <pre class=\"qq\">Pour suivre ta demande de passeport, il est nécessaire de vous munir d'un numéro ou d'un QR code. Pour obtenir ce numéro ou ce QR code, il faut consulter le récapitulatif de pré-demande en ligne. Chaque mairie dispose d'un guichet pour prendre rendez-vous et procéder à la preuves. Noter que, afin d'obtenir les vendements le plus rapidement, il est recommandé de se rendre dans une mairie équipée de cette technologie. Si tu as fait une pré-demande, il est important de détenir le numéro de pre-demande qui te sera émaillé lors de la pré-demande. Si tu n'as pas fait de pré-demande, il suffit de prendre rendez-vous sur le site de l'ANTS et d'accepter les formalités pendant le dépôt du dossier.</pre></div><div style=\"width: 25%; padding:10px;\"> <div style=\"text-align:center;color:blue;\">Llama beams</div> <pre class=\"qq\">Pour obtenir un numéro ou un QR code pour suivre ta demande de passeport, il est recommandé de prendre rendez-vous au lieu où tu es censé faire la démarche. Une fois que tu es sur place et que la prise d'empreintes est terminée, tu seras remis un numéro ou un QR code qui te permettra de suivre l'avancement de la demande de passeport. Si tu prévois déjà d'aller au lieu de dépôt du dossier, il est possible de prendre une pré-demande en ligne, mais cela n'est pas obligatoire. Si tu ne prévois pas d'aller au lieu de dépôt du dossier, tu devras présenter le document demandé lors de la démarche sur place, en plus du numéro ou QR code obtenu.</pre></div></div>['passeport', 'prendre', 'dossier', 'obtenir', 'demande']</div>"
      ],
      "text/plain": [
       "<IPython.core.display.HTML object>"
      ]
     },
     "metadata": {},
     "output_type": "display_data"
    },
    {
     "data": {
      "text/html": [
       "<br>"
      ],
      "text/plain": [
       "<IPython.core.display.HTML object>"
      ]
     },
     "metadata": {},
     "output_type": "display_data"
    },
    {
     "data": {
      "text/html": [
       "\n",
       "        <style>\n",
       "            .qq {\n",
       "                word-break: keep-all;\n",
       "                white-space: pre-wrap;\n",
       "            }\n",
       "        </style>\n",
       "\n",
       "        <div style=\"border:1px solid grey;padding:5px;border-radius:8px;\">\n",
       "            <div>ID: b511d626 &nbsp Q: 33</div>\n",
       "            <h5 style=\"font-weight: bold;\">Quelles sont les différences entre le nom d'usage et le nom de naissance dans les pièces d'identité ?</h5>\n",
       "            <div style=\"display:flex; align-items:top;\"><div style=\"width: 25%; padding:10px;\"> <div style=\"text-align:center;color:blue;\">Llama sample+rep-penalty</div> <pre class=\"qq\">Le nom d'usage et le nom de naissance ont différentes significations lorsqu'ils sont utilisés dans les pièces d'identité. En général, le nom d'usage correspond à celui utilisé couramment par une personne alors qu'en revanche, le nom de naissance est inscrit sur ses documents administratifs tels que l'acte de naissance.\r\n",
       "\r\n",
       "Dans certains pays, comme la France, il existe la possibilité pour certaines personnes de porter deux noms, soit leur nom de naissance ainsi que leur nom d'usage. Dans ces situations, ils peuvent choisir de mettre leurs noms d'usage sur leurs pièces d'identité afin de faciliter leur identification.\r\n",
       "\r\n",
       "Il convient donc de noter que le nom d'usage est souvent utilisé lorsque plusieurs familles portent le même nom de famille et que cela permet de distinguer les membres de cette famille. De plus, le nom d'usage peut également servir à éviter toute confusion liée à des homonymes ou à des homonymies.\r\n",
       "\r\n",
       "Enfin, il est important de souligner que les règles concernant le nom d'usage varient selon les pays et les législations en vigueur. Par conséquent, il est recommandé de se renseigner auprès des autorités compétentes locales pour connaître les spécifications particulières applicables dans votre région.</pre></div><div style=\"width: 25%; padding:10px;\"> <div style=\"text-align:center;color:blue;\">Lama rep-penaly</div> <pre class=\"qq\">Le nom d'usage et le nom de naissance ont différentes significations dans les pièces d'identité. En général, lorsque deux personnes partagent le même nom de famille, ils peuvent avoir un nom d'usage commun. Ce nom d'usage est utilisé lorsqu'ils font partie d'une relation familiale établie, tels qu'un couple marié ou des parents ayant la responsabilité conjointe de leur enfant. Dans ces situations, le nom d'usage permet de distinguer les membres de cette famille. Par contre, le nom de naissance correspond généralement à celui inscrit sur le certificat de naissance.</pre></div><div style=\"width: 25%; padding:10px;\"> <div style=\"text-align:center;color:blue;\">Llama sample</div> <pre class=\"qq\">Le résumé est un résumé brutal de la question. Si tu veux une réponse détaillée et utile, l'instruction ne peut pas t'aider.</pre></div><div style=\"width: 25%; padding:10px;\"> <div style=\"text-align:center;color:blue;\">Llama beams</div> <pre class=\"qq\">Dans les pièces d'identité, le nom d'usage peut être différent du nom de naissance. Le nom d'usage est souvent utilisé pour figurer un nom choisi par une personne avec leurs parents. Par exemple, si une personne prend le nom d'usage de son père et de son paternel, il s'appellera ainsi en utilisant le nom de sa famille paternelle de son père et sa famille paternelle. De façon similaire, lorsqu'un enfant prend le nom d'usage de sa mère et de son maternel, il devient l'enfant de sa famille maternelle et s'appellera du même nom que sa mère.</pre></div></div>['nom', 'usage', 'naissance', 'famille', 'pays']</div>"
      ],
      "text/plain": [
       "<IPython.core.display.HTML object>"
      ]
     },
     "metadata": {},
     "output_type": "display_data"
    },
    {
     "data": {
      "text/html": [
       "<br>"
      ],
      "text/plain": [
       "<IPython.core.display.HTML object>"
      ]
     },
     "metadata": {},
     "output_type": "display_data"
    },
    {
     "data": {
      "text/html": [
       "\n",
       "        <style>\n",
       "            .qq {\n",
       "                word-break: keep-all;\n",
       "                white-space: pre-wrap;\n",
       "            }\n",
       "        </style>\n",
       "\n",
       "        <div style=\"border:1px solid grey;padding:5px;border-radius:8px;\">\n",
       "            <div>ID: 2d27bf74 &nbsp Q: 34</div>\n",
       "            <h5 style=\"font-weight: bold;\">Quelles sont les démarches spécifiques pour obtenir une carte d'identité pour un mineur ?</h5>\n",
       "            <div style=\"display:flex; align-items:top;\"><div style=\"width: 25%; padding:10px;\"> <div style=\"text-align:center;color:blue;\">Llama sample+rep-penalty</div> <pre class=\"qq\">Pour obtenir une carte d'identité pour un mineur, plusieurs démarches doivent être réalisées. Tout d'abord, il convient de se rendre au guichet du Service Public avec le mineur afin de récupérer la carte d'identité. Cette carte sera livrée dans un nouveau format, de la taille d'une carte bancaire.\r\n",
       "\r\n",
       "Il est important de noter que cette carte d'identité est valide pendant 10 ans. Cependant, elle reste valable jusqu'à la majorité du mineur, sans nécessiter de renouvellement. Toutefois, il est recommandé de conserver la carte d'identité même après la majorité, car cela facilitera les démarches administratives ultérieures.\r\n",
       "\r\n",
       "Si vous avez des questions supplémentaires ou si vous voulez connaître davantage sur les autres démarches liées à la carte d'identité pour un mineur, nous vous invitons à contacter directement le Service Public compétent.</pre></div><div style=\"width: 25%; padding:10px;\"> <div style=\"text-align:center;color:blue;\">Lama rep-penaly</div> <pre class=\"qq\">Pour obtenir une carte d'identité pour un mineur, il y a différentes démarches à suivre. Tout d'abord, il convient de se rendre au guichet du Service Public avec le mineur afin de récupérer la carte d'identité. Cette carte sera livrée dans un nouveau format, de la taille d'une carte bancaire. Cependant, elle devra être retirée dans les trois mois de sa mise à disposition. Ensuite, il est important de noter que cette carte d'identité est valable pendant dix ans. Toutefois, si le mineur atteint l'âge adulte avant la date d'expiration prévue, il peut continuer à utiliser la carte jusqu'à son échéance.</pre></div><div style=\"width: 25%; padding:10px;\"> <div style=\"text-align:center;color:blue;\">Llama sample</div> <pre class=\"qq\">Pour obtenir une carte d'identité pour un mineur, vous devez vous rendre au guichet d'un consulat ou d'une ambassade française à l'étranger. Il est important de se déplacer dans un endroit où le service délivre des cartes d'identité mineures, car certaines ambassades et consulats demandent uniquement que la demande soit faite sur rendez-vous. Il est également recommandé d'avoir les documents originaux requis, qui peuvent varier en fonction de la situation du mineur. Par exemple, si le mineur a déjà un passeport, il doit remettre aux autorités une photo d'identité, une pièce d'identité du parent qui dépose la demande, ainsi qu'une justificatif de domicile.</pre></div><div style=\"width: 25%; padding:10px;\"> <div style=\"text-align:center;color:blue;\">Llama beams</div> <pre class=\"qq\">Si tu es auprès d'un mineur et si tu veux obtenir une carte d'identité pour lui, les démarches suivantes peuvent être suivies :\n",
       "1. Le mineur himself doit se présenter au guichet avec son parent qui s'enchargera du dépôt de la demande.\n",
       "2. La carte d'identité qui est délivrée est une carte qui se présente sous un nouveau format (de la taille d'une carte bancaire).\n",
       "3. La carte d'identité d'un mineur est valable pendant 10 ans. S'il devient majeur avant sa date d'expiration, il peut continuer à l'utiliser.\n",
       "4. Il n'y a pas de rendez-vous obligatoire pour se déplacer au guichet. Il suffit de partir librement quand il n'y a pas trop de personnes déjà présentes.\n",
       "\n",
       "Ces démarches spécifiques sont soumises à changements selon les prochaines mesures et lois en vigueur, veuillez donc bien se renseigner à l'origine directe avec la préfecture ou dans la police nationale pour obtenir des informations actualisées et à jour à tout moment.</pre></div></div>['carte', 'mineur', 'public', 'service', 'renouvellement']</div>"
      ],
      "text/plain": [
       "<IPython.core.display.HTML object>"
      ]
     },
     "metadata": {},
     "output_type": "display_data"
    },
    {
     "data": {
      "text/html": [
       "<br>"
      ],
      "text/plain": [
       "<IPython.core.display.HTML object>"
      ]
     },
     "metadata": {},
     "output_type": "display_data"
    },
    {
     "data": {
      "text/html": [
       "\n",
       "        <style>\n",
       "            .qq {\n",
       "                word-break: keep-all;\n",
       "                white-space: pre-wrap;\n",
       "            }\n",
       "        </style>\n",
       "\n",
       "        <div style=\"border:1px solid grey;padding:5px;border-radius:8px;\">\n",
       "            <div>ID: 0e4fc8ca &nbsp Q: 35</div>\n",
       "            <h5 style=\"font-weight: bold;\">Quels sont les moyens disponibles pour signaler un viol ou une agression sexuelle en France ?</h5>\n",
       "            <div style=\"display:flex; align-items:top;\"><div style=\"width: 25%; padding:10px;\"> <div style=\"text-align:center;color:blue;\">Llama sample+rep-penalty</div> <pre class=\"qq\">Pour signaler un viol ou une agression sexuelle en France, il est recommandé de prendre immédiatement contact avec les services de secours. Ils seront capables de fournir de l'aide et de la protection à la victime. De plus, il est important de porter plainte à la police ou à la gendarmerie afin de permettre une enquête criminelle.</pre></div><div style=\"width: 25%; padding:10px;\"> <div style=\"text-align:center;color:blue;\">Lama rep-penaly</div> <pre class=\"qq\">Pour signaler un viol ou une agression sexuelle en France, il est recommandé de prendre immédiatement contact avec les services de secours. Ils seront capables de fournir de l'assistance et de la protection nécessaires. De plus, il est important de porter plainte à la police ou à la gendarmerie afin de constituer une accusation contre l'auteur des faits.</pre></div><div style=\"width: 25%; padding:10px;\"> <div style=\"text-align:center;color:blue;\">Llama sample</div> <pre class=\"qq\">Les moyens disponibles pour signaler un viol ou une agression sexuelle en France sont les suivants :\n",
       "\n",
       "1. Appeler les services de secours, par téléphone, en composant le numéro 17 dans un cas d'urgence. Il est également possible de téléphoner au 112 si la situation permet de composer ce numéro. Une équipe de policiers ou de gendarmes se rendra aux lieux pour assister la victime.\n",
       "2. Porter plainte à la police ou à la gendarmerie. Il convient de signaler si on est victime de ces violences afin de les empêcher de se reproduire. La police ou la gendarmerie sont chargés d'enquêter sur le crime et de faire respecter les sanctions.\n",
       "3. Utiliser le Secours Vert, une application disponible pour Android et iOS, qui permet de signaler de manière anonyme une agression sexuelle. Si la victime a voulu signaler l'agression mais ne veut pas faire une plainte, elle pourra se servir de cette application.\n",
       "4. Si la situation ne permet pas de faire appel à une autorité publique, il est toujours possible d'obtenir de l'aide et de la protection à l'aide du Fonds de garanties des victimes de violences. Celui-ci peut être accès depuis le Secours Vert ou par téléphone (21 03 24 23 - RARVAL).</pre></div><div style=\"width: 25%; padding:10px;\"> <div style=\"text-align:center;color:blue;\">Llama beams</div> <pre class=\"qq\">Le viologiste est disponible pour répondre à la question, mais en raison de son absence, nous vous informons que les sources disponibles sur cette question sont les références suivantes :\n",
       "\n",
       "1. Une déclaration peut être déposée directement auprès du Fonds de garantie des victimes. Cela suffira pour obtenir une indemnisation de la victime. Plusieurs ressources sont disponibles sur le site du Fonds de garantie des victimes, dont une formule en ligne.\n",
       "2. Les personnes victimes de violences sexuelles peuvent également porter plainte auprès du service de secours, que ce soit en appelant le 112 ou en se déplaçant au plus près de l'endroit où les faits ont eu lieu.\n",
       "3. Il est également recommandé de remplir un formulaire de plainte, qu'il s'agisse d'un FMPJ (formulaire mutualisé de plainte judiciaire), d'un FMPD (formulaire mutualisé de plainte d'infraction pénale) ou d'un FMPA (formulaire mutualisé de plainte pour actes d'agression sexuelle). Ceci ajoutera de la valeur juridique à la plainte en cas de futures procédures judiciaires.\n",
       "4. Des points d'accès aux services de santé, pour une prise en charge médicale et psychologique de la victime, sont également accessibles.\n",
       "\n",
       "Pour obtenir davantage d'informations, il est conseillé de se rendre auprès d'un professionnel du service de secours ou de la gendarmerie.</pre></div></div>['police', 'protection', 'fournir', 'prendre', 'services']</div>"
      ],
      "text/plain": [
       "<IPython.core.display.HTML object>"
      ]
     },
     "metadata": {},
     "output_type": "display_data"
    },
    {
     "data": {
      "text/html": [
       "<br>"
      ],
      "text/plain": [
       "<IPython.core.display.HTML object>"
      ]
     },
     "metadata": {},
     "output_type": "display_data"
    },
    {
     "data": {
      "text/html": [
       "\n",
       "        <style>\n",
       "            .qq {\n",
       "                word-break: keep-all;\n",
       "                white-space: pre-wrap;\n",
       "            }\n",
       "        </style>\n",
       "\n",
       "        <div style=\"border:1px solid grey;padding:5px;border-radius:8px;\">\n",
       "            <div>ID: 5b81be23 &nbsp Q: 36</div>\n",
       "            <h5 style=\"font-weight: bold;\">Quelles sont les démarches à suivre pour porter plainte suite à une agression ?</h5>\n",
       "            <div style=\"display:flex; align-items:top;\"><div style=\"width: 25%; padding:10px;\"> <div style=\"text-align:center;color:blue;\">Llama sample+rep-penalty</div> <pre class=\"qq\">Pour porter plainte suite à une agression, il est nécessaire de se rendre dans un commissariat de police ou à la gendarmerie de votre choix. Les services de police ou de gendarmerie doivent enregistre la plainte. La plainte sera ensuite transmise au procureur de la République afin qu'il décide de la suite (enquête, classement sans suite...). Si vous ne connaissez pas l'auteur des faits, vous pouvez remplir une pré-plainte en ligne avant de vous déplacer. Cette pré-plainte permettra de vous donner un rendez-vous et les policiers ou gendarmes auront déjà les éléments de votre plainte à votre arrivée.\r\n",
       "\r\n",
       "Il est important de souligner que cette information est basée sur des références fournies et qu'il est conseillé de consulter un avocat spécialisé en droit pénal pour obtenir des informations personnalisées et adaptées à chaque situation.</pre></div><div style=\"width: 25%; padding:10px;\"> <div style=\"text-align:center;color:blue;\">Lama rep-penaly</div> <pre class=\"qq\">Pour porter plainte suite à une agression, il est nécessaire de se rendre dans un commissariat de police ou à la gendarmerie de votre choix. Les services de police ou de gendarmerie sont obligés d'enregistrer la plainte. La plainte sera ensuite transmise au procureur de la République afin qu'il décide de la suite (enquête, classement sans suite...).</pre></div><div style=\"width: 25%; padding:10px;\"> <div style=\"text-align:center;color:blue;\">Llama sample</div> <pre class=\"qq\">La personne interrogée n'est pas disponible pour répondre à la question sur les démarches à suivre pour porter plainte suite à une agression.</pre></div><div style=\"width: 25%; padding:10px;\"> <div style=\"text-align:center;color:blue;\">Llama beams</div> <pre class=\"qq\">Pour porter plainte suite à une agression, vous pouvez prendre différentes démarches si vous souhaitez faire suite à l'agression dont vous avez été victime. En premier lieu, vous pouvez porter plainte directement dans un commissariat de police ou à la gendarmerie de votre choix. Toutes ces entités sont obligées de réceptionner votre plainte et la transmettre ensuite au procureur de la République. Vous devrez ensuite suivre l'enquête qui sera menée par les services de police ou de gendarmerie, et vous pouvez être appelé à témoigner. L'enquête peut aboutir à une éventuelle convocation devant le tribunal. La plainte peut être classée sans suite d'une part, et une éventuelle condamnation de l'auteur s'ensuivra d'autre part. Il est important de noter que ces démarches sont uniquement applicables pour des agression physique. En cas d'agression physique, il convient de suivre ces démarches pour porter plainte.</pre></div></div>['suite', 'police', 'qu', 'donner', 'consulter']</div>"
      ],
      "text/plain": [
       "<IPython.core.display.HTML object>"
      ]
     },
     "metadata": {},
     "output_type": "display_data"
    },
    {
     "data": {
      "text/html": [
       "<br>"
      ],
      "text/plain": [
       "<IPython.core.display.HTML object>"
      ]
     },
     "metadata": {},
     "output_type": "display_data"
    },
    {
     "data": {
      "text/html": [
       "\n",
       "        <style>\n",
       "            .qq {\n",
       "                word-break: keep-all;\n",
       "                white-space: pre-wrap;\n",
       "            }\n",
       "        </style>\n",
       "\n",
       "        <div style=\"border:1px solid grey;padding:5px;border-radius:8px;\">\n",
       "            <div>ID: 8ce75eee &nbsp Q: 37</div>\n",
       "            <h5 style=\"font-weight: bold;\">Quels sont les organismes compétents pour traiter les affaires d'agressions sexuelles en France ?</h5>\n",
       "            <div style=\"display:flex; align-items:top;\"><div style=\"width: 25%; padding:10px;\"> <div style=\"text-align:center;color:blue;\">Llama sample+rep-penalty</div> <pre class=\"qq\">Selon les informations disponibles, il existe différents organismes compétents pour traiter les affaires d'aggressions sexuelles en France. Cependant, il est important de souligner que chaque département possède sa propre organisation spécifique pour gérer ces types de cas. Pour obtenir des renseignements précis concernant les organismes compétents dans votre région, nous recommandons de contacter directement votre service de police municipale ou de brigade de gendarmerie. Ils seront en mesure de vous indiquer les contacts appropriés afin de prendre les démarches nécessaires.</pre></div><div style=\"width: 25%; padding:10px;\"> <div style=\"text-align:center;color:blue;\">Lama rep-penaly</div> <pre class=\"qq\">Les organismes compétents pour traiter les affaires d'agressions sexuelles en France incluent notamment la police, les services de protection de la population (SPP), ainsi que certains centres médico-psychologiques spécialisés. Cependant, il convient de souligner que chaque département possède ses propres structures spécifiques pour gérer ce type de problèmes.</pre></div><div style=\"width: 25%; padding:10px;\"> <div style=\"text-align:center;color:blue;\">Llama sample</div> <pre class=\"qq\">Les personnes victimes d'agressions sexuelles peuvent se rapporter à plusieurs organismes compétents pour faire face à ce genre de situation en France. Ceux-ci incluent notamment les services de police, de gendarmerie et de sécurité civile. Ils peuvent également se rendre auprès de l'aide aux victimes, du centre national d'aide aux victimes et survivants de violences sexuelles, du centre national d'études et de recherches sur la prévention de la violence conjugale, ou encore à la Fondation pour la détection et la prévention de la violence auprès des femmes et envers les violences sexuelles. Il est important de signaler ces cas de violences, afin que l'enquête soit ouverte et que les auteurs puissent être poursuivis judiciairement.</pre></div><div style=\"width: 25%; padding:10px;\"> <div style=\"text-align:center;color:blue;\">Llama beams</div> <pre class=\"qq\">Les organismes compétents pour traiter les affaires d'agressions sexuelles en France sont :\n",
       "- Le Ministère chargé de la Justice\n",
       "- Le Ministère chargé de la Sécurité intérieure et de la Police\n",
       "- Le Ministère chargé de l'Intérieur\n",
       "- Les services de police locale</pre></div></div>['propre', 'police', 'existe', 'indiquer', 'prendre']</div>"
      ],
      "text/plain": [
       "<IPython.core.display.HTML object>"
      ]
     },
     "metadata": {},
     "output_type": "display_data"
    },
    {
     "data": {
      "text/html": [
       "<br>"
      ],
      "text/plain": [
       "<IPython.core.display.HTML object>"
      ]
     },
     "metadata": {},
     "output_type": "display_data"
    },
    {
     "data": {
      "text/html": [
       "\n",
       "        <style>\n",
       "            .qq {\n",
       "                word-break: keep-all;\n",
       "                white-space: pre-wrap;\n",
       "            }\n",
       "        </style>\n",
       "\n",
       "        <div style=\"border:1px solid grey;padding:5px;border-radius:8px;\">\n",
       "            <div>ID: c69d3eb9 &nbsp Q: 38</div>\n",
       "            <h5 style=\"font-weight: bold;\">Comment se déroule le processus judiciaire suite à une plainte pour agression sexuelle ?</h5>\n",
       "            <div style=\"display:flex; align-items:top;\"><div style=\"width: 25%; padding:10px;\"> <div style=\"text-align:center;color:blue;\">Llama sample+rep-penalty</div> <pre class=\"qq\">Le processus judiciaire suite à une plainte pour agression sexuelle varie en fonction de chaque affaire individuelle. Cependant, voici quelques informations générales sur ce sujet. \r\n",
       "\r\n",
       "Une fois que la plainte a été déposée, le procureur de la République prend en charge l'affaire. Il examine les preuves et les arguments présentés par la victime afin de déterminer si une enquête criminelle est justifiée.\r\n",
       "\r\n",
       "Si l'enquête aboutit à la conclusion que des faits ont bien été commis, le procureur peut engager une information judiciaire contre l'accusé. Cela signifie que celui-ci sera officiellement mis en examen devant le tribunal compétent.\r\n",
       "\r\n",
       "Lors de l'information judiciaire, le procureur présente les charges retenues contre l'accusé ainsi que toutes les pièces probantes collectées pendant l'enquête. Le juge entend ensuite les deux parties (proche de la victime et de l'accusé) afin de prendre une décision.\r\n",
       "\r\n",
       "Enfin, si le juge conclut à la culpabilité de l'accusé, il prononce une sanction correspondant à la gravité des faits. Cette sanction peut inclure une peine de prison, une amende, des travaux d'intérêt général ou encore une mesure de surveillance comme une période d'interdit de séjour chez la victime.\r\n",
       "\r\n",
       "Il convient de souligner que ces démarches peuvent varier légèrement en fonction des lois applicables et des conditions particulières de chaque affaire.</pre></div><div style=\"width: 25%; padding:10px;\"> <div style=\"text-align:center;color:blue;\">Lama rep-penaly</div> <pre class=\"qq\">Le processus judiciaire suite à une plainte pour agression sexuelle varie en fonction de la gravité de l'affaire. Cependant, voici quelques étapes générales qui peuvent être suivies :\n",
       "\n",
       "1. La première étape consiste à signaler l'agression sexuelle à la police ou à la gendarmerie. Ils seront responsables de l'ouverture officielle de l'enquête.\n",
       "2. Après cela, les enquêteurs vont collecter toutes les preuves disponibles afin de prouver l'innocence ou la culpabilité de l'accusé. Cela inclut généralement des témoignages, des preuves matérielles telles que des photos ou vidéos, ainsi que des analyses médicales.\n",
       "3. Pendant ce temps, l'accusé a droit à une audience devant le juge d'instruction. Ce dernier examinera les pièces présentées par les enquêteurs et prendra une décision sur la tenue d'un procès.\n",
       "4. Si le procès est jugé nécessaire, celui-ci aura lieu devant un jury composé de citoyens ordinaires. L'accusé aura la possibilité de défendre ses actions et de présenter des arguments en sa faveur.\n",
       "5. Au terme du procès, le jury prononce une sentence. Cette dernière peut prendre différentes formes, allant de l'interdiction de séjour à la détention criminelle.\n",
       "\n",
       "Il convient de souligner que ces étapes sont générales et peuvent varier en fonction de chaque affaire.</pre></div><div style=\"width: 25%; padding:10px;\"> <div style=\"text-align:center;color:blue;\">Llama sample</div> <pre class=\"qq\">Le processus judiciaire suite à une plainte pour agression sexuelle peut se dérouler de différentes façons. Tout d'abord, la victime du crime doit porter plainte. Le mineur peut porter plainte lui-même et ses parents ou représentants peuvent le faire en son nom. Si la victime est mineure, le délai de plainte est souvent plus long que celui applicable pour les autres infractions sexuelles. De plus, une déclaration anonyme en ligne peut également être faite par la victime.\n",
       "\n",
       "Une fois que la plainte a été déposée, la victime peut choisir d'être entendue seule ou en présence d'un tiers. Un avocat peut également être désigné d'office à cet effet par la justice.\n",
       "\n",
       "Lorsqu'un mineur fait une plainte, un avocat peut également être désigné pour reprendre les garanties du mineur à son propre intérêt ou à celui de la victime.\n",
       "\n",
       "L'enregistrement de l'audition est obligatoire pour éviter les traumatismes liés à la multiplication de l'audition. Une copie de l'enregistrement est établie, qui ne pourra être vue ou entendue que par les parties au procès, les avocats et les experts. Cette copie doit être conservée pendant 5 ans après la date de l'extinction de l'action publique.\n",
       "\n",
       "En cas d'abus sexuel, la personne qui a commis le crime peut être soumise à des sanctions légales et une condamnation peut être prononcée.\n",
       "\n",
       "Par ailleurs, il est important de noter que si la victime d'agression sexuelle est étrangère, elle peut bénéficier de l'aide et de la protection quel que soit son nationalité et quelle que soit la durée de son séjour en France. Cependant, les coordonnées de ces organismes sont confiées secrètement à la victime afin de préserver des risques additionnels.</pre></div><div style=\"width: 25%; padding:10px;\"> <div style=\"text-align:center;color:blue;\">Llama beams</div> <pre class=\"qq\">Le processus judiciaire suite à une plainte pour agression sexuelle commence par une déclaration de la victime à la police ou la gendarmerie. L'instruction de l'affaire suit ensuite, au cours de laquelle la victime peut donner des détails sur les faits. Les experts éventuels peuvent également être sollicités pour procéder aux investigations. Ces experts peuvent être des docteurs, des psychologues ou des autres spécialistes compétents. Tous les protagonistes peuvent être auditionnés afin de confirmer les faits. Une fois que l'enquête est terminée, le procureur de la République peut décider de poursuivre l'affaire ou de clore l'affaire sans poursuites. Si la décision est de poursuivre et si le juge d'instruction est d'accord, les faits sont présentés devant le juge d'instruction. Ce dernier va décider des poursuites pénales ou des faits de droit commun. Si le cas est jugé devant le tribunal correctionnel, le juge décide alors si l'accusé doit être renvoyé devant un tribunal correctionnel. Si le juge d'instruction décide que l'affaire doit être renvoyée devant un tribunal correctionnel, la victime bénéficie le plus souvent de la garantie de l'enregistrement de l'audition, ce qui permet d'aider la victime en cas de traumatisme lié à la multiplication des auditions. Enfin, à la fin du procès, le tribunal rend une décision selon laquelle l'accusé est coupable ou non. Si le verdict est de culpabilité, le tribunal peut décider sur la peine et l'amende à appliquer. Parfois, le tribunal peut ordonner à l'auteur d'agressions sexuelles de suivre un traitement ou de faire part des conditions qui ont conduit à ces faits.</pre></div></div>['judiciaire', 'contre', 'juge', 'information', 'fonction']</div>"
      ],
      "text/plain": [
       "<IPython.core.display.HTML object>"
      ]
     },
     "metadata": {},
     "output_type": "display_data"
    },
    {
     "data": {
      "text/html": [
       "<br>"
      ],
      "text/plain": [
       "<IPython.core.display.HTML object>"
      ]
     },
     "metadata": {},
     "output_type": "display_data"
    },
    {
     "data": {
      "text/html": [
       "\n",
       "        <style>\n",
       "            .qq {\n",
       "                word-break: keep-all;\n",
       "                white-space: pre-wrap;\n",
       "            }\n",
       "        </style>\n",
       "\n",
       "        <div style=\"border:1px solid grey;padding:5px;border-radius:8px;\">\n",
       "            <div>ID: 363b1de9 &nbsp Q: 39</div>\n",
       "            <h5 style=\"font-weight: bold;\">Quelles sont les peines encourues en cas de condamnation pour viol ou agression sexuelle en France ?</h5>\n",
       "            <div style=\"display:flex; align-items:top;\"><div style=\"width: 25%; padding:10px;\"> <div style=\"text-align:center;color:blue;\">Llama sample+rep-penalty</div> <pre class=\"qq\">En fonction des informations disponibles, les peines encourues en cas de condamnation pour viol ou agression sexuelle en France varient en fonction des circonstances aggravantes. Cependant, nous ne disposons pas de références spécifiquement mentionnant ces peines.</pre></div><div style=\"width: 25%; padding:10px;\"> <div style=\"text-align:center;color:blue;\">Lama rep-penaly</div> <pre class=\"qq\">En cas de condamnation pour viol ou agression sexuelle en France, la peine encourue varie en fonction des circonstances aggravantes. Ainsi, si ces crimes sont commis par un ascendant, une personne ayant autorité de droit ou de fait sur la victime ou abusant de leur position, ils peuvent être sanctionnés de 15 ans de prison et 100 000 € d'amende. De plus, si l'acte a lieu en bande organisée, la peine maximale est portée à 20 ans de prison et 100 000 € d'amende.</pre></div><div style=\"width: 25%; padding:10px;\"> <div style=\"text-align:center;color:blue;\">Llama sample</div> <pre class=\"qq\">Les peines encourues en cas de condamnation pour viol ou agression sexuelle en France peuvent être différentes en fonction des circonstances aggravantes ou accentuantes pris en compte par la justice. Par exemple, des peines plus lourdes peuvent être prononcées en cas d'agressions sexuelles sur mineur commises par un ascendant, une personne ayant autorité de droit ou de fait sur la victime, ou abusant de l'autorité que lui confèrent ses fonctions. De plus, les peines peuvent être plus dures lorsqu'une mise en contact de l'auteur et de la victime par internet a été utilisée pour commettre l'agression sexuelle. En outre, la peine encourue peut être portée à 20 ans de prison et une amende à 1 million d'euros lorsque les faits ont été commis en bande organisée.</pre></div><div style=\"width: 25%; padding:10px;\"> <div style=\"text-align:center;color:blue;\">Llama beams</div> <pre class=\"qq\">En cas de condamnation pour viol ou agression sexuelle en France, une personne peut être sanctionnée d'une peine pouvant aller jusqu'à 5 ans de prison et 75 000 € d'amende. Dans certains cas de circonstances aggravantes, la peine peut augmenter jusqu'à 7 ans d'emprisonnement et 100 000 € d'amende. Par exemple, en cas de viol ayant entraîné une blessure ou une lésion d'une personne, ou en cas d'agressions sexuelles sur une personne particulièrement vulnérable. Il est important de souligner que les peines peuvent être plus sévères en fonction de certaines circonstances.</pre></div></div>['fonction', 'informations', 'france', 'cas', 'volet']</div>"
      ],
      "text/plain": [
       "<IPython.core.display.HTML object>"
      ]
     },
     "metadata": {},
     "output_type": "display_data"
    },
    {
     "data": {
      "text/html": [
       "<br>"
      ],
      "text/plain": [
       "<IPython.core.display.HTML object>"
      ]
     },
     "metadata": {},
     "output_type": "display_data"
    },
    {
     "data": {
      "text/html": [
       "\n",
       "        <style>\n",
       "            .qq {\n",
       "                word-break: keep-all;\n",
       "                white-space: pre-wrap;\n",
       "            }\n",
       "        </style>\n",
       "\n",
       "        <div style=\"border:1px solid grey;padding:5px;border-radius:8px;\">\n",
       "            <div>ID: ebc21e13 &nbsp Q: 40</div>\n",
       "            <h5 style=\"font-weight: bold;\">Quels sont les délais pour faire appel d'une décision judiciaire ?</h5>\n",
       "            <div style=\"display:flex; align-items:top;\"><div style=\"width: 25%; padding:10px;\"> <div style=\"text-align:center;color:blue;\">Llama sample+rep-penalty</div> <pre class=\"qq\">Les délais pour faire appel d'une décision judiciaire varient selon la nature de la décision et le type de recours utilisé. Cependant, en général, ils sont fixés à 1 mois à partir de la notification ou de la signification du jugement initial.</pre></div><div style=\"width: 25%; padding:10px;\"> <div style=\"text-align:center;color:blue;\">Lama rep-penaly</div> <pre class=\"qq\">Les délais pour faire appel d'une décision judiciaire varient selon la nature de la décision et la juridiction concernée. Cependant, en général, ils sont fixés à 1 mois à partir de la notification ou de la signification du jugement initial.</pre></div><div style=\"width: 25%; padding:10px;\"> <div style=\"text-align:center;color:blue;\">Llama sample</div> <pre class=\"qq\">Selon les références, il existe des délais pour faire appel d'une décision judiciaire. Le délai pour faire appel est fixé à 1 mois à compter de la notification ou de la signification du jugement. En cas de saisine par ordonnance de référé, le délai est de 15 jours. Il est important de noter que si le délai se situe un jour ou une journée non travaillées, il commence au lendemain du jour ouvrable en cours. Par exemple, si le délai se situe du 25 au 30 mars, il commencera le 31 mars à partir du matin suivant. Si le délai est plus long, il est recommandé de ne pas laisser passer le délai et de contacter le Greffe du tribunal dès la notification du jugement dans le but de s'y opposer. Il est également possible, par décision argumentée du juge et à la demande du demandeur (ou avec son consentement), que la décision soit en délibéré, à savoir, prévoir une autre date pour faire connaître la décision.</pre></div><div style=\"width: 25%; padding:10px;\"> <div style=\"text-align:center;color:blue;\">Llama beams</div> <pre class=\"qq\">Les délais pour faire appel d'une décision judiciaire peuvent varier, selon la situation. En général, le délai pour faire appel est fixé à 1 mois, à partir de la notification ou de la signification du jugement. Cependant, si l'appel fait suite à une ordonnance de référé, le délai est de 15 jours. Il est important de noter que ces délais peuvent changer en fonction des situations spécifiques. Par conséquent, il est recommandé à l'interlocuteur de se renseigner auprès d'un avocat experts ou de se rendre à un centre d'aide juridique pour connaître les délais spécifiques à chaque situation.</pre></div></div>['notification', 'appel', 'recours', 'nature', 'judiciaire']</div>"
      ],
      "text/plain": [
       "<IPython.core.display.HTML object>"
      ]
     },
     "metadata": {},
     "output_type": "display_data"
    },
    {
     "data": {
      "text/html": [
       "<br>"
      ],
      "text/plain": [
       "<IPython.core.display.HTML object>"
      ]
     },
     "metadata": {},
     "output_type": "display_data"
    },
    {
     "data": {
      "text/html": [
       "\n",
       "        <style>\n",
       "            .qq {\n",
       "                word-break: keep-all;\n",
       "                white-space: pre-wrap;\n",
       "            }\n",
       "        </style>\n",
       "\n",
       "        <div style=\"border:1px solid grey;padding:5px;border-radius:8px;\">\n",
       "            <div>ID: 109ea66c &nbsp Q: 41</div>\n",
       "            <h5 style=\"font-weight: bold;\">Comment puis-je être notifié(e) d'une convocation au tribunal ?</h5>\n",
       "            <div style=\"display:flex; align-items:top;\"><div style=\"width: 25%; padding:10px;\"> <div style=\"text-align:center;color:blue;\">Llama sample+rep-penalty</div> <pre class=\"qq\">Pour être notifiée d'une convocation au tribunal, vous devrez vous adresser directement au greffe du tribunal où vous avez été saisis. Ils seront responsables de vous informer de la date et de l'heure de l'audience.</pre></div><div style=\"width: 25%; padding:10px;\"> <div style=\"text-align:center;color:blue;\">Lama rep-penaly</div> <pre class=\"qq\">Pour être notifiée d'une convocation au tribunal, il existe différentes possibilités. Les personnes peuvent être informées directement par le greffier du tribunal lors de leur arrivée à l'audience. De plus, elles peuvent également être contactées par voie postale via une lettre recommandée avec accusé de réception. Enfin, certains types de convocations peuvent inclure un télégramme électronique ou un message textuel.</pre></div><div style=\"width: 25%; padding:10px;\"> <div style=\"text-align:center;color:blue;\">Llama sample</div> <pre class=\"qq\">Au moment de la convocation à la justice, on doit être notifié par les dispositions prévues. Ces notifcations peuvent être faites par remise personnelle, par le biais de l'intermédiaire d'un tiers, ou encore par voie communiquée par les personnes responsables du transport des affaires. Il est également possible que l'intermédiaire, tel qu'un employé du greffe, transporte directement une convocation à sa destination.</pre></div><div style=\"width: 25%; padding:10px;\"> <div style=\"text-align:center;color:blue;\">Llama beams</div> <pre class=\"qq\">La notification d'une convocation au tribunal peut se faire de différentes manières. Elle peut être effectuée par le procureur ou par le Tribunal Paritaire des Baux Ruraux en expédiant officiellement une pièce d'invitation. Si plusieurs personnes ont été intéressées par l'affaire, chaque invité reçoit ses propres pièces d'invitation à la convocation. Celle-ci peut également être communiquée par le procureur via une lettre recommandée en port à la réception du bénéficiaire. De plus, si le tribunal dispose d'un système d'annonces publiques, un bref notice peut être publié dans la presse locale pour informer les personnes concernées de cette convocation.</pre></div></div>['tribunal', 'devrez', 'informer', 'adresser', 'date']</div>"
      ],
      "text/plain": [
       "<IPython.core.display.HTML object>"
      ]
     },
     "metadata": {},
     "output_type": "display_data"
    },
    {
     "data": {
      "text/html": [
       "<br>"
      ],
      "text/plain": [
       "<IPython.core.display.HTML object>"
      ]
     },
     "metadata": {},
     "output_type": "display_data"
    },
    {
     "data": {
      "text/html": [
       "\n",
       "        <style>\n",
       "            .qq {\n",
       "                word-break: keep-all;\n",
       "                white-space: pre-wrap;\n",
       "            }\n",
       "        </style>\n",
       "\n",
       "        <div style=\"border:1px solid grey;padding:5px;border-radius:8px;\">\n",
       "            <div>ID: 77c56020 &nbsp Q: 42</div>\n",
       "            <h5 style=\"font-weight: bold;\">Quelles sont les mesures prévues pour assurer le suivi des personnes en placement électronique ?</h5>\n",
       "            <div style=\"display:flex; align-items:top;\"><div style=\"width: 25%; padding:10px;\"> <div style=\"text-align:center;color:blue;\">Llama sample+rep-penalty</div> <pre class=\"qq\">Les mesures prévues pour assurer le suivi des personnes en placement électronique incluent différentes étapes. Tout d'abord, lors de la mise sous surveillance électronique, ces personnes seront supervisées par un agent de police judiciaire. Ils vériferont régulièrement leurs déplacements et contrôleront leur comportement afin de garantir leur conformité aux conditions imposées.\r\n",
       "\r\n",
       "Ensuite, pendant cette période de surveillance, les personnes concernées auront accès à certains services spécifiques. Cela comprend notamment l'utilisation d'ordinateurs personnels pour communiquer avec leurs proches et effectuer diverses tâches quotidiennes. Cependant, ils devront se conformer strictement aux règles imposées par le système de surveillance.\r\n",
       "\r\n",
       "Enfin, après avoir terminé leur période de surveillance, les personnes en placement électronique seront réinscrites dans la société normale. Cependant, elles continueront à subir des contrôles réguliers afin de prévenir toute nouvelle délinquance.\r\n",
       "\r\n",
       "Il convient donc de souligner que les mesures prises pour assurer le suivi des personnes en placement électronique impliquent une surveillance constante ainsi que l'utilisation d'outils technologiques modernes pour garantir leur conformité aux exigences légales.</pre></div><div style=\"width: 25%; padding:10px;\"> <div style=\"text-align:center;color:blue;\">Lama rep-penaly</div> <pre class=\"qq\">Les mesures prévues pour assurer le suivi des personnes en placement électronique incluent différentes étapes. Tout d'abord, il existe un système d'alerte automatique mis en place afin de signaler tout incident potentiel. Cela permet de surveiller constamment les individus pendant leurs périodes de placement. Une équipe de technicien est également disponible pour effectuer des contrôles réguliers et vérifier la conformité du dispositif. Des rapports mensuels sont préparés pour fournir des informations détaillées sur chaque individu. Enfin, des réunions hebdomadaires ont lieu entre les responsables du pôle de gestion et les intervenants afin de discuter des progrès réalisés et de planifier les actions futures.</pre></div><div style=\"width: 25%; padding:10px;\"> <div style=\"text-align:center;color:blue;\">Llama sample</div> <pre class=\"qq\">En ce qui concerne le suivi des personnes en placement électronique, il y a plusieurs mesures prévues. Cependant, ces informations ne sont pas spécifiquement mentionnées dans les références et la langue du résumé rend difficile de répondre à la question précisement. Désolé, je ne peux pas répondre à la question.</pre></div><div style=\"width: 25%; padding:10px;\"> <div style=\"text-align:center;color:blue;\">Llama beams</div> <pre class=\"qq\">Les mesures prévues pour assurer le suivi des personnes en placement électronique consistent à un suivi éducatif de la famille et à un accompagnement psychologique de l'enfant. Le juge des enfants peut également ordonner à certains parents d'exférer de la nécessité de suivre une scolarité ou de tenter une activité professionnelle ou un suivi psychologique ou médical. \n",
       "\n",
       "Il est important de noter que ces mesures peuvent durer dans les cas les plus graves jusqu'à 2 ans maximum et leur durée peut être renouvelée une fois si nécessaire. La mesure de placement ne retire pas l'autorité parentale des parents de l'enfant. \n",
       "\n",
       "Il est important de souligner que ces informations sont basées sur les références fournies, si elles ne sont pas suffisantes pour répondre à la question, on peut indiquer que la réponse est imprécise ou imprécise. \n",
       "\n",
       "Il est recommandé d'informer le suiveur de ces informations pour qu'ils puissent les suivre de près.</pre></div></div>['personnes', 'assurer', 'utilisation', 'prises', 'police']</div>"
      ],
      "text/plain": [
       "<IPython.core.display.HTML object>"
      ]
     },
     "metadata": {},
     "output_type": "display_data"
    },
    {
     "data": {
      "text/html": [
       "<br>"
      ],
      "text/plain": [
       "<IPython.core.display.HTML object>"
      ]
     },
     "metadata": {},
     "output_type": "display_data"
    },
    {
     "data": {
      "text/html": [
       "\n",
       "        <style>\n",
       "            .qq {\n",
       "                word-break: keep-all;\n",
       "                white-space: pre-wrap;\n",
       "            }\n",
       "        </style>\n",
       "\n",
       "        <div style=\"border:1px solid grey;padding:5px;border-radius:8px;\">\n",
       "            <div>ID: 407d6772 &nbsp Q: 43</div>\n",
       "            <h5 style=\"font-weight: bold;\">Comment faire une demande de médiation en cas de litige avec Pôle emploi concernant une radiation ou une allocation chômage ?</h5>\n",
       "            <div style=\"display:flex; align-items:top;\"><div style=\"width: 25%; padding:10px;\"> <div style=\"text-align:center;color:blue;\">Llama sample+rep-penalty</div> <pre class=\"qq\">Pour faire une demande de médiation en cas de litige avec Pôle emploi concernant une radiation ou une allocation chômage, il est recommandé de suivre ces démarches :\r\n",
       "\r\n",
       "Tout d'abord, il convient de contacter le service concerné de Pôle emploi afin de formuler une réclamation. Ensuite, si cette réclamation n'aboutit pas à résoudre le problème, on peut alors saisir le médiateur Pôle emploi.\r\n",
       "\r\n",
       "Le médiateur de Pôle emploi examine la demande et cherche à trouver des solutions amicales entre les parties impliquées. Il est important de noter qu'avant de contacter le médiateur, il est nécessaire de soumettre une réclamation auprès du service concerné de Pôle emploi.\r\n",
       "\r\n",
       "Il existe deux mécanismes possibles pour contacter le médiateur : soit par courriel, soit par voie postale. Cependant, il est conseillé de se référer au site internet officiel de Pôle emploi pour obtenir les coordonnées spécifiques du médiateur correspondant à leur région ou à celui national.\r\n",
       "\r\n",
       "Enfin, il est également possible de contacter le médiateur via le moyen téléphonique, mais cela devrait être pris en considération uniquement lorsque le courrier ou la poste sont difficiles à utiliser.\r\n",
       "\r\n",
       "N'hésitez pas à consulter le site internet de Pôle emploi pour obtenir toutes les informations nécessaires sur le processus de médiation ainsi que les coordonnées appropriées.</pre></div><div style=\"width: 25%; padding:10px;\"> <div style=\"text-align:center;color:blue;\">Lama rep-penaly</div> <pre class=\"qq\">Pour faire une demande de médiation en cas de litige avec Pôle emploi concernant une radiation ou une allocation chômage, il est possible de contacter le médiateur Pôle emploi. Ce dernier peut être contacté soit par courriel, soit par voie postale. Il convient de bien détailler l'objet du litige ainsi que les justifications nécessaires dans la requête.</pre></div><div style=\"width: 25%; padding:10px;\"> <div style=\"text-align:center;color:blue;\">Llama sample</div> <pre class=\"qq\">Pour faire une demande de médiation en cas de litige avec Pôle emploi concernant une radiation ou une allocation chômage, il est recommandé d'informer le médiateur Pôle emploi. Le médiateur doit décrire l'objet du litige et présenter les justificatifs nécessaires. Il est également possible de contacter le médiateur en utilisant uniquement le courrier.</pre></div><div style=\"width: 25%; padding:10px;\"> <div style=\"text-align:center;color:blue;\">Llama beams</div> <pre class=\"qq\">Pour faire une demande de médiation en cas de litige avec Pôle emploi concernant une radiation ou une allocation chômage, il est possible de contacter le médiateur de Pôle emploi. La demande doit être adressée par mail à mediator.poleemploiservices@pole-emploi.fr, où l'on peut également contacter le médiateur par courrier. Il est important de présenter l'objet du litige et d'inclure les justificatifs nécessaires. La réponse de Pôle emploi peut s'étendre sur plusieurs étapes, qui peuvent inclure une réclamation préalable auprès du service concerné, la médiation interne à l'autorité compétente ou la médiation directe entre les belligérants. Enfin, le médiateur peut également rechercher des solutions amiables entre les parties. Cependant, il est important de souligner que l'approche de médiation n'est pas garantie de résolution et elle ne remplace pas les droits respectifs des parties.</pre></div></div>['emploi', 'internet', 'site', 'obtenir', 'service']</div>"
      ],
      "text/plain": [
       "<IPython.core.display.HTML object>"
      ]
     },
     "metadata": {},
     "output_type": "display_data"
    },
    {
     "data": {
      "text/html": [
       "<br>"
      ],
      "text/plain": [
       "<IPython.core.display.HTML object>"
      ]
     },
     "metadata": {},
     "output_type": "display_data"
    },
    {
     "data": {
      "text/html": [
       "\n",
       "        <style>\n",
       "            .qq {\n",
       "                word-break: keep-all;\n",
       "                white-space: pre-wrap;\n",
       "            }\n",
       "        </style>\n",
       "\n",
       "        <div style=\"border:1px solid grey;padding:5px;border-radius:8px;\">\n",
       "            <div>ID: 05fe3903 &nbsp Q: 44</div>\n",
       "            <h5 style=\"font-weight: bold;\">Quels sont les recours possibles en cas de détention provisoire injustifiée ?</h5>\n",
       "            <div style=\"display:flex; align-items:top;\"><div style=\"width: 25%; padding:10px;\"> <div style=\"text-align:center;color:blue;\">Llama sample+rep-penalty</div> <pre class=\"qq\">En cas de détention provisoire injustifiée, il existe quelques recours possibles. Tout d'abord, il est important de contacter un avocat spécialisé afin de prendre conseil et de savoir quelle action légale appropriée à entreprendre. Ensuite, il est recommandé de signaler la situation à la Commission nationale des droits de l'homme (CNDH) et/ou à la Cour européenne des droits de l'Homme (CEDEM). Ces institutions seront capables de soutenir votre demande de justice et de représenter votre point de vue.</pre></div><div style=\"width: 25%; padding:10px;\"> <div style=\"text-align:center;color:blue;\">Lama rep-penaly</div> <pre class=\"qq\">En cas de détention provisoire injustifiée, il existe différentes possibilités de recours. Tout d'abord, il est important de signaler la situation à la direction générale de la sécurité intérieure (DGSI) afin de prendre toutes les mesures appropriées. Ensuite, il est recommandé de contacter un avocat spécialisé en droit pénal pour obtenir conseil juridictionnel et conseiller sur les actions à entreprendre.</pre></div><div style=\"width: 25%; padding:10px;\"> <div style=\"text-align:center;color:blue;\">Llama sample</div> <pre class=\"qq\">En cas de détention provisoire injustifiée, les recours possibles sont les suivants :\n",
       "\n",
       "1. Choisir d'être jugé immédiatement : Si le prévenu refuse d'être jugé immédiatement, la procédure devant le tribunal correctionnel peut être reportée à une autre date par le prévenu.\n",
       "2. Demander des actes d'enquête : Le prévenu ou son avocat peuvent faire appel à la demande d'autres actes d'enquête, comme une audition d'une personne ou une expertise.\n",
       "3. Tenter de réduire le délai de la prochaine audience : Le prévenu ou son avocat peuvent demander le report de l'audition avant l'expiration du délai maximal.\n",
       "4. Demander un rapport sur la détention provisoire : Le prévenu ou son avocat peuvent demander un rapport détaillé sur la detention provisoire.\n",
       "\n",
       "En pratique, ces recours peuvent être intégrés avec la stratégie de délai de détention provisoire, afin de tenter de réduire le délai de détention provisoire et de la limiter à une durée maximale.\n",
       "\n",
       "Si tu as encore besoin d'autres informations ou si tu as besoin des services d'un avocat, je te suggère de contacter un service de garde à vue pour obtenir des conseils spécifiques à ton situation.</pre></div><div style=\"width: 25%; padding:10px;\"> <div style=\"text-align:center;color:blue;\">Llama beams</div> <pre class=\"qq\">En cas de détention provisoire injustifiée, il existe plusieurs recours possibles. Tout d'abord, la personne peut demander son libération en prononçant le recours de l'immédiateté du procès. Elle peut également faire un recours d'irrégularité avant la date de sa présentation devant le tribunal. Si la détention est prolongée au-delà de la date initialement prévue, par exemple, elle peut demander une désignation d'avocat commis d'office au bâtonnier et prendre plainte.</pre></div></div>['droits', 'avocat', 'commission', 'existe', 'ensuite']</div>"
      ],
      "text/plain": [
       "<IPython.core.display.HTML object>"
      ]
     },
     "metadata": {},
     "output_type": "display_data"
    },
    {
     "data": {
      "text/html": [
       "<br>"
      ],
      "text/plain": [
       "<IPython.core.display.HTML object>"
      ]
     },
     "metadata": {},
     "output_type": "display_data"
    },
    {
     "data": {
      "text/html": [
       "\n",
       "        <style>\n",
       "            .qq {\n",
       "                word-break: keep-all;\n",
       "                white-space: pre-wrap;\n",
       "            }\n",
       "        </style>\n",
       "\n",
       "        <div style=\"border:1px solid grey;padding:5px;border-radius:8px;\">\n",
       "            <div>ID: 1423b4b9 &nbsp Q: 45</div>\n",
       "            <h5 style=\"font-weight: bold;\">Quelles sont les compétences et responsabilités du conseil syndical lors des réunions avec ses membres et les invités ?</h5>\n",
       "            <div style=\"display:flex; align-items:top;\"><div style=\"width: 25%; padding:10px;\"> <div style=\"text-align:center;color:blue;\">Llama sample+rep-penalty</div> <pre class=\"qq\">Le conseil syndical est composé de membres élus par les copropriétaires afin de gérer les affaires communes de l'immeuble. Durant les réunions, le conseil syndical discute des différents sujets relatifs à la gestion du syndicat des copropriétés. Il examine également les propositions présentées par les membres du conseil ainsi que celles des invités tels que le médecin du travail ou le membre de l'équipe pluridisciplinaire du service de prévention et de santé au travail.\r\n",
       "\r\n",
       "Les compétences et responsabilités du conseil syndical incluent la surveillance de la gestion financière du syndicat, la tenue régulière des réunions, la prise de décisions concernant les travaux d'entretien et de maintenance de l'immeuble, ainsi que la définition des tarifs d'utilisation des équipements communautaires.\r\n",
       "\r\n",
       "Il convient donc au conseil syndical de prendre toutes les mesures nécessaires pour garantir la transparence et la démocratie dans la gestion du syndicat des copropriétés.</pre></div><div style=\"width: 25%; padding:10px;\"> <div style=\"text-align:center;color:blue;\">Lama rep-penaly</div> <pre class=\"qq\">Le conseil syndical est composé de membres élus par les copropriétaires afin de gérer la gestion du syndic de copropriété. Son rôle principal est de contrôler la gestion du syndic et veiller à la protection des intérêts communautaires. Pendant les réunions, le conseil syndical discute des différents aspects de la gestion du syndic, tels que la comptabilité, la distribution des frais, les contrats et le budget prévisionnel. Il peut également prendre des décisions importantes telles que l'approbation de nouveaux projets ou la modification de certaines régulations.</pre></div><div style=\"width: 25%; padding:10px;\"> <div style=\"text-align:center;color:blue;\">Llama sample</div> <pre class=\"qq\">Lors des réunions avec ses membres et les invités, le conseil syndical est chargé de superviser la gestion du syndic de copropriété et veiller à l'exécution des travaux nécessaires à la santé, la sécurité et les conditions de travail de tous les copropriétaires. Il exerce ainsi une autorité en matière de sanction pour les membres du conseil syndical qui ne respectent pas leurs devoirs de vigilance et de surveillance. Au cours de ces réunions, il peut également prendre des décisions sur les affaires sensibles et les questions critiques. Il est important pour le conseil syndical de s'approprier les pouvoirs qui lui sont attribués et de participer à l'élaboration de nouvelles politiques, afin de garantir une gestion efficace et responsable du syndicat.</pre></div><div style=\"width: 25%; padding:10px;\"> <div style=\"text-align:center;color:blue;\">Llama beams</div> <pre class=\"qq\">Le conseil syndical est un organe représentatif des copropriétaires qui ont pour mission de contrôler la gestion de la coopérative de copropriété. Lors des réunions avec ses membres et les invités, le conseil syndical s'est notamment chargé de participer à la discussion des comptes rendus et des recommandations du gestionnaire, à discuter des questions importantes soulevées par les membres du conseil syndical, à examiner la disponibilité et l'affectation des moyens financiers, à faire les évaluations des performances passées et à proposer des améliorations.</pre></div></div>['conseil', 'travail', 'entretien', 'travaux', 'utilisation']</div>"
      ],
      "text/plain": [
       "<IPython.core.display.HTML object>"
      ]
     },
     "metadata": {},
     "output_type": "display_data"
    },
    {
     "data": {
      "text/html": [
       "<br>"
      ],
      "text/plain": [
       "<IPython.core.display.HTML object>"
      ]
     },
     "metadata": {},
     "output_type": "display_data"
    },
    {
     "data": {
      "text/html": [
       "\n",
       "        <style>\n",
       "            .qq {\n",
       "                word-break: keep-all;\n",
       "                white-space: pre-wrap;\n",
       "            }\n",
       "        </style>\n",
       "\n",
       "        <div style=\"border:1px solid grey;padding:5px;border-radius:8px;\">\n",
       "            <div>ID: 0257346a &nbsp Q: 46</div>\n",
       "            <h5 style=\"font-weight: bold;\">Comment effectuer une demande professionnelle en lien avec le compte ANTS et France Connect, par exemple pour obtenir un passeport ?</h5>\n",
       "            <div style=\"display:flex; align-items:top;\"><div style=\"width: 25%; padding:10px;\"> <div style=\"text-align:center;color:blue;\">Llama sample+rep-penalty</div> <pre class=\"qq\">Pour effectuer une demande professionnelle en lien avec le compte ANTS et France Connect, comme pour obtenir un passeport, voici quelques étapes à suivre :\r\n",
       "\r\n",
       "1. Si nécessaire, créez un compte ANTS ou connectez-vous déjà à votre compte existant.\r\n",
       "2. Une fois connecté, accédez à 'Mes demandes'. Ceci vous permettra de voir toutes vos démarches en cours ainsi que celles à venir.\r\n",
       "3. Dans 'Mes demandes', cliquez sur 'Demande de passeport'. Cet ensemble de formulaires vous permettront de compléter tous les éléments nécessaires à la demande de passeport.\r\n",
       "4. Faites bien attention à remplir correctement chaque champ requis afin de garantir une meilleure expédition de votre demande.\r\n",
       "5. Lorsque tout est terminé, soumettez votre demande en cliquant sur 'Envoyer'.\r\n",
       "\r\n",
       "Il est important de noter que ces étapes peuvent varier selon les fonctionnalités disponibles sur le site web de l'ANTS et les spécifications techniques de France Connect.</pre></div><div style=\"width: 25%; padding:10px;\"> <div style=\"text-align:center;color:blue;\">Lama rep-penaly</div> <pre class=\"qq\">Pour effectuer une demande professionnelle en lien avec le compte ANTS et France Connect, tapez simplement le mot clé 'pre-demande' dans le champ disponible. Ceci te donnera la possibilité de préparer ta demande avant de venir au guichet.</pre></div><div style=\"width: 25%; padding:10px;\"> <div style=\"text-align:center;color:blue;\">Llama sample</div> <pre class=\"qq\">Pour effectuer une demande professionnelle en lien avec le compte ANTS et France Connect, comme exemple pour obtenir un passeport, vous avez plusieurs possibilités. Tout d'abord, si vous souhaitez quevotre demande de passeport soit déposée dans une mairie enregistrée, vous pouvez choisir n'importe quelle mairie équipée de stations d'enregistrement. L' ANTS met à votre disposition un moteur de recherche vous permettant de trouver un rendez-vous dans une mairie désignée. Vous devrez également présenter les documents originaux demandés, tels que votre passeport et une photo d'identité conforme aux normes. Il est important de suivre les procédures et de respecter le délai de demande. Si vous avez besoin de plus d'informations, nous vous suggérons de vous rendre dans une mairie équipée et de laisser votre dossier sur rendez-vous.</pre></div><div style=\"width: 25%; padding:10px;\"> <div style=\"text-align:center;color:blue;\">Llama beams</div> <pre class=\"qq\">Pour effectuer une demande professionnelle en lien avec le compte ANTS et France Connect, telle qu'une demande de passeport, il est possible de faire une pré-demande avant de se rendre au consulat ou à la mairie. En effet, la pré-demande permet de gagner du temps lors du dépôt du dossier en évitant ainsi les fréquentes retard et délais occasionnés par les emplois du temps des administrations. Il est advi d de se renseigner sur internet pour trouver un rendez-vous dans une mairie équipée. Pour plus de détails, une pré-demande peut être effectuée en ligne sur le site de l'Agence nationale des titres sécurisés (ANTS) en suivant les étapes étape proposées ou en utilisant son compte ANTS si disponible. Il est également possible de prendre rendez-vous en ligne sur le site de l'ANTS, qui propose une fonctionnalité de pré-demande pour les demandes de passeport.</pre></div></div>['passeport', 'demande', 'compte', 'france', 'bien']</div>"
      ],
      "text/plain": [
       "<IPython.core.display.HTML object>"
      ]
     },
     "metadata": {},
     "output_type": "display_data"
    },
    {
     "data": {
      "text/html": [
       "<br>"
      ],
      "text/plain": [
       "<IPython.core.display.HTML object>"
      ]
     },
     "metadata": {},
     "output_type": "display_data"
    },
    {
     "data": {
      "text/html": [
       "\n",
       "        <style>\n",
       "            .qq {\n",
       "                word-break: keep-all;\n",
       "                white-space: pre-wrap;\n",
       "            }\n",
       "        </style>\n",
       "\n",
       "        <div style=\"border:1px solid grey;padding:5px;border-radius:8px;\">\n",
       "            <div>ID: e32d1a99 &nbsp Q: 47</div>\n",
       "            <h5 style=\"font-weight: bold;\">Que faire en cas de vol de documents d'identité tels que le passeport, et quelle est la procédure de déclaration au commissariat ou à la gendarmerie ?</h5>\n",
       "            <div style=\"display:flex; align-items:top;\"><div style=\"width: 25%; padding:10px;\"> <div style=\"text-align:center;color:blue;\">Llama sample+rep-penalty</div> <pre class=\"qq\">En cas de vol de documents d'identité comme le passeport, il est important de déposer une déclaration au commissariat de police ou à la gendarmerie immédiatement après avoir constaté le vol. Cela permettra de prendre toutes les mesures nécessaires pour retrouver ces documents et éviter toute fraude.</pre></div><div style=\"width: 25%; padding:10px;\"> <div style=\"text-align:center;color:blue;\">Lama rep-penaly</div> <pre class=\"qq\">En cas de vol de documents d'identité tels que le passeport, il est important de déclarer le vol au commissariat de police ou à la gendarmerie immédiatement. Cela permettra de prendre toutes les mesures nécessaires pour retrouver ces documents et éviter toute fraude.</pre></div><div style=\"width: 25%; padding:10px;\"> <div style=\"text-align:center;color:blue;\">Llama sample</div> <pre class=\"qq\">En cas de vol de documents d'identité tels que le passeport ou la carte d'identité, il est important de déclarer ce vol au commissariat de police ou à la gendarmerie. La démarche se déroule en se présentant au commissariat ou à la gendarmerie. Le responsable du vol peut y demander une déclaration de vol. Une fois la déclaration faite, il reçoit un récépissé qui sert de preuve de la déclaration. Dans certains cas, il peut être nécessaire de se rendre aux autorités de police locales et au consulat de France si le vol a eu lieu à l'étranger.</pre></div><div style=\"width: 25%; padding:10px;\"> <div style=\"text-align:center;color:blue;\">Llama beams</div> <pre class=\"qq\">Dans le cas d'un vol de documents d'identité tels que le passeport, il est important de déclarer la situation pour pouvoir en demander une nouvelle. Pour faire la déclaration de vol, il est nécessaire de se rendre dans un commissariat de police ou une gendarmerie. Un récépissé sera remis de la part des autorités.</pre></div></div>['documents', 'passeport', 'police', 'prendre', 'cas']</div>"
      ],
      "text/plain": [
       "<IPython.core.display.HTML object>"
      ]
     },
     "metadata": {},
     "output_type": "display_data"
    },
    {
     "data": {
      "text/html": [
       "<br>"
      ],
      "text/plain": [
       "<IPython.core.display.HTML object>"
      ]
     },
     "metadata": {},
     "output_type": "display_data"
    },
    {
     "data": {
      "text/html": [
       "\n",
       "        <style>\n",
       "            .qq {\n",
       "                word-break: keep-all;\n",
       "                white-space: pre-wrap;\n",
       "            }\n",
       "        </style>\n",
       "\n",
       "        <div style=\"border:1px solid grey;padding:5px;border-radius:8px;\">\n",
       "            <div>ID: 613bea0d &nbsp Q: 48</div>\n",
       "            <h5 style=\"font-weight: bold;\">Quels sont les documents et pièces justificatives nécessaires pour effectuer une pré-demande de carte d'identité biométrique ?</h5>\n",
       "            <div style=\"display:flex; align-items:top;\"><div style=\"width: 25%; padding:10px;\"> <div style=\"text-align:center;color:blue;\">Llama sample+rep-penalty</div> <pre class=\"qq\">Pour effectuer une pré-demande de carte d'identité biométrique, voici les documents et pièces justificatives requis :\r\n",
       "\r\n",
       "1. Une photographie d'identité de moins de 6 mois et conforme aux normes.\r\n",
       "2. Une pièce d'identité du parent qui déposera la demande.\r\n",
       "3. Un justificatif de domicile.\r\n",
       "4. S'ils ont fait une pré-demande, ils devront également indiquer leur numéro de pré-demande ainsi que le QR code obtenu à la fin de la démarche.\r\n",
       "\r\n",
       "Il est important de noter que ces informations sont données à titre indicatif et qu'il est recommandé de consulter directement l'Agence nationale des titres sécurisés (ANTS) pour connaître les spécifications actuelles et les démarches à suivre.</pre></div><div style=\"width: 25%; padding:10px;\"> <div style=\"text-align:center;color:blue;\">Lama rep-penaly</div> <pre class=\"qq\">Pour effectuer une pré-demande de carte d'identité biométrique, voici les documents et pièces justificatives requises :\n",
       "\n",
       "1. Une photographie d'identité de moins de six mois et conforme aux normes.\n",
       "2. Une pièce d'identité du parent qui déposera la demande.\n",
       "3. Un justificatif de domicile.\n",
       "4. S'ils ont fait une pré-demande, ils devront également indiquer leur numéro de pré-demande ainsi que le QR code obtenu à la fin de la démarche.\n",
       "\n",
       "Il est important de noter que ces documents doivent être originaux et que certaines conditions spécifiques peuvent s'appliquer selon le type de demande (renouvellement ou première demande).</pre></div><div style=\"width: 25%; padding:10px;\"> <div style=\"text-align:center;color:blue;\">Llama sample</div> <pre class=\"qq\">Pour effectuer une pré-demande de carte d'identité biométrique, vous pouvez consulter la rubrique 'préparer la démarche' de cette page de réponse. Là, vous pourrez trouver un moteur de recherche pour vous aider à rechercher un rendez-vous dans une mairie équipée de la station d'enregistrement. Vous devrez être accompagné dans votre demande par le ou la parent(s) ayant l'autorité parentale. Il est important de préciser que seule une pré-demande en ligne peut vous couper le temps lors de votre dépôt du dossier, mais il n'est pas obligatoire.</pre></div><div style=\"width: 25%; padding:10px;\"> <div style=\"text-align:center;color:blue;\">Llama beams</div> <pre class=\"qq\">Pour effectuer une pré-demande de carte d'identité biométrique, il est nécessaire de fournir certains documents et pièces justificatives. Parmi ces documents, il faut présenter la photo d'identité datée de moins de 6 mois et conforme aux normes, la pièce d'identité du parent qui dépose la demande, et un justificatif de domicile. Si le parent fait une pré-demande, il reçoit un numéro de pré-demande et/ou le QR code obtenu à la fin de la démarche (il est conseillé de l'imprimer). De plus, il faut envoyer la photo d'identité de moins de 6 mois en mode numérique selon certaines conditions.</pre></div></div>['demande', 'agence', 'consulter', 'titres', 'indiquer']</div>"
      ],
      "text/plain": [
       "<IPython.core.display.HTML object>"
      ]
     },
     "metadata": {},
     "output_type": "display_data"
    },
    {
     "data": {
      "text/html": [
       "<br>"
      ],
      "text/plain": [
       "<IPython.core.display.HTML object>"
      ]
     },
     "metadata": {},
     "output_type": "display_data"
    },
    {
     "data": {
      "text/html": [
       "\n",
       "        <style>\n",
       "            .qq {\n",
       "                word-break: keep-all;\n",
       "                white-space: pre-wrap;\n",
       "            }\n",
       "        </style>\n",
       "\n",
       "        <div style=\"border:1px solid grey;padding:5px;border-radius:8px;\">\n",
       "            <div>ID: 71488538 &nbsp Q: 49</div>\n",
       "            <h5 style=\"font-weight: bold;\">Quels sont les délais de fabrication et de retrait des cartes d'identité dans différents pays, et comment faire en cas de demande à l'étranger via un consulat ou une ambassade ?</h5>\n",
       "            <div style=\"display:flex; align-items:top;\"><div style=\"width: 25%; padding:10px;\"> <div style=\"text-align:center;color:blue;\">Llama sample+rep-penalty</div> <pre class=\"qq\">Les délais de fabrication et de retrait des cartes d'identité varient selon chaque pays. Dans certaines destinations, il existe des délais spécifiques pour la production et la livraison des cartes d'identité. Par exemple, en Suisse, les délais de fabrication et de retrait sont généralement compris entre deux semaines et trois semaines.\r\n",
       "\r\n",
       "Pour effectuer une demande de carte d'identité à l'étranger via un consulat ou une ambassade, il est recommandé de contacter directement ces institutions afin de connaître leurs procédures particulières. Ils seront en mesure de vous informer sur les délais de fabrication et de retrait ainsi que sur les autres formalités nécessaires à la réalisation de cette demande.\r\n",
       "\r\n",
       "Il est important de souligner que ces informations sont basées sur des données générales et qu'il est toujours conseillé de se rapprocher des autorités diplomatiques localement pour obtenir des informations précises et actualisées.</pre></div><div style=\"width: 25%; padding:10px;\"> <div style=\"text-align:center;color:blue;\">Lama rep-penaly</div> <pre class=\"qq\">Les délais de fabrication et de retrait des cartes d'identité varient selon chaque pays. Dans certaines destinations, il existe des délais spécifiques à respecter pour effectuer ces opérations. Par exemple, en République Tchèque, les délais de fabrication et de retrait sont généralement compris entre deux semaines et trois mois. Cependant, cela peut varier en fonction de la quantité de demandes et de disponibilité des services.</pre></div><div style=\"width: 25%; padding:10px;\"> <div style=\"text-align:center;color:blue;\">Llama sample</div> <pre class=\"qq\">Selon les références, les délais de fabrication et de retrait des cartes d'identité dans différents pays peuvent varier. Dans certains pays, il peut y avoir des délais plus élevés. Pour les demandes à l'étranger via un consulat ou une ambassade, il est préférable de se renseigner sur les conditions spécifiques du consulat ou de l'ambassade concerné. Il est important de prendre en compte ces délais dans le planning de la demande.</pre></div><div style=\"width: 25%; padding:10px;\"> <div style=\"text-align:center;color:blue;\">Llama beams</div> <pre class=\"qq\">Le temps de détention et de retrait des cartes d'identité varie d'un pays à l'autre. Il est donc recommandé de se renseigner auprès du service de cartes d'identité de chaque pays pour connaître les délais spécifiques.\n",
       "\n",
       "Si tu as besoin de faire une demande de carte à l'étranger, cela peut être possible dans certains cas auprès d'un consulat ou d'une ambassade de France. Cependant, le processus peut varier d'un pays à l'autre et peut se faire via des dépôts d'enregistrement de la carte sur rendez-vous à certains lieux de mairies équipés ou en faisant une pré-demande en ligne. Il est également conseillé d'être au courant des listes des mairies équipées disponibles sur l'agence nationale des titres sécurisés (ANTS).</pre></div></div>['informations', 'existe', 'demande', 'pays', 'informer']</div>"
      ],
      "text/plain": [
       "<IPython.core.display.HTML object>"
      ]
     },
     "metadata": {},
     "output_type": "display_data"
    },
    {
     "data": {
      "text/html": [
       "<br>"
      ],
      "text/plain": [
       "<IPython.core.display.HTML object>"
      ]
     },
     "metadata": {},
     "output_type": "display_data"
    }
   ],
   "source": [
    "import IPython.display as display\n",
    "import pandas as pd\n",
    "\n",
    "corpus = pd.read_json(\"corpus-eval-v4.json\")\n",
    "\n",
    "def draw(view):\n",
    "    display.display(display.HTML(view))\n",
    "\n",
    "def draw_cols(cols, with_refs=False):\n",
    "    col_len = 100 // len(cols)\n",
    "    draw(f'''\n",
    "        <style>\n",
    "            .qq {{\n",
    "                word-break: keep-all;\n",
    "                white-space: pre-wrap;\n",
    "            }}\n",
    "        </style>\n",
    "\n",
    "        <div style=\"border:1px solid grey;padding:5px;border-radius:8px;\">\n",
    "            <div>ID: {qid} &nbsp Q: {i}</div>\n",
    "            <h5 style=\"font-weight: bold;\">{question}</h5>\n",
    "            <div style=\"display:flex; align-items:top;\">'''\n",
    "                    + ''.join([\n",
    "                                f'<div style=\"width: {col_len}%; padding:10px;\"> <div style=\"text-align:center;color:blue;\">{title}</div> <pre class=\"qq\">{answer}</pre></div>'\n",
    "                                for title, answer in cols\n",
    "                                ])\n",
    "            + '</div>'\n",
    "            + str(extract_top_words(cols[1][1], 5))\n",
    "            + (f'''<br><br>{\"=\"*100}<br><br>\n",
    "                 <pre>REFERENCES:<br><br>{\"<br>\".join(x[\"references_raw\"])}\n",
    "                 </pre>''' if with_refs else '')\n",
    "        + '</div>')\n",
    "    draw(\"<br>\")\n",
    "   \n",
    "\n",
    "for i, x in corpus.iterrows():\n",
    "    qid = x[\"qid\"]\n",
    "    question = x[\"question\"]\n",
    "\n",
    "    cols = [\n",
    "        #(\"Xgen\", x[\"answer_xgen\"]),\n",
    "        (\"Llama sample+rep-penalty\", x[\"answer_llama_base_ref\"]),\n",
    "        (\"Lama rep-penaly\", x[\"answer_llama_ref\"]),\n",
    "        (\"Llama sample\", x[\"answer_llama_ref_sample\"]),\n",
    "        (\"Llama beams\", x[\"answer_llama_ref_beams\"]),\n",
    "    ]\n",
    "\n",
    "    draw_cols(cols, with_refs=False)"
   ]
  },
  {
   "cell_type": "code",
   "execution_count": null,
   "id": "201278f3-dfec-41b4-b415-33be680d05e6",
   "metadata": {},
   "outputs": [],
   "source": []
  },
  {
   "cell_type": "markdown",
   "id": "de4da69d-d3da-428b-a456-ac4f85a7914b",
   "metadata": {},
   "source": []
  }
 ],
 "metadata": {
  "kernelspec": {
   "display_name": "Python 3 (ipykernel)",
   "language": "python",
   "name": "python3"
  },
  "language_info": {
   "codemirror_mode": {
    "name": "ipython",
    "version": 3
   },
   "file_extension": ".py",
   "mimetype": "text/x-python",
   "name": "python",
   "nbconvert_exporter": "python",
   "pygments_lexer": "ipython3",
   "version": "3.9.2"
  }
 },
 "nbformat": 4,
 "nbformat_minor": 5
}
