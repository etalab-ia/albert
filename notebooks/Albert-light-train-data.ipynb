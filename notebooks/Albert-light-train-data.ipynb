{
 "cells": [
  {
   "cell_type": "code",
   "execution_count": 21,
   "id": "e22b191b-c2a3-4122-a610-8873af05293e",
   "metadata": {},
   "outputs": [
    {
     "name": "stdout",
     "output_type": "stream",
     "text": [
      "\n",
      "total: 1000\n",
      "total negatif: 135\n",
      "\n"
     ]
    },
    {
     "data": {
      "text/html": [
       "\n",
       "        <style>\n",
       "            .qq {\n",
       "                word-break: keep-all;\n",
       "                white-space: pre-wrap;\n",
       "            }\n",
       "        </style>\n",
       "\n",
       "        <div style=\"border:1px solid grey;padding:5px;border-radius:8px;\">\n",
       "            <div>ID: ID &nbsp Q: 0</div>\n",
       "            <h5 style=\"font-weight: bold;\">Quelles sont les démarches spécifiques pour obtenir une carte d'identité pour un mineur ?</h5>\n",
       "            <div style=\"display:flex; align-items:top;\"><div style=\"width: 50%; padding:10px;\"> <div style=\"text-align:center;color:blue;\">prompt</div> <pre class=\"qq\">Utilisez les éléments de contexte à votre disposition ci-dessous pour répondre à la question finale. Si vous ne connaissez pas la réponse, dites simplement que vous ne savez pas, n'essayez pas d'inventer une réponse.\n",
       "\n",
       "https://www.service-public.fr/particuliers/vosdroits/F1342 : \n",
       "Vous souhaitez que votre enfant mineur ait une carte nationale d'identité ? Un mineur français peut avoir une carte d’identité quel que soit son âge (même un bébé). La procédure varie selon que la demande est faite en France ou à l'étranger et selon l'âge du mineur. Dans tous les cas, la carte d'identité est gratuite . Nous vous présentons les étapes de la démarche. Voici une liste de différents cas possibles:\n",
       "- Choisir le lieu où vous ferez la démarche et, en général, prendre rendez-vous\n",
       "- Préparer les documents à présenter\n",
       "- Vous rendre au lieu que vous avez choisi pour faire la démarche\n",
       "- Suivre l'avancement de la fabrication de la carte d'identité\n",
       "- Retirer la carte d'identité quand elle est disponible\n",
       "- Vous renseigner s'il faut prendre rendez-vous\n",
       "- Vous rendre au consulat ou à l'ambassade \n",
       "\n",
       "https://www.service-public.fr/particuliers/vosdroits/F21090 : \n",
       "La carte d'identité de votre enfant mineur est périmée ou le devient bientôt ? Nous vous présentons la démarche pour le renouvellement de la carte. Voici une liste de différents cas possibles:\n",
       "- Où et comment faire la demande de nouvelle carte d'identité ? - Quels documents fournir pour la demande de nouvelle carte ? - Quel est le coût de la carte d'identité ? - Quel est le délai de fabrication de la carte d'identité ? - Comment retirer la carte d'identité quand elle est prête ? - Quelle est la durée de validité de la carte d'identité ? - Où et comment faire la demande de nouvelle carte ? \n",
       "\n",
       "https://www.service-public.fr/particuliers/vosdroits/F21090 : Renouvellement de la carte d'identité d'un mineur (Demande en France)\n",
       "Pour renouveler la carte d'identité d'un mineur, l'enfant et son représentant légal doivent se rendre à la mairie. Ils doivent présenter les documents justificatifs nécessaires. \n",
       "\n",
       "https://www.service-public.fr/particuliers/vosdroits/F1342 : Carte d'identité d'un mineur : première demande (À l'étranger > Vous rendre au consulat ou à l'ambassade)\n",
       "Le mineur et son responsable doivent se présenter ensemble au guichet. Le responsable doit exercer l'autorité parentale. Il peut s'agir du père, de la mère ou du tuteur. Il doit présenter sa propre pièce d'identité. Si vous souhaitez retirer la carte d'identité auprès d'un consul honoraire habilité, il faut l'indiquer au guichet au moment du dépôt du dossier. \n",
       "\n",
       "Question : Quelles sont les démarches spécifiques pour obtenir une carte d'identité pour un mineur ?</pre></div><div style=\"width: 50%; padding:10px;\"> <div style=\"text-align:center;color:blue;\">answer</div> <pre class=\"qq\">Les démarches spécifiques pour obtenir une carte d'identité pour un mineur dépendent de l'endroit où la demande est faite. Si la demande est faite en France, l'enfant et son représentant légal doivent se rendre à la mairie et présenter les documents justificatifs nécessaires. Si la demande est faite à l'étranger, le mineur et son responsable doivent se présenter ensemble au guichet du consulat ou de l'ambassade. Le responsable doit exercer l'autorité parentale et doit présenter sa propre pièce d'identité.</pre></div></div></div>"
      ],
      "text/plain": [
       "<IPython.core.display.HTML object>"
      ]
     },
     "metadata": {},
     "output_type": "display_data"
    },
    {
     "data": {
      "text/html": [
       "<br>"
      ],
      "text/plain": [
       "<IPython.core.display.HTML object>"
      ]
     },
     "metadata": {},
     "output_type": "display_data"
    },
    {
     "data": {
      "text/html": [
       "\n",
       "        <style>\n",
       "            .qq {\n",
       "                word-break: keep-all;\n",
       "                white-space: pre-wrap;\n",
       "            }\n",
       "        </style>\n",
       "\n",
       "        <div style=\"border:1px solid grey;padding:5px;border-radius:8px;\">\n",
       "            <div>ID: ID &nbsp Q: 1</div>\n",
       "            <h5 style=\"font-weight: bold;\">Comment obtenir des informations sur les solutions d'hébergement pour les personnes handicapées dans les départements de Normandie, Nouvelle-Aquitaine et Île-de-France ?</h5>\n",
       "            <div style=\"display:flex; align-items:top;\"><div style=\"width: 50%; padding:10px;\"> <div style=\"text-align:center;color:blue;\">prompt</div> <pre class=\"qq\">Utilisez les éléments de contexte à votre disposition ci-dessous pour répondre à la question finale. Si vous ne connaissez pas la réponse, dites simplement que vous ne savez pas, n'essayez pas d'inventer une réponse.\n",
       "\n",
       "https://www.service-public.fr/particuliers/vosdroits/F31029 : \n",
       "Plusieurs dispositifs sont mis en place pour aider les adultes en situation de handicap dans leur vie quotidienne (logement, transport, travail ...). Pour en bénéficier, le handicap doit avoir été diagnostiqué par un professionnel de santé (généraliste, psychiatre...). Une fois ce diagnostic établi, il faut prendre contact avec une maison départementale des personnes handicapées (MDPH). Elle est chargée d'accompagner la personne handicapée dans ses démarches. Voici une liste de différents cas possibles:\n",
       "- Aides financières\n",
       "- Logement\n",
       "- Soins\n",
       "- Travail et formation professionnelle\n",
       "- Transport\n",
       "- Retraite \n",
       "\n",
       "https://www.service-public.fr/particuliers/vosdroits/F2326 : Étudiant en situation de handicap (Quelles solutions pour vous loger ?)\n",
       "Les centres régionaux des œuvres universitaires et scolaires (Crous) ont mis en place des référents pour vous aider à accéder à un logement spécialement aménagé. Renseignez-vous directement auprès de votre Crous de rattachement : \n",
       "\n",
       "https://www.service-public.fr/particuliers/vosdroits/F2326 : \n",
       "Vous êtes étudiant en situation de handicap et vous vous posez des questions sur le déroulement de votre scolarité dans l' enseignement supérieur ? Accueil dans l'établissement, transport, aides financières...Voici les informations utiles sur le sujet. Voici une liste de différents cas possibles:\n",
       "- Comment votre établissement vous accueille-t-il ? - Vos transports peuvent-ils être financés ? - Quelles solutions pour vous loger ? - Quelles solutions pour vous restaurer ? - De quelles aides financières pouvez-vous bénéficier ? - Stage en entreprise : quel accompagnement ? - Alternance : quel accompagnement ? - Quelles solutions pour assurer le suivi de votre santé ? - En quoi consiste l'accompagnement par un assistant d'éducation ? - Comment suivre vos enseignements à distance ? \n",
       "\n",
       "https://www.service-public.fr/particuliers/vosdroits/F31029 : Je suis en situation de handicap (Logement)\n",
       "Des solutions d'hébergement en établissement peuvent m'être proposées sur orientation de la commission départementale des personnes handicapées (CDAPH). Toutefois, si je préfère un lieu de vie familial à un hébergement en établissement, je peux choisir d'être accueilli chez des particuliers. Si j'ai un logement, des aides financières peuvent m'être accordées pour faire face à des dépenses de logement, notamment :\n",
       "- Allocation de logement sociale (ALS)\n",
       "- Exonération de la taxe d'habitation et de la taxe foncière\n",
       "- Réduction sociale téléphonique pour réduire le montant de mes factures de téléphone\n",
       "- Réduction d'impôt pour adapter votre logement à votre handicap\n",
       "(À savoir: si je fais une demande de logement social , je suis reconnu demandeur prioritaire en tant que personne en situation de handicap.) \n",
       "\n",
       "Question : Comment obtenir des informations sur les solutions d'hébergement pour les personnes handicapées dans les départements de Normandie, Nouvelle-Aquitaine et Île-de-France ?</pre></div><div style=\"width: 50%; padding:10px;\"> <div style=\"text-align:center;color:blue;\">answer</div> <pre class=\"qq\">Pour obtenir des informations sur les solutions d'hébergement pour les personnes handicapées dans les départements de Normandie, Nouvelle-Aquitaine et Île-de-France, il est recommandé de prendre contact avec les maisons départementales des personnes handicapées (MDPH) de chaque département concerné. Ces MDPH sont chargées d'accompagner les personnes handicapées dans leurs démarches et pourront fournir des informations spécifiques sur les solutions d'hébergement disponibles dans chaque région.</pre></div></div></div>"
      ],
      "text/plain": [
       "<IPython.core.display.HTML object>"
      ]
     },
     "metadata": {},
     "output_type": "display_data"
    },
    {
     "data": {
      "text/html": [
       "<br>"
      ],
      "text/plain": [
       "<IPython.core.display.HTML object>"
      ]
     },
     "metadata": {},
     "output_type": "display_data"
    },
    {
     "data": {
      "text/html": [
       "\n",
       "        <style>\n",
       "            .qq {\n",
       "                word-break: keep-all;\n",
       "                white-space: pre-wrap;\n",
       "            }\n",
       "        </style>\n",
       "\n",
       "        <div style=\"border:1px solid grey;padding:5px;border-radius:8px;\">\n",
       "            <div>ID: ID &nbsp Q: 2</div>\n",
       "            <h5 style=\"font-weight: bold;\">Quels sont les bilans médicaux nécessaires, tels que le bilan auditif et ophtalmologique, pour demander des prestations handicap ?</h5>\n",
       "            <div style=\"display:flex; align-items:top;\"><div style=\"width: 50%; padding:10px;\"> <div style=\"text-align:center;color:blue;\">prompt</div> <pre class=\"qq\">Utilisez les éléments de contexte à votre disposition ci-dessous pour répondre à la question finale. Si vous ne connaissez pas la réponse, dites simplement que vous ne savez pas, n'essayez pas d'inventer une réponse.\n",
       "\n",
       "https://www.service-public.fr/particuliers/vosdroits/F24610 : \n",
       "Divers dispositifs existent pour mon enfant et pour m'aider dans mes démarches. Un diagnostic doit d'abord être établi par un professionnel de santé (généraliste, pédopsychiatre...) pour faire reconnaître le handicap de mon enfant. Voici une liste de différents cas possibles:\n",
       "- Reconnaissance du handicap\n",
       "- Aides financières\n",
       "- Aides aux transports\n",
       "- Modes de garde\n",
       "- Scolarité\n",
       "- Mesures de protection\n",
       "- Conséquences sur mon droit à la retraite en tant que parent \n",
       "\n",
       "https://www.service-public.fr/particuliers/vosdroits/F2842 : \n",
       "Vous avez un handicap et vous voulez passer le permis de conduire ? C'est possible si vous êtes reconnu apte par un médecin agréé lors d'une visite médicale. Les épreuves de l'examen du permis sont aménagées selon votre handicap : physique (mobilité réduite), auditif (sourd ou malentendant), troubles dys ...\n",
       "\n",
       "Voici une liste de différents cas possibles:\n",
       "- Quelles conditions pour s'inscrire à l'examen du permis de conduire ? - Où faire la demande d'inscription à l'examen du permis de conduire ? - Comment sont aménagées les épreuves de l'examen du permis de conduire si vous avez un handicap ? - Quel est le prix de l'examen du permis de conduire ? - Quelle est la durée de validité du permis de conduire si vous avez un handicap ? \n",
       "\n",
       "https://www.service-public.fr/particuliers/vosdroits/F31029 : \n",
       "Plusieurs dispositifs sont mis en place pour aider les adultes en situation de handicap dans leur vie quotidienne (logement, transport, travail ...). Pour en bénéficier, le handicap doit avoir été diagnostiqué par un professionnel de santé (généraliste, psychiatre...). Une fois ce diagnostic établi, il faut prendre contact avec une maison départementale des personnes handicapées (MDPH). Elle est chargée d'accompagner la personne handicapée dans ses démarches. Voici une liste de différents cas possibles:\n",
       "- Aides financières\n",
       "- Logement\n",
       "- Soins\n",
       "- Travail et formation professionnelle\n",
       "- Transport\n",
       "- Retraite \n",
       "\n",
       "https://www.service-public.fr/particuliers/vosdroits/F34158 : \n",
       "Avez- vous droit de prendre un congé spécifique en cas d'annonce d'un handicap, d'une pathologie chronique ou d'un cancer de votre enfant ? Quelles sont les conditions pour pouvoir bénéficier de ce congé ? Quelle est la durée du congé ? Nous vous présentons les informations à connaître sur le congé pour l'annonce du handicap ou d'une pathologie chronique d'un enfant. Voici une liste de différents cas possibles:\n",
       "- Qui a droit au congé pour l'annonce du handicap ou d'une pathologie de son enfant ? - Quelles sont les pathologies chroniques ouvrant droit au congé pour l'annonce du handicap ou d'une pathologie de son enfant ? - Quelle sont les démarches à effectuer en cas de l'annonce du handicap ou d'une pathologie de son enfant ? - Quelles est la durée du congé pour l'annonce du handicap ou d'une pathologie de votre enfant ? - Quand devez-vous prendre le congé pour l'annonce du handicap ou d'une pathologie de votre enfant ? - Est-on rémunéré pendant le congé pour l'annonce du handicap ou d'une pathologie de son enfant ? \n",
       "\n",
       "Question : Quels sont les bilans médicaux nécessaires, tels que le bilan auditif et ophtalmologique, pour demander des prestations handicap ?</pre></div><div style=\"width: 50%; padding:10px;\"> <div style=\"text-align:center;color:blue;\">answer</div> <pre class=\"qq\">Les éléments de contexte ne fournissent pas d'informations spécifiques sur les bilans médicaux nécessaires pour demander des prestations handicap. Par conséquent, je ne peux pas répondre à cette question.</pre></div></div></div>"
      ],
      "text/plain": [
       "<IPython.core.display.HTML object>"
      ]
     },
     "metadata": {},
     "output_type": "display_data"
    },
    {
     "data": {
      "text/html": [
       "<br>"
      ],
      "text/plain": [
       "<IPython.core.display.HTML object>"
      ]
     },
     "metadata": {},
     "output_type": "display_data"
    },
    {
     "data": {
      "text/html": [
       "\n",
       "        <style>\n",
       "            .qq {\n",
       "                word-break: keep-all;\n",
       "                white-space: pre-wrap;\n",
       "            }\n",
       "        </style>\n",
       "\n",
       "        <div style=\"border:1px solid grey;padding:5px;border-radius:8px;\">\n",
       "            <div>ID: ID &nbsp Q: 3</div>\n",
       "            <h5 style=\"font-weight: bold;\">Quelles sont les pièces justificatives à fournir pour faire une demande de Prestation de compensation du handicap (PCH) dans le Cher (18) ?</h5>\n",
       "            <div style=\"display:flex; align-items:top;\"><div style=\"width: 50%; padding:10px;\"> <div style=\"text-align:center;color:blue;\">prompt</div> <pre class=\"qq\">Utilisez les éléments de contexte à votre disposition ci-dessous pour répondre à la question finale. Si vous ne connaissez pas la réponse, dites simplement que vous ne savez pas, n'essayez pas d'inventer une réponse.\n",
       "\n",
       "https://www.service-public.fr/particuliers/vosdroits/F14202 : Prestation de compensation du handicap (PCH) (Quelle démarche pour toucher la PCH ?)\n",
       "Cas Centre-Val de Loire: Cas Cher (18): Vous devez remplir un formulaire : Vous devez joindre les pièces justificatives mentionnées sur le formulaire (notamment un certificat médical). Le formulaire et les pièces justificatives doivent être envoyés à la MDPH de votre lieu de résidence. Cas Eure-et-Loir (28): Vous devez remplir un formulaire : Vous devez joindre les pièces justificatives mentionnées sur le formulaire (notamment un certificat médical). Le formulaire et les pièces justificatives doivent être envoyés à la MDPH de votre lieu de résidence. Cas Indre (36): Vous devez remplir un formulaire : Vous devez joindre les pièces justificatives mentionnées sur le formulaire (notamment un certificat médical). Le formulaire et les pièces justificatives doivent être envoyés à la MDPH de votre lieu de résidence. Cas Indre-et-Loire (37): Vous devez remplir un formulaire : Vous devez joindre les pièces justificatives mentionnées sur le formulaire (notamment un certificat médical). Le formulaire et les pièces justificatives doivent être envoyés à la MDPH de votre lieu de résidence. Cas Loir-et-Cher (41): Vous devez remplir un formulaire : Vous devez joindre les pièces justificatives mentionnées sur le formulaire (notamment un certificat médical). Le formulaire et les pièces justificatives doivent être envoyés à la MDPH de votre lieu de résidence. Cas Loiret (45): Vous pouvez saisir votre demande en ligne ou remplir un formulaire et l'envoyer par courrier. Cas En ligne: Vous pouvez saisir votre demande en ligne : Vous devez joindre (scanner) les pièces justificatives mentionnées sur le service en ligne (notamment un certificat médical). Cas Par courrier: Vous pouvez remplir un formulaire : Vous devez joindre les pièces justificatives mentionnées sur le formulaire (notamment un certificat médical). Le formulaire et les pièces justificatives doivent être envoyés à la MDPH de votre lieu de résidence. Cas Corse: Vous devez remplir un formulaire : Vous devez joindre les pièces justificatives mentionnées sur le formulaire (notamment un certificat médical). Le formulaire et les pièces justificatives doivent être envoyés à la MDPH de votre lieu de résidence. Cas Grand Est: Cas Ardennes (08): Vous pouvez saisir votre demande en ligne ou remplir un formulaire et l'envoyer par courrier. Cas En ligne: Vous pouvez saisir votre demande en ligne : Vous devez joindre (scanner) les pièces justificatives mentionnées sur le service en ligne (notamment un certificat médical). Cas Par courrier: Vous pouvez remplir un formulaire : Vous devez joindre les pièces justificatives mentionnées sur le formulaire (notamment un certificat médical). Le formulaire et les pièces justificatives doivent être envoyés à la MDPH de votre lieu de résidence. Cas Aube (10): Vous pouvez saisir votre demande en ligne ou remplir un formulaire et l'envoyer par courrier. Cas En ligne: Vous pouvez saisir votre demande en ligne : Vous devez joindre (scanner) les pièces justificatives mentionnées sur le service en ligne (notamment un certificat médical). Cas Par courrier: Vous pouvez remplir un formulaire : Vous devez joindre les pièces justificatives mentionnées sur le formulaire (notamment un certificat médical). \n",
       "\n",
       "https://www.service-public.fr/particuliers/vosdroits/F14202 : Prestation de compensation du handicap (PCH) (Quelle démarche pour toucher la PCH ?)\n",
       "Cas En ligne: Vous pouvez saisir votre demande en ligne : Vous devez joindre (scanner) les pièces justificatives mentionnées sur le service en ligne (notamment un certificat médical). Cas Par courrier: Vous pouvez remplir un formulaire : Vous devez joindre les pièces justificatives mentionnées sur le formulaire (notamment un certificat médical). Le formulaire et les pièces justificatives doivent être envoyés à la MDPH de votre lieu de résidence. Cas Maine-et-Loire (49): Vous pouvez saisir votre demande en ligne ou remplir un formulaire et l'envoyer par courrier. Cas En ligne: Vous pouvez saisir votre demande en ligne : Vous devez joindre (scanner) les pièces justificatives mentionnées sur le service en ligne (notamment un certificat médical). Cas Par courrier: Vous pouvez remplir un formulaire : Vous devez joindre les pièces justificatives mentionnées sur le formulaire (notamment un certificat médical). Le formulaire et les pièces justificatives doivent être envoyés à la MDPH de votre lieu de résidence. Cas Mayenne (53): Vous pouvez saisir votre demande en ligne  ou remplir un formulaire et l'envoyer par courrier. Cas En ligne: Vous pouvez saisir votre demande en ligne : Vous devez joindre (scanner) les pièces justificatives mentionnées sur le service en ligne (notamment un certificat médical). Cas Par courrier: Vous pouvez remplir un formulaire : Vous devez joindre les pièces justificatives mentionnées sur le formulaire (notamment un certificat médical). Le formulaire et les pièces justificatives doivent être envoyés à la MDPH de votre lieu de résidence. Cas Sarthe (72): Vous pouvez saisir votre demande en ligne ou remplir un formulaire et l'envoyer par courrier. Cas En ligne: Vous pouvez saisir votre demande en ligne : Vous devez joindre (scanner) les pièces justificatives mentionnées sur le service en ligne (notamment un certificat médical). Cas Par courrier: Vous pouvez remplir un formulaire : Vous devez joindre les pièces justificatives mentionnées sur le formulaire (notamment un certificat médical). Le formulaire et les pièces justificatives doivent être envoyés à la MDPH de votre lieu de résidence. Cas Vendée (85): Vous pouvez saisir votre demande en ligne ou remplir un formulaire et l'envoyer par courrier. Cas En ligne: Vous pouvez saisir votre demande en ligne : Vous devez joindre (scanner) les pièces justificatives mentionnées sur le service en ligne (notamment un certificat médical). Cas Par courrier: Vous pouvez remplir un formulaire : Vous devez joindre les pièces justificatives mentionnées sur le formulaire (notamment un certificat médical). Le formulaire et les pièces justificatives doivent être envoyés à la MDPH de votre lieu de résidence. Cas Provence-Alpes-Côte d'Azur (Paca): Cas Alpes-de-Haute-Provence (04): Vous pouvez saisir votre demande en ligne ou remplir un formulaire et l'envoyer par courrier. Cas En ligne: Vous pouvez saisir votre demande en ligne : Vous devez joindre (scanner) les pièces justificatives mentionnées sur le service en ligne (notamment un certificat médical). Cas Par courrier: Vous pouvez remplir un formulaire : Vous devez joindre les pièces justificatives mentionnées sur le formulaire (notamment un certificat médical). \n",
       "\n",
       "https://www.service-public.fr/particuliers/vosdroits/F14202 : Prestation de compensation du handicap (PCH) (Quelle démarche pour toucher la PCH ?)\n",
       "Cas En ligne: Vous pouvez saisir votre demande en ligne : Vous devez joindre (scanner) les pièces justificatives mentionnées sur le service en ligne (notamment un certificat médical). Cas Par courrier: Vous pouvez remplir un formulaire : Vous devez joindre les pièces justificatives mentionnées sur le formulaire (notamment un certificat médical). Le formulaire et les pièces justificatives doivent être envoyés à la MDPH de votre lieu de résidence. Cas Corrèze (19): Vous devez remplir un formulaire : Vous devez joindre les pièces justificatives mentionnées sur le formulaire (notamment un certificat médical). Le formulaire et les pièces justificatives doivent être envoyés à la MDPH de votre lieu de résidence. Cas Creuse (23): Vous devez remplir un formulaire : Vous devez joindre les pièces justificatives mentionnées sur le formulaire (notamment un certificat médical). Le formulaire et les pièces justificatives doivent être envoyés à la MDPH de votre lieu de résidence. Cas Dordogne (24): Vous pouvez saisir votre demande en ligne ou remplir un formulaire et l'envoyer par courrier. Cas En ligne: Vous pouvez saisir votre demande en ligne : Vous devez joindre (scanner) les pièces justificatives mentionnées sur le service en ligne (notamment un certificat médical). Cas Par courrier: Vous pouvez remplir un formulaire : Vous devez joindre les pièces justificatives mentionnées sur le formulaire (notamment un certificat médical). Le formulaire et les pièces justificatives doivent être envoyés à la MDPH de votre lieu de résidence. Cas Gironde (33): Vous devez remplir un formulaire : Vous devez joindre les pièces justificatives mentionnées sur le formulaire (notamment un certificat médical). Le formulaire et les pièces justificatives doivent être envoyés à la MDPH de votre lieu de résidence. Cas Landes (40): Vous devez remplir un formulaire : Vous devez joindre les pièces justificatives mentionnées sur le formulaire (notamment un certificat médical). Le formulaire et les pièces justificatives doivent être envoyés à la MDPH de votre lieu de résidence. Cas Lot-et-Garonne (47): Vous pouvez saisir votre demande en ligne ou remplir un formulaire et l'envoyer par courrier. Cas En ligne: Vous pouvez saisir votre demande en ligne : Vous devez joindre (scanner) les pièces justificatives mentionnées sur le service en ligne (notamment un certificat médical). Cas Par courrier: Vous pouvez remplir un formulaire : Vous devez joindre les pièces justificatives mentionnées sur le formulaire (notamment un certificat médical). Le formulaire et les pièces justificatives doivent être envoyés à la MDPH de votre lieu de résidence. Cas Pyrénées-Atlantiques (64): Vous pouvez saisir votre demande en ligne ou remplir un formulaire et l'envoyer par courrier. Cas En ligne: Vous pouvez saisir votre demande en ligne : Vous devez joindre (scanner) les pièces justificatives mentionnées sur le service en ligne (notamment un certificat médical). Cas Par courrier: Vous pouvez remplir un formulaire : Vous devez joindre les pièces justificatives mentionnées sur le formulaire (notamment un certificat médical). Le formulaire et les pièces justificatives doivent être envoyés à la MDPH de votre lieu de résidence. \n",
       "\n",
       "https://www.service-public.fr/particuliers/vosdroits/F14202 : Prestation de compensation du handicap (PCH) (Quelle démarche pour toucher la PCH ?)\n",
       "Cas Par courrier: Vous pouvez remplir un formulaire : Vous devez joindre les pièces justificatives mentionnées sur le formulaire (notamment un certificat médical). Le formulaire et les pièces justificatives doivent être envoyés à la MDPH de votre lieu de résidence. Cas Val-d'Oise (95): Vous devez remplir un formulaire : Vous devez joindre les pièces justificatives mentionnées sur le formulaire (notamment un certificat médical). Le formulaire et les pièces justificatives doivent être envoyés à la MDPH de votre lieu de résidence. Cas Normandie: Cas Calvados (14): Vous pouvez saisir votre demande en ligne ou remplir un formulaire et l'envoyer par courrier. Cas En ligne: Vous pouvez saisir votre demande en ligne : Vous devez joindre (scanner) les pièces justificatives mentionnées sur le service en ligne (notamment un certificat médical). Cas Par courrier: Vous pouvez remplir un formulaire : Vous devez joindre les pièces justificatives mentionnées sur le formulaire (notamment un certificat médical). Le formulaire et les pièces justificatives doivent être envoyés à la MDPH de votre lieu de résidence. Cas Eure (27): Vous pouvez saisir votre demande en ligne ou remplir un formulaire et l'envoyer par courrier. Cas En ligne: Vous pouvez saisir votre demande en ligne : Vous devez joindre (scanner) les pièces justificatives mentionnées sur le service en ligne (notamment un certificat médical). Cas Par courrier: Vous pouvez remplir un formulaire : Vous devez joindre les pièces justificatives mentionnées sur le formulaire (notamment un certificat médical). Le formulaire et les pièces justificatives doivent être envoyés à la MDPH de votre lieu de résidence. Cas Manche (50): Vous devez remplir un formulaire : Vous devez joindre les pièces justificatives mentionnées sur le formulaire (notamment un certificat médical). Le formulaire et les pièces justificatives doivent être envoyés à la MDPH de votre lieu de résidence. Cas Orne (61): Vous pouvez saisir votre demande en ligne ou remplir un formulaire et l'envoyer par courrier. Cas En ligne: Vous pouvez saisir votre demande en ligne : Vous devez joindre (scanner) les pièces justificatives mentionnées sur le service en ligne (notamment un certificat médical). Cas Par courrier: Vous pouvez remplir un formulaire : Vous devez joindre les pièces justificatives mentionnées sur le formulaire (notamment un certificat médical). Le formulaire et les pièces justificatives doivent être envoyés à la MDPH de votre lieu de résidence. Cas Seine-Maritime (76): Vous devez remplir un formulaire : Vous devez joindre les pièces justificatives mentionnées sur le formulaire (notamment un certificat médical). Le formulaire et les pièces justificatives doivent être envoyés à la MDPH de votre lieu de résidence. Cas Nouvelle-Aquitaine: Cas Charente (16): Vous devez remplir un formulaire : Vous devez joindre les pièces justificatives mentionnées sur le formulaire (notamment un certificat médical). Le formulaire et les pièces justificatives doivent être envoyés à la MDPH de votre lieu de résidence. Cas Charente-Maritime (17): Vous pouvez saisir votre demande en ligne ou remplir un formulaire et l'envoyer par courrier. \n",
       "\n",
       "Question : Quelles sont les pièces justificatives à fournir pour faire une demande de Prestation de compensation du handicap (PCH) dans le Cher (18) ?</pre></div><div style=\"width: 50%; padding:10px;\"> <div style=\"text-align:center;color:blue;\">answer</div> <pre class=\"qq\">Les pièces justificatives à fournir pour faire une demande de Prestation de compensation du handicap (PCH) dans le Cher (18) sont mentionnées sur le formulaire. L'une de ces pièces justificatives est notamment un certificat médical.</pre></div></div></div>"
      ],
      "text/plain": [
       "<IPython.core.display.HTML object>"
      ]
     },
     "metadata": {},
     "output_type": "display_data"
    },
    {
     "data": {
      "text/html": [
       "<br>"
      ],
      "text/plain": [
       "<IPython.core.display.HTML object>"
      ]
     },
     "metadata": {},
     "output_type": "display_data"
    },
    {
     "data": {
      "text/html": [
       "\n",
       "        <style>\n",
       "            .qq {\n",
       "                word-break: keep-all;\n",
       "                white-space: pre-wrap;\n",
       "            }\n",
       "        </style>\n",
       "\n",
       "        <div style=\"border:1px solid grey;padding:5px;border-radius:8px;\">\n",
       "            <div>ID: ID &nbsp Q: 4</div>\n",
       "            <h5 style=\"font-weight: bold;\">Comment calculer le montant de l'IFI à payer ?</h5>\n",
       "            <div style=\"display:flex; align-items:top;\"><div style=\"width: 50%; padding:10px;\"> <div style=\"text-align:center;color:blue;\">prompt</div> <pre class=\"qq\">Utilisez les éléments de contexte à votre disposition ci-dessous pour répondre à la question finale. Si vous ne connaissez pas la réponse, dites simplement que vous ne savez pas, n'essayez pas d'inventer une réponse.\n",
       "\n",
       "https://www.service-public.fr/particuliers/vosdroits/F138 : Calcul de l'impôt sur la fortune immobilière (IFI) (Quelles sont les réductions d'impôt ?)\n",
       "En cas de dons au profit d'organismes d'intérêt général, vous bénéficiez d'une réduction d'IFI égale à 75 % des dons réalisés, dans la limite de 50 000 €. \n",
       "\n",
       "https://www.service-public.fr/particuliers/vosdroits/F138 : \n",
       "Vous devez payer l'impôt sur la fortune immobilière (IFI) si la valeur nette de votre patrimoine immobilier excède 1 300 000 € . L'IFI est calculé en appliquant un barème progressif au patrimoine immobilier net imposable. Une décote est prévue pour les patrimoines n'excédant pas un certain seuil. L'IFI est plafonné après réductions d'impôt éventuelles. Voici une liste de différents cas possibles:\n",
       "- Quels sont les biens imposables ? - Quel est le montant de l'IFI ? - Comment s'applique la décote ? - Quelles sont les réductions d'impôt ? - Comment l'IFI est-il plafonné ? \n",
       "\n",
       "https://www.service-public.fr/particuliers/vosdroits/F138 : Calcul de l'impôt sur la fortune immobilière (IFI) (Comment l'IFI est-il plafonné ?)\n",
       "En 2023, l'IFI est plafonné en fonction du montant cumulé de vos impôts. L'impôt sur les revenus de 2022 ( prélèvements sociaux et contribution exceptionnelle sur les hauts revenus inclus) ajouté à l'IFI 2023 ne doit pas dépasser 75 % des revenus perçus en 2022. En cas de dépassement, la différence est déduite du montant de l'IFI. \n",
       "\n",
       "https://www.service-public.fr/particuliers/vosdroits/F138 : Calcul de l'impôt sur la fortune immobilière (IFI) (Quel est le montant de l'IFI ?)\n",
       "Vous pouvez estimer le montant de l'IFI que vous aurez à payer avec le simulateur suivant : L'IFI est calculé sur la valeur de votre patrimoine net taxable en appliquant le barème suivant :\n",
       "Barème de l'IFI:\n",
       "| Fraction de la valeur nette taxable du patrimoine | Taux applicable | \n",
       "| - | - | \n",
       "| Jusqu'à 800 000 € | 0 % | \n",
       "| Entre 800 001 € et 1 300 000 € | 0,50 % | \n",
       "| Entre 1 300 001 € et 2 570 000 € | 0,70 % | \n",
       "| Entre 2 570 001 € et 5 000 000 € | 1 % | \n",
       "| Entre 5 000 001 € et 10 000 000 € | 1,25 % | \n",
       "| Supérieure à 10 000 000 € | 1,50 % | \n",
       "(Attention: le seuil d’imposition à l’IFI est fixé à 1 300 000 € . Toutefois, lorsque vous êtes imposable à l’IFI, le barème est appliqué à partir de 800 000 € .) \n",
       "\n",
       "Question : Comment calculer le montant de l'IFI à payer ?</pre></div><div style=\"width: 50%; padding:10px;\"> <div style=\"text-align:center;color:blue;\">answer</div> <pre class=\"qq\">Le montant de l'IFI à payer est calculé en appliquant un barème progressif au patrimoine immobilier net imposable. Voici le barème de l'IFI :\n",
       "\n",
       "- Jusqu'à 800 000 € : taux applicable de 0%\n",
       "- Entre 800 001 € et 1 300 000 € : taux applicable de 0,50%\n",
       "- Entre 1 300 001 € et 2 570 000 € : taux applicable de 0,70%\n",
       "- Entre 2 570 001 € et 5 000 000 € : taux applicable de 1%\n",
       "- Entre 5 000 001 € et 10 000 000 € : taux applicable de 1,25%\n",
       "- Supérieure à 10 000 000 € : taux applicable de 1,50%\n",
       "\n",
       "Il est important de noter que le seuil d'imposition à l'IFI est fixé à 1 300 000 €, mais le barème est appliqué à partir de 800 000 € lorsque vous êtes imposable à l'IFI. Pour estimer le montant exact de l'IFI à payer, vous pouvez utiliser le simulateur disponible sur le site du service-public.fr.</pre></div></div></div>"
      ],
      "text/plain": [
       "<IPython.core.display.HTML object>"
      ]
     },
     "metadata": {},
     "output_type": "display_data"
    },
    {
     "data": {
      "text/html": [
       "<br>"
      ],
      "text/plain": [
       "<IPython.core.display.HTML object>"
      ]
     },
     "metadata": {},
     "output_type": "display_data"
    },
    {
     "data": {
      "text/html": [
       "\n",
       "        <style>\n",
       "            .qq {\n",
       "                word-break: keep-all;\n",
       "                white-space: pre-wrap;\n",
       "            }\n",
       "        </style>\n",
       "\n",
       "        <div style=\"border:1px solid grey;padding:5px;border-radius:8px;\">\n",
       "            <div>ID: ID &nbsp Q: 5</div>\n",
       "            <h5 style=\"font-weight: bold;\">Quelles sont les démarches à suivre pour obtenir un accord sur l'autorité parentale en cas de désaccord entre les parents ?</h5>\n",
       "            <div style=\"display:flex; align-items:top;\"><div style=\"width: 50%; padding:10px;\"> <div style=\"text-align:center;color:blue;\">prompt</div> <pre class=\"qq\">Utilisez les éléments de contexte à votre disposition ci-dessous pour répondre à la question finale. Si vous ne connaissez pas la réponse, dites simplement que vous ne savez pas, n'essayez pas d'inventer une réponse.\n",
       "\n",
       "https://www.service-public.fr/particuliers/vosdroits/F3133 : \n",
       "Vous avez un enfant commun et vous vous séparez. Vous voulez savoir qui exerce l'autorité parentale ? Quels sont vos droits et vos obligations à l'égard de l'enfant et de l'autre parent ? Vous voulez savoir comment agir en cas de difficulté ? Nous vous expliquons la procédure. Voici une liste de différents cas possibles:\n",
       "- Qui exerce l'autorité parentale ? - La séparation des parents a-t-elle un effet sur l'autorité parentale ? - Quels sont vos droits et vos obligations en cas de séparation ? - Quelles sont les démarches en cas de séparation des parents ? - Que faire en cas de difficulté avec l'autre parent ? - L'autorité parentale peut-elle être retirée ? \n",
       "\n",
       "https://www.service-public.fr/particuliers/vosdroits/F3133 : Autorité parentale en cas de séparation des parents (Qui exerce l'autorité parentale ?)\n",
       "Les 2 parents exercent l'autorité parentale en commun. Quand un enfant est reconnu par un seul parent, celui-ci exerce seul l'autorité parentale. Même si vous ne vivez plus ensemble (divorce, fin du concubinage, dissolution du Pacs), vous continuez à avoir des droits et des devoirs envers votre enfant. \n",
       "\n",
       "https://www.service-public.fr/particuliers/vosdroits/F3133 : Autorité parentale en cas de séparation des parents (Quels sont vos droits et vos obligations en cas de séparation ?)\n",
       "Malgré votre séparation, vous devez communiquer entre vous et prendre ensemble des décisions concernant votre enfant. Vous devez décider ensemble du lien d'habitation de votre enfant, des modalités d'exercice du droit de visite et/ou d'hébergement, du versement d'une pension alimentaire, etc. Au cours de la vie de votre enfant, vous devez prendre des décisions concernant sa santé, son éducation, sa scolarité, son nom, ses choix religieux, un déménagement, etc. Pour les actes usuels (visite chez le médecin, autorisation de sortie scolaire...), l'autorisation de l'autre parent n'est pas obligatoire. Vous devez toutefois l'informer ou en être informé par tous moyens (courrier, appel téléphonique, courriel...). Cette information permet au parent qui s'y oppose d'agir éventuellement en justice. \n",
       "\n",
       "https://www.service-public.fr/particuliers/vosdroits/F3133 : Autorité parentale en cas de séparation des parents (La séparation des parents a-t-elle un effet sur l'autorité parentale ?)\n",
       "Votre séparation avec l'autre parent est sans incidence sur l'exercice de l' autorité parentale. Chacun des parents doit maintenir des relations personnelles avec l'enfant et respecter les liens de celui-ci avec l'autre parent. Chacun des parent a les mêmes droits et les mêmes obligations à l'égard de l'enfant. \n",
       "\n",
       "Question : Quelles sont les démarches à suivre pour obtenir un accord sur l'autorité parentale en cas de désaccord entre les parents ?</pre></div><div style=\"width: 50%; padding:10px;\"> <div style=\"text-align:center;color:blue;\">answer</div> <pre class=\"qq\">Les démarches à suivre pour obtenir un accord sur l'autorité parentale en cas de désaccord entre les parents peuvent varier en fonction de la situation spécifique et des lois du pays concerné. Cependant, généralement, il est recommandé aux parents de chercher à résoudre leurs différends par le biais de la médiation familiale ou de consulter un avocat spécialisé en droit de la famille pour obtenir des conseils juridiques. Si les parents ne parviennent toujours pas à un accord, ils peuvent également saisir le tribunal compétent pour régler le litige et prendre une décision concernant l'autorité parentale.</pre></div></div></div>"
      ],
      "text/plain": [
       "<IPython.core.display.HTML object>"
      ]
     },
     "metadata": {},
     "output_type": "display_data"
    },
    {
     "data": {
      "text/html": [
       "<br>"
      ],
      "text/plain": [
       "<IPython.core.display.HTML object>"
      ]
     },
     "metadata": {},
     "output_type": "display_data"
    },
    {
     "data": {
      "text/html": [
       "\n",
       "        <style>\n",
       "            .qq {\n",
       "                word-break: keep-all;\n",
       "                white-space: pre-wrap;\n",
       "            }\n",
       "        </style>\n",
       "\n",
       "        <div style=\"border:1px solid grey;padding:5px;border-radius:8px;\">\n",
       "            <div>ID: ID &nbsp Q: 6</div>\n",
       "            <h5 style=\"font-weight: bold;\">Quelles démarches doit-on effectuer pour enregistrer une marque et bénéficier d'une protection juridique pour son nom ?</h5>\n",
       "            <div style=\"display:flex; align-items:top;\"><div style=\"width: 50%; padding:10px;\"> <div style=\"text-align:center;color:blue;\">prompt</div> <pre class=\"qq\">Utilisez les éléments de contexte à votre disposition ci-dessous pour répondre à la question finale. Si vous ne connaissez pas la réponse, dites simplement que vous ne savez pas, n'essayez pas d'inventer une réponse.\n",
       "\n",
       "https://www.service-public.fr/particuliers/vosdroits/F31493 : \n",
       "En principe, la protection du nom d'une association n'est pas nécessaire y compris lorsque le nom est original (protection automatique). Il n'est pas obligatoire de protéger le nom ou le sigle d'une association, car il est protégé automatiquement par un droit d'usage pour l'activité déclarée en préfecture. Une association peut utiliser un nom qui n'est ni protégé, ni original (à la condition de ne pas créer de risque de confusion avec le nom d'une autre personne physique ou morale ). L'association, qui dispose d'un nom original, bénéficie d'un droit de propriété exclusif sur ce nom. Cependant, si l'association a une activité économique et que son nom est celui sous lequel elle commercialise ses produits ou services, elle peut le protéger en les faisant enregistrer comme marque protégée auprès de l' Inpi. Cette demande s'effectue via un téléservice. Le dépôt d'une marque est payant. Son coût dépend du nombre de classes sélectionnées pour couvrir les produits et les services. \n",
       "\n",
       "https://www.service-public.fr/particuliers/vosdroits/F3049 : \n",
       "Vous êtes en conflit avec un voisin, vous avez un litige avec un commerçant ou vous voulez avoir des renseignements sur les différentes procédures de divorce ? La garantie protection juridique peut vous être utile. C'est une assurance qui permet de bénéficier d'un conseil juridique ou de l'assistance d'un avocat dans une procédure judiciaire. Cette assurance est parfois proposée avec l'assurance auto ou l'assurance habitation, mais vous pouvez aussi la souscrire directement. Voici une liste de différents cas possibles:\n",
       "- De quoi s'agit-il ? - Comment souscrire ? - Coût\n",
       "- Cas d'intervention de la garantie \n",
       "\n",
       "https://www.service-public.fr/particuliers/vosdroits/F31218 : Retirer un nom de la carte grise (Véhicule en leasing)\n",
       "C'est le propriétaire (organisme financier ou prêteur) qui doit se charger des formalités de modification de la carte grise. Vous devez lui transmettre les documents nécessaires. Contactez-le pour en connaître le détail. \n",
       "\n",
       "https://www.service-public.fr/particuliers/vosdroits/F2416 : \n",
       "Vous envisagez de transformer un bureau ou un commerce en logement. Vous vous interrogez sur les démarches à effectuer. Devez-vous contacter les services de l'urbanisme et du cadastre ? Si votre local est en copropriété, avez-vous des démarches à faire ? Nous faisons le point sur la réglementation. (Attention: Si vous avez l'intention de louer le futur logement, vous devez respecter les caractéristiques de décence .) Voici une liste de différents cas possibles:\n",
       "- Quelles sont les démarches d'urbanisme à effectuer ? - Quelles sont les démarches à effectuer auprès du cadastre ? - Quelles sont les démarches à effectuer si le local est en copropriété ? \n",
       "\n",
       "Question : Quelles démarches doit-on effectuer pour enregistrer une marque et bénéficier d'une protection juridique pour son nom ?</pre></div><div style=\"width: 50%; padding:10px;\"> <div style=\"text-align:center;color:blue;\">answer</div> <pre class=\"qq\">Pour enregistrer une marque et bénéficier d'une protection juridique pour son nom, il faut effectuer les démarches suivantes :\n",
       "\n",
       "1. Pour l'enregistrement de la marque :\n",
       "   - Faire une demande d'enregistrement de la marque auprès de l'Inpi (Institut national de la propriété industrielle) via un téléservice.\n",
       "   - Payer les frais de dépôt de la marque, dont le montant dépend du nombre de classes sélectionnées pour couvrir les produits et les services.\n",
       "\n",
       "2. Pour bénéficier d'une protection juridique pour son nom :\n",
       "   - Souscrire à une garantie protection juridique, qui est une assurance permettant de bénéficier d'un conseil juridique ou de l'assistance d'un avocat dans une procédure judiciaire.\n",
       "   - La garantie protection juridique peut être proposée avec l'assurance auto ou l'assurance habitation, mais il est également possible de la souscrire directement.\n",
       "\n",
       "Il est important de noter que la protection automatique du nom d'une association ne nécessite pas d'enregistrement de marque, sauf si l'association a une activité économique et commercialise ses produits ou services sous ce nom.</pre></div></div></div>"
      ],
      "text/plain": [
       "<IPython.core.display.HTML object>"
      ]
     },
     "metadata": {},
     "output_type": "display_data"
    },
    {
     "data": {
      "text/html": [
       "<br>"
      ],
      "text/plain": [
       "<IPython.core.display.HTML object>"
      ]
     },
     "metadata": {},
     "output_type": "display_data"
    },
    {
     "data": {
      "text/html": [
       "\n",
       "        <style>\n",
       "            .qq {\n",
       "                word-break: keep-all;\n",
       "                white-space: pre-wrap;\n",
       "            }\n",
       "        </style>\n",
       "\n",
       "        <div style=\"border:1px solid grey;padding:5px;border-radius:8px;\">\n",
       "            <div>ID: ID &nbsp Q: 7</div>\n",
       "            <h5 style=\"font-weight: bold;\">Quels sont les droits et les obligations des employés en ce qui concerne les congés annuels, les congés de maternité, les congés de paternité et les congés pour raison de santé?</h5>\n",
       "            <div style=\"display:flex; align-items:top;\"><div style=\"width: 50%; padding:10px;\"> <div style=\"text-align:center;color:blue;\">prompt</div> <pre class=\"qq\">Utilisez les éléments de contexte à votre disposition ci-dessous pour répondre à la question finale. Si vous ne connaissez pas la réponse, dites simplement que vous ne savez pas, n'essayez pas d'inventer une réponse.\n",
       "\n",
       "https://www.service-public.fr/particuliers/vosdroits/F34154 : \n",
       "Vous êtes salarié et vous vous mariez ou vous vous pacsez ? Nous vous présentons vos droits en matière de congés. Voici une liste de différents cas possibles:\n",
       "- Qui peut bénéficier d'un congé pour mariage ou Pacs ? - Existe-t-il une condition d'ancienneté pour bénéficier du congé pour mariage ou Pacs ? - Quelle est la durée du congé pour un Pacs ? - Quelle est la durée du congé pour un mariage ? - Comment prendre un congé à la suite d'un Pacs ou d'un mariage ? - Êtes-vous rémunéré durant votre congé pour mariage ou Pacs ? \n",
       "\n",
       "https://www.service-public.fr/particuliers/vosdroits/F2258 : \n",
       "Avez-vous droit à des congés payés pendant votre contrat de travail ? Quelle est la durée de vos congés payés ? Quand pouvez-vous prendre vos congés payés ? Qui fixe la date de départ des congés payés ? Pouvez-vous prendre vos congés payés en plusieurs fois ? Comment êtes-vous payé pendant vos congés payés ? Nous vous expliquons vos droits et vos obligations. Voici une liste de différents cas possibles:\n",
       "- Qui a droit aux congés payés ? - Comment savoir à combien de jours de congés payés vous avez droit ? - Quelle est la période prise en compte pour déterminer le nombre de jours de congés payés ? - Pouvez-vous bénéficier de jours supplémentaires de congés payés ? - À quelle période pouvez-vous prendre vos congés payés ? - Combien de jours de congés payés pouvez-vous poser en une seule fois ? - Qui fixe la date des départs en congés payés ? - Qui fixe l'ordre des départs en congés payés ? - Pouvez-vous prendre vos jours de congés payés de manière fractionnée ? - Pouvez-vous travailler pendant vos jours de congés payés ? - Êtes-vous rémunéré pendant vos jours de congés payés ? \n",
       "\n",
       "https://www.service-public.fr/particuliers/vosdroits/F34902 : Quels sont les différents congés d'une assistante maternelle ? (L'assistante maternelle a-t-elle droit à congés pour maladie, handicap ou dépendance d'un membre de la famille ?)\n",
       "L'assistante maternelle employée par un particulier employeur a droit aux mêmes congés que tout autre salarié :\n",
       "- Congé pour enfant malade\n",
       "- Congé de présence parentale\n",
       "- Congé de proche aidant\n",
       "- Congé de solidarité familiale\n",
       "- Survenue du handicap d'un enfant \n",
       "\n",
       "https://www.service-public.fr/particuliers/vosdroits/F21050 : Quels sont les droits du salarié dont le contrat de travail est suspendu ? (Pouvez-vous acquérir de nouveaux droits aux congés payés pendant la suspension de votre contrat de travail ?)\n",
       "La période de suspension est prise en compte pour le calcul des congés payés pendant :\n",
       "- Un congé de formation\n",
       "- Un congé de maternité\n",
       "- Un congé de paternité et d'accueil de l'enfant\n",
       "- Un congé d'adoption\n",
       "- Un congé lié au compte épargne-temps (CET)\n",
       "- Un congé pour événements familiaux\n",
       "- Un arrêt de travail à la suite d'un accident du travail, de trajet ou d'une maladie professionnelle \n",
       "\n",
       "Question : Quels sont les droits et les obligations des employés en ce qui concerne les congés annuels, les congés de maternité, les congés de paternité et les congés pour raison de santé?</pre></div><div style=\"width: 50%; padding:10px;\"> <div style=\"text-align:center;color:blue;\">answer</div> <pre class=\"qq\">Les droits et obligations des employés en ce qui concerne les congés annuels, les congés de maternité, les congés de paternité et les congés pour raison de santé sont les suivants :\n",
       "\n",
       "Congés annuels :\n",
       "- Tous les salariés ont droit à des congés payés pendant leur contrat de travail.\n",
       "- La durée des congés payés dépend du nombre de jours acquis par le salarié.\n",
       "- Les congés payés peuvent être pris à une période déterminée, en accord avec l'employeur.\n",
       "- L'employeur fixe la date de départ des congés payés.\n",
       "- Les congés payés peuvent être pris en plusieurs fois.\n",
       "- Le salarié est rémunéré pendant ses congés payés.\n",
       "\n",
       "Congés de maternité :\n",
       "- Les salariées ont droit à un congé de maternité.\n",
       "- La durée du congé de maternité varie en fonction de la situation de la salariée.\n",
       "- Pendant le congé de maternité, la salariée peut bénéficier d'indemnités journalières de la sécurité sociale.\n",
       "\n",
       "Congés de paternité :\n",
       "- Les salariés ont droit à un congé de paternité et d'accueil de l'enfant.\n",
       "- La durée du congé de paternité est fixée par la loi.\n",
       "- Pendant le congé de paternité, le salarié peut bénéficier d'indemnités journalières de la sécurité sociale.\n",
       "\n",
       "Congés pour raison de santé :\n",
       "- Les salariés peuvent bénéficier de congés pour maladie, handicap ou dépendance d'un membre de la famille.\n",
       "- La durée des congés pour raison de santé dépend de la situation du salarié.\n",
       "- Pendant les congés pour raison de santé, le salarié peut bénéficier d'indemnités journalières de la sécurité sociale.\n",
       "\n",
       "Il est important de noter que ces informations sont basées sur les éléments de contexte fournis et peuvent varier en fonction de la législation spécifique à chaque pays.</pre></div></div></div>"
      ],
      "text/plain": [
       "<IPython.core.display.HTML object>"
      ]
     },
     "metadata": {},
     "output_type": "display_data"
    },
    {
     "data": {
      "text/html": [
       "<br>"
      ],
      "text/plain": [
       "<IPython.core.display.HTML object>"
      ]
     },
     "metadata": {},
     "output_type": "display_data"
    },
    {
     "data": {
      "text/html": [
       "\n",
       "        <style>\n",
       "            .qq {\n",
       "                word-break: keep-all;\n",
       "                white-space: pre-wrap;\n",
       "            }\n",
       "        </style>\n",
       "\n",
       "        <div style=\"border:1px solid grey;padding:5px;border-radius:8px;\">\n",
       "            <div>ID: ID &nbsp Q: 8</div>\n",
       "            <h5 style=\"font-weight: bold;\">Comment se déroule la concertation et le vote lors d'une assemblée générale de copropriétaires ?</h5>\n",
       "            <div style=\"display:flex; align-items:top;\"><div style=\"width: 50%; padding:10px;\"> <div style=\"text-align:center;color:blue;\">prompt</div> <pre class=\"qq\">Utilisez les éléments de contexte à votre disposition ci-dessous pour répondre à la question finale. Si vous ne connaissez pas la réponse, dites simplement que vous ne savez pas, n'essayez pas d'inventer une réponse.\n",
       "\n",
       "https://www.service-public.fr/particuliers/vosdroits/F2619 : Déroulement d'une assemblée générale des copropriétaires (Qui participe ?)\n",
       "- Copropriétaires qui souhaitent être présents (ou leur mandataire s'ils sont représentés)\n",
       "- Syndic de copropriété (c'est lui qui assure le secrétariat de la séance sauf décision contraire de l'AG)\n",
       "- Président\n",
       "- Éventuellement 1 ou plusieurs scrutateurs désignés à la majorité simple en début de séance parmi les copropriétaires\n",
       "- Éventuellement 1 ou plusieurs observateurs extérieurs \n",
       "\n",
       "https://www.service-public.fr/particuliers/vosdroits/F2137 : \n",
       "Les règles de vote en assemblée générale de copropriété diffèrent selon la nature des questions mises à l'ordre du jour. Voici une liste de différents cas possibles:\n",
       "- Résolution portant sur les organes de la copropriété\n",
       "- Résolution portant sur les documents de la copropriété\n",
       "- Résolution portant sur les charges de copropriété\n",
       "- Résolution portant sur les travaux et les équipements\n",
       "- Résolution portant sur la sécurité de l'immeuble\n",
       "- Résolution portant sur les actes de disposition (vente...) et d'acquisition \n",
       "\n",
       "https://www.service-public.fr/particuliers/vosdroits/F2619 : Déroulement d'une assemblée générale des copropriétaires (Où a lieu l'assemblée générale ?)\n",
       "En principe, l'AG se réunit dans la commune où l'immeuble est situé. Le règlement de copropriété peut prévoir un lieu différent. \n",
       "\n",
       "https://www.service-public.fr/particuliers/vosdroits/F2137 : Quelles sont les règles de vote en assemblée générale de copropriété ? (Résolution portant sur les travaux et les équipements)\n",
       "Les abstentionnistes ne sont donc pas pris en compte. La majorité absolue (dite majorité de l'article 25 ) correspond à la majorité des voix de tous les copropriétaires de l'immeuble (présents, représentés et absents). Si la décision a reçu au moins 1⁄3 des voix, elle peut faire l'objet d'un 2 nd vote à la majorité simple de l'article 24 (majorité des voix des copropriétaires présents, représentés ou ayant voté par correspondance). \n",
       "\n",
       "Question : Comment se déroule la concertation et le vote lors d'une assemblée générale de copropriétaires ?</pre></div><div style=\"width: 50%; padding:10px;\"> <div style=\"text-align:center;color:blue;\">answer</div> <pre class=\"qq\">Lors d'une assemblée générale de copropriétaires, la concertation et le vote se déroulent de la manière suivante :\n",
       "\n",
       "1. Les copropriétaires qui souhaitent être présents, ainsi que leurs mandataires s'ils sont représentés, participent à l'assemblée générale.\n",
       "\n",
       "2. Le syndic de copropriété assure le secrétariat de la séance, sauf si l'assemblée générale décide autrement.\n",
       "\n",
       "3. Un président est désigné pour diriger la séance.\n",
       "\n",
       "4. Au début de la séance, un ou plusieurs scrutateurs sont désignés à la majorité simple parmi les copropriétaires présents.\n",
       "\n",
       "5. Il peut également y avoir des observateurs extérieurs.\n",
       "\n",
       "6. Les règles de vote diffèrent selon la nature des questions mises à l'ordre du jour. Différents cas possibles incluent les résolutions portant sur les organes de la copropriété, les documents de la copropriété, les charges de copropriété, les travaux et les équipements, la sécurité de l'immeuble, ainsi que les actes de disposition (vente, acquisition, etc.).\n",
       "\n",
       "7. Pour les résolutions portant sur les travaux et les équipements, les abstentionnistes ne sont pas pris en compte. La majorité absolue (majorité de l'article 25) correspond à la majorité des voix de tous les copropriétaires de l'immeuble (présents, représentés et absents). Si la décision a reçu au moins 1/3 des voix, elle peut faire l'objet d'un deuxième vote à la majorité simple de l'article 24 (majorité des voix des copropriétaires présents, représentés ou ayant voté par correspondance).\n",
       "\n",
       "Lieu de l'assemblée générale :\n",
       "En principe, l'assemblée générale se réunit dans la commune où l'immeuble est situé, sauf si le règlement de copropriété prévoit un lieu différent.</pre></div></div></div>"
      ],
      "text/plain": [
       "<IPython.core.display.HTML object>"
      ]
     },
     "metadata": {},
     "output_type": "display_data"
    },
    {
     "data": {
      "text/html": [
       "<br>"
      ],
      "text/plain": [
       "<IPython.core.display.HTML object>"
      ]
     },
     "metadata": {},
     "output_type": "display_data"
    },
    {
     "data": {
      "text/html": [
       "\n",
       "        <style>\n",
       "            .qq {\n",
       "                word-break: keep-all;\n",
       "                white-space: pre-wrap;\n",
       "            }\n",
       "        </style>\n",
       "\n",
       "        <div style=\"border:1px solid grey;padding:5px;border-radius:8px;\">\n",
       "            <div>ID: ID &nbsp Q: 9</div>\n",
       "            <h5 style=\"font-weight: bold;\">Qu'est-ce que le permis modificatif et quand est-il nécessaire ?</h5>\n",
       "            <div style=\"display:flex; align-items:top;\"><div style=\"width: 50%; padding:10px;\"> <div style=\"text-align:center;color:blue;\">prompt</div> <pre class=\"qq\">Utilisez les éléments de contexte à votre disposition ci-dessous pour répondre à la question finale. Si vous ne connaissez pas la réponse, dites simplement que vous ne savez pas, n'essayez pas d'inventer une réponse.\n",
       "\n",
       "https://www.service-public.fr/particuliers/vosdroits/F19450 : \n",
       "Vous avez obtenu un permis de construire ou d'aménager pour réaliser des travaux et vous souhaitez y apporter de petites modifications ? Vous pouvez le faire en déposant un permis modificatif. Le permis modificatif ne constitue pas un nouveau permis. Si les travaux sont plus importants, vous devez déposer un nouveau dossier de demande de permis de construire. Nous vous expliquons comment déposer un permis modificatif. Voici une liste de différents cas possibles:\n",
       "- Vérifier si vos travaux sont concernés par un permis modificatif\n",
       "- Remplir votre demande de permis modificatif\n",
       "- Transmettre le dossier de permis modificatif\n",
       "- Connaître le délai d'instruction de votre permis modificatif\n",
       "- Recevoir la décision de permis modificatif\n",
       "- Afficher votre permis modificatif sur le terrain\n",
       "- Faire un recours en cas de refus ou de sursis à statuer\n",
       "- Connaitre le délai de validité de votre permis modificatif\n",
       "- Demander une prolongation de votre permis modificatif\n",
       "- Déclarer l'achèvement de vos travaux \n",
       "\n",
       "https://www.service-public.fr/particuliers/vosdroits/F19450 : Permis modificatif d'un permis de construire ou d'aménager (Vérifier si vos travaux sont concernés par un permis modificatif)\n",
       "Vos travaux sont concernés par un permis modificatif si vous remplissez les 2 conditions cumulatives suivantes :\n",
       "- Avoir un permis de construire ou un permis d'aménager en cours de validité\n",
       "- Les modifications envisagées ne changent pas la nature de votre projet \n",
       "\n",
       "https://www.service-public.fr/particuliers/vosdroits/F19450 : Permis modificatif d'un permis de construire ou d'aménager (Connaitre le délai de validité de votre permis modificatif)\n",
       "La durée de validité de l'autorisation initiale est conservée sans être augmentée. Aussi, votre permis de construire ou d'aménager a une durée de validité de 3 ans. (À noter: Votre permis modificatif est périmé si vous n'avez pas commencé les travaux dans les 3 ans ou si, passé ce délai, vous les interrompez plus d'1 an.) \n",
       "\n",
       "https://www.service-public.fr/particuliers/vosdroits/F19450 : Permis modificatif d'un permis de construire ou d'aménager (Afficher votre permis modificatif sur le terrain)\n",
       "Une fois votre permis modificatif accepté, son affichage sur le terrain est obligatoire. L'affichage doit rester en place pendant toute la durée du chantier et être visible de l'extérieur. Les renseignements figurant sur votre panneau d'affichage doivent être lisibles de la voie publique ou des espaces ouverts au public. Durant 2 mois à partir du 1 er jour d'affichage sur le terrain, vos voisins peuvent contester le permis modificatif qui vous a été accordé. Ils font alors un recours gracieux auprès du maire qui a délivré l'autorisation. (À noter: l'affichage du permis modificatif ouvre le délai de recours mais uniquement sur le permis modificatif et non sur tout le projet.) \n",
       "\n",
       "Question : Qu'est-ce que le permis modificatif et quand est-il nécessaire ?</pre></div><div style=\"width: 50%; padding:10px;\"> <div style=\"text-align:center;color:blue;\">answer</div> <pre class=\"qq\">Le permis modificatif est un document qui permet d'apporter de petites modifications à un permis de construire ou d'aménager en cours de validité, sans avoir à déposer un nouveau dossier de demande. Il est nécessaire lorsque les modifications envisagées ne changent pas la nature du projet initial et que le permis de construire ou d'aménager est toujours valide.</pre></div></div></div>"
      ],
      "text/plain": [
       "<IPython.core.display.HTML object>"
      ]
     },
     "metadata": {},
     "output_type": "display_data"
    },
    {
     "data": {
      "text/html": [
       "<br>"
      ],
      "text/plain": [
       "<IPython.core.display.HTML object>"
      ]
     },
     "metadata": {},
     "output_type": "display_data"
    },
    {
     "data": {
      "text/html": [
       "\n",
       "        <style>\n",
       "            .qq {\n",
       "                word-break: keep-all;\n",
       "                white-space: pre-wrap;\n",
       "            }\n",
       "        </style>\n",
       "\n",
       "        <div style=\"border:1px solid grey;padding:5px;border-radius:8px;\">\n",
       "            <div>ID: ID &nbsp Q: 10</div>\n",
       "            <h5 style=\"font-weight: bold;\">Comment se déroule le processus de rupture libre pour les concubins en termes de partage des biens matériels ?</h5>\n",
       "            <div style=\"display:flex; align-items:top;\"><div style=\"width: 50%; padding:10px;\"> <div style=\"text-align:center;color:blue;\">prompt</div> <pre class=\"qq\">Utilisez les éléments de contexte à votre disposition ci-dessous pour répondre à la question finale. Si vous ne connaissez pas la réponse, dites simplement que vous ne savez pas, n'essayez pas d'inventer une réponse.\n",
       "\n",
       "https://www.service-public.fr/particuliers/vosdroits/F18766 : Séparation des concubins (À l'amiable)\n",
       "L'union libre implique la rupture libre. Chacun de vous 2 concubins peut, à tout moment, reprendre sa liberté. Si vous acceptez tous les 2 la rupture et ses conséquences, aucune règle ne vous est imposée. Pour tout ce qui est commun, vous devez organiser votre séparation dans les domaines suivants :\n",
       "- Biens matériels (répartition des meubles, voiture)\n",
       "- Famille (garde ou résidence des enfants)\n",
       "- Patrimoine (vente d'un bien immobilier)\n",
       "La rupture peut se faire sans l'intervention d'un juge. \n",
       "\n",
       "https://www.service-public.fr/particuliers/vosdroits/F36328 : Divorce : quelles sont les règles de partage des biens des époux ? (Communauté > Meubles)\n",
       "Chacun des ex-époux reprend ses meubles si ce sont des biens propres. Les affaires strictement personnelles (vêtements, papiers, souvenirs de famille) et les cadeaux sont repris par l'époux à qui ils appartiennent. Les instruments de travail sont également repris par l'époux concerné. Les meubles communs doivent être partagés par moitié, en nature (un meuble pour un meuble) ou en valeur (le prix du meuble). Les meubles se partagent en général en lots. L'époux qui reçoit davantage en valeur doit dédommager l'autre. \n",
       "\n",
       "https://www.service-public.fr/particuliers/vosdroits/F36328 : Divorce : quelles sont les règles de partage des biens des époux ? (Séparation de biens > Partage des biens indivis > Biens mobiliers)\n",
       "Un bien mobilier est indivis si aucun des ex-époux ne peut en prouver la propriété exclusive ou s'ils l'ont acheté ensemble. Il est considéré comme appartenant aux 2 ex-époux par moitié. Le bien (véhicule, meuble, bijou,...) indivis peut être conservé par un des ex-époux à charge pour lui de dédommager financièrement l'autre ex-époux. Si le bien est vendu, la somme d'argent doit être partagée entre les ex-époux. Le couple doit s'entendre sur une répartition des biens (si besoin avec compensation financière). \n",
       "\n",
       "https://www.service-public.fr/particuliers/vosdroits/F18766 : Séparation des concubins (Désaccord)\n",
       "Sort des enfants: Si vous avez des enfants communs, vous pouvez soumettre au juge aux affaires familiales (Jaf) les problèmes suivants :\n",
       "- Résidence des enfants\n",
       "- Droit de visite et d'hébergement\n",
       "- Pension alimentaire\n",
       "Vous devez saisir le Jaf. Vous pouvez utiliser le formulaire suivant : Le recours à un avocat n'est pas obligatoire. Rupture abusive: Rompre un concubinage n'est pas une faute. Toutefois, la faute peut découler des circonstances de la rupture, par exemple du fait de sa brutalité. Si vous avez été lésé, vous devez prouver la faute. En cas de rupture abusive, une indemnité peut vous être accordée par décision de justice. Vous devez saisir le tribunal judiciaire. Enrichissement d'un concubin: Si vous avez travaillé pour votre concubin sans rémunération, celui-ci s'est enrichi à votre détriment. Vous pouvez demander le versement d'une indemnité. Elle sera fondée sur l'enrichissement injustifié. Vous devez saisir le tribunal judiciaire. \n",
       "\n",
       "Question : Comment se déroule le processus de rupture libre pour les concubins en termes de partage des biens matériels ?</pre></div><div style=\"width: 50%; padding:10px;\"> <div style=\"text-align:center;color:blue;\">answer</div> <pre class=\"qq\">Le processus de rupture libre pour les concubins en termes de partage des biens matériels se fait sans l'intervention d'un juge. Les concubins doivent organiser leur séparation et décider de la répartition des biens matériels tels que les meubles et la voiture entre eux. Aucune règle ne leur est imposée, ils doivent donc trouver un accord mutuel concernant la répartition des biens.</pre></div></div></div>"
      ],
      "text/plain": [
       "<IPython.core.display.HTML object>"
      ]
     },
     "metadata": {},
     "output_type": "display_data"
    },
    {
     "data": {
      "text/html": [
       "<br>"
      ],
      "text/plain": [
       "<IPython.core.display.HTML object>"
      ]
     },
     "metadata": {},
     "output_type": "display_data"
    },
    {
     "data": {
      "text/html": [
       "\n",
       "        <style>\n",
       "            .qq {\n",
       "                word-break: keep-all;\n",
       "                white-space: pre-wrap;\n",
       "            }\n",
       "        </style>\n",
       "\n",
       "        <div style=\"border:1px solid grey;padding:5px;border-radius:8px;\">\n",
       "            <div>ID: ID &nbsp Q: 11</div>\n",
       "            <h5 style=\"font-weight: bold;\">Quelles sont les conséquences juridiques de la séparation de corps pour un couple marié en termes de biens et d'obligations du mariage ?</h5>\n",
       "            <div style=\"display:flex; align-items:top;\"><div style=\"width: 50%; padding:10px;\"> <div style=\"text-align:center;color:blue;\">prompt</div> <pre class=\"qq\">Utilisez les éléments de contexte à votre disposition ci-dessous pour répondre à la question finale. Si vous ne connaissez pas la réponse, dites simplement que vous ne savez pas, n'essayez pas d'inventer une réponse.\n",
       "\n",
       "https://www.service-public.fr/particuliers/vosdroits/F980 : Séparation de corps (Séparation devant le juge > Conséquences de la séparation de corps > Cessation du devoir de cohabitation)\n",
       "Les époux restent mariés, mais sont autorisés à ne plus vivre ensemble. \n",
       "\n",
       "https://www.service-public.fr/particuliers/vosdroits/F980 : Séparation de corps (Consentement mutuel > Conséquences de la séparation de corps > Cessation du devoir de cohabitation)\n",
       "Les époux restent mariés, mais ils sont autorisés à ne plus vivre ensemble. \n",
       "\n",
       "https://www.service-public.fr/particuliers/vosdroits/F980 : Séparation de corps (Consentement mutuel > Qui est concerné ?)\n",
       "La séparation de corps concerne uniquement les couples mariés et quel que soit leur régime matrimonial (régime de la communauté réduite aux acquêts, régime de séparation etc. ). \n",
       "\n",
       "https://www.service-public.fr/particuliers/vosdroits/F980 : Séparation de corps (Séparation devant le juge > Conséquences de la séparation de corps > Maintien des obligations liées au mariage)\n",
       "Les autres obligations nées du mariage subsistent, notamment le devoir de fidélité, de secours et d'assistance. Par conséquent, les époux ne peuvent pas se marier ou conclure un Pacs. \n",
       "\n",
       "Question : Quelles sont les conséquences juridiques de la séparation de corps pour un couple marié en termes de biens et d'obligations du mariage ?</pre></div><div style=\"width: 50%; padding:10px;\"> <div style=\"text-align:center;color:blue;\">answer</div> <pre class=\"qq\">Les conséquences juridiques de la séparation de corps pour un couple marié en termes de biens et d'obligations du mariage sont les suivantes :\n",
       "\n",
       "- Les époux restent mariés, mais sont autorisés à ne plus vivre ensemble.\n",
       "- Les autres obligations nées du mariage subsistent, notamment le devoir de fidélité, de secours et d'assistance.\n",
       "- Les époux ne peuvent pas se marier ou conclure un Pacs.\n",
       "- Les biens du couple restent régis par leur régime matrimonial en vigueur (régime de la communauté réduite aux acquêts, régime de séparation, etc.).</pre></div></div></div>"
      ],
      "text/plain": [
       "<IPython.core.display.HTML object>"
      ]
     },
     "metadata": {},
     "output_type": "display_data"
    },
    {
     "data": {
      "text/html": [
       "<br>"
      ],
      "text/plain": [
       "<IPython.core.display.HTML object>"
      ]
     },
     "metadata": {},
     "output_type": "display_data"
    },
    {
     "data": {
      "text/html": [
       "\n",
       "        <style>\n",
       "            .qq {\n",
       "                word-break: keep-all;\n",
       "                white-space: pre-wrap;\n",
       "            }\n",
       "        </style>\n",
       "\n",
       "        <div style=\"border:1px solid grey;padding:5px;border-radius:8px;\">\n",
       "            <div>ID: ID &nbsp Q: 12</div>\n",
       "            <h5 style=\"font-weight: bold;\">Quels sont les services proposés par la CNSA en matière d'aide aux personnes en situation de handicap ?</h5>\n",
       "            <div style=\"display:flex; align-items:top;\"><div style=\"width: 50%; padding:10px;\"> <div style=\"text-align:center;color:blue;\">prompt</div> <pre class=\"qq\">Utilisez les éléments de contexte à votre disposition ci-dessous pour répondre à la question finale. Si vous ne connaissez pas la réponse, dites simplement que vous ne savez pas, n'essayez pas d'inventer une réponse.\n",
       "\n",
       "https://www.service-public.fr/particuliers/vosdroits/F31029 : \n",
       "Plusieurs dispositifs sont mis en place pour aider les adultes en situation de handicap dans leur vie quotidienne (logement, transport, travail ...). Pour en bénéficier, le handicap doit avoir été diagnostiqué par un professionnel de santé (généraliste, psychiatre...). Une fois ce diagnostic établi, il faut prendre contact avec une maison départementale des personnes handicapées (MDPH). Elle est chargée d'accompagner la personne handicapée dans ses démarches. Voici une liste de différents cas possibles:\n",
       "- Aides financières\n",
       "- Logement\n",
       "- Soins\n",
       "- Travail et formation professionnelle\n",
       "- Transport\n",
       "- Retraite \n",
       "\n",
       "https://www.service-public.fr/particuliers/vosdroits/F2326 : Étudiant en situation de handicap (Quelles solutions pour vous loger ?)\n",
       "Les centres régionaux des œuvres universitaires et scolaires (Crous) ont mis en place des référents pour vous aider à accéder à un logement spécialement aménagé. Renseignez-vous directement auprès de votre Crous de rattachement : \n",
       "\n",
       "https://www.service-public.fr/particuliers/vosdroits/F2326 : \n",
       "Vous êtes étudiant en situation de handicap et vous vous posez des questions sur le déroulement de votre scolarité dans l' enseignement supérieur ? Accueil dans l'établissement, transport, aides financières...Voici les informations utiles sur le sujet. Voici une liste de différents cas possibles:\n",
       "- Comment votre établissement vous accueille-t-il ? - Vos transports peuvent-ils être financés ? - Quelles solutions pour vous loger ? - Quelles solutions pour vous restaurer ? - De quelles aides financières pouvez-vous bénéficier ? - Stage en entreprise : quel accompagnement ? - Alternance : quel accompagnement ? - Quelles solutions pour assurer le suivi de votre santé ? - En quoi consiste l'accompagnement par un assistant d'éducation ? - Comment suivre vos enseignements à distance ? \n",
       "\n",
       "https://www.service-public.fr/particuliers/vosdroits/F2326 : Étudiant en situation de handicap (En quoi consiste l'accompagnement par un assistant d'éducation ?)\n",
       "Si une aide vous a été reconnue nécessaire par la commission des droits et de l'autonomie des personnes handicapées (CDAPH), vous êtes accompagné par un assistant d'éducation. À l'université, l'assistant d'éducation a pour fonction de veiller à votre accueil et votre intégration. Cette aide peut concerner les actes de la vie courante, mais aussi l'écriture ou la traduction. \n",
       "\n",
       "Question : Quels sont les services proposés par la CNSA en matière d'aide aux personnes en situation de handicap ?</pre></div><div style=\"width: 50%; padding:10px;\"> <div style=\"text-align:center;color:blue;\">answer</div> <pre class=\"qq\">Je ne sais pas quels sont les services proposés par la CNSA en matière d'aide aux personnes en situation de handicap.</pre></div></div></div>"
      ],
      "text/plain": [
       "<IPython.core.display.HTML object>"
      ]
     },
     "metadata": {},
     "output_type": "display_data"
    },
    {
     "data": {
      "text/html": [
       "<br>"
      ],
      "text/plain": [
       "<IPython.core.display.HTML object>"
      ]
     },
     "metadata": {},
     "output_type": "display_data"
    },
    {
     "data": {
      "text/html": [
       "\n",
       "        <style>\n",
       "            .qq {\n",
       "                word-break: keep-all;\n",
       "                white-space: pre-wrap;\n",
       "            }\n",
       "        </style>\n",
       "\n",
       "        <div style=\"border:1px solid grey;padding:5px;border-radius:8px;\">\n",
       "            <div>ID: ID &nbsp Q: 13</div>\n",
       "            <h5 style=\"font-weight: bold;\">Comment obtenir la validation de son diplôme professionnel pour exercer une activité professionnelle nécessitant la conduite de véhicules spécifiques (comme un véhicule agricole ou forestier) ?</h5>\n",
       "            <div style=\"display:flex; align-items:top;\"><div style=\"width: 50%; padding:10px;\"> <div style=\"text-align:center;color:blue;\">prompt</div> <pre class=\"qq\">Utilisez les éléments de contexte à votre disposition ci-dessous pour répondre à la question finale. Si vous ne connaissez pas la réponse, dites simplement que vous ne savez pas, n'essayez pas d'inventer une réponse.\n",
       "\n",
       "https://www.service-public.fr/particuliers/vosdroits/F1452 : \n",
       "Vous avez validé votre brevet de conduite militaire et vous voulez le convertir en permis de conduire civil ? Nous vous présentons les conditions à remplir et comment faire la demande. Voici une liste de différents cas possibles:\n",
       "- Qu'est-ce que le brevet de conduite militaire ? - Quelles conditions remplir ? - Comment faire la demande ? - La démarche est-elle payante ? - Comment suivre où en est la demande ? \n",
       "\n",
       "https://www.service-public.fr/particuliers/vosdroits/F1464 : \n",
       "Vous pouvez conduire certains véhicules sans avoir le permis. Vous n'avez pas besoin d'avoir le permis pour conduire les véhicules suivants :\n",
       "- Voiture électrique dont la puissance est de 1 kW au maximum\n",
       "- Véhicule participant à un entraînement, une manifestation sportive, une compétition dans un lieu homologué et fermé à la circulation publique. L'organisation doit être assurée par une fédération sportive et tous les participants doivent avoir d'avoir une licence sportive. - Véhicule ou appareil agricole ou forestier attaché à une exploitation agricole ou forestière, une ETA ou à une Cuma . Vous devez avoir 16 ans minimum et utiliser le véhicule uniquement durant l'exercice de l'activité agricole ou forestière. - Si vous êtes né au plus tard le 31 décembre 1987 , cyclomoteur et quadricycle léger à moteur . Toutefois, vous devez assurer le véhicule ( cyclomoteur, voiturette, tracteur ou engin automoteur agricole,...). (À savoir: si vous êtes né en 1988 ou après , vous devez avoir le brevet de sécurité routière (catégorie AM) pour pouvoir conduire un cyclomoteur ou un quadricycle léger à moteur.) \n",
       "\n",
       "https://www.service-public.fr/particuliers/vosdroits/F16511 : \n",
       "À quoi sert l'attestation de sécurité routière (ASR) ? Qui doit avoir une ASR pour obtenir le permis de conduite ? Comment s’inscrire à l'examen ? Est-ce payant ? Nous vous indiquons les règles à connaître sur l'ASR. Voici une liste de différents cas possibles:\n",
       "- Vérifier à quoi sert l'attestation de sécurité routière\n",
       "- Vérifier qui peut passer l'attestation de sécurité routière\n",
       "- Se renseigner sur le prix de l'attestation de sécurité routière\n",
       "- S'inscrire à l'épreuve de l'attestation de sécurité routière\n",
       "- Se préparer à l'épreuve de l'attestation de sécurité routière\n",
       "- Passer l'épreuve de l'attestation de sécurité routière\n",
       "- S'informer sur les résultats de l'épreuve de l'attestation de sécurité routière\n",
       "- En cas d'échec à l'épreuve de l'ASR, s'informer sur la session de rattrapage\n",
       "- Conserver le diplôme de l'attestation de sécurité routière après réception\n",
       "- En cas de perte ou de vol du diplôme de l'ASR, faire une demande de duplicata \n",
       "\n",
       "https://www.service-public.fr/particuliers/vosdroits/F34084 : \n",
       "Un salarié saisonnier bénéficie, comme tous les salariés, d'une surveillance médicale . Lorsque le salarié saisonnier travaille dans l'agriculture , il bénéficie d'un suivi médical particulier . L'examen médical d'embauche est-il obligatoire pour un salarié saisonnier ? Existe-t-il des cas de dispense ? Peut-il bénéficier de toutes les visites médicales comme les autres salariés ? Nous faisons un point sur la réglementation. Voici une liste de différents cas possibles:\n",
       "- Une visite médicale est-elle obligatoire lors de l'embauche d'un salarié saisonnier ? - Le salarié saisonnier bénéficie-t-il d'autres visites médicales ? - Une visite médicale est-elle obligatoire lors de l'embauche d'un salarié saisonnier agricole ? - Le salarié saisonnier agricole peut-il être dispensé de visite médicale lors de son embauche ? - Le salarié saisonnier agricole bénéficie-t-il d'autres visites médicales ? \n",
       "\n",
       "Question : Comment obtenir la validation de son diplôme professionnel pour exercer une activité professionnelle nécessitant la conduite de véhicules spécifiques (comme un véhicule agricole ou forestier) ?</pre></div><div style=\"width: 50%; padding:10px;\"> <div style=\"text-align:center;color:blue;\">answer</div> <pre class=\"qq\">D'après les éléments de contexte fournis, il n'y a pas d'information spécifique sur la procédure pour obtenir la validation d'un diplôme professionnel pour exercer une activité nécessitant la conduite de véhicules spécifiques tels qu'un véhicule agricole ou forestier. Par conséquent, il n'est pas possible de répondre à cette question avec les informations fournies.</pre></div></div></div>"
      ],
      "text/plain": [
       "<IPython.core.display.HTML object>"
      ]
     },
     "metadata": {},
     "output_type": "display_data"
    },
    {
     "data": {
      "text/html": [
       "<br>"
      ],
      "text/plain": [
       "<IPython.core.display.HTML object>"
      ]
     },
     "metadata": {},
     "output_type": "display_data"
    },
    {
     "data": {
      "text/html": [
       "\n",
       "        <style>\n",
       "            .qq {\n",
       "                word-break: keep-all;\n",
       "                white-space: pre-wrap;\n",
       "            }\n",
       "        </style>\n",
       "\n",
       "        <div style=\"border:1px solid grey;padding:5px;border-radius:8px;\">\n",
       "            <div>ID: ID &nbsp Q: 14</div>\n",
       "            <h5 style=\"font-weight: bold;\">Comment déterminer si un salarié est apte à reprendre le travail après une période de maladie ?</h5>\n",
       "            <div style=\"display:flex; align-items:top;\"><div style=\"width: 50%; padding:10px;\"> <div style=\"text-align:center;color:blue;\">prompt</div> <pre class=\"qq\">Utilisez les éléments de contexte à votre disposition ci-dessous pour répondre à la question finale. Si vous ne connaissez pas la réponse, dites simplement que vous ne savez pas, n'essayez pas d'inventer une réponse.\n",
       "\n",
       "https://www.service-public.fr/particuliers/vosdroits/F726 : \n",
       "En fonction des conséquences de votre maladie sur votre état de santé, le médecin du travail peut vous déclarer inapte, partiellement ou totalement, à reprendre votre emploi initial. Toutefois, il peut vous déclarer capable d'exercer d'autres fonctions dans l'entreprise adaptées à vos capacités physiques. Voici une liste de différents cas possibles:\n",
       "- Comment est reconnue votre inaptitude ? - Comment êtes-vous reclassé ? - Quelle rémunération est perçue pendant la période de reclassement ? - Que se passe-t il en cas de rupture de votre contrat alors que vous avez été déclaré(e) inapte ? \n",
       "\n",
       "https://www.service-public.fr/particuliers/vosdroits/F726 : Inaptitude au travail d'un salarié après un arrêt maladie (Comment êtes-vous reclassé ? > Délai)\n",
       "Aucun délai minimal ou maximal légal n'est imposé à votre employeur pour remplir son obligation. \n",
       "\n",
       "https://www.service-public.fr/particuliers/vosdroits/F32161 : \n",
       "En fonction des conséquences de votre maladie professionnelle sur votre état de santé, le médecin du travail peut vous déclarer inapte, partiellement ou totalement, à reprendre votre emploi initial. Toutefois, il peut vous déclarer capable d'exercer d'autres fonctions dans l'entreprise adaptées à vos capacités physiques. Dans ce cas, sauf exception, votre employeur doit vous proposer un autre poste (on parle de reclassement ). Voici une liste de différents cas possibles:\n",
       "- Comment est reconnue votre inaptitude ? - Comment êtes-vous reclassé ? - Quelle rémunération est perçue pendant la période de reclassement ? - Que se passe-t il en cas de rupture de votre contrat alors que vous avez été déclaré(e) inapte ? \n",
       "\n",
       "https://www.service-public.fr/particuliers/vosdroits/F726 : Inaptitude au travail d'un salarié après un arrêt maladie (Quelle rémunération est perçue pendant la période de reclassement ?)\n",
       "L'employeur n'a pas à vous rémunérer au cours du 1 er mois de recherche d'un emploi. Toutefois, des dispositions conventionnelles contraires peuvent le prévoir. En l'absence de reclassement et de rupture de votre contrat à l'issue de ce délai d'un mois, l'employeur doit vous verser le salaire correspondant à l'emploi que vous occupiez avant votre inaptitude. Le versement se poursuit jusqu'à votre reclassement ou la rupture du contrat. \n",
       "\n",
       "Question : Comment déterminer si un salarié est apte à reprendre le travail après une période de maladie ?</pre></div><div style=\"width: 50%; padding:10px;\"> <div style=\"text-align:center;color:blue;\">answer</div> <pre class=\"qq\">Selon les éléments de contexte fournis, pour déterminer si un salarié est apte à reprendre le travail après une période de maladie, cela dépend des conséquences de sa maladie sur son état de santé. C'est le médecin du travail qui évalue l'aptitude du salarié à reprendre son emploi initial. Le médecin peut déclarer le salarié inapte, partiellement ou totalement, à reprendre son emploi initial, mais il peut également le déclarer capable d'exercer d'autres fonctions dans l'entreprise adaptées à ses capacités physiques. Le reclassement du salarié dépend de la gravité de l'inaptitude et peut être proposé par l'employeur dans un autre poste adapté. La rémunération pendant la période de reclassement peut varier : pendant le premier mois de recherche d'un emploi, l'employeur n'a pas l'obligation de rémunérer le salarié, sauf si des dispositions conventionnelles contraires le prévoient. En l'absence de reclassement et de rupture du contrat après ce délai d'un mois, l'employeur doit verser au salarié le salaire correspondant à l'emploi qu'il occupait avant son inaptitude, jusqu'à son reclassement ou la rupture du contrat.</pre></div></div></div>"
      ],
      "text/plain": [
       "<IPython.core.display.HTML object>"
      ]
     },
     "metadata": {},
     "output_type": "display_data"
    },
    {
     "data": {
      "text/html": [
       "<br>"
      ],
      "text/plain": [
       "<IPython.core.display.HTML object>"
      ]
     },
     "metadata": {},
     "output_type": "display_data"
    },
    {
     "data": {
      "text/html": [
       "\n",
       "        <style>\n",
       "            .qq {\n",
       "                word-break: keep-all;\n",
       "                white-space: pre-wrap;\n",
       "            }\n",
       "        </style>\n",
       "\n",
       "        <div style=\"border:1px solid grey;padding:5px;border-radius:8px;\">\n",
       "            <div>ID: ID &nbsp Q: 15</div>\n",
       "            <h5 style=\"font-weight: bold;\">Quels sont les critères permettant de déterminer si une maladie peut être considérée comme professionnelle ?</h5>\n",
       "            <div style=\"display:flex; align-items:top;\"><div style=\"width: 50%; padding:10px;\"> <div style=\"text-align:center;color:blue;\">prompt</div> <pre class=\"qq\">Utilisez les éléments de contexte à votre disposition ci-dessous pour répondre à la question finale. Si vous ne connaissez pas la réponse, dites simplement que vous ne savez pas, n'essayez pas d'inventer une réponse.\n",
       "\n",
       "https://www.service-public.fr/particuliers/vosdroits/F176 : Maladie professionnelle : démarches à effectuer (Covid-19)\n",
       "Si vous êtes infecté par le Covid-19 dans le cadre de votre activité professionnelle, vous pouvez bénéficier d'une prise en charge spécifique en maladie professionnelle. \n",
       "\n",
       "https://www.service-public.fr/particuliers/vosdroits/F176 : Maladie professionnelle : démarches à effectuer (Covid-19 > Qui est concerné par la reconnaissance de l'affection Covid-19 en maladie professionnelle ?)\n",
       "La procédure de reconnaissance de l'affection Covid-19 en maladie professionnelle vous concerne si vous êtes dans l'une des situations suivantes :\n",
       "- Vous êtes un professionnel exerçant dans le secteur de la santé et vous avez été contaminé dans le cadre de votre travail\n",
       "- Vous ne travaillez pas dans le secteur de la santé et vous avez été contaminé dans le cadre de votre travail. Votre demande sera examinée par un comité d'experts médicaux. \n",
       "\n",
       "https://www.service-public.fr/particuliers/vosdroits/F176 : Maladie professionnelle : démarches à effectuer (Cas général > 4e étape : réception de la décision de votre organisme de sécurité sociale)\n",
       "À la fin de l'examen de votre dossier, la CPAM ou la MSA vous adresse sa décision avec les explications qui la justifient (ou aux ayants droit en cas de décès). L'organisme l'adresse également à votre employeur et à votre médecin traitant. Cette décision précise les voies et délais de recours, si le caractère professionnel de la maladie professionnelle n'est pas reconnu. Dans l'hypothèse où le caractère professionnel est reconnu, l'employeur peut contester cette décision. \n",
       "\n",
       "https://www.service-public.fr/particuliers/vosdroits/F32158 : \n",
       "Vous vous demandez comment votre reprise du travail va s'effectuer à la suite de votre maladie professionnelle ? Vous souhaitez savoir si vous allez être soumis ou non à une visite médicale ? Nous vous communiquons les éléments à connaître. Les informations diffèrent selon la durée de votre arrêt maladie : jusqu'à 3 mois ou plus de 3 mois. Voici une liste de différents cas possibles:\n",
       "- Quel est le but de la visite médicale de reprise du travail ? - Dans quelles conditions reprenez-vous le travail ? - Pouvez-vous reprendre à temps partiel (appelé travail léger pour raison médicale) ? - Quel est l'objectif de la visite de préreprise du travail ? - Quel est le but de la visite de reprise ? \n",
       "\n",
       "Question : Quels sont les critères permettant de déterminer si une maladie peut être considérée comme professionnelle ?</pre></div><div style=\"width: 50%; padding:10px;\"> <div style=\"text-align:center;color:blue;\">answer</div> <pre class=\"qq\">Les critères permettant de déterminer si une maladie peut être considérée comme professionnelle sont les suivants :\n",
       "- Être infecté par le Covid-19 dans le cadre de son activité professionnelle.\n",
       "- Être un professionnel exerçant dans le secteur de la santé et avoir été contaminé dans le cadre de son travail.\n",
       "- Ne pas travailler dans le secteur de la santé, mais avoir été contaminé dans le cadre de son travail, ce qui sera examiné par un comité d'experts médicaux.</pre></div></div></div>"
      ],
      "text/plain": [
       "<IPython.core.display.HTML object>"
      ]
     },
     "metadata": {},
     "output_type": "display_data"
    },
    {
     "data": {
      "text/html": [
       "<br>"
      ],
      "text/plain": [
       "<IPython.core.display.HTML object>"
      ]
     },
     "metadata": {},
     "output_type": "display_data"
    },
    {
     "data": {
      "text/html": [
       "\n",
       "        <style>\n",
       "            .qq {\n",
       "                word-break: keep-all;\n",
       "                white-space: pre-wrap;\n",
       "            }\n",
       "        </style>\n",
       "\n",
       "        <div style=\"border:1px solid grey;padding:5px;border-radius:8px;\">\n",
       "            <div>ID: ID &nbsp Q: 16</div>\n",
       "            <h5 style=\"font-weight: bold;\">Quelles sont les étapes nécessaires pour obtenir le permis probatoire et ajouter une catégorie de conduite supplémentaire à son permis existant ?</h5>\n",
       "            <div style=\"display:flex; align-items:top;\"><div style=\"width: 50%; padding:10px;\"> <div style=\"text-align:center;color:blue;\">prompt</div> <pre class=\"qq\">Utilisez les éléments de contexte à votre disposition ci-dessous pour répondre à la question finale. Si vous ne connaissez pas la réponse, dites simplement que vous ne savez pas, n'essayez pas d'inventer une réponse.\n",
       "\n",
       "https://www.service-public.fr/particuliers/vosdroits/F1685 : Récupération des points du permis de conduire (Permis probatoire)\n",
       "Le permis probatoire vous concerne si vous avez obtenu le permis de conduire pour la 1 re fois ou à la suite d'une invalidation ou d'une annulation judiciaire. \n",
       "\n",
       "https://www.service-public.fr/particuliers/vosdroits/F2843 : Permis poids lourd de catégorie C  : plus de 3,5 tonnes (Vérifier les conditions pour passer le permis C ? > Catégorie préalable nécessaire)\n",
       "Vous devez avoir le permis B pour pouvoir passer le permis C. \n",
       "\n",
       "https://www.service-public.fr/particuliers/vosdroits/F2390 : \n",
       "Le permis probatoire a 6 points au lieu de 12. Il dure 3 ans (2 ans si AAC). La durée est réduite si vous suivez une formation en + Vous avez un permis de conduire probatoire lorsque vous obtenez le permis pour la 1 re fois ou à la suite d'une invalidation ou d'une annulation judiciaire. Ainsi, si vous avez le permis B et passez le permis moto A2, le permis probatoire ne vous concerne pas. Vous avez 6 points sur votre permis probatoire (au lieu de 12 points). À la fin de chaque année, votre permis probatoire est augmenté de plusieurs points si vous ne commettez pas d'infractions entraînant une perte de points. (À savoir: des codes sur votre permis indiquent si vous avez obtenu le permis pour la 1re fois ( code 106 ) ou à à la suite d'une invalidation ou d'une annulation ( code 105 ). Le code est suivi de la date de début et de fin de période probatoire. Exemple : \"106.24/06/13 - 24.06.16\".) Voici une liste de différents cas possibles:\n",
       "- Quelle durée ? - Comment récupérer les points perdus ? - Quelles règles de conduite pour un 1er permis ? - Quelle démarche à la fin du permis probatoire ? \n",
       "\n",
       "https://www.service-public.fr/particuliers/vosdroits/F2390 : Qu'est-ce que le permis de conduire probatoire ? (Apprentissage traditionnel, conduite supervisée ou encadrée > Quelle démarche à la fin du permis probatoire ?)\n",
       "Vous n'avez aucune démarche à faire. Vous atteignez un capital de 12 points si vous n'avez pas perdu de points. Si vous avez perdu des points, vous disposez des points restant sur votre permis. Vous pourrez atteindre le capital de 12 points de 2 manières :\n",
       "- Ne pas commettre d'infractions pendant 2 ans à partir du dernier retrait de points (3 ans si un retrait de points est dû à un délit ou une contravention de 4e ou 5e classe)\n",
       "- Suivre volontairement tous les ans un stage de sensibilisation à la sécurité routière . Le stage permet de récupérer jusqu'à 4 points dans la limite des 12 points maximum du permis. \n",
       "\n",
       "Question : Quelles sont les étapes nécessaires pour obtenir le permis probatoire et ajouter une catégorie de conduite supplémentaire à son permis existant ?</pre></div><div style=\"width: 50%; padding:10px;\"> <div style=\"text-align:center;color:blue;\">answer</div> <pre class=\"qq\">Les étapes nécessaires pour obtenir le permis probatoire et ajouter une catégorie de conduite supplémentaire à son permis existant sont les suivantes :\n",
       "\n",
       "1. Obtenir le permis de conduire pour la première fois ou à la suite d'une invalidation ou d'une annulation judiciaire.\n",
       "2. Si vous souhaitez ajouter une catégorie de conduite supplémentaire à votre permis existant, vérifier les conditions requises pour passer cette catégorie spécifique de permis (par exemple, pour passer le permis poids lourd de catégorie C, il est nécessaire d'avoir le permis B).\n",
       "3. Suivre les démarches et les formations nécessaires pour obtenir la nouvelle catégorie de permis souhaitée.\n",
       "4. Une fois que vous avez obtenu la nouvelle catégorie de permis, vous serez soumis au permis probatoire. Le permis probatoire a une durée de 3 ans (ou 2 ans si vous avez suivi une formation AAC) et comporte initialement 6 points au lieu de 12.\n",
       "5. Pendant la période probatoire, vous devez respecter les règles de conduite spécifiques pour un premier permis, telles que l'interdiction de conduire avec un taux d'alcoolémie supérieur à 0,2 g/l et l'obligation de porter un éthylotest dans le véhicule.\n",
       "6. À la fin de chaque année de permis probatoire, votre permis est augmenté de plusieurs points si vous n'avez pas commis d'infractions entraînant une perte de points.\n",
       "7. Pour récupérer les points perdus pendant la période probatoire, vous avez deux options : ne pas commettre d'infractions pendant 2 ans à partir du dernier retrait de points (ou 3 ans si le retrait de points est dû à un délit ou une contravention de 4e ou 5e classe), ou suivre volontairement chaque année un stage de sensibilisation à la sécurité routière, qui permet de récupérer jusqu'à 4 points dans la limite des 12 points maximum du permis.\n",
       "8. À la fin du permis probatoire, si vous n'avez pas perdu de points, vous atteignez un capital de 12 points et aucune démarche n'est nécessaire. Si vous avez perdu des points, vous conservez les points restants sur votre permis et pouvez les récupérer en respectant les conditions mentionnées précédemment.</pre></div></div></div>"
      ],
      "text/plain": [
       "<IPython.core.display.HTML object>"
      ]
     },
     "metadata": {},
     "output_type": "display_data"
    },
    {
     "data": {
      "text/html": [
       "<br>"
      ],
      "text/plain": [
       "<IPython.core.display.HTML object>"
      ]
     },
     "metadata": {},
     "output_type": "display_data"
    },
    {
     "data": {
      "text/html": [
       "\n",
       "        <style>\n",
       "            .qq {\n",
       "                word-break: keep-all;\n",
       "                white-space: pre-wrap;\n",
       "            }\n",
       "        </style>\n",
       "\n",
       "        <div style=\"border:1px solid grey;padding:5px;border-radius:8px;\">\n",
       "            <div>ID: ID &nbsp Q: 17</div>\n",
       "            <h5 style=\"font-weight: bold;\">Comment contacter la Caisse nationale d'assurance maladie (Cnam) pour obtenir des renseignements ou des informations sur les démarches à effectuer ?</h5>\n",
       "            <div style=\"display:flex; align-items:top;\"><div style=\"width: 50%; padding:10px;\"> <div style=\"text-align:center;color:blue;\">prompt</div> <pre class=\"qq\">Utilisez les éléments de contexte à votre disposition ci-dessous pour répondre à la question finale. Si vous ne connaissez pas la réponse, dites simplement que vous ne savez pas, n'essayez pas d'inventer une réponse.\n",
       "\n",
       "https://www.service-public.fr/particuliers/vosdroits/F19948 : Information du patient sur les tarifs des consultations et actes médicaux (Établissement > Affichage des honoraires)\n",
       "L'information est délivrée des manières suivantes :\n",
       "- Affichage dans les lieux de réception des patients\n",
       "- Sites internet de communication au public. Dans ce dernier cas, les informations mises en ligne peuvent être reprises sur le site internet de la Caisse nationale de l'assurance maladie (Cnam). \n",
       "\n",
       "https://www.service-public.fr/particuliers/vosdroits/F2024 : \n",
       "Différents organismes utilisent vos données personnelles : administration, entreprise, réseau social, site internet, association... Vous avez le droit d'être informé et de contrôler la manière dont vos données sont utilisées. Par exemple, vous pouvez obtenir et rectifier les informations qu'un organisme détient sur vous, ou vous opposer à figurer dans un fichier. En cas de difficultés, vous pouvez faire une réclamation auprès de la Cnil . Voici une liste de différents cas possibles:\n",
       "- Quelles informations doit-on vous communiquer ? - À quoi sert le droit d'accès ? - Comment faire corriger ses données ? - Comment supprimer ses données en ligne ? - Qu'est-ce que le droit au déférencement ? - Peut-on s'opposer au traitement de ses données ? - Qu'est-ce que le profilage ? - Qu'est-ce que la portabilité des données ? \n",
       "\n",
       "https://www.service-public.fr/particuliers/vosdroits/F168 : \n",
       "La prise en charge de certains actes ou prestations est soumise à l'accord préalable de l'Assurance maladie (branche maladie de la Sécurité sociale). Votre médecin, kiné, dentiste doit remplir une demande pour certains de ses actes. Ce sont souvent des actes coûteux, rares ou qui durent longtemps. C'est à vous d'envoyer le formulaire à la CPAM . La caisse répond par courrier uniquement en cas de refus. Voici une liste de différents cas possibles:\n",
       "- En quoi consiste l'accord préalable de l'Assurance maladie ? - Quels sont les actes concernés par l'accord préalable de la Sécurité sociale ? - Comment adresser la demande préalable à l'Assurance maladie ? - Quel est le délai de réponse de l'Assurance maladie ? \n",
       "\n",
       "https://www.service-public.fr/particuliers/vosdroits/F24617 : \n",
       "Vous souhaitez avoir des informations sur votre future retraite ? Le site officiel Info-retraite vous permet de disposer d'une information personnalisée sur votre retraite, de vous renseigner en amont sur les démarches à effectuer et sur le montant de votre retraite, de réaliser une demande unique de retraite valable auprès de toutes vos caisses de retraite. Nous vous détaillons tout cela plus précisément. Voici une liste de différents cas possibles:\n",
       "- Comment trouver les caisses de retraite auxquelles vous avez cotisé au cours de votre carrière ? - Connaissez-vous Info-retraite, le site officiel public commun à tous les régimes de retraite ? - Comment vous constituer une brochure d'information personnalisée sur vos droits à la retraite ? - Comment accéder à votre compte retraite ? - Comment consulter et corriger, si nécessaire, votre relevé de carrière ? - Comment obtenir un entretien avec un conseiller retraite ? - Comment réaliser une estimation du montant de votre retraite ? - Comment faire une demande unique de retraite pour toutes vos caisses de retraite ? - Qu'en est-il de vos plans d'épargne retraite ? \n",
       "\n",
       "Question : Comment contacter la Caisse nationale d'assurance maladie (Cnam) pour obtenir des renseignements ou des informations sur les démarches à effectuer ?</pre></div><div style=\"width: 50%; padding:10px;\"> <div style=\"text-align:center;color:blue;\">answer</div> <pre class=\"qq\">D'après les informations fournies, il n'est pas précisé comment contacter la Caisse nationale d'assurance maladie (Cnam) pour obtenir des renseignements ou des informations sur les démarches à effectuer.</pre></div></div></div>"
      ],
      "text/plain": [
       "<IPython.core.display.HTML object>"
      ]
     },
     "metadata": {},
     "output_type": "display_data"
    },
    {
     "data": {
      "text/html": [
       "<br>"
      ],
      "text/plain": [
       "<IPython.core.display.HTML object>"
      ]
     },
     "metadata": {},
     "output_type": "display_data"
    },
    {
     "data": {
      "text/html": [
       "\n",
       "        <style>\n",
       "            .qq {\n",
       "                word-break: keep-all;\n",
       "                white-space: pre-wrap;\n",
       "            }\n",
       "        </style>\n",
       "\n",
       "        <div style=\"border:1px solid grey;padding:5px;border-radius:8px;\">\n",
       "            <div>ID: ID &nbsp Q: 18</div>\n",
       "            <h5 style=\"font-weight: bold;\">Quelle est la procédure d'affiliation à l'Assurance maladie pour les professionnels de santé exerçant en libéral ?</h5>\n",
       "            <div style=\"display:flex; align-items:top;\"><div style=\"width: 50%; padding:10px;\"> <div style=\"text-align:center;color:blue;\">prompt</div> <pre class=\"qq\">Utilisez les éléments de contexte à votre disposition ci-dessous pour répondre à la question finale. Si vous ne connaissez pas la réponse, dites simplement que vous ne savez pas, n'essayez pas d'inventer une réponse.\n",
       "\n",
       "https://www.service-public.fr/particuliers/vosdroits/F20849 : \n",
       "Vous avez déposé une réclamation auprès de votre Caisse et sa réponse ne vous satisfait pas ? Il est possible, à certaines conditions, de saisir gratuitement le médiateur. C'est le conciliateur qui exerce les fonctions de médiateur. Dans certains cas, notamment si vous rencontrez des difficultés pour déclarer un médecin traitant, vous pouvez saisir le médiateur directement. Voici une liste de différents cas possibles:\n",
       "- Qui peut le saisir le médiateur de l'Assurance maladie? - Dans quels cas saisir le médiateur de l'Assurance maladie? - Comment saisir le médiateur de l'Assurance maladie? - Comment est traitée la demande de saisine du médiateur de l'Assurance maladie ? \n",
       "\n",
       "https://www.service-public.fr/particuliers/vosdroits/F168 : \n",
       "La prise en charge de certains actes ou prestations est soumise à l'accord préalable de l'Assurance maladie (branche maladie de la Sécurité sociale). Votre médecin, kiné, dentiste doit remplir une demande pour certains de ses actes. Ce sont souvent des actes coûteux, rares ou qui durent longtemps. C'est à vous d'envoyer le formulaire à la CPAM . La caisse répond par courrier uniquement en cas de refus. Voici une liste de différents cas possibles:\n",
       "- En quoi consiste l'accord préalable de l'Assurance maladie ? - Quels sont les actes concernés par l'accord préalable de la Sécurité sociale ? - Comment adresser la demande préalable à l'Assurance maladie ? - Quel est le délai de réponse de l'Assurance maladie ? \n",
       "\n",
       "https://www.service-public.fr/particuliers/vosdroits/F176 : Maladie professionnelle : démarches à effectuer (Covid-19 > Qui est concerné par la reconnaissance de l'affection Covid-19 en maladie professionnelle ?)\n",
       "La procédure de reconnaissance de l'affection Covid-19 en maladie professionnelle vous concerne si vous êtes dans l'une des situations suivantes :\n",
       "- Vous êtes un professionnel exerçant dans le secteur de la santé et vous avez été contaminé dans le cadre de votre travail\n",
       "- Vous ne travaillez pas dans le secteur de la santé et vous avez été contaminé dans le cadre de votre travail. Votre demande sera examinée par un comité d'experts médicaux. \n",
       "\n",
       "https://www.service-public.fr/particuliers/vosdroits/F20314 : \n",
       "L'Assurance maladie (Sécurité sociale) rembourse partiellement vos dépenses de santé. Pour couvrir les frais qui restent à votre charge, vous pouvez adhérer à une complémentaire santé (mutuelle). Elle remboursera alors les frais restant à votre charge en fonction du contrat choisi. Certains contrats permettent un remboursement des prestations non prises en charge par la Sécurité sociale. Voici une liste de différents cas possibles:\n",
       "- De quoi s'agit-il ? - Qui peut en bénéficier ? - Démarches\n",
       "- Coût\n",
       "- Que rembourse la complémentaire santé ? - Renouvellement ou résiliation du contrat\n",
       "- Qu'en est-il dans la fonction publique ? \n",
       "\n",
       "Question : Quelle est la procédure d'affiliation à l'Assurance maladie pour les professionnels de santé exerçant en libéral ?</pre></div><div style=\"width: 50%; padding:10px;\"> <div style=\"text-align:center;color:blue;\">answer</div> <pre class=\"qq\">D'après les éléments de contexte fournis, il n'est pas possible de répondre à la question posée.</pre></div></div></div>"
      ],
      "text/plain": [
       "<IPython.core.display.HTML object>"
      ]
     },
     "metadata": {},
     "output_type": "display_data"
    },
    {
     "data": {
      "text/html": [
       "<br>"
      ],
      "text/plain": [
       "<IPython.core.display.HTML object>"
      ]
     },
     "metadata": {},
     "output_type": "display_data"
    },
    {
     "data": {
      "text/html": [
       "\n",
       "        <style>\n",
       "            .qq {\n",
       "                word-break: keep-all;\n",
       "                white-space: pre-wrap;\n",
       "            }\n",
       "        </style>\n",
       "\n",
       "        <div style=\"border:1px solid grey;padding:5px;border-radius:8px;\">\n",
       "            <div>ID: ID &nbsp Q: 19</div>\n",
       "            <h5 style=\"font-weight: bold;\">Quels sont les critères considérés pour l'avancement de grade d'un fonctionnaire ?</h5>\n",
       "            <div style=\"display:flex; align-items:top;\"><div style=\"width: 50%; padding:10px;\"> <div style=\"text-align:center;color:blue;\">prompt</div> <pre class=\"qq\">Utilisez les éléments de contexte à votre disposition ci-dessous pour répondre à la question finale. Si vous ne connaissez pas la réponse, dites simplement que vous ne savez pas, n'essayez pas d'inventer une réponse.\n",
       "\n",
       "https://www.service-public.fr/particuliers/vosdroits/F568 : \n",
       "Si vous êtes fonctionnaire, vous bénéficiez, au cours de votre carrière, d'avancements d'échelon et éventuellement de grade. Nous vous présentons les conditions générales de ces avancements. Voici une liste de différents cas possibles:\n",
       "- Avancement d'échelon\n",
       "- Avancement de grade \n",
       "\n",
       "https://www.service-public.fr/particuliers/vosdroits/F568 : Avancements d'échelon et de grade dans la fonction publique (Territoriale (FPT) > Avancement de grade > Quelles sont les conditions à remplir pour en bénéficier ?)\n",
       "Le statut particulier de votre cadre d'emplois fixe le(s) mode(s) d'avancement de grade : au choix ou après examen professionnel. Le statut particulier fixe également les conditions à remplir pour pouvoir prétendre à un avancement au choix ou se présenter à l'examen professionnel. Ces conditions sont notamment des conditions de grade et d'échelon. L'avancement de grade peut être soumis à une condition de durée minimale de formation professionnelle au cours de la carrière. Dans certains cadre d'emplois de catégorie A, l'avancement de grade peut être subordonné à l'occupation préalable de certains emplois ou à l'exercice préalable de certaines fonctions correspondant à un niveau particulièrement élevé de responsabilités. Dans ce cas, une activité professionnelle exercée pendant une disponibilité peut être prise en compte pour remplir cette condition. Pour être prise en compte, la nature et le niveau de responsabilité de cette activité doivent être comparables aux emplois et aux fonctions auxquels l'avancement de grade donne accès. \n",
       "\n",
       "https://www.service-public.fr/particuliers/vosdroits/F568 : Avancements d'échelon et de grade dans la fonction publique (Fonction publique d'État (FPE) > Avancement de grade > Combien de fonctionnaires peuvent-ils être promus ?)\n",
       "Le statut particulier de votre corps peut prévoir que le nombre d'avancements de grade soit limité à un pourcentage du nombre de fonctionnaires qui remplissent les conditions. Ce pourcentage est fixé par arrêté ministériel. C'est le taux de promotion. Lorsque le taux de promotion est atteint et qu'il n'est pas possible de prononcer d'avancement de grade 2 ans de suite, un avancement peut être prononcé la 3 e année. \n",
       "\n",
       "https://www.service-public.fr/particuliers/vosdroits/F568 : Avancements d'échelon et de grade dans la fonction publique (Territoriale (FPT) > Avancement de grade > En quoi consiste l'avancement de grade ?)\n",
       "L’avancement de grade est le passage d’un grade à un grade supérieur à l’intérieur d’un même cadre d'emplois. Il permet l'accès à des fonctions supérieures et à une rémunération plus élevée. \n",
       "\n",
       "Question : Quels sont les critères considérés pour l'avancement de grade d'un fonctionnaire ?</pre></div><div style=\"width: 50%; padding:10px;\"> <div style=\"text-align:center;color:blue;\">answer</div> <pre class=\"qq\">Les critères considérés pour l'avancement de grade d'un fonctionnaire dépendent du statut particulier de son cadre d'emplois. Ces critères peuvent inclure des conditions de grade et d'échelon, une durée minimale de formation professionnelle au cours de la carrière, l'occupation préalable de certains emplois ou l'exercice préalable de certaines fonctions correspondant à un niveau élevé de responsabilités. Dans certains cas, une activité professionnelle exercée pendant une disponibilité peut également être prise en compte si sa nature et son niveau de responsabilité sont comparables aux emplois et fonctions auxquels l'avancement de grade donne accès.</pre></div></div></div>"
      ],
      "text/plain": [
       "<IPython.core.display.HTML object>"
      ]
     },
     "metadata": {},
     "output_type": "display_data"
    },
    {
     "data": {
      "text/html": [
       "<br>"
      ],
      "text/plain": [
       "<IPython.core.display.HTML object>"
      ]
     },
     "metadata": {},
     "output_type": "display_data"
    },
    {
     "data": {
      "text/html": [
       "\n",
       "        <style>\n",
       "            .qq {\n",
       "                word-break: keep-all;\n",
       "                white-space: pre-wrap;\n",
       "            }\n",
       "        </style>\n",
       "\n",
       "        <div style=\"border:1px solid grey;padding:5px;border-radius:8px;\">\n",
       "            <div>ID: ID &nbsp Q: 20</div>\n",
       "            <h5 style=\"font-weight: bold;\">Quelles sont les différentes étapes de la procédure disciplinaire en cas de faute simple d'un salarié ?</h5>\n",
       "            <div style=\"display:flex; align-items:top;\"><div style=\"width: 50%; padding:10px;\"> <div style=\"text-align:center;color:blue;\">prompt</div> <pre class=\"qq\">Utilisez les éléments de contexte à votre disposition ci-dessous pour répondre à la question finale. Si vous ne connaissez pas la réponse, dites simplement que vous ne savez pas, n'essayez pas d'inventer une réponse.\n",
       "\n",
       "https://www.service-public.fr/particuliers/vosdroits/F2234 : Sanctions disciplinaires dans le secteur privé (Sanctions pouvant être prononcées)\n",
       "Une faute du salarié peut entraîner, selon la situation, l'une des sanctions suivantes :\n",
       "- Avertissement ou blâme\n",
       "- Mise à pied\n",
       "- Mutation\n",
       "- Rétrogradation\n",
       "- Licenciement pour faute simple, grave ou lourde\n",
       "(À savoir: il est interdit d'infliger une amende ou toute autre sanction financière au salarié ayant commis une faute.) Une sanction disciplinaire doit être proportionnée par rapport à la faute commise. Une remarque orale n'est pas considérée comme une sanction disciplinaire. Dans les entreprises où un règlement intérieur existe, les sanctions applicables sont uniquement celles qui sont prévues dans ce règlement. (Attention: l'employeur ne peut pas sanctionner le salarié 2 fois de suite pour la même faute.) \n",
       "\n",
       "https://www.service-public.fr/particuliers/vosdroits/F1137 : Licenciement pour faute simple, grave ou lourde : quelles conséquences pour le salarié ? (Faute simple > Qu'est-ce qu'une faute simple ?)\n",
       "La faute simple répond aux 2 critères suivants :\n",
       "- Il s'agit d'un agissement du salarié contraire à ses obligations à l'égard de l'employeur\n",
       "- Mais sa gravité n'est pas suffisante pour imposer la rupture immédiate du contrat de travail\n",
       "Cependant, la faute commise peut constituer une cause réelle et sérieuse de licenciement. La faute simple peut être reconnue, par exemple, à l'occasion d'une erreur ou d'une négligence commise par le salarié dans le cadre de son travail. L'employeur doit respecter la procédure de licenciement pour motif personnel. \n",
       "\n",
       "https://www.service-public.fr/particuliers/vosdroits/F2234 : Sanctions disciplinaires dans le secteur privé (De quoi s'agit-il ?)\n",
       "Une sanction disciplinaire correspond à toute mesure, autre que les observations verbales, prise par l'employeur à la suite d'un agissement du salarié considéré par l'employeur comme fautif. Cette mesure peut remettre en cause immédiatement ou non la présence du salarié dans l'entreprise, sa fonction, sa carrière ou sa rémunération. Vidéo - Faut-il obligatoirement 3 avertissements avant d'être licencié ? \n",
       "\n",
       "https://www.service-public.fr/particuliers/vosdroits/F2234 : Sanctions disciplinaires dans le secteur privé (Motifs interdisant toute sanction)\n",
       "L'employeur ne peut pas sanctionner un salarié dans les cas suivants :\n",
       "- Motif discriminatoire\n",
       "- Exercice d'une liberté fondamentale (liberté d'expression, liberté syndicale...)\n",
       "- Témoignage de faits de harcèlement moral ou sexuel\n",
       "- Témoignage de faits constitutifs d'un délit ou d'un crime\n",
       "- Exercice du droit de retrait pour danger grave et imminent\n",
       "- Lancement d'alerte dans l'entreprise\n",
       "- Exercice des fonctions de juré ou de citoyen assesseur\n",
       "- Refus du salarié, en raison de son orientation sexuelle, d'une mutation géographique dans un État incriminant l'homosexualité\n",
       "- Exercice du droit de grève dans le respect fixé par la loi \n",
       "\n",
       "Question : Quelles sont les différentes étapes de la procédure disciplinaire en cas de faute simple d'un salarié ?</pre></div><div style=\"width: 50%; padding:10px;\"> <div style=\"text-align:center;color:blue;\">answer</div> <pre class=\"qq\">Les différentes étapes de la procédure disciplinaire en cas de faute simple d'un salarié sont les suivantes :\n",
       "1. L'employeur doit convoquer le salarié à un entretien préalable par lettre recommandée ou remise en main propre avec accusé de réception. Cette convocation doit mentionner la date, l'heure et le lieu de l'entretien, ainsi que la possibilité pour le salarié de se faire assister par une personne de son choix.\n",
       "2. L'entretien préalable a lieu entre l'employeur (ou son représentant) et le salarié. L'employeur expose les motifs de la sanction envisagée et recueille les explications du salarié.\n",
       "3. Après l'entretien préalable, l'employeur doit notifier sa décision au salarié par lettre recommandée avec accusé de réception. Cette lettre doit mentionner la sanction retenue (avertissement, blâme, mise à pied, mutation, rétrogradation ou licenciement pour faute simple), les motifs de la sanction et la possibilité pour le salarié de contester la décision devant les prud'hommes.\n",
       "4. Le salarié dispose d'un délai de 2 mois à partir de la notification de la décision pour contester celle-ci devant les prud'hommes. Pendant ce délai, la sanction disciplinaire est suspendue.\n",
       "Il est important de noter que ces étapes peuvent varier en fonction des dispositions prévues par le règlement intérieur de l'entreprise.</pre></div></div></div>"
      ],
      "text/plain": [
       "<IPython.core.display.HTML object>"
      ]
     },
     "metadata": {},
     "output_type": "display_data"
    },
    {
     "data": {
      "text/html": [
       "<br>"
      ],
      "text/plain": [
       "<IPython.core.display.HTML object>"
      ]
     },
     "metadata": {},
     "output_type": "display_data"
    },
    {
     "data": {
      "text/html": [
       "\n",
       "        <style>\n",
       "            .qq {\n",
       "                word-break: keep-all;\n",
       "                white-space: pre-wrap;\n",
       "            }\n",
       "        </style>\n",
       "\n",
       "        <div style=\"border:1px solid grey;padding:5px;border-radius:8px;\">\n",
       "            <div>ID: ID &nbsp Q: 21</div>\n",
       "            <h5 style=\"font-weight: bold;\">Quelles sont les obligations de l'assureur envers les consommateurs en cas de litige ou de réclamation ?</h5>\n",
       "            <div style=\"display:flex; align-items:top;\"><div style=\"width: 50%; padding:10px;\"> <div style=\"text-align:center;color:blue;\">prompt</div> <pre class=\"qq\">Utilisez les éléments de contexte à votre disposition ci-dessous pour répondre à la question finale. Si vous ne connaissez pas la réponse, dites simplement que vous ne savez pas, n'essayez pas d'inventer une réponse.\n",
       "\n",
       "https://www.service-public.fr/particuliers/vosdroits/F1126 : \n",
       "Une association de défense des consommateurs a pour missions d' informer , de conseiller et d' aider les consommateurs à régler les litiges de la vie quotidienne . Elle peut agir à titre préventif pour trouver des solutions amiables et a la capacité juridique de représenter les intérêts privés ou collectifs des consommateurs devant les tribunaux . Voici une liste de différents cas possibles:\n",
       "- Qu'est-ce qu'une association de défense des consommateurs agréée ? - Comment faire la demande d'agrément ? - Comment la décision est-elle prise ? - Quels sont les pouvoirs d'actions d'une association agréée de consommateurs ? - Comment faire la demande de renouvellement d'agrément ? \n",
       "\n",
       "https://www.service-public.fr/particuliers/vosdroits/F3050 : Assurance habitation : recours en cas de litiges avec l'assureur (Recours auprès de votre assureur)\n",
       "Vous devez saisir votre assureur en cas de litige avec ses services avant de pouvoir saisir le médiateur. Vous devez contacter votre interlocuteur habituel (conseiller ou agent d'assurance) avant de saisir le service réclamation de votre assureur. \n",
       "\n",
       "https://www.service-public.fr/particuliers/vosdroits/F3050 : Assurance habitation : recours en cas de litiges avec l'assureur (Saisir le médiateur des assurances)\n",
       "Le médiateur est une autorité indépendante et extérieure aux sociétés d'assurance. Il aide à trouver des solutions amiables aux litiges entre les consommateurs et les compagnies d'assurance membres de la Médiation de l'Assurance. \n",
       "\n",
       "https://www.service-public.fr/particuliers/vosdroits/F3050 : Assurance habitation : recours en cas de litiges avec l'assureur (Saisir le médiateur des assurances > Quand le saisir ?)\n",
       "Il peut être saisi lorsque vous avez adressée une réclamation écrite à la compagnie d'assurance et que vous n'avez pas obtenu un résultat satisfaisant. \n",
       "\n",
       "Question : Quelles sont les obligations de l'assureur envers les consommateurs en cas de litige ou de réclamation ?</pre></div><div style=\"width: 50%; padding:10px;\"> <div style=\"text-align:center;color:blue;\">answer</div> <pre class=\"qq\">Les obligations de l'assureur envers les consommateurs en cas de litige ou de réclamation sont de traiter la réclamation de manière équitable et diligente, de fournir une réponse satisfaisante dans un délai raisonnable, et de proposer une solution amiable en cas de désaccord. Si le litige persiste, l'assuré peut saisir le médiateur des assurances pour trouver une solution amiable.</pre></div></div></div>"
      ],
      "text/plain": [
       "<IPython.core.display.HTML object>"
      ]
     },
     "metadata": {},
     "output_type": "display_data"
    },
    {
     "data": {
      "text/html": [
       "<br>"
      ],
      "text/plain": [
       "<IPython.core.display.HTML object>"
      ]
     },
     "metadata": {},
     "output_type": "display_data"
    },
    {
     "data": {
      "text/html": [
       "\n",
       "        <style>\n",
       "            .qq {\n",
       "                word-break: keep-all;\n",
       "                white-space: pre-wrap;\n",
       "            }\n",
       "        </style>\n",
       "\n",
       "        <div style=\"border:1px solid grey;padding:5px;border-radius:8px;\">\n",
       "            <div>ID: ID &nbsp Q: 22</div>\n",
       "            <h5 style=\"font-weight: bold;\">Quels sont les différents éléments d'identification présents dans un numéro de sécurité sociale français ?</h5>\n",
       "            <div style=\"display:flex; align-items:top;\"><div style=\"width: 50%; padding:10px;\"> <div style=\"text-align:center;color:blue;\">prompt</div> <pre class=\"qq\">Utilisez les éléments de contexte à votre disposition ci-dessous pour répondre à la question finale. Si vous ne connaissez pas la réponse, dites simplement que vous ne savez pas, n'essayez pas d'inventer une réponse.\n",
       "\n",
       "https://www.service-public.fr/particuliers/vosdroits/F16467 : Immatriculation à la Sécurité sociale pour un salarié qui arrive en France (Né en France)\n",
       "Il suffit d'être né en France pour avoir un numéro de sécurité sociale. Si vous n'avez aucun document comportant votre numéro de sécurité sociale (par exemple, carte vitale, attestation de droit, bulletin de salaire), vous pouvez vous rendre à un point d’accueil de l'Assurance maladie. Vous devez présenter une pièce d'identité (carte nationale d'identité ou passeport). Un conseiller vous indiquera votre numéro de sécurité sociale. \n",
       "\n",
       "https://www.service-public.fr/particuliers/vosdroits/F16467 : \n",
       "Lors d'un 1 er emploi, des démarches auprès de la sécurité sociale peuvent être nécessaires dans certains cas. En effet, vous devez communiquer à votre employeur votre numéro de sécurité sociale ou, sinon, votre numéro d'identification d'attente pour lui permettre d'accomplir ses formalités. Les formalités d'immatriculation varient selon que vous êtes né en France ou à l'étranger, quelle que soit votre nationalité. \n",
       "\n",
       "https://www.service-public.fr/particuliers/vosdroits/F16467 : Immatriculation à la Sécurité sociale pour un salarié qui arrive en France (Né à l'étranger)\n",
       "Si, après ce nouveau délai de 3 mois, vous n'avez pas donné le document demandé, l'organisme suspend provisoirement le versement des prestations et allocations. L'organisme de sécurité sociale dispose alors d'un nouveau délai de 3 mois pour prendre une décision selon que la production de ce document est, ou non, possible. \n",
       "\n",
       "https://www.service-public.fr/particuliers/vosdroits/F33078 : \n",
       "Le numéro de sécurité sociale est formé du numéro d'inscription (NIR) à 13 chiffres et d'une clé de contrôle à 2 chiffres. L'inscription au répertoire national d'identification des personnes physiques (RNIPP) donne lieu à l'attribution d'un numéro d'inscription au répertoire (NIR). Le NIR est aussi appelé numéro de sécurité sociale. Il est composé de 13 chiffres. Il est complété par une clé de contrôle composée de 2 chiffres. Composition du numéro de Sécurité sociale:\n",
       "| Chiffres | Signification | \n",
       "| - | - | \n",
       "| 1 er chiffre | Sexe : 1 : Homme 2 : Femme | \n",
       "| 2 chiffres suivants | Année de naissance | \n",
       "| 2 chiffres suivants | Mois de naissance | \n",
       "| 5 chiffres suivants | Lieu de naissance : 2 chiffres du code du département de naissance 3 chiffres du code commune officiel de l' Insee | \n",
       "| 3 chiffres suivants | Numéro d'ordre permettant de distinguer les personnes nées au même lieu à la même période | \n",
       "Si vous êtes né à l'étranger, les 2 chiffres du code du département sont remplacés par 99 et le code commune par un code Insee du pays de naissance. Si vous êtes nés en Algérie, au Maroc ou en Tunisie avant l'indépendance de ces pays, un code spécifique peut figurer à la place du code 99 et du code INSEE du pays concerné. Par exemple : 91, 92, 93 ou 94 pour l'Algérie, 95 pour le Maroc et 96 pour la Tunisie. (À noter: Il peut vous être utile de connaître votre numéro de sécurité sociale par cœur.) \n",
       "\n",
       "Question : Quels sont les différents éléments d'identification présents dans un numéro de sécurité sociale français ?</pre></div><div style=\"width: 50%; padding:10px;\"> <div style=\"text-align:center;color:blue;\">answer</div> <pre class=\"qq\">Les différents éléments d'identification présents dans un numéro de sécurité sociale français sont les suivants :\n",
       "\n",
       "- Le premier chiffre indique le sexe de la personne (1 pour un homme, 2 pour une femme).\n",
       "- Les deux chiffres suivants correspondent à l'année de naissance.\n",
       "- Les deux chiffres suivants correspondent au mois de naissance.\n",
       "- Les cinq chiffres suivants indiquent le lieu de naissance, avec les deux premiers chiffres représentant le code du département de naissance et les trois chiffres suivants représentant le code commune officiel de l'INSEE.\n",
       "- Les trois chiffres suivants constituent le numéro d'ordre permettant de distinguer les personnes nées au même lieu à la même période.\n",
       "\n",
       "Il est à noter que si la personne est née à l'étranger, les deux chiffres du code du département sont remplacés par 99 et le code commune par un code INSEE du pays de naissance. Dans certains cas spécifiques, des codes spécifiques peuvent figurer à la place du code 99 et du code INSEE du pays concerné pour les personnes nées en Algérie, au Maroc ou en Tunisie avant l'indépendance de ces pays. Par exemple : 91, 92, 93 ou 94 pour l'Algérie, 95 pour le Maroc et 96 pour la Tunisie.</pre></div></div></div>"
      ],
      "text/plain": [
       "<IPython.core.display.HTML object>"
      ]
     },
     "metadata": {},
     "output_type": "display_data"
    },
    {
     "data": {
      "text/html": [
       "<br>"
      ],
      "text/plain": [
       "<IPython.core.display.HTML object>"
      ]
     },
     "metadata": {},
     "output_type": "display_data"
    },
    {
     "data": {
      "text/html": [
       "\n",
       "        <style>\n",
       "            .qq {\n",
       "                word-break: keep-all;\n",
       "                white-space: pre-wrap;\n",
       "            }\n",
       "        </style>\n",
       "\n",
       "        <div style=\"border:1px solid grey;padding:5px;border-radius:8px;\">\n",
       "            <div>ID: ID &nbsp Q: 23</div>\n",
       "            <h5 style=\"font-weight: bold;\">Comment les travailleurs sont-ils informés des risques professionnels auxquels ils peuvent être exposés ?</h5>\n",
       "            <div style=\"display:flex; align-items:top;\"><div style=\"width: 50%; padding:10px;\"> <div style=\"text-align:center;color:blue;\">prompt</div> <pre class=\"qq\">Utilisez les éléments de contexte à votre disposition ci-dessous pour répondre à la question finale. Si vous ne connaissez pas la réponse, dites simplement que vous ne savez pas, n'essayez pas d'inventer une réponse.\n",
       "\n",
       "https://www.service-public.fr/particuliers/vosdroits/F2210 : Santé et sécurité au travail : obligations de l'employeur (Quels sont les salariés concernés ?)\n",
       "Tout salarié et toute personne placée sous l'autorité de l'employeur (salariés en CDI ou CDD, intérimaires, stagiaires) sont concernés. \n",
       "\n",
       "https://www.service-public.fr/particuliers/vosdroits/F2210 : \n",
       "L'employeur doit veiller à la santé et à la sécurité de ses travailleurs en mettant en place des actions de prévention, d'information et de formation. Il doit également évaluer les risques professionnels sur chaque poste de travail. Ces risques sont consignés dans un document. L'employeur a aussi l'obligation d'informer l'inspection du travail en cas d'accident du travail mortel. En cas de non-respect de ces obligations, sa responsabilité civile et/ou pénale peut être engagée. Voici une liste de différents cas possibles:\n",
       "- Quels sont les employeurs concernés ? - Quels sont les salariés concernés ? - Quelles sont les obligations de l'employeur en matière de santé et de sécurité au travail ? - Quelles sont les sanctions pour l'employeur ? \n",
       "\n",
       "https://www.service-public.fr/particuliers/vosdroits/F2210 : Santé et sécurité au travail : obligations de l'employeur (Quelles sont les obligations de l'employeur en matière de santé et de sécurité au travail ?)\n",
       "L'employeur doit prendre des mesures pour assurer la sécurité et protéger la santé mentale et physique de l'ensemble des travailleurs sur leurs postes de travail. \n",
       "\n",
       "https://www.service-public.fr/particuliers/vosdroits/F2210 : Santé et sécurité au travail : obligations de l'employeur (Quels sont les employeurs concernés ?)\n",
       "- Employeurs de droit privé\n",
       "- Établissements publics de santé\n",
       "- Établissements sociaux et médico-sociaux\n",
       "- Épic et Epa employant du personnel dans les conditions de droit privé \n",
       "\n",
       "Question : Comment les travailleurs sont-ils informés des risques professionnels auxquels ils peuvent être exposés ?</pre></div><div style=\"width: 50%; padding:10px;\"> <div style=\"text-align:center;color:blue;\">answer</div> <pre class=\"qq\">Les travailleurs sont informés des risques professionnels auxquels ils peuvent être exposés par l'employeur. L'employeur a l'obligation de mettre en place des actions de prévention, d'information et de formation. Il doit également évaluer les risques professionnels sur chaque poste de travail et consigner ces risques dans un document. Ainsi, les travailleurs sont informés des risques par le biais de ces actions de prévention, d'information et de formation mises en place par l'employeur.</pre></div></div></div>"
      ],
      "text/plain": [
       "<IPython.core.display.HTML object>"
      ]
     },
     "metadata": {},
     "output_type": "display_data"
    },
    {
     "data": {
      "text/html": [
       "<br>"
      ],
      "text/plain": [
       "<IPython.core.display.HTML object>"
      ]
     },
     "metadata": {},
     "output_type": "display_data"
    },
    {
     "data": {
      "text/html": [
       "\n",
       "        <style>\n",
       "            .qq {\n",
       "                word-break: keep-all;\n",
       "                white-space: pre-wrap;\n",
       "            }\n",
       "        </style>\n",
       "\n",
       "        <div style=\"border:1px solid grey;padding:5px;border-radius:8px;\">\n",
       "            <div>ID: ID &nbsp Q: 24</div>\n",
       "            <h5 style=\"font-weight: bold;\">Quelles sont les démarches à suivre pour être déclaré comme salarié et être rémunéré légalement en France en tant que particulier ?</h5>\n",
       "            <div style=\"display:flex; align-items:top;\"><div style=\"width: 50%; padding:10px;\"> <div style=\"text-align:center;color:blue;\">prompt</div> <pre class=\"qq\">Utilisez les éléments de contexte à votre disposition ci-dessous pour répondre à la question finale. Si vous ne connaissez pas la réponse, dites simplement que vous ne savez pas, n'essayez pas d'inventer une réponse.\n",
       "\n",
       "https://www.service-public.fr/particuliers/vosdroits/F142 : \n",
       "La paye du salarié employé à domicile par un particulier employeur est composée d'un salaire de base et d'éléments accessoires (par exemple, heures supplémentaires). Comment est calculé le salaire de base ? Comment sont rémunérés les jours fériés ? Comment sont indemnisées les nuits ? Quelles sont les règles pour payer les congés payés ? Quelles indemnités doivent être versées au salarié ? Nous faisons le point sur la réglementation. Voici une liste de différents cas possibles:\n",
       "- Comment est calculé le salaire de base du salarié du particulier employeur ? - Le salarié du particulier employeur peut-il avoir des indemnités en plus de son salaire ? - Le particulier employeur doit-il prendre en charge les frais de transport public ou de location de vélo de son salarié ? - Comment sont payées les heures supplémentaires du salarié du particulier employeur ? - Le salarié du particulier employeur a-t-il droit à des congés payés ? - Comment sont rémunérés les jours fériés du salarié du particulier employeur ? - Comment est payé le salaire du salarié du particulier employeur ? - Que faire en cas de litige entre le salarié et le particulier employeur ? \n",
       "\n",
       "https://www.service-public.fr/particuliers/vosdroits/F12136 : \n",
       "Oui. Si vous êtes résident européen ou résident en Islande, au Liechtenstein ou en Suisse, vous êtes autorisé à venir en France pour chercher du travail comme demandeur d'emploi. Vous devez accomplir des démarches auprès de Pôle emploi et pouvez toucher des allocations chômage, sous conditions. Votre situation diffère selon le pays d'où vous venez, et selon que vous percevez ou non des prestations de celui-ci. Voici une liste de différents cas possibles:\n",
       "- Quel est votre droit au séjour pour chercher un emploi en France ? - Quel délai avez-vous pour rechercher un emploi en France ? - Comment vous inscrire auprès de Pôle emploi ? - Pouvez-vous transférer vos allocations chômage en France ? \n",
       "\n",
       "https://www.service-public.fr/particuliers/vosdroits/F35535 : \n",
       "Le particulier employeur doit effectuer des démarches en cas de maladie de son salarié à domicile ou de son assistante maternelle. Quelles démarches doit effectuer le particulier employeur en cas de maladie de son salarié ? Le salarié du particulier employeur est-il indemnisé en cas de maladie ? Par qui le salarié du particulier employeur est-il indemnisé en cas de maladie ? Nous faisons un point sur la réglementation. Voici une liste de différents cas possibles:\n",
       "- Le particulier employeur doit-il remplir une attestation de salaire en cas de maladie de son salarié ? - À quel organisme le particulier employeur doit-il transmettre l'attestation de salaire en cas de maladie de son salarié ? - Le salarié du particulier employeur est-il indemnisé en cas de maladie ? \n",
       "\n",
       "https://www.service-public.fr/particuliers/vosdroits/F13897 : \n",
       "Le salarié employé à domicile par un particulier a droit à des congés dans les mêmes conditions que tout autre salarié. Toutefois, certaines règles spécifiques sont fixées par la convention collective. Nous faisons le point sur la réglementation. Voici une liste de différents cas possibles:\n",
       "- Le salarié du particulier employeur a-t-il droit à des congés payés annuels ? - Le salarié du particulier employeur a-t-il droit à des congés sans solde ? - Le salarié du particulier employeur a-t-il droit à des congés liés à l'arrivée d'un enfant ? - Le salarié du particulier employeur a-t-il droit à des congés pour maladie, handicap ou dépendance d'un membre de la famille ? - Le salarié du particulier employeur a-t-il droit à des congés spécifiques ? - Le salarié du particulier employeur a-t-il droit à un congé pour la journée de défense et de citoyenneté ? - Le salarié du particulier employeur a-t-il droit à un congé pour la cérémonie d'accueil dans la citoyenneté française ? - Où s'adresser en cas de litige entre le particulier employeur et le salarié ? \n",
       "\n",
       "Question : Quelles sont les démarches à suivre pour être déclaré comme salarié et être rémunéré légalement en France en tant que particulier ?</pre></div><div style=\"width: 50%; padding:10px;\"> <div style=\"text-align:center;color:blue;\">answer</div> <pre class=\"qq\">Les démarches à suivre pour être déclaré comme salarié et être rémunéré légalement en France en tant que particulier sont les suivantes :\n",
       "- S'inscrire auprès de Pôle emploi pour rechercher un emploi (si vous êtes résident européen ou résident en Islande, au Liechtenstein ou en Suisse).\n",
       "- Effectuer les démarches nécessaires auprès de son employeur pour être embauché en tant que salarié à domicile ou assistant maternel.\n",
       "- Signer un contrat de travail avec son employeur, qui précise notamment les conditions de rémunération.\n",
       "- Le salaire de base du salarié du particulier employeur est calculé selon les modalités prévues par la réglementation en vigueur.\n",
       "- Le salarié du particulier employeur peut percevoir des indemnités en plus de son salaire, en fonction des conditions prévues par la convention collective.\n",
       "- Le particulier employeur doit remplir une attestation de salaire en cas de maladie de son salarié et la transmettre à l'organisme compétent.\n",
       "- Le salarié du particulier employeur a droit à des congés payés annuels, ainsi qu'à d'autres congés spécifiques prévus par la réglementation et la convention collective.\n",
       "- En cas de litige entre le salarié et le particulier employeur, il est possible de s'adresser à des organismes compétents pour trouver une solution.</pre></div></div></div>"
      ],
      "text/plain": [
       "<IPython.core.display.HTML object>"
      ]
     },
     "metadata": {},
     "output_type": "display_data"
    },
    {
     "data": {
      "text/html": [
       "<br>"
      ],
      "text/plain": [
       "<IPython.core.display.HTML object>"
      ]
     },
     "metadata": {},
     "output_type": "display_data"
    },
    {
     "data": {
      "text/html": [
       "\n",
       "        <style>\n",
       "            .qq {\n",
       "                word-break: keep-all;\n",
       "                white-space: pre-wrap;\n",
       "            }\n",
       "        </style>\n",
       "\n",
       "        <div style=\"border:1px solid grey;padding:5px;border-radius:8px;\">\n",
       "            <div>ID: ID &nbsp Q: 25</div>\n",
       "            <h5 style=\"font-weight: bold;\">Comment contacter le Ministère chargé des finances pour obtenir des informations sur l'achat de biens immobiliers ?</h5>\n",
       "            <div style=\"display:flex; align-items:top;\"><div style=\"width: 50%; padding:10px;\"> <div style=\"text-align:center;color:blue;\">prompt</div> <pre class=\"qq\">Utilisez les éléments de contexte à votre disposition ci-dessous pour répondre à la question finale. Si vous ne connaissez pas la réponse, dites simplement que vous ne savez pas, n'essayez pas d'inventer une réponse.\n",
       "\n",
       "https://www.service-public.fr/particuliers/vosdroits/F2753 : \n",
       "Vous êtes intéressé par un bien immobilier que vous venez de visiter ? Vous pouvez soumettre au vendeur une offre d'achat dans laquelle vous exprimez votre intention d'acheter à des conditions que vous fixez vous-même. Ce n'est pas une démarche obligatoire. Nous faisons le point sur l'offre d'achat. Voici une liste de différents cas possibles:\n",
       "- Comment est rédigée l'offre d'achat d'un bien immobilier ? - Quelle est la durée d'une offre d'achat d'un bien immobilier ? - Devez-vous verser une somme d'argent au vendeur lors de la signature de l'offre d'achat d'un bien immobilier ? - Pouvez-vous vous rétracter après avoir signé une offre d'achat d'un bien immobilier ? - Quelle peut être la réponse du vendeur à une offre d'achat d'un bien immobilier ? \n",
       "\n",
       "https://www.service-public.fr/particuliers/vosdroits/F17759 : \n",
       "Vous recherchez des informations sur un bien immobilier sans passer par un notaire ? Vous vous demandez vers quel service vous adresser ? Quels renseignements obtenir ? L'accès à l'information immobilière varie selon l'année d'enregistrement des documents au service de la publicité foncière. Nous vous indiquons comment procéder. Voici une liste de différents cas possibles:\n",
       "- Qui peut demander des informations sur un bien immobilier ? - Quels renseignements immobiliers pouvez-vous demander depuis 1956 ? - Quels renseignements immobiliers demander datant d'avant 1956 ? - Quel est le coût de la démarche ? \n",
       "\n",
       "https://www.service-public.fr/particuliers/vosdroits/F17759 : Comment obtenir des renseignements immobiliers ? (Quel est le coût de la démarche ?)\n",
       "Les tarifs pour votre demande de renseignements (copies ou extraits de documents) sont indiqués sur la notice jointe à chaque formulaire. Ils sont variables suivant le type de demande. Vous pouvez calculer le coût de votre demande de renseignements immobiliers dans chaque formulaire. Les modes de paiement des droits d'enregistrement sont les suivants :\n",
       "- Espèces jusqu'à 300 €\n",
       "\n",
       "- Chèque à l'ordre du Trésor public lorsque le montant est inférieur à 1 000 €\n",
       "\n",
       "- Chèque certifié à l'ordre du Trésor public lorsque le montant est supérieur à 1 000 €\n",
       "\n",
       "- Virement\n",
       "Des frais d'envoi sont réclamés si vous souhaitez obtenir la réponse par voie postale. \n",
       "\n",
       "https://www.service-public.fr/particuliers/vosdroits/F32061 : \n",
       "Vous souhaitez acheter un logement, vous consultez les annonces immobilières et vous voulez connaître les informations qui doivent y apparaitre ? Nous faisons un point sur la réglementation. Quel que soit le type de logement que vous recherchez, le contenu de l'annonce immobilière est identique. Cependant, pour un bien situé en copropriété, l'annonce est complétée par des informations concernant la copropriété. Voici une liste de différents cas possibles:\n",
       "- Quelles informations sur le bien vendu doivent figurer dans l'annonce ? - Comment doit être indiqué le prix de vente dans l'annonce ? - Faut-il afficher le diagnostic de performance énergétique dans l'annonce ? - Comment le consommateur est-il informé des risques naturels et technologiques majeurs ? - Quels renseignements sur l'agence doivent figurer sur l'annonce ? \n",
       "\n",
       "Question : Comment contacter le Ministère chargé des finances pour obtenir des informations sur l'achat de biens immobiliers ?</pre></div><div style=\"width: 50%; padding:10px;\"> <div style=\"text-align:center;color:blue;\">answer</div> <pre class=\"qq\">La réponse à la question finale n'est pas fournie dans les éléments de contexte donnés.</pre></div></div></div>"
      ],
      "text/plain": [
       "<IPython.core.display.HTML object>"
      ]
     },
     "metadata": {},
     "output_type": "display_data"
    },
    {
     "data": {
      "text/html": [
       "<br>"
      ],
      "text/plain": [
       "<IPython.core.display.HTML object>"
      ]
     },
     "metadata": {},
     "output_type": "display_data"
    },
    {
     "data": {
      "text/html": [
       "\n",
       "        <style>\n",
       "            .qq {\n",
       "                word-break: keep-all;\n",
       "                white-space: pre-wrap;\n",
       "            }\n",
       "        </style>\n",
       "\n",
       "        <div style=\"border:1px solid grey;padding:5px;border-radius:8px;\">\n",
       "            <div>ID: ID &nbsp Q: 26</div>\n",
       "            <h5 style=\"font-weight: bold;\">Quels sont les critères pris en compte pour déterminer la capacité de travail d'une personne atteinte d'une maladie professionnelle ?</h5>\n",
       "            <div style=\"display:flex; align-items:top;\"><div style=\"width: 50%; padding:10px;\"> <div style=\"text-align:center;color:blue;\">prompt</div> <pre class=\"qq\">Utilisez les éléments de contexte à votre disposition ci-dessous pour répondre à la question finale. Si vous ne connaissez pas la réponse, dites simplement que vous ne savez pas, n'essayez pas d'inventer une réponse.\n",
       "\n",
       "https://www.service-public.fr/particuliers/vosdroits/F32158 : \n",
       "Vous vous demandez comment votre reprise du travail va s'effectuer à la suite de votre maladie professionnelle ? Vous souhaitez savoir si vous allez être soumis ou non à une visite médicale ? Nous vous communiquons les éléments à connaître. Les informations diffèrent selon la durée de votre arrêt maladie : jusqu'à 3 mois ou plus de 3 mois. Voici une liste de différents cas possibles:\n",
       "- Quel est le but de la visite médicale de reprise du travail ? - Dans quelles conditions reprenez-vous le travail ? - Pouvez-vous reprendre à temps partiel (appelé travail léger pour raison médicale) ? - Quel est l'objectif de la visite de préreprise du travail ? - Quel est le but de la visite de reprise ? \n",
       "\n",
       "https://www.service-public.fr/particuliers/vosdroits/F2831 : \n",
       "Lorsque l'employeur envisage de licencier un ou plusieurs salariés pour un motif économique , il doit prendre en compte des critères pour fixer l'ordre des licenciements économiques. Quels sont les critères pris en compte pour fixer cet ordre ? L'employeur doit-il informer le salarié licencié des critères retenus ? L'employeur peut-il être sanctionné s'il ne respecte pas les critères ? Nous faisons un point sur la réglementation. Voici une liste de différents cas possibles:\n",
       "- Dans quels cas l'employeur prend en compte des critères pour fixer l'ordre des licenciements économiques ? - Comment sont mis en oeuvre les critères d'ordre de licenciement économique ? - Quels sont les critères pris en compte pour fixer l'ordre des licenciements économiques ? - L'employeur peut-il favoriser un des critères de licenciement économique ? - Comment le salarié peut-il être informé des critères retenus pour fixer l'ordre des licenciements ? - L'employeur peut-il être sanctionné s'il ne respecte pas les critères ? \n",
       "\n",
       "https://www.service-public.fr/particuliers/vosdroits/F726 : \n",
       "En fonction des conséquences de votre maladie sur votre état de santé, le médecin du travail peut vous déclarer inapte, partiellement ou totalement, à reprendre votre emploi initial. Toutefois, il peut vous déclarer capable d'exercer d'autres fonctions dans l'entreprise adaptées à vos capacités physiques. Voici une liste de différents cas possibles:\n",
       "- Comment est reconnue votre inaptitude ? - Comment êtes-vous reclassé ? - Quelle rémunération est perçue pendant la période de reclassement ? - Que se passe-t il en cas de rupture de votre contrat alors que vous avez été déclaré(e) inapte ? \n",
       "\n",
       "https://www.service-public.fr/particuliers/vosdroits/F32161 : \n",
       "En fonction des conséquences de votre maladie professionnelle sur votre état de santé, le médecin du travail peut vous déclarer inapte, partiellement ou totalement, à reprendre votre emploi initial. Toutefois, il peut vous déclarer capable d'exercer d'autres fonctions dans l'entreprise adaptées à vos capacités physiques. Dans ce cas, sauf exception, votre employeur doit vous proposer un autre poste (on parle de reclassement ). Voici une liste de différents cas possibles:\n",
       "- Comment est reconnue votre inaptitude ? - Comment êtes-vous reclassé ? - Quelle rémunération est perçue pendant la période de reclassement ? - Que se passe-t il en cas de rupture de votre contrat alors que vous avez été déclaré(e) inapte ? \n",
       "\n",
       "Question : Quels sont les critères pris en compte pour déterminer la capacité de travail d'une personne atteinte d'une maladie professionnelle ?</pre></div><div style=\"width: 50%; padding:10px;\"> <div style=\"text-align:center;color:blue;\">answer</div> <pre class=\"qq\">D'après les éléments de contexte fournis, il n'est pas possible de déterminer les critères pris en compte pour déterminer la capacité de travail d'une personne atteinte d'une maladie professionnelle.</pre></div></div></div>"
      ],
      "text/plain": [
       "<IPython.core.display.HTML object>"
      ]
     },
     "metadata": {},
     "output_type": "display_data"
    },
    {
     "data": {
      "text/html": [
       "<br>"
      ],
      "text/plain": [
       "<IPython.core.display.HTML object>"
      ]
     },
     "metadata": {},
     "output_type": "display_data"
    },
    {
     "data": {
      "text/html": [
       "\n",
       "        <style>\n",
       "            .qq {\n",
       "                word-break: keep-all;\n",
       "                white-space: pre-wrap;\n",
       "            }\n",
       "        </style>\n",
       "\n",
       "        <div style=\"border:1px solid grey;padding:5px;border-radius:8px;\">\n",
       "            <div>ID: ID &nbsp Q: 27</div>\n",
       "            <h5 style=\"font-weight: bold;\">Quels sont les délais et conditions à respecter pour une demande de congé pour les salariés d'une association d'intérêt général ?</h5>\n",
       "            <div style=\"display:flex; align-items:top;\"><div style=\"width: 50%; padding:10px;\"> <div style=\"text-align:center;color:blue;\">prompt</div> <pre class=\"qq\">Utilisez les éléments de contexte à votre disposition ci-dessous pour répondre à la question finale. Si vous ne connaissez pas la réponse, dites simplement que vous ne savez pas, n'essayez pas d'inventer une réponse.\n",
       "\n",
       "https://www.service-public.fr/particuliers/vosdroits/F2335 : Congé de représentation pour un représentant d'une association (Salarié > Quel est le délai pour demander un congé de représentation ?)\n",
       "En principe, le délai dans lequel vous devez adresser votre demande de congé à votre employeur est également fixé dans une convention collective ou un accord collectif. En l'absence d'accord collectif, vous devez adresser votre demande à votre employeur au moins 15 jours avant le début du congé. Vous devez préciser la date, la durée de l'absence envisagée et l'instance au sein de laquelle vous êtes appelé à siéger. \n",
       "\n",
       "https://www.service-public.fr/particuliers/vosdroits/F2335 : \n",
       "Vous êtes appelé à représenter votre association au sein d'une instance et vous voulez savoir si, en tant que salarié ou agent public, vous pouvez bénéficier d'un congé dit de représentation ? Nous vous présentons les informations à connaître. Une association loi 1901 ou une association relevant du régime d'Alsace-Moselle est concernée par ce dispositif. Voici une liste de différents cas possibles:\n",
       "- Quel est l'objet du congé de représentation ? - Combien de salariés peuvent bénéficier de ce congé au sein d'un établissement ? - Quelle est la durée d'un congé de représentation ? - Quel est le délai pour demander un congé de représentation ? - Dans quel cas votre employeur peut-il refuser une demande de congé de représentation ? - Faut-il fournir un justificatif de participation à l'employeur ? - Êtes-vous rémunéré durant le congé de représentation ? - Quel est le nombre de jours de congé de représentation ? - Quelle est la durée du congé de représentation ? - Une demande de congé de représentation peut-elle être refusée ? - Peut-on cumuler le congé de représentation avec un autre congé ? - Etes-vous rémunéré durant le congé de représentation ? \n",
       "\n",
       "https://www.service-public.fr/particuliers/vosdroits/F13897 : \n",
       "Le salarié employé à domicile par un particulier a droit à des congés dans les mêmes conditions que tout autre salarié. Toutefois, certaines règles spécifiques sont fixées par la convention collective. Nous faisons le point sur la réglementation. Voici une liste de différents cas possibles:\n",
       "- Le salarié du particulier employeur a-t-il droit à des congés payés annuels ? - Le salarié du particulier employeur a-t-il droit à des congés sans solde ? - Le salarié du particulier employeur a-t-il droit à des congés liés à l'arrivée d'un enfant ? - Le salarié du particulier employeur a-t-il droit à des congés pour maladie, handicap ou dépendance d'un membre de la famille ? - Le salarié du particulier employeur a-t-il droit à des congés spécifiques ? - Le salarié du particulier employeur a-t-il droit à un congé pour la journée de défense et de citoyenneté ? - Le salarié du particulier employeur a-t-il droit à un congé pour la cérémonie d'accueil dans la citoyenneté française ? - Où s'adresser en cas de litige entre le particulier employeur et le salarié ? \n",
       "\n",
       "https://www.service-public.fr/particuliers/vosdroits/F2335 : Congé de représentation pour un représentant d'une association (Agent public > Quel est le délai pour demander un congé de représentation ?)\n",
       "Vous devez formuler votre demande de congé par écrit au moins 15 jours avant la date de début du congé. Vous devez préciser la date et la durée de l'absence envisagée. Votre demande doit être accompagnée de la copie de votre convocation à l'instance concernée. \n",
       "\n",
       "Question : Quels sont les délais et conditions à respecter pour une demande de congé pour les salariés d'une association d'intérêt général ?</pre></div><div style=\"width: 50%; padding:10px;\"> <div style=\"text-align:center;color:blue;\">answer</div> <pre class=\"qq\">Selon les éléments de contexte fournis, le délai pour demander un congé de représentation pour les salariés d'une association d'intérêt général est au moins 15 jours avant le début du congé. La demande doit préciser la date, la durée de l'absence envisagée et l'instance au sein de laquelle le salarié est appelé à siéger.</pre></div></div></div>"
      ],
      "text/plain": [
       "<IPython.core.display.HTML object>"
      ]
     },
     "metadata": {},
     "output_type": "display_data"
    },
    {
     "data": {
      "text/html": [
       "<br>"
      ],
      "text/plain": [
       "<IPython.core.display.HTML object>"
      ]
     },
     "metadata": {},
     "output_type": "display_data"
    },
    {
     "data": {
      "text/html": [
       "\n",
       "        <style>\n",
       "            .qq {\n",
       "                word-break: keep-all;\n",
       "                white-space: pre-wrap;\n",
       "            }\n",
       "        </style>\n",
       "\n",
       "        <div style=\"border:1px solid grey;padding:5px;border-radius:8px;\">\n",
       "            <div>ID: ID &nbsp Q: 28</div>\n",
       "            <h5 style=\"font-weight: bold;\">Quels sont les critères et les procédures à suivre pour bénéficier de l'assistance juridique et des frais de procédure pris en charge par l'administration dans le cadre de poursuites judiciaires liées à l'exercice de son activité professionnelle ?</h5>\n",
       "            <div style=\"display:flex; align-items:top;\"><div style=\"width: 50%; padding:10px;\"> <div style=\"text-align:center;color:blue;\">prompt</div> <pre class=\"qq\">Utilisez les éléments de contexte à votre disposition ci-dessous pour répondre à la question finale. Si vous ne connaissez pas la réponse, dites simplement que vous ne savez pas, n'essayez pas d'inventer une réponse.\n",
       "\n",
       "https://www.service-public.fr/particuliers/vosdroits/F18074 : Aide juridictionnelle (Vous résidez hors de l'UE ou au Danemark et la procédure se déroule en France > Quels sont les documents à joindre à la demande ? > Absence d'intervention de l'assurance ou de l'employeur)\n",
       "Vous devez signaler si vos frais de justice sont pris en charge ou non par une de vos assurances ou par une assurance de votre employeur. Si l'assurance ne prend pas en charge les frais du procès, vous devez joindre une attestation de non-prise en charge (cerfa n°15173) : Si votre assurance prend en charge une partie des frais, vous devez joindre une attestation de l'assureur qui précise le plafond de garantie effectivement pris en charge et la nature des frais pris en charge. Si le litige concerne votre activité professionnelle alors que votre employeur refuse de prendre en charge les frais de procédure, vous devez fournir un refus écrit de votre employeur sur papier libre. \n",
       "\n",
       "https://www.service-public.fr/particuliers/vosdroits/F32574 : À quelle protection a droit un agent public agressé à son travail ? (En quoi consiste la protection fonctionnelle ? > Assistance juridique)\n",
       "En cas d'agression, votre administration employeur doit réparer le préjudice (économique, personnel, matériel, corporel, moral) qui peut en résulter pour vous ou vos proches. Si vous faites l'objet de poursuites pénales pour faute de service, votre administration employeur doit vous accorder sa protection. En cas de faute de service, votre responsabilité civile ne peut pas être engagée. Si toutefois, vous êtes poursuivi par un tiers pour faute de service et si la juridiction saisie n'a pas été déclarée incompétente, votre administration employeur doit vous couvrir des condamnations civiles prononcées contre vous. (Rappel: Pour bénéficier de la protection fonctionnelle, vous ne devez pas avoir commis de faute personnelle.) Si vous engagez une action en justice à la suite d'une agression ou si vous êtes poursuivi pour une faute de service, votre administration employeur prend en charge vos frais de procédure en tout ou partie. Vous êtes libre de choisir votre avocat et d'organiser votre stratégie de défense. Votre administration employeur peut vous assister dans le choix d'un avocat. Votre administration employeur peut conclure une convention avec l'avocat que vous avez désigné ou accepté et, éventuellement, avec vous. La convention détermine le montant des honoraires pris en charge par votre administration. Elle fixe les conditions dans lesquelles les autres frais de procédure sont pris en charge. Votre administration employeur règle directement à l'avocat les frais prévus par la convention. En l'absence de convention, la prise en charge des frais vous est directement réglée sur présentation des factures. Lorsque votre administration employeur a réparé le préjudice dont vous, ou vos proches, avez été victime, elle peut engager, à votre place, une action en justice contre les auteurs de votre agression pour récupérer de leur part le remboursement des sommes qu'elle vous a versées. \n",
       "\n",
       "https://www.service-public.fr/particuliers/vosdroits/F18074 : Aide juridictionnelle (Vous résidez en France et la procédure se déroule dans un pays de l'Union européenne (UE) > Quelles sont les conditions d'attribution de l'aide juridictionnelle ?)\n",
       "Pour bénéficier de l'aide juridictionnelle, vous devez être dans l'incapacité de faire face aux frais de justice liés au litige transfrontalier. De plus, ces frais ne doivent pas être pris en charge par une assurance ou par votre employeur. Votre situation économique sera évaluée par l'autorité compétente du pays dans lequel se déroule la procédure. Cet examen se fait sur la base de critères liés à vos revenus, à votre épargne financière et à votre situation familiale. Si l'aide vous est refusée parce que vos revenus ou votre épargne dépassent les plafonds, vous pouvez quand même apporter la preuve que vous ne pouvez pas faire face aux frais de justice. Vous pouvez par exemple démonter qu'il y a une différence du coût de la vie entre la France et le pays dans lequel va se dérouler la procédure. \n",
       "\n",
       "https://www.service-public.fr/particuliers/vosdroits/F18074 : \n",
       "Vous devez faire valoir vos droits en justice , mais vous n'avez pas d'argent ? Vous pouvez peut-être bénéficier de l 'aide juridictionnelle . Dans ce cas, c'est l'État qui prend en charge le coût de la procédure à votre place . Attention, vous ne toucherez pas d'argent, l'aide servira à payer directement vos frais de justice. Les règles applicables varient suivant votre lieu de résidence et votre nationalité. Nous vous guidons dans votre démarche et vous expliquons vos droits. Voici une liste de différents cas possibles:\n",
       "- Comment savoir si vous pouvez bénéficier de l'aide juridictionnelle ? - Quelles sont les conditions d'attribution de l'aide juridictionnelle ? - Comment faire la demande ? - Quels sont les documents à joindre à la demande ? - Comment la demande est-elle traitée par le bureau d'aide juridictionnelle ? - Quels sont les frais couverts par l'aide juridictionnelle ? - Pouvez-vous choisir vous-même l'avocat ? - Comment payer l'avocat ? - Que faire en cas de refus d'aide juridictionnelle ? - Comment faire la demande d'aide juridictionnelle ? - Le montant de l'aide est-il le même pour tout le monde ? - Existe-t-il un recours contre le refus d'aide juridictionnelle ? - Le montant de l'aide juridictionnelle est-il le même pour tout le monde ? \n",
       "\n",
       "Question : Quels sont les critères et les procédures à suivre pour bénéficier de l'assistance juridique et des frais de procédure pris en charge par l'administration dans le cadre de poursuites judiciaires liées à l'exercice de son activité professionnelle ?</pre></div><div style=\"width: 50%; padding:10px;\"> <div style=\"text-align:center;color:blue;\">answer</div> <pre class=\"qq\">Les critères pour bénéficier de l'assistance juridique et des frais de procédure pris en charge par l'administration dans le cadre de poursuites judiciaires liées à l'exercice de son activité professionnelle sont les suivants :\n",
       "\n",
       "1. L'agent public doit faire l'objet de poursuites pénales pour faute de service.\n",
       "2. L'agression ou la faute de service ne doit pas résulter d'une faute personnelle de l'agent.\n",
       "3. L'administration employeur doit accorder sa protection à l'agent.\n",
       "4. L'agent peut choisir librement son avocat et organiser sa stratégie de défense.\n",
       "5. L'administration employeur peut assister l'agent dans le choix de son avocat.\n",
       "6. Une convention peut être conclue entre l'administration employeur, l'avocat désigné par l'agent et éventuellement l'agent lui-même.\n",
       "7. La convention détermine le montant des honoraires pris en charge par l'administration et les conditions de prise en charge des autres frais de procédure.\n",
       "8. L'administration employeur règle directement à l'avocat les frais prévus par la convention.\n",
       "9. En l'absence de convention, l'agent peut présenter les factures des frais de procédure pour être remboursé directement par l'administration.\n",
       "10. L'administration employeur peut engager une action en justice contre les auteurs de l'agression pour récupérer les sommes versées à l'agent.\n",
       "\n",
       "Il convient de noter que ces critères et procédures sont spécifiques aux agents publics et peuvent différer pour d'autres situations.</pre></div></div></div>"
      ],
      "text/plain": [
       "<IPython.core.display.HTML object>"
      ]
     },
     "metadata": {},
     "output_type": "display_data"
    },
    {
     "data": {
      "text/html": [
       "<br>"
      ],
      "text/plain": [
       "<IPython.core.display.HTML object>"
      ]
     },
     "metadata": {},
     "output_type": "display_data"
    },
    {
     "data": {
      "text/html": [
       "\n",
       "        <style>\n",
       "            .qq {\n",
       "                word-break: keep-all;\n",
       "                white-space: pre-wrap;\n",
       "            }\n",
       "        </style>\n",
       "\n",
       "        <div style=\"border:1px solid grey;padding:5px;border-radius:8px;\">\n",
       "            <div>ID: ID &nbsp Q: 29</div>\n",
       "            <h5 style=\"font-weight: bold;\">Quels sont les droits et responsabilités des adoptants envers l'enfant adopté ?</h5>\n",
       "            <div style=\"display:flex; align-items:top;\"><div style=\"width: 50%; padding:10px;\"> <div style=\"text-align:center;color:blue;\">prompt</div> <pre class=\"qq\">Utilisez les éléments de contexte à votre disposition ci-dessous pour répondre à la question finale. Si vous ne connaissez pas la réponse, dites simplement que vous ne savez pas, n'essayez pas d'inventer une réponse.\n",
       "\n",
       "https://www.service-public.fr/particuliers/vosdroits/F3140 : Placement d'un enfant sur décision judiciaire (Quels sont les droits et obligations des parents ? > Droits de visite et d'hébergement)\n",
       "Le choix du lieu d'accueil doit faciliter le droit de visite et d'hébergement par le ou les parents et le maintien des liens de l'enfant avec ses frères et sœurs. Si l'enfant a été confié à une personne ou un établissement, ses parents conservent un droit de correspondance et un droit de visite et d'hébergement. Le juge en fixe les conditions et peut, dans l'intérêt de l'enfant, décider que :\n",
       "- ses droits, ou l'un d'eux, sont provisoirement suspendus,\n",
       "- le droit de visite des parents ne peut s'exercer que dans un espace de rencontre ou en présence d'un tiers. Dans l'intérêt de l'enfant ou en cas de danger, le juge peut décider de l'anonymat du lieu d'accueil. \n",
       "\n",
       "https://www.service-public.fr/particuliers/vosdroits/F1094 : \n",
       "Si vous vivez en couple avec le père ou la mère d'un enfant , vous pouvez adopter ce mineur sous certaines conditions. La procédure se déroule devant le tribunal judiciaire. C'est l'adoptant qui doit faire la demande de l'adoption. Nous vous présentons les informations à connaître. L'adoption simple diffère de l'adoption plénière sur plusieurs points. Dans le cas de l'adoption simple, les liens avec la famille d'origine sont maintenus. Dans le cas de l'adoption plénière, il y a une rupture totale des liens de l'adopté avec sa famille d'origine. Voici une liste de différents cas possibles:\n",
       "- Quelles conditions doit remplir l'adoptant ? - Quelles conditions doit remplir l'adopté ? - Qui doit consentir à l'adoption ? - Quelle est la procédure ? - Quels sont les effets de l'adoption ? - Dans quels cas ? - Qui doit consentir ? - Quelles sont les effets de l'adoption ? \n",
       "\n",
       "https://www.service-public.fr/particuliers/vosdroits/F3151 : \n",
       "Un couple peut adopter un mineur par adoption simple ou plénière sous certaines conditions. La procédure se déroule devant le tribunal judiciaire. L'adoption crée un lien de filiation entre les adoptants et l'adopté . Nous vous présentons les informations à connaître. L'adoption simple diffère de l'adoption plénière sur plusieurs points. Dans le cas de l'adoption simple, les liens avec la famille d'origine sont maintenus. Dans le cas de l'adoption plénière, il y a une rupture totale des liens de l'adopté avec sa famille d'origine. Voici une liste de différents cas possibles:\n",
       "- Quelles sont les conditions à remplir par le couple adoptant ? - Quels sont les enfants pouvant être adoptés ? - Quelles sont les démarches ? - Effets de l'adoption\n",
       "- Conditions à remplir par le couple\n",
       "- Quels enfants peuvent être adoptés ? - Quels sont les effets de l'adoption ? \n",
       "\n",
       "https://www.service-public.fr/particuliers/vosdroits/F1260 : Famille d'accueil (assistant familial) (Droits et devoirs vis-à-vis de l'enfant : quelle incidence ?)\n",
       "En principe, les parents conservent leurs droits et devoirs vis-à-vis de leur(s) enfant(s). On parle d'autorité parentale. De ce fait, en tant qu'assistant(e) familial(e), vous devez leur demander leurs autorisations en ce qui concerne la vie de l'enfant (par exemple, consulter un médecin, subir une opération, sortir le soir, faire une sortie ou un voyage scolaire). Lorsque l'enfant est présent à plein temps, vous devez obtenir l'autorisation de ses parents pour l'emmener en vacances. \n",
       "\n",
       "Question : Quels sont les droits et responsabilités des adoptants envers l'enfant adopté ?</pre></div><div style=\"width: 50%; padding:10px;\"> <div style=\"text-align:center;color:blue;\">answer</div> <pre class=\"qq\">Les droits et responsabilités des adoptants envers l'enfant adopté dépendent du type d'adoption réalisée. Dans le cas de l'adoption simple, les liens avec la famille d'origine sont maintenus, ce qui signifie que les adoptants ont le devoir de respecter ces liens et de permettre à l'enfant d'entretenir des relations avec sa famille d'origine. Les adoptants ont également la responsabilité d'éduquer et de prendre soin de l'enfant adopté, en lui offrant un environnement stable et sécurisant.\n",
       "\n",
       "Dans le cas de l'adoption plénière, il y a une rupture totale des liens de l'adopté avec sa famille d'origine. Les adoptants acquièrent alors tous les droits et responsabilités parentaux sur l'enfant adopté, devenant ses parents légaux. Ils ont donc l'obligation de subvenir aux besoins de l'enfant, de le protéger et de lui offrir un foyer aimant et stable. Ils ont également le droit de prendre toutes les décisions importantes concernant l'enfant, telles que l'éducation, la santé et les loisirs.\n",
       "\n",
       "Il est important de noter que les droits et responsabilités des adoptants sont fixés par la loi et peuvent varier en fonction du pays et de la législation spécifique à l'adoption.</pre></div></div></div>"
      ],
      "text/plain": [
       "<IPython.core.display.HTML object>"
      ]
     },
     "metadata": {},
     "output_type": "display_data"
    },
    {
     "data": {
      "text/html": [
       "<br>"
      ],
      "text/plain": [
       "<IPython.core.display.HTML object>"
      ]
     },
     "metadata": {},
     "output_type": "display_data"
    },
    {
     "data": {
      "text/html": [
       "\n",
       "        <style>\n",
       "            .qq {\n",
       "                word-break: keep-all;\n",
       "                white-space: pre-wrap;\n",
       "            }\n",
       "        </style>\n",
       "\n",
       "        <div style=\"border:1px solid grey;padding:5px;border-radius:8px;\">\n",
       "            <div>ID: ID &nbsp Q: 30</div>\n",
       "            <h5 style=\"font-weight: bold;\">Comment obtenir une Carte Mobilité Inclusion (CMI) et quelles sont les avantages qui en découlent ?</h5>\n",
       "            <div style=\"display:flex; align-items:top;\"><div style=\"width: 50%; padding:10px;\"> <div style=\"text-align:center;color:blue;\">prompt</div> <pre class=\"qq\">Utilisez les éléments de contexte à votre disposition ci-dessous pour répondre à la question finale. Si vous ne connaissez pas la réponse, dites simplement que vous ne savez pas, n'essayez pas d'inventer une réponse.\n",
       "\n",
       "https://www.service-public.fr/particuliers/vosdroits/F34049 : Carte mobilité inclusion (CMI) (Priorité > Comment utiliser la CMI Priorité ?)\n",
       "Vous devez conserver la carte sur vous lors de vos déplacements. \n",
       "\n",
       "https://www.service-public.fr/particuliers/vosdroits/F34049 : Carte mobilité inclusion (CMI) (Stationnement > Comment renouveler la CMI Stationnement ?)\n",
       "La demande de renouvellement doit se faire à partir du même formulaire ou téléservice que pour la demande initiale. \n",
       "\n",
       "https://www.service-public.fr/particuliers/vosdroits/F34049 : Carte mobilité inclusion (CMI) (Priorité > À quoi sert la CMI Priorité ?)\n",
       "Cette carte vous permet d'obtenir le droit d'utiliser une place assise dans les transports en commun et les salles d'attente. Elle vous permet également d'être prioritaire dans les files d'attente. La personne qui vous accompagne dans vos déplacements bénéficie de ces mêmes avantages. (À noter: la CMI priorité remplace l'ancienne carte de priorité .) \n",
       "\n",
       "https://www.service-public.fr/particuliers/vosdroits/F34049 : Carte mobilité inclusion (CMI) (Priorité > Que faire en cas de perte, vol ou destruction de la CMI Priorité ?)\n",
       "Vous pouvez demander un duplicata par le biais d'un téléservice : \n",
       "\n",
       "Question : Comment obtenir une Carte Mobilité Inclusion (CMI) et quelles sont les avantages qui en découlent ?</pre></div><div style=\"width: 50%; padding:10px;\"> <div style=\"text-align:center;color:blue;\">answer</div> <pre class=\"qq\">Pour obtenir une Carte Mobilité Inclusion (CMI), vous devez faire une demande en utilisant le formulaire ou le téléservice approprié. Une fois que vous avez obtenu la CMI, vous devez la conserver sur vous lors de vos déplacements. La CMI offre plusieurs avantages, notamment le droit d'utiliser une place assise dans les transports en commun et les salles d'attente, ainsi que la priorité dans les files d'attente. La personne qui vous accompagne dans vos déplacements bénéficie également de ces avantages. En cas de perte, vol ou destruction de la CMI, vous pouvez demander un duplicata via un téléservice.</pre></div></div></div>"
      ],
      "text/plain": [
       "<IPython.core.display.HTML object>"
      ]
     },
     "metadata": {},
     "output_type": "display_data"
    },
    {
     "data": {
      "text/html": [
       "<br>"
      ],
      "text/plain": [
       "<IPython.core.display.HTML object>"
      ]
     },
     "metadata": {},
     "output_type": "display_data"
    },
    {
     "data": {
      "text/html": [
       "\n",
       "        <style>\n",
       "            .qq {\n",
       "                word-break: keep-all;\n",
       "                white-space: pre-wrap;\n",
       "            }\n",
       "        </style>\n",
       "\n",
       "        <div style=\"border:1px solid grey;padding:5px;border-radius:8px;\">\n",
       "            <div>ID: ID &nbsp Q: 31</div>\n",
       "            <h5 style=\"font-weight: bold;\">Quels sont les critères pris en compte par l'organisme de sécurité sociale pour reconnaître une maladie professionnelle à travers l'examen médical ?</h5>\n",
       "            <div style=\"display:flex; align-items:top;\"><div style=\"width: 50%; padding:10px;\"> <div style=\"text-align:center;color:blue;\">prompt</div> <pre class=\"qq\">Utilisez les éléments de contexte à votre disposition ci-dessous pour répondre à la question finale. Si vous ne connaissez pas la réponse, dites simplement que vous ne savez pas, n'essayez pas d'inventer une réponse.\n",
       "\n",
       "https://www.service-public.fr/particuliers/vosdroits/F648 : \n",
       "L'organisme de sécurité sociale auquel vous êtes rattaché en matière d'assurance maladie dépend de votre activité professionnelle, quelle que soit votre nationalité. Voici une liste de différents cas possibles:\n",
       "- Salarié du privé\n",
       "- Fonctionnaire\n",
       "- Activité agricole\n",
       "- Indépendant\n",
       "- Militaire\n",
       "- Activités ambulantes\n",
       "- Statut particulier (entreprise publique, marin, employé des mines...)\n",
       "- Autre situation \n",
       "\n",
       "https://www.service-public.fr/particuliers/vosdroits/F648 : À quel organisme de sécurité sociale est-on rattaché pour l'assurance maladie ? (Autre situation)\n",
       "Si vous ne relevez d'aucun régime professionnel, vous pouvez, sous conditions, être affilié au régime général sur critère de résidence. \n",
       "\n",
       "https://www.service-public.fr/particuliers/vosdroits/F176 : \n",
       "Votre médecin traitant constate que la dégradation de votre état de santé est liée à votre travail et vous souhaitez savoir comment faire pour qu'elle puisse être reconnue d'origine professionnelle ? Nous vous présentons la démarche à effectuer. Voici une liste de différents cas possibles:\n",
       "- Qu'est-ce qu'une maladie professionnelle ? - 1ère étape : faire la déclaration de reconnaissance de maladie professionnelle\n",
       "- 2e étape : information de votre organisme de sécurité sociale à votre employeur\n",
       "- 3e étape : examen du dossier par votre organisme de sécurité sociale\n",
       "- 4e étape : réception de la décision de votre organisme de sécurité sociale\n",
       "- 5e étape : en cas de reconnaissance de la maladie professionnelle, versement de l'indemnisation et gratuité des soins\n",
       "- Qui est concerné par la reconnaissance de l'affection Covid-19 en maladie professionnelle ? - Comment faire la déclaration de reconnaissance de maladie professionnelle ? - Comment sont pris en charge vos frais médicaux lorsque la maladie est reconnue d'origine professionnelle ? \n",
       "\n",
       "https://www.service-public.fr/particuliers/vosdroits/F34084 : \n",
       "Un salarié saisonnier bénéficie, comme tous les salariés, d'une surveillance médicale . Lorsque le salarié saisonnier travaille dans l'agriculture , il bénéficie d'un suivi médical particulier . L'examen médical d'embauche est-il obligatoire pour un salarié saisonnier ? Existe-t-il des cas de dispense ? Peut-il bénéficier de toutes les visites médicales comme les autres salariés ? Nous faisons un point sur la réglementation. Voici une liste de différents cas possibles:\n",
       "- Une visite médicale est-elle obligatoire lors de l'embauche d'un salarié saisonnier ? - Le salarié saisonnier bénéficie-t-il d'autres visites médicales ? - Une visite médicale est-elle obligatoire lors de l'embauche d'un salarié saisonnier agricole ? - Le salarié saisonnier agricole peut-il être dispensé de visite médicale lors de son embauche ? - Le salarié saisonnier agricole bénéficie-t-il d'autres visites médicales ? \n",
       "\n",
       "Question : Quels sont les critères pris en compte par l'organisme de sécurité sociale pour reconnaître une maladie professionnelle à travers l'examen médical ?</pre></div><div style=\"width: 50%; padding:10px;\"> <div style=\"text-align:center;color:blue;\">answer</div> <pre class=\"qq\">D'après les éléments de contexte fournis, il n'est pas possible de répondre à la question posée.</pre></div></div></div>"
      ],
      "text/plain": [
       "<IPython.core.display.HTML object>"
      ]
     },
     "metadata": {},
     "output_type": "display_data"
    },
    {
     "data": {
      "text/html": [
       "<br>"
      ],
      "text/plain": [
       "<IPython.core.display.HTML object>"
      ]
     },
     "metadata": {},
     "output_type": "display_data"
    },
    {
     "data": {
      "text/html": [
       "\n",
       "        <style>\n",
       "            .qq {\n",
       "                word-break: keep-all;\n",
       "                white-space: pre-wrap;\n",
       "            }\n",
       "        </style>\n",
       "\n",
       "        <div style=\"border:1px solid grey;padding:5px;border-radius:8px;\">\n",
       "            <div>ID: ID &nbsp Q: 32</div>\n",
       "            <h5 style=\"font-weight: bold;\">Quels sont les documents nécessaires pour effectuer son recensement citoyen (mariage, pacs, enfant) ?</h5>\n",
       "            <div style=\"display:flex; align-items:top;\"><div style=\"width: 50%; padding:10px;\"> <div style=\"text-align:center;color:blue;\">prompt</div> <pre class=\"qq\">Utilisez les éléments de contexte à votre disposition ci-dessous pour répondre à la question finale. Si vous ne connaissez pas la réponse, dites simplement que vous ne savez pas, n'essayez pas d'inventer une réponse.\n",
       "\n",
       "https://www.service-public.fr/particuliers/vosdroits/F870 : Recensement citoyen (À l'étranger > Comment faire le recensement citoyen ?)\n",
       "Tout dépend de votre situation :\n",
       "Cas Jeune inscrit au registre des Français établis hors de France: Si vous êtes inscrit sur le registre des Français établis hors de France , votre recensement citoyen est automatique. Vous n'avez donc pas de démarche à faire. (Attention: Si vous avez plusieurs nationalités, vous devez impérativement le signaler au consulat .) Cas Jeune non inscrit: Vous devez faire la démarche vous-même. Si vous êtes mineur, l'un de vos parents peut faire cette démarche à votre place. Il faut se rendre au consulat avec les documents suivants : \n",
       "- Carte nationale d'identité ou passeport valide\n",
       "- Livret de famille à jour\n",
       " Si vous avez plusieurs nationalités, vous devez impérativement le signaler au consulat . (À noter: vous pouvez faire votre recensement citoyen jusqu'à la veille de votre 25 e anniversaire. La démarche à faire est la même que celle à faire à l'âge de 16 ans.) \n",
       "\n",
       "https://www.service-public.fr/particuliers/vosdroits/F1618 : Se pacser (Chez le notaire > Quels sont les documents à fournir pour se pacser ?)\n",
       "Selon le pays d'origine, les formalités suivantes peuvent aussi être nécessaires : \n",
       "- Apostille\n",
       "- Légalisation\n",
       " Les ressortissants de certains pays sont dispensés de ces formalités supplémentaires (par exemple, Suisse). Vous devez aussi fournir les attestations sur l'honneur suivantes :\n",
       "- Non-parenté\n",
       "- Non-alliance\n",
       "- Résidence commune\n",
       "Selon votre situation, vous devez fournir des documents supplémentaires :\n",
       "Cas Vous ou votre futur partenaire êtes étranger né à l'étranger: Vous devez fournir des documents spécifiques à votre nationalité. Ces documents sont les suivants : \n",
       "- Certificat de non-Pacs de moins de 3 mois\n",
       "- Certificat de coutume établi par les autorités compétentes ou la représentation diplomatique du pays étranger (ce document indique la législation en vigueur de votre État d'origine et les pièces d'état civil étrangères prouvant que vous êtes majeur, célibataire et juridiquement capable )\n",
       " Si votre pays d'origine ne délivre pas de certificat de coutume, vous devez fournir une attestation des autorités compétentes du pays étranger qui le précise. Vous devez aussi fournir une attestation établie par un avocat ou un juriste précisant les règles applicables dans votre pays d'origine. Si le document est en langue étrangère, vous devez le faire traduire par un traducteur assermenté . Vous pouvez vous renseigner à la mairie et au consulat. Cas Vous ou votre futur partenaire êtes divorcé: Vous devez fournir des pièces supplémentaires, par exemple la décision de divorce. Vous pouvez aussi présenter le livret de famille correspondant à l'ancienne union avec mention du divorce (original + 1 photocopie) Si le jugement de divorce a été prononcé à l'étranger, vous devez joindre sa traduction par un traducteur assermenté . (À noter: Vous n'avez pas de délai d'attente à respecter entre le divorce et la conclusion d'un Pacs.) Cas Vous ou votre futur partenaire êtes veuf ou veuve: Vous devez fournir l'un des documents suivants : \n",
       "- Livret de famille correspondant à l'ancienne union avec mention du décès (original + 1 photocopie)\n",
       "- Acte de naissance de l'époux avec mention du décès\n",
       "- Acte de décès de l'époux\n",
       " Si un document est en langue étrangère, vous devez le faire traduire par un traducteur assermenté . Selon le pays d'origine, les formalités suivantes peuvent aussi être nécessaires : \n",
       "- Apostille\n",
       "- Légalisation\n",
       " Les ressortissants de certains pays sont dispensés de ces formalités supplémentaires (par exemple, Suisse). (À noter: Vous devez présenter les originaux des documents demandés.) Cas Vous ou votre futur époux faites l'objet d'une mesure de protection juridique (tutelle, curatelle, sauvegarde de justice, habilitation familiale): Vous ou votre futur partenaire faites l'objet d'une mesure de protection juridique ( tutelle , curatelle , sauvegarde de justice ou habilitation familiale ). Lors de la signature de la convention de Pacs, vous êtes assisté par la personne chargée de la mesure de protection (par exemple votre tuteur si vous êtes en tutelle ou votre curateur si vous êtes en curatelle). Vous devez fournir un justificatif de cette assistance . (À savoir: Aucune autorisation du juge ou de la personne chargée de la mesure de protection n'est nécessaire pour vous pacser.) \n",
       "\n",
       "https://www.service-public.fr/particuliers/vosdroits/F870 : Recensement citoyen (À l'étranger > Qu'est-ce que l'attestation de recensement ? > Comment obtenir l'attestation de recensement ?)\n",
       "À la suite du recensement citoyen, votre ambassade ou votre autorité consulaire vous remet une attestation de recensement. Il n'est pas délivré de duplicata. \n",
       "\n",
       "https://www.service-public.fr/particuliers/vosdroits/F870 : Recensement citoyen (À l'étranger > Qu'est-ce que l'attestation de recensement ?)\n",
       "L'attestation de recensement vous sert à prouver que vous avez fait votre recensement citoyen. \n",
       "\n",
       "Question : Quels sont les documents nécessaires pour effectuer son recensement citoyen (mariage, pacs, enfant) ?</pre></div><div style=\"width: 50%; padding:10px;\"> <div style=\"text-align:center;color:blue;\">answer</div> <pre class=\"qq\">Les documents nécessaires pour effectuer son recensement citoyen sont les suivants :\n",
       "\n",
       "- Pour les jeunes inscrits au registre des Français établis hors de France, aucun document n'est nécessaire, le recensement est automatique.\n",
       "- Pour les jeunes non inscrits, il faut se rendre au consulat avec les documents suivants : carte nationale d'identité ou passeport valide, livret de famille à jour.\n",
       "- Si le jeune a plusieurs nationalités, il doit impérativement le signaler au consulat.\n",
       "\n",
       "Il n'y a pas de mention de documents spécifiques nécessaires pour le recensement citoyen en cas de mariage, de PACS ou d'enfant.</pre></div></div></div>"
      ],
      "text/plain": [
       "<IPython.core.display.HTML object>"
      ]
     },
     "metadata": {},
     "output_type": "display_data"
    },
    {
     "data": {
      "text/html": [
       "<br>"
      ],
      "text/plain": [
       "<IPython.core.display.HTML object>"
      ]
     },
     "metadata": {},
     "output_type": "display_data"
    },
    {
     "data": {
      "text/html": [
       "\n",
       "        <style>\n",
       "            .qq {\n",
       "                word-break: keep-all;\n",
       "                white-space: pre-wrap;\n",
       "            }\n",
       "        </style>\n",
       "\n",
       "        <div style=\"border:1px solid grey;padding:5px;border-radius:8px;\">\n",
       "            <div>ID: ID &nbsp Q: 33</div>\n",
       "            <h5 style=\"font-weight: bold;\">Quels professionnels de santé sont agréés pour effectuer les contrôles médicaux pour le permis de conduire ?</h5>\n",
       "            <div style=\"display:flex; align-items:top;\"><div style=\"width: 50%; padding:10px;\"> <div style=\"text-align:center;color:blue;\">prompt</div> <pre class=\"qq\">Utilisez les éléments de contexte à votre disposition ci-dessous pour répondre à la question finale. Si vous ne connaissez pas la réponse, dites simplement que vous ne savez pas, n'essayez pas d'inventer une réponse.\n",
       "\n",
       "https://www.service-public.fr/particuliers/vosdroits/F1255 : Permis de conduire professionnel : contrôle médical obligatoire (Prendre rendez-vous avec un médecin agréé)\n",
       "Vous devez vous adresser à un médecin de ville agréé par le préfet de votre département. Ce médecin ne doit pas être votre médecin traitant. Vous pouvez consulter la liste des médecins agréés sur le site internet de votre préfecture. Elle est également disponible à la préfecture, sous-préfecture et dans les mairies de certaines communes. (À savoir: vous pouvez passer le contrôle médical auprès d'un médecin agréé dans un autre département que celui de votre résidence. Dans ce cas, il est prudent de joindre à votre dossier l'explication du recours à un autre médecin que celui de votre département de résidence.) Cas Cas général: \n",
       "Cas À Paris: \n",
       "\n",
       "https://www.service-public.fr/particuliers/vosdroits/F1255 : Permis de conduire professionnel : contrôle médical obligatoire (Payer les frais de la visite médicale)\n",
       "La visite médicale, appelée également contrôle médical, coûte 36 €. L'Assurance maladie (Sécurité sociale) ne prend pas en charge les frais de la visite médicale, ni les éventuels examens complémentaires. \n",
       "\n",
       "https://www.service-public.fr/particuliers/vosdroits/F1255 : Permis de conduire professionnel : contrôle médical obligatoire (Passer la visite médicale)\n",
       "Le médecin doit vérifier votre aptitude physique, cognitive et sensorielle à conduire. Si vous n'avez pas déjà rempli le questionnaire concernant votre état de santé, le médecin vous le fait remplir. Il étudie votre dossier et procède à l'examen médical. Le médecin peut :\n",
       "- Prescrire des examens complémentaires\n",
       "- Prescrire un examen psychotechnique auprès d'un psychologue déclaré auprès du préfet\n",
       "- Demander l'avis de professionnels de santé spécialisés\n",
       "- Demander un test de conduite\n",
       "- Demander votre examen par une commission médicale\n",
       "Si nécessaire, renseignez-vous auprès de votre préfecture pour faire ces démarches. Cas Cas général: \n",
       "Cas À Paris: \n",
       "\n",
       "https://www.service-public.fr/particuliers/vosdroits/F2686 : Permis de conduire et visite médicale pour raisons de santé (Vous avez déjà le permis > Prendre rendez-vous avec un médecin agréé)\n",
       "Vous devez vous adresser à un médecin de ville agréé par le préfet de votre département. Ce médecin ne doit pas être votre médecin traitant. Vous pouvez consulter la liste des médecins agréés sur les sites internet des préfectures. La liste des médecins agréés est aussi disponible dans les préfectures, sous-préfectures et dans les mairies de certaines communes. (À savoir: vous pouvez passer le contrôle médical auprès d'un médecin agréé dans un autre département que celui de votre résidence. Dans ce cas, il est prudent de joindre à votre dossier l'explication du recours à un autre médecin que celui de votre département de résidence.) \n",
       "\n",
       "Question : Quels professionnels de santé sont agréés pour effectuer les contrôles médicaux pour le permis de conduire ?</pre></div><div style=\"width: 50%; padding:10px;\"> <div style=\"text-align:center;color:blue;\">answer</div> <pre class=\"qq\">Les médecins de ville agréés par le préfet de votre département sont les professionnels de santé agréés pour effectuer les contrôles médicaux pour le permis de conduire.</pre></div></div></div>"
      ],
      "text/plain": [
       "<IPython.core.display.HTML object>"
      ]
     },
     "metadata": {},
     "output_type": "display_data"
    },
    {
     "data": {
      "text/html": [
       "<br>"
      ],
      "text/plain": [
       "<IPython.core.display.HTML object>"
      ]
     },
     "metadata": {},
     "output_type": "display_data"
    },
    {
     "data": {
      "text/html": [
       "\n",
       "        <style>\n",
       "            .qq {\n",
       "                word-break: keep-all;\n",
       "                white-space: pre-wrap;\n",
       "            }\n",
       "        </style>\n",
       "\n",
       "        <div style=\"border:1px solid grey;padding:5px;border-radius:8px;\">\n",
       "            <div>ID: ID &nbsp Q: 34</div>\n",
       "            <h5 style=\"font-weight: bold;\">Quels sont les recours possibles en cas de litige concernant le bornage d'un terrain ?</h5>\n",
       "            <div style=\"display:flex; align-items:top;\"><div style=\"width: 50%; padding:10px;\"> <div style=\"text-align:center;color:blue;\">prompt</div> <pre class=\"qq\">Utilisez les éléments de contexte à votre disposition ci-dessous pour répondre à la question finale. Si vous ne connaissez pas la réponse, dites simplement que vous ne savez pas, n'essayez pas d'inventer une réponse.\n",
       "\n",
       "https://www.service-public.fr/particuliers/vosdroits/F3037 : \n",
       "Le bornage permet de fixer la limite exacte entre votre terrain et celui de votre voisin. L'opération est réalisée grâce à des repères matériels appelés bornes (piquets, pierres...). Le bornage est obligatoire uniquement sur votre demande ou celle de votre voisin. Dans ce cas, le bornage peut être convenu à l'amiable ou, en l'absence d'accord, fixé par une décision de justice. Voici une liste de différents cas possibles:\n",
       "- À quoi sert un bornage ? - Quelle est la procédure de bornage ? - Qui doit payer les frais de bornage ? \n",
       "\n",
       "https://www.service-public.fr/particuliers/vosdroits/F3037 : Bornage de terrains (Qui doit payer les frais de bornage ?)\n",
       "Les frais de bornage amiable ou judiciaire sont partagés entre le propriétaire du terrain voisin et vous-même. Le montant de ces frais dépend notamment des tarifs pratiqués par le géomètre-expert. \n",
       "\n",
       "https://www.service-public.fr/particuliers/vosdroits/F3037 : Bornage de terrains (Quelle est la procédure de bornage ?)\n",
       "Il faut obligatoirement commencer par un bornage à l'amiable avec votre voisin. Il est recommandé de faire la demande à votre voisin par lettre recommandée avec avis de réception. Cas En cas d'accord avec voisin: Vous devez faire appel à un géomètre-expert pour qu'il fixe la ligne exacte séparant votre terrain et celui de votre voisin. Le géomètre-expert rédige un procès-verbal de bornage et pose des bornes. Ce procès-verbal fixe définitivement le contenu des parcelles et leurs limites. Le procès-verbal n'est soumis à aucune forme particulière. Votre voisin et vous-même devez signer ce procès-verbal. Une fois signé, vous ne pouvez plus le contester . Vous ne pouvez pas non plus faire réaliser un nouveau bornage par un juge . Le procès-verbal peut être enregistré au service de publicité foncière du centre des impôts, mais cela n'est pas obligatoire. Dans ce cas, c'est le notaire qui s'occupe de faire cet enregistrement. Lorsque le procès-verbal est enregistré, il permet de rendre le bornage opposable aux tiers (notamment les futurs héritiers ou acheteurs des terrains). Cas En cas de désaccord ou refus de votre voisin: En cas de désaccord ou refus de votre voisin de réaliser le bornage, vous devez faire appel à un conciliateur de justice . La procédure est gratuite . Si vous ne parvenez toujours pas à un accord malgré le recours à un conciliateur de justice vous pouvez obliger votre voisin à faire un bornage fixé par un juge . Pour cela, vous devez faire un recours auprès du tribunal du lieu de votre terrain. Ce recours est possible à tout moment, sans aucun délai de prescription . Le tribunal nomme un géomètre-expert chargé de fixer l'exacte ligne séparant votre terrain et celui de votre voisin. Une fois les limites fixées, le tribunal rédige un jugement. Ce document est remis à votre voisin et à vous-même. Vous devez impérativement conserver ce document. \n",
       "\n",
       "https://www.service-public.fr/particuliers/vosdroits/F1793 : \n",
       "Vous êtes propriétaire ou exploitant de terres ou de bâtiments agricoles et vous avez un litige avec votre fermier ?Vous êtes métayer et vous êtes en conflit avec le propriétaire des terres agricoles ? Vous pouvez saisir le tribunal paritaire des baux ruraux par acte d'huissier ou par requête. Voici une liste de différents cas possibles:\n",
       "- Dans quels cas saisir le tribunal paritaire des baux ruraux ? - Comment saisir le tribunal paritaire des baux ruraux ? - Comment se déroule la procédure devant le tribunal paritaire des baux ruraux ? - Quel est le coût d'une procédure devant le tribunal partitaire des baux ruraux ? - Quel recours contre une décision du tribunal paritaire des baux ruraux ? \n",
       "\n",
       "Question : Quels sont les recours possibles en cas de litige concernant le bornage d'un terrain ?</pre></div><div style=\"width: 50%; padding:10px;\"> <div style=\"text-align:center;color:blue;\">answer</div> <pre class=\"qq\">En cas de litige concernant le bornage d'un terrain, les recours possibles sont les suivants :\n",
       "- Si vous parvenez à un accord avec votre voisin, vous pouvez faire appel à un géomètre-expert pour réaliser un bornage à l'amiable. Une fois le procès-verbal de bornage signé, il ne peut plus être contesté.\n",
       "- Si votre voisin refuse de réaliser le bornage ou en cas de désaccord persistant, vous pouvez faire appel à un conciliateur de justice pour tenter de résoudre le litige à l'amiable. Si cela échoue, vous pouvez saisir le tribunal du lieu de votre terrain pour obtenir un bornage fixé par un juge.\n",
       "- En revanche, il n'est pas mentionné de recours spécifique concernant le bornage d'un terrain auprès du tribunal paritaire des baux ruraux.</pre></div></div></div>"
      ],
      "text/plain": [
       "<IPython.core.display.HTML object>"
      ]
     },
     "metadata": {},
     "output_type": "display_data"
    },
    {
     "data": {
      "text/html": [
       "<br>"
      ],
      "text/plain": [
       "<IPython.core.display.HTML object>"
      ]
     },
     "metadata": {},
     "output_type": "display_data"
    },
    {
     "data": {
      "text/html": [
       "\n",
       "        <style>\n",
       "            .qq {\n",
       "                word-break: keep-all;\n",
       "                white-space: pre-wrap;\n",
       "            }\n",
       "        </style>\n",
       "\n",
       "        <div style=\"border:1px solid grey;padding:5px;border-radius:8px;\">\n",
       "            <div>ID: ID &nbsp Q: 35</div>\n",
       "            <h5 style=\"font-weight: bold;\">Quelles sont les conditions pour bénéficier de l'aide financière pour les travaux de rénovation dans une maison individuelle ?</h5>\n",
       "            <div style=\"display:flex; align-items:top;\"><div style=\"width: 50%; padding:10px;\"> <div style=\"text-align:center;color:blue;\">prompt</div> <pre class=\"qq\">Utilisez les éléments de contexte à votre disposition ci-dessous pour répondre à la question finale. Si vous ne connaissez pas la réponse, dites simplement que vous ne savez pas, n'essayez pas d'inventer une réponse.\n",
       "\n",
       "https://www.service-public.fr/particuliers/vosdroits/F1328 : \n",
       "L'Agence nationale de l'habitat (Anah) peut accorder des aides financières pour la réalisation de travaux dans votre logement (rénovation énergétique, adaptation à la perte d'autonomie...). Vos travaux doivent être réalisés dans un logement datant d'au minimum 15 ans. Ce logement doit être votre résidence principale . Les aides de l'Anah se cumulent avec d'autres dispositifs. Voici une liste de différents cas possibles:\n",
       "- Quelles aides sont concernées ? - Quelles sont les conditions pour en bénéficier ? - Quelle est la démarche pour en bénéficier ? - Instruction de la demande\n",
       "- Comment est-elle versée ? - À quel moment commencer les travaux ? - Fin des travaux\n",
       "- Les aides sont-elles cumulables avec d'autres dispositifs ? \n",
       "\n",
       "https://www.service-public.fr/particuliers/vosdroits/F35755 : \n",
       "Vous souhaitez réaliser des travaux de rénovation globale de votre maison individuelle ? Vous pouvez bénéficier d'une aide financière dite Coup de pouce Rénovation performante d'une maison individuelle . Vos travaux doivent être engagés (devis signé) avant le 31 décembre 2025 et achevés avant le 31 décembre 2026 . Nous vous indiquons quelles sont les conditions et la démarche à suivre pour en bénéficier. Voici une liste de différents cas possibles:\n",
       "- Qu'est-ce que le Coup de pouce Rénovation performante d'une maison individuelle ? - Qui peut bénéficier du Coup de pouce Rénovation performante d'une maison individuelle ? - Quels sont les travaux concernés par le Coup de pouce Rénovation performante d'une maison individuelle ? - Quelles sont les conditions de ressource pour bénéficier du Coup de pouce Rénovation performante d'une maison individuelle ? - Quelle est la démarche pour bénéficier du Coup de pouce Rénovation performante d'une maison individuelle ? - Quel est le montant du Coup de pouce Rénovation performante d'une maison individuelle ? - Comment est versé le Coup de pouce Rénovation performante d'une maison individuelle ? - Le Coup de pouce Rénovation performante d'une maison individuelle peut-il se cumuler avec d'autres dispositifs ? \n",
       "\n",
       "https://www.service-public.fr/particuliers/vosdroits/F1328 : Aides financières de l'Anah pour réaliser des travaux d'amélioration de l'habitat (Quelles sont les conditions pour en bénéficier ?)\n",
       "(Attention: Des conditions spécifiques existent pour MaPrimeRénov' et Loc' Avantages .) \n",
       "\n",
       "https://www.service-public.fr/particuliers/vosdroits/F1328 : Aides financières de l'Anah pour réaliser des travaux d'amélioration de l'habitat (Comment est-elle versée ?)\n",
       "(Attention: Des conditions spécifiques existent pour MaPrimeRénov' et Loc' Avantages .) L'aide de l'Anah est versée une fois que vos travaux sont terminés. Toutefois, il est possible de demander une avance pour commencer vos travaux. Cette avance est accordée uniquement si vous êtes dans la catégorie Revenus très modestes et si vous réalisez des travaux d'adaptation de votre logement à la perte d'autonomie. Votre demande d'avance doit être faite en ligne : \n",
       "\n",
       "Question : Quelles sont les conditions pour bénéficier de l'aide financière pour les travaux de rénovation dans une maison individuelle ?</pre></div><div style=\"width: 50%; padding:10px;\"> <div style=\"text-align:center;color:blue;\">answer</div> <pre class=\"qq\">Les conditions pour bénéficier de l'aide financière pour les travaux de rénovation dans une maison individuelle sont les suivantes :\n",
       "- Les travaux doivent être engagés (devis signé) avant le 31 décembre 2025 et achevés avant le 31 décembre 2026.\n",
       "- Les travaux doivent être une rénovation globale de la maison individuelle.\n",
       "- Il n'y a pas de mention spécifique concernant la résidence principale, donc il est possible que cela s'applique également aux résidences secondaires.\n",
       "- Il n'y a pas de mention spécifique concernant l'âge minimum de la maison individuelle.\n",
       "- Il n'y a pas de mention spécifique concernant les conditions de ressources pour bénéficier de cette aide.\n",
       "- Le montant de l'aide financière n'est pas précisé.\n",
       "- Il n'est pas précisé comment l'aide financière est versée.\n",
       "- Il n'est pas précisé si cette aide peut se cumuler avec d'autres dispositifs.</pre></div></div></div>"
      ],
      "text/plain": [
       "<IPython.core.display.HTML object>"
      ]
     },
     "metadata": {},
     "output_type": "display_data"
    },
    {
     "data": {
      "text/html": [
       "<br>"
      ],
      "text/plain": [
       "<IPython.core.display.HTML object>"
      ]
     },
     "metadata": {},
     "output_type": "display_data"
    },
    {
     "data": {
      "text/html": [
       "\n",
       "        <style>\n",
       "            .qq {\n",
       "                word-break: keep-all;\n",
       "                white-space: pre-wrap;\n",
       "            }\n",
       "        </style>\n",
       "\n",
       "        <div style=\"border:1px solid grey;padding:5px;border-radius:8px;\">\n",
       "            <div>ID: ID &nbsp Q: 36</div>\n",
       "            <h5 style=\"font-weight: bold;\">Quelles sont les différences en termes de droits et responsabilités entre un bail de logement vide et un bail de logement meublé ?</h5>\n",
       "            <div style=\"display:flex; align-items:top;\"><div style=\"width: 50%; padding:10px;\"> <div style=\"text-align:center;color:blue;\">prompt</div> <pre class=\"qq\">Utilisez les éléments de contexte à votre disposition ci-dessous pour répondre à la question finale. Si vous ne connaissez pas la réponse, dites simplement que vous ne savez pas, n'essayez pas d'inventer une réponse.\n",
       "\n",
       "https://www.service-public.fr/particuliers/vosdroits/F1165 : Quelles différences entre location vide et location meublée ? (Quelles sont les règles de location communes ?)\n",
       "De nombreuses règles sont identiques au logement vide et au logement meublé. Ces règles concernent notamment :\n",
       "- Documents quele propriétaire peut réclamer au futur locataire\n",
       "- Règles du cautionnement\n",
       "- Frais d'agence immobilière\n",
       "- Contenu de l'annonce immobilière (créée par une agence immobilière ou le propriétaire )\n",
       "- Discrimination au logement\n",
       "- Critères de décence\n",
       "- Loyer ( fixation du loyer , paiement du loyer , conséquences d'un impayé , révision du loyer en cours de bail et sa réévaluation en fin de bail)\n",
       "- Liste des charges locatives\n",
       "- Assurance habitation\n",
       "- Utilisation du logement par le locataire\n",
       "- Travaux et réparations locatives\n",
       "- Sous-location \n",
       "\n",
       "https://www.service-public.fr/particuliers/vosdroits/F1165 : Quelles différences entre location vide et location meublée ? (Quels sont les autres modes de location d'un logement vide ou meublé ?)\n",
       "Un propriétaire peut opter pour d'autres types de location. Il existe notamment :\n",
       "- Le logement meublé mis en location en tant que meublé de tourisme . Dans ce cas, le logement est destiné à un locataire qui utilise le logement pour un bref séjour, et sans en faire son domicile. - Le logement vide mis en location avec le conventionnement de l'Anah . Dans ce cas, le logement est destiné à devenir le domicile d'un locataire aux revenus modestes. (À savoir: Certains logements sont soumis à la loi de 48 . Dans ce cas, le logement obéit à des règles particulières au moment de la fin du bail ( sortie du régime de 48 , préavis du propriétaire , préavis du locataire ).) \n",
       "\n",
       "https://www.service-public.fr/particuliers/vosdroits/F1165 : Quelles différences entre location vide et location meublée ? (Qu'est-ce qu'un logement meublé ?)\n",
       "Pour être considéré comme logement meublé, le logement doit comporter au minimum les éléments suivants :\n",
       "- Literie avec couette ou couverture\n",
       "- Volets ou rideaux dans les chambres\n",
       "- Plaques de cuisson\n",
       "- Four ou four à micro-onde\n",
       "- Réfrigérateur\n",
       "- Congélateur ou compartiment à congélation du réfrigérateur d'une température maximale de -6°\n",
       "- Vaisselle en nombre suffisant pour que les occupants puissent prendre les repas\n",
       "- Ustensiles de cuisine\n",
       "- Table\n",
       "- Sièges\n",
       "- Étagères de rangement\n",
       "- Luminaires\n",
       "- Matériel d'entretien ménager adapté aux caractéristiques du logement (aspirateur s'il y a de la moquette, balai et serpillière pour du carrelage...)\n",
       "En conséquence, le logement qui ne comporte pas au minimum ces éléments, est un logement vide. (À savoir: Pour être considéré comme logement décent , un logement (vide ou meublé) doit répondre à certains critères .) \n",
       "\n",
       "https://www.service-public.fr/particuliers/vosdroits/F1165 : \n",
       "Seules certaines règles sont communes au bail d'habitation vide et au bail d'habitation meublé. Voici une liste de différents cas possibles:\n",
       "- Qu'est-ce qu'un logement meublé ? - Quelles règles de location sont différentes ? - Quelles sont les règles de location communes ? - Quels sont les autres modes de location d'un logement vide ou meublé ? \n",
       "\n",
       "Question : Quelles sont les différences en termes de droits et responsabilités entre un bail de logement vide et un bail de logement meublé ?</pre></div><div style=\"width: 50%; padding:10px;\"> <div style=\"text-align:center;color:blue;\">answer</div> <pre class=\"qq\">D'après les éléments de contexte fournis, il n'est pas mentionné les différences en termes de droits et responsabilités entre un bail de logement vide et un bail de logement meublé.</pre></div></div></div>"
      ],
      "text/plain": [
       "<IPython.core.display.HTML object>"
      ]
     },
     "metadata": {},
     "output_type": "display_data"
    },
    {
     "data": {
      "text/html": [
       "<br>"
      ],
      "text/plain": [
       "<IPython.core.display.HTML object>"
      ]
     },
     "metadata": {},
     "output_type": "display_data"
    },
    {
     "data": {
      "text/html": [
       "\n",
       "        <style>\n",
       "            .qq {\n",
       "                word-break: keep-all;\n",
       "                white-space: pre-wrap;\n",
       "            }\n",
       "        </style>\n",
       "\n",
       "        <div style=\"border:1px solid grey;padding:5px;border-radius:8px;\">\n",
       "            <div>ID: ID &nbsp Q: 37</div>\n",
       "            <h5 style=\"font-weight: bold;\">Quels sont les principaux changements liés à la mise en place du Comité social et économique (CSE) ?</h5>\n",
       "            <div style=\"display:flex; align-items:top;\"><div style=\"width: 50%; padding:10px;\"> <div style=\"text-align:center;color:blue;\">prompt</div> <pre class=\"qq\">Utilisez les éléments de contexte à votre disposition ci-dessous pour répondre à la question finale. Si vous ne connaissez pas la réponse, dites simplement que vous ne savez pas, n'essayez pas d'inventer une réponse.\n",
       "\n",
       "https://www.service-public.fr/particuliers/vosdroits/F34474 : Comité social et économique (CSE) (Entreprise de 50 salariés et plus > Quelles sont les missions et compétences du CSE ? > Expression des salariés)\n",
       "Le CSE a pour mission d'assurer l'expression collective des salariés permettant la prise en compte permanente de leurs intérêts dans les décisions sur les points suivants :\n",
       "- Gestion et à évolution économique et financière de l'entreprise\n",
       "- Organisation du travail\n",
       "- Formation professionnelle\n",
       "- Techniques de production \n",
       "\n",
       "https://www.service-public.fr/particuliers/vosdroits/F34474 : Comité social et économique (CSE) (Entreprise de 50 salariés et plus > Quelles sont les missions et compétences du CSE ? > Consultation)\n",
       "Le CSE est consulté sur les sujets suivants :\n",
       "- Orientations stratégiques de l'entreprise\n",
       "\n",
       "- Situation économique et financière de l'entreprise\n",
       "\n",
       "- Politique sociale de l'entreprise, les conditions de travail et l'emploi\n",
       "\n",
       "- Mise en œuvre des moyens de contrôle de l'activité des salariés\n",
       "\n",
       "- Restructuration et compression des effectifs\n",
       "\n",
       "- Licenciement collectif pour motif économique\n",
       "\n",
       "- Offre publique d'acquisition\n",
       "\n",
       "- Procédures de sauvegarde, de redressement et de liquidation judiciaire \n",
       "\n",
       "https://www.service-public.fr/particuliers/vosdroits/F34474 : Comité social et économique (CSE) (Entreprise de moins de 11 salariés)\n",
       "La mise en place d'un CSE n'est pas possible dans les entreprises de moins de 11 salariés. Sa mise en place devient obligatoire si l'effectif d'au moins 11 salariés est atteint pendant 12 mois consécutifs. \n",
       "\n",
       "https://www.service-public.fr/particuliers/vosdroits/F34474 : Comité social et économique (CSE) (Entreprise de 50 salariés et plus > Quelles sont les missions et compétences du CSE ? > Propositions)\n",
       "Le CSE formule, à son initiative, et examine, à la demande de l'employeur, toute proposition de nature à améliorer les points suivants :\n",
       "- Conditions de travail, d'emploi et de formation professionnelle des salariés\n",
       "- Conditions de vie dans l'entreprise\n",
       "- Conditions dans lesquelles ils bénéficient de garanties collectives complémentaires \n",
       "\n",
       "Question : Quels sont les principaux changements liés à la mise en place du Comité social et économique (CSE) ?</pre></div><div style=\"width: 50%; padding:10px;\"> <div style=\"text-align:center;color:blue;\">answer</div> <pre class=\"qq\">Les principaux changements liés à la mise en place du Comité social et économique (CSE) sont les suivants :\n",
       "\n",
       "- Le CSE remplace les anciennes instances représentatives du personnel, à savoir les délégués du personnel, le comité d'entreprise et le comité d'hygiène, de sécurité et des conditions de travail (CHSCT).\n",
       "- Le CSE regroupe l'ensemble des attributions et compétences de ces anciennes instances.\n",
       "- Le CSE assure l'expression collective des salariés et veille à la prise en compte de leurs intérêts dans les décisions de l'entreprise.\n",
       "- Le CSE est consulté sur plusieurs sujets importants tels que les orientations stratégiques de l'entreprise, sa situation économique et financière, la politique sociale de l'entreprise, les conditions de travail et l'emploi, etc.\n",
       "- Le CSE formule des propositions visant à améliorer les conditions de travail, d'emploi et de formation professionnelle des salariés, ainsi que les conditions de vie dans l'entreprise et les garanties collectives complémentaires dont ils bénéficient.\n",
       "- La mise en place du CSE est obligatoire dans les entreprises de 11 salariés et plus, et devient obligatoire si cet effectif est atteint pendant 12 mois consécutifs.\n",
       "\n",
       "Note: Les informations fournies ci-dessus sont basées sur les éléments de contexte fournis et ne prétendent pas être exhaustives.</pre></div></div></div>"
      ],
      "text/plain": [
       "<IPython.core.display.HTML object>"
      ]
     },
     "metadata": {},
     "output_type": "display_data"
    },
    {
     "data": {
      "text/html": [
       "<br>"
      ],
      "text/plain": [
       "<IPython.core.display.HTML object>"
      ]
     },
     "metadata": {},
     "output_type": "display_data"
    },
    {
     "data": {
      "text/html": [
       "\n",
       "        <style>\n",
       "            .qq {\n",
       "                word-break: keep-all;\n",
       "                white-space: pre-wrap;\n",
       "            }\n",
       "        </style>\n",
       "\n",
       "        <div style=\"border:1px solid grey;padding:5px;border-radius:8px;\">\n",
       "            <div>ID: ID &nbsp Q: 38</div>\n",
       "            <h5 style=\"font-weight: bold;\">Quelles sont les différences entre un sursis simple et un sursis probatoire ?</h5>\n",
       "            <div style=\"display:flex; align-items:top;\"><div style=\"width: 50%; padding:10px;\"> <div style=\"text-align:center;color:blue;\">prompt</div> <pre class=\"qq\">Utilisez les éléments de contexte à votre disposition ci-dessous pour répondre à la question finale. Si vous ne connaissez pas la réponse, dites simplement que vous ne savez pas, n'essayez pas d'inventer une réponse.\n",
       "\n",
       "https://www.service-public.fr/particuliers/vosdroits/F1531 : Sursis (Sursis simple > Comment la décision est-elle prise ?)\n",
       "La décision d'assortir la peine du sursis simple est prise par le tribunal qui vous juge pour l'infraction commise. Le sursis simple est prononcé en même temps que la peine, dans le même jugement. \n",
       "\n",
       "https://www.service-public.fr/particuliers/vosdroits/F1531 : Sursis (Sursis probatoire > Comment la décision est-elle prise ?)\n",
       "L'application du sursis probatoire est décidée par le tribunal chargé de l'affaire. Le sursis est prononcé en même temps que la peine. \n",
       "\n",
       "https://www.service-public.fr/particuliers/vosdroits/F1531 : Sursis (Sursis simple)\n",
       "Le sursis simple est une dispense d'exécuter une peine d'emprisonnement et/ou d'amende prononcée à votre encontre. Le sursis simple peut s'appliquer à la totalité de la peine ou seulement à une partie de la peine. Dans ce dernier cas, on parle de sursis partiel. \n",
       "\n",
       "https://www.service-public.fr/particuliers/vosdroits/F1531 : Sursis (Sursis probatoire)\n",
       "Le sursis probatoire est une décision du tribunal qui vous autorise à ne pas exécuter la peine prononcée, si vous respectez certaines obligations prévues dans le jugement. Vous devez respecter les obligations du sursis probatoire pendant un certain laps de temps appelé délai probatoire. Le sursis probatoire peut s'appliquer à la totalité de la peine ou seulement à une partie de la peine. \n",
       "\n",
       "Question : Quelles sont les différences entre un sursis simple et un sursis probatoire ?</pre></div><div style=\"width: 50%; padding:10px;\"> <div style=\"text-align:center;color:blue;\">answer</div> <pre class=\"qq\">Les différences entre un sursis simple et un sursis probatoire sont les suivantes :\n",
       "\n",
       "- La décision de prononcer un sursis simple est prise par le tribunal qui juge l'infraction commise, tandis que la décision d'appliquer un sursis probatoire est prise par le tribunal chargé de l'affaire.\n",
       "- Le sursis simple consiste en une dispense d'exécuter une peine d'emprisonnement et/ou d'amende, tandis que le sursis probatoire autorise à ne pas exécuter la peine prononcée si certaines obligations prévues dans le jugement sont respectées.\n",
       "- Le sursis simple peut s'appliquer à la totalité ou à une partie de la peine, tout comme le sursis probatoire.\n",
       "- Le sursis simple est prononcé en même temps que la peine dans le même jugement, tandis que le sursis probatoire est également prononcé en même temps que la peine.</pre></div></div></div>"
      ],
      "text/plain": [
       "<IPython.core.display.HTML object>"
      ]
     },
     "metadata": {},
     "output_type": "display_data"
    },
    {
     "data": {
      "text/html": [
       "<br>"
      ],
      "text/plain": [
       "<IPython.core.display.HTML object>"
      ]
     },
     "metadata": {},
     "output_type": "display_data"
    },
    {
     "data": {
      "text/html": [
       "\n",
       "        <style>\n",
       "            .qq {\n",
       "                word-break: keep-all;\n",
       "                white-space: pre-wrap;\n",
       "            }\n",
       "        </style>\n",
       "\n",
       "        <div style=\"border:1px solid grey;padding:5px;border-radius:8px;\">\n",
       "            <div>ID: ID &nbsp Q: 39</div>\n",
       "            <h5 style=\"font-weight: bold;\">Comment déduire fiscalement les sommes versées au titre de la pension alimentaire lors de la déclaration d'impôt ?</h5>\n",
       "            <div style=\"display:flex; align-items:top;\"><div style=\"width: 50%; padding:10px;\"> <div style=\"text-align:center;color:blue;\">prompt</div> <pre class=\"qq\">Utilisez les éléments de contexte à votre disposition ci-dessous pour répondre à la question finale. Si vous ne connaissez pas la réponse, dites simplement que vous ne savez pas, n'essayez pas d'inventer une réponse.\n",
       "\n",
       "https://www.service-public.fr/particuliers/vosdroits/F444 : Impôt sur le revenu - Pension alimentaire versée à un parent ou un grand-parent (déduction) (Comment la pension alimentaire doit-elle être versée ?)\n",
       "Vous pouvez verser une pension alimentaire sous plusieurs formes :\n",
       "- En argent (chèques, virement...)\n",
       "- En payant à la place de votre parent diverses dépenses (frais médicaux, frais de maison de retraite...)\n",
       "- En hébergeant votre parent ou en mettant à sa disposition un logement \n",
       "\n",
       "https://www.service-public.fr/particuliers/vosdroits/F444 : \n",
       "Vous versez une pension alimentaire à un ascendant qui a besoin de votre aide ? Vous pouvez déduire la pension de vos revenus, sous certaines conditions. Cette pension peut être versée directement ou prendre en charge certaines dépenses (frais médicaux ou de maison de retraite, par exemple). Voici une liste de différents cas possibles:\n",
       "- Quelles sont les conditions à remplir ? - Comment la pension alimentaire doit-elle être versée ? - Quel est le montant de la déduction ? - Comment faut-il déclarer ? \n",
       "\n",
       "https://www.service-public.fr/particuliers/vosdroits/F2 : \n",
       "Vous pouvez déduire de vos revenus, sous conditions, la pension alimentaire que vous versez pour subvenir aux besoins d'un enfant qui n'est pas compté à votre charge. Voici une liste de différents cas possibles:\n",
       "- Votre enfant vit avec vous\n",
       "- Votre enfant ne vit pas chez vous \n",
       "\n",
       "https://www.service-public.fr/particuliers/vosdroits/F35777 : Impôt sur le revenu - Pension alimentaire perçue par un enfant (Comment déclarer ?)\n",
       "Vous devez déclarer vous-même les pensions alimentaires que vous avez reçues. En effet, ces montants ne sont jamais inscrits sur la déclaration de revenus pré-remplie que vous envoie l'administration fiscale. Vous devez les indiquer dans la partie \"Pensions, retraites, rentes\", ligne \"Pensions alimentaires perçues\". La déclaration des revenus par internet est obligatoire si votre résidence principale est équipée d'un accès à internet et que vous êtes en mesure de faire votre déclaration en ligne. Pour l'année 2023, la déclaration de revenus est terminée. La déclaration 2024 des revenus de 2023 débutera en avril 2024. Si vous devez faire une déclaration papier: Pour l'année 2023, la déclaration de revenus est terminée. La déclaration 2024 des revenus de 2023 débutera en avril 2024. \n",
       "\n",
       "Question : Comment déduire fiscalement les sommes versées au titre de la pension alimentaire lors de la déclaration d'impôt ?</pre></div><div style=\"width: 50%; padding:10px;\"> <div style=\"text-align:center;color:blue;\">answer</div> <pre class=\"qq\">Selon les informations fournies, vous pouvez déduire fiscalement les sommes versées au titre de la pension alimentaire lors de la déclaration d'impôt. Cependant, les détails spécifiques sur la manière de procéder ne sont pas mentionnés dans les éléments de contexte fournis.</pre></div></div></div>"
      ],
      "text/plain": [
       "<IPython.core.display.HTML object>"
      ]
     },
     "metadata": {},
     "output_type": "display_data"
    },
    {
     "data": {
      "text/html": [
       "<br>"
      ],
      "text/plain": [
       "<IPython.core.display.HTML object>"
      ]
     },
     "metadata": {},
     "output_type": "display_data"
    },
    {
     "data": {
      "text/html": [
       "\n",
       "        <style>\n",
       "            .qq {\n",
       "                word-break: keep-all;\n",
       "                white-space: pre-wrap;\n",
       "            }\n",
       "        </style>\n",
       "\n",
       "        <div style=\"border:1px solid grey;padding:5px;border-radius:8px;\">\n",
       "            <div>ID: ID &nbsp Q: 40</div>\n",
       "            <h5 style=\"font-weight: bold;\">Quels sont les barèmes utilisés pour déterminer le prix du bouquet et le montant de la rente dans une vente en viager ?</h5>\n",
       "            <div style=\"display:flex; align-items:top;\"><div style=\"width: 50%; padding:10px;\"> <div style=\"text-align:center;color:blue;\">prompt</div> <pre class=\"qq\">Utilisez les éléments de contexte à votre disposition ci-dessous pour répondre à la question finale. Si vous ne connaissez pas la réponse, dites simplement que vous ne savez pas, n'essayez pas d'inventer une réponse.\n",
       "\n",
       "https://www.service-public.fr/particuliers/vosdroits/F2762 : Achat ou vente en viager : quelles sont les règles ? (Comment est fixé le prix de la vente en viager?)\n",
       "Le prix est généralement constitué du bouquet et d'une rente viagère. Le bouquet payé comptant à la signature du contrat de vente n'est pas obligatoire. Il est librement fixé. En général, il représente 30 % de la valeur totale du bien. La rente viagère peut être versée à une ou plusieurs personnes physiques (époux ou indivisaires ). Elle peut être mensuelle, trimestrielle ou annuelle, payable au début ou à la fin de chaque période. Quand la rente est versée à plusieurs vendeurs et que l’un décède, elle est soit reversée intégralement au survivant ( rente réversible ), soit réduite proportionnellement ( rente réductible ). La valeur totale de la rente est incertaine, car elle dépend de la durée de vie du vendeur. Son montant est estimé en fonction de plusieurs critères parmi lesquels :\n",
       "- Âge et espérance de vie du crédirentier\n",
       "- Valeur du bien\n",
       "- Montant du bouquet\n",
       "- Loyers que pourrait percevoir le crédirentier si le logement était loué\n",
       "Le notaire calcule le montant de la rente en fonction de barèmes. Vous pouvez les consulter auprès d'une compagnie d'assurance ou d'un notaire. Les parties peuvent insérer dans l'acte de vente une clause d'indexation. Cette clause permet la révision automatique du montant de la rente suivant, par exemple, l'indice des prix à la consommation publié par l' Insee. Pour assurer la sécurité du paiement des rentes, le crédirentier peut notamment inscrire dans l'acte de vente les éléments suivants :\n",
       "- Clause résolutoire qui l'autorise à reprendre son bien si plusieurs rentes ne sont plus versées par le débirentier\n",
       "- Clause pénale par laquelle il a le droit de conserver le bouquet (s'il a été versé), en cas de résiliation du contrat de vente\n",
       "(À savoir: Les rentes viagères sont soumises à l'impôt sur le revenu pour une fraction de leur montant, comprise entre 30 et 70  % et décroissante avec l'âge du crédirentier. Le bouquet est exonéré d'impôts.) \n",
       "\n",
       "https://www.service-public.fr/particuliers/vosdroits/F2762 : \n",
       "Vous allez vendre ou acheter un logement en viager ? Vous vous demandez comment fonctionne cette vente immobilière ? Vous vous posez des questions sur l'entretien du bien durant le viager ? Nous faisons le point sur la réglementation. Voici une liste de différents cas possibles:\n",
       "- Qu'est-ce qu'une vente en viager ? - Qu'est-ce qu'un viager occupé ? - Qu'est-ce qu'un viager libre ? - Comment est fixé le prix de la vente en viager? - Entretien, travaux, impôts... : qui paye quoi dans un viager ? \n",
       "\n",
       "https://www.service-public.fr/particuliers/vosdroits/F2762 : Achat ou vente en viager : quelles sont les règles ? (Qu'est-ce qu'une vente en viager ?)\n",
       "Le viager consiste à vendre à un tiers un bien immobilier en échange d'une rente périodique (mensuelle, trimestrielle ou annuelle). Cette rente s'accompagne d'une somme payée comptant à la signature de l'acte de vente, le bouquet. L'acheteur (appelé le débirentier ) verse à 1 ou plusieurs vendeurs (le crédirentier ) une rente viagère à vie. Au décès du crédirentier, le viager cesse et le débirentier entre en possession du bien sans faire aucune démarche. Le décès du vendeur doit être imprévisible. Aussi, l'acheteur ne doit pas avoir eu connaissance d'une maladie dont était atteint le crédirentier au moment de la signature de l'acte de vente. Si le vendeur décède dans les 20 jours qui suivent la signature de l'acte de vente, l' événement est considéré comme prévisible et la vente n'est pas valable. L'annulation de la vente peut être demandée par les héritiers du crédirentier devant le tribunal. Comme pour toutes les ventes de biens immobiliers, un acte authentique de vente est obligatoirement établi par un notaire. \n",
       "\n",
       "https://www.service-public.fr/particuliers/vosdroits/F2604 : Vente d'un logement en copropriété (Règlement du prix de vente)\n",
       "Le solde du prix de vente, ainsi que les frais d'acte notarié, doivent être versés à la signature de l'acte de vente. Vous pouvez estimer le montant des frais d'acquisition immobiliers et comprendre leur répartition entre les taxes pour l'État et la rémunération du notaire à l'aide de ce simulateur : \n",
       "\n",
       "Question : Quels sont les barèmes utilisés pour déterminer le prix du bouquet et le montant de la rente dans une vente en viager ?</pre></div><div style=\"width: 50%; padding:10px;\"> <div style=\"text-align:center;color:blue;\">answer</div> <pre class=\"qq\">Les barèmes utilisés pour déterminer le prix du bouquet et le montant de la rente dans une vente en viager peuvent être consultés auprès d'une compagnie d'assurance ou d'un notaire.</pre></div></div></div>"
      ],
      "text/plain": [
       "<IPython.core.display.HTML object>"
      ]
     },
     "metadata": {},
     "output_type": "display_data"
    },
    {
     "data": {
      "text/html": [
       "<br>"
      ],
      "text/plain": [
       "<IPython.core.display.HTML object>"
      ]
     },
     "metadata": {},
     "output_type": "display_data"
    },
    {
     "data": {
      "text/html": [
       "\n",
       "        <style>\n",
       "            .qq {\n",
       "                word-break: keep-all;\n",
       "                white-space: pre-wrap;\n",
       "            }\n",
       "        </style>\n",
       "\n",
       "        <div style=\"border:1px solid grey;padding:5px;border-radius:8px;\">\n",
       "            <div>ID: ID &nbsp Q: 41</div>\n",
       "            <h5 style=\"font-weight: bold;\">Est-il possible d'exercer une activité salariée à temps partiel tout en bénéficiant d'une réduction d'activité pour prendre sa retraite progressive ?</h5>\n",
       "            <div style=\"display:flex; align-items:top;\"><div style=\"width: 50%; padding:10px;\"> <div style=\"text-align:center;color:blue;\">prompt</div> <pre class=\"qq\">Utilisez les éléments de contexte à votre disposition ci-dessous pour répondre à la question finale. Si vous ne connaissez pas la réponse, dites simplement que vous ne savez pas, n'essayez pas d'inventer une réponse.\n",
       "\n",
       "https://www.service-public.fr/particuliers/vosdroits/F12842 : Retraite progressive du salarié (En quoi consiste la retraite progressive ?)\n",
       "La retraite progressive est un dispositif qui vous permet, en fin de carrière, de travailler à temps partiel et de toucher, en même temps, une partie de vos retraite s (de base et complémentaires). Pendant cette période, vous continuez de cotiser à la retraite. Vous pouvez choisir de surcotiser, c’est-à-dire cotiser à la retraite sur la base d’un salaire à temps complet. Lorsque vous cessez totalement votre activité professionnelle, votre retraite définitive est recalculée en tenant compte de cette période pendant laquelle vous avez continué de travailler à temps partiel. Vous pouvez en savoir plus sur la retraite progressive en utilisant un service en ligne : \n",
       "\n",
       "https://www.service-public.fr/particuliers/vosdroits/F12842 : \n",
       "Vous souhaitez réduire votre activité professionnelle en fin de carrière à l'approche de votre retraite ? Le dispositif de retraite progressive le permet. Nous vous en exposons les conditions. Voici une liste de différents cas possibles:\n",
       "- En quoi consiste la retraite progressive ? - Quelles conditions faut-il remplir pour bénéficier d’une retraite progressive ? - Comment demander la retraite progressive ? - Quel est le montant de la retraite progressive ? - Que se passe-t-il en cas de changement de situation ? - Que se passe-t-il lors de votre départ en retraite définitive ? \n",
       "\n",
       "https://www.service-public.fr/particuliers/vosdroits/F13898 : Rémunération d'un salarié en chômage partiel (activité partielle) (Quels salariés peuvent bénéficier de l'activité partielle ?)\n",
       "En cas de réduction ou de suspension d'activité de l'entreprise, seuls certains salariés peuvent bénéficier du chômage partiel. \n",
       "\n",
       "https://www.service-public.fr/particuliers/vosdroits/F35001 : \n",
       "L'un de vos proches est handicapé ou en perte d'autonomie ? Vous pouvez, dans certains cas, cesser temporairement votre activité ou travailler à temps partiel, dans le cadre d'un congé de proche aidant, pour vous occuper de lui. \n",
       "\n",
       "Question : Est-il possible d'exercer une activité salariée à temps partiel tout en bénéficiant d'une réduction d'activité pour prendre sa retraite progressive ?</pre></div><div style=\"width: 50%; padding:10px;\"> <div style=\"text-align:center;color:blue;\">answer</div> <pre class=\"qq\">Oui, il est possible d'exercer une activité salariée à temps partiel tout en bénéficiant d'une réduction d'activité pour prendre sa retraite progressive. La retraite progressive permet de travailler à temps partiel et de toucher une partie de ses retraites tout en continuant de cotiser à la retraite.</pre></div></div></div>"
      ],
      "text/plain": [
       "<IPython.core.display.HTML object>"
      ]
     },
     "metadata": {},
     "output_type": "display_data"
    },
    {
     "data": {
      "text/html": [
       "<br>"
      ],
      "text/plain": [
       "<IPython.core.display.HTML object>"
      ]
     },
     "metadata": {},
     "output_type": "display_data"
    },
    {
     "data": {
      "text/html": [
       "\n",
       "        <style>\n",
       "            .qq {\n",
       "                word-break: keep-all;\n",
       "                white-space: pre-wrap;\n",
       "            }\n",
       "        </style>\n",
       "\n",
       "        <div style=\"border:1px solid grey;padding:5px;border-radius:8px;\">\n",
       "            <div>ID: ID &nbsp Q: 42</div>\n",
       "            <h5 style=\"font-weight: bold;\">Comment les associations peuvent-elles soutenir les usagers du système de santé dans leurs démarches de recours collectif ?</h5>\n",
       "            <div style=\"display:flex; align-items:top;\"><div style=\"width: 50%; padding:10px;\"> <div style=\"text-align:center;color:blue;\">prompt</div> <pre class=\"qq\">Utilisez les éléments de contexte à votre disposition ci-dessous pour répondre à la question finale. Si vous ne connaissez pas la réponse, dites simplement que vous ne savez pas, n'essayez pas d'inventer une réponse.\n",
       "\n",
       "https://www.service-public.fr/particuliers/vosdroits/F34649 : Action de groupe : préjudice lié à un produit de santé (Comment mettre en œuvre l'action de groupe « santé » ?)\n",
       "L'action de groupe peut être lancée uniquement par des associations. Si vous avez subi un préjudice lié à un produit de santé et que ce préjudice peut concerner d'autres personnes, vous pouvez signaler votre affaire à une association d'usagers du système de santé qui pourra ensuite poursuivre le professionnel en cause. Deux types d'associations d'usagers du système de santé sont compétentes pour engager la procédure d'action de groupe :\n",
       "- Associations d'usagers du système de santé agréées au niveau régional\n",
       "- Associations d'usagers du système de santé agréées au niveau national. Le juge vérifie que l'association a le droit d'enclencher cette procédure. (À noter: Une association qui a une activité annexe de production d'un produit de santé concerné par ces actions ne peut pas engager une action de groupe.) Ces associations peuvent solliciter l'aide d'un avocat et d'un commissaire de justice. Elles doivent saisir soit :\n",
       "- Le tribunal administratif si le mis en cause est une personne morale de droit public (exemples : établissements publics...) ou un organisme de droit privé chargé de la gestion d'un service public\n",
       "- Le tribunal judiciaire si le mis en cause est une personne privée, physique ou morale. L'association engage la procédure pour toutes les personnes concernées. L'adhésion à l'association n'est pas nécessaire. L'action de groupe est gratuite, mais il est conseillé de conserver tous documents prouvant votre préjudice. \n",
       "\n",
       "https://www.service-public.fr/particuliers/vosdroits/F34649 : \n",
       "Vous avez subi un préjudice lié à un produit de santé (médicament, produit cosmétique, dispositif médical...) ? Vous pouvez obtenir une indemnisation avec la procédure de l'action de groupe. Plusieurs usagers du système de santé doivent être concernés par un préjudice similaire. Une telle procédure est engagée par une association d'usagers du système de santé agréée au niveau régional ou national. En cas de succès de l'action, l'association perçoit l'indemnisation puis la reverse aux victimes. Voici une liste de différents cas possibles:\n",
       "- Qu'est-ce qu'une action de groupe « santé » ? - Quel préjudice est réparé lors de l'action de groupe « santé » ? - Contre qui est intentée l'action de groupe « santé » ? - Comment mettre en œuvre l'action de groupe « santé » ? - Quelles sont les étapes de l'action du groupe « santé » ? - Le conflit peut-il se résoudre par médiation ? - Comment adhérer au groupe pour être indemnisé ? - Comment est fixée l'indemnisation dans le cadre d'une action de groupe santé ? \n",
       "\n",
       "https://www.service-public.fr/particuliers/vosdroits/F34649 : Action de groupe : préjudice lié à un produit de santé (Comment adhérer au groupe pour être indemnisé ?)\n",
       "Le juge doit procéder aux mesures de publicité pour permettre d'informer les victimes. Le juge le fait une fois les recours épuisés. Dès que la décision est rendue publique, vérifiez que vous faites bien partie du groupe de victimes concerné. Si c'est le cas, vous devez vous manifester auprès de l'association ayant lancé la procédure pour adhérer au groupe et bénéficier de l'indemnisation. L'association se chargera ensuite de récupérer votre indemnisation auprès du professionnel et de vous la verser. Veillez à conserver tout document prouvant que vous appartenez au groupe pouvant être indemnisé. Le juge fixe la date limite pour vous déclarer auprès de l'association. Si vous n'êtes pas signalé après cette date, vous ne pourrez pas être indemnisé par l'action de groupe. Mais vous pourrez réclamer une indemnisation à titre individuel. \n",
       "\n",
       "https://www.service-public.fr/particuliers/vosdroits/F34649 : Action de groupe : préjudice lié à un produit de santé (Qu'est-ce qu'une action de groupe « santé » ?)\n",
       "Une action de groupe vous permet, si vous êtes concerné par un dommage causé par une faute liée à la production, la fourniture, ou la délivrance d'un produit de santé, d'être indemnisé. On parle aussi de recours collectif. (Exemple: Il peut s'agir de médicaments, contraceptions, produits cosmétiques, produit issu d'un don du sang et destiné à être transfusé à un patient, organes, cellules, tissus, dispositifs médicaux.) Vous pouvez être indemnisé même si vous :\n",
       "- N'avez pas porté plainte\n",
       "- N'étiez pas présent au procès\n",
       "- Ne vous êtes pas manifesté avant le procès auprès des autorités ou d'une association d'usagers de santé. En effet, au moment de sa décision, le juge fixe le délai pendant lequel vous pouvez adhérer au groupe pour être indemnisé. Ce délai, qui ne peut être inférieur à 6 mois ni supérieur à 5 ans, commence à courir à compter de la fin des mesures de publicité ordonnées par ce juge. \n",
       "\n",
       "Question : Comment les associations peuvent-elles soutenir les usagers du système de santé dans leurs démarches de recours collectif ?</pre></div><div style=\"width: 50%; padding:10px;\"> <div style=\"text-align:center;color:blue;\">answer</div> <pre class=\"qq\">Les associations peuvent soutenir les usagers du système de santé dans leurs démarches de recours collectif en engageant une action de groupe en leur nom. Elles doivent être agréées au niveau régional ou national et peuvent solliciter l'aide d'un avocat et d'un commissaire de justice. Les associations doivent saisir le tribunal administratif ou le tribunal judiciaire en fonction de la nature du mis en cause. Elles doivent également procéder aux mesures de publicité pour informer les victimes et permettre à ces dernières de se manifester et d'adhérer au groupe pour bénéficier de l'indemnisation. Enfin, les associations se chargent de récupérer l'indemnisation auprès du professionnel et de la verser aux victimes.</pre></div></div></div>"
      ],
      "text/plain": [
       "<IPython.core.display.HTML object>"
      ]
     },
     "metadata": {},
     "output_type": "display_data"
    },
    {
     "data": {
      "text/html": [
       "<br>"
      ],
      "text/plain": [
       "<IPython.core.display.HTML object>"
      ]
     },
     "metadata": {},
     "output_type": "display_data"
    },
    {
     "data": {
      "text/html": [
       "\n",
       "        <style>\n",
       "            .qq {\n",
       "                word-break: keep-all;\n",
       "                white-space: pre-wrap;\n",
       "            }\n",
       "        </style>\n",
       "\n",
       "        <div style=\"border:1px solid grey;padding:5px;border-radius:8px;\">\n",
       "            <div>ID: ID &nbsp Q: 43</div>\n",
       "            <h5 style=\"font-weight: bold;\">Qu'est-ce que la Déclaration unique et simplifiée (DUS) et comment fonctionne-t-elle pour les cotisations dans le spectacle ?</h5>\n",
       "            <div style=\"display:flex; align-items:top;\"><div style=\"width: 50%; padding:10px;\"> <div style=\"text-align:center;color:blue;\">prompt</div> <pre class=\"qq\">Utilisez les éléments de contexte à votre disposition ci-dessous pour répondre à la question finale. Si vous ne connaissez pas la réponse, dites simplement que vous ne savez pas, n'essayez pas d'inventer une réponse.\n",
       "\n",
       "https://www.service-public.fr/particuliers/vosdroits/F1928 : Guichet unique du spectacle occasionnel (Guso) (Quel est l'objectif du Guso ?)\n",
       "Le Guso consiste en un ensemble de services en ligne qui permet à l'employeur d'effectuer les démarches suivantes :\n",
       "- Faire la déclaration préalable à l'embauche (DPAE) et la déclaration unique et simplifiée (DUS)\n",
       "- Payer en un seul règlement l'ensemble des cotisations aux organismes de protection sociale \n",
       "\n",
       "https://www.service-public.fr/particuliers/vosdroits/F1928 : \n",
       "Vous souhaitez savoir ce qu'est le guichet unique du spectacle occasionnel, quel est son objectif, si vous êtes concernés par ce dispositif ? Vous voulez connaître les démarches à effectuer et comprendre comment ce service fonctionne ? Nous vous communiquons les informations utiles. Voici une liste de différents cas possibles:\n",
       "- Qu'est-ce que le guichet unique du spectacle occasionnel (Guso) ? - Quel est l'objectif du Guso ? - Quels sont les employeurs associatifs concernés par le Guso ? - Comment adhérer au Guso ? - Comment faire une estimation du coût de votre spectacle ? - Comment faire vos déclarations ? - Quand devez-vous payer les cotisations ? \n",
       "\n",
       "https://www.service-public.fr/particuliers/vosdroits/F1928 : Guichet unique du spectacle occasionnel (Guso) (Comment faire vos déclarations ?)\n",
       "À partir de l'espace employeur du site du Guso, l'employeur peut effectuer les déclarations suivantes :\n",
       "- Déclaration préalable à l'embauche (DPAE) de son ou ses salariés auprès de l' Urssaf . Cette déclaration peut être faite jusqu'à 2 heures avant le spectacle. - Déclaration unique et simplifiée (DUS) qui a valeur de contrat de travail. Cette déclaration permet de déclarer un salarié auprès des 6 organismes de protection sociale suivants : \n",
       "- Afdas (organisme de formation professionnelle)\n",
       "- Audiens (retraite complémentaire et prévoyance)\n",
       "- Service de santé au travail (CMB)\n",
       "- Caisse des congés spectacles (congés payés)\n",
       "- Unédic (Assurance chômage)\n",
       "- Urssaf (Sécurité sociale)\n",
       "La DUS doit être effectuée au plus tard dans les 15 jours qui suivent la fin du contrat. À la fin de sa démarche, l'employeur doit imprimer sa déclaration unique et simplifiée :\n",
       "- Le 1 er feuillet est à envoyer au Guso\n",
       "- Les 2 e et 3 e feuillets sont à remettre au salarié avec son salaire net\n",
       "- Le 4 e feuillet est à conserver par l'association employeur\n",
       "Les 4 feuillets doivent être cosignés par le représentant de l'association employeur et par l'intermittent du spectacle. (À noter: le salarié doit également adhérer au Guso. Son numéro Guso de salarié est obligatoire pour saisir une DUS. S'il est déjà inscrit, il doit le communiquer à son employeur occasionnel. Il figure sur les attestations mensuelles d'emploi du Guso. Sinon, le salarié doit adhérer au Guso depuis l’espace salarié au moyen de son numéro de sécurité sociale.) \n",
       "\n",
       "https://www.service-public.fr/particuliers/vosdroits/F1928 : Guichet unique du spectacle occasionnel (Guso) (Quand devez-vous payer les cotisations ?)\n",
       "Le règlement des cotisations indiquées à la fin de la déclaration unique et simplifiée et le prélèvement à la source de l’impôt sur le revenu doivent être effectués spontanément dans les 15 jours suivant la date de fin du contrat de travail. En cas de non-respect de ce délai, des majorations de retard sont appliquées :\n",
       "- 6 % dès le 1 er jour de retard et pour une période de 3 mois à partir de la date d'exigibilité,\n",
       "- 1 % supplémentaire par mois de retard à partir de la fin de cette période de 3 mois\n",
       "Le paiement s'effectue exclusivement par prélèvement sur le compte bancaire de l'association. \n",
       "\n",
       "Question : Qu'est-ce que la Déclaration unique et simplifiée (DUS) et comment fonctionne-t-elle pour les cotisations dans le spectacle ?</pre></div><div style=\"width: 50%; padding:10px;\"> <div style=\"text-align:center;color:blue;\">answer</div> <pre class=\"qq\">La Déclaration unique et simplifiée (DUS) est une déclaration qui permet à l'employeur dans le domaine du spectacle de déclarer un salarié auprès des organismes de protection sociale. Elle a valeur de contrat de travail. \n",
       "\n",
       "Pour les cotisations dans le spectacle, une fois la DUS effectuée, le règlement des cotisations indiquées à la fin de la déclaration doit être effectué spontanément dans les 15 jours suivant la date de fin du contrat de travail. Le paiement s'effectue exclusivement par prélèvement sur le compte bancaire de l'association. En cas de non-respect de ce délai, des majorations de retard sont appliquées.</pre></div></div></div>"
      ],
      "text/plain": [
       "<IPython.core.display.HTML object>"
      ]
     },
     "metadata": {},
     "output_type": "display_data"
    },
    {
     "data": {
      "text/html": [
       "<br>"
      ],
      "text/plain": [
       "<IPython.core.display.HTML object>"
      ]
     },
     "metadata": {},
     "output_type": "display_data"
    },
    {
     "data": {
      "text/html": [
       "\n",
       "        <style>\n",
       "            .qq {\n",
       "                word-break: keep-all;\n",
       "                white-space: pre-wrap;\n",
       "            }\n",
       "        </style>\n",
       "\n",
       "        <div style=\"border:1px solid grey;padding:5px;border-radius:8px;\">\n",
       "            <div>ID: ID &nbsp Q: 44</div>\n",
       "            <h5 style=\"font-weight: bold;\">Quelles sont les formations accessibles en grande école après le bac ?</h5>\n",
       "            <div style=\"display:flex; align-items:top;\"><div style=\"width: 50%; padding:10px;\"> <div style=\"text-align:center;color:blue;\">prompt</div> <pre class=\"qq\">Utilisez les éléments de contexte à votre disposition ci-dessous pour répondre à la question finale. Si vous ne connaissez pas la réponse, dites simplement que vous ne savez pas, n'essayez pas d'inventer une réponse.\n",
       "\n",
       "https://www.service-public.fr/particuliers/vosdroits/F23512 : Quelles sont les orientations possibles après la classe de troisième ? (Qu'est-ce que la seconde professionnelle ?)\n",
       "Cette orientation permet à votre enfant de passer un bac professionnel après 3 années de formation. Il existe environ 75 spécialités de baccalauréat professionnel. La formation comporte des enseignements généraux, professionnels et des périodes de formation en milieu professionnel. Votre enfant bénéficie également d'un accompagnement personnalisé. Il peut, sous certaines conditions, poursuivre une formation supérieure après avoir obtenu un de ces diplômes. (À noter: pendant sa formation, votre enfant peut obtenir un brevet d'études professionnelles (BEP) .) \n",
       "\n",
       "https://www.service-public.fr/particuliers/vosdroits/F23512 : Quelles sont les orientations possibles après la classe de troisième ? (Qu'est-ce que la seconde générale et technologique ?)\n",
       "En 2 nde générale, votre enfant pourra choisir, en plus des enseignements du tronc commun, des enseignements optionnels. Par exemple, création et culture design, biotechnologies. Il devra choisir à la fin de la classe de 2 nde les spécialités du bac qu'il va préparer. Pour l'aider dans ses choix, il bénéficiera de 2 heures d'accompagnement personnalisé. La formation se déroule sur 3 ans pour un bac général ou un bac technologique. (À noter: certains diplômes technologiques se préparent à partir d'une seconde spécifique. C'est le cas des baccalauréats technologiques Sciences et technologies de l'hôtellerie et de la restauration (STHR) et Techniques de la musique et de la danse (TMD). C'est aussi le cas des brevets de techniciens (BT) dessinateur en arts appliqués et des métiers de la musique.) \n",
       "\n",
       "https://www.service-public.fr/particuliers/vosdroits/F541 : Qu'est-ce que l'enseignement à distance de niveau collège ou lycée ou post-bac ? (Quels enseignements peut-on suivre à distance ?)\n",
       "Vous pouvez notamment suivre à distance un enseignement scolaire (collège et lycée) ou supérieur (post-bac). Les formations suivies à distance vous permettent d'obtenir des diplômes et des qualifications professionnelles reconnues par l'État. Les enseignements concernés vont de la classe de sixième au Bac+5. \n",
       "\n",
       "https://www.service-public.fr/particuliers/vosdroits/F23487 : \n",
       "Vous voulez vous inscrire à un examen de l'Éducation nationale (brevet, bac...) ou de l'enseignement supérieur (BTS...) sans avoir suivi les cours dans un établissement scolaire ? Vous passez alors votre examen en candidat libre (également appelé candidat individuel ou candidat non scolaire ). Pour cela, vous devez remplir des conditions qui varient selon les diplômes. Les démarches à effectuer pour vous inscrire sont fixées par le rectorat. Voici une liste de différents cas possibles:\n",
       "- Quels examens pouvez-vous passer en candidat libre ? - Quelles conditions devez-vous remplir pour passer un examen en candidat libre ? - Comment vous inscrire à un examen en candidat libre ? - À quel moment vous inscrire à un examen en candidat libre ? \n",
       "\n",
       "Question : Quelles sont les formations accessibles en grande école après le bac ?</pre></div><div style=\"width: 50%; padding:10px;\"> <div style=\"text-align:center;color:blue;\">answer</div> <pre class=\"qq\">D'après les éléments de contexte fournis, il n'est pas possible de répondre à la question finale.</pre></div></div></div>"
      ],
      "text/plain": [
       "<IPython.core.display.HTML object>"
      ]
     },
     "metadata": {},
     "output_type": "display_data"
    },
    {
     "data": {
      "text/html": [
       "<br>"
      ],
      "text/plain": [
       "<IPython.core.display.HTML object>"
      ]
     },
     "metadata": {},
     "output_type": "display_data"
    },
    {
     "data": {
      "text/html": [
       "\n",
       "        <style>\n",
       "            .qq {\n",
       "                word-break: keep-all;\n",
       "                white-space: pre-wrap;\n",
       "            }\n",
       "        </style>\n",
       "\n",
       "        <div style=\"border:1px solid grey;padding:5px;border-radius:8px;\">\n",
       "            <div>ID: ID &nbsp Q: 45</div>\n",
       "            <h5 style=\"font-weight: bold;\">Comment les parents peuvent-ils prendre contact avec les enseignants de leur enfant ?</h5>\n",
       "            <div style=\"display:flex; align-items:top;\"><div style=\"width: 50%; padding:10px;\"> <div style=\"text-align:center;color:blue;\">prompt</div> <pre class=\"qq\">Utilisez les éléments de contexte à votre disposition ci-dessous pour répondre à la question finale. Si vous ne connaissez pas la réponse, dites simplement que vous ne savez pas, n'essayez pas d'inventer une réponse.\n",
       "\n",
       "https://www.service-public.fr/particuliers/vosdroits/F1391 : Information des parents à l'école primaire (élémentaire et maternelle) (En maternelle > Cahier de correspondance)\n",
       "Le cahier de correspondance vous permet d'échanger avec les enseignants sur le fonctionnement de l'école (sorties scolaires, absence d'un enseignant, etc.) ou sur le comportement de votre enfant. Vous pouvez également y faire une demande de rendez-vous ou signaler l'absence de l'enfant. (À noter: dans certaines écoles, le cahier de correspondance peut être numérique.) \n",
       "\n",
       "https://www.service-public.fr/particuliers/vosdroits/F1390 : \n",
       "Qu'est-ce qu'une association de parents d'élèves ? Quel est son objet ? Quel est son rôle ? De quels moyens dispose-t-elle ? Nous vous donnons les principales informations sur ce sujet. Voici une liste de différents cas possibles:\n",
       "- Comment créer une association de parents d'élèves ? - Quels sont les membres d'une association de parents d'élèves ? - Quel est l'objet d'une association de parents d'élèves ? - Quel est le rôle de l'association de parents d'élèves ? - Dans quelles instances l'association de parents d'élèves est-elle représentée ? - De quels moyens matériels dispose une association de parents d'élèves ? - L'affichage des coordonnées des associations de parents d'élèves est-il obligatoire ? \n",
       "\n",
       "https://www.service-public.fr/particuliers/vosdroits/F21287 : \n",
       "Vous devez être informé de la scolarité de votre enfant et de la vie dans son établissement par les enseignants et les représentants des parents d'élèves. Cette information vous est transmise dans certains documents (éventuellement numérique) mais aussi lors de rencontres avec les enseignants et les représentants des parents d'élèves. Voici une liste de différents cas possibles:\n",
       "- À qui sont adressées les informations ? - Cahier de textes numérique\n",
       "- Consultation des notes\n",
       "- Bulletin scolaire\n",
       "- Cahier de correspondance\n",
       "- Livret scolaire (au collège)\n",
       "- Réunions individuelles ou collectives\n",
       "- Représentants des parents d'élèves \n",
       "\n",
       "https://www.service-public.fr/particuliers/vosdroits/F21287 : Collège et lycée : information des parents sur la scolarité de leur enfant (Réunions individuelles ou collectives)\n",
       "Si votre enfant est nouveau dans un établissement, vous devez participer à une réunion d'information dans les jours qui suivent la rentrée scolaire. Des réunions peuvent aussi être organisées au cours de l'année scolaire, notamment pour vous informer sur la situation de la classe, sur une procédure spécifique ou sur les possibilités d'orientation. Si votre enfant est en grande difficulté scolaire, son établissement peut également vous convier à des réunions pour envisager ensemble des solutions. Si vous rencontrez un problème lié à la pédagogie, adressez-vous au professeur principal de la classe. Si votre problème concerne les absences et les questions de comportement, adressez-vous au conseiller principal d'éducation (CPE). Le chef d'établissement et les enseignants doivent faire le nécessaire pour répondre à vos demandes d'information et de rendez-vous. Toute réponse négative doit présenter les motifs. \n",
       "\n",
       "Question : Comment les parents peuvent-ils prendre contact avec les enseignants de leur enfant ?</pre></div><div style=\"width: 50%; padding:10px;\"> <div style=\"text-align:center;color:blue;\">answer</div> <pre class=\"qq\">Les parents peuvent prendre contact avec les enseignants de leur enfant en utilisant le cahier de correspondance, que ce soit sous forme papier ou numérique. Ils peuvent également demander un rendez-vous avec les enseignants ou signaler l'absence de leur enfant par le biais de ce cahier.</pre></div></div></div>"
      ],
      "text/plain": [
       "<IPython.core.display.HTML object>"
      ]
     },
     "metadata": {},
     "output_type": "display_data"
    },
    {
     "data": {
      "text/html": [
       "<br>"
      ],
      "text/plain": [
       "<IPython.core.display.HTML object>"
      ]
     },
     "metadata": {},
     "output_type": "display_data"
    },
    {
     "data": {
      "text/html": [
       "\n",
       "        <style>\n",
       "            .qq {\n",
       "                word-break: keep-all;\n",
       "                white-space: pre-wrap;\n",
       "            }\n",
       "        </style>\n",
       "\n",
       "        <div style=\"border:1px solid grey;padding:5px;border-radius:8px;\">\n",
       "            <div>ID: ID &nbsp Q: 46</div>\n",
       "            <h5 style=\"font-weight: bold;\">Comment puis-je porter plainte auprès des forces de l'ordre en cas de vol de chéquier ou d'utilisation frauduleuse de mes chèques ?</h5>\n",
       "            <div style=\"display:flex; align-items:top;\"><div style=\"width: 50%; padding:10px;\"> <div style=\"text-align:center;color:blue;\">prompt</div> <pre class=\"qq\">Utilisez les éléments de contexte à votre disposition ci-dessous pour répondre à la question finale. Si vous ne connaissez pas la réponse, dites simplement que vous ne savez pas, n'essayez pas d'inventer une réponse.\n",
       "\n",
       "https://www.service-public.fr/particuliers/vosdroits/F2409 : \n",
       "Vous vous êtes fait voler un chèque ou un chéquier ? Vous devez faire opposition auprès de votre banque. Il est également conseillé de porter plainte auprès des forces de l'ordre (police ou gendarmerie). Voici les démarches à accomplir. Voici une liste de différents cas possibles:\n",
       "- Faire opposition sur votre chèque ou chéquier\n",
       "- Porter plainte\n",
       "- Confirmer votre opposition\n",
       "- Demander le remboursement si votre compte bancaire a été débité \n",
       "\n",
       "https://www.service-public.fr/particuliers/vosdroits/F37234 : \n",
       "Vous avez perdu un chèque ou un chéquier ? Vous devez faire opposition auprès de votre banque. Il est également conseillé de porter plainte auprès des forces de l'ordre (police ou gendarmerie). Voici les démarches à accomplir. Voici une liste de différents cas possibles:\n",
       "- Faire opposition sur votre chèque ou chéquier\n",
       "- Porter plainte\n",
       "- Confirmer votre opposition\n",
       "- Demander le remboursement si votre compte bancaire a été débité \n",
       "\n",
       "https://www.service-public.fr/particuliers/vosdroits/F2409 : Vol d'un chèque ou d'un chéquier (Faire opposition sur votre chèque ou chéquier)\n",
       "Vous devez faire opposition au plus vite après le moment où vous vous rendez compte du vol des chèques. Pour cela, vous devez contacter votre banque par téléphone en utilisant son numéro d'urgence. Ce numéro est notamment indiqué sur le site internet de votre banque. Il est recommandé de conserver le numéro dans votre répertoire téléphonique. Certaines banques vous permettent aussi de faire cette déclaration d'opposition en ligne sur votre espace client. (Attention: si un chèque que vous deviez encaisser (salaire par exemple) a été volé, vous devez contacter l'émetteur du chèque (votre employeur par exemple) pour qu'il fasse lui-même opposition.) L'opposition sur chèque ou chéquier peut être facturée par votre banque. Les conditions tarifaires varient en fonction de votre convention de compte et de l'assurance éventuellement souscrite pour les moyens de paiement. \n",
       "\n",
       "https://www.service-public.fr/particuliers/vosdroits/F2409 : Vol d'un chèque ou d'un chéquier (Porter plainte)\n",
       "Il est conseillé de déclarer le vol aux forces de l'ordre. Pour cela, vous devez porter plainte. Vous pouvez le faire dans un commissariat ou à la gendarmerie. Vous pouvez aussi le faire par courrier. Cas Sur place: Vous devez vous rendre dans un commissariat de police ou à la gendarmerie de votre choix. Les services de police ou de gendarmerie sont obligés d'enregistrer votre plainte si vous êtes victime d'une infraction. La plainte est ensuite transmise au procureur de la République pour qu'il décide de la suite (enquête, classement sans suite...). Si vous ne connaissez pas l'auteur des faits, vous pouvez remplir une pré-plainte en ligne avant de vous déplacer. La pré-plainte peut être effectuée en ligne : Vous devez ensuite signer votre plainte sur place dans un commissariat de police ou une brigade de gendarmerie que vous choisissez. Les policiers ou gendarmes ont déjà les éléments de votre plainte à votre arrivée. Cas Par courrier: Vous pouvez porter plainte auprès du procureur de la République. Pour cela, vous devez envoyer un courrier au tribunal judiciaire du lieu de l'infraction ou du domicile de l'auteur de l'infraction . Votre courrier doit préciser les éléments suivants : \n",
       "- Votre état civil et vos coordonnées complètes (adresse et numéro de téléphone)\n",
       "- Récit détaillé des faits, date et lieu de l'infraction\n",
       "- Nom de l'auteur supposé si vous le connaissez (sinon, la plainte sera déposée contre X)\n",
       "- Noms et adresses des éventuels témoins de l'infraction\n",
       "- Description et estimation provisoire ou définitive du préjudice\n",
       "- Vos documents de preuve : certificats médicaux, arrêts de travail, factures diverses, constats...\n",
       "- Votre éventuelle volonté de vous constituer partie civile\n",
       " Vous pouvez utiliser le modèle de courrier suivant : Vous pouvez envoyer votre plainte en lettre recommandée avec accusé de réception, par lettre simple ou par lettre suivie. Vous pouvez aussi déposer votre plainte directement à l'accueil du tribunal. Dans tous les cas, un récépissé vous est remis dès que les services du procureur de la République ont enregistré votre plainte. La plainte vous permet d'obtenir un récépissé, c'est-à-dire un document attestant de l'enregistrement de votre déclaration. Vous pouvez transmettre le récépissé à votre banque au moment de votre demande de remboursement. \n",
       "\n",
       "Question : Comment puis-je porter plainte auprès des forces de l'ordre en cas de vol de chéquier ou d'utilisation frauduleuse de mes chèques ?</pre></div><div style=\"width: 50%; padding:10px;\"> <div style=\"text-align:center;color:blue;\">answer</div> <pre class=\"qq\">Pour porter plainte auprès des forces de l'ordre en cas de vol de chéquier ou d'utilisation frauduleuse de vos chèques, vous avez plusieurs options. Vous pouvez vous rendre dans un commissariat de police ou à la gendarmerie de votre choix pour déposer votre plainte en personne. Les services de police ou de gendarmerie sont tenus d'enregistrer votre plainte si vous êtes victime d'une infraction. Vous pouvez également remplir une pré-plainte en ligne avant de vous déplacer, puis signer votre plainte sur place dans un commissariat de police ou une brigade de gendarmerie que vous choisissez. Si vous préférez, vous pouvez aussi porter plainte par courrier en envoyant une lettre au tribunal judiciaire du lieu de l'infraction ou du domicile de l'auteur présumé de l'infraction. Votre courrier devra contenir vos coordonnées complètes, un récit détaillé des faits, le nom de l'auteur supposé si vous le connaissez, les noms et adresses des éventuels témoins, une description et une estimation du préjudice, ainsi que tout document de preuve que vous pourriez avoir. Vous pouvez envoyer votre plainte en lettre recommandée avec accusé de réception, par lettre simple ou par lettre suivie. Dans tous les cas, vous recevrez un récépissé attestant de l'enregistrement de votre plainte, que vous pourrez transmettre à votre banque lors de votre demande de remboursement.</pre></div></div></div>"
      ],
      "text/plain": [
       "<IPython.core.display.HTML object>"
      ]
     },
     "metadata": {},
     "output_type": "display_data"
    },
    {
     "data": {
      "text/html": [
       "<br>"
      ],
      "text/plain": [
       "<IPython.core.display.HTML object>"
      ]
     },
     "metadata": {},
     "output_type": "display_data"
    },
    {
     "data": {
      "text/html": [
       "\n",
       "        <style>\n",
       "            .qq {\n",
       "                word-break: keep-all;\n",
       "                white-space: pre-wrap;\n",
       "            }\n",
       "        </style>\n",
       "\n",
       "        <div style=\"border:1px solid grey;padding:5px;border-radius:8px;\">\n",
       "            <div>ID: ID &nbsp Q: 47</div>\n",
       "            <h5 style=\"font-weight: bold;\">Comment faire une demande d'aide auprès de la commission étudiante et quelles sont les démarches à suivre ?</h5>\n",
       "            <div style=\"display:flex; align-items:top;\"><div style=\"width: 50%; padding:10px;\"> <div style=\"text-align:center;color:blue;\">prompt</div> <pre class=\"qq\">Utilisez les éléments de contexte à votre disposition ci-dessous pour répondre à la question finale. Si vous ne connaissez pas la réponse, dites simplement que vous ne savez pas, n'essayez pas d'inventer une réponse.\n",
       "\n",
       "https://www.service-public.fr/particuliers/vosdroits/F2326 : \n",
       "Vous êtes étudiant en situation de handicap et vous vous posez des questions sur le déroulement de votre scolarité dans l' enseignement supérieur ? Accueil dans l'établissement, transport, aides financières...Voici les informations utiles sur le sujet. Voici une liste de différents cas possibles:\n",
       "- Comment votre établissement vous accueille-t-il ? - Vos transports peuvent-ils être financés ? - Quelles solutions pour vous loger ? - Quelles solutions pour vous restaurer ? - De quelles aides financières pouvez-vous bénéficier ? - Stage en entreprise : quel accompagnement ? - Alternance : quel accompagnement ? - Quelles solutions pour assurer le suivi de votre santé ? - En quoi consiste l'accompagnement par un assistant d'éducation ? - Comment suivre vos enseignements à distance ? \n",
       "\n",
       "https://www.service-public.fr/particuliers/vosdroits/F34643 : Aide à la mobilité Parcoursup (Comment faire la demande d'aide à la mobilité Parcoursup ?)\n",
       "Vous devez déposer votre demande d'aide à la mobilité à partir du 3 juillet 2023 via un téléservice : Vous devez fournir les documents suivants :\n",
       "- Justificatif d'inscription dans l'établissement situé en dehors de l'académie de résidence et correspondant au vœu que vous avez accepté dans Parcoursup\n",
       "- Relevé d'identité bancaire à votre nom\n",
       "La demande est examinée en tenant compte de vos difficultés financières et de votre situation globale. Elle est ensuite transmise à la commission d'attribution des aides spécifiques. La commission émet un avis d'attribution ou de non attribution de l'aide. Le directeur du Crous vous notifie la décision. L'aide est définitivement accordée lorsque votre inscription dans l'enseignement supérieur est validée par l'établissement d'inscription. (À noter: la décision du directeur du Crous ne peut pas faire l'objet d'un recours.) \n",
       "\n",
       "https://www.service-public.fr/particuliers/vosdroits/F2326 : Étudiant en situation de handicap (En quoi consiste l'accompagnement par un assistant d'éducation ?)\n",
       "Si une aide vous a été reconnue nécessaire par la commission des droits et de l'autonomie des personnes handicapées (CDAPH), vous êtes accompagné par un assistant d'éducation. À l'université, l'assistant d'éducation a pour fonction de veiller à votre accueil et votre intégration. Cette aide peut concerner les actes de la vie courante, mais aussi l'écriture ou la traduction. \n",
       "\n",
       "https://www.service-public.fr/particuliers/vosdroits/F1024 : Allocation spécifique annuelle pour étudiant en difficulté (Comment en faire la demande ?)\n",
       "Contactez le service social du centre régional des œuvres universitaires et scolaires (Crous) dont vous dépendez pour effectuer votre demande. La demande d'aide d'urgence est examinée par une commission. La demande est présentée de façon anonyme. Si nécessaire, un entretien préalable peut avoir lieu avec un(e) assistant(e) social(e) du Crous. Il permet d'évaluer votre situation globale, au regard notamment de votre parcours universitaire et des difficultés que vous rencontrez. Après examen du dossier, la commission émet un avis d'attribution ou de refus d'attribution d'aide et propose au directeur du Crous un montant. Le directeur du Crous décide du montant final de l'aide. Si vous souhaitez contester une décision vous concernant, vous pouvez faire un recours gracieux auprès du directeur du Crous. \n",
       "\n",
       "Question : Comment faire une demande d'aide auprès de la commission étudiante et quelles sont les démarches à suivre ?</pre></div><div style=\"width: 50%; padding:10px;\"> <div style=\"text-align:center;color:blue;\">answer</div> <pre class=\"qq\">Les éléments de contexte ne fournissent pas d'informations spécifiques sur la manière de faire une demande d'aide auprès de la commission étudiante. Par conséquent, je ne sais pas comment faire une demande d'aide auprès de la commission étudiante et quelles sont les démarches à suivre.</pre></div></div></div>"
      ],
      "text/plain": [
       "<IPython.core.display.HTML object>"
      ]
     },
     "metadata": {},
     "output_type": "display_data"
    },
    {
     "data": {
      "text/html": [
       "<br>"
      ],
      "text/plain": [
       "<IPython.core.display.HTML object>"
      ]
     },
     "metadata": {},
     "output_type": "display_data"
    },
    {
     "data": {
      "text/html": [
       "\n",
       "        <style>\n",
       "            .qq {\n",
       "                word-break: keep-all;\n",
       "                white-space: pre-wrap;\n",
       "            }\n",
       "        </style>\n",
       "\n",
       "        <div style=\"border:1px solid grey;padding:5px;border-radius:8px;\">\n",
       "            <div>ID: ID &nbsp Q: 48</div>\n",
       "            <h5 style=\"font-weight: bold;\">Quelles sont les règles concernant l'usage d'un logement loué à des fins commerciales ?</h5>\n",
       "            <div style=\"display:flex; align-items:top;\"><div style=\"width: 50%; padding:10px;\"> <div style=\"text-align:center;color:blue;\">prompt</div> <pre class=\"qq\">Utilisez les éléments de contexte à votre disposition ci-dessous pour répondre à la question finale. Si vous ne connaissez pas la réponse, dites simplement que vous ne savez pas, n'essayez pas d'inventer une réponse.\n",
       "\n",
       "https://www.service-public.fr/particuliers/vosdroits/F1874 : Utilisation du logement et travaux par le locataire (Jouissance exclusive > Usage du logement)\n",
       "Le locataire doit utiliser le logement en respectant son usage, comme il est prévu dans le contrat de location. Par exemple, le logement peut être loué à usage d'habitation uniquement. Dans ce cas, le locataire a interdiction d'y exercer une activité commerciale qui impliquerait des nuisances dans l'immeuble (notamment si cette activité implique la réception de clientèle ou de marchandises). Si le logement loué est situé dans un immeuble en copropriété, le locataire doit respecter le règlement de copropriété. Ce règlement peut par exemple encadrer ou interdire certaines pratiques, notamment :\n",
       "- Étendre du linge aux fenêtres\n",
       "- Faire des barbecues\n",
       "- Installer des pare-vues sur les balcons (canisse, bambou...)\n",
       "- Poser des pots de fleurs ou des jardinières sur les rebords des fenêtres\n",
       "(À savoir: d'une manière générale, le locataire doit utiliser son logement en respectant la tranquillité du voisinage .) \n",
       "\n",
       "https://www.service-public.fr/particuliers/vosdroits/F2416 : \n",
       "Vous envisagez de transformer un bureau ou un commerce en logement. Vous vous interrogez sur les démarches à effectuer. Devez-vous contacter les services de l'urbanisme et du cadastre ? Si votre local est en copropriété, avez-vous des démarches à faire ? Nous faisons le point sur la réglementation. (Attention: Si vous avez l'intention de louer le futur logement, vous devez respecter les caractéristiques de décence .) Voici une liste de différents cas possibles:\n",
       "- Quelles sont les démarches d'urbanisme à effectuer ? - Quelles sont les démarches à effectuer auprès du cadastre ? - Quelles sont les démarches à effectuer si le local est en copropriété ? \n",
       "\n",
       "https://www.service-public.fr/particuliers/vosdroits/F31835 : \n",
       "Dans un immeuble en copropriété, le lieu de stockage des déchets ménagers (local à poubelles) doit respecter un certain nombre de règles (techniques, sanitaires...). En cas de litige, différents recours sont possibles. Voici une liste de différents cas possibles:\n",
       "- Quelles sont les règles techniques à respecter ? - Quelles sont les règles sanitaires à respecter ? - Quelles sont les règles d'accès et d'utilisation ? - Que faire en cas de nuisances ? \n",
       "\n",
       "https://www.service-public.fr/particuliers/vosdroits/F2315 : \n",
       "| À l'échéance du bail. Pas de congé à donner ni de délai de préavis à respecter | Les règles de congé et de préavis sont à définir dans le contrat de location | \n",
       "\n",
       "Question : Quelles sont les règles concernant l'usage d'un logement loué à des fins commerciales ?</pre></div><div style=\"width: 50%; padding:10px;\"> <div style=\"text-align:center;color:blue;\">answer</div> <pre class=\"qq\">Les règles concernant l'usage d'un logement loué à des fins commerciales sont les suivantes :\n",
       "- Si le logement est loué à usage d'habitation uniquement, le locataire a interdiction d'y exercer une activité commerciale qui impliquerait des nuisances dans l'immeuble, notamment si cette activité implique la réception de clientèle ou de marchandises.\n",
       "- Si le logement loué est situé dans un immeuble en copropriété, le locataire doit respecter le règlement de copropriété, qui peut encadrer ou interdire certaines pratiques commerciales, telles que l'étendage du linge aux fenêtres, les barbecues, l'installation de pare-vues sur les balcons, la pose de pots de fleurs ou de jardinières sur les rebords des fenêtres.\n",
       "- D'une manière générale, le locataire doit utiliser son logement en respectant la tranquillité du voisinage.</pre></div></div></div>"
      ],
      "text/plain": [
       "<IPython.core.display.HTML object>"
      ]
     },
     "metadata": {},
     "output_type": "display_data"
    },
    {
     "data": {
      "text/html": [
       "<br>"
      ],
      "text/plain": [
       "<IPython.core.display.HTML object>"
      ]
     },
     "metadata": {},
     "output_type": "display_data"
    },
    {
     "data": {
      "text/html": [
       "\n",
       "        <style>\n",
       "            .qq {\n",
       "                word-break: keep-all;\n",
       "                white-space: pre-wrap;\n",
       "            }\n",
       "        </style>\n",
       "\n",
       "        <div style=\"border:1px solid grey;padding:5px;border-radius:8px;\">\n",
       "            <div>ID: ID &nbsp Q: 49</div>\n",
       "            <h5 style=\"font-weight: bold;\">Comment contacter le service des impôts pour obtenir mon numéro fiscal ou réinitialiser mon mot de passe ?</h5>\n",
       "            <div style=\"display:flex; align-items:top;\"><div style=\"width: 50%; padding:10px;\"> <div style=\"text-align:center;color:blue;\">prompt</div> <pre class=\"qq\">Utilisez les éléments de contexte à votre disposition ci-dessous pour répondre à la question finale. Si vous ne connaissez pas la réponse, dites simplement que vous ne savez pas, n'essayez pas d'inventer une réponse.\n",
       "\n",
       "https://www.service-public.fr/particuliers/vosdroits/F13551 : Rescrit fiscal (Comment demander un rescrit fiscal ? > Comment faire la demande ?)\n",
       "Votre demande doit être écrite et contenir les informations suivantes :\n",
       "- Nom (ou raison sociale pour une entreprise)\n",
       "- Adresse, numéro de téléphone, adresse mail\n",
       "- Présentation de votre situation (précise, complète et sincère)\n",
       "- Texte fiscal concerné et analyse que vous en faites (dans la mesure du possible)\n",
       "Vous pouvez utiliser le modèle de rescrit proposé sur le site des Impôts. \n",
       "\n",
       "https://www.service-public.fr/particuliers/vosdroits/F33885 : \n",
       "Vous pouvez faire votre réclamation par l'un des moyens suivants : \n",
       "- En ligne depuis votre espace particulier\n",
       "- Par courrier à votre centre des finances publiques\n",
       " Par courrier, vous devez indiquer les éléments suivants : \n",
       "- Nom, prénom, adresse\n",
       "- Numéro fiscal\n",
       "- Signature manuscrite\n",
       "- Impôt concerné\n",
       "- Motif de la réclamation accompagné de vos justificatifs\n",
       " (À noter: Vous pouvez aussi contacter votre centre des impôts par téléphone ou vous déplacer au guichet.) Cas Il s'agit d'une autre déclaration de revenus: Si vous n'avez pas effectué la correction dans les délais, vous pouvez déposer une réclamation . V ous pouvez le faire jusqu'au 31 décembre 2023 pour la déclaration des revenus de 2021. Vous pouvez faire votre réclamation par l'un des moyens suivants : \n",
       "- En ligne depuis votre espace Particulier\n",
       "- Par courrier à votre centre des finances publiques\n",
       " Par courrier, vous devez indiquer les éléments suivants : \n",
       "- Nom, prénom, adresse\n",
       "- Numéro fiscal\n",
       "- Signature manuscrite\n",
       "- Impôt concerné\n",
       "- Motif de la réclamation accompagné de vos justificatifs\n",
       " (À noter: Vous pouvez aussi contacter votre centre des impôts par téléphone ou vous déplacer au guichet.) \n",
       "\n",
       "https://www.service-public.fr/particuliers/vosdroits/F32477 : \n",
       "Vous êtes en désaccord avec les services des impôts pour un problème de déclaration, de calcul ou de paiement de l'impôt ? Vous disposez de voies de recours amiables. Contactez au préalable votre centre des impôts. Si le désaccord persiste, vous pouvez vous adresser au conciliateur fiscal départemental et au médiateur des ministères économiques et financiers. Voici une liste de différents cas possibles:\n",
       "- Faire une réclamation auprès du centre des impôts\n",
       "- Contacter le conciliateur fiscal départemental\n",
       "- Saisir le médiateur des ministères économiques et financiers \n",
       "\n",
       "https://www.service-public.fr/particuliers/vosdroits/F13551 : Rescrit fiscal (Comment consulter les rescrits fiscaux déjà publiés ?)\n",
       "Avant d'interroger l'administration, vous pouvez vérifier si elle a déjà répondu à une question portant sur la situation concernée. Vous devez faire une recherche dans le Bofip (Bulletin officiel des finances publiques) - Impôts. Les rescrits y sont repris (de façon anonyme). Cela peut vous permettre de trouver la réponse à votre question, si elle a déjà été posée par un autre contribuable. (Attention: si vous trouvez votre réponse, vous pouvez appliquer la solution publiée, à condition de vous y conformer strictement.) \n",
       "\n",
       "Question : Comment contacter le service des impôts pour obtenir mon numéro fiscal ou réinitialiser mon mot de passe ?</pre></div><div style=\"width: 50%; padding:10px;\"> <div style=\"text-align:center;color:blue;\">answer</div> <pre class=\"qq\">D'après les éléments de contexte fournis, il n'est pas possible de déterminer comment contacter le service des impôts pour obtenir un numéro fiscal ou réinitialiser un mot de passe.</pre></div></div></div>"
      ],
      "text/plain": [
       "<IPython.core.display.HTML object>"
      ]
     },
     "metadata": {},
     "output_type": "display_data"
    },
    {
     "data": {
      "text/html": [
       "<br>"
      ],
      "text/plain": [
       "<IPython.core.display.HTML object>"
      ]
     },
     "metadata": {},
     "output_type": "display_data"
    },
    {
     "data": {
      "text/html": [
       "\n",
       "        <style>\n",
       "            .qq {\n",
       "                word-break: keep-all;\n",
       "                white-space: pre-wrap;\n",
       "            }\n",
       "        </style>\n",
       "\n",
       "        <div style=\"border:1px solid grey;padding:5px;border-radius:8px;\">\n",
       "            <div>ID: ID &nbsp Q: 50</div>\n",
       "            <h5 style=\"font-weight: bold;\">Quel est le rôle du médiateur de l'assurance dans la résolution des litiges entre les assurés et les compagnies d'assurance ?</h5>\n",
       "            <div style=\"display:flex; align-items:top;\"><div style=\"width: 50%; padding:10px;\"> <div style=\"text-align:center;color:blue;\">prompt</div> <pre class=\"qq\">Utilisez les éléments de contexte à votre disposition ci-dessous pour répondre à la question finale. Si vous ne connaissez pas la réponse, dites simplement que vous ne savez pas, n'essayez pas d'inventer une réponse.\n",
       "\n",
       "https://www.service-public.fr/particuliers/vosdroits/F3050 : Assurance habitation : recours en cas de litiges avec l'assureur (Saisir le médiateur des assurances)\n",
       "Le médiateur est une autorité indépendante et extérieure aux sociétés d'assurance. Il aide à trouver des solutions amiables aux litiges entre les consommateurs et les compagnies d'assurance membres de la Médiation de l'Assurance. \n",
       "\n",
       "https://www.service-public.fr/particuliers/vosdroits/F3050 : Assurance habitation : recours en cas de litiges avec l'assureur (Saisir le médiateur des assurances > Quel médiateur saisir ?)\n",
       "Le médiateur à saisir doit être inscrit dans le contrat d'assurance. Il s'agit en règle générale du médiateur de l'assurance. S'il s'agit d'un médiateur différent du Médiateur de l'assurance, vous pouvez demander ses coordonnées à votre assureur. \n",
       "\n",
       "https://www.service-public.fr/particuliers/vosdroits/F3050 : Assurance habitation : recours en cas de litiges avec l'assureur (Saisir le médiateur des assurances > Qui peut le saisir ?)\n",
       "Il peut être saisi par les personnes suivantes :\n",
       "- Assuré ou représentants de l'assuré\n",
       "- Associations de consommateurs\n",
       "- Professions juridiques\n",
       "- Pouvoirs publics\n",
       "- Société d'assurance, avec votre accord \n",
       "\n",
       "https://www.service-public.fr/particuliers/vosdroits/F3050 : \n",
       "Si vous avez un désaccord avec votre assureur, vous devez d'abord essayer de résoudre le différend avec les services de la compagnie (conseiller, agent général, service clientèle par exemple). Si aucune solution n'a été trouvée et que le litige persiste, vous pouvez saisir le médiateur de l'assurance ou la justice. Voici une liste de différents cas possibles:\n",
       "- Recours auprès de votre assureur\n",
       "- Saisir le médiateur des assurances\n",
       "- Agir en justice \n",
       "\n",
       "Question : Quel est le rôle du médiateur de l'assurance dans la résolution des litiges entre les assurés et les compagnies d'assurance ?</pre></div><div style=\"width: 50%; padding:10px;\"> <div style=\"text-align:center;color:blue;\">answer</div> <pre class=\"qq\">Le rôle du médiateur de l'assurance est d'aider à trouver des solutions amiables aux litiges entre les assurés et les compagnies d'assurance. Il s'agit d'une autorité indépendante et extérieure aux sociétés d'assurance, qui intervient lorsque les services de la compagnie n'ont pas pu résoudre le différend. Le médiateur peut être saisi par les assurés, les associations de consommateurs, les professions juridiques, les pouvoirs publics et même les sociétés d'assurance, avec l'accord de l'assuré.</pre></div></div></div>"
      ],
      "text/plain": [
       "<IPython.core.display.HTML object>"
      ]
     },
     "metadata": {},
     "output_type": "display_data"
    },
    {
     "data": {
      "text/html": [
       "<br>"
      ],
      "text/plain": [
       "<IPython.core.display.HTML object>"
      ]
     },
     "metadata": {},
     "output_type": "display_data"
    },
    {
     "data": {
      "text/html": [
       "\n",
       "        <style>\n",
       "            .qq {\n",
       "                word-break: keep-all;\n",
       "                white-space: pre-wrap;\n",
       "            }\n",
       "        </style>\n",
       "\n",
       "        <div style=\"border:1px solid grey;padding:5px;border-radius:8px;\">\n",
       "            <div>ID: ID &nbsp Q: 51</div>\n",
       "            <h5 style=\"font-weight: bold;\">Quelles sont les étapes nécessaires pour inscrire une association au registre des associations ?</h5>\n",
       "            <div style=\"display:flex; align-items:top;\"><div style=\"width: 50%; padding:10px;\"> <div style=\"text-align:center;color:blue;\">prompt</div> <pre class=\"qq\">Utilisez les éléments de contexte à votre disposition ci-dessous pour répondre à la question finale. Si vous ne connaissez pas la réponse, dites simplement que vous ne savez pas, n'essayez pas d'inventer une réponse.\n",
       "\n",
       "https://www.service-public.fr/particuliers/vosdroits/F1119 : Déclaration initiale d'une association (Alsace-Moselle > Préparer l'inscription au registre des associations)\n",
       "L'inscription se fait en constituant le dossier suivant :\n",
       "- Original et copie des statuts, mentionnant la date de leur établissement, et signés par au moins 7 membres\n",
       "- Copie du procès-verbal de l'assemblée constitutive\n",
       "Le dossier doit également comporter une déclaration sur papier libre, signée par les signataires des statuts, et indiquant les éléments suivants :\n",
       "- Nom (et éventuellement le sigle), l'objet et l'adresse du siège ou la domiciliation de l'association\n",
       "- Liste des membres de la direction avec mention de leurs nom, prénom, date et lieu de naissance, domicile, nationalité et fonction au sein de l'association\n",
       "- Nom du journal habilité pour les annonces judiciaires et légales dans lequel la direction de l'association souhaite que soit publiée la création de l'association \n",
       "\n",
       "https://www.service-public.fr/particuliers/vosdroits/F1926 : \n",
       "En tant que fondateur, vous venez de déclarer votre association en préfecture et vous vous demandez si vous devez l'inscrire au répertoire national des associations (RNA) et/ou l'immatriculer au répertoire Sirene ? Nous vous apportons les réponses aux questions que vous vous posez. Voici une liste de différents cas possibles:\n",
       "- Comment s'effectue l'inscription de l'association au répertoire national des associations (RNA) ? - Comment s'effectue l'immatriculation de l'association au répertoire Sirene ? - Qu'est-ce que le code APE (activité principale exercée) ? \n",
       "\n",
       "https://www.service-public.fr/particuliers/vosdroits/F1119 : \n",
       "Vous êtes en train de créer une association et, pour qu'elle obtienne la capacité juridique , vous allez procéder à sa déclaration initiale ? Nous vous expliquons comment faire et vous guidons étape par étape. La procédure diffère selon que le siège de l'association se situe en Alsace-Moselle (départements du Bas-Rhin, du Haut-Rhin et de la Moselle) ou ailleurs. Voici une liste de différents cas possibles:\n",
       "- Préparer la déclaration\n",
       "- Faire la demande\n",
       "- Recevoir et conserver le récépissé de la déclaration\n",
       "- S'inscrire au répertoire national des associations (RNA)\n",
       "- Procéder à la publication au Journal officiel\n",
       "- Préparer l'inscription au registre des associations\n",
       "- Procéder à la publication dans un journal d'annonces légales \n",
       "\n",
       "https://www.service-public.fr/particuliers/vosdroits/F1120 : \n",
       "Les statuts sont l'acte fondateur d'une association. Il s'agit d'un contrat signé par au moins 2 personnes (7 minimum en Alsace-Moselle). Ce contrat est établi librement . Néanmoins, les statuts peuvent être soumis à des obligations particulières pour certaines associations. Nous vous présentons les informations à connaître. Voici une liste de différents cas possibles:\n",
       "- Que sont les statuts d'une association ? - Quelle forme doit revêtir les statuts d'une association ? - Quels éléments faire figurer dans les statuts d'une association ? - La loi impose-t-elle des obligations particulières à certaines associations ? - Quelle forme doit avoir les statuts d'une association ? - Quels éléments doivent figurer dans les statuts d'une association ? \n",
       "\n",
       "Question : Quelles sont les étapes nécessaires pour inscrire une association au registre des associations ?</pre></div><div style=\"width: 50%; padding:10px;\"> <div style=\"text-align:center;color:blue;\">answer</div> <pre class=\"qq\">Les étapes nécessaires pour inscrire une association au registre des associations sont les suivantes :\n",
       "1. Préparer la déclaration initiale de l'association, en incluant les statuts signés par au moins 7 membres et le procès-verbal de l'assemblée constitutive.\n",
       "2. Rédiger une déclaration sur papier libre, signée par les signataires des statuts, comprenant le nom, l'objet et l'adresse du siège de l'association, ainsi que la liste des membres de la direction avec leurs informations personnelles.\n",
       "3. Indiquer le nom du journal habilité pour les annonces judiciaires et légales dans lequel la création de l'association sera publiée.\n",
       "4. Faire la demande d'inscription au registre des associations.\n",
       "5. Recevoir et conserver le récépissé de la déclaration.\n",
       "6. Procéder à la publication de la création de l'association dans le Journal officiel.\n",
       "7. Procéder à la publication dans un journal d'annonces légales.\n",
       "</pre></div></div></div>"
      ],
      "text/plain": [
       "<IPython.core.display.HTML object>"
      ]
     },
     "metadata": {},
     "output_type": "display_data"
    },
    {
     "data": {
      "text/html": [
       "<br>"
      ],
      "text/plain": [
       "<IPython.core.display.HTML object>"
      ]
     },
     "metadata": {},
     "output_type": "display_data"
    },
    {
     "data": {
      "text/html": [
       "\n",
       "        <style>\n",
       "            .qq {\n",
       "                word-break: keep-all;\n",
       "                white-space: pre-wrap;\n",
       "            }\n",
       "        </style>\n",
       "\n",
       "        <div style=\"border:1px solid grey;padding:5px;border-radius:8px;\">\n",
       "            <div>ID: ID &nbsp Q: 52</div>\n",
       "            <h5 style=\"font-weight: bold;\">Comment obtenir une autorisation de démolir pour un bâtiment situé dans un secteur protégé ?</h5>\n",
       "            <div style=\"display:flex; align-items:top;\"><div style=\"width: 50%; padding:10px;\"> <div style=\"text-align:center;color:blue;\">prompt</div> <pre class=\"qq\">Utilisez les éléments de contexte à votre disposition ci-dessous pour répondre à la question finale. Si vous ne connaissez pas la réponse, dites simplement que vous ne savez pas, n'essayez pas d'inventer une réponse.\n",
       "\n",
       "https://www.service-public.fr/particuliers/vosdroits/F17669 : Permis de démolir (Travaux concernés)\n",
       "Un permis de démolir est exigé préalablement à la démolition partielle ou totale d'une construction située dans un des secteurs suivants :\n",
       "- Commune où le conseil municipal a instauré ce permis\n",
       "\n",
       "- Périmètre d'un site patrimonial remarquable classé, aux abords des monuments historiques ou inscrits au titre des monuments historiques\n",
       "- Périmètre d'une opération de restauration immobilière\n",
       "- Site inscrit ou site classé ou en instance de classement\n",
       "Pour savoir si votre projet de démolition est soumis à permis, il faut se renseigner auprès du service urbanisme de votre mairie. \n",
       "\n",
       "https://www.service-public.fr/particuliers/vosdroits/F17669 : \n",
       "Le permis de démolir est une autorisation d'urbanisme. Vous devez l'obtenir avant la démolition partielle ou totale d'une construction située dans un secteur où ce permis est obligatoire. Lorsque la démolition est liée à un projet de construction ou d'aménagement, la demande peut être faite avec la demande de permis de construire ou d'aménager. Voici une liste de différents cas possibles:\n",
       "- Travaux concernés\n",
       "- Démarche\n",
       "- Délai d'instruction\n",
       "- Décisions de la mairie\n",
       "- Durée de validité\n",
       "- Affichage du permis \n",
       "\n",
       "https://www.service-public.fr/particuliers/vosdroits/F17669 : Permis de démolir (Démarche)\n",
       "Cas Formulaire: Quand la démolition dépend d'un projet de construction ou d'aménagement, le formulaire de demande de permis de construire ou d'aménager permet également de demander l'autorisation de démolir. Pour démolir une maison individuelle, vous utiliserez le formulaire suivant : Pour les autres types de démolition, vous utiliserez le formulaire suivant : Si plusieurs personnes font une demande d'autorisation commune pour le même projet, elles doivent remplir une fiche complémentaire. Vous pouvez déposer votre demande d'autorisation ou l'envoyer par courrier RAR . Vous pouvez également la transmettre sous forme dématérialisée selon les modalités définies par votre commune. Pour les connaître, vous devez vous rapprocher du service d'urbanisme de votre mairie. Si vous déposez votre demande par voie papier, elle doit être établie en 4 exemplaires. \n",
       "\n",
       "https://www.service-public.fr/particuliers/vosdroits/F1986 : \n",
       "Le permis de construire est une autorisation d'urbanisme que vous devez obtenir avant de construire un bâtiment ou de faire certains travaux sur une construction existante. Le permis de construire est délivré par la mairie. Nous vous guidons dans les étapes de votre demande de permis. Dans un premier temps, vous devez vous renseigner auprès de votre mairie pour savoir si votre projet se situe dans un secteur protégé. Les sites protégés sont les sites patrimoniaux remarquables, les abords des monuments historiques, les sites classés ou en instance de classement, les réserves naturelles, le cœur des parcs nationaux ou un futur parc national. Voici une liste de différents cas possibles:\n",
       "- Vérifier si les travaux sont concernés par un permis de construire\n",
       "- Vérifier qui peut déposer un permis de construire\n",
       "- Remplir le dossier de permis de construire\n",
       "- Transmettre le dossier à la mairie\n",
       "- Connaitre les délais d'instruction\n",
       "- Recevoir la décision\n",
       "- Afficher le permis de construire sur le terrain\n",
       "- Faire un recours en cas de refus ou de sursis à statuer\n",
       "- Connaitre le délai de validité du permis et éventuellement demander une prolongation\n",
       "- Déclarer l'ouverture du chantier\n",
       "- Déclarer l'achèvement des travaux\n",
       "- Payer la taxe d'aménagement et la redevance d'archéologie préventive \n",
       "\n",
       "Question : Comment obtenir une autorisation de démolir pour un bâtiment situé dans un secteur protégé ?</pre></div><div style=\"width: 50%; padding:10px;\"> <div style=\"text-align:center;color:blue;\">answer</div> <pre class=\"qq\">Pour obtenir une autorisation de démolir pour un bâtiment situé dans un secteur protégé, vous devez suivre les étapes suivantes :\n",
       "\n",
       "1. Vérifier si votre projet de démolition est soumis à un permis de démolir en vous renseignant auprès du service urbanisme de votre mairie. Si le secteur est protégé, il est probable que vous ayez besoin d'un permis de démolir.\n",
       "\n",
       "2. Si votre démolition est liée à un projet de construction ou d'aménagement, vous pouvez inclure la demande d'autorisation de démolir avec la demande de permis de construire ou d'aménager. Dans ce cas, vous devez remplir le formulaire de demande de permis de construire ou d'aménager approprié.\n",
       "\n",
       "3. Si vous ne faites que démolir un bâtiment sans projet de construction ou d'aménagement associé, vous devez remplir le formulaire spécifique pour une demande d'autorisation de démolir. Pour une maison individuelle, utilisez le formulaire approprié, sinon utilisez le formulaire pour les autres types de démolition.\n",
       "\n",
       "4. Vous pouvez déposer votre demande d'autorisation de démolir directement au service urbanisme de votre mairie en personne, ou l'envoyer par courrier recommandé avec accusé de réception. Certaines communes peuvent également accepter des demandes dématérialisées, veuillez vous renseigner auprès du service urbanisme de votre mairie pour connaître les modalités.\n",
       "\n",
       "5. Assurez-vous de fournir 4 exemplaires de votre demande si vous la déposez en version papier.\n",
       "\n",
       "6. Une fois que votre demande a été déposée, elle sera instruite par la mairie dans un délai spécifié. Vous recevrez ensuite la décision de la mairie concernant votre demande d'autorisation de démolir.\n",
       "\n",
       "Il est important de noter que si vous ne connaissez pas la réponse à la question finale, il est préférable de dire simplement que vous ne savez pas plutôt que d'inventer une réponse.</pre></div></div></div>"
      ],
      "text/plain": [
       "<IPython.core.display.HTML object>"
      ]
     },
     "metadata": {},
     "output_type": "display_data"
    },
    {
     "data": {
      "text/html": [
       "<br>"
      ],
      "text/plain": [
       "<IPython.core.display.HTML object>"
      ]
     },
     "metadata": {},
     "output_type": "display_data"
    },
    {
     "data": {
      "text/html": [
       "\n",
       "        <style>\n",
       "            .qq {\n",
       "                word-break: keep-all;\n",
       "                white-space: pre-wrap;\n",
       "            }\n",
       "        </style>\n",
       "\n",
       "        <div style=\"border:1px solid grey;padding:5px;border-radius:8px;\">\n",
       "            <div>ID: ID &nbsp Q: 53</div>\n",
       "            <h5 style=\"font-weight: bold;\">Quelles sont les précautions à prendre en termes de santé avant de voyager à l'étranger, notamment lorsqu'il y a des conditions sanitaires particulières comme le paludisme ou la dengue ?</h5>\n",
       "            <div style=\"display:flex; align-items:top;\"><div style=\"width: 50%; padding:10px;\"> <div style=\"text-align:center;color:blue;\">prompt</div> <pre class=\"qq\">Utilisez les éléments de contexte à votre disposition ci-dessous pour répondre à la question finale. Si vous ne connaissez pas la réponse, dites simplement que vous ne savez pas, n'essayez pas d'inventer une réponse.\n",
       "\n",
       "https://www.service-public.fr/particuliers/vosdroits/F1109 : Recommandations sanitaires aux voyageurs (Où trouver les informations relatives aux risques sanitaires d'un pays ?)\n",
       "Sur le site du ministère des affaires étrangères, vous trouverez une rubrique conseil par pays / destination. Une fois le pays sélectionné, plusieurs rubriques (dernière minutes, sécurité, entrée / séjour...) apparaissent dont une sur la santé. \n",
       "\n",
       "https://www.service-public.fr/particuliers/vosdroits/F1109 : \n",
       "Vous envisagez de partir à l'étranger pour du tourisme ou un voyage professionnel ? Vous devez vous renseigner avant votre départ sur les conditions sanitaires du ou des pays que vous comptez visiter. Si vous partez dans une zone où le risque de transmission du paludisme existe, vous devez consulter un médecin avant de partir pour qu'il vous prescrive un traitement. D'autres précautions sont utiles pour éviter les problèmes de santé (dengue, turista, chikungunya...). Voici une liste de différents cas possibles:\n",
       "- Quelles sont les précautions contre les insectes ? - Quelles précautions contre les serpents, scorpions, araignées et autres animaux venimeux ? - Quelle prévention contre la diarrhée du voyageur (turista) ? - Quelles précautions en matière d'hygiène corporelle ? - Quelle prévention des risques liés aux soins et à la chaleur ? - Où trouver les informations relatives aux risques sanitaires d'un pays ? - Comment recevoir des alertes sécuritaires et sanitaires par SMS et courriel ? \n",
       "\n",
       "https://www.service-public.fr/particuliers/vosdroits/F1109 : Recommandations sanitaires aux voyageurs (Quelle prévention des risques liés aux soins et à la chaleur ?)\n",
       "Vous devez refuser tout soin sans matériel neuf à usage unique (aiguilles, seringues...) ou sans stérilisation appropriée. Les transfusions sanguines, les soins dentaires, les soins avec injection ou incision représentent un risque majeur dans les pays aux structures sanitaires insuffisantes (hépatite B ou C...). Vous devez également :\n",
       "- Vous munir avant le départ, si besoin, de matériel à usage unique\n",
       "- Éviter les tatouages et les piercings\n",
       "- Éviter l'ensoleillement excessif et vous protéger du soleil (utiliser un écran solaire adapté à votre phototype, porter des lunettes de soleil, un chapeau...). Il est préférable de prendre avec vous une trousse à pharmacie (demander conseil à votre médecin ou pharmacien) et d'être titulaire d'un contrat d'assurance ou d'assistance. (À savoir: Le tourisme médical (soins dentaires, chirurgie plastique...) vous expose à des risques particuliers.) \n",
       "\n",
       "https://www.service-public.fr/particuliers/vosdroits/F1109 : Recommandations sanitaires aux voyageurs (Quelles sont les précautions contre les insectes ? > Mesures de protection contre les piqûres de moustiques)\n",
       "Pour les voyages vers des destinations à climat chaud ou tropica, il est recommandé de :\n",
       "- Porter des vêtements légers et couvrants (manches longues, pantalons longs et chaussures fermées)\n",
       "- Appliquer un produit répulsif sur les zones découvertes du corps\n",
       "- Dormir la nuit sous une moustiquaire imprégnée d'insecticide\n",
       "Il existe d'autres mesures complémentaires (exemples : climatisation, ventilation...) \n",
       "\n",
       "Question : Quelles sont les précautions à prendre en termes de santé avant de voyager à l'étranger, notamment lorsqu'il y a des conditions sanitaires particulières comme le paludisme ou la dengue ?</pre></div><div style=\"width: 50%; padding:10px;\"> <div style=\"text-align:center;color:blue;\">answer</div> <pre class=\"qq\">Avant de voyager à l'étranger, il est recommandé de prendre certaines précautions en termes de santé, notamment en cas de conditions sanitaires particulières telles que le paludisme ou la dengue. Il est conseillé de consulter un médecin avant le départ pour obtenir un traitement préventif contre le paludisme si vous voyagez dans une zone à risque. De plus, il est important de se renseigner sur les recommandations sanitaires spécifiques au pays que vous prévoyez de visiter. Cela peut être fait en consultant la rubrique santé sur le site du ministère des affaires étrangères, où vous trouverez des informations sur les risques sanitaires liés à votre destination. En ce qui concerne la dengue, il est recommandé de prendre des mesures de protection contre les piqûres de moustiques, telles que le port de vêtements couvrants, l'application d'un répulsif sur les zones découvertes du corps et le sommeil sous une moustiquaire imprégnée d'insecticide.</pre></div></div></div>"
      ],
      "text/plain": [
       "<IPython.core.display.HTML object>"
      ]
     },
     "metadata": {},
     "output_type": "display_data"
    },
    {
     "data": {
      "text/html": [
       "<br>"
      ],
      "text/plain": [
       "<IPython.core.display.HTML object>"
      ]
     },
     "metadata": {},
     "output_type": "display_data"
    },
    {
     "data": {
      "text/html": [
       "\n",
       "        <style>\n",
       "            .qq {\n",
       "                word-break: keep-all;\n",
       "                white-space: pre-wrap;\n",
       "            }\n",
       "        </style>\n",
       "\n",
       "        <div style=\"border:1px solid grey;padding:5px;border-radius:8px;\">\n",
       "            <div>ID: ID &nbsp Q: 54</div>\n",
       "            <h5 style=\"font-weight: bold;\">Quelles sont les formalités sanitaires à respecter pour voyager avec des animaux de compagnie, tels que des carnivores domestiques, des reptiles ou des invertébrés ?</h5>\n",
       "            <div style=\"display:flex; align-items:top;\"><div style=\"width: 50%; padding:10px;\"> <div style=\"text-align:center;color:blue;\">prompt</div> <pre class=\"qq\">Utilisez les éléments de contexte à votre disposition ci-dessous pour répondre à la question finale. Si vous ne connaissez pas la réponse, dites simplement que vous ne savez pas, n'essayez pas d'inventer une réponse.\n",
       "\n",
       "https://www.service-public.fr/particuliers/vosdroits/F21374 : \n",
       "Vous envisagez de voyager avec votre animal de compagnie ? Vous devez accomplir certaines formalités selon que vous voyagez dans un pays de l'Union européenne (UE) ou dans un autre pays. \n",
       "\n",
       "https://www.service-public.fr/particuliers/vosdroits/F799 : Douane : quels produits autorisés à sortir de France lors d'un voyage ? (Quels sont les produits soumis à déclaration ou à une autorisation spéciale de sortie ?)\n",
       "Produits soumis à déclaration en douane: Vous devez faire une déclaration en douane pour certains produits en quittant la France. Il s'agit des produits suivants :\n",
       "- Argent liquide à partir de 10 000 €\n",
       "- Biens culturels et œuvres d'art\n",
       "- Armes et munitions\n",
       "- Animaux et végétaux sauvages menacés et protégés au niveau européen ou international\n",
       "Autorisation de sortie d'un bien culturel: Pour le transport d'un bien culturel, vous devez effectuer la démarche suivante : Autorisation de sortie d'une arme ou de munitions: (À savoir: Si vous êtes chasseur ou tireur sportif professionnel, vous n'avez pas à demander d'autorisation spéciale. Vous devez présenter votre permis de chasse ou votre licence de tir.) Sinon, pour le transport d'une arme ou de munitions, vous devez effectuer la démarche suivante :\n",
       "Cas Voyage dans l'UE: Vous devez remplir le formulaire suivant :\n",
       "Cas Voyage hors UE: Vous devez remplir le formulaire suivant :\n",
       "Autorisation de sortie d'un animal de compagnie: Si vous voyagez avec votre animal de compagnie, vous devez accomplir des formalités sanitaires avant le départ. Les animaux suivants sont considérés par les Douanes comme animaux de compagnie :\n",
       "- Carnivores domestiques : chiens, chats, furets\n",
       "- Reptiles\n",
       "- Amphibiens\n",
       "- Invertébrés (sauf abeilles et crustacés)\n",
       "- Rongeurs et lapins domestiques\n",
       "- Poissons d'ornement\n",
       "- Toutes les espèces d'oiseaux, à l'exception des volailles\n",
       "Renseignez-vous sur les démarches à effectuer auprès des services douaniers. \n",
       "\n",
       "https://www.service-public.fr/particuliers/vosdroits/F32833 : Voyager hors Europe (Animal de compagnie)\n",
       "Pour voyager hors Europe avec votre animal de compagnie, veillez à ce que votre animal soit identifié et vacciné. Il est recommandé de se renseigner auprès de l'ambassade en France du pays de destination pour connaître les conditions d'entrée spécifiques à votre animal. \n",
       "\n",
       "https://www.service-public.fr/particuliers/vosdroits/F21374 : Voyager à l'étranger avec son animal de compagnie (Andorre, Islande, Liechtenstein, Monaco, Norvège, Saint-Marin, Suisse, État de la Cité du Vatican)\n",
       "Renseignez vous également sur les conditions de retour en France auprès de votre DDPP . Saisir la DDPP en ligne: Contacter la DDPP par téléphone, courriel ou se rendre sur place: Renseignez-vous également à l'avance sur les conditions de transport des animaux pratiquées par la compagnie aérienne ou ferroviaire avec laquelle vous envisagez de voyager. \n",
       "\n",
       "Question : Quelles sont les formalités sanitaires à respecter pour voyager avec des animaux de compagnie, tels que des carnivores domestiques, des reptiles ou des invertébrés ?</pre></div><div style=\"width: 50%; padding:10px;\"> <div style=\"text-align:center;color:blue;\">answer</div> <pre class=\"qq\">Les formalités sanitaires à respecter pour voyager avec des animaux de compagnie, tels que des carnivores domestiques, des reptiles ou des invertébrés, sont les suivantes :\n",
       "\n",
       "- Assurer l'identification de l'animal (puce électronique ou tatouage)\n",
       "- Veiller à ce que l'animal soit vacciné\n",
       "- Se renseigner auprès de l'ambassade du pays de destination pour connaître les conditions d'entrée spécifiques à l'animal</pre></div></div></div>"
      ],
      "text/plain": [
       "<IPython.core.display.HTML object>"
      ]
     },
     "metadata": {},
     "output_type": "display_data"
    },
    {
     "data": {
      "text/html": [
       "<br>"
      ],
      "text/plain": [
       "<IPython.core.display.HTML object>"
      ]
     },
     "metadata": {},
     "output_type": "display_data"
    },
    {
     "data": {
      "text/html": [
       "\n",
       "        <style>\n",
       "            .qq {\n",
       "                word-break: keep-all;\n",
       "                white-space: pre-wrap;\n",
       "            }\n",
       "        </style>\n",
       "\n",
       "        <div style=\"border:1px solid grey;padding:5px;border-radius:8px;\">\n",
       "            <div>ID: ID &nbsp Q: 55</div>\n",
       "            <h5 style=\"font-weight: bold;\">Quelles sont les démarches à effectuer pour faire une demande d'aide financière suite au décès d'un salarié et quels sont les documents à fournir ?</h5>\n",
       "            <div style=\"display:flex; align-items:top;\"><div style=\"width: 50%; padding:10px;\"> <div style=\"text-align:center;color:blue;\">prompt</div> <pre class=\"qq\">Utilisez les éléments de contexte à votre disposition ci-dessous pour répondre à la question finale. Si vous ne connaissez pas la réponse, dites simplement que vous ne savez pas, n'essayez pas d'inventer une réponse.\n",
       "\n",
       "https://www.service-public.fr/particuliers/vosdroits/F16507 : Un proche est décédé (Si la personne décédée travaillait, prévenir son employeur ou ses employeurs)\n",
       "Vous devez contacter l'employeur ou les employeurs de la personne décédée. Si vous n'avez pas les coordonnées nécessaires, vous pouvez consulter un bulletin de salaire récent de la personne décédée. \n",
       "\n",
       "https://www.service-public.fr/particuliers/vosdroits/F24249 : \n",
       "Le décès d'un salarié est un cas de force majeure qui entraine la rupture du contrat de travail. Quels sont les effets du décès sur le contrat de travail? Quelles sont les obligations de l'employeur lors du décès d'un salarié? L'employeur doit-il verser des indemnités aux héritiers du salarié? Nous faisons un point sur la réglementation. Voici une liste de différents cas possibles:\n",
       "- Quelle est la conséquence du décès d'un salarié sur son contrat de travail ? - Quelles sont les obligations de l'employeur en cas de décès d'un salarié ? - Quelles sommes sont versées par l'employeur en cas de décès d'un salarié ? \n",
       "\n",
       "https://www.service-public.fr/particuliers/vosdroits/F16507 : Un proche est décédé (Gérer les papiers et les données personnelles de la personne décédée)\n",
       "Vous devez vous occuper des papiers administratifs de la personne décédée. Il est recommandé de respecter les délais de conservation des papiers. Si la personne décédée avait des comptes sur les réseaux sociaux, les proches peuvent demander soit la suppression du compte (les formulaires de suppression sont disponibles sur la plupart des réseaux), soit (sur certains réseaux seulement) demander la transformation en compte commémoratif. Des documents prouvant que vous êtes un proche de la personne décédée vous seront demandés. La Commission nationale de l'informatique et des libertés (Cnil) présente les informations à connaître. \n",
       "\n",
       "https://www.service-public.fr/particuliers/vosdroits/F1544 : Capital décès versé pour le décès d'un fonctionnaire (Comment faire la demande ?)\n",
       "Les ayants droit doivent formuler une demande de capital décès auprès de l’administration employeur du fonctionnaire décédé. Ils doivent fournir les documents prouvant qu'ils peuvent percevoir le capital décès. Il est recommandé aux ayants droit de se rapprocher de l’administration du fonctionnaire décédé pour connaître la liste des documents à fournir. \n",
       "\n",
       "Question : Quelles sont les démarches à effectuer pour faire une demande d'aide financière suite au décès d'un salarié et quels sont les documents à fournir ?</pre></div><div style=\"width: 50%; padding:10px;\"> <div style=\"text-align:center;color:blue;\">answer</div> <pre class=\"qq\">Les démarches à effectuer pour faire une demande d'aide financière suite au décès d'un salarié peuvent varier en fonction de la situation spécifique. Il est recommandé de contacter l'employeur ou les employeurs de la personne décédée pour obtenir des informations précises sur les procédures à suivre. Les documents à fournir peuvent également dépendre des politiques de l'employeur et des réglementations en vigueur. Il est conseillé de se renseigner auprès de l'employeur pour connaître la liste des documents nécessaires.</pre></div></div></div>"
      ],
      "text/plain": [
       "<IPython.core.display.HTML object>"
      ]
     },
     "metadata": {},
     "output_type": "display_data"
    },
    {
     "data": {
      "text/html": [
       "<br>"
      ],
      "text/plain": [
       "<IPython.core.display.HTML object>"
      ]
     },
     "metadata": {},
     "output_type": "display_data"
    },
    {
     "data": {
      "text/html": [
       "\n",
       "        <style>\n",
       "            .qq {\n",
       "                word-break: keep-all;\n",
       "                white-space: pre-wrap;\n",
       "            }\n",
       "        </style>\n",
       "\n",
       "        <div style=\"border:1px solid grey;padding:5px;border-radius:8px;\">\n",
       "            <div>ID: ID &nbsp Q: 56</div>\n",
       "            <h5 style=\"font-weight: bold;\">Comment faire une demande de réduction sur ma facture Orange en tant que bénéficiaire du chèque énergie ?</h5>\n",
       "            <div style=\"display:flex; align-items:top;\"><div style=\"width: 50%; padding:10px;\"> <div style=\"text-align:center;color:blue;\">prompt</div> <pre class=\"qq\">Utilisez les éléments de contexte à votre disposition ci-dessous pour répondre à la question finale. Si vous ne connaissez pas la réponse, dites simplement que vous ne savez pas, n'essayez pas d'inventer une réponse.\n",
       "\n",
       "https://www.service-public.fr/particuliers/vosdroits/F33667 : Chèque énergie (gaz, chaleur, électricité) (Que faire en cas de perte ou vol de votre chèque énergie ?)\n",
       "Vous devez déclarer la perte de votre chèque énergie directement en ligne ou par téléphone : Vous devrez préciser les éléments suivants :\n",
       "- Votre nom\n",
       "- Votre prénom\n",
       "- Votre numéro fiscal (inscrit sur votre avis d'imposition)\n",
       "- Votre adresse\n",
       "- Et, si possible, le numéro du chèque (indiqué sur le talon de la lettre-chèque) \n",
       "\n",
       "https://www.service-public.fr/particuliers/vosdroits/F33667 : Chèque énergie (gaz, chaleur, électricité) (Comment payer ses dépenses avec le chèque énergie ?)\n",
       "Tout dépend de la nature de la dépense. Cas Factures d'énergie et achat de combustible: Cas Facture d'électricité ou de gaz naturel: Pour payer une facture d'électricité ou de gaz naturel, vous n'avez pas à attendre l'arrivée de votre prochaine facture. Vous avez 2 possibilités : \n",
       "- Vous payez en ligne sur le site du chèque énergie en saisissant votre numéro de chèque, le code à gratter, vos références client\n",
       "- Vous envoyez votre chèque énergie par courrier simple à votre fournisseur. Vous devez joindre une copie d'une facture récente ou d'un échéancier faisant apparaître vos références client. Vous pouvez également demander que votre chèque énergie soit directement déduit de votre facture par votre fournisseur. Cette demande peut être faite de 2 manières : \n",
       "- Soit en ligne sur le site du chèque énergie\n",
       "- Soit en cochant la case rouge sur votre chèque énergie avant de renvoyer votre chèque par courrier simple à votre fournisseur\n",
       " Vous n'aurez plus de démarche à réaliser les années suivantes pour utiliser votre chèque énergie sur ce même contrat si vous avez toujours droit au chèque. (À savoir: si le montant de votre chèque est supérieur à votre prochaine facture, le restant du montant du chèque sera automatiquement déduit des factures suivantes.) Cas Achat de combustible (fioul, bois, GPL...): Pour payer votre achat, vous devez remettre votre chèque énergie directement à votre fournisseur. (À savoir: si le montant de votre chèque est supérieur à votre facture, il n'y a pas de rendu de monnaie.) Cas Charges d'énergie dans votre logement-foyer ou établissement: Pour payer vos charges d'énergie incluses dans votre redevance, vous devez remettre votre chèque énergie directement à votre gestionnaire de logement-foyer ou établissement. (À savoir: si le montant de votre chèque est supérieur à votre prochain avis d'échéance, le restant du montant du chèque sera automatiquement déduit des avis suivants.) Cas Travaux ou dépenses énergétiques pour votre logement: Vous pouvez payer directement votre facture de travaux avec votre chèque énergie à l'entreprise RGE que vous avez choisi. \n",
       "\n",
       "https://www.service-public.fr/particuliers/vosdroits/F1337 : Téléphone fixe : réduction sociale téléphonique (De quoi s'agit-il ?)\n",
       "Si votre opérateur est Orange, vous pouvez obtenir sous certaines conditions une réduction sur votre abonnement mensuel téléphonique pour votre résidence principale. La réduction ne concerne pas les offres couplées de type téléphone/internet/télévision. (À savoir: en bénéficiant de la réduction sociale téléphonique, vous bénéficiez également du chèque énergie pour l'électricité et le gaz.) \n",
       "\n",
       "https://www.service-public.fr/particuliers/vosdroits/F1337 : Téléphone fixe : réduction sociale téléphonique (Comment en bénéficier ?)\n",
       "Vous devez appeler directement Orange : Orange vous explique alors la démarche à faire. Vous devrez notamment fournir à Orange un justificatif de votre situation. Vous pouvez demander ce justificatif à l'organisme social dont vous dépendez ( Caf, MSA ou Pôle emploi). \n",
       "\n",
       "Question : Comment faire une demande de réduction sur ma facture Orange en tant que bénéficiaire du chèque énergie ?</pre></div><div style=\"width: 50%; padding:10px;\"> <div style=\"text-align:center;color:blue;\">answer</div> <pre class=\"qq\">D'après les informations fournies, il n'est pas précisé comment faire une demande de réduction sur la facture Orange en tant que bénéficiaire du chèque énergie.</pre></div></div></div>"
      ],
      "text/plain": [
       "<IPython.core.display.HTML object>"
      ]
     },
     "metadata": {},
     "output_type": "display_data"
    },
    {
     "data": {
      "text/html": [
       "<br>"
      ],
      "text/plain": [
       "<IPython.core.display.HTML object>"
      ]
     },
     "metadata": {},
     "output_type": "display_data"
    },
    {
     "data": {
      "text/html": [
       "\n",
       "        <style>\n",
       "            .qq {\n",
       "                word-break: keep-all;\n",
       "                white-space: pre-wrap;\n",
       "            }\n",
       "        </style>\n",
       "\n",
       "        <div style=\"border:1px solid grey;padding:5px;border-radius:8px;\">\n",
       "            <div>ID: ID &nbsp Q: 57</div>\n",
       "            <h5 style=\"font-weight: bold;\">Quels documents faut-il fournir pour faire une demande de carte de séjour en France en tant qu'étranger ?</h5>\n",
       "            <div style=\"display:flex; align-items:top;\"><div style=\"width: 50%; padding:10px;\"> <div style=\"text-align:center;color:blue;\">prompt</div> <pre class=\"qq\">Utilisez les éléments de contexte à votre disposition ci-dessous pour répondre à la question finale. Si vous ne connaissez pas la réponse, dites simplement que vous ne savez pas, n'essayez pas d'inventer une réponse.\n",
       "\n",
       "https://www.service-public.fr/particuliers/vosdroits/F17319 : \n",
       "Si vous êtes étranger non européen , que vous êtes diplômé d'un établissement français (master ou équivalent) et souhaitez travailler en France après vos études supérieures, vous pouvez demander une carte de séjour recherche d'emploi ou création d'entreprise . Vous devez justifier d'un certain niveau d'études. Vous pouvez également demander cette carte si vous avez séjourné en France avec une carte de séjour pluriannuelle chercheur . Voici une liste de différents cas possibles:\n",
       "- À quoi sert la carte de séjour ? - Qui est concerné ? - Comment demander la carte ? - Quelle est sa durée de validité ? - Quelle carte demander ensuite ? \n",
       "\n",
       "https://www.service-public.fr/particuliers/vosdroits/F15898 : \n",
       "Vous êtes un ressortissant étranger (non européen). Vous avez trouvé un emploi en France. Vous souhaitez obtenir un titre de séjour salarié ou travailleur temporaire . Quelles sont les conditions pour obtenir ce titre de séjour ? Quelles sont les pièces à fournir pour demander ce titre ? Nous faisons un point sur la réglementation. Si vous êtes en CDI, il vous est délivré un titre de séjour salarié. Si vous êtes en CDD, il vous est délivré un de séjour travailleur temporaire. Voici une liste de différents cas possibles:\n",
       "- Vérifier si vous êtes concerné\n",
       "- Demander la carte\n",
       "- Préparer les documents à fournir\n",
       "- Connaître le coût\n",
       "- Attendre le traitement du dossier\n",
       "- Connaître la durée de validité\n",
       "- Renouveler la carte \n",
       "\n",
       "https://www.service-public.fr/particuliers/vosdroits/F22116 : \n",
       "Si vous êtes citoyen européen et venez suivre des études en France, vous n'avez pas besoin de carte de séjour pour vivre en France. Toutefois, vous pouvez en demander une. Voici une liste de différents cas possibles:\n",
       "- Qui est concerné ? - Comment demander la carte de séjour ? - Quels sont les documents à fournir ? - Quel est le coût ? - Comment récupérer la carte de séjour ? - Quelle est la durée de validité de la carte de séjour ? - Comment renouveler la carte de séjour ? \n",
       "\n",
       "https://www.service-public.fr/particuliers/vosdroits/F2209 : Carte de séjour \"vie privée et familiale\" d'un étranger en France (1ère demande > Motifs humanitaires ou exceptionnels > 1ère étape : Vérifier si vous remplissez les conditions)\n",
       "Vous êtes concerné si vous justifiez de motifs humanitaires ou exceptionnels :\n",
       "- Durée de présence en France\n",
       "- Exercice antérieur d'un emploi\n",
       "- Qualification professionnelle\n",
       "- Documents relatifs à des services rendus dans le domaine culturel, sportif, associatif, civique ou économique \n",
       "\n",
       "Question : Quels documents faut-il fournir pour faire une demande de carte de séjour en France en tant qu'étranger ?</pre></div><div style=\"width: 50%; padding:10px;\"> <div style=\"text-align:center;color:blue;\">answer</div> <pre class=\"qq\">Les documents à fournir pour faire une demande de carte de séjour en France en tant qu'étranger dépendent du motif de la demande. Les éléments de contexte donnés ne fournissent pas suffisamment d'informations pour répondre à la question finale.</pre></div></div></div>"
      ],
      "text/plain": [
       "<IPython.core.display.HTML object>"
      ]
     },
     "metadata": {},
     "output_type": "display_data"
    },
    {
     "data": {
      "text/html": [
       "<br>"
      ],
      "text/plain": [
       "<IPython.core.display.HTML object>"
      ]
     },
     "metadata": {},
     "output_type": "display_data"
    },
    {
     "data": {
      "text/html": [
       "\n",
       "        <style>\n",
       "            .qq {\n",
       "                word-break: keep-all;\n",
       "                white-space: pre-wrap;\n",
       "            }\n",
       "        </style>\n",
       "\n",
       "        <div style=\"border:1px solid grey;padding:5px;border-radius:8px;\">\n",
       "            <div>ID: ID &nbsp Q: 58</div>\n",
       "            <h5 style=\"font-weight: bold;\">Comment adresser une mise en demeure aux copropriétaires défaillants pour le paiement des charges ?</h5>\n",
       "            <div style=\"display:flex; align-items:top;\"><div style=\"width: 50%; padding:10px;\"> <div style=\"text-align:center;color:blue;\">prompt</div> <pre class=\"qq\">Utilisez les éléments de contexte à votre disposition ci-dessous pour répondre à la question finale. Si vous ne connaissez pas la réponse, dites simplement que vous ne savez pas, n'essayez pas d'inventer une réponse.\n",
       "\n",
       "https://www.service-public.fr/particuliers/vosdroits/F2603 : Recouvrement des charges de copropriété impayées (Mise en demeure faite par le syndic)\n",
       "En cas d'impayés de charges, le syndic de copropriété doit mettre en demeure le copropriétaire défaillant par lettre recommandée avec accusé de réception ou par acte du commissaire de justice (anciennement huissier de justice et commissaire-priseur judiciaire). Le copropriétaire a ensuite 30 jours pour payer ses charges. Des intérêts de retard sont dus au taux légal à partir de la mise en demeure. En pratique, un accord amiable peut être trouvé si le copropriétaire défaillant souhaite régulariser sa situation et demande un étalement de sa dette. (À savoir: si le copropriétaire ne règle pas un seul appel de charges dans les 30 jours suivant la la mise en demeure, il est possible d'exiger à la fois les charges antérieures et les appels provisionnels à venir.) Les frais de mise en demeure (y compris les frais du commissaire de justice ) engagés par le syndic sont à la charge du copropriétaire défaillant. \n",
       "\n",
       "https://www.service-public.fr/particuliers/vosdroits/F2603 : Recouvrement des charges de copropriété impayées (Relance du syndic)\n",
       "Si l'impayé persiste, le syndic peut adresser au copropriétaire défaillant une lettre de rappel. Dans cette lettre, il doit lui être rappelé que la date de paiement des charges est dépassée et qu'à défaut de paiement, une procédure de recouvrement devant le tribunal pourra être lancée à son encontre. Les frais de relance engagés par le syndic sont à la charge du copropriétaire défaillant. \n",
       "\n",
       "https://www.service-public.fr/particuliers/vosdroits/F31418 : Emprunt bancaire collectif d'une copropriété (Comment est remboursé le prêt ?)\n",
       "Seuls les copropriétaires qui ont souscrit le prêt doivent le rembourser dans la limite de leur quote-part de dépenses. En cas d'impayé de remboursement du prêt, le syndic doit adresser une mise en demeure au copropriétaire défaillant. En cas d'échec de cette mise en demeure, et à la fin d'un délai de 30 jours, le syndic peut demander à la caution de rembourser les impayés du copropriétaire. La caution peut ensuite s'adresser au copropriétaire défaillant pour obtenir le remboursement du paiement. \n",
       "\n",
       "https://www.service-public.fr/particuliers/vosdroits/F31272 : \n",
       "Vous êtes propriétaire d'un logement mis en location avec un bail d'habitation ? Le locataire ne vous paie pas le loyer qu'il vous doit ? Vous voulez savoir quelles sont les démarches à faire, et dans quel ordre les engager ? Nous vous expliquons. Voici une liste de différents cas possibles:\n",
       "- Obtenir le paiement de la caution ou de l'assurance\n",
       "- Signaler l'impayé à la Caf (ou la MSA)\n",
       "- Faire résilier le bail et demander l'expulsion\n",
       "- Charger un commissaire de justice de l'expulsion \n",
       "\n",
       "Question : Comment adresser une mise en demeure aux copropriétaires défaillants pour le paiement des charges ?</pre></div><div style=\"width: 50%; padding:10px;\"> <div style=\"text-align:center;color:blue;\">answer</div> <pre class=\"qq\">Pour adresser une mise en demeure aux copropriétaires défaillants pour le paiement des charges, le syndic de copropriété doit envoyer une lettre recommandée avec accusé de réception ou faire appel à un commissaire de justice pour délivrer un acte. La mise en demeure doit rappeler au copropriétaire défaillant la date de paiement dépassée et l'informer que, faute de paiement, une procédure de recouvrement devant le tribunal pourra être engagée à son encontre. Les frais de mise en demeure sont à la charge du copropriétaire défaillant.</pre></div></div></div>"
      ],
      "text/plain": [
       "<IPython.core.display.HTML object>"
      ]
     },
     "metadata": {},
     "output_type": "display_data"
    },
    {
     "data": {
      "text/html": [
       "<br>"
      ],
      "text/plain": [
       "<IPython.core.display.HTML object>"
      ]
     },
     "metadata": {},
     "output_type": "display_data"
    },
    {
     "data": {
      "text/html": [
       "\n",
       "        <style>\n",
       "            .qq {\n",
       "                word-break: keep-all;\n",
       "                white-space: pre-wrap;\n",
       "            }\n",
       "        </style>\n",
       "\n",
       "        <div style=\"border:1px solid grey;padding:5px;border-radius:8px;\">\n",
       "            <div>ID: ID &nbsp Q: 59</div>\n",
       "            <h5 style=\"font-weight: bold;\">Quels sont les formulaires à remplir pour faire une demande de prestations handicap en France ?</h5>\n",
       "            <div style=\"display:flex; align-items:top;\"><div style=\"width: 50%; padding:10px;\"> <div style=\"text-align:center;color:blue;\">prompt</div> <pre class=\"qq\">Utilisez les éléments de contexte à votre disposition ci-dessous pour répondre à la question finale. Si vous ne connaissez pas la réponse, dites simplement que vous ne savez pas, n'essayez pas d'inventer une réponse.\n",
       "\n",
       "https://www.service-public.fr/particuliers/vosdroits/F31029 : \n",
       "Plusieurs dispositifs sont mis en place pour aider les adultes en situation de handicap dans leur vie quotidienne (logement, transport, travail ...). Pour en bénéficier, le handicap doit avoir été diagnostiqué par un professionnel de santé (généraliste, psychiatre...). Une fois ce diagnostic établi, il faut prendre contact avec une maison départementale des personnes handicapées (MDPH). Elle est chargée d'accompagner la personne handicapée dans ses démarches. Voici une liste de différents cas possibles:\n",
       "- Aides financières\n",
       "- Logement\n",
       "- Soins\n",
       "- Travail et formation professionnelle\n",
       "- Transport\n",
       "- Retraite \n",
       "\n",
       "https://www.service-public.fr/particuliers/vosdroits/F12136 : \n",
       "Oui. Si vous êtes résident européen ou résident en Islande, au Liechtenstein ou en Suisse, vous êtes autorisé à venir en France pour chercher du travail comme demandeur d'emploi. Vous devez accomplir des démarches auprès de Pôle emploi et pouvez toucher des allocations chômage, sous conditions. Votre situation diffère selon le pays d'où vous venez, et selon que vous percevez ou non des prestations de celui-ci. Voici une liste de différents cas possibles:\n",
       "- Quel est votre droit au séjour pour chercher un emploi en France ? - Quel délai avez-vous pour rechercher un emploi en France ? - Comment vous inscrire auprès de Pôle emploi ? - Pouvez-vous transférer vos allocations chômage en France ? \n",
       "\n",
       "https://www.service-public.fr/particuliers/vosdroits/F24610 : \n",
       "Divers dispositifs existent pour mon enfant et pour m'aider dans mes démarches. Un diagnostic doit d'abord être établi par un professionnel de santé (généraliste, pédopsychiatre...) pour faire reconnaître le handicap de mon enfant. Voici une liste de différents cas possibles:\n",
       "- Reconnaissance du handicap\n",
       "- Aides financières\n",
       "- Aides aux transports\n",
       "- Modes de garde\n",
       "- Scolarité\n",
       "- Mesures de protection\n",
       "- Conséquences sur mon droit à la retraite en tant que parent \n",
       "\n",
       "https://www.service-public.fr/particuliers/vosdroits/F14202 : Prestation de compensation du handicap (PCH) (Quelle démarche pour toucher la PCH ?)\n",
       "Cas En ligne: Vous pouvez saisir votre demande en ligne : Vous devez joindre (scanner) les pièces justificatives mentionnées sur le service en ligne (notamment un certificat médical). Cas Par courrier: Vous pouvez remplir un formulaire : Vous devez joindre les pièces justificatives mentionnées sur le formulaire (notamment un certificat médical). Le formulaire et les pièces justificatives doivent être envoyés à la MDPH de votre lieu de résidence. Cas Île-de-France: Cas Paris (75): Vous devez remplir un formulaire : Vous devez joindre les pièces justificatives mentionnées sur le formulaire (notamment un certificat médical). Le formulaire et les pièces justificatives doivent être envoyés à la MDPH de votre lieu de résidence. Cas Seine-et-Marne (77): Vous pouvez saisir votre demande en ligne ou remplir un formulaire et l'envoyer par courrier. Cas En ligne: Vous pouvez saisir votre demande en ligne : Vous devez joindre (scanner) les pièces justificatives mentionnées sur le service en ligne (notamment un certificat médical). Cas Par courrier: Vous pouvez remplir un formulaire : Vous devez joindre les pièces justificatives mentionnées sur le formulaire (notamment un certificat médical). Le formulaire et les pièces justificatives doivent être envoyés à la MDPH de votre lieu de résidence. Cas Yvelines (78): Vous devez remplir un formulaire : Vous devez joindre les pièces justificatives mentionnées sur le formulaire (notamment un certificat médical). Le formulaire et les pièces justificatives doivent être envoyés à la MDPH de votre lieu de résidence. Cas Essonne (91): Vous devez remplir un formulaire : Vous devez joindre les pièces justificatives mentionnées sur le formulaire (notamment un certificat médical). Le formulaire et les pièces justificatives doivent être envoyés à la MDPH de votre lieu de résidence. Cas Hauts-de-Seine (92): Vous pouvez saisir votre demande en ligne ou remplir un formulaire et l'envoyer par courrier. Cas En ligne: Vous pouvez saisir votre demande en ligne : Vous devez joindre (scanner) les pièces justificatives mentionnées sur le service en ligne (notamment un certificat médical). Cas Par courrier: Vous pouvez remplir un formulaire : Vous devez joindre les pièces justificatives mentionnées sur le formulaire (notamment un certificat médical). Le formulaire et les pièces justificatives doivent être envoyés à la MDPH de votre lieu de résidence. Cas Seine-Saint-Denis (93): Vous pouvez saisir votre demande en ligne ou remplir un formulaire et l'envoyer par courrier. Cas En ligne: Vous pouvez saisir votre demande en ligne : Vous devez joindre (scanner) les pièces justificatives mentionnées sur le service en ligne (notamment un certificat médical). Cas Par courrier: Vous pouvez remplir un formulaire : Vous devez joindre les pièces justificatives mentionnées sur le formulaire (notamment un certificat médical). Le formulaire et les pièces justificatives doivent être envoyés à la MDPH de votre lieu de résidence. Cas Val-de-Marne (94): Vous pouvez saisir votre demande en ligne ou remplir un formulaire et l'envoyer par courrier. Cas En ligne: Vous pouvez saisir votre demande en ligne : Vous devez joindre (scanner) les pièces justificatives mentionnées sur le service en ligne (notamment un certificat médical). \n",
       "\n",
       "Question : Quels sont les formulaires à remplir pour faire une demande de prestations handicap en France ?</pre></div><div style=\"width: 50%; padding:10px;\"> <div style=\"text-align:center;color:blue;\">answer</div> <pre class=\"qq\">Les formulaires à remplir pour faire une demande de prestations handicap en France sont :\n",
       "- Le formulaire de demande de prestations de compensation du handicap (PCH), qui peut être rempli en ligne ou par courrier, selon la région où vous résidez.\n",
       "- Le formulaire de demande à la maison départementale des personnes handicapées (MDPH), qui doit être rempli et envoyé par courrier à la MDPH de votre lieu de résidence.</pre></div></div></div>"
      ],
      "text/plain": [
       "<IPython.core.display.HTML object>"
      ]
     },
     "metadata": {},
     "output_type": "display_data"
    },
    {
     "data": {
      "text/html": [
       "<br>"
      ],
      "text/plain": [
       "<IPython.core.display.HTML object>"
      ]
     },
     "metadata": {},
     "output_type": "display_data"
    },
    {
     "data": {
      "text/html": [
       "\n",
       "        <style>\n",
       "            .qq {\n",
       "                word-break: keep-all;\n",
       "                white-space: pre-wrap;\n",
       "            }\n",
       "        </style>\n",
       "\n",
       "        <div style=\"border:1px solid grey;padding:5px;border-radius:8px;\">\n",
       "            <div>ID: ID &nbsp Q: 60</div>\n",
       "            <h5 style=\"font-weight: bold;\">Quel est le délai de délivrance habituel pour obtenir un acte de décès en France et qui contacter en cas de demande urgente ?</h5>\n",
       "            <div style=\"display:flex; align-items:top;\"><div style=\"width: 50%; padding:10px;\"> <div style=\"text-align:center;color:blue;\">prompt</div> <pre class=\"qq\">Utilisez les éléments de contexte à votre disposition ci-dessous pour répondre à la question finale. Si vous ne connaissez pas la réponse, dites simplement que vous ne savez pas, n'essayez pas d'inventer une réponse.\n",
       "\n",
       "https://www.service-public.fr/particuliers/vosdroits/F1444 : Acte de décès : demande de copie intégrale (À l'étranger > Comment demander un acte de décès ?)\n",
       "Vous pouvez faire la demande sur internet ou par courrier. Cas Sur internet: Un téléservice est disponible : Vous devez avoir un compte Service-Public.fr ou en créer un ou vous connecter avec FranceConnect . Le délai de délivrance d'un acte de décès est d'environ 20 jours . Pour l'obtenir, vous devez vous connecter à votre compte Service-Public.fr. Vous pourrez télécharger le document PDF sur votre espace personnel. Vous pourrez aussi demander à le recevoir par courrier. L'acte comporte la signature électronique d'un officier d'état civil. Cas Par courrier: Si vous ne souhaitez pas faire la demande sur internet, vous pouvez faire votre demande par courrier , sur papier libre, auprès du Service central d'état civil de Nantes (ministère des affaires étrangères). Vous devez précisez, dans votre demande, les nom et prénoms du défunt et la date du décès. Le délai de délivrance d'un acte de décès est d'environ 30 jours . (Attention: pour obtenir une copie d'acte de décès d'une personne étrangère décédée à l'étranger, vous devez vous adresser à l'autorité qui a dressé l'acte dans le pays concerné.) \n",
       "\n",
       "https://www.service-public.fr/particuliers/vosdroits/F1444 : Acte de décès : demande de copie intégrale (En France > Qui peut demander un acte de décès ?)\n",
       "Toute personne peut demander un acte de décès, sans justification particulière. \n",
       "\n",
       "https://www.service-public.fr/particuliers/vosdroits/F1444 : Acte de décès : demande de copie intégrale (En France > Comment demander un acte de décès ?)\n",
       "Vous pouvez faire votre demande sur internet ou sur place. Cas Sur internet: Un téléservice est disponible : Vous devez avoir ou créer un compte Service-Public.fr ou vous connecter via FranceConnect . Vous recevrez l'acte de décès chez vous par courrier en quelques jours. Le délai peut varier en fonction du traitement de votre demande par les services de la mairie et du délai d'acheminement du courrier. Cas Sur place: Si vous ne faites pas la demande sur internet, vous pouvez la faire en vous rendant sur place soit auprès de la mairie du lieu de décès, soit auprès de la mairie du dernier domicile du défunt. Vous pouvez faire la demande au guichet en indiquant les nom et prénoms du défunt et la date du décès. Aucun document n'est exigé. L'acte de décès vous est remis immédiatement. \n",
       "\n",
       "https://www.service-public.fr/particuliers/vosdroits/F1444 : Acte de décès : demande de copie intégrale (En France > La demande d'acte de décès est-elle gratuite ?)\n",
       "Oui, la demande d'un acte de décès est gratuite. \n",
       "\n",
       "Question : Quel est le délai de délivrance habituel pour obtenir un acte de décès en France et qui contacter en cas de demande urgente ?</pre></div><div style=\"width: 50%; padding:10px;\"> <div style=\"text-align:center;color:blue;\">answer</div> <pre class=\"qq\">Le délai de délivrance habituel pour obtenir un acte de décès en France est de quelques jours si la demande est faite sur internet et remis immédiatement si la demande est faite sur place. En cas de demande urgente, il est recommandé de contacter la mairie du lieu de décès ou la mairie du dernier domicile du défunt.</pre></div></div></div>"
      ],
      "text/plain": [
       "<IPython.core.display.HTML object>"
      ]
     },
     "metadata": {},
     "output_type": "display_data"
    },
    {
     "data": {
      "text/html": [
       "<br>"
      ],
      "text/plain": [
       "<IPython.core.display.HTML object>"
      ]
     },
     "metadata": {},
     "output_type": "display_data"
    },
    {
     "data": {
      "text/html": [
       "\n",
       "        <style>\n",
       "            .qq {\n",
       "                word-break: keep-all;\n",
       "                white-space: pre-wrap;\n",
       "            }\n",
       "        </style>\n",
       "\n",
       "        <div style=\"border:1px solid grey;padding:5px;border-radius:8px;\">\n",
       "            <div>ID: ID &nbsp Q: 61</div>\n",
       "            <h5 style=\"font-weight: bold;\">Comment fonctionne la gestion financière des associations agréées et quels sont les documents à fournir aux autorités administratives ?</h5>\n",
       "            <div style=\"display:flex; align-items:top;\"><div style=\"width: 50%; padding:10px;\"> <div style=\"text-align:center;color:blue;\">prompt</div> <pre class=\"qq\">Utilisez les éléments de contexte à votre disposition ci-dessous pour répondre à la question finale. Si vous ne connaissez pas la réponse, dites simplement que vous ne savez pas, n'essayez pas d'inventer une réponse.\n",
       "\n",
       "https://www.service-public.fr/particuliers/vosdroits/F11966 : Agrément d'une association (Qui accorde l'agrément à l'association ?)\n",
       "La décision d'agrément est prise par l'autorité administrative compétente. Celle-ci dépend de l'agrément demandé. \n",
       "\n",
       "https://www.service-public.fr/particuliers/vosdroits/F11966 : Agrément d'une association (Quelles conditions doit remplir l'association pour obtenir l'agrément ? > Respecter les règles garantissant la transparence financière)\n",
       "La transparence financière est considérée comme respectée si toutes les conditions suivantes sont remplies :\n",
       "- Un budget annuel et des états financiers ou, éventuellement, des comptes est établi\n",
       "- Le budget annuel, les états financiers ou les comptes sont communiqués aux membres dans les délais prévus par ses statuts\n",
       "- Ces documents sont soumis à l'assemblée générale pour acceptation\n",
       "- La publicité et la communication des documents budgétaires et comptables aux autorités publiques sont effectuées conformément à la réglementation \n",
       "\n",
       "https://www.service-public.fr/particuliers/vosdroits/F11966 : \n",
       "Vous souhaitez savoir à quoi sert l'agrément, quelles conditions l'association doit remplir pour en bénéficier, quels documents fournir aux autorités administratives, quelle est la durée de l'agrément, si celui-ci peut être annulé,... ? Nous vous donnons les informations utiles. Voici une liste de différents cas possibles:\n",
       "- À quoi sert l'agrément pour une association ? - Quelles conditions doit remplir l'association pour obtenir l'agrément ? - Quels documents doit fournir l'association pour demander un agrément ? - À qui transmettre le dossier de demande d'agrément de l'association ? - Qui accorde l'agrément à l'association ? - Quelle est la durée de l'agrément de l'association ? - L'agrément de l'association est-il renouvelable ? - Dans quel cas l'agrément de l'association peut-il être annulé ? \n",
       "\n",
       "https://www.service-public.fr/particuliers/vosdroits/F11966 : Agrément d'une association (Dans quel cas l'agrément de l'association peut-il être annulé ?)\n",
       "L'autorité administrative qui a délivré l'agrément peut l'annuler lorsqu'une condition nécessaire à son attribution n'est plus remplie. On parle d' abrogation. Elle s'effectue selon la procédure propre à chaque agrément. \n",
       "\n",
       "Question : Comment fonctionne la gestion financière des associations agréées et quels sont les documents à fournir aux autorités administratives ?</pre></div><div style=\"width: 50%; padding:10px;\"> <div style=\"text-align:center;color:blue;\">answer</div> <pre class=\"qq\">D'après les informations fournies, la gestion financière des associations agréées doit respecter les règles garantissant la transparence financière. Cela implique que l'association doit établir un budget annuel et des états financiers ou des comptes. Ces documents doivent être communiqués aux membres dans les délais prévus par les statuts de l'association et soumis à l'assemblée générale pour acceptation. De plus, la publicité et la communication de ces documents budgétaires et comptables aux autorités publiques doivent être effectuées conformément à la réglementation.\n",
       "\n",
       "Quant aux documents à fournir aux autorités administratives pour demander un agrément, ils ne sont pas spécifiés dans les éléments de contexte fournis.</pre></div></div></div>"
      ],
      "text/plain": [
       "<IPython.core.display.HTML object>"
      ]
     },
     "metadata": {},
     "output_type": "display_data"
    },
    {
     "data": {
      "text/html": [
       "<br>"
      ],
      "text/plain": [
       "<IPython.core.display.HTML object>"
      ]
     },
     "metadata": {},
     "output_type": "display_data"
    },
    {
     "data": {
      "text/html": [
       "\n",
       "        <style>\n",
       "            .qq {\n",
       "                word-break: keep-all;\n",
       "                white-space: pre-wrap;\n",
       "            }\n",
       "        </style>\n",
       "\n",
       "        <div style=\"border:1px solid grey;padding:5px;border-radius:8px;\">\n",
       "            <div>ID: ID &nbsp Q: 62</div>\n",
       "            <h5 style=\"font-weight: bold;\">Quels sont les domaines d'intervention de la Réserve citoyenne en lien avec l'environnement et le développement durable ?</h5>\n",
       "            <div style=\"display:flex; align-items:top;\"><div style=\"width: 50%; padding:10px;\"> <div style=\"text-align:center;color:blue;\">prompt</div> <pre class=\"qq\">Utilisez les éléments de contexte à votre disposition ci-dessous pour répondre à la question finale. Si vous ne connaissez pas la réponse, dites simplement que vous ne savez pas, n'essayez pas d'inventer une réponse.\n",
       "\n",
       "https://www.service-public.fr/particuliers/vosdroits/F14149 : \n",
       "Les droits et devoirs de la personne détenue sont fixés par le règlement de la prison. Le détenu a notamment un droit de visite et de correspondance. Il peut également téléphoner vers l'extérieur. Ces droits peuvent être restreints si le détenu est en détention provisoire. La personne condamnée et la personne en détention provisoire peuvent faire un recours en justice si elles s'estiment victimes de mauvaises conditions de détention. Voici une liste de différents cas possibles:\n",
       "- Règlement intérieur\n",
       "- Fouilles intégrales\n",
       "- Visites\n",
       "- Correspondance\n",
       "- Téléphone\n",
       "- Argent\n",
       "- Achat de denrées\n",
       "- Activités socio-culturelles\n",
       "- Usage de caméras individuelles par les agents\n",
       "- Recours en cas de mauvaises conditions de détention\n",
       "- Activités socioculturelles \n",
       "\n",
       "https://www.service-public.fr/particuliers/vosdroits/F1986 : \n",
       "Le permis de construire est une autorisation d'urbanisme que vous devez obtenir avant de construire un bâtiment ou de faire certains travaux sur une construction existante. Le permis de construire est délivré par la mairie. Nous vous guidons dans les étapes de votre demande de permis. Dans un premier temps, vous devez vous renseigner auprès de votre mairie pour savoir si votre projet se situe dans un secteur protégé. Les sites protégés sont les sites patrimoniaux remarquables, les abords des monuments historiques, les sites classés ou en instance de classement, les réserves naturelles, le cœur des parcs nationaux ou un futur parc national. Voici une liste de différents cas possibles:\n",
       "- Vérifier si les travaux sont concernés par un permis de construire\n",
       "- Vérifier qui peut déposer un permis de construire\n",
       "- Remplir le dossier de permis de construire\n",
       "- Transmettre le dossier à la mairie\n",
       "- Connaitre les délais d'instruction\n",
       "- Recevoir la décision\n",
       "- Afficher le permis de construire sur le terrain\n",
       "- Faire un recours en cas de refus ou de sursis à statuer\n",
       "- Connaitre le délai de validité du permis et éventuellement demander une prolongation\n",
       "- Déclarer l'ouverture du chantier\n",
       "- Déclarer l'achèvement des travaux\n",
       "- Payer la taxe d'aménagement et la redevance d'archéologie préventive \n",
       "\n",
       "https://www.service-public.fr/particuliers/vosdroits/F34283 : \n",
       "À Paris : engagement de 10 mois, non renouvelable. | Missions occasionnelles (ponctuelles ou récurrentes) | Indemnité variant selon le grade | Service départemental d'incendie et de secours | \n",
       "| Réserves citoyennes des services d'incendie et de secours | À partir de 16 ans | Volontaires n'ayant pas fait l'objet d'une condamnation pénale | Engagement d'une durée de 1 à 5 ans renouvelable | Missions occasionnelles (ponctuelles ou récurrentes) | Aucune indemnité ou allocation | Service départemental ou territorial d'incendie et de secours | \n",
       "| Réserve de la protection judiciaire de la jeunesse (PJJ) | Maximum 75 ans | Volontaires et retraités de la fonction publique, n'ayant pas fait l'objet d'une condamnation pénale | 1 an renouvelable | Maximum de 150 jours par an | Indemnité journalière (3 niveaux selon expertise) | Direction de la PJJ ou direction interrégionale de la PJJ ou École nationale de PJJ | \n",
       "En cas de crise majeure, les volontaires des réserves suivantes peuvent être convoqués au sein de la réserve de sécurité nationale :\n",
       "- Réserve opérationnelle militaire\n",
       "- Réserve civile de la Police nationale\n",
       "- Réserve sanitaire\n",
       "- Réserve civile pénitentiaire\n",
       "- Réserve de sécurité civile\n",
       "La convocation se fait pour 30 jours. Cette durée est renouvelable une fois. \n",
       "\n",
       "https://www.service-public.fr/particuliers/vosdroits/F34283 : \n",
       "Plusieurs dispositifs de réserves permettent à des volontaires de s'investir au service de l'intérêt général : réserve militaire, réserve civile de la police, réserve citoyenne, réserve sanitaire... Les conditions d'âge et de profil varient selon l'engagement choisi. Certaines réserves n'emploient que des bénévoles, d'autres rémunèrent les volontaires. Différentes réserves existantes:\n",
       "| Type de réserve | Âge | Profil des volontaires | Durée du contrat | Durée des périodes d'intervention | Indemnisation | Organisme | \n",
       "| - | - | - | - | - | - | - | \n",
       "| Réserve opérationnelle militaire | À partir de 17 ans | Volontaires aptes physiquement et médicalement | Contrat entre 1 et 5 ans renouvelable | Maximum de 60 jours par an. En cas de nécessité, la durée peut être portée à 210 jours par an. \n",
       "\n",
       "Question : Quels sont les domaines d'intervention de la Réserve citoyenne en lien avec l'environnement et le développement durable ?</pre></div><div style=\"width: 50%; padding:10px;\"> <div style=\"text-align:center;color:blue;\">answer</div> <pre class=\"qq\">D'après les éléments de contexte fournis, il n'est pas possible de déterminer les domaines d'intervention de la Réserve citoyenne en lien avec l'environnement et le développement durable.</pre></div></div></div>"
      ],
      "text/plain": [
       "<IPython.core.display.HTML object>"
      ]
     },
     "metadata": {},
     "output_type": "display_data"
    },
    {
     "data": {
      "text/html": [
       "<br>"
      ],
      "text/plain": [
       "<IPython.core.display.HTML object>"
      ]
     },
     "metadata": {},
     "output_type": "display_data"
    },
    {
     "data": {
      "text/html": [
       "\n",
       "        <style>\n",
       "            .qq {\n",
       "                word-break: keep-all;\n",
       "                white-space: pre-wrap;\n",
       "            }\n",
       "        </style>\n",
       "\n",
       "        <div style=\"border:1px solid grey;padding:5px;border-radius:8px;\">\n",
       "            <div>ID: ID &nbsp Q: 63</div>\n",
       "            <h5 style=\"font-weight: bold;\">Quelles sont les raisons médicales qui pourraient entraîner une suspension ou une rétention du permis de conduire et quelle est la procédure à suivre pour obtenir un avis médical ?</h5>\n",
       "            <div style=\"display:flex; align-items:top;\"><div style=\"width: 50%; padding:10px;\"> <div style=\"text-align:center;color:blue;\">prompt</div> <pre class=\"qq\">Utilisez les éléments de contexte à votre disposition ci-dessous pour répondre à la question finale. Si vous ne connaissez pas la réponse, dites simplement que vous ne savez pas, n'essayez pas d'inventer une réponse.\n",
       "\n",
       "https://www.service-public.fr/particuliers/vosdroits/F14836 : Suspension administrative du permis de conduire (Infraction > Comment faire le contrôle médical ? > Quels documents fournir ?)\n",
       "Vous devez télécharger le formulaire \"Permis de conduire - avis médical\" et le pré-remplir avant de passer le contrôle médical. Le jour du contrôle, préparez les documents suivants :\n",
       "- Formulaire \"Permis de conduire - avis médical\" pré-rempli\n",
       "- Pièce d'identité\n",
       "- Décision de suspension et lettre de notification de la suspension\n",
       "- Résultats des examens biologiques s'ils sont demandés dans la lettre de notification\n",
       "- Résultat de l'examen psychotechnique si nécessaire \n",
       "\n",
       "https://www.service-public.fr/particuliers/vosdroits/F14836 : Suspension administrative du permis de conduire (Raisons médicales > Comment récupérer le permis ?)\n",
       "Vous devez passer un nouveau contrôle médical avant de pouvoir récupérer le permis de conduire. \n",
       "\n",
       "https://www.service-public.fr/particuliers/vosdroits/F14836 : \n",
       "Le préfet peut suspendre un permis de conduire soit à la suite d'une infraction commise dans son département, soit pour des raisons médicales . Voici une liste de différents cas possibles:\n",
       "- Quelles infractions entraînent la suspension du permis ? - Dans quel délai le permis est suspendu ? - Quelle durée ? - Comment faire le contrôle médical ? - Comment récupérer le permis de conduire ? - Comment faire un recours ? - Dans quels cas ? - Comment est-on informé ? - Comment récupérer le permis ? \n",
       "\n",
       "https://www.service-public.fr/particuliers/vosdroits/F14836 : Suspension administrative du permis de conduire (Raisons médicales > Quelle durée ?)\n",
       "Indéterminée: \n",
       "\n",
       "Question : Quelles sont les raisons médicales qui pourraient entraîner une suspension ou une rétention du permis de conduire et quelle est la procédure à suivre pour obtenir un avis médical ?</pre></div><div style=\"width: 50%; padding:10px;\"> <div style=\"text-align:center;color:blue;\">answer</div> <pre class=\"qq\">Les raisons médicales qui pourraient entraîner une suspension ou une rétention du permis de conduire ne sont pas spécifiées dans les éléments de contexte fournis. La procédure à suivre pour obtenir un avis médical consiste à télécharger le formulaire \"Permis de conduire - avis médical\" et le pré-remplir avant de passer le contrôle médical. Le jour du contrôle, il faut préparer les documents suivants : le formulaire \"Permis de conduire - avis médical\" pré-rempli, une pièce d'identité, la décision de suspension et la lettre de notification de la suspension, les résultats des examens biologiques si demandés dans la lettre de notification, et le résultat de l'examen psychotechnique si nécessaire.</pre></div></div></div>"
      ],
      "text/plain": [
       "<IPython.core.display.HTML object>"
      ]
     },
     "metadata": {},
     "output_type": "display_data"
    },
    {
     "data": {
      "text/html": [
       "<br>"
      ],
      "text/plain": [
       "<IPython.core.display.HTML object>"
      ]
     },
     "metadata": {},
     "output_type": "display_data"
    },
    {
     "data": {
      "text/html": [
       "\n",
       "        <style>\n",
       "            .qq {\n",
       "                word-break: keep-all;\n",
       "                white-space: pre-wrap;\n",
       "            }\n",
       "        </style>\n",
       "\n",
       "        <div style=\"border:1px solid grey;padding:5px;border-radius:8px;\">\n",
       "            <div>ID: ID &nbsp Q: 64</div>\n",
       "            <h5 style=\"font-weight: bold;\">Quels sont les moyens de paiement acceptés pour mes achats en ligne ?</h5>\n",
       "            <div style=\"display:flex; align-items:top;\"><div style=\"width: 50%; padding:10px;\"> <div style=\"text-align:center;color:blue;\">prompt</div> <pre class=\"qq\">Utilisez les éléments de contexte à votre disposition ci-dessous pour répondre à la question finale. Si vous ne connaissez pas la réponse, dites simplement que vous ne savez pas, n'essayez pas d'inventer une réponse.\n",
       "\n",
       "https://www.service-public.fr/particuliers/vosdroits/F10486 : Achat à distance : moyens de paiement, date de paiement et contestation (Quels sont les moyens de paiement d'un achat à distance quelque soit leur nature ? > Virement bancaire)\n",
       "Vous pouvez régler vos achats par virement bancaire, en cas d'abonnement par exemple, ou à crédit, après avoir souscrit un crédit affecté. \n",
       "\n",
       "https://www.service-public.fr/particuliers/vosdroits/F10486 : \n",
       "Vous allez effectuer des achats sur internet, par correspondance, par téléachat, par téléphone auprès d'un professionnel et vous vous demandez quelles sont les solutions de paiement dont vous disposez pour régler votre commande ? Selon les vendeurs, celle-ci peut être débitée (encaissée) immédiatement au moment de l'achat, à la réception du produit ou bien lors de la fourniture de la prestation de service. Vous pouvez contester une opération de paiement auprès de votre banque. Voici une liste de différents cas possibles:\n",
       "- Quels sont les moyens de paiement d'un achat à distance quelque soit leur nature ? - Quelle est la date effective du paiement ? - Comment contester une opération de paiement ? \n",
       "\n",
       "https://www.service-public.fr/particuliers/vosdroits/F10486 : Achat à distance : moyens de paiement, date de paiement et contestation (Quels sont les moyens de paiement d'un achat à distance quelque soit leur nature ? > Portefeuille électronique (PayPal, Paylib...))\n",
       "Certains sites proposent le portefeuille électronique comme moyen de paiement pour payer en ligne des achats effectués sur internet. Il peut être proposé sous des noms différents (par exemple, PayPal, Paylib). Il n'y a pas besoin de rentrer ses informations bancaires à chaque paiement. Les achats s'effectuent par la saisie d'un identifiant de connexion ou d'une adresse de courrier électronique et d'un mot de passe, parfois associé à un code secret. Vous devez créer auprès d'un organisme tiers (banque, opérateur télécom...) un compte avec un identifiant (mail ou numéro de téléphone) et un mot de passe. Lors de votre inscription, vous enregistrez vos informations personnelles et vos données de paiement (c'est-à-dire le numéro à 16 chiffres de votre carte bancaire, sa date de validité et le cryptogramme à 3 chiffres). Les données sont stockées. L'ouverture d'un tel compte est gratuite. \n",
       "\n",
       "https://www.service-public.fr/particuliers/vosdroits/F10486 : Achat à distance : moyens de paiement, date de paiement et contestation (Quels sont les moyens de paiement d'un achat à distance quelque soit leur nature ? > Chèque ou espèces)\n",
       "Vous pouvez régler par chèque ou espèces au moment de la commande, de l'exécution de la prestation ou au moment de la livraison de votre colis. En principe, ces informations vous sont communiquées dans les conditions générales de vente par le professionnel. \n",
       "\n",
       "Question : Quels sont les moyens de paiement acceptés pour mes achats en ligne ?</pre></div><div style=\"width: 50%; padding:10px;\"> <div style=\"text-align:center;color:blue;\">answer</div> <pre class=\"qq\">Les moyens de paiement acceptés pour les achats en ligne sont le virement bancaire, le portefeuille électronique (comme PayPal ou Paylib), le chèque et les espèces.</pre></div></div></div>"
      ],
      "text/plain": [
       "<IPython.core.display.HTML object>"
      ]
     },
     "metadata": {},
     "output_type": "display_data"
    },
    {
     "data": {
      "text/html": [
       "<br>"
      ],
      "text/plain": [
       "<IPython.core.display.HTML object>"
      ]
     },
     "metadata": {},
     "output_type": "display_data"
    },
    {
     "data": {
      "text/html": [
       "\n",
       "        <style>\n",
       "            .qq {\n",
       "                word-break: keep-all;\n",
       "                white-space: pre-wrap;\n",
       "            }\n",
       "        </style>\n",
       "\n",
       "        <div style=\"border:1px solid grey;padding:5px;border-radius:8px;\">\n",
       "            <div>ID: ID &nbsp Q: 65</div>\n",
       "            <h5 style=\"font-weight: bold;\">Où peut-on effectuer une demande en ligne pour les prestations de la Caf ou de la MSA ?</h5>\n",
       "            <div style=\"display:flex; align-items:top;\"><div style=\"width: 50%; padding:10px;\"> <div style=\"text-align:center;color:blue;\">prompt</div> <pre class=\"qq\">Utilisez les éléments de contexte à votre disposition ci-dessous pour répondre à la question finale. Si vous ne connaissez pas la réponse, dites simplement que vous ne savez pas, n'essayez pas d'inventer une réponse.\n",
       "\n",
       "https://www.service-public.fr/particuliers/vosdroits/F2882 : Prime d'activité : salarié ou fonctionnaire (Caf > Déposer le dossier de demande de prime d'activité)\n",
       "Vous devez faire la demande de prime d'activité sur internet : \n",
       "\n",
       "https://www.service-public.fr/particuliers/vosdroits/F2882 : Prime d'activité : salarié ou fonctionnaire (Caf > Faire une déclaration chaque trimestre)\n",
       "Chaque trimestre, vous devez déclarer en ligne internet l'ensemble des ressources (en net) de votre foyer pour la réévaluation éventuelle de la prime d'activité. \n",
       "\n",
       "https://www.service-public.fr/particuliers/vosdroits/F968 : Déclaration de grossesse (Sur internet)\n",
       "Cas Cas général: Votre médecin ou votre sage-femme remplit la déclaration de votre grossesse en ligne et la télétransmet directement à votre caisse d'Assurance Maladie et à votre caisse d'allocations familiales (Caf). Vous n'avez pas de formulaire à compléter, ni de courrier à envoyer. La déclaration de votre grossesse est enregistrée immédiatement par votre caisse d'Assurance Maladie et votre caisse d'allocations familiales (Caf). Dès réception, l'organisme de sécurité sociale vous adresse un document détaillant l'ensemble de vos droits et vous indique si vous pouvez bénéficier d'un report de cotisations sociales. Ce report se fait à votre demande. (À savoir: La caisse d'allocations familiales (Caf) a mis en ligne un parcours dédié aux parents et futurs parents . Le but est de connaître votre situation personnelle pour vous donner une information personnalisée notamment sur les aides.) Cas Régime agricole (MSA): La déclaration de grossesse peut être faite en ligne par votre médecin, s'il vous le propose et avec votre accord. Si vous êtes exploitante agricole, vous bénéficiez d' un report systématique des délais de paiement de vos cotisations sociales. \n",
       "\n",
       "https://www.service-public.fr/particuliers/vosdroits/F2882 : Prime d'activité : salarié ou fonctionnaire (Caf > Estimer le montant de la prime d'activité)\n",
       "Au-delà, le montant de la bonification reste constant. \n",
       "\n",
       "Question : Où peut-on effectuer une demande en ligne pour les prestations de la Caf ou de la MSA ?</pre></div><div style=\"width: 50%; padding:10px;\"> <div style=\"text-align:center;color:blue;\">answer</div> <pre class=\"qq\">On peut effectuer une demande en ligne pour les prestations de la Caf ou de la MSA sur le site internet du service-public.fr.</pre></div></div></div>"
      ],
      "text/plain": [
       "<IPython.core.display.HTML object>"
      ]
     },
     "metadata": {},
     "output_type": "display_data"
    },
    {
     "data": {
      "text/html": [
       "<br>"
      ],
      "text/plain": [
       "<IPython.core.display.HTML object>"
      ]
     },
     "metadata": {},
     "output_type": "display_data"
    },
    {
     "data": {
      "text/html": [
       "\n",
       "        <style>\n",
       "            .qq {\n",
       "                word-break: keep-all;\n",
       "                white-space: pre-wrap;\n",
       "            }\n",
       "        </style>\n",
       "\n",
       "        <div style=\"border:1px solid grey;padding:5px;border-radius:8px;\">\n",
       "            <div>ID: ID &nbsp Q: 66</div>\n",
       "            <h5 style=\"font-weight: bold;\">Quelles sont les obligations de l'employeur en cas de décès d'un salarié pendant son contrat de travail?</h5>\n",
       "            <div style=\"display:flex; align-items:top;\"><div style=\"width: 50%; padding:10px;\"> <div style=\"text-align:center;color:blue;\">prompt</div> <pre class=\"qq\">Utilisez les éléments de contexte à votre disposition ci-dessous pour répondre à la question finale. Si vous ne connaissez pas la réponse, dites simplement que vous ne savez pas, n'essayez pas d'inventer une réponse.\n",
       "\n",
       "https://www.service-public.fr/particuliers/vosdroits/F24249 : \n",
       "Le décès d'un salarié est un cas de force majeure qui entraine la rupture du contrat de travail. Quels sont les effets du décès sur le contrat de travail? Quelles sont les obligations de l'employeur lors du décès d'un salarié? L'employeur doit-il verser des indemnités aux héritiers du salarié? Nous faisons un point sur la réglementation. Voici une liste de différents cas possibles:\n",
       "- Quelle est la conséquence du décès d'un salarié sur son contrat de travail ? - Quelles sont les obligations de l'employeur en cas de décès d'un salarié ? - Quelles sommes sont versées par l'employeur en cas de décès d'un salarié ? \n",
       "\n",
       "https://www.service-public.fr/particuliers/vosdroits/F24249 : Que doit faire l'employeur en cas de décès d'un salarié ? (Quelle est la conséquence du décès d'un salarié sur son contrat de travail ?)\n",
       "Le décès du salarié est un cas de force majeure. Le contrat est rompu automatiquement du fait du décès. L'employeur n'a pas de procédure particulière à suivre. \n",
       "\n",
       "https://www.service-public.fr/particuliers/vosdroits/F2210 : Santé et sécurité au travail : obligations de l'employeur (Quelles sont les obligations de l'employeur en matière de santé et de sécurité au travail ?)\n",
       "L'employeur doit prendre des mesures pour assurer la sécurité et protéger la santé mentale et physique de l'ensemble des travailleurs sur leurs postes de travail. \n",
       "\n",
       "https://www.service-public.fr/particuliers/vosdroits/F32768 : \n",
       "Le salarié reste tenu à certaines obligations vis-à-vis de son employeur durant un arrêt maladie, un congé de maternité ou d'adoption, par exemples. Pendant la suspension temporaire de son contrat de travail (arrêt maladie, congé de maternité ou d'adoption, par exemple), le salarié ne travaille pas. Il doit toutefois respecter une obligation de loyauté envers son employeur. Par exemple :\n",
       "- Le salarié ne peut pas pas travailler pour un concurrent de son employeur. - Le salarié doit respecter une obligation de discrétion. Il n'a pas le droit notamment de divulguer des données confidentielles de l'entreprise auxquelles il a accès (secret de fabrication, par exemple). S'il ne respecte pas ces obligations, le salarié peut être licencié. \n",
       "\n",
       "Question : Quelles sont les obligations de l'employeur en cas de décès d'un salarié pendant son contrat de travail?</pre></div><div style=\"width: 50%; padding:10px;\"> <div style=\"text-align:center;color:blue;\">answer</div> <pre class=\"qq\">L'employeur n'a pas de procédure particulière à suivre en cas de décès d'un salarié pendant son contrat de travail. Le contrat est automatiquement rompu du fait du décès, qui est considéré comme un cas de force majeure.</pre></div></div></div>"
      ],
      "text/plain": [
       "<IPython.core.display.HTML object>"
      ]
     },
     "metadata": {},
     "output_type": "display_data"
    },
    {
     "data": {
      "text/html": [
       "<br>"
      ],
      "text/plain": [
       "<IPython.core.display.HTML object>"
      ]
     },
     "metadata": {},
     "output_type": "display_data"
    },
    {
     "data": {
      "text/html": [
       "\n",
       "        <style>\n",
       "            .qq {\n",
       "                word-break: keep-all;\n",
       "                white-space: pre-wrap;\n",
       "            }\n",
       "        </style>\n",
       "\n",
       "        <div style=\"border:1px solid grey;padding:5px;border-radius:8px;\">\n",
       "            <div>ID: ID &nbsp Q: 67</div>\n",
       "            <h5 style=\"font-weight: bold;\">Quels sont les recours possibles pour contester une décision d'éloignement d'un étranger en situation irrégulière ?</h5>\n",
       "            <div style=\"display:flex; align-items:top;\"><div style=\"width: 50%; padding:10px;\"> <div style=\"text-align:center;color:blue;\">prompt</div> <pre class=\"qq\">Utilisez les éléments de contexte à votre disposition ci-dessous pour répondre à la question finale. Si vous ne connaissez pas la réponse, dites simplement que vous ne savez pas, n'essayez pas d'inventer une réponse.\n",
       "\n",
       "https://www.service-public.fr/particuliers/vosdroits/F36536 : En cas de divorce, comment organiser la vie de l'enfant ? (Puis-je partir à l'étranger avec l'enfant pendant les week-ends ou les vacances ?)\n",
       "Vous pouvez choisir librement de partir à l'étranger (Europe et hors Europe) avec votre enfant. L'autre parent peut s'y opposer s'il y a un risque que l'enfant ne revienne pas. Il s'agit d'un conflit d'autorité parentale sur la sortie de territoire d'un enfant. S'il y a un risque que l'enfant ne revienne pas sur le territoire français, vous pouvez saisir le Jaf dont dépend la résidence habituelle de l'enfant. Le juge peut prononcer une interdiction de sortie du territoire français (IST). En cas d'urgence, vous pouvez obtenir une opposition à sortie du territoire français (OST). \n",
       "\n",
       "https://www.service-public.fr/particuliers/vosdroits/F14750 : \n",
       "Le propriétaire d'un logement a le droit de choisir son locataire parmi les différents candidats. Il doit néanmoins faire attention aux critères de sélection qu'il utilise. En effet, il est interdit de refuser un locataire sur la base de certains critères considérés comme discriminatoires (origine nationale ou ethnique, apparence physique, sexe, âge, orientation sexuelle, etc.). Si vous êtes victime de discrimination à la location, vous pouvez porter plainte contre le propriétaire. Voici une liste de différents cas possibles:\n",
       "- Critères de sélection autorisés\n",
       "- Cas de discrimination\n",
       "- Contacter la police ou gendarmerie par messagerie instantanée\n",
       "- Porter plainte\n",
       "- Sanctions\n",
       "- Saisir le Défenseur des droits \n",
       "\n",
       "https://www.service-public.fr/particuliers/vosdroits/F11891 : Expulsion d'un étranger hors de France (Recours)\n",
       "Des recours contre la mesure d'expulsion sont possibles, mais ils n'empêchent pas l'expulsion d'être exécutée. Vous pouvez saisir le juge administratif d'un recours en annulation. Vous pouvez également demander directement à l'administration de mettre un terme à sa décision pour l'avenir. La mesure sera également réexaminée automatiquement tous les 5 ans par l'administration. \n",
       "\n",
       "https://www.service-public.fr/particuliers/vosdroits/F31136 : Qu'est-ce que la retenue pour vérification du droit au séjour d'un étranger ? (Fin de la retenue)\n",
       "L'issue de la retenue peut être différente en fonction des constatations effectuées. L'officier de police judiciaire peut décider :\n",
       "- Soit de libérer l'étranger (s'il est constaté qu'il est en séjour régulier ou que sa demande de titre de séjour est en cours d'examen)\n",
       "- Soit de prononcer un placement en centre de rétention ou une assignation à résidence si une mesure d'éloignement est décidée\n",
       "- Soit de placer l'étranger en garde à vue , notamment en cas de délit de maintien irrégulier (étranger faisant l'objet d'une décision d'éloignement toujours exécutoire, mais qui reste en France sans motif légitime) \n",
       "\n",
       "Question : Quels sont les recours possibles pour contester une décision d'éloignement d'un étranger en situation irrégulière ?</pre></div><div style=\"width: 50%; padding:10px;\"> <div style=\"text-align:center;color:blue;\">answer</div> <pre class=\"qq\">Les recours possibles pour contester une décision d'éloignement d'un étranger en situation irrégulière sont de saisir le juge administratif d'un recours en annulation ou de demander à l'administration de mettre un terme à sa décision pour l'avenir.</pre></div></div></div>"
      ],
      "text/plain": [
       "<IPython.core.display.HTML object>"
      ]
     },
     "metadata": {},
     "output_type": "display_data"
    },
    {
     "data": {
      "text/html": [
       "<br>"
      ],
      "text/plain": [
       "<IPython.core.display.HTML object>"
      ]
     },
     "metadata": {},
     "output_type": "display_data"
    },
    {
     "data": {
      "text/html": [
       "\n",
       "        <style>\n",
       "            .qq {\n",
       "                word-break: keep-all;\n",
       "                white-space: pre-wrap;\n",
       "            }\n",
       "        </style>\n",
       "\n",
       "        <div style=\"border:1px solid grey;padding:5px;border-radius:8px;\">\n",
       "            <div>ID: ID &nbsp Q: 68</div>\n",
       "            <h5 style=\"font-weight: bold;\">Quelles sont les conditions pour devenir donneur de spermatozoïdes en France ?</h5>\n",
       "            <div style=\"display:flex; align-items:top;\"><div style=\"width: 50%; padding:10px;\"> <div style=\"text-align:center;color:blue;\">prompt</div> <pre class=\"qq\">Utilisez les éléments de contexte à votre disposition ci-dessous pour répondre à la question finale. Si vous ne connaissez pas la réponse, dites simplement que vous ne savez pas, n'essayez pas d'inventer une réponse.\n",
       "\n",
       "https://www.service-public.fr/particuliers/vosdroits/F1068 : Don de sperme (Quelles sont les démarches préalables au don du sperme ? > Entretien : informations collectées)\n",
       "Un ou plusieurs entretiens préalables au don sont organisés entre l'équipe médicale et le donneur. Au cours de cet entretien, le médecin collecte les informations suivantes :\n",
       "- Identité du donneur\n",
       "- Données identifiables du donneur : \n",
       "- Âge\n",
       "- État général au moment du don\n",
       "- Caractéristiques physiques\n",
       "- Situation familiale et professionnelle\n",
       "- Pays de naissance\n",
       "- Motivations écrites concernant ce don\n",
       "Les données concernant l'identité et les données non identifiables du donneur sont collectées dans un formulaire-type. \n",
       "\n",
       "https://www.service-public.fr/particuliers/vosdroits/F1068 : Don de sperme (Quelles sont les conditions devant être remplies par le donneur ?)\n",
       "Il faut répondre aux 2 conditions suivantes :\n",
       "- Être âgé d'au moins 18 ans et de moins de 45 ans\n",
       "- Être en bonne santé. Des examens médicaux sont réalisés avant le don. (À noter: Un mineur émancipé ne peut pas être donneur.) \n",
       "\n",
       "https://www.service-public.fr/particuliers/vosdroits/F1068 : \n",
       "Un homme de 18 à 44 ans, ayant eu ou non des enfants, peut donner ses spermatozoïdes à des couples composés d'un homme et d'une femme ou de 2 femmes. Il peut aussi les donner à des femmes non mariées. Le don est réalisé dans un établissement hospitalier. Il est gratuit et anonyme. Voici une liste de différents cas possibles:\n",
       "- Quelles sont les conditions devant être remplies par le donneur ? - Quelles sont les démarches préalables au don du sperme ? - Comment s'effectue le prélèvement du sperme ? - Quelle prise en charge pour un don de sperme ? \n",
       "\n",
       "https://www.service-public.fr/particuliers/vosdroits/F1068 : Don de sperme (Quelles sont les démarches préalables au don du sperme ?)\n",
       "La démarche s'effectue à l'hôpital au sein d'un centre de don de spermatozoïdes. \n",
       "\n",
       "Question : Quelles sont les conditions pour devenir donneur de spermatozoïdes en France ?</pre></div><div style=\"width: 50%; padding:10px;\"> <div style=\"text-align:center;color:blue;\">answer</div> <pre class=\"qq\">Les conditions pour devenir donneur de spermatozoïdes en France sont les suivantes :\n",
       "- Être âgé d'au moins 18 ans et de moins de 45 ans\n",
       "- Être en bonne santé, avec des examens médicaux réalisés avant le don.</pre></div></div></div>"
      ],
      "text/plain": [
       "<IPython.core.display.HTML object>"
      ]
     },
     "metadata": {},
     "output_type": "display_data"
    },
    {
     "data": {
      "text/html": [
       "<br>"
      ],
      "text/plain": [
       "<IPython.core.display.HTML object>"
      ]
     },
     "metadata": {},
     "output_type": "display_data"
    },
    {
     "data": {
      "text/html": [
       "\n",
       "        <style>\n",
       "            .qq {\n",
       "                word-break: keep-all;\n",
       "                white-space: pre-wrap;\n",
       "            }\n",
       "        </style>\n",
       "\n",
       "        <div style=\"border:1px solid grey;padding:5px;border-radius:8px;\">\n",
       "            <div>ID: ID &nbsp Q: 69</div>\n",
       "            <h5 style=\"font-weight: bold;\">Quelles sont les procédures pour engager un procès et comment choisir entre un juge, un conciliateur de justice ou un médiateur ?</h5>\n",
       "            <div style=\"display:flex; align-items:top;\"><div style=\"width: 50%; padding:10px;\"> <div style=\"text-align:center;color:blue;\">prompt</div> <pre class=\"qq\">Utilisez les éléments de contexte à votre disposition ci-dessous pour répondre à la question finale. Si vous ne connaissez pas la réponse, dites simplement que vous ne savez pas, n'essayez pas d'inventer une réponse.\n",
       "\n",
       "https://www.service-public.fr/particuliers/vosdroits/F2277 : Justice pénale : quelles sont les alternatives à un procès ? (Médiation pénale)\n",
       "À la demande ou avec l'accord de la victime, le procureur peut ordonner une mesure de médiation pénale. Cette mesure a pour objectif de résoudre à l'amiable le litige. En cas de réussite, un procès verbal d'accord est signé entre le médiateur, la victime et l'auteur. (À noter: si l'auteur des faits est mineur, ses représentants légaux sont convoqués avant la mise en place de la mesure. Ils doivent également donner leur accord.) \n",
       "\n",
       "https://www.service-public.fr/particuliers/vosdroits/F1732 : \n",
       "Vous souhaitez résoudre un litige à l'amiable ? Vous pouvez tenter une conciliation, une médiation ou une procédure participative. Cela permet souvent d'éviter un procès. Dans certains cas, notamment pour les procédures dont le litige n'excède pas 5 000 € , la conciliation est obligatoire avant de saisir le juge. Un constat d'accord peut être rédigé pour définir les solutions trouvées. Il peut être validé par un juge. Voici une liste de différents cas possibles:\n",
       "- Quels sont les litiges pouvant faire l'objet d'un accord amiable ? - Dans quels cas une tentative d'accord amiable est obligatoire ? - Dans quels cas est-on dispensé d'une tentative d'accord amiable ? - Quels sont les intervenants permettant de trouver un accord amiable ? - Comment faire valider l'accord par le juge ? - Quel est le coût d'une procédure amiable ? - Quels sont les effets de la procédure amiable ? \n",
       "\n",
       "https://www.service-public.fr/particuliers/vosdroits/F2277 : \n",
       "Pour éviter un procès pénal, des mesures alternatives peuvent être prises par le procureur de la République . L'objectif est d'assurer la réparation du dommage causé à la victime, de mettre fin à l'infraction et de réinsérer socialement l'auteur des faits. Le procureur peut agir directement ou par l'intermédiaire d'un officier de police judiciaire , d'un délégué du procureur ou d'un médiateur . Ces mesures s'adressent au majeur et mineur. Voici une liste de différents cas possibles:\n",
       "- Avertissement pénal probatoire\n",
       "- Stage de lutte, de sensibilisation ou de citoyenneté\n",
       "- Mise en conformité avec la loi ou le règlement\n",
       "- Réparation du préjudice de la victime\n",
       "- Interdiction de séjour ou de paraître\n",
       "- Interdiction de contact\n",
       "- Médiation pénale\n",
       "- Verser une contribution citoyenne\n",
       "- Composition pénale \n",
       "\n",
       "https://www.service-public.fr/particuliers/vosdroits/F1824 : Médiation pénale (Procédure > Début de la médiation)\n",
       "La médiation pénale est proposée par le procureur de la République ou par un officier de police judiciaire (OPJ) qu'il désigne. Elle nécessite l'accord de la victime. Elle peut débuter aussi à la demande de la victime. Elle est mise en place par un médiateur pénal, désigné par le procureur de la République. Elle se déroule dans un tribunal, une association, une maison de justice et du droit ou une antenne de justice. \n",
       "\n",
       "Question : Quelles sont les procédures pour engager un procès et comment choisir entre un juge, un conciliateur de justice ou un médiateur ?</pre></div><div style=\"width: 50%; padding:10px;\"> <div style=\"text-align:center;color:blue;\">answer</div> <pre class=\"qq\">Les procédures pour engager un procès peuvent varier en fonction de la nature du litige et du montant en jeu. Dans certains cas, une tentative d'accord amiable est obligatoire avant de saisir le juge. Cette tentative d'accord peut prendre la forme d'une conciliation, d'une médiation ou d'une procédure participative.\n",
       "\n",
       "Pour choisir entre un juge, un conciliateur de justice ou un médiateur, il est important de prendre en compte plusieurs facteurs. La conciliation est souvent utilisée dans les litiges de faible importance financière et peut être obligatoire dans certains cas. Elle est menée par un conciliateur de justice, qui est une personne neutre et impartiale chargée de faciliter la résolution du litige.\n",
       "\n",
       "La médiation, quant à elle, peut être proposée par le procureur de la République ou par un officier de police judiciaire. Elle nécessite l'accord de la victime et peut être initiée à sa demande. La médiation pénale est menée par un médiateur pénal désigné par le procureur de la République. Elle vise à résoudre à l'amiable le litige et à assurer la réparation du dommage causé à la victime, la fin de l'infraction et la réinsertion sociale de l'auteur des faits.\n",
       "\n",
       "Le choix entre un juge, un conciliateur de justice ou un médiateur dépendra donc de la nature du litige, des préférences des parties impliquées et des possibilités offertes par la loi. Il peut également être utile de consulter un professionnel du droit pour obtenir des conseils sur la meilleure option à choisir.</pre></div></div></div>"
      ],
      "text/plain": [
       "<IPython.core.display.HTML object>"
      ]
     },
     "metadata": {},
     "output_type": "display_data"
    },
    {
     "data": {
      "text/html": [
       "<br>"
      ],
      "text/plain": [
       "<IPython.core.display.HTML object>"
      ]
     },
     "metadata": {},
     "output_type": "display_data"
    },
    {
     "data": {
      "text/html": [
       "\n",
       "        <style>\n",
       "            .qq {\n",
       "                word-break: keep-all;\n",
       "                white-space: pre-wrap;\n",
       "            }\n",
       "        </style>\n",
       "\n",
       "        <div style=\"border:1px solid grey;padding:5px;border-radius:8px;\">\n",
       "            <div>ID: ID &nbsp Q: 70</div>\n",
       "            <h5 style=\"font-weight: bold;\">Quelles sont les procédures de vérifications et d'immobilisation du véhicule en cas d'infraction établie ?</h5>\n",
       "            <div style=\"display:flex; align-items:top;\"><div style=\"width: 50%; padding:10px;\"> <div style=\"text-align:center;color:blue;\">prompt</div> <pre class=\"qq\">Utilisez les éléments de contexte à votre disposition ci-dessous pour répondre à la question finale. Si vous ne connaissez pas la réponse, dites simplement que vous ne savez pas, n'essayez pas d'inventer une réponse.\n",
       "\n",
       "https://www.service-public.fr/particuliers/vosdroits/F12914 : Immobilisation d'un véhicule (Comment demander la fin de l'immobilisation du véhicule ?)\n",
       "Vous devez prouver que l'infraction ayant entraîné l'immobilisation du véhicule a cessé. Vous devez vous adresser à l'autorité indiquée sur la fiche d'immobilisation. Si l'infraction commise concerne la non conformité des plaques d'immatriculation, vous devez faire immatriculer le véhicule. Demandez aux forces de l'ordre une copie de la carte grise pour faire la démarche. \n",
       "\n",
       "https://www.service-public.fr/particuliers/vosdroits/F12914 : Immobilisation d'un véhicule (Quelles infractions peuvent entraîner l'immobilisation du véhicule ?)\n",
       "Les infractions suivantes peuvent entraîner l'immobilisation de votre véhicule :\n",
       "- Infraction au code de la route entraînant une confiscation du véhicule : infractions liées à l'alcool, à la vitesse, conduite sans permis...\n",
       "- Infraction entraînant une mise en fourrière du véhicule\n",
       "- Non respect des règles de circulation : distance de sécurité dans un tunnel, entrave à la circulation...\n",
       "- Non respect des règles du contrôle technique\n",
       "- Non conformité des plaques d'immatriculation\n",
       "- Non conformité de l'état du véhicule : anormalement bruyant ou polluant, ou présentant un danger pour les usagers. - Non conformité de l'équipement du véhicule : pare-brise ou vitres latérales avant insuffisamment transparentes (sauf s'il y a un motif médical), absence ou détérioration d'appareil d'enregistrement de la vitesse. - Refus d'obtempérer\n",
       "- Mise en circulation ou maintien en circulation d'un véhicule ou d'une remorque sans qu'il ait fait l'objet d'une réception \n",
       "\n",
       "https://www.service-public.fr/particuliers/vosdroits/F12914 : \n",
       "Les forces de l'ordre ont immobilisé votre véhicule et vous vous demandez comment faire pour le récupérer ? Cette page vous indique les règles de l'immobilisation du véhicule. Voici une liste de différents cas possibles:\n",
       "- Quelles infractions peuvent entraîner l'immobilisation du véhicule ? - Comment se passe l'immobilisation du véhicule ? - Comment demander la fin de l'immobilisation du véhicule ? - Quelles sanctions en cas de refus de l'immobilisation du véhicule ? \n",
       "\n",
       "https://www.service-public.fr/particuliers/vosdroits/F12914 : Immobilisation d'un véhicule (Comment se passe l'immobilisation du véhicule ?)\n",
       "Lorsque les forces de l'ordre décident d'immobiliser votre véhicule, vous devez le maintenir sur place ou à proximité tout en respectant les règles de stationnement. Les forces de l'ordre vous remettent une fiche d'immobilisation ou une fiche de circulation provisoire en échange du certificat d'immatriculation (carte grise) du véhicule. Si vous êtes absent ou si vous refusez de déplacer votre véhicule, il peut être immobilisé par un moyen mécanique. L'immobilisation d'un véhicule peut être un préalable à sa mise en fourrière. \n",
       "\n",
       "Question : Quelles sont les procédures de vérifications et d'immobilisation du véhicule en cas d'infraction établie ?</pre></div><div style=\"width: 50%; padding:10px;\"> <div style=\"text-align:center;color:blue;\">answer</div> <pre class=\"qq\">Les procédures de vérification et d'immobilisation d'un véhicule en cas d'infraction établie sont les suivantes :\n",
       "\n",
       "1. Lorsqu'une infraction est constatée par les forces de l'ordre, elles peuvent décider d'immobiliser le véhicule.\n",
       "2. Le conducteur doit maintenir le véhicule sur place ou à proximité, en respectant les règles de stationnement.\n",
       "3. Les forces de l'ordre remettent au conducteur une fiche d'immobilisation ou une fiche de circulation provisoire en échange du certificat d'immatriculation (carte grise) du véhicule.\n",
       "4. Si le conducteur est absent ou refuse de déplacer le véhicule, celui-ci peut être immobilisé par un moyen mécanique.\n",
       "5. L'immobilisation du véhicule peut être un préalable à sa mise en fourrière.\n",
       "\n",
       "Note : Les procédures spécifiques peuvent varier en fonction de l'infraction commise.</pre></div></div></div>"
      ],
      "text/plain": [
       "<IPython.core.display.HTML object>"
      ]
     },
     "metadata": {},
     "output_type": "display_data"
    },
    {
     "data": {
      "text/html": [
       "<br>"
      ],
      "text/plain": [
       "<IPython.core.display.HTML object>"
      ]
     },
     "metadata": {},
     "output_type": "display_data"
    },
    {
     "data": {
      "text/html": [
       "\n",
       "        <style>\n",
       "            .qq {\n",
       "                word-break: keep-all;\n",
       "                white-space: pre-wrap;\n",
       "            }\n",
       "        </style>\n",
       "\n",
       "        <div style=\"border:1px solid grey;padding:5px;border-radius:8px;\">\n",
       "            <div>ID: ID &nbsp Q: 71</div>\n",
       "            <h5 style=\"font-weight: bold;\">Quels documents sont nécessaires pour effectuer un stage de sensibilisation ?</h5>\n",
       "            <div style=\"display:flex; align-items:top;\"><div style=\"width: 50%; padding:10px;\"> <div style=\"text-align:center;color:blue;\">prompt</div> <pre class=\"qq\">Utilisez les éléments de contexte à votre disposition ci-dessous pour répondre à la question finale. Si vous ne connaissez pas la réponse, dites simplement que vous ne savez pas, n'essayez pas d'inventer une réponse.\n",
       "\n",
       "https://www.service-public.fr/particuliers/vosdroits/F14208 : \n",
       "Qu'est-ce qu'un stage de sensibilisation à la sécurité routière ? Est-ce obligatoire ? Combien de points peut-on récupérer  sur le permis de conduire ? Comment s'inscrire au stage ? Quel est le prix ? Nous vous indiquons les règles à connaître si vous faites le stage pour récupérer des points ou à la suite d'une décision judiciaire. Voici une liste de différents cas possibles:\n",
       "- Vérifier qui peut ou qui doit suivre un stage pour récupérer des points\n",
       "- S'informer sur le prix du stage de sensibilisation à la sécurité routière\n",
       "- S'informer sur la durée et le contenu du stage de sécurité routière\n",
       "- S'inscrire à un stage de sensibilisation à la sécurité routière\n",
       "- Vérifier la reconstitution des points du permis de conduire\n",
       "- Vérifier qui peut ou qui doit suivre un stage sur la sécurité routière\n",
       "- Envoyer l'attestation de stage à l'autorité judiciaire concernée \n",
       "\n",
       "https://www.service-public.fr/particuliers/vosdroits/F14208 : Stage de sensibilisation à la sécurité routière (Stage pour récupérer des points > S'informer sur la durée et le contenu du stage de sécurité routière)\n",
       "Le stage dure 2 jours de suite (14 heures, soit 7 heures par jour). L'animation du stage est assurée par un expert en sécurité routière et un psychologue, diplômés et autorisés à animer les stages de sensibilisation à la sécurité routière. Le but de la formation est de faire changer le comportement du conducteur. Le programme du stage comprend 2 modules :\n",
       "- Enseignement sur les facteurs généraux de l’insécurité routière (études de cas d'accident, exercices sur des situations de conduite...)\n",
       "- Enseignement spécialisé sur des thématiques spécifiques (vitesse, produits psychoactifs...)\n",
       "Si nécessaire, un entretien personnalisé et/ou une séance de conduite peuvent être organisés. L'entretien est obligatoire si vous avez déjà participé à 2 stages de sensibilisation à la sécurité routière. L'entretien dure au minimum 45 minutes. Il est conduit par le psychologue du stage, en dehors des 14 heures du stage. \n",
       "\n",
       "https://www.service-public.fr/particuliers/vosdroits/F14208 : Stage de sensibilisation à la sécurité routière (Stage pour récupérer des points > S'inscrire à un stage de sensibilisation à la sécurité routière)\n",
       "Vous devez suivre le stage de sensibilisation à la sécurité routière dans un établissement agréé par le préfet. Vous pouvez vous inscrire à un stage dans n'importe quel département. La liste des établissements agréés est disponible sur le site internet de chaque préfecture. Vous pouvez aussi contacter la préfecture. \n",
       "\n",
       "https://www.service-public.fr/particuliers/vosdroits/F14208 : Stage de sensibilisation à la sécurité routière (Stage pour récupérer des points > S'informer sur le prix du stage de sensibilisation à la sécurité routière)\n",
       "Le prix moyen du stage est de 200 €. Toutefois, le responsable du stage est libre de fixer le prix. \n",
       "\n",
       "Question : Quels documents sont nécessaires pour effectuer un stage de sensibilisation ?</pre></div><div style=\"width: 50%; padding:10px;\"> <div style=\"text-align:center;color:blue;\">answer</div> <pre class=\"qq\">Les documents nécessaires pour effectuer un stage de sensibilisation à la sécurité routière ne sont pas mentionnés dans les éléments de contexte fournis.</pre></div></div></div>"
      ],
      "text/plain": [
       "<IPython.core.display.HTML object>"
      ]
     },
     "metadata": {},
     "output_type": "display_data"
    },
    {
     "data": {
      "text/html": [
       "<br>"
      ],
      "text/plain": [
       "<IPython.core.display.HTML object>"
      ]
     },
     "metadata": {},
     "output_type": "display_data"
    },
    {
     "data": {
      "text/html": [
       "\n",
       "        <style>\n",
       "            .qq {\n",
       "                word-break: keep-all;\n",
       "                white-space: pre-wrap;\n",
       "            }\n",
       "        </style>\n",
       "\n",
       "        <div style=\"border:1px solid grey;padding:5px;border-radius:8px;\">\n",
       "            <div>ID: ID &nbsp Q: 72</div>\n",
       "            <h5 style=\"font-weight: bold;\">Quels sont les documents nécessaires pour changer ma situation familiale auprès des autorités françaises ?</h5>\n",
       "            <div style=\"display:flex; align-items:top;\"><div style=\"width: 50%; padding:10px;\"> <div style=\"text-align:center;color:blue;\">prompt</div> <pre class=\"qq\">Utilisez les éléments de contexte à votre disposition ci-dessous pour répondre à la question finale. Si vous ne connaissez pas la réponse, dites simplement que vous ne savez pas, n'essayez pas d'inventer une réponse.\n",
       "\n",
       "https://www.service-public.fr/particuliers/vosdroits/F14128 : Je déménage (Papiers d'identité)\n",
       "Cas Je suis Français: Je ne suis pas obligé de faire modifier l'adresse qui figure sur ma carte nationale d'identité et mon passeport. Mais si je veux que ma nouvelle adresse apparaisse, je dois faire une demande de renouvellement de ma carte d'identité et de mon passeport . Si j'ai entre 16 et 25 ans, je dois prévenir mon centre du service national . Je dois m'inscrire sur les listes électorales de ma nouvelle commune (ou de mon nouvel arrondissement, à Paris, Lyon et Marseille). Cas Je suis européen: Si je suis citoyen d'un État membre de l' Union européenne : \n",
       "- Si j'ai une carte de séjour UE (non obligatoire), je dois la faire modifier,\n",
       "- Je peux m'inscrire sur les listes électorales de ma commune pour participer aux élections municipales et/ou européennes. Cas Je suis étranger (autre pays): Je dois faire modifier mon titre de séjour . \n",
       "\n",
       "https://www.service-public.fr/particuliers/vosdroits/F1656 : Procédure de changement de nom de famille par décret (motif légitime) (À l'étranger > Envoyer votre demande au ministère de la justice)\n",
       "Le dossier comprend les documents suivants : \n",
       "- Bordereau récapitulant toutes les pièces jointes au dossier. Il indique votre nom, vos prénoms, votre adresse, votre numéro de téléphone, et éventuellement votre e-mail\n",
       "- Copie intégrale de l'acte de naissance du mineur datant de moins de 3 mois\n",
       "- Copie d'une pièce prouvant que l'enfant a la nationalité française : carte nationale d'identité, passeport, certificat de nationalité française , déclaration d'acquisition de la nationalité française ou ampliation du décret de naturalisation\n",
       "- Si le mineur a plus de 13 ans, son accord écrit et signé + copie d'un document d'identité signé par lui (carte d'identité, passeport)\n",
       "- Impression du fichier pdf de l'extrait du Journal officiel électronique authentifié\n",
       " \n",
       "- Copie intégrale de l'acte de naissance du tuteur datant de moins de 3 mois\n",
       "- Autorisation du conseil de famille \n",
       "\n",
       "https://www.service-public.fr/particuliers/vosdroits/F18910 : Mise à jour du livret de famille (Nationalité française > Comment faire la démarche ?)\n",
       "Cas Naissance en France: Vous devez vous rendre à la mairie du lieu de naissance de l'enfant avec votre carte d'identité et son acte de naissance. Pour faciliter vos démarches, vous pouvez vous rendre, avec vos justificatifs, à la mairie de votre domicile. Celle-ci peut se charger de transmettre le livret aux autorités concernées. Cas Naissance à l'étranger: Vous devez vous adresser au Service central d'état civil de Nantes (ministère des affaires étrangères). La demande doit être obligatoirement adressée par courrier sur papier libre. \n",
       "\n",
       "https://www.service-public.fr/particuliers/vosdroits/F1656 : \n",
       "Vous avez un motif légitime pour changer votre nom de famille ? Par exemple, votre nom est difficile à porter ? Vous pouvez utiliser la procédure de changement de nom par décret . Cette page vous indique les étapes à suivre pour faire cette démarche. Elle diffère selon que vous résidez en France ou à l'étranger . Voici une liste de différents cas possibles:\n",
       "- Vérifier que la procédure correspond à votre situation\n",
       "- Vérifier qui doit faire la demande\n",
       "- Publier votre demande au Journal officiel de la République française (JORF)\n",
       "- Publier votre demande sur un support habilité à recevoir des annonces légales\n",
       "- Envoyer votre demande au ministère de la justice\n",
       "- Attendre la réponse du ministère de la justice\n",
       "- Réceptionner votre décret de changement de nom\n",
       "- Faire un éventuel recours si votre demande est refusée\n",
       "- S'assurer que personne conteste votre changement de nom\n",
       "- Demander le renouvellement de vos titres d'identité \n",
       "\n",
       "Question : Quels sont les documents nécessaires pour changer ma situation familiale auprès des autorités françaises ?</pre></div><div style=\"width: 50%; padding:10px;\"> <div style=\"text-align:center;color:blue;\">answer</div> <pre class=\"qq\">Les éléments de contexte ne fournissent pas d'informations spécifiques sur les documents nécessaires pour changer la situation familiale auprès des autorités françaises. Par conséquent, je ne sais pas quels sont les documents nécessaires pour effectuer ce changement.</pre></div></div></div>"
      ],
      "text/plain": [
       "<IPython.core.display.HTML object>"
      ]
     },
     "metadata": {},
     "output_type": "display_data"
    },
    {
     "data": {
      "text/html": [
       "<br>"
      ],
      "text/plain": [
       "<IPython.core.display.HTML object>"
      ]
     },
     "metadata": {},
     "output_type": "display_data"
    },
    {
     "data": {
      "text/html": [
       "\n",
       "        <style>\n",
       "            .qq {\n",
       "                word-break: keep-all;\n",
       "                white-space: pre-wrap;\n",
       "            }\n",
       "        </style>\n",
       "\n",
       "        <div style=\"border:1px solid grey;padding:5px;border-radius:8px;\">\n",
       "            <div>ID: ID &nbsp Q: 73</div>\n",
       "            <h5 style=\"font-weight: bold;\">Quels sont les droits et les obligations en matière de sécurité sociale pour un salarié expatrié ?</h5>\n",
       "            <div style=\"display:flex; align-items:top;\"><div style=\"width: 50%; padding:10px;\"> <div style=\"text-align:center;color:blue;\">prompt</div> <pre class=\"qq\">Utilisez les éléments de contexte à votre disposition ci-dessous pour répondre à la question finale. Si vous ne connaissez pas la réponse, dites simplement que vous ne savez pas, n'essayez pas d'inventer une réponse.\n",
       "\n",
       "https://www.service-public.fr/particuliers/vosdroits/F55 : \n",
       "Un salarié expatrié est une personne qui travaille à l'étranger et qui n'est plus rattaché au régime de sécurité sociale français. Vous pouvez bénéficier du statut d'expatrié soit en répondant à une offre d'emploi à l'étranger, soit en acceptant une proposition faite par votre employeur français pour le compte d'une société étrangère. Dans ce cas, si vous acceptez, vous n'aurez plus de lien de subordination avec ce dernier. Voici une liste de différents cas possibles:\n",
       "- Qui peut être salarié expatrié ? - Quel est le contrat d'un salarié expatrié à l'étranger ? - Quel est le contenu du contrat du salarié expatrié ou de l'avenant d'expatriation ? - Quelles sont les obligations de l'employeur situé en France ? - Quelles sont les obligations fiscales en France d'un salarié expatrié à l'étranger ? - Quelles cotisations retraite pour un salarié expatrié à l'étranger ? - Quelle est la protection sociale d'un salarié expatrié à l'étranger ? - Un salarié expatrié à l'étranger doit-il procéder à l'inscription consulaire ? - Un salarié expatrié à l'étranger doit-il s'informer sur la loi locale ? \n",
       "\n",
       "https://www.service-public.fr/particuliers/vosdroits/F55 : Salarié expatrié à l'étranger (Quelles sont les obligations de l'employeur situé en France ? > Obligation de sécurité)\n",
       "Votre entreprise d'origine est responsable de votre santé et de votre sécurité. De ce fait, il peut choisir de souscrire une assurance qui prendra en charge vos besoins d'assistance et vos frais de santé. S'il ne respecte pas son obligation de sécurité, votre employeur engage sa responsabilité et peut être sanctionné. Sa responsabilité civile et/ou pénale peut être engagée. \n",
       "\n",
       "https://www.service-public.fr/particuliers/vosdroits/F55 : Salarié expatrié à l'étranger (Quel est le contenu du contrat du salarié expatrié ou de l'avenant d'expatriation ?)\n",
       "Votre contrat de travail ou l'avenant d'expatriation doit préciser les informations suivantes :\n",
       "- Date de début du contrat d'expatriation et date de fin\n",
       "- Devise servant au paiement de la rémunération\n",
       "- Avantages liés à l'expatriation\n",
       "- Conditions de travail (lieu de travail, durée des congés, montant du salaire...)\n",
       "- Conditions de rapatriement \n",
       "\n",
       "https://www.service-public.fr/particuliers/vosdroits/F55 : Salarié expatrié à l'étranger (Quelles sont les obligations fiscales en France d'un salarié expatrié à l'étranger ?)\n",
       "Vous pouvez continuer à être imposé dans l'un ou les cas suivants :\n",
       "- Votre famille reste en France\n",
       "- Vous continuez à percevoir des ressources en France malgré votre départ. Dans ce cas, vous devez informer les impôts (via votre espace Particulier sur le site impots.gouv.fr) ou à votre centre des finances publiques de votre changement d'adresse. Vous pouvez également être soumis à l'impôt (taxe d'habitation par exemple) si vous êtes non résident. \n",
       "\n",
       "Question : Quels sont les droits et les obligations en matière de sécurité sociale pour un salarié expatrié ?</pre></div><div style=\"width: 50%; padding:10px;\"> <div style=\"text-align:center;color:blue;\">answer</div> <pre class=\"qq\">Les droits et les obligations en matière de sécurité sociale pour un salarié expatrié sont déterminés par le régime de sécurité sociale du pays dans lequel il travaille. En tant qu'expatrié, le salarié n'est plus rattaché au régime de sécurité sociale français. Il peut bénéficier de la protection sociale du pays d'accueil ou souscrire une assurance privée pour couvrir ses besoins de santé et d'assistance. L'employeur français peut également choisir de souscrire une assurance pour prendre en charge les frais de santé et d'assistance du salarié expatrié. L'employeur a l'obligation de garantir la santé et la sécurité du salarié expatrié et peut être tenu responsable en cas de non-respect de cette obligation.</pre></div></div></div>"
      ],
      "text/plain": [
       "<IPython.core.display.HTML object>"
      ]
     },
     "metadata": {},
     "output_type": "display_data"
    },
    {
     "data": {
      "text/html": [
       "<br>"
      ],
      "text/plain": [
       "<IPython.core.display.HTML object>"
      ]
     },
     "metadata": {},
     "output_type": "display_data"
    },
    {
     "data": {
      "text/html": [
       "\n",
       "        <style>\n",
       "            .qq {\n",
       "                word-break: keep-all;\n",
       "                white-space: pre-wrap;\n",
       "            }\n",
       "        </style>\n",
       "\n",
       "        <div style=\"border:1px solid grey;padding:5px;border-radius:8px;\">\n",
       "            <div>ID: ID &nbsp Q: 74</div>\n",
       "            <h5 style=\"font-weight: bold;\">Quelles sont les différences entre violence physique et violence psychologique en termes de sanctions et de gravité ?</h5>\n",
       "            <div style=\"display:flex; align-items:top;\"><div style=\"width: 50%; padding:10px;\"> <div style=\"text-align:center;color:blue;\">prompt</div> <pre class=\"qq\">Utilisez les éléments de contexte à votre disposition ci-dessous pour répondre à la question finale. Si vous ne connaissez pas la réponse, dites simplement que vous ne savez pas, n'essayez pas d'inventer une réponse.\n",
       "\n",
       "https://www.service-public.fr/particuliers/vosdroits/F1524 : Coups et blessures (Blessures volontaires > Qu'appelle-t-on coups et blessures volontaires ?)\n",
       "Les blessures volontaires encore appelées coups et blessures volontaires sont des violences infligées de manière intentionnelle à une personne. Cela veut dire que l'auteur des coups a délibérément cherché à blesser sa victime, même si l'acte n'est pas prémédité. Les violences peuvent être physiques (coup de poing, de pied...) ou psychologiques (menaces, harcèlement...). Les violences psychologiques sont sanctionnées de la même manière que les violences physiques. \n",
       "\n",
       "https://www.service-public.fr/particuliers/vosdroits/F1524 : Coups et blessures (Blessures volontaires > Quelles sont les peines applicables aux auteurs de violence volontaire ?)\n",
       "Les peines applicables aux auteurs de violence volontaire varient suivant que vous êtes mineur ou majeur. \n",
       "\n",
       "https://www.service-public.fr/particuliers/vosdroits/F1524 : \n",
       "Vous avez été frappé intentionnellement ou blessé accidentellement par une personne ? Vous pouvez porter plainte pour que l'auteur des violences soit sanctionné sur le plan pénal et sur le plan civil. La sanction pénale est une amende ou une peine d'emprisonnement, alors que la sanction civile est une obligation de réparer le préjudice. L'importance des sanctions dépend du caractère volontaire ou involontaire des actes, de la gravité des blessures, de l'âge et de la personnalité de la victime. Voici une liste de différents cas possibles:\n",
       "- Qu'appelle-t-on coups et blessures volontaires ? - Comment porter plainte en cas de blessures volontaires ? - Comment se déroule la procédure ? - Comment la victime est-elle indemnisée ? - Quelles sont les peines applicables aux auteurs de violence volontaire ? - Qu'appelle-t-on blessures involontaires ? - Comment porter plainte en cas de blessures involontaires ? - Quelles sont les peines applicables ? \n",
       "\n",
       "https://www.service-public.fr/particuliers/vosdroits/F1524 : Coups et blessures (Blessures volontaires > Comment porter plainte en cas de blessures volontaires ?)\n",
       "Si vous êtes victime de violences volontaires, vous pouvez porter plainte pour demander que l'auteur des faits soit condamné pénalement (amende ou peine de prison). \n",
       "\n",
       "Question : Quelles sont les différences entre violence physique et violence psychologique en termes de sanctions et de gravité ?</pre></div><div style=\"width: 50%; padding:10px;\"> <div style=\"text-align:center;color:blue;\">answer</div> <pre class=\"qq\">D'après les éléments de contexte fournis, il n'est pas spécifiquement mentionné les différences entre violence physique et violence psychologique en termes de sanctions et de gravité.</pre></div></div></div>"
      ],
      "text/plain": [
       "<IPython.core.display.HTML object>"
      ]
     },
     "metadata": {},
     "output_type": "display_data"
    },
    {
     "data": {
      "text/html": [
       "<br>"
      ],
      "text/plain": [
       "<IPython.core.display.HTML object>"
      ]
     },
     "metadata": {},
     "output_type": "display_data"
    },
    {
     "data": {
      "text/html": [
       "\n",
       "        <style>\n",
       "            .qq {\n",
       "                word-break: keep-all;\n",
       "                white-space: pre-wrap;\n",
       "            }\n",
       "        </style>\n",
       "\n",
       "        <div style=\"border:1px solid grey;padding:5px;border-radius:8px;\">\n",
       "            <div>ID: ID &nbsp Q: 75</div>\n",
       "            <h5 style=\"font-weight: bold;\">Où puis-je acheter un timbre fiscal électronique en ligne ?</h5>\n",
       "            <div style=\"display:flex; align-items:top;\"><div style=\"width: 50%; padding:10px;\"> <div style=\"text-align:center;color:blue;\">prompt</div> <pre class=\"qq\">Utilisez les éléments de contexte à votre disposition ci-dessous pour répondre à la question finale. Si vous ne connaissez pas la réponse, dites simplement que vous ne savez pas, n'essayez pas d'inventer une réponse.\n",
       "\n",
       "https://www.service-public.fr/particuliers/vosdroits/F33227 : Appel d'un jugement : comment acheter un timbre fiscal ? (En bureau de tabac)\n",
       "Vous pouvez acheter un timbre fiscal électronique auprès d'un bureau de tabac, si le commerce est équipé pour pouvoir le délivrer. (À savoir: le timbre fiscal est obligatoire dans les cas où vous devez être représenté par un avocat pour faire appel en matière civile . Le timbre coûte 225 € .) Le timbre est valable pendant 6 mois à compter de sa date d'achat. Le timbre est remboursable pendant 1 an à compter de cette date. La demande se fait en ligne : \n",
       "\n",
       "https://www.service-public.fr/particuliers/vosdroits/F33227 : Appel d'un jugement : comment acheter un timbre fiscal ? (En ligne)\n",
       "Vous pouvez acheter le timbre fiscal électronique en ligne. Le paiement se fait par carte bancaire. Le timbre électronique peut être délivré sur 2 supports :\n",
       "- Un document PDF avec un code 2D qui peut également être scanné directement depuis un téléphone ou une tablette par le service chargé de recevoir votre demande\n",
       "- Un SMS contenant l'identifiant à 16 chiffres du timbre qui sera accepté par l'agent chargé de traiter votre dossier\n",
       "(À savoir: le timbre fiscal est obligatoire dans les cas où vous devez être représenté par un avocat pour faire appel en matière civile . Le timbre coûte 225 € .) Le timbre est valable pendant 6 mois à compter de sa date d'achat. Il est remboursable pendant 1 an à compter de cette date. \n",
       "\n",
       "https://www.service-public.fr/particuliers/vosdroits/F33227 : \n",
       "Si vous faites appel d'un jugement, vous devrez souvent payer une contribution via l'apposition d'un timbre fiscal sur la requête. Vous devez aussi acheter ce timbre si vous êtes l'adversaire (qu'on appelle également intimé ). Le timbre fiscal est vendu uniquement sous la forme électronique. Vous pouvez acheter le timbre fiscal électronique en ligne ou auprès des bureaux de tabac équipés pour le vendre. \n",
       "\n",
       "https://www.service-public.fr/particuliers/vosdroits/F21258 : Passeport : comment acheter un timbre fiscal ? (En France)\n",
       "Depuis 2019, le timbre fiscal est fourni uniquement sous la forme électronique. Il peut être acheté en ligne sur internet ou dans un bureau de tabac. Cas En ligne: Cas 1er cas : vous allez faire une pré-demande sur le site de l'ANTS: Vous pouvez acheter le timbre fiscal à la fin de la procédure. Cas 2e cas : Vous allez utiliser le formulaire cartonné qui vous sera remis au guichet: Vous devez acheter le timbre fiscal sur le site timbres.impots.gouv.fr. Cas Dans un bureau de tabac: Vous pouvez acheter un timbre fiscal électronique dans un bureau de tabac s'il est équipé de l'application Point de vente agréé. Le timbre électronique est valable 1 an à partir de sa date d'achat. Pour éviter qu'il ne soit plus valide au moment du dépôt de votre demande, attendez d'avoir fini de préparer votre dossier avant de l'acheter. Vous pouvez demander en ligne son remboursement dans les 18 mois qui suivent son achat : \n",
       "\n",
       "Question : Où puis-je acheter un timbre fiscal électronique en ligne ?</pre></div><div style=\"width: 50%; padding:10px;\"> <div style=\"text-align:center;color:blue;\">answer</div> <pre class=\"qq\">Vous pouvez acheter un timbre fiscal électronique en ligne sur le site timbres.impots.gouv.fr.</pre></div></div></div>"
      ],
      "text/plain": [
       "<IPython.core.display.HTML object>"
      ]
     },
     "metadata": {},
     "output_type": "display_data"
    },
    {
     "data": {
      "text/html": [
       "<br>"
      ],
      "text/plain": [
       "<IPython.core.display.HTML object>"
      ]
     },
     "metadata": {},
     "output_type": "display_data"
    },
    {
     "data": {
      "text/html": [
       "\n",
       "        <style>\n",
       "            .qq {\n",
       "                word-break: keep-all;\n",
       "                white-space: pre-wrap;\n",
       "            }\n",
       "        </style>\n",
       "\n",
       "        <div style=\"border:1px solid grey;padding:5px;border-radius:8px;\">\n",
       "            <div>ID: ID &nbsp Q: 76</div>\n",
       "            <h5 style=\"font-weight: bold;\">Quels sont les critères pour qu'une commune soit classée en zone tendue et quels avantages fiscaux cela peut-il entraîner pour les propriétaires de logements non meublés ?</h5>\n",
       "            <div style=\"display:flex; align-items:top;\"><div style=\"width: 50%; padding:10px;\"> <div style=\"text-align:center;color:blue;\">prompt</div> <pre class=\"qq\">Utilisez les éléments de contexte à votre disposition ci-dessous pour répondre à la question finale. Si vous ne connaissez pas la réponse, dites simplement que vous ne savez pas, n'essayez pas d'inventer une réponse.\n",
       "\n",
       "https://www.service-public.fr/particuliers/vosdroits/F1314 : En quoi consiste l'encadrement des loyers à respecter en zone tendue ? (Est Ensemble)\n",
       "Sur le territoire d'Est Ensemble, le loyer d'un logement dont le bail est signé ou renouvelé depuis le 1 er décembre 2021 est encadré par des loyers de référence minoré et majoré. Ces montants varient selon le type de la location (vide ou meublée), le nombre de pièces et l'époque de construction du logement. (À savoir: Certains logements ne sont pas concernés par l'encadrement des loyers, car ils sont soumis à d'autres règles. Il s'agit des logements soumis à la loi de 1948 ou conventionnés par l'Anah (hors conventions à loyer intermédiaire) , des logements sociaux (HLM) , des meublés de tourisme et des sous-locations.) \n",
       "\n",
       "https://www.service-public.fr/particuliers/vosdroits/F1314 : En quoi consiste l'encadrement des loyers à respecter en zone tendue ? (Plaine commune)\n",
       "Dans les villes de Plaine commune, le loyer d'un logement dont le bail est signé ou renouvelé depuis le 1 er juin 2021 est encadré par des loyers de référence minoré et majoré. Ces montants varient selon le type de la location (vide ou meublée), le nombre de pièces et l'époque de construction du logement. (À savoir: Certains logements ne sont pas concernés par l'encadrement des loyers, car ils sont soumis à d'autres règles. Il s'agit des logements soumis à la loi de 1948 ou conventionnés par l'Anah (hors conventions à loyer intermédiaire) , des logements sociaux (HLM) , des meublés de tourisme et des sous-locations.) \n",
       "\n",
       "https://www.service-public.fr/particuliers/vosdroits/F1314 : En quoi consiste l'encadrement des loyers à respecter en zone tendue ? (Commune en zone tendue)\n",
       "(À savoir: Certains logements ne sont pas concernés par l'encadrement des loyers, car ils sont soumis à d'autres règles. Il s'agit des logements soumis à la loi de 1948 ou conventionnés par l'Anah (hors conventions à loyer intermédiaire) , des logements sociaux (HLM) , des meublés de tourisme et des sous-locations.) \n",
       "\n",
       "https://www.service-public.fr/particuliers/vosdroits/F1312 : \n",
       "Lorsque le loyer est sous-évalué par rapport aux prix du marché, le propriétaire du logement peut l'augmenter au moment du renouvellement du bail, sous certaines conditions. Les démarches à réaliser diffèrent selon que la commune est ou non située en zone tendue . (Attention: Dans certaines communes s'appliquent des règles spécifiques, qui ne sont pas présentées ici. Il s'agit de Paris , Lille, Hellemmes et Lomme , Lyon et Villeurbanne , Montpellier , Bordeaux et des communes composant Plaine commune et Est Ensemble)\n",
       "Pour savoir si votre commune est ou non dans une zone tendue : (À savoir: Certains logements ne sont pas concernés par l'encadrement des loyers, car ils sont soumis à d'autres règles. Il s'agit des logements soumis à la loi de 1948 ou conventionnés par l'Anah (hors conventions à loyer intermédiaire) , des logements sociaux (HLM) , des meublés de tourisme et des sous-locations.) Voici une liste de différents cas possibles:\n",
       "- Condition\n",
       "- Démarche du propriétaire\n",
       "- Réponse du locataire\n",
       "- Recours en cas de refus\n",
       "- Recours \n",
       "\n",
       "Question : Quels sont les critères pour qu'une commune soit classée en zone tendue et quels avantages fiscaux cela peut-il entraîner pour les propriétaires de logements non meublés ?</pre></div><div style=\"width: 50%; padding:10px;\"> <div style=\"text-align:center;color:blue;\">answer</div> <pre class=\"qq\">Les éléments de contexte ne fournissent pas d'informations spécifiques sur les critères pour qu'une commune soit classée en zone tendue ni sur les avantages fiscaux pour les propriétaires de logements non meublés.</pre></div></div></div>"
      ],
      "text/plain": [
       "<IPython.core.display.HTML object>"
      ]
     },
     "metadata": {},
     "output_type": "display_data"
    },
    {
     "data": {
      "text/html": [
       "<br>"
      ],
      "text/plain": [
       "<IPython.core.display.HTML object>"
      ]
     },
     "metadata": {},
     "output_type": "display_data"
    },
    {
     "data": {
      "text/html": [
       "\n",
       "        <style>\n",
       "            .qq {\n",
       "                word-break: keep-all;\n",
       "                white-space: pre-wrap;\n",
       "            }\n",
       "        </style>\n",
       "\n",
       "        <div style=\"border:1px solid grey;padding:5px;border-radius:8px;\">\n",
       "            <div>ID: ID &nbsp Q: 77</div>\n",
       "            <h5 style=\"font-weight: bold;\">Quelles sont les conséquences légales de la caution pour un contrat ?</h5>\n",
       "            <div style=\"display:flex; align-items:top;\"><div style=\"width: 50%; padding:10px;\"> <div style=\"text-align:center;color:blue;\">prompt</div> <pre class=\"qq\">Utilisez les éléments de contexte à votre disposition ci-dessous pour répondre à la question finale. Si vous ne connaissez pas la réponse, dites simplement que vous ne savez pas, n'essayez pas d'inventer une réponse.\n",
       "\n",
       "https://www.service-public.fr/particuliers/vosdroits/F16124 : Faut-il avoir une caution pour obtenir un crédit à la consommation ? (Qui peut être caution ?)\n",
       "Toute personne physique peut se porter caution, même si elle n'a pas de lien de parenté avec l'emprunteur. Une personne morale (société spécialisée, mutuelle de santé...) peut aussi se porter caution. Cependant, il n'est pas possible de se porter caution pour un emprunteur qui n'a pas la capacité juridique (mineur ou majeur protégé par exemple). \n",
       "\n",
       "https://www.service-public.fr/particuliers/vosdroits/F1026 : \n",
       "Si vous êtes lié par un Pacs , vous avez des droits et des obligations. Le Pacs a des effets sur les certaines aides sociales, sur vos biens, votre logement et vos impôts. En revanche, il n'a pas effet sur votre nom, ni sur le lien avec vos enfants. Voici une liste de différents cas possibles:\n",
       "- Droits et obligations des partenaires\n",
       "- Dettes, emprunts et achats à crédit\n",
       "- Aides et prestations sociales\n",
       "- Avantages liés au travail\n",
       "- Droit au séjour du partenaire étranger\n",
       "- Salaires, épargne et autres biens mobiliers\n",
       "- Logement\n",
       "- Impôts\n",
       "- Enfants\n",
       "- Décès d'un partenaire \n",
       "\n",
       "https://www.service-public.fr/particuliers/vosdroits/F34661 : Colocation : quelles sont les règles ? (Bail unique > Caution)\n",
       "Pour se protéger du risque d'impayé, le propriétaire peut exiger une caution. Une caution est une personne (ou un organisme) qui s'engage par écrit ( acte de cautionnement ) à payer le loyer et les charges au propriétaire en cas d'impayés. Le propriétaire peut choisir l'une des options suivantes :\n",
       "- Chaque colocataire se dote d'une caution. L'acte de cautionnement doit indiquer le colocataire qui a la garantie de la caution. La portée de l'engagement de la caution varie selon qu'une clause de solidarité est ou non incluse dans le bal. - Une caution s'engage pour plusieurs colocataires. L'acte de cautionnement doit indiquer le colocataire dont le départ du logement mettra fin à l'engagement de la caution. \n",
       "\n",
       "https://www.service-public.fr/particuliers/vosdroits/F31267 : Caution du locataire (ou colocataire) dans un logement privé (Colocation (bail unique))\n",
       "La colocation peut prendre la forme d'un bail unique (chacun des colocataires signe le même bail, qui est commun à tous). Dans la plupart des cas, ce bail unique contient une clause de solidarité (ou une clause d'indivisibilité de la dette de loyer) entre les colocataires. La présence de cette clause a un impact sur les cautions, qui se retrouvent indirectement solidaires entre elles. La location exclusive d'un logement à un couple marié ou pacsé n'est pas une colocation. \n",
       "\n",
       "Question : Quelles sont les conséquences légales de la caution pour un contrat ?</pre></div><div style=\"width: 50%; padding:10px;\"> <div style=\"text-align:center;color:blue;\">answer</div> <pre class=\"qq\">Les conséquences légales de la caution pour un contrat peuvent varier en fonction du type de contrat concerné. Dans le cas d'un crédit à la consommation, la caution s'engage à rembourser le prêt en cas de défaillance de l'emprunteur. Si l'emprunteur ne rembourse pas le prêt, le créancier peut se tourner vers la caution pour obtenir le remboursement de la dette.\n",
       "\n",
       "Dans le cadre d'un bail de colocation, la caution s'engage à payer le loyer et les charges en cas d'impayés des colocataires. Si l'un des colocataires ne paie pas sa part de loyer, le propriétaire peut se tourner vers la caution pour obtenir le paiement des sommes dues.\n",
       "\n",
       "Il est important de noter que la caution peut être engagée de manière solidaire avec les autres colocataires si le bail contient une clause de solidarité. Cela signifie que la caution peut être tenue de payer la totalité des sommes dues, même si elle n'a pas directement bénéficié du logement.\n",
       "\n",
       "En résumé, la caution s'engage à payer les dettes ou les impayés en cas de défaillance de l'emprunteur ou des colocataires. Les conséquences légales de la caution peuvent donc être l'obligation de rembourser la dette ou de payer les sommes dues.</pre></div></div></div>"
      ],
      "text/plain": [
       "<IPython.core.display.HTML object>"
      ]
     },
     "metadata": {},
     "output_type": "display_data"
    },
    {
     "data": {
      "text/html": [
       "<br>"
      ],
      "text/plain": [
       "<IPython.core.display.HTML object>"
      ]
     },
     "metadata": {},
     "output_type": "display_data"
    },
    {
     "data": {
      "text/html": [
       "\n",
       "        <style>\n",
       "            .qq {\n",
       "                word-break: keep-all;\n",
       "                white-space: pre-wrap;\n",
       "            }\n",
       "        </style>\n",
       "\n",
       "        <div style=\"border:1px solid grey;padding:5px;border-radius:8px;\">\n",
       "            <div>ID: ID &nbsp Q: 78</div>\n",
       "            <h5 style=\"font-weight: bold;\">Quels sont les critères pris en compte par l'État pour fournir une information personnalisée aux particuliers dans le cadre de leurs besoins spécifiques ?</h5>\n",
       "            <div style=\"display:flex; align-items:top;\"><div style=\"width: 50%; padding:10px;\"> <div style=\"text-align:center;color:blue;\">prompt</div> <pre class=\"qq\">Utilisez les éléments de contexte à votre disposition ci-dessous pour répondre à la question finale. Si vous ne connaissez pas la réponse, dites simplement que vous ne savez pas, n'essayez pas d'inventer une réponse.\n",
       "\n",
       "https://www.service-public.fr/particuliers/vosdroits/F17180 : \n",
       "En tant que patient, avez-vous le droit d'obtenir des informations sur votre état de santé ? Oui, mais l'accès à l'information varie selon que vous soyez majeur ou mineur. Ces informations peuvent être délivrées avant, pendant et après les soins. Nous vous présentons la réglementation à connaître. Voici une liste de différents cas possibles:\n",
       "- Quelles informations liées à votre état de santé doivent vous être données ? - Qui peut demander ces informations liées à l'état de santé ? - Comment accéder aux informations liées à votre état de santé ? - Dans quel cadre s'effectue cette information liée à l'état de santé ? - Pouvez-vous refuser d'avoir des informations sur votre état de santé ? - Qui doit apporter la preuve que les informations vous ont bien été délivrées ? \n",
       "\n",
       "https://www.service-public.fr/particuliers/vosdroits/F34830 : \n",
       "Vous vous demandez quelles personnes sont inscrites au fichier des personnes recherchées (FPR) ? Vous voulez savoir quelles informations sont enregistrées et qui peut les consulter ? Nous vous indiquons les règles à connaître sur le fonctionnement du FPR. Voici une liste de différents cas possibles:\n",
       "- À quoi sert le FPR ? - Qui est inscrit au FPR ? - Quelles sont les données enregistrées ? - Qui a le droit de consulter le FPR ? - Combien de temps sont conservées les données ? - Comment demander la communication/rectification de ses données ? \n",
       "\n",
       "https://www.service-public.fr/particuliers/vosdroits/F2024 : \n",
       "Différents organismes utilisent vos données personnelles : administration, entreprise, réseau social, site internet, association... Vous avez le droit d'être informé et de contrôler la manière dont vos données sont utilisées. Par exemple, vous pouvez obtenir et rectifier les informations qu'un organisme détient sur vous, ou vous opposer à figurer dans un fichier. En cas de difficultés, vous pouvez faire une réclamation auprès de la Cnil . Voici une liste de différents cas possibles:\n",
       "- Quelles informations doit-on vous communiquer ? - À quoi sert le droit d'accès ? - Comment faire corriger ses données ? - Comment supprimer ses données en ligne ? - Qu'est-ce que le droit au déférencement ? - Peut-on s'opposer au traitement de ses données ? - Qu'est-ce que le profilage ? - Qu'est-ce que la portabilité des données ? \n",
       "\n",
       "https://www.service-public.fr/particuliers/vosdroits/F34158 : \n",
       "Avez- vous droit de prendre un congé spécifique en cas d'annonce d'un handicap, d'une pathologie chronique ou d'un cancer de votre enfant ? Quelles sont les conditions pour pouvoir bénéficier de ce congé ? Quelle est la durée du congé ? Nous vous présentons les informations à connaître sur le congé pour l'annonce du handicap ou d'une pathologie chronique d'un enfant. Voici une liste de différents cas possibles:\n",
       "- Qui a droit au congé pour l'annonce du handicap ou d'une pathologie de son enfant ? - Quelles sont les pathologies chroniques ouvrant droit au congé pour l'annonce du handicap ou d'une pathologie de son enfant ? - Quelle sont les démarches à effectuer en cas de l'annonce du handicap ou d'une pathologie de son enfant ? - Quelles est la durée du congé pour l'annonce du handicap ou d'une pathologie de votre enfant ? - Quand devez-vous prendre le congé pour l'annonce du handicap ou d'une pathologie de votre enfant ? - Est-on rémunéré pendant le congé pour l'annonce du handicap ou d'une pathologie de son enfant ? \n",
       "\n",
       "Question : Quels sont les critères pris en compte par l'État pour fournir une information personnalisée aux particuliers dans le cadre de leurs besoins spécifiques ?</pre></div><div style=\"width: 50%; padding:10px;\"> <div style=\"text-align:center;color:blue;\">answer</div> <pre class=\"qq\">Les éléments de contexte fournis ne permettent pas de répondre à la question finale.</pre></div></div></div>"
      ],
      "text/plain": [
       "<IPython.core.display.HTML object>"
      ]
     },
     "metadata": {},
     "output_type": "display_data"
    },
    {
     "data": {
      "text/html": [
       "<br>"
      ],
      "text/plain": [
       "<IPython.core.display.HTML object>"
      ]
     },
     "metadata": {},
     "output_type": "display_data"
    },
    {
     "data": {
      "text/html": [
       "\n",
       "        <style>\n",
       "            .qq {\n",
       "                word-break: keep-all;\n",
       "                white-space: pre-wrap;\n",
       "            }\n",
       "        </style>\n",
       "\n",
       "        <div style=\"border:1px solid grey;padding:5px;border-radius:8px;\">\n",
       "            <div>ID: ID &nbsp Q: 79</div>\n",
       "            <h5 style=\"font-weight: bold;\">Qu'est-ce qu'un espace de rencontre et comment peut-il être utilisé dans le cadre d'un conflit parental ?</h5>\n",
       "            <div style=\"display:flex; align-items:top;\"><div style=\"width: 50%; padding:10px;\"> <div style=\"text-align:center;color:blue;\">prompt</div> <pre class=\"qq\">Utilisez les éléments de contexte à votre disposition ci-dessous pour répondre à la question finale. Si vous ne connaissez pas la réponse, dites simplement que vous ne savez pas, n'essayez pas d'inventer une réponse.\n",
       "\n",
       "https://www.service-public.fr/particuliers/vosdroits/F34355 : Qu'est-ce que la médiation familiale ? (À votre demande > Qu'est-ce que la médiation familiale ?)\n",
       "La médiation familiale est un temps d'écoute, d'échanges et de négociation dans les conflits familiaux. Elle a pour finalité d'apaiser les tensions et de restaurer un lien familial fragilisé (enfants, parents, grands-parents, héritiers..). Un tiers professionnel qualifié, le médiateur familial, accompagne les familles. Il favorise la reprise du dialogue pour que les parties trouvent elles-mêmes un accord. \n",
       "\n",
       "https://www.service-public.fr/particuliers/vosdroits/F34355 : Qu'est-ce que la médiation familiale ? (Par le juge > Qu'est-ce que la médiation familiale ?)\n",
       "La médiation familiale est un temps d'écoute, d'échanges et de négociation dans les conflits familiaux. Elle a pour finalité d'apaiser les tensions et de restaurer un lien familial fragilisé (enfants, parents, grands-parents, héritiers..). Un tiers professionnel qualifié, le médiateur familial, accompagne les familles. Il favorise la reprise du dialogue pour que les parties trouvent elles-mêmes un accord. La médiation ne dessaisit pas le juge. Il peut prendre à tout moment d'autres mesures qui lui paraissent nécessaires (enquête sociale, expertise psychologique). Il peut aussi modifier les conditions d'exercice de l'autorité parentale. \n",
       "\n",
       "https://www.service-public.fr/particuliers/vosdroits/F34355 : Qu'est-ce que la médiation familiale ? (Par le juge > Qui est concerné par la médiation familiale ?)\n",
       "La médiation familiale peut vous accompagner et vous permettre de régler un conflit. Elle s'adresse aux personnes suivantes :\n",
       "- Parent en situation de rupture, séparation, divorce\n",
       "- Grand-parent souhaitant garder des liens avec leurs petits-enfants. - Personne souhaitant garder des liens avec les enfants de son ex-conjoint (époux, épouse, partenaire de Pacs , concubin). - Jeune adulte en rupture de lien ou de communication avec sa famille\n",
       "- Héritier\n",
       "(À noter: la médiation ne peut commencer que si vous êtes tous présents et avez donné votre accord.) Vous ne pouvez pas utiliser la médiation familiale si vous subissez des violences. Elle est interdite en cas de violences conjugales commise au sein du couple ou sur un enfant. (À savoir: vous pouvez être dispensé de médiation lorsque vous demandez l'homologation d'une convention ou si vous avez un motif légitime (éloignement géographique, maladie..).) \n",
       "\n",
       "https://www.service-public.fr/particuliers/vosdroits/F34355 : \n",
       "Vous avez un différend familial (séparation, divorce, autorité parentale..), vous êtes en rupture de liens avec votre famille, vous avez un conflit successoral ? La médiation familiale peut vous aider. Elle se met en place avec votre accord et celui de toutes les parties afin de rétablir la communication et de rechercher une solution amiable à votre litige. Elle peut aussi être décidée par le juge. Par contre, la médiation familiale n'est pas possible si des violences ont été commises. Voici une liste de différents cas possibles:\n",
       "- Qu'est-ce que la médiation familiale ? - Qui est concerné par la médiation familiale ? - Qui est le médiateur familial ? - Où trouver un médiateur familial ? - Comment se déroule la médiation ? - Quel est le coût de la médiation familiale ? - Comment se déroule la procédure ? \n",
       "\n",
       "Question : Qu'est-ce qu'un espace de rencontre et comment peut-il être utilisé dans le cadre d'un conflit parental ?</pre></div><div style=\"width: 50%; padding:10px;\"> <div style=\"text-align:center;color:blue;\">answer</div> <pre class=\"qq\">D'après les éléments de contexte fournis, il n'est pas possible de trouver une réponse à la question posée.</pre></div></div></div>"
      ],
      "text/plain": [
       "<IPython.core.display.HTML object>"
      ]
     },
     "metadata": {},
     "output_type": "display_data"
    },
    {
     "data": {
      "text/html": [
       "<br>"
      ],
      "text/plain": [
       "<IPython.core.display.HTML object>"
      ]
     },
     "metadata": {},
     "output_type": "display_data"
    },
    {
     "data": {
      "text/html": [
       "\n",
       "        <style>\n",
       "            .qq {\n",
       "                word-break: keep-all;\n",
       "                white-space: pre-wrap;\n",
       "            }\n",
       "        </style>\n",
       "\n",
       "        <div style=\"border:1px solid grey;padding:5px;border-radius:8px;\">\n",
       "            <div>ID: ID &nbsp Q: 80</div>\n",
       "            <h5 style=\"font-weight: bold;\">Quelles sont les démarches à suivre pour contester une sanction disciplinaire prise à l'encontre d'un élève ?</h5>\n",
       "            <div style=\"display:flex; align-items:top;\"><div style=\"width: 50%; padding:10px;\"> <div style=\"text-align:center;color:blue;\">prompt</div> <pre class=\"qq\">Utilisez les éléments de contexte à votre disposition ci-dessous pour répondre à la question finale. Si vous ne connaissez pas la réponse, dites simplement que vous ne savez pas, n'essayez pas d'inventer une réponse.\n",
       "\n",
       "https://www.service-public.fr/particuliers/vosdroits/F1396 : Discipline au collège ou au lycée (Décision du chef d'établissement > Comment contester la sanction prise par le chef d'établissement ?)\n",
       "Il existe 2 types de recours : le recours administratif et le recours contentieux. \n",
       "\n",
       "https://www.service-public.fr/particuliers/vosdroits/F1396 : \n",
       "Votre enfant est victime ou auteur de violences ou d'un acte grave dans son collège ou lycée ? Le chef d'établissement engage alors une procédure disciplinaire. Il peut décider lui-même de sanctionner l'élève. Il doit saisir obligatoirement le conseil de discipline de l'établissement lorsqu'un membre du personnel est victime de violences physiques. En cas d'atteinte grave aux personnes ou aux biens, aux valeurs de la République et notamment au principe de laïcité, il peut saisir le conseil de discipline départemental. Nous vous présentons les informations à connaître. Voici une liste de différents cas possibles:\n",
       "- Comment le chef d'établissement décide t-il d'engager une procédure disciplinaire ? - Le chef d'établissement peut-il prendre des mesures contre l'élève avant de prononcer la sanction ? - Comment se déroule la procédure disciplinaire devant le chef d'établissement ? - Quelles sanctions peuvent être prises par le chef d'établissement ? - Comment contester la sanction prise par le chef d'établissement ? - Qui est membre du conseil de discipline ? - Comment le conseil de discipline est-il convoqué ? - Le chef d'établissement peut-il prendre des mesures contre l'élève avant la réunion du conseil de discipline ? - Comment se déroule la procédure disciplinaire ? - Quelles sanctions peuvent-être prises par le conseil ? - Comment contester la sanction prise par le conseil ? - Qui est membre du conseil de discipline départemental ? - Comment le conseil de discipline départemental est-il convoqué ? - Le chef d'établissement peut-il prendre des mesures contre l'élève avant la réunion du conseil de discipline départemental ? \n",
       "\n",
       "https://www.service-public.fr/particuliers/vosdroits/F1396 : Discipline au collège ou au lycée (Décision du chef d'établissement > Comment contester la sanction prise par le chef d'établissement ? > Recours contentieux)\n",
       "Votre enfant, ou vous-même s'il est mineur, pouvez faire un recours contentieux contre la sanction prononcée par le chef d'établissement. Ce recours doit être déposé au tribunal administratif du lieu de l'établissement scolaire dans un délai de 2 mois après la notification de la sanction. Vous pouvez également faire un recours contentieux contre une décision de rejet prononcée après un recours administratif dans un délai de 2 mois après la notification de la décision de rejet. \n",
       "\n",
       "https://www.service-public.fr/particuliers/vosdroits/F1396 : Discipline au collège ou au lycée (Décision du chef d'établissement > Comment contester la sanction prise par le chef d'établissement ? > Recours administratif)\n",
       "Votre enfant, ou vous-même s'il est mineur, pouvez faire un recours administratif contre la décision du chef d'établissement dans un délai de 2 mois après la notification de la décision. Ce recours peut être présenté au chef d'établissement (recours gracieux) ou à l'autorité académique (recours hiérarchique). \n",
       "\n",
       "Question : Quelles sont les démarches à suivre pour contester une sanction disciplinaire prise à l'encontre d'un élève ?</pre></div><div style=\"width: 50%; padding:10px;\"> <div style=\"text-align:center;color:blue;\">answer</div> <pre class=\"qq\">Pour contester une sanction disciplinaire prise à l'encontre d'un élève, les démarches à suivre sont les suivantes :\n",
       "\n",
       "1. Faire un recours administratif : Dans un délai de 2 mois après la notification de la décision, l'élève ou son représentant légal peut présenter un recours administratif. Ce recours peut être adressé soit au chef d'établissement (recours gracieux), soit à l'autorité académique (recours hiérarchique).\n",
       "\n",
       "2. Faire un recours contentieux : Si le recours administratif est rejeté ou en cas de décision de rejet après un recours administratif, l'élève ou son représentant légal peut faire un recours contentieux. Ce recours doit être déposé au tribunal administratif du lieu de l'établissement scolaire dans un délai de 2 mois après la notification de la sanction.\n",
       "\n",
       "Il est important de noter que ces démarches sont valables uniquement si l'élève est mineur.</pre></div></div></div>"
      ],
      "text/plain": [
       "<IPython.core.display.HTML object>"
      ]
     },
     "metadata": {},
     "output_type": "display_data"
    },
    {
     "data": {
      "text/html": [
       "<br>"
      ],
      "text/plain": [
       "<IPython.core.display.HTML object>"
      ]
     },
     "metadata": {},
     "output_type": "display_data"
    },
    {
     "data": {
      "text/html": [
       "\n",
       "        <style>\n",
       "            .qq {\n",
       "                word-break: keep-all;\n",
       "                white-space: pre-wrap;\n",
       "            }\n",
       "        </style>\n",
       "\n",
       "        <div style=\"border:1px solid grey;padding:5px;border-radius:8px;\">\n",
       "            <div>ID: ID &nbsp Q: 81</div>\n",
       "            <h5 style=\"font-weight: bold;\">Quels sont les éléments obligatoires à mentionner dans une annonce immobilière en tant qu'agent immobilier ?</h5>\n",
       "            <div style=\"display:flex; align-items:top;\"><div style=\"width: 50%; padding:10px;\"> <div style=\"text-align:center;color:blue;\">prompt</div> <pre class=\"qq\">Utilisez les éléments de contexte à votre disposition ci-dessous pour répondre à la question finale. Si vous ne connaissez pas la réponse, dites simplement que vous ne savez pas, n'essayez pas d'inventer une réponse.\n",
       "\n",
       "https://www.service-public.fr/particuliers/vosdroits/F32061 : \n",
       "Vous souhaitez acheter un logement, vous consultez les annonces immobilières et vous voulez connaître les informations qui doivent y apparaitre ? Nous faisons un point sur la réglementation. Quel que soit le type de logement que vous recherchez, le contenu de l'annonce immobilière est identique. Cependant, pour un bien situé en copropriété, l'annonce est complétée par des informations concernant la copropriété. Voici une liste de différents cas possibles:\n",
       "- Quelles informations sur le bien vendu doivent figurer dans l'annonce ? - Comment doit être indiqué le prix de vente dans l'annonce ? - Faut-il afficher le diagnostic de performance énergétique dans l'annonce ? - Comment le consommateur est-il informé des risques naturels et technologiques majeurs ? - Quels renseignements sur l'agence doivent figurer sur l'annonce ? \n",
       "\n",
       "https://www.service-public.fr/particuliers/vosdroits/F32061 : Vente immobilière : que doit indiquer l'annonce de l'agent immobilier ? (Cas général > Quelles informations sur le bien vendu doivent figurer dans l'annonce ?)\n",
       "L'annonce immobilière donne les caractéristiques principales du bien vendu :\n",
       "- Type de bien (appartement, loft, maison...)\n",
       "- Situation géographique\n",
       "- Superficie et composition\n",
       "- État du bien (travaux à prévoir, neuf, rénové...)\n",
       "La description doit être faite avec précision. Dans le cas contraire, l'annonce peut être qualifiée de trompeuse et induire en erreur les consommateurs. C'est un délit qui est puni de sanctions pénales. Avec l'autorisation du vendeur, une photographie accompagne le plus souvent les annonces. Il est recommandé de recueillir l'accord écrit de l'architecte ayant conçu le bâtiment et de faire paraître son nom au bas de la photographie. \n",
       "\n",
       "https://www.service-public.fr/particuliers/vosdroits/F2954 : \n",
       "Dans le cadre d'une vente immobilière, un agent immobilier doit remplir plusieurs obligations. Doit-il avoir un mandat du vendeur ? A-t-il un devoir de conseil ? Quelles informations doivent être précisées dans l'annonce immobilière ? Nous faisons un point sur la réglementation. Voici une liste de différents cas possibles:\n",
       "- L'agent immobilier doit-il avoir un mandat pour vendre un bien ? - Comment la clientèle est-elle informée sur le statut de l'agent immobilier ? - Le barème des prestations doit-il être affiché ? - Quelles informations doivent figurer sur l'annonce immobilière ? - L'agent immobilier a-t-il un devoir de conseil ? \n",
       "\n",
       "https://www.service-public.fr/particuliers/vosdroits/F32061 : Vente immobilière : que doit indiquer l'annonce de l'agent immobilier ? (Cas général > Quels renseignements sur l'agence doivent figurer sur l'annonce ?)\n",
       "L'annonce doit également comporter des renseignements sur l'agence immobilière :\n",
       "- Numéro SIREN (Système d'identification du répertoire des entreprises)\n",
       "- Mention de l'inscription de l'agent immobilier au guichet unique des formalités des entreprises \n",
       "\n",
       "Question : Quels sont les éléments obligatoires à mentionner dans une annonce immobilière en tant qu'agent immobilier ?</pre></div><div style=\"width: 50%; padding:10px;\"> <div style=\"text-align:center;color:blue;\">answer</div> <pre class=\"qq\">En tant qu'agent immobilier, les éléments obligatoires à mentionner dans une annonce immobilière sont les suivants :\n",
       "- Type de bien (appartement, loft, maison...)\n",
       "- Situation géographique\n",
       "- Superficie et composition\n",
       "- État du bien (travaux à prévoir, neuf, rénové...)\n",
       "- Numéro SIREN (Système d'identification du répertoire des entreprises)\n",
       "- Mention de l'inscription de l'agent immobilier au guichet unique des formalités des entreprises</pre></div></div></div>"
      ],
      "text/plain": [
       "<IPython.core.display.HTML object>"
      ]
     },
     "metadata": {},
     "output_type": "display_data"
    },
    {
     "data": {
      "text/html": [
       "<br>"
      ],
      "text/plain": [
       "<IPython.core.display.HTML object>"
      ]
     },
     "metadata": {},
     "output_type": "display_data"
    },
    {
     "data": {
      "text/html": [
       "\n",
       "        <style>\n",
       "            .qq {\n",
       "                word-break: keep-all;\n",
       "                white-space: pre-wrap;\n",
       "            }\n",
       "        </style>\n",
       "\n",
       "        <div style=\"border:1px solid grey;padding:5px;border-radius:8px;\">\n",
       "            <div>ID: ID &nbsp Q: 82</div>\n",
       "            <h5 style=\"font-weight: bold;\">Qu'est-ce que le plafonnement et comment fonctionne-t-il dans le système fiscal français?</h5>\n",
       "            <div style=\"display:flex; align-items:top;\"><div style=\"width: 50%; padding:10px;\"> <div style=\"text-align:center;color:blue;\">prompt</div> <pre class=\"qq\">Utilisez les éléments de contexte à votre disposition ci-dessous pour répondre à la question finale. Si vous ne connaissez pas la réponse, dites simplement que vous ne savez pas, n'essayez pas d'inventer une réponse.\n",
       "\n",
       "https://www.service-public.fr/particuliers/vosdroits/F34394 : \n",
       "Le compte d'épargne ou livret d'épargne est un compte bancaire destiné à conserver vos économies. Les sommes que vous déposez sur ce type de compte produisent des intérêts, mais vous pouvez retirer les sommes à tout moment. Les conditions d'ouverture et de fonctionnement du compte d'épargne ne sont pas réglementés. Les intérêts qu'il génère ne bénéficient d'aucun avantage fiscal. Voici une liste de différents cas possibles:\n",
       "- De quoi s'agit-il ? - Ouverture du compte\n",
       "- Plafond\n",
       "- Taux de rémunération (intérêt)\n",
       "- Fiscalité \n",
       "\n",
       "https://www.service-public.fr/particuliers/vosdroits/F31179 : \n",
       "Le plafonnement global des avantages fiscaux (niches fiscales) consiste à limiter le montant des avantages fiscaux dont vous pouvez bénéficier. Le plafonnement global des avantages fiscaux ( niches fiscales ) consiste à limiter le montant des avantages fiscaux dont vous pouvez bénéficier chaque année pour le calcul de l'impôt sur le revenu. Cas Cas général: Pour l'imposition 2023 de vos revenus de 2022, le total de vos avantages fiscaux ne peut pas vous procurer une diminution du montant de l'impôt dû supérieure à 10 000 € . (Exemple: Pour un foyer fiscal qui bénéficie d'un crédit d'impôt pour emploi à domicile de 6 000 € et d'une réduction d'impôt pour investissement locatif Pinel de 5 000 € . 6 000 € + 5 000 € = 11 000 € . Le montant dépasse la limite de plafonnement global. Votre avantage fiscal est donc limité à 10 000 € .) (À savoir: le plafonnement est le même pour tous les foyers fiscaux, que vous soyez seul ou en couple, avec ou sans personne à charge.) Les avantages fiscaux concernés peuvent prendre l'une des formes suivantes : \n",
       "- Déduction de votre revenu imposable\n",
       "- Réduction d'impôt\n",
       "- Crédit d'impôt\n",
       " Le plafonnement global s'applique aux avantages fiscaux accordés en contrepartie d'une prestation ou d'un investissement. Le plafonnement global ne s'applique pas aux avantages fiscaux suivants : \n",
       "- Avantages liés à votre situation personnelle\n",
       "- Avantages liés à la poursuite d'un objectif d'intérêt général sans contrepartie\n",
       " \n",
       "Plafonnement global selon les avantages fiscaux (liste non exhaustive)\n",
       "| Objet de l'avantage fiscal | Plafonnement global | \n",
       "| - | - | \n",
       "| Emploi d'un salarié à domicile | Oui | \n",
       "| Frais de garde des jeunes enfants | Oui | \n",
       "| Investissement locatif | Oui | \n",
       "| Investissement forestier | Oui | \n",
       "| Souscription au capital de SOFICA | Oui | \n",
       "| Souscription au capital de PME | Oui | \n",
       "| Investissement outre-mer | Oui | \n",
       "| Frais d'établissement pour personnes dépendantes | Non | \n",
       "| Dons aux organismes d'intérêt général | Non | \n",
       "| Effets du quotient familial | Non | \n",
       "| Frais de scolarité des enfants | Non | \n",
       "| Aide aux personnes âgées/handicapées | Non | \n",
       " (À noter: pour connaître la liste exhaustive des avantages fiscaux concernés par le plafonnement, vous pouvez consulter la brochure pratique de l'impôt sur le revenu . Ce document vous informe également sur l'application et le calcul du plafonnement.) Cas Investissement outre-mer: Pour l'imposition 2023 de vos revenus de 2022, si vous avez aussi réalisé des investissements en outre-mer, le total de vos avantages fiscaux ne peut pas vous procurer une diminution du montant de l'impôt dû supérieure à 18 000 € . (À savoir: le plafonnement est le même pour tous les foyers fiscaux, que vous soyez seul ou en couple, avec ou sans personne à charge.) Les avantages fiscaux concernés peuvent prendre l'une des formes suivantes : \n",
       "- Déduction de votre revenu imposable\n",
       "- Réduction d'impôt\n",
       "- Crédit d'impôt\n",
       " Le plafonnement global s'applique aux avantages fiscaux accordés en contrepartie d'une prestation ou d'un investissement. \n",
       "\n",
       "https://www.service-public.fr/particuliers/vosdroits/F13551 : \n",
       "Un texte fiscal ne vous semble pas clair ou vous ne voyez pas comment l'appliquer à votre situation ? Vous pouvez interroger l'administration. Sa réponse vous donne son interprétation des textes fiscaux au vu de votre situation. Ce rescrit fiscal est un gage de sécurité. Il engage les services fiscaux. Voici une liste de différents cas possibles:\n",
       "- Qu'est-ce qu'un rescrit fiscal ? - Comment consulter les rescrits fiscaux déjà publiés ? - Comment demander un rescrit fiscal ? - Que faire en cas de désaccord avec la réponse des services fiscaux ? - Quelle est la garantie apportée par le rescrit fiscal ? \n",
       "\n",
       "https://www.service-public.fr/particuliers/vosdroits/F31179 : \n",
       "Le plafonnement global ne s'applique pas aux avantages fiscaux suivants : \n",
       "- Avantages liés à votre situation personnelle\n",
       "- Avantages liés à la poursuite d'un objectif d'intérêt général sans contrepartie\n",
       " \n",
       "Plafonnement global selon les avantages fiscaux (liste non exhaustive)\n",
       "| Objet de l'avantage fiscal | Plafonnement global | \n",
       "| - | - | \n",
       "| Emploi d'un salarié à domicile | Oui | \n",
       "| Frais de garde des jeunes enfants | Oui | \n",
       "| Investissement locatif | Oui | \n",
       "| Investissement forestier | Oui | \n",
       "| Souscription au capital de SOFICA | Oui | \n",
       "| Souscription au capital de PME | Oui | \n",
       "| Investissement outre-mer | Oui | \n",
       "| Frais d'établissement pour personnes dépendantes | Non | \n",
       "| Dons aux organismes d'intérêt général | Non | \n",
       "| Effets du quotient familial | Non | \n",
       "| Frais de scolarité des enfants | Non | \n",
       "| Aide aux personnes âgées/handicapées | Non | \n",
       " (À noter: pour connaître la liste exhaustive des avantages fiscaux concernés par le plafonnement, vous pouvez consulter la brochure pratique de l'impôt sur le revenu . Ce document vous informe également sur l'application et le calcul du plafonnement.) Cas Investissement Sofica (cinéma): Pour l'imposition 2023 de vos revenus de 2022, si vous avez réalisé des investissements dans le cinéma (Sofica), le total de vos avantages fiscaux ne peut pas vous procurer une diminution du montant de l'impôt dû supérieure à 18 000 € . (À savoir: le plafonnement est le même pour tous les foyers fiscaux, que vous soyez seul ou en couple, avec ou sans personne à charge.) Les avantages fiscaux concernés peuvent prendre l'une des formes suivantes : \n",
       "- Déduction de votre revenu imposable\n",
       "- Réduction d'impôt\n",
       "- Crédit d'impôt\n",
       " Le plafonnement global s'applique aux avantages fiscaux accordés en contrepartie d'une prestation ou d'un investissement. Le plafonnement global ne s'applique pas aux avantages fiscaux suivants : \n",
       "- Avantages liés à votre situation personnelle\n",
       "- Avantages liés à la poursuite d'un objectif d'intérêt général sans contrepartie\n",
       " \n",
       "Plafonnement global selon les avantages fiscaux (liste non exhaustive)\n",
       "| Objet de l'avantage fiscal | Plafonnement global | \n",
       "| - | - | \n",
       "| Emploi d'un salarié à domicile | Oui | \n",
       "| Frais de garde des jeunes enfants | Oui | \n",
       "| Investissement locatif | Oui | \n",
       "| Investissement forestier | Oui | \n",
       "| Souscription au capital de SOFICA | Oui | \n",
       "| Souscription au capital de PME | Oui | \n",
       "| Investissement outre-mer | Oui | \n",
       "| Frais d'établissement pour personnes dépendantes | Non | \n",
       "| Dons aux organismes d'intérêt général | Non | \n",
       "| Effets du quotient familial | Non | \n",
       "| Frais de scolarité des enfants | Non | \n",
       "| Aide aux personnes âgées/handicapées | Non | \n",
       " (À noter: pour connaître la liste exhaustive des avantages fiscaux concernés par le plafonnement, vous pouvez consulter la brochure pratique de l'impôt sur le revenu . Ce document vous informe également sur l'application et le calcul du plafonnement.) \n",
       "\n",
       "Question : Qu'est-ce que le plafonnement et comment fonctionne-t-il dans le système fiscal français?</pre></div><div style=\"width: 50%; padding:10px;\"> <div style=\"text-align:center;color:blue;\">answer</div> <pre class=\"qq\">Le plafonnement est une mesure fiscale qui limite le montant des avantages fiscaux dont un contribuable peut bénéficier chaque année pour le calcul de l'impôt sur le revenu en France. Il vise à limiter les réductions d'impôt, les crédits d'impôt et les déductions fiscales afin d'éviter les abus et les situations où les contribuables peuvent réduire considérablement leur impôt. \n",
       "\n",
       "Le plafonnement global des avantages fiscaux fixe une limite maximale au montant total des avantages fiscaux pouvant être utilisés pour réduire l'impôt dû. Pour l'imposition 2023 des revenus de 2022, le plafonnement global est fixé à 10 000 € pour la plupart des avantages fiscaux. Cela signifie que même si un contribuable a droit à des réductions d'impôt ou des crédits d'impôt d'un montant supérieur à 10 000 €, il ne pourra pas utiliser plus de 10 000 € pour réduire son impôt. \n",
       "\n",
       "Cependant, il convient de noter que le plafonnement global ne s'applique pas à certains avantages fiscaux liés à la situation personnelle du contribuable ou à la poursuite d'un objectif d'intérêt général sans contrepartie. Par exemple, les avantages fiscaux liés à l'emploi d'un salarié à domicile, aux frais de garde des jeunes enfants, à l'investissement locatif, à l'investissement forestier, à la souscription au capital de SOFICA, à la souscription au capital de PME ou à l'investissement outre-mer sont soumis au plafonnement global. En revanche, les avantages fiscaux liés aux frais d'établissement pour personnes dépendantes, aux dons aux organismes d'intérêt général, aux effets du quotient familial, aux frais de scolarité des enfants et à l'aide aux personnes âgées/handicapées ne sont pas soumis au plafonnement global.</pre></div></div></div>"
      ],
      "text/plain": [
       "<IPython.core.display.HTML object>"
      ]
     },
     "metadata": {},
     "output_type": "display_data"
    },
    {
     "data": {
      "text/html": [
       "<br>"
      ],
      "text/plain": [
       "<IPython.core.display.HTML object>"
      ]
     },
     "metadata": {},
     "output_type": "display_data"
    },
    {
     "data": {
      "text/html": [
       "\n",
       "        <style>\n",
       "            .qq {\n",
       "                word-break: keep-all;\n",
       "                white-space: pre-wrap;\n",
       "            }\n",
       "        </style>\n",
       "\n",
       "        <div style=\"border:1px solid grey;padding:5px;border-radius:8px;\">\n",
       "            <div>ID: ID &nbsp Q: 83</div>\n",
       "            <h5 style=\"font-weight: bold;\">Quelles sont les conditions de résidence et les ressources requises pour bénéficier de l'Assurance Maladie en France ?</h5>\n",
       "            <div style=\"display:flex; align-items:top;\"><div style=\"width: 50%; padding:10px;\"> <div style=\"text-align:center;color:blue;\">prompt</div> <pre class=\"qq\">Utilisez les éléments de contexte à votre disposition ci-dessous pour répondre à la question finale. Si vous ne connaissez pas la réponse, dites simplement que vous ne savez pas, n'essayez pas d'inventer une réponse.\n",
       "\n",
       "https://www.service-public.fr/particuliers/vosdroits/F407 : Assurance maladie d'un Français vivant à l'étranger (Dans un autre pays > Vous êtes demandeur d'emploi)\n",
       "Vous ne serez pas indemnisé par Pôle emploi. Pour bénéficier du chômage, il faut vivre en France et il faut être en recherche effective d'emploi. \n",
       "\n",
       "https://www.service-public.fr/particuliers/vosdroits/F407 : \n",
       "Vous voulez connaître vos droits à l'assurance maladie en cas d'installation à l'étranger ? Ils dépendent du pays de résidence ( pays de l'Espace économique européen - EEE ou Suisse ou autre pays) et de votre statut (salarié, étudiant, retraité,...). Nous vous présentons les informations à connaître. Voici une liste de différents cas possibles:\n",
       "- Vous travaillez\n",
       "- Vous êtes étudiant\n",
       "- Vous êtes demandeur d'emploi\n",
       "- Vous êtes retraité \n",
       "\n",
       "https://www.service-public.fr/particuliers/vosdroits/F407 : Assurance maladie d'un Français vivant à l'étranger (Dans un pays de l'EEE ou en Suisse > Vous travaillez)\n",
       "Vous devez ensuite le remettre à l'organisme maladie compétent dans votre pays d'installation. Ce formulaire permet l'inscription en vue de bénéficier de la couverture d'assurance maladie. \n",
       "\n",
       "https://www.service-public.fr/particuliers/vosdroits/F403 : Vivre en Europe (Étudiant)\n",
       "Vous avez le droit de partir vivre dans un autre pays de l'UE pour vos études. Vous pouvez être accompagné par votre famille. Les règles du droit au séjour varient selon leur nationalité et votre situation. Toutefois, vous devez remplir certaines conditions et formalités durant les 5 premières années de votre séjour. Après 5 ans de résidence dans le pays, vous pouvez obtenir un droit au séjour permanent et vous y installer définitivement si vous le souhaitez. Cas Pendant les 5 premières années: Conditions à remplir: \n",
       "- Être inscrit dans un établissement agréé\n",
       "- Disposer de ressources suffisantes pour vivre dans le pays d'accueil sans demander d'aide financière. Toutefois, les autorités nationales ne peuvent pas exiger que vos ressources soient supérieures au seuil ouvrant droit à une aide sociale de base dans le pays (type revenu minimum). - Détenir une assurance maladie complète dans ce pays\n",
       " Si vous partez plus d'un an, vous ne serez plus affilié à l'assurance maladie en France . Vous devrez demander à l'organisme d'assurance maladie de votre pays d'accueil les conditions d'adhésion au régime local de sécurité sociale. Vous pouvez vous renseigner, avant de partir, auprès des organismes suivants : \n",
       "- Votre mutuelle étudiante\n",
       "- Votre caisse d'assurance maladie (si elle gère votre dossier)\n",
       " Vous pouvez également contacter le Centre des liaisons européennes et internationales de sécurité sociale (Cleiss). Obligation d'enregistrement: Vous n'avez pas besoin de posséder de permis de séjour. Toutefois après 3 mois de résidence, le pays d'accueil peut exiger de vous faire enregistrer auprès des autorités locales compétentes (généralement à la mairie ou à la police du domicile). Vous pouvez vous renseigner auprès du consulat ou des autorités de votre pays d'accueil avant votre départ ou pendant les 3 premiers mois qui suivent votre arrivée. L'attestation d'enregistrement qui vous est délivrée prouve que vous avez le droit de vivre dans le pays. Elle précise votre nom, votre adresse et la date d'enregistrement. Elle a une durée de validité illimitée et n'a donc pas à être renouvelée. Cependant, il peut vous être demandé de signaler vos changements d'adresse aux autorités locales. Pièces à fournir pour l'enregistrement: \n",
       "- Carte d'identité ou passeport en cours de validité\n",
       "- Justificatif d'inscription dans un établissement d'enseignement agréé\n",
       "- Déclaration attestant que vous disposez de ressources suffisantes\n",
       "- Preuve d'assurance maladie\n",
       " Coût: Le montant diffère selon le pays. L'enregistrement ne doit pas coûter plus cher que la carte d'identité pour les ressortissants du pays d'accueil. Absence d'enregistrement ou défaut de présentation de l'attestation: Si vous ne respectez pas l'obligation d'enregistrement, vous risquez une amende. De plus, dans certains pays, vous devez toujours être muni de votre attestation d'enregistrement et de votre carte d'identité ou passeport. En cas d'oubli, vous risquez aussi une amende. \n",
       "\n",
       "Question : Quelles sont les conditions de résidence et les ressources requises pour bénéficier de l'Assurance Maladie en France ?</pre></div><div style=\"width: 50%; padding:10px;\"> <div style=\"text-align:center;color:blue;\">answer</div> <pre class=\"qq\">Les conditions de résidence et les ressources requises pour bénéficier de l'Assurance Maladie en France sont les suivantes : il faut vivre en France et être en recherche effective d'emploi pour bénéficier de l'assurance maladie en tant que demandeur d'emploi. Pour les étudiants, il est nécessaire de remplir certaines conditions, telles que être inscrit dans un établissement agréé, disposer de ressources suffisantes pour vivre en France sans demander d'aide financière, et détenir une assurance maladie complète. Les ressources ne doivent pas nécessairement être supérieures au seuil ouvrant droit à une aide sociale de base en France.</pre></div></div></div>"
      ],
      "text/plain": [
       "<IPython.core.display.HTML object>"
      ]
     },
     "metadata": {},
     "output_type": "display_data"
    },
    {
     "data": {
      "text/html": [
       "<br>"
      ],
      "text/plain": [
       "<IPython.core.display.HTML object>"
      ]
     },
     "metadata": {},
     "output_type": "display_data"
    },
    {
     "data": {
      "text/html": [
       "\n",
       "        <style>\n",
       "            .qq {\n",
       "                word-break: keep-all;\n",
       "                white-space: pre-wrap;\n",
       "            }\n",
       "        </style>\n",
       "\n",
       "        <div style=\"border:1px solid grey;padding:5px;border-radius:8px;\">\n",
       "            <div>ID: ID &nbsp Q: 84</div>\n",
       "            <h5 style=\"font-weight: bold;\">Quelles sont les différentes étapes à suivre pour déposer une plainte en cas d'escroquerie ou de tromperie ?</h5>\n",
       "            <div style=\"display:flex; align-items:top;\"><div style=\"width: 50%; padding:10px;\"> <div style=\"text-align:center;color:blue;\">prompt</div> <pre class=\"qq\">Utilisez les éléments de contexte à votre disposition ci-dessous pour répondre à la question finale. Si vous ne connaissez pas la réponse, dites simplement que vous ne savez pas, n'essayez pas d'inventer une réponse.\n",
       "\n",
       "https://www.service-public.fr/particuliers/vosdroits/F1520 : \n",
       "L'escroquerie consiste pour l'escroc à obtenir un bien, un service ou de l'argent par une tromperie (faux nom, manœuvres frauduleuses...). Il y a délit d'escroquerie s'il est démontré que l'auteur des faits a eu l'intention de tromper sa victime. Si vous êtes victime, vous pouvez déposer plainte à la police ou en gendarmerie ou par courrier auprès du procureur. Pour certaines escroqueries commises sur Internet, vous pouvez porter plainte en ligne en utilisant le téléservice THESEE. Voici une liste de différents cas possibles:\n",
       "- En quoi consiste le délit d'escroquerie ? - Que peut faire une victime en cas d'escroquerie ? - Quelles sont les peines prévues pour l'auteur d'une escroquerie ? \n",
       "\n",
       "https://www.service-public.fr/particuliers/vosdroits/F1520 : Escroquerie (En quoi consiste le délit d'escroquerie ? > Définition)\n",
       "L'escroquerie est un délit. Il consiste pour l'escroc à tromper une personne ( physique ou morale ) pour la pousser à lui remettre un bien, de l'argent ou à fournir un service. La victime doit avoir agi volontairement après avoir été trompée sur les intentions de l'auteur qui lui dissimule la vérité. L'escroc peut tromper sa victime à l'aide d'un des moyens suivants :\n",
       "- Utilisation d'un faux nom\n",
       "- Utilisation d'une fausse qualité (en prétendant être un professionnel du droit ou de la santé ou en se servant d'une fausse situation de famille comme se dire veuf alors que l'époux est toujours vivant)\n",
       "- Utilisation abusive de la confiance attachée à certaines professions, certaines fonctions (maire, délégué syndical, président d'association...)\n",
       "- Utilisation d'un faux document (un faux diplôme ou une fausse facture par exemple)\n",
       "L'escroquerie peut prendre des formes très simples ou parfois être de véritables manœuvres frauduleuse avec d'éventuelles mises en scène et interventions de tiers (complice). Un simple mensonge n'est pas de l'escroquerie. L'escroc doit avoir imaginé son action (ruses, mise en scène, etc.). (Exemple: Vente de faux billets de concert Dégradation ou faux vol d'un bien pour obtenir une indemnisation de l'assurance Appel ou SMS d'une personne se présentant comme étant de la plateforme CPF afin d'inscrire la victime à une formation factice ou frauduleuse Fausse convocation à la police ou gendarmerie reçue par mail afin de réclamer de l'argent à la victime Phishing Fausse vente en ligne Arnaque à la romance ( escroquerie aux sentiments ) qui vise à obtenir une somme d'argent de la victime qui a développé des sentiments envers l'escroc) \n",
       "\n",
       "https://www.service-public.fr/particuliers/vosdroits/F1520 : Escroquerie (Que peut faire une victime en cas d'escroquerie ? > Déposer plainte)\n",
       "Cas Cas général: Vous pouvez déposer plainte contre l'auteur des faits. Si vous ne connaissez pas son identité, vous pouvez porter plainte contre X. Le dépôt de plainte peut se faire même si l'auteur des faits se trouve à l'étranger. Cas Sur place: Vous devez vous rendre dans un commissariat de police ou à la gendarmerie de votre choix. Les services de police ou de gendarmerie sont obligés d'enregistrer votre plainte si vous êtes victime d'une infraction. La plainte est ensuite transmise au procureur de la République pour qu'il décide de la suite (enquête, classement sans suite...). Si vous ne connaissez pas l'auteur des faits, vous pouvez remplir une pré-plainte en ligne avant de vous déplacer. La pré-plainte peut être effectuée en ligne : Vous devez ensuite signer votre plainte sur place dans un commissariat de police ou une brigade de gendarmerie que vous choisissez. Les policiers ou gendarmes ont déjà les éléments de votre plainte à votre arrivée. Cas Par courrier: Vous pouvez porter plainte auprès du procureur de la République. Pour cela, vous devez envoyer un courrier au tribunal judiciaire du lieu de l'infraction ou du domicile de l'auteur de l'infraction . Votre courrier doit préciser les éléments suivants : \n",
       "- Votre état civil et vos coordonnées complètes (adresse et numéro de téléphone)\n",
       "- Récit détaillé des faits, date et lieu de l'infraction\n",
       "- Nom de l'auteur supposé si vous le connaissez (sinon, la plainte sera déposée contre X)\n",
       "- Noms et adresses des éventuels témoins de l'infraction\n",
       "- Description et estimation provisoire ou définitive du préjudice\n",
       "- Vos documents de preuve : certificats médicaux, arrêts de travail, factures diverses, constats...\n",
       "- Votre éventuelle volonté de vous constituer partie civile\n",
       " Vous pouvez utiliser le modèle de courrier suivant : Vous pouvez envoyer votre plainte en lettre recommandée avec accusé de réception, par lettre simple ou par lettre suivie. Vous pouvez aussi déposer votre plainte directement à l'accueil du tribunal. Dans tous les cas, un récépissé vous est remis dès que les services du procureur de la République ont enregistré votre plainte. Vous disposez d'un délai de 6 ans pour déposer plainte. Ce délai commence à courir à partir du jour où le bien a été remis à l'escroc (ou à partir du dernier versement, s'il y eu plusieurs remises d'argent). (À noter: vous ne pouvez pas porter plainte si l'escroc est un ascendant, un descendant ou votre conjoint dont vous n'êtes pas séparé.) Si l'escroquerie est commise au moyen d'un site proposant des contenus illégaux, vous pouvez faire un signalement en utilisant le site suivant du ministère de l'intérieur : Vous pouvez aussi contacter Info Escroqueries par téléphone pour obtenir des renseignements sur les démarches. Cas Escroquerie en ligne: Cas En ligne: Vous pouvez utiliser le service en ligne THESEE pour savoir si vous pouvez déposer plainte en ligne. La plainte effectuée sur THESEE est transmise à la Police nationale pour traitement. Cas Sur place: Vous devez vous rendre dans un commissariat de police ou à la gendarmerie de votre choix. \n",
       "\n",
       "https://www.service-public.fr/particuliers/vosdroits/F34124 : Chantage / Menaces lors d'une relation amoureuse ou amicale sur internet (Votre relation est uniquement virtuelle > Tromperie (faux motif ou faux documents))\n",
       "Vous avez été trompé pour vous inciter à verser de l'argent: Une personne vous demande de l'argent et pour vous convaincre, elle vous a envoyé des documents frauduleux. Cas Vous êtes majeur: Cas Demande d'argent - Menace de porter atteinte à votre honneur: Si par ailleurs, on vous a demandé de l'argent en menaçant de porter atteinte à votre honneur, vous êtes victime de fait pouvant être qualifiés d'escroquerie et de chantage. Ils sont aussi appelés escroquerie à la romance et chantage en ligne \". Dans cette situation, vous pouvez porter plainte ou faire un signalement. - La plainte est l'acte par lequel une victime d'infraction informe l’autorité judiciaire. En portant plainte, vous devez donner votre identité. Cette démarche vous engage et les enquêteurs peuvent vous contacter. La plainte permet aussi de demander l'indemnisation du préjudice subi et d'être informé des suites données à l'affaire. - Le signalement consiste uniquement à informer les services d'enquête de l'existence d'une infraction. Vous pouvez rester anonyme. Vous ne serez pas informé des suites de l'affaire. Vous ne pourrez pas demander une indemnisation. Vous pouvez également porter plainte en vous rendant sur place ou par courrier . Vous pouvez aussi téléphoner à Info Escroqueries. Cas Demande d'argent sans menaces: Ces faits peuvent être qualifiés d'escroquerie aux sentiments. Dans votre situation, vous pouvez porter plainte, faire un signalement ou contacter Info Escroqueries. - La plainte est l'acte par lequel une victime d'infraction informe l’autorité judiciaire. En portant plainte, vous devez donner votre identité. Cette démarche vous engage et les enquêteurs peuvent vous contacter. La plainte permet aussi de demander l'indemnisation du préjudice subi et d'être informé des suites données à l'affaire. - Le signalement consiste uniquement à informer les services d'enquête de l'existence d'une infraction. Vous pouvez rester anonyme. Vous ne serez pas informé des suites de l'affaire. Vous ne pourrez pas demander une indemnisation. Vous pouvez également porter plainte en vous rendant sur place ou par courrier . Vous pouvez aussi téléphoner à Info Escroqueries. Cas Vous êtes mineur: Cas Demande d'argent - Menace de porter atteinte à votre honneur: Si par ailleurs, on vous a demandé de l'argent en menaçant de porter atteinte à votre honneur, vous êtes victime de fait pouvant être qualifiés d'escroquerie et de chantage. Ils sont aussi appelés escroquerie à la romance et chantage en ligne \". Dans votre situation, vous pouvez porter plainte , faire un signalement ou contacter Info Escroqueries. - La plainte est l'acte par lequel une victime d'infraction informe l’autorité judiciaire. En portant plainte, vous devez donner votre identité. Cette démarche vous engage et les enquêteurs peuvent vous contacter. La plainte permet aussi de demander l'indemnisation du préjudice subi et d'être informé des suites données à l'affaire. - Le signalement consiste uniquement à informer les services d'enquête de l'existence d'une infraction. Vous pouvez rester anonyme. Vous ne serez pas informé des suites de l'affaire. Vous ne pourrez pas demander une indemnisation. \n",
       "\n",
       "Question : Quelles sont les différentes étapes à suivre pour déposer une plainte en cas d'escroquerie ou de tromperie ?</pre></div><div style=\"width: 50%; padding:10px;\"> <div style=\"text-align:center;color:blue;\">answer</div> <pre class=\"qq\">Pour déposer une plainte en cas d'escroquerie ou de tromperie, voici les différentes étapes à suivre :\n",
       "\n",
       "1. Cas général : Vous pouvez déposer plainte contre l'auteur des faits. Si vous ne connaissez pas son identité, vous pouvez porter plainte contre X. Le dépôt de plainte peut se faire même si l'auteur des faits se trouve à l'étranger.\n",
       "\n",
       "2. Cas sur place : Vous devez vous rendre dans un commissariat de police ou à la gendarmerie de votre choix. Les services de police ou de gendarmerie sont obligés d'enregistrer votre plainte si vous êtes victime d'une infraction. La plainte est ensuite transmise au procureur de la République pour qu'il décide de la suite (enquête, classement sans suite...). Si vous ne connaissez pas l'auteur des faits, vous pouvez remplir une pré-plainte en ligne avant de vous déplacer. La pré-plainte peut être effectuée en ligne. Vous devez ensuite signer votre plainte sur place dans un commissariat de police ou une brigade de gendarmerie que vous choisissez.\n",
       "\n",
       "3. Cas par courrier : Vous pouvez porter plainte auprès du procureur de la République. Pour cela, vous devez envoyer un courrier au tribunal judiciaire du lieu de l'infraction ou du domicile de l'auteur de l'infraction. Votre courrier doit préciser certains éléments tels que votre état civil et vos coordonnées complètes, un récit détaillé des faits, le nom de l'auteur supposé si vous le connaissez, les noms et adresses des éventuels témoins de l'infraction, une description et une estimation du préjudice, vos documents de preuve, et votre éventuelle volonté de vous constituer partie civile. Vous pouvez envoyer votre plainte en lettre recommandée avec accusé de réception, par lettre simple ou par lettre suivie. Vous pouvez aussi déposer votre plainte directement à l'accueil du tribunal. Un récépissé vous est remis dès que les services du procureur de la République ont enregistré votre plainte.\n",
       "\n",
       "Il est important de noter que vous disposez d'un délai de 6 ans pour déposer plainte, à partir du jour où le bien a été remis à l'escroc ou du dernier versement s'il y a eu plusieurs remises d'argent. Cependant, vous ne pouvez pas porter plainte si l'escroc est un ascendant, un descendant ou votre conjoint dont vous n'êtes pas séparé.\n",
       "\n",
       "Si l'escroquerie est commise en ligne, vous pouvez utiliser le service en ligne THESEE pour savoir si vous pouvez déposer plainte en ligne. La plainte effectuée sur THESEE est transmise à la Police nationale pour traitement. Vous pouvez également faire un signalement en utilisant le site du ministère de l'intérieur ou contacter Info Escroqueries par téléphone pour obtenir des renseignements sur les démarches.</pre></div></div></div>"
      ],
      "text/plain": [
       "<IPython.core.display.HTML object>"
      ]
     },
     "metadata": {},
     "output_type": "display_data"
    },
    {
     "data": {
      "text/html": [
       "<br>"
      ],
      "text/plain": [
       "<IPython.core.display.HTML object>"
      ]
     },
     "metadata": {},
     "output_type": "display_data"
    },
    {
     "data": {
      "text/html": [
       "\n",
       "        <style>\n",
       "            .qq {\n",
       "                word-break: keep-all;\n",
       "                white-space: pre-wrap;\n",
       "            }\n",
       "        </style>\n",
       "\n",
       "        <div style=\"border:1px solid grey;padding:5px;border-radius:8px;\">\n",
       "            <div>ID: ID &nbsp Q: 85</div>\n",
       "            <h5 style=\"font-weight: bold;\">Quelles sont les principales ressources budgétaires allouées par l'État français aux associations ?</h5>\n",
       "            <div style=\"display:flex; align-items:top;\"><div style=\"width: 50%; padding:10px;\"> <div style=\"text-align:center;color:blue;\">prompt</div> <pre class=\"qq\">Utilisez les éléments de contexte à votre disposition ci-dessous pour répondre à la question finale. Si vous ne connaissez pas la réponse, dites simplement que vous ne savez pas, n'essayez pas d'inventer une réponse.\n",
       "\n",
       "https://www.service-public.fr/particuliers/vosdroits/F3180 : Subventions versées aux associations (Par qui une subvention peut-elle être attribuée ?)\n",
       "Une subvention peut être attribuée par les administrations et organismes suivants :\n",
       "- État\n",
       "- Collectivités territoriales\n",
       "- Établissements publics administratifs\n",
       "- Organismes de sécurité sociale\n",
       "- Établissements publics à caractère industriel et commercial\n",
       "- Autres organismes chargés de la gestion d'un service public administratif. \n",
       "\n",
       "https://www.service-public.fr/particuliers/vosdroits/F2907 : Dans quels cas une association doit recourir à un commissaire aux comptes ? (Association)\n",
       "Une association doit nommer au moins un commissaire aux comptes et un suppléant si elle présente l'une des caractéristiques suivantes :\n",
       "- Elle reçoit au moins 153 000 € des subventions publiques (sauf subvention européenne)\n",
       "- Elle bénéficie de dons dont le montant annuel dépasse 153 000 € et ouvrant droit aux donateurs à une réduction de l'impôt sur le revenu ou de l'impôt sur les sociétés\n",
       "- Elle a une activité économique qui répond à 2 des 3 critères suivants : au moins 50 salariés, au moins 3 100 000 € hors taxe de chiffre d'affaire ou de ressources, au moins 1 550 000 € de total du bilan\n",
       "- Elle émet des obligations\n",
       "- Ses ressources financières dépassent 200 000 € et qui rémunèrent de 1 à 3 dirigeants\n",
       "- Elle est habilitée à accorder des prêts pour la création, le développement et la reprise de petites entreprises ou pour la réalisation de projets d'insertion par des personnes physiques\n",
       "- Elle collecte des fonds pour la participation des employeurs à l'effort de construction\n",
       "- C'est une association agréée de surveillance de la qualité de l'air (AASQA)\n",
       "- C'est une association de gestion d'un fonds de solidarité pour le logement\n",
       "- C'est une association souscriptrice de plan d'épargne retraite populaire (Perp)\n",
       "- C'est une association professionnelle nationale de militaires dont les ressources sont supérieures à 230 000 €\n",
       "(À savoir: Même si la loi ne les oblige pas, une association peut prévoir dans ses statuts le recours à un commissaire aux comptes.) \n",
       "\n",
       "https://www.service-public.fr/particuliers/vosdroits/F2722 : Dons, donations et legs au bénéfice d'une association (Donation ou legs > Quelles sont les règles en matière de fiscalité ?)\n",
       "Les dons, donations et legs faits aux associations et fondations reconnues d'utilité publiques sont soumis aux droits de succession (appelés droits de mutation à titre gratuit ). Les taux applicables sont ceux prévus pour les successions entre frères et sœurs. Ainsi, pour la partie du don inférieur à 24 430 €, le taux applicable est de 35 %. Au-delà, la fraction du don dépassant ce montant est taxé à 45 %. Pour les autres associations (non reconnues d'utilité publique), le taux applicable est de 60 % après un abattement de 1 564 €. Toutefois, dans certains cas, les dons et legs peuvent être exonérés de droits de succession. Il s'agit des dons accordées à certaines associations reconnues d'utilité publique :\n",
       "- Établissements publics ou reconnus d'utilité publique qui interviennent soit pour exercer des activités à caractère philanthropique, éducative, scientifique, sociale, humanitaire, sportive, familiale, culturelle, ou concourant à la mise en valeur du patrimoine artistique, à la défense de l'environnement naturel ou à la diffusion de la culture, de la langue, ou des connaissances scientifiques françaises, soit pour exercer des actions concrètes en faveur du pluralisme de la presse\n",
       "- Établissements publics charitables, aux mutuelles et organismes soutenant des œuvres d'assistance ou de bienfaisance, la défense de l'environnement naturelle, ou la protection des animaux\n",
       "- Établissements publics ou sociétés particulières qui participent à la construction de monument aux morts de la guerre ou à la gloire des armées. Certaines associations qui ont la personnalité morale (c'est-à-dire qui ont formé un groupe et qui dispose de la possibilité d'agir juridiquement : passer des contrats, agir en justice) ouvrent la possibilité aux donateurs ou légataires de bénéficier d'exonération des droits de mutation à titre gratuit. Pour ce faire, il faut que ces donations et legs concernent un des cas suivants :\n",
       "- Œuvres d'art destinés à faire partie d'une collection, de monuments ou d'objets ayant un caractère historique, de livres, d'imprimés ou de manuscrits\n",
       "- Associations déclarées depuis au moins trois ans à la date de réception de la libéralité et qui poursuivent un but exclusif d'assistance et de bienfaisance (fondation ou congrégation)\n",
       "- Donations d'argent ou de biens immobiliers pour permettre l'achat d’œuvres d'art, de monument ou d'objets à caractère historique\n",
       "- Donations ou legs à des associations cultuelles\n",
       "L'administration fiscale accepte d'exonérer les dons et legs effectués à des associations œuvrant dans le domaine de la recherche médical ou scientifique de manière désintéressée. \n",
       "\n",
       "https://www.service-public.fr/particuliers/vosdroits/F2722 : Dons, donations et legs au bénéfice d'une association (Don > Quelles sont les règles en matière de fiscalité ? > Fiscalité de l'association)\n",
       "Les dons, donations et legs faits aux associations et fondations reconnues d'utilité publiques sont soumis aux droits de succession (appelés droits de mutation à titre gratuit ). Les taux applicables sont ceux prévus pour les successions entre frères et sœurs. Ainsi, pour la partie du don inférieur à 24 430 €, le taux applicable est de 35 %. Au-delà, la fraction du don dépassant ce montant est taxé à 45 %. Pour les autres associations (non reconnues d'utilité publique), le taux applicable est de 60 % après un abattement de 1564 €. Toutefois, dans certains cas, les dons et legs peuvent être exonérés de droits de succession. Il s'agit des dons accordés à certaines associations reconnues d'utilité publique :\n",
       "- Établissements publics ou reconnus d'utilité publique qui interviennent soit pour exercer des activités à caractère philanthropique, éducative, scientifique, sociale, humanitaire, sportive, familiale, culturelle, ou concourant à la mise en valeur du patrimoine artistique, à la défense de l'environnement naturel ou à la diffusion de la culture, de la langue, ou des connaissances scientifiques françaises, soit pour exercer des actions concrètes en faveur du pluralisme de la presse\n",
       "- Établissements publics charitables, mutuelles et organismes soutenant des œuvres d'assistance ou de bienfaisance, la défense de l'environnement naturelle ou la protection des animaux\n",
       "- Établissements publics ou sociétés particulières qui participent à la construction de monument aux morts de la guerre ou à la gloire des armées\n",
       "Certaines associations qui ont la personnalité morale (c'est-à-dire qui ont formé un groupe et qui dispose de la possibilité d'agir juridiquement : passer des contrats, agir en justice) ouvrent la possibilité aux donateurs ou légataires de bénéficier d'exonération des droits de mutation à titre gratuit. Pour ce faire, il faut que ces donations et legs concernent à l'un des cas suivants :\n",
       "- Œuvres d'art destinés à faire partie d'une collection, de monuments ou d'objets ayant un caractère historique, de livres, d'imprimés ou de manuscrits\n",
       "- Associations déclarées depuis au moins 3 ans à la date de réception de la libéralité et qui poursuivent un but exclusif d'assistance et de bienfaisance (fondation ou congrégation)\n",
       "- Donations d'argent ou de biens immobiliers pour permettre l'achat d’œuvres d'art, de monument ou d'objets à caractère historique\n",
       "- Donations ou legs à des associations cultuelles\n",
       "L'administration fiscale accepte d'exonérer les dons et legs effectués à des associations œuvrant dans le domaine de la recherche médical ou scientifique de manière désintéressée. \n",
       "\n",
       "Question : Quelles sont les principales ressources budgétaires allouées par l'État français aux associations ?</pre></div><div style=\"width: 50%; padding:10px;\"> <div style=\"text-align:center;color:blue;\">answer</div> <pre class=\"qq\">Les principales ressources budgétaires allouées par l'État français aux associations sont les subventions.</pre></div></div></div>"
      ],
      "text/plain": [
       "<IPython.core.display.HTML object>"
      ]
     },
     "metadata": {},
     "output_type": "display_data"
    },
    {
     "data": {
      "text/html": [
       "<br>"
      ],
      "text/plain": [
       "<IPython.core.display.HTML object>"
      ]
     },
     "metadata": {},
     "output_type": "display_data"
    },
    {
     "data": {
      "text/html": [
       "\n",
       "        <style>\n",
       "            .qq {\n",
       "                word-break: keep-all;\n",
       "                white-space: pre-wrap;\n",
       "            }\n",
       "        </style>\n",
       "\n",
       "        <div style=\"border:1px solid grey;padding:5px;border-radius:8px;\">\n",
       "            <div>ID: ID &nbsp Q: 86</div>\n",
       "            <h5 style=\"font-weight: bold;\">Quelles sont les procédures nécessaires pour le dépôt et la diffusion du règlement intérieur dans une entreprise en France ?</h5>\n",
       "            <div style=\"display:flex; align-items:top;\"><div style=\"width: 50%; padding:10px;\"> <div style=\"text-align:center;color:blue;\">prompt</div> <pre class=\"qq\">Utilisez les éléments de contexte à votre disposition ci-dessous pour répondre à la question finale. Si vous ne connaissez pas la réponse, dites simplement que vous ne savez pas, n'essayez pas d'inventer une réponse.\n",
       "\n",
       "https://www.service-public.fr/particuliers/vosdroits/F1905 : Règlement intérieur d'une entreprise (Quelles sont les formalités de dépôt et de diffusion du règlement intérieur ?)\n",
       "L'employeur doit accomplir les 2 formalités suivantes :\n",
       "- Dépôt du règlement intérieur auprès du greffe du conseil de prud'hommes dont dépend l'entreprise ou l'établissement\n",
       "\n",
       "- Publicité , par tout moyen (affichage, intranet par exemple), auprès de toutes les personnes ayant accès aux lieux de travail ou aux locaux où se fait l’embauche\n",
       "(Attention: pour être opposable aux salariés, le règlement intérieur doit être soumis aux formalités de dépôt et de diffusion. L'employeur doit prouver qu'il a bien effectué ces formalités en cas de litige.) \n",
       "\n",
       "https://www.service-public.fr/particuliers/vosdroits/F1905 : Règlement intérieur d'une entreprise (À quelle date le règlement intérieur entre-t-il en vigueur dans l'entreprise ?)\n",
       "Le règlement intérieur indique la date à partir de laquelle il s 'applique dans l'entreprise. Cette date intervient au moins 1 mois après l'accomplissement des formalités de dépôt et de diffusion. La date à laquelle la dernière des formalités de publicité et de dépôt a été accomplie fixe le point de départ de ce délai minimum de 1 mois. \n",
       "\n",
       "https://www.service-public.fr/particuliers/vosdroits/F1905 : \n",
       "Dans les entreprises employant au moins 50 salariés, l'employeur doit rédiger un règlement intérieur. Celui-ci fixe les droits et obligations des salariés en matière de santé et de sécurité et de discipline applicables dans l'entreprise. Ce document est-il obligatoire ? Quelles sont les clauses obligatoires ? Y a-t-il des clauses interdites ? L'employeur doit-il consulter le CSE ? À qui s'applique-t-il ? Nous vous présentons les informations à retenir. Voici une liste de différents cas possibles:\n",
       "- Qu'est-ce que le règlement intérieur ? - Le règlement intérieur est-il obligatoire ? - Qui rédige le règlement intérieur ? - L'employeur doit-il consulter le CSE avant de mettre en place le règlement intérieur ? - Quel est le contenu du règlement intérieur ? - Quelles sont les formalités de dépôt et de diffusion du règlement intérieur ? - Le règlement intérieur doit-il être transmis à l'inspecteur du travail ? - À quelle date le règlement intérieur entre-t-il en vigueur dans l'entreprise ? - À qui le règlement intérieur s'applique-t-il ? \n",
       "\n",
       "https://www.service-public.fr/particuliers/vosdroits/F1905 : Règlement intérieur d'une entreprise (Quel est le contenu du règlement intérieur ? > Clauses obligatoires)\n",
       "Le règlement intérieur contient les dispositions suivantes :\n",
       "- Mesures d'application de la réglementation en matière de santé et de sécurité dans l'entreprise ou l'établissement (interdiction de fumer dans les locaux par exemple)\n",
       "- Participation des salariés au rétablissement de conditions de travail protectrices de la santé et de la sécurité des salariés (port d'un masque en cas d'épidémie par exemple)\n",
       "- Règles concernant la discipline (respect des horaires de travail par exemple) et la nature et l'échelle des sanctions que peut prendre l'employeur (durée de la mise à pied disciplinaire par exemple)\n",
       "- Dispositions concernant le respect des procédures disciplinaires (convocation à entretien préalable par exemple) pour le salarié si l'employeur envisage une sanction\n",
       "- Dispositions concernant les droits de la défense des salariés (assistance du salarié lors d'une procédure disciplinaire par exemple)\n",
       "- Dispositions concernant l'interdiction, la prévention et la répression du harcèlement moral et sexuel, les agissements sexistes\n",
       "- Dispositions concernant la protection des lanceurs d'alerte\n",
       "- Sa date d'entrée en vigueur\n",
       "(À noter: dans les entreprises de 500 salariés et plus et ayant un chiffre d'affaire annuel supérieur à 100 millions d'euros, le règlement intérieur intègre un code de conduite . Ce document décrit les mesures à mettre en œuvre dans l'entreprise pour prévenir, en France ou à l'étranger, les faits de corruption ou de trafic d'influence.) \n",
       "\n",
       "Question : Quelles sont les procédures nécessaires pour le dépôt et la diffusion du règlement intérieur dans une entreprise en France ?</pre></div><div style=\"width: 50%; padding:10px;\"> <div style=\"text-align:center;color:blue;\">answer</div> <pre class=\"qq\">Les procédures nécessaires pour le dépôt et la diffusion du règlement intérieur dans une entreprise en France sont les suivantes :\n",
       "\n",
       "1. Dépôt du règlement intérieur auprès du greffe du conseil de prud'hommes dont dépend l'entreprise ou l'établissement.\n",
       "\n",
       "2. Publicité du règlement intérieur auprès de toutes les personnes ayant accès aux lieux de travail ou aux locaux où se fait l'embauche. Cette publicité peut se faire par tout moyen, tel que l'affichage ou l'intranet de l'entreprise.\n",
       "\n",
       "Il est important de noter que pour être opposable aux salariés, le règlement intérieur doit être soumis à ces formalités de dépôt et de diffusion. L'employeur doit être en mesure de prouver qu'il a bien effectué ces formalités en cas de litige. De plus, la date à laquelle la dernière des formalités de publicité et de dépôt a été accomplie fixe le point de départ d'un délai minimum d'un mois à partir duquel le règlement intérieur entre en vigueur dans l'entreprise.</pre></div></div></div>"
      ],
      "text/plain": [
       "<IPython.core.display.HTML object>"
      ]
     },
     "metadata": {},
     "output_type": "display_data"
    },
    {
     "data": {
      "text/html": [
       "<br>"
      ],
      "text/plain": [
       "<IPython.core.display.HTML object>"
      ]
     },
     "metadata": {},
     "output_type": "display_data"
    },
    {
     "data": {
      "text/html": [
       "\n",
       "        <style>\n",
       "            .qq {\n",
       "                word-break: keep-all;\n",
       "                white-space: pre-wrap;\n",
       "            }\n",
       "        </style>\n",
       "\n",
       "        <div style=\"border:1px solid grey;padding:5px;border-radius:8px;\">\n",
       "            <div>ID: ID &nbsp Q: 87</div>\n",
       "            <h5 style=\"font-weight: bold;\">Quels sont les différences entre revenus et recettes dans le cadre d'une déclaration de revenus pour un loueur en meublé ?</h5>\n",
       "            <div style=\"display:flex; align-items:top;\"><div style=\"width: 50%; padding:10px;\"> <div style=\"text-align:center;color:blue;\">prompt</div> <pre class=\"qq\">Utilisez les éléments de contexte à votre disposition ci-dessous pour répondre à la question finale. Si vous ne connaissez pas la réponse, dites simplement que vous ne savez pas, n'essayez pas d'inventer une réponse.\n",
       "\n",
       "https://www.service-public.fr/particuliers/vosdroits/F32744 : \n",
       "Les revenus que vous tirez de la location de locaux meublés, en tant que loueur en meublé non professionnel (LMNP), sont soumis au barème progressif de l'impôt sur le revenu. Ils doivent être déclarés en tant que bénéfices industriels et commerciaux (BIC). Les règles diffèrent selon qu'il s'agit des revenus de 2022 ou de ceux perçus en 2023. Voici une liste de différents cas possibles:\n",
       "- Quels sont les revenus concernés ? - Comment sont-ils imposés ? - Comment déclarer ? \n",
       "\n",
       "https://www.service-public.fr/particuliers/vosdroits/F32744 : Impôt sur le revenu - Revenus d'une location meublée (Revenus 2023 > Comment déclarer ?)\n",
       "Les revenus que vous percevez en 2023 seront à déclarer en avril 2024. \n",
       "\n",
       "https://www.service-public.fr/particuliers/vosdroits/F32744 : Impôt sur le revenu - Revenus d'une location meublée (Revenus 2022 > Comment sont-ils imposés ?)\n",
       "Les charges ne peuvent pas être déduites.) En fonction de votre situation (lieu et utilisation personnelle du bien loué), vous devrez payer la cotisation foncière des entreprises (CFE). Consultez le service des impôts des entreprises (SIE) du lieu où se situe le logement loué pour savoir si vous aurez ou non à régler cet impôt. \n",
       "\n",
       "https://www.service-public.fr/particuliers/vosdroits/F32744 : Impôt sur le revenu - Revenus d'une location meublée (Revenus 2023 > Comment sont-ils imposés ?)\n",
       "Les charges ne peuvent pas être déduites.) En fonction de votre situation (lieu et utilisation personnelle du bien loué), vous devrez payer la cotisation foncière des entreprises. Consultez le service des impôts des entreprises (SIE) du lieu où se situe le logement loué pour savoir si vous aurez ou non à régler cet impôt. \n",
       "\n",
       "Question : Quels sont les différences entre revenus et recettes dans le cadre d'une déclaration de revenus pour un loueur en meublé ?</pre></div><div style=\"width: 50%; padding:10px;\"> <div style=\"text-align:center;color:blue;\">answer</div> <pre class=\"qq\">Les éléments de contexte ne fournissent pas d'informations spécifiques sur les différences entre revenus et recettes dans le cadre d'une déclaration de revenus pour un loueur en meublé.</pre></div></div></div>"
      ],
      "text/plain": [
       "<IPython.core.display.HTML object>"
      ]
     },
     "metadata": {},
     "output_type": "display_data"
    },
    {
     "data": {
      "text/html": [
       "<br>"
      ],
      "text/plain": [
       "<IPython.core.display.HTML object>"
      ]
     },
     "metadata": {},
     "output_type": "display_data"
    },
    {
     "data": {
      "text/html": [
       "\n",
       "        <style>\n",
       "            .qq {\n",
       "                word-break: keep-all;\n",
       "                white-space: pre-wrap;\n",
       "            }\n",
       "        </style>\n",
       "\n",
       "        <div style=\"border:1px solid grey;padding:5px;border-radius:8px;\">\n",
       "            <div>ID: ID &nbsp Q: 88</div>\n",
       "            <h5 style=\"font-weight: bold;\">Qu'est-ce qu'une erreur matérielle et comment peut-elle être rectifiée dans une décision de justice pénale ?</h5>\n",
       "            <div style=\"display:flex; align-items:top;\"><div style=\"width: 50%; padding:10px;\"> <div style=\"text-align:center;color:blue;\">prompt</div> <pre class=\"qq\">Utilisez les éléments de contexte à votre disposition ci-dessous pour répondre à la question finale. Si vous ne connaissez pas la réponse, dites simplement que vous ne savez pas, n'essayez pas d'inventer une réponse.\n",
       "\n",
       "https://www.service-public.fr/particuliers/vosdroits/F36701 : Comment faire rectifier une erreur dans une décision de justice pénale ? (Quelle erreur peut être corrigée dans une décision de justice pénale ?)\n",
       "L'erreur doit être purement matérielle. Elle doit résulter d'une inadvertance, d'une maladresse d'expression ou de rédaction, c'est-à-dire d'un fait involontaire du juge. L'erreur ou l'omission doit provenir du tribunal ou de la cour qui a rendu la décision. Exemples d'erreurs matérielles :\n",
       "- Erreur sur le nom d'une partie\n",
       "- Contrariété entre le dispositif et les motifs de la décision\n",
       "- Absence de concordance entre chiffres et lettres dans le prononcé de la peine \n",
       "\n",
       "https://www.service-public.fr/particuliers/vosdroits/F36701 : Comment faire rectifier une erreur dans une décision de justice pénale ? (Quelles sont les voies de recours ?)\n",
       "Vous pouvez faire appel ou former un pourvoi en cassation. \n",
       "\n",
       "https://www.service-public.fr/particuliers/vosdroits/F36701 : Comment faire rectifier une erreur dans une décision de justice pénale ? (Comment l'erreur dans une décision de justice pénale est-elle corrigée ?)\n",
       "Une nouvelle décision qui corrige l'erreur est rendue. La décision rectificative est portée à votre connaissance par signification. Cette signification fait démarrer les délais pour faire appel ou former un pourvoi en cassation. \n",
       "\n",
       "https://www.service-public.fr/particuliers/vosdroits/F36701 : Comment faire rectifier une erreur dans une décision de justice pénale ? (Comment saisir la juridiction en cas d'erreur dans une décision de justice pénale ? > Qui peut saisir ?)\n",
       "Vous pouvez demander la rectification d'une erreur matérielle si vous êtes une partie ( prévenu, accusé, partie civile ) dans la décision à corriger. Le ministère public peut également être à l'origine de la demande de rectification. \n",
       "\n",
       "Question : Qu'est-ce qu'une erreur matérielle et comment peut-elle être rectifiée dans une décision de justice pénale ?</pre></div><div style=\"width: 50%; padding:10px;\"> <div style=\"text-align:center;color:blue;\">answer</div> <pre class=\"qq\">Une erreur matérielle dans une décision de justice pénale est une erreur purement matérielle qui résulte d'une inadvertance, d'une maladresse d'expression ou de rédaction, c'est-à-dire d'un fait involontaire du juge. Cette erreur peut concerner des éléments tels que le nom d'une partie, la contrariété entre le dispositif et les motifs de la décision, ou l'absence de concordance entre chiffres et lettres dans le prononcé de la peine.\n",
       "\n",
       "Pour rectifier une erreur matérielle dans une décision de justice pénale, une nouvelle décision rectificative est rendue. Cette décision est portée à la connaissance des parties concernées par signification. La signification de la décision rectificative marque le début des délais pour faire appel ou former un pourvoi en cassation.</pre></div></div></div>"
      ],
      "text/plain": [
       "<IPython.core.display.HTML object>"
      ]
     },
     "metadata": {},
     "output_type": "display_data"
    },
    {
     "data": {
      "text/html": [
       "<br>"
      ],
      "text/plain": [
       "<IPython.core.display.HTML object>"
      ]
     },
     "metadata": {},
     "output_type": "display_data"
    },
    {
     "data": {
      "text/html": [
       "\n",
       "        <style>\n",
       "            .qq {\n",
       "                word-break: keep-all;\n",
       "                white-space: pre-wrap;\n",
       "            }\n",
       "        </style>\n",
       "\n",
       "        <div style=\"border:1px solid grey;padding:5px;border-radius:8px;\">\n",
       "            <div>ID: ID &nbsp Q: 89</div>\n",
       "            <h5 style=\"font-weight: bold;\">Quelle est la différence entre une juridiction de première instance et une juridiction d'appel dans le cadre d'une demande de rectification ?</h5>\n",
       "            <div style=\"display:flex; align-items:top;\"><div style=\"width: 50%; padding:10px;\"> <div style=\"text-align:center;color:blue;\">prompt</div> <pre class=\"qq\">Utilisez les éléments de contexte à votre disposition ci-dessous pour répondre à la question finale. Si vous ne connaissez pas la réponse, dites simplement que vous ne savez pas, n'essayez pas d'inventer une réponse.\n",
       "\n",
       "https://www.service-public.fr/particuliers/vosdroits/F35219 : Comment obtenir une expertise judiciaire ? (Quel est le recours en cas de contestation ?)\n",
       "Cas Cas général: Si vous avez demandé une expertise au cours du procès (appelée décision avant dire droit ), vous ne pouvez pas faire appel immédiatement de la décision qui ordonne ou refuse l'expertise. Vous devez attendre la décision finale qui juge le litige, c'est-à-dire un jugement au fond. Il y a une exception : si vous justifiez d'un motif grave et légitime, vous pouvez faire appel avec l'autorisation du premier président de la cour d'appel. (Exemple: Votre demande d'expertise a été refusée et cela peut entraîner de graves conséquences (écroulement d'un bâtiment, pollution d'un cours d'eau...), vous pouvez faire appel de cette décision en justifiant d'un motif grave et légitime.) Comment faire appel sur une décision avant dire droit pour motif grave et légitime ? Si vous voulez faire appel de la décision avant dire droit, vous devez saisir le premier président de la cour d'appel en délivrant une assignation à votre adversaire. Elle doit être délivrée dans le mois de la décision contestée. Cas Référé: Vous pouvez faire appel de l'ordonnance de référé qui ordonne ou qui refuse une expertise avant le procès. \n",
       "\n",
       "https://www.service-public.fr/particuliers/vosdroits/F36655 : Comment faire rectifier une erreur dans une décision de justice civile ? (Quel tribunal saisir en cas d'erreur dans une décision de justice civile ?)\n",
       "Cas En l'absence de recours: Vous devez déposer votre demande devant le tribunal qui a rendu la décision même si elle est passée en force de chose jugée . Cas En cas d'appel: Si un appel est en cours, vous devez déposer la demande devant la cour d'appel à partir du moment où l'affaire a été mise au rôle (inscrite par le greffier au registre des affaires en cours). Si la décision d'appel est rendue, la cour d'appel reste compétente pour recevoir votre demande de rectification. Cas En cas de pourvoi en cassation: La juridiction qui a rendu la décision à rectifier reste compétente. Exceptionnellement, la Cour de cassation est compétente pour rectifier une contradiction entre les motifs et le dispositif d'une décision lorsque cette contradiction provient d'une erreur matérielle. \n",
       "\n",
       "https://www.service-public.fr/particuliers/vosdroits/F36701 : \n",
       "Vous constatez une erreur dans une décision en matière pénale ? Vous pouvez demander sa rectification. Il est pour cela nécessaire de présenter une requête en rectification d'erreur matérielle. En général, la rectification doit être faite par la juridiction qui a commis l'erreur. Nous vous présentons les informations à connaître. Voici une liste de différents cas possibles:\n",
       "- Quelle erreur peut être corrigée dans une décision de justice pénale ? - Quelle juridiction saisir en cas d'erreur dans une décision de justice pénale ? - Comment saisir la juridiction en cas d'erreur dans une décision de justice pénale ? - Comment se déroule la procédure de rectification de l'erreur dans une décision de justice pénale ? - Comment l'erreur dans une décision de justice pénale est-elle corrigée ? - Quelles sont les voies de recours ? \n",
       "\n",
       "https://www.service-public.fr/particuliers/vosdroits/F2496 : Recours en cassation devant le Conseil d'État (Pour quelle décision administrative peut-on faire un pourvoi en cassation ?)\n",
       "Vous pouvez faire un pourvoi en cassation contre les décisions suivantes :\n",
       "- Décision d'appel rendue par une cour administrative d'appel ou une juridiction administrative spécialisée\n",
       "- Décision d'une juridiction administrative qui ne peut pas faire l'objet d'appel (par exemple, décision de la Cour nationale du droit d'asile)\n",
       "- Jugement à juge unique d'un tribunal administratif pour un litige dont le montant ne dépasse pas 10 000 €\n",
       "La contestation doit porter sur une illégalité. Le Conseil d'État ne rejuge pas l'affaire, mais vérifie la manière dont la loi a été appliquée. Ainsi, le recours doit viser les cas suivants :\n",
       "- Vice de forme (par exemple, non-respect d'une audition préalable à la sanction)\n",
       "- Erreur de droit (par exemple, indication d'une mauvaise disposition dans la décision)\n",
       "- Violation de la loi (par exemple, refus de délivrer une autorisation alors que toutes les conditions sont remplies)\n",
       "(À savoir: il est possible, à l'occasion d'un litige, de contester la validité de la loi applicable.) \n",
       "\n",
       "Question : Quelle est la différence entre une juridiction de première instance et une juridiction d'appel dans le cadre d'une demande de rectification ?</pre></div><div style=\"width: 50%; padding:10px;\"> <div style=\"text-align:center;color:blue;\">answer</div> <pre class=\"qq\">D'après les informations fournies, il n'est pas possible de répondre à la question posée.</pre></div></div></div>"
      ],
      "text/plain": [
       "<IPython.core.display.HTML object>"
      ]
     },
     "metadata": {},
     "output_type": "display_data"
    },
    {
     "data": {
      "text/html": [
       "<br>"
      ],
      "text/plain": [
       "<IPython.core.display.HTML object>"
      ]
     },
     "metadata": {},
     "output_type": "display_data"
    },
    {
     "data": {
      "text/html": [
       "\n",
       "        <style>\n",
       "            .qq {\n",
       "                word-break: keep-all;\n",
       "                white-space: pre-wrap;\n",
       "            }\n",
       "        </style>\n",
       "\n",
       "        <div style=\"border:1px solid grey;padding:5px;border-radius:8px;\">\n",
       "            <div>ID: ID &nbsp Q: 90</div>\n",
       "            <h5 style=\"font-weight: bold;\">Comment est calculé le montant de l'allocation de soutien familial ?</h5>\n",
       "            <div style=\"display:flex; align-items:top;\"><div style=\"width: 50%; padding:10px;\"> <div style=\"text-align:center;color:blue;\">prompt</div> <pre class=\"qq\">Utilisez les éléments de contexte à votre disposition ci-dessous pour répondre à la question finale. Si vous ne connaissez pas la réponse, dites simplement que vous ne savez pas, n'essayez pas d'inventer une réponse.\n",
       "\n",
       "https://www.service-public.fr/particuliers/vosdroits/F13132 : Allocation de logement familiale (ALF) (MSA > Quel est le montant de l'ALF ?)\n",
       "Pour connaître le montant de l'ALF, vous pouvez utiliser le simulateur de la MSA : Le montant de l'ALF est calculé en fonction de barèmes qui prennent en considération les éléments suivants :\n",
       "- Votre situation familiale et le nombre de personnes à charge vivant habituellement à votre foyer\n",
       "- Vos ressources, celles de la personne avec laquelle vous vivez en couple et celles des personnes vivant habituellement à votre foyer\n",
       "- Valeur de votre patrimoine immobilier et financier et celui de la personne avec laquelle vous vivez en couple et des personnes vivant habituellement à votre foyer, lorsque cette valeur est supérieure à 30 000 €\n",
       "- Montant de votre loyer \n",
       "\n",
       "https://www.service-public.fr/particuliers/vosdroits/F13132 : Allocation de logement familiale (ALF) (Caf > Quel est le montant de l'ALF ?)\n",
       "Pour connaître le montant de l'ALF, vous pouvez utiliser le simulateur de la Caf : Le montant de l'ALF est calculé en fonction de barèmes qui prennent en considération les éléments suivants :\n",
       "- Votre situation familiale et le nombre de personnes à charge vivant habituellement à votre foyer\n",
       "- Vos ressources, celles de la personne avec laquelle vous vivez en couple et celles des personnes vivant habituellement à votre foyer\n",
       "- Valeur de votre patrimoine immobilier et financier et celui de la personne avec laquelle vous vivez en couple et des personnes vivant habituellement à votre foyer, lorsque cette valeur est supérieure à 30 000 €\n",
       "- Montant de votre loyer \n",
       "\n",
       "https://www.service-public.fr/particuliers/vosdroits/F33647 : Allocation de soutien familial (ASF) : enfant recueilli (Quel est le montant de l'allocation de soutien familial (ASF) ?)\n",
       "Le montant de l'ASF s'élève à 249,59 € par mois et par enfant. \n",
       "\n",
       "https://www.service-public.fr/particuliers/vosdroits/F815 : Allocation de soutien familial (ASF) : parents séparés (Quel est le montant de l'allocation de soutien familial (ASF) ?)\n",
       "Le montant de l'ASF s'élève à 187,24 € par mois et par enfant. Le montant de l'ASF différentielle est égal à la différence entre le montant de la pension reçue et 187,24 €. L'allocation est due à compter du mois suivant la séparation des parents. \n",
       "\n",
       "Question : Comment est calculé le montant de l'allocation de soutien familial ?</pre></div><div style=\"width: 50%; padding:10px;\"> <div style=\"text-align:center;color:blue;\">answer</div> <pre class=\"qq\">Le montant de l'allocation de soutien familial est calculé en fonction de la situation familiale et du nombre d'enfants recueillis ou des parents séparés. Pour les enfants recueillis, le montant de l'ASF est de 249,59 € par mois et par enfant. Pour les parents séparés, le montant de l'ASF est de 187,24 € par mois et par enfant. Dans le cas de l'ASF différentielle, le montant est égal à la différence entre la pension reçue et 187,24 €.</pre></div></div></div>"
      ],
      "text/plain": [
       "<IPython.core.display.HTML object>"
      ]
     },
     "metadata": {},
     "output_type": "display_data"
    },
    {
     "data": {
      "text/html": [
       "<br>"
      ],
      "text/plain": [
       "<IPython.core.display.HTML object>"
      ]
     },
     "metadata": {},
     "output_type": "display_data"
    },
    {
     "data": {
      "text/html": [
       "\n",
       "        <style>\n",
       "            .qq {\n",
       "                word-break: keep-all;\n",
       "                white-space: pre-wrap;\n",
       "            }\n",
       "        </style>\n",
       "\n",
       "        <div style=\"border:1px solid grey;padding:5px;border-radius:8px;\">\n",
       "            <div>ID: ID &nbsp Q: 91</div>\n",
       "            <h5 style=\"font-weight: bold;\">Quelles sont les étapes à suivre pour déclarer une association auprès de la préfecture?</h5>\n",
       "            <div style=\"display:flex; align-items:top;\"><div style=\"width: 50%; padding:10px;\"> <div style=\"text-align:center;color:blue;\">prompt</div> <pre class=\"qq\">Utilisez les éléments de contexte à votre disposition ci-dessous pour répondre à la question finale. Si vous ne connaissez pas la réponse, dites simplement que vous ne savez pas, n'essayez pas d'inventer une réponse.\n",
       "\n",
       "https://www.service-public.fr/particuliers/vosdroits/F1119 : \n",
       "Vous êtes en train de créer une association et, pour qu'elle obtienne la capacité juridique , vous allez procéder à sa déclaration initiale ? Nous vous expliquons comment faire et vous guidons étape par étape. La procédure diffère selon que le siège de l'association se situe en Alsace-Moselle (départements du Bas-Rhin, du Haut-Rhin et de la Moselle) ou ailleurs. Voici une liste de différents cas possibles:\n",
       "- Préparer la déclaration\n",
       "- Faire la demande\n",
       "- Recevoir et conserver le récépissé de la déclaration\n",
       "- S'inscrire au répertoire national des associations (RNA)\n",
       "- Procéder à la publication au Journal officiel\n",
       "- Préparer l'inscription au registre des associations\n",
       "- Procéder à la publication dans un journal d'annonces légales \n",
       "\n",
       "https://www.service-public.fr/particuliers/vosdroits/F1926 : \n",
       "En tant que fondateur, vous venez de déclarer votre association en préfecture et vous vous demandez si vous devez l'inscrire au répertoire national des associations (RNA) et/ou l'immatriculer au répertoire Sirene ? Nous vous apportons les réponses aux questions que vous vous posez. Voici une liste de différents cas possibles:\n",
       "- Comment s'effectue l'inscription de l'association au répertoire national des associations (RNA) ? - Comment s'effectue l'immatriculation de l'association au répertoire Sirene ? - Qu'est-ce que le code APE (activité principale exercée) ? \n",
       "\n",
       "https://www.service-public.fr/particuliers/vosdroits/F21899 : \n",
       "Vous êtes responsable d'une association et vous souhaitez organiser une manifestation temporaire sur la voie publique (autre qu'une compétition sportive) ? Vous vous demandez si vous avez des démarches à effectuer ? Nous vous donnons les renseignements utiles. Dans tous les cas, vous devez déclarer préalablement la manifestation envisagée au maire ou au préfet. Voici une liste de différents cas possibles:\n",
       "- Où adresser le dossier de déclaration de la manifestation ? - Que doit contenir le dossier de déclaration de la manifestation ? - Quels sont les délais à respecter pour faire la déclaration ? - Comment la demande est-elle étudiée ? - Quels éléments sont pris en compte par les autorités pour rendre leur décision ? - Quelles sanctions pour l'association en cas de non-respect des obligations ? \n",
       "\n",
       "https://www.service-public.fr/particuliers/vosdroits/F1123 : Modification des statuts d'une association (Cas général > Faire la déclaration en préfecture)\n",
       "Une association doit déclarer, dans les 3 mois, les modifications apportées à ses statuts au greffe des associations du département de son siège social. Ces modifications peuvent porter sur l'un des sujets suivants :\n",
       "- Nom de l'association (et de son sigle)\n",
       "- Objet de l'association (c'est-à-dire son ou ses activités)\n",
       "- Siège social\n",
       "- Dispositions statutaires (modification du fonctionnement de l'assemblée générale, par exemple)\n",
       "Ces modifications ne sont opposables aux tiers (c'està-dire aux personnes extérieures à l'association) qu'à partir du jour où elles sont déclarées au greffe des associations. La déclaration s'effectue sur internet, par courrier ou sur place (se renseigner à l'avance sur les horaires d'ouverture). Elle doit être effectuée par l'un des dirigeants ou par une personne mandatée. Cas Sur internet: Vous devez utiliser le téléservice suivant :\n",
       "Cas Par courrier: Un formulaire est à remplir et à envoyer au greffe des associations :\n",
       "Cas Sur place: Un formulaire est à remplir et à remettre au greffe des associations :\n",
       "La déclaration donne lieu à la délivrance d'un récépissé (que vous recevez par courrier ou par mail). Ce document vous est utile dans vos démarches et doit être conservé. \n",
       "\n",
       "Question : Quelles sont les étapes à suivre pour déclarer une association auprès de la préfecture?</pre></div><div style=\"width: 50%; padding:10px;\"> <div style=\"text-align:center;color:blue;\">answer</div> <pre class=\"qq\">Les étapes à suivre pour déclarer une association auprès de la préfecture sont les suivantes :\n",
       "1. Préparer la déclaration en rassemblant toutes les informations nécessaires.\n",
       "2. Faire la demande en remplissant le formulaire de déclaration.\n",
       "3. Recevoir et conserver le récépissé de la déclaration qui vous sera délivré.\n",
       "4. S'inscrire au répertoire national des associations (RNA) si nécessaire.\n",
       "5. Procéder à la publication au Journal officiel.\n",
       "6. Préparer l'inscription au registre des associations.\n",
       "7. Procéder à la publication dans un journal d'annonces légales si nécessaire.</pre></div></div></div>"
      ],
      "text/plain": [
       "<IPython.core.display.HTML object>"
      ]
     },
     "metadata": {},
     "output_type": "display_data"
    },
    {
     "data": {
      "text/html": [
       "<br>"
      ],
      "text/plain": [
       "<IPython.core.display.HTML object>"
      ]
     },
     "metadata": {},
     "output_type": "display_data"
    },
    {
     "data": {
      "text/html": [
       "\n",
       "        <style>\n",
       "            .qq {\n",
       "                word-break: keep-all;\n",
       "                white-space: pre-wrap;\n",
       "            }\n",
       "        </style>\n",
       "\n",
       "        <div style=\"border:1px solid grey;padding:5px;border-radius:8px;\">\n",
       "            <div>ID: ID &nbsp Q: 92</div>\n",
       "            <h5 style=\"font-weight: bold;\">Comment fonctionne le complément de libre choix du mode de garde et quels sont les critères d'éligibilité ?</h5>\n",
       "            <div style=\"display:flex; align-items:top;\"><div style=\"width: 50%; padding:10px;\"> <div style=\"text-align:center;color:blue;\">prompt</div> <pre class=\"qq\">Utilisez les éléments de contexte à votre disposition ci-dessous pour répondre à la question finale. Si vous ne connaissez pas la réponse, dites simplement que vous ne savez pas, n'essayez pas d'inventer une réponse.\n",
       "\n",
       "https://www.service-public.fr/particuliers/vosdroits/F31101 : Complément de libre choix du mode de garde (CMG) - Garde à domicile (Via un organisme > Versement)\n",
       "Le complément est versé le mois de la demande si les conditions sont remplies. Le versement prend fin le mois civil au cours duquel l'une des conditions n'est plus remplie. Le complément est le même quel que soit le nombre d'enfants gardés. \n",
       "\n",
       "https://www.service-public.fr/particuliers/vosdroits/F31101 : \n",
       "Le complément de libre choix du mode de garde (CMG) fait partie de la prestation d'accueil du jeune enfant (Paje). Il s'agit d'une prise en charge partielle de la rémunération d'une garde à domicile. Son montant varie selon le nombre d'enfants à charge, l'âge de votre enfant et vos ressources. Un minimum de 15 % des frais reste à votre charge. Voici une liste de différents cas possibles:\n",
       "- De quoi s'agit-il ? - Qui est concerné ? - Montant\n",
       "- Prise en charge des cotisations sociales\n",
       "- Demande\n",
       "- Versement\n",
       "- Comment procéder en cas de changement de situation ? \n",
       "\n",
       "https://www.service-public.fr/particuliers/vosdroits/F31101 : Complément de libre choix du mode de garde (CMG) - Garde à domicile (Via un organisme > De quoi s'agit-il ?)\n",
       "Le complément de libre choix du mode de garde (CMG) est une aide financière pour compenser le coût de la garde d'un enfant. \n",
       "\n",
       "https://www.service-public.fr/particuliers/vosdroits/F31101 : Complément de libre choix du mode de garde (CMG) - Garde à domicile (Via un organisme > Qui est concerné ? > Âge de l'enfant)\n",
       "L'enfant gardé doit avoir moins de 6 ans. \n",
       "\n",
       "Question : Comment fonctionne le complément de libre choix du mode de garde et quels sont les critères d'éligibilité ?</pre></div><div style=\"width: 50%; padding:10px;\"> <div style=\"text-align:center;color:blue;\">answer</div> <pre class=\"qq\">Le complément de libre choix du mode de garde (CMG) est une aide financière destinée à compenser le coût de la garde d'un enfant. Il est versé aux parents qui font garder leur enfant de moins de 6 ans à domicile, via un organisme agréé. \n",
       "\n",
       "Les critères d'éligibilité incluent le fait d'avoir un enfant de moins de 6 ans, de faire garder cet enfant à domicile par un organisme agréé, et de remplir certaines conditions de ressources. Le montant du complément varie en fonction du nombre d'enfants à charge, de l'âge de l'enfant et des ressources des parents. Un minimum de 15% des frais de garde reste à la charge des parents. \n",
       "\n",
       "Le complément est versé le mois de la demande si toutes les conditions sont remplies. Le versement prend fin le mois civil au cours duquel l'une des conditions n'est plus remplie. En cas de changement de situation, il est possible de procéder à une demande de modification du complément de libre choix du mode de garde. \n",
       "\n",
       "Si vous ne connaissez pas la réponse, dites simplement que vous ne savez pas, n'essayez pas d'inventer une réponse.</pre></div></div></div>"
      ],
      "text/plain": [
       "<IPython.core.display.HTML object>"
      ]
     },
     "metadata": {},
     "output_type": "display_data"
    },
    {
     "data": {
      "text/html": [
       "<br>"
      ],
      "text/plain": [
       "<IPython.core.display.HTML object>"
      ]
     },
     "metadata": {},
     "output_type": "display_data"
    },
    {
     "data": {
      "text/html": [
       "\n",
       "        <style>\n",
       "            .qq {\n",
       "                word-break: keep-all;\n",
       "                white-space: pre-wrap;\n",
       "            }\n",
       "        </style>\n",
       "\n",
       "        <div style=\"border:1px solid grey;padding:5px;border-radius:8px;\">\n",
       "            <div>ID: ID &nbsp Q: 93</div>\n",
       "            <h5 style=\"font-weight: bold;\">Quelles sont les opportunités professionnelles réservées aux citoyens français dans les secteurs de la santé, de la sécurité publique et de la diplomatie?</h5>\n",
       "            <div style=\"display:flex; align-items:top;\"><div style=\"width: 50%; padding:10px;\"> <div style=\"text-align:center;color:blue;\">prompt</div> <pre class=\"qq\">Utilisez les éléments de contexte à votre disposition ci-dessous pour répondre à la question finale. Si vous ne connaissez pas la réponse, dites simplement que vous ne savez pas, n'essayez pas d'inventer une réponse.\n",
       "\n",
       "https://www.service-public.fr/particuliers/vosdroits/F1683 : \n",
       "Le ministère chargé de l'Europe et des affaires étrangères propose des postes dans le réseau diplomatique (en ambassade), dans les consulats et dans les réseaux culturels . Vous pouvez également travailler dans un établissement scolaire à l'étranger. Dans le cadre de la coopération technique internationale , l'agence Expertise France recrute des experts dans des domaines variés. Voici une liste de différents cas possibles:\n",
       "- Réseau diplomatique, consulaire et culturel\n",
       "- Réseau scolaire français à l'étranger\n",
       "- Coopération technique internationale \n",
       "\n",
       "https://www.service-public.fr/particuliers/vosdroits/F496 : \n",
       "En tant qu'agent public, vous bénéficiez de différents dispositifs destinés à garantir votre santé et votre sécurité au travail. Voici une liste de différents cas possibles:\n",
       "- Hygiène et sécurité des locaux\n",
       "- Agents de prévention\n",
       "- Registre de santé et de sécurité au travail\n",
       "- Formation en matière d'hygiène et de sécurité\n",
       "- Médecine du travail\n",
       "- Droit de retrait \n",
       "\n",
       "https://www.service-public.fr/particuliers/vosdroits/F401 : Travailler en Europe (Travail dans le secteur public)\n",
       "Vous pouvez travailler dans le secteur public (entreprises, administrations et organismes publics) d'un autre pays européen. Selon le pays d'accueil, vous devrez peut-être demander la reconnaissance officielle de vos qualifications. Votre expérience professionnelle en France doit être prise en compte. Pour connaître les formalités à respecter dans le pays européen concerné, vous pouvez vous renseigner auprès du point de contact compétent sur place. Certains emplois de la fonction publique, dits de souveraineté, peuvent être réservés aux nationaux des pays membres. Par exemple, emplois dans l'armée, la police, la justice, la diplomatie, la haute fonction publique. Pour toute question sur vos démarches pour travailler dans un pays de l'UE, vous pouvez contacter Europe Direct : \n",
       "\n",
       "https://www.service-public.fr/particuliers/vosdroits/F401 : \n",
       "En tant que Français ou citoyen européen, vous avez le droit de travailler dans un autre pays de l'Espace économique européen (EEE) , y compris dans le secteur public. Toutefois, si votre profession est réglementée , vous pouvez avoir besoin d'y faire reconnaître au préalable vos qualifications professionnelles. Les conditions sont différentes selon la profession et la durée du séjour. (Attention: depuis le Brexit , le Royaume-Uni ne fait plus partie de l'Union européenne , ni de l'Espace Économique Européen (EEE) .) Voici une liste de différents cas possibles:\n",
       "- Activité temporaire dans le pays d'accueil\n",
       "- Activité stable dans le pays d'accueil\n",
       "- Travail dans le secteur public \n",
       "\n",
       "Question : Quelles sont les opportunités professionnelles réservées aux citoyens français dans les secteurs de la santé, de la sécurité publique et de la diplomatie?</pre></div><div style=\"width: 50%; padding:10px;\"> <div style=\"text-align:center;color:blue;\">answer</div> <pre class=\"qq\">Les opportunités professionnelles réservées aux citoyens français dans les secteurs de la santé, de la sécurité publique et de la diplomatie sont les suivantes :\n",
       "\n",
       "- Dans le secteur de la santé, les citoyens français peuvent bénéficier de la médecine du travail et des formations en matière d'hygiène et de sécurité au travail.\n",
       "\n",
       "- Dans le secteur de la sécurité publique, les citoyens français peuvent exercer des emplois dans l'armée, la police, la justice et la haute fonction publique.\n",
       "\n",
       "- Dans le secteur de la diplomatie, les citoyens français peuvent travailler dans le réseau diplomatique, consulaire et culturel du ministère chargé de l'Europe et des affaires étrangères. Ils peuvent également travailler dans des établissements scolaires français à l'étranger et dans le cadre de la coopération technique internationale avec l'agence Expertise France.\n",
       "\n",
       "Note : Les informations fournies sont basées sur les éléments de contexte fournis et peuvent ne pas être exhaustives. Il est recommandé de consulter les liens fournis pour obtenir des informations plus détaillées.</pre></div></div></div>"
      ],
      "text/plain": [
       "<IPython.core.display.HTML object>"
      ]
     },
     "metadata": {},
     "output_type": "display_data"
    },
    {
     "data": {
      "text/html": [
       "<br>"
      ],
      "text/plain": [
       "<IPython.core.display.HTML object>"
      ]
     },
     "metadata": {},
     "output_type": "display_data"
    },
    {
     "data": {
      "text/html": [
       "\n",
       "        <style>\n",
       "            .qq {\n",
       "                word-break: keep-all;\n",
       "                white-space: pre-wrap;\n",
       "            }\n",
       "        </style>\n",
       "\n",
       "        <div style=\"border:1px solid grey;padding:5px;border-radius:8px;\">\n",
       "            <div>ID: ID &nbsp Q: 94</div>\n",
       "            <h5 style=\"font-weight: bold;\">Quels sont les recours possibles pour les parents dont l'autorité parentale a été retirée et qui souhaitent récupérer leurs droits ?</h5>\n",
       "            <div style=\"display:flex; align-items:top;\"><div style=\"width: 50%; padding:10px;\"> <div style=\"text-align:center;color:blue;\">prompt</div> <pre class=\"qq\">Utilisez les éléments de contexte à votre disposition ci-dessous pour répondre à la question finale. Si vous ne connaissez pas la réponse, dites simplement que vous ne savez pas, n'essayez pas d'inventer une réponse.\n",
       "\n",
       "https://www.service-public.fr/particuliers/vosdroits/F3133 : \n",
       "Vous avez un enfant commun et vous vous séparez. Vous voulez savoir qui exerce l'autorité parentale ? Quels sont vos droits et vos obligations à l'égard de l'enfant et de l'autre parent ? Vous voulez savoir comment agir en cas de difficulté ? Nous vous expliquons la procédure. Voici une liste de différents cas possibles:\n",
       "- Qui exerce l'autorité parentale ? - La séparation des parents a-t-elle un effet sur l'autorité parentale ? - Quels sont vos droits et vos obligations en cas de séparation ? - Quelles sont les démarches en cas de séparation des parents ? - Que faire en cas de difficulté avec l'autre parent ? - L'autorité parentale peut-elle être retirée ? \n",
       "\n",
       "https://www.service-public.fr/particuliers/vosdroits/F3135 : Retrait de l'autorité parentale (Mise en danger ou désintérêt envers votre enfant > Restitution de l'autorité parentale)\n",
       "Pour demander la restitution de l'autorité parentale, vous ou l'autre parent devez justifier d'un changement significatif de votre situation, permettant d'assurer à nouveau la vie de l'enfant de manière normale et sécurisée. Cette restitution peut être totale ou partielle. Votre demande peut être présentée devant le tribunal 1 an après le jugement ayant prononcé le retrait. Votre enfant ne doit toutefois pas être déjà placé en vue d'une adoption. \n",
       "\n",
       "https://www.service-public.fr/particuliers/vosdroits/F3135 : \n",
       "Les droits et les devoirs que vous avez à l'égard de votre enfant mineur peuvent vous être retirés. C'est le cas, par exemple, si vous êtes condamnés pour crime ou délit , si vous mettez votre enfant en danger ou si vous vous en désintéressez. Le retrait peut être total ou partiel, et concerner les 2 parents ou l'un d'eux seulement. Le retrait est prononcé uniquement par un juge, pour une durée limitée. Vous pouvez récupérer, sous conditions, une partie ou la totalité de l'autorité parentale. Voici une liste de différents cas possibles:\n",
       "- Situation de retrait\n",
       "- Personnes concernées par le retrait\n",
       "- Procédure de retrait\n",
       "- Contenu et conséquences du jugement de retrait\n",
       "- Restitution de l'autorité parentale \n",
       "\n",
       "https://www.service-public.fr/particuliers/vosdroits/F3135 : Retrait de l'autorité parentale (Mise en danger ou désintérêt envers votre enfant > Personnes concernées par le retrait)\n",
       "L'autorité parentale peut être retirée aux 2 parents ou à l'un des 2 seulement. Le retrait de l'autorité parentale peut concerner 1 ou plusieurs de vos enfants. \n",
       "\n",
       "Question : Quels sont les recours possibles pour les parents dont l'autorité parentale a été retirée et qui souhaitent récupérer leurs droits ?</pre></div><div style=\"width: 50%; padding:10px;\"> <div style=\"text-align:center;color:blue;\">answer</div> <pre class=\"qq\">Les parents dont l'autorité parentale a été retirée peuvent demander la restitution de leurs droits en justifiant d'un changement significatif dans leur situation qui leur permet d'assurer à nouveau la vie de l'enfant de manière normale et sécurisée. Cette demande peut être présentée devant le tribunal un an après le jugement ayant prononcé le retrait. Cependant, il est important de noter que la restitution de l'autorité parentale peut être totale ou partielle et que l'enfant ne doit pas déjà être placé en vue d'une adoption.</pre></div></div></div>"
      ],
      "text/plain": [
       "<IPython.core.display.HTML object>"
      ]
     },
     "metadata": {},
     "output_type": "display_data"
    },
    {
     "data": {
      "text/html": [
       "<br>"
      ],
      "text/plain": [
       "<IPython.core.display.HTML object>"
      ]
     },
     "metadata": {},
     "output_type": "display_data"
    },
    {
     "data": {
      "text/html": [
       "\n",
       "        <style>\n",
       "            .qq {\n",
       "                word-break: keep-all;\n",
       "                white-space: pre-wrap;\n",
       "            }\n",
       "        </style>\n",
       "\n",
       "        <div style=\"border:1px solid grey;padding:5px;border-radius:8px;\">\n",
       "            <div>ID: ID &nbsp Q: 95</div>\n",
       "            <h5 style=\"font-weight: bold;\">Quels sont les critères d'éligibilité pour bénéficier du RSA en France et comment se fait le versement de cette allocation ?</h5>\n",
       "            <div style=\"display:flex; align-items:top;\"><div style=\"width: 50%; padding:10px;\"> <div style=\"text-align:center;color:blue;\">prompt</div> <pre class=\"qq\">Utilisez les éléments de contexte à votre disposition ci-dessous pour répondre à la question finale. Si vous ne connaissez pas la réponse, dites simplement que vous ne savez pas, n'essayez pas d'inventer une réponse.\n",
       "\n",
       "https://www.service-public.fr/particuliers/vosdroits/F286 : \n",
       "Un jeune de 18 à 25 ans, français ou étranger, qui justifie d'une certaine durée d'activité professionnelle peut bénéficier du RSA jeune actif sous certaines conditions. Le calcul du montant dépend des ressources et de la composition du foyer. Pour obtenir le RSA, il est nécessaire de faire une 1ère demande, puis d'actualiser la situation tous les trimestres. La procédure varie en fonction de la caisse d'affiliation (Caf ou CMSA). Voici une liste de différents cas possibles:\n",
       "- Conditions d'attribution\n",
       "- Calcul du montant du RSA\n",
       "- Demande de RSA\n",
       "- Attribution et versement\n",
       "- Déclaration trimestrielle\n",
       "- Droits et obligations du bénéficiaire\n",
       "- Suspension du versement et réclamation\n",
       "- Recours\n",
       "- Changement de situation\n",
       "- Demande \n",
       "\n",
       "https://www.service-public.fr/particuliers/vosdroits/F33692 : \n",
       "Si vous êtes enceinte ou si vous avez déjà un enfant à charge, vous pouvez percevoir le RSA sous certaines conditions. Il n'est pas nécessaire d'être âgé de plus de 25 ans. Le calcul du montant dépend des ressources et de la composition du foyer. Pour obtenir le RSA, il est nécessaire de faire une 1ère demande, puis d'actualiser la situation tous les trimestres. La procédure varie en fonction de la caisse d'affiliation (Caf ou CMSA). Voici une liste de différents cas possibles:\n",
       "- Conditions d'attribution\n",
       "- Calcul du montant du RSA\n",
       "- Demande de RSA\n",
       "- Attribution et versement\n",
       "- Déclaration trimestrielle\n",
       "- Droits et obligations du bénéficiaire\n",
       "- Suspension du versement et réclamation\n",
       "- Recours\n",
       "- Demande \n",
       "\n",
       "https://www.service-public.fr/particuliers/vosdroits/F15553 : RSA parent isolé (Caf > Attribution et versement)\n",
       "Après examen de votre dossier par les services du département, vous recevez une notification d'attribution pour une période de 3 mois. La période de référence est le trimestre précédant le trimestre où vous percevez le RSA. Le RSA vous est versé à partir du 1 er jour du mois au cours duquel vous avez déposé votre demande. Il est versé mensuellement, à terme échu par la Caf de votre département : par exemple, le RSA du mois de mars est versé en avril. Le RSA n'est pas imposable. (À savoir: des avances peuvent être accordées par les services du département pour que la procédure d'attribution ne retarde pas le versement du RSA.) \n",
       "\n",
       "https://www.service-public.fr/particuliers/vosdroits/F15553 : RSA parent isolé (MSA > Attribution et versement)\n",
       "Après examen de votre dossier par les services du département, vous recevez une notification d'attribution pour une période de 3 mois. La période de référence est le trimestre précédant le trimestre où vous percevez le RSA. Le RSA vous est versé à partir du 1 er jour du mois au cours duquel vous avez déposé votre demande. Il est versé mensuellement, à terme échu par la MSA de votre département : par exemple, le RSA du mois de mars est versé en avril. Le RSA n'est pas imposable. (À savoir: des avances peuvent être accordées par les services du département pour que la procédure d'attribution ne retarde pas le versement du RSA.) \n",
       "\n",
       "Question : Quels sont les critères d'éligibilité pour bénéficier du RSA en France et comment se fait le versement de cette allocation ?</pre></div><div style=\"width: 50%; padding:10px;\"> <div style=\"text-align:center;color:blue;\">answer</div> <pre class=\"qq\">Les critères d'éligibilité pour bénéficier du RSA en France sont les suivants : \n",
       "- Être âgé de 18 à 25 ans (jeune actif) ou être enceinte ou avoir déjà un enfant à charge (parent isolé)\n",
       "- Justifier d'une certaine durée d'activité professionnelle\n",
       "- Avoir des ressources et une composition de foyer qui correspondent aux critères définis\n",
       "\n",
       "Le versement du RSA se fait mensuellement, à terme échu, par la Caf (Caisse d'Allocations Familiales) ou la MSA (Mutualité Sociale Agricole) du département. Le RSA est versé à partir du 1er jour du mois suivant le dépôt de la demande. Des avances peuvent être accordées par les services du département pour éviter tout retard dans le versement du RSA. Le RSA n'est pas imposable.</pre></div></div></div>"
      ],
      "text/plain": [
       "<IPython.core.display.HTML object>"
      ]
     },
     "metadata": {},
     "output_type": "display_data"
    },
    {
     "data": {
      "text/html": [
       "<br>"
      ],
      "text/plain": [
       "<IPython.core.display.HTML object>"
      ]
     },
     "metadata": {},
     "output_type": "display_data"
    },
    {
     "data": {
      "text/html": [
       "\n",
       "        <style>\n",
       "            .qq {\n",
       "                word-break: keep-all;\n",
       "                white-space: pre-wrap;\n",
       "            }\n",
       "        </style>\n",
       "\n",
       "        <div style=\"border:1px solid grey;padding:5px;border-radius:8px;\">\n",
       "            <div>ID: ID &nbsp Q: 96</div>\n",
       "            <h5 style=\"font-weight: bold;\">Quels sont les services d'accompagnement disponibles pour les demandeurs d'emploi qui perçoivent le RSA et comment fonctionne la collaboration avec Pôle emploi ?</h5>\n",
       "            <div style=\"display:flex; align-items:top;\"><div style=\"width: 50%; padding:10px;\"> <div style=\"text-align:center;color:blue;\">prompt</div> <pre class=\"qq\">Utilisez les éléments de contexte à votre disposition ci-dessous pour répondre à la question finale. Si vous ne connaissez pas la réponse, dites simplement que vous ne savez pas, n'essayez pas d'inventer une réponse.\n",
       "\n",
       "https://www.service-public.fr/particuliers/vosdroits/F34063 : Qu'est-ce que le dispositif d'emploi accompagné des travailleurs handicapés ? (En quoi consiste le dispositif d'emploi accompagné des travailleurs handicapés ?)\n",
       "Le dispositif d'emploi accompagné consiste en une aide pour obtenir et garder votre emploi dans le milieu ordinaire par le biais notamment des mesures suivantes :\n",
       "- Aide à la réalisation de votre projet professionnel\n",
       "- Assistance dans votre recherche d'emploi en lien étroit avec les entreprises pouvant vous recruter\n",
       "- Accompagnement dans l'emploi pour sécuriser votre parcours professionnel (par exemple, en facilitant votre accès à la formation et bilan de compétences)\n",
       "Cet accompagnement est assuré par un référent unique. Si vous occupez déjà un emploi, votre employeur, public ou privé, peut faire appel à votre référent unique pour notamment évaluer et adapter votre poste de travail. \n",
       "\n",
       "https://www.service-public.fr/particuliers/vosdroits/F766 : \n",
       "Vous vous posez des questions sur le chèque emploi associatif (CEA) ? Vous voulez savoir à quoi il sert et comment l'utiliser ? Nous apportons les réponses à vos questions. Voici une liste de différents cas possibles:\n",
       "- Qu'est-ce que le chèque-emploi associatif (CEA) ? - Qui peut utiliser le chèque emploi associatif (CEA) ? - Comment adhérer au chèque emploi associatif (CEA) ? - Comment fonctionne le chèque emploi associatif (CEA) ? \n",
       "\n",
       "https://www.service-public.fr/particuliers/vosdroits/F17556 : Je recherche un emploi (J'ai déjà travaillé (avec contrat de travail) > Je peux bénéficier d'aides financières)\n",
       "Le fait de m'inscrire à Pôle emploi me permet de demander l'allocation d'aide au retour à l'emploi (ARE). Cette allocation chômage est accordée, sous certaines conditions (y compris en cas de démission ). Un simulateur permet d'estimer vos droits à l'allocation chômage : Le fait de m'inscrire à Pôle emploi me permet de m'informer sur les aides financières disponibles. Je m'informe sur les autres aides auxquelles je peux avoir droit :\n",
       "- Revenu de solidarité active (RSA) , sous certaines conditions\n",
       "- Aide à la mobilité (notamment bons de transport et de réservation SNCF)\n",
       "- Aide au permis B\n",
       "- Allocation de solidarité spécifique (ASS) , sous certaines conditions\n",
       "- Aide à la reprise ou à la création d'entreprise (Arce) , sous certaines conditions\n",
       "- Aide à la garde d'enfants pour parent isolé (Agepi) , sous certaines conditions\n",
       "À la suite de la baisse de mes revenus :\n",
       "- Je peux, dans certains cas, obtenir la prime d'activité\n",
       "- Si je suis locataire d'un logement social, j'informe mon bailleur du changement de ma situation. Je peux bénéficier, dans certains cas, d'une réduction de mon supplément de loyer de solidarité (SLS) , si je le paie. \n",
       "\n",
       "https://www.service-public.fr/particuliers/vosdroits/F19778 : RSA demandeur de 25 ans et plus (Caf > Suivre un programme d'accompagnement à l'insertion professionnelle)\n",
       "Vous avez droit à un accompagnement professionnel ou social. Les services du département doivent vous orienter vers l'accompagnement le plus adapté à votre situation :\n",
       "Cas Vous pouvez travailler: Si vous pouvez reprendre immédiatement un emploi, vous êtes orienté vers Pôle emploi ou vers un autre organisme de placement (par exemple : une maison de l'emploi). Si les ressources de votre foyer sont, en moyenne, inférieures à 500 € par mois, vous devez rechercher un emploi. L'organisme vers lequel vous êtes orienté désigne un référent unique (conseiller Pôle emploi ou conseiller en insertion professionnelle) chargé de votre accompagnement. Vous devez élaborer et actualiser périodiquement votre projet personnalisé d'accès à l'emploi (PPAE) avec lui. Si vous êtes orienté vers un organisme de placement autre que Pôle emploi, vous devez conclure, sous 1 mois avec les services du département, un contrat précisant les informations suivantes : \n",
       "- Nature et caractéristiques de l’emploi que vous recherchez\n",
       "- Actes de recherche d’emploi que vous vous engagez à réaliser\n",
       "- Actions que l’organisme de placement s’engage à mettre en œuvre\n",
       " Vous ne pouvez pas refuser plus de 2 offres raisonnables d'emploi définies dans votre PPAE. (À savoir: la personne avec qui vous vivez en couple est soumise aux mêmes droits et obligations que vous.) Cas Vous ne pouvez pas travailler: Si vous ne pouvez pas reprendre immédiatement un emploi (problème de logement ou de santé), vous êtes orienté vers les services sociaux du département ou vers un organisme d'insertion. L'organisme vers lequel vous êtes orienté désigne un référent unique (un travailleur social) chargé de votre accompagnement. Vous pouvez être orienté vers les services sociaux du département ou un organisme d’insertion. Dans ce cas, vous devez conclure avec les services du département, sous 2 mois, un contrat qui détermine vos obligations en matière d'insertion professionnelle. Si vous n'avez pas été réorienté vers Pôle emploi (ou un autre organisme de placement) après un délai de 6 mois à 1 an, votre situation est examinée par les services du département. Votre contrat d'insertion peut être révisé. \n",
       "\n",
       "Question : Quels sont les services d'accompagnement disponibles pour les demandeurs d'emploi qui perçoivent le RSA et comment fonctionne la collaboration avec Pôle emploi ?</pre></div><div style=\"width: 50%; padding:10px;\"> <div style=\"text-align:center;color:blue;\">answer</div> <pre class=\"qq\">Les services d'accompagnement disponibles pour les demandeurs d'emploi qui perçoivent le RSA sont les suivants :\n",
       "\n",
       "- Pour les demandeurs d'emploi qui peuvent travailler et reprendre immédiatement un emploi, ils sont orientés vers Pôle emploi ou un autre organisme de placement, comme une maison de l'emploi. Un référent unique, tel qu'un conseiller Pôle emploi ou un conseiller en insertion professionnelle, est désigné pour les accompagner. Ils doivent élaborer et actualiser périodiquement leur projet personnalisé d'accès à l'emploi (PPAE) avec ce référent. Si ces demandeurs d'emploi sont orientés vers un organisme de placement autre que Pôle emploi, ils doivent conclure un contrat avec les services du département, précisant la nature de l'emploi recherché, les actes de recherche d'emploi à réaliser et les actions que l'organisme de placement s'engage à mettre en œuvre. Ils ne peuvent pas refuser plus de 2 offres raisonnables d'emploi définies dans leur PPAE.\n",
       "\n",
       "- Pour les demandeurs d'emploi qui ne peuvent pas travailler immédiatement en raison de problèmes de logement ou de santé, ils sont orientés vers les services sociaux du département ou un organisme d'insertion. Un référent unique, tel qu'un travailleur social, est désigné pour les accompagner. Ils doivent conclure un contrat avec les services du département, déterminant leurs obligations en matière d'insertion professionnelle. Si ces demandeurs d'emploi ne sont pas réorientés vers Pôle emploi ou un autre organisme de placement après un délai de 6 mois à 1 an, leur situation est examinée par les services du département et leur contrat d'insertion peut être révisé.\n",
       "\n",
       "La collaboration avec Pôle emploi se fait en orientant les demandeurs d'emploi vers cet organisme pour bénéficier de son accompagnement et de ses services. Pôle emploi désigne un référent unique chargé de l'accompagnement des demandeurs d'emploi, en collaboration avec les autres organismes de placement si nécessaire. Les demandeurs d'emploi doivent élaborer et actualiser leur PPAE avec ce référent, et ils ne peuvent pas refuser plus de 2 offres raisonnables d'emploi définies dans leur PPAE.</pre></div></div></div>"
      ],
      "text/plain": [
       "<IPython.core.display.HTML object>"
      ]
     },
     "metadata": {},
     "output_type": "display_data"
    },
    {
     "data": {
      "text/html": [
       "<br>"
      ],
      "text/plain": [
       "<IPython.core.display.HTML object>"
      ]
     },
     "metadata": {},
     "output_type": "display_data"
    },
    {
     "data": {
      "text/html": [
       "\n",
       "        <style>\n",
       "            .qq {\n",
       "                word-break: keep-all;\n",
       "                white-space: pre-wrap;\n",
       "            }\n",
       "        </style>\n",
       "\n",
       "        <div style=\"border:1px solid grey;padding:5px;border-radius:8px;\">\n",
       "            <div>ID: ID &nbsp Q: 97</div>\n",
       "            <h5 style=\"font-weight: bold;\">Quels sont les jours fériés spécifiques à l'Alsace-Moselle et quelles sont les différences par rapport au reste de la France ?</h5>\n",
       "            <div style=\"display:flex; align-items:top;\"><div style=\"width: 50%; padding:10px;\"> <div style=\"text-align:center;color:blue;\">prompt</div> <pre class=\"qq\">Utilisez les éléments de contexte à votre disposition ci-dessous pour répondre à la question finale. Si vous ne connaissez pas la réponse, dites simplement que vous ne savez pas, n'essayez pas d'inventer une réponse.\n",
       "\n",
       "https://www.service-public.fr/particuliers/vosdroits/F13887 : Travail le dimanche d'un salarié du secteur privé (Alsace-Moselle)\n",
       "Les départements du Haut-Rhin, du Bas-Rhin et de Moselle ne sont pas soumis à la même législation que les autres départements français en ce qui concerne le travail du dimanche. Certaines activités peuvent ouvrir le dimanche, mais uniquement à des horaires, périodes de l'année et durées déterminés selon arrêté préfectoral ou municipal. C'est le cas notamment pour les activités suivantes :\n",
       "- Boucheries-charcuteries\n",
       "- Poissonneries\n",
       "- Épiceries\n",
       "- Glaciers\n",
       "- Boulangeries\n",
       "- Pâtisseries\n",
       "- Stations-service\n",
       "- Commerces de vente au détail\n",
       "- Fleuristes\n",
       "- Vendeurs de journaux \n",
       "\n",
       "https://www.service-public.fr/particuliers/vosdroits/F2405 : Jours fériés et ponts dans le secteur privé (Qu'est-ce que la journée de solidarité ?)\n",
       "La journée de solidarité consiste en une journée de travail supplémentaire. Elle est destinée au financement d'actions en faveur de l'autonomie des personnes âgées ou handicapées. La journée de solidarité prend la forme d'une journée de travail supplémentaire par an non rémunérée. Elle peut prévoir :\n",
       "- Soit le travail d'un jour férié précédemment chômé autre que le 1 er mai (le lundi de Pentecôte, par exemple)\n",
       "- Soit le travail d'une journée de RTT prévue dans le cadre d'un accord d'aménagement du temps de travail\n",
       "- Soit tout autre mode d'organisation permettant le travail de 7 heures précédemment non travaillées (travailler un samedi, par exemple)\n",
       "Les conditions d'accomplissement de cette journée sont fixées :\n",
       "- Soit la convention collective ou par un accord de branche ou un accord d'entreprise ou d'établissement\n",
       "- Soit, en l'absence de convention ou d'accord, par l'employeur après consultation du comité social et économique (CSE)\n",
       "Les heures de travail effectuées durant la journée de solidarité ne sont pas rémunérés :\n",
       "- Soit 7 heures non rémunérées au maximum pour les salariés mensualisés, réduites proportionnellement à la durée contractuelle en cas de travail à temps partiel\n",
       "- Soit une journée de travail au maximum pour le salarié qui travaille au forfait jours\n",
       "Les heures travaillées durant la journée de solidarité ne sont pas considérées comme des heures supplémentaires. (À noter: en Alsace-Moselle, la journée de solidarité ne peut pas être accomplie les 25 et 26 décembre, ni le jour du Vendredi Saint.) Que se passe-t-il si le salarié a déjà effectué la journée de solidarité ? En raison d'un changement d'employeur, un salarié peut avoir déjà effectué un jour supplémentaire de travail durant l'année en cours dans le cadre de la journée de solidarité. Dans ce cas, s'il est amené à effectuer une nouvelle journée de solidarité, les heures travaillées sont rémunérées et considérées comme des heures supplémentaires. Ces heures donnent lieu à contrepartie obligatoire sous forme de repos. Le salarié peut refuser d'exécuter cette journée supplémentaire de travail sans que ce refus constitue une faute ou un motif de licenciement. \n",
       "\n",
       "https://www.service-public.fr/particuliers/vosdroits/F2405 : Jours fériés et ponts dans le secteur privé (Quelles sont les dates des jours fériés en 2023 ? > Fêtes légales)\n",
       "Cas Cas général: Dates des fêtes légales en 2023:\n",
       "| Fête légale | Date | \n",
       "| - | - | \n",
       "| Jour de l'An | Dimanche 1 er janvier 2023 | \n",
       "| Lundi de Pâques | Lundi 10 avril 2023 | \n",
       "| Fête du Travail | Lundi 1 er mai 2023 | \n",
       "| Victoire 1945 | Lundi 8 mai 2023 | \n",
       "| Ascension | Jeudi 18 mai 2023 | \n",
       "| Lundi de Pentecôte | Lundi 29 mai 2023 | \n",
       "| Fête nationale | Vendredi 14 juillet 2023 | \n",
       "| Assomption | Mardi 15 août 2023 | \n",
       "| Toussaint | Mercredi 1 er novembre 2023 | \n",
       "| Armistice 1918 | Samedi 11 novembre 2023 | \n",
       "| Noël | Lundi 25 décembre 2023 |\n",
       "Cas Alsace-Moselle: Dates des fêtes légales en 2023:\n",
       "| Fête légale | Date | \n",
       "| - | - | \n",
       "| Jour de l'An | Dimanche 1 er janvier 2023 | \n",
       "| Vendredi Saint (dans les communes ayant un temple protestant ou une église mixte) | Vendredi 7 avril 2023 | \n",
       "| Lundi de Pâques | Lundi 10 avril 2023 | \n",
       "| Fête du Travail | Lundi 1 er mai 2023 | \n",
       "| Victoire 1945 | Lundi 8 mai 2023 | \n",
       "| Ascension | Jeudi 18 mai 2023 | \n",
       "| Lundi de Pentecôte | Lundi 29 mai 2023 | \n",
       "| Fête nationale | Vendredi 14 juillet 2023 | \n",
       "| Assomption | Mardi 15 août 2023 | \n",
       "| Toussaint | Mercredi 1 er novembre 2023 | \n",
       "| Armistice 1918 | Samedi 11 novembre 2023 | \n",
       "| 1 er jour de Noël | Lundi 25 décembre 2023 | \n",
       "| 2 e jour de Noël | Mardi 26 décembre 2023 |\n",
       "Cas Outre-mer: Dates des fêtes légales en 2023:\n",
       "| Fête légale | Date | \n",
       "| - | - | \n",
       "| Jour de l'An | Dimanche 1 er janvier 2023 | \n",
       "| Lundi de Pâques | Lundi 10 avril 2023 | \n",
       "| Fête du Travail | Lundi 1 er mai 2023 | \n",
       "| Victoire 1945 | Lundi 8 mai 2023 | \n",
       "| Ascension | Jeudi 18 mai 2023 | \n",
       "| Lundi de Pentecôte | Lundi 29 mai 2023 | \n",
       "| Fête nationale | Vendredi 14 juillet 2023 | \n",
       "| Assomption | Mardi 15 août 2023 | \n",
       "| Toussaint | Mercredi 1 er novembre 2023 | \n",
       "| Armistice 1918 | Samedi 11 novembre 2023 | \n",
       "| Noël | Lundi 25 décembre 2023 | \n",
       " En plus des fêtes légales nationales, le jour de la commémoration de l'abolition de l'esclavage est un jour férié dans les Drom . La date varie selon le département, dans les conditions suivantes : \n",
       "Date de la commémoration de l'abolition de l'esclavage dans chaque Dom:\n",
       "| Dom concerné | Date | \n",
       "| - | - | \n",
       "| Guadeloupe | 27 mai | \n",
       "| Guyane | 10 juin | \n",
       "| Martinique | 22 mai | \n",
       "| Mayotte | 27 avril | \n",
       "| La Réunion | 20 décembre | \n",
       "| Saint-Barthélemy | 9 octobre | \n",
       "| Saint-Martin | 27 mai | \n",
       "\n",
       "https://www.service-public.fr/particuliers/vosdroits/F36536 : En cas de divorce, comment organiser la vie de l'enfant ? (Comment s'exerce le droit de visite et d'hébergement quand il y a un jour férié ou un pont ?)\n",
       "Si un jour férié ou chômé tombe avant ou après un week-end où vous avez l'enfant et si rien n'est précisé dans le jugement ou la convention, il est d'usage que ce jour fasse partie du week-end. Cas Cas général: Dates des fêtes légales en 2023:\n",
       "| Fête légale | Date | \n",
       "| - | - | \n",
       "| Jour de l'An | Dimanche 1 er janvier 2023 | \n",
       "| Lundi de Pâques | Lundi 10 avril 2023 | \n",
       "| Fête du Travail | Lundi 1 er mai 2023 | \n",
       "| Victoire 1945 | Lundi 8 mai 2023 | \n",
       "| Ascension | Jeudi 18 mai 2023 | \n",
       "| Lundi de Pentecôte | Lundi 29 mai 2023 | \n",
       "| Fête nationale | Vendredi 14 juillet 2023 | \n",
       "| Assomption | Mardi 15 août 2023 | \n",
       "| Toussaint | Mercredi 1 er novembre 2023 | \n",
       "| Armistice 1918 | Samedi 11 novembre 2023 | \n",
       "| Noël | Lundi 25 décembre 2023 |\n",
       "Cas Alsace-Moselle: Dates des fêtes légales en 2023:\n",
       "| Fête légale | Date | \n",
       "| - | - | \n",
       "| Jour de l'An | Dimanche 1 er janvier 2023 | \n",
       "| Vendredi Saint (dans les communes ayant un temple protestant ou une église mixte) | Vendredi 7 avril 2023 | \n",
       "| Lundi de Pâques | Lundi 10 avril 2023 | \n",
       "| Fête du Travail | Lundi 1 er mai 2023 | \n",
       "| Victoire 1945 | Lundi 8 mai 2023 | \n",
       "| Ascension | Jeudi 18 mai 2023 | \n",
       "| Lundi de Pentecôte | Lundi 29 mai 2023 | \n",
       "| Fête nationale | Vendredi 14 juillet 2023 | \n",
       "| Assomption | Mardi 15 août 2023 | \n",
       "| Toussaint | Mercredi 1 er novembre 2023 | \n",
       "| Armistice 1918 | Samedi 11 novembre 2023 | \n",
       "| 1 er jour de Noël | Lundi 25 décembre 2023 | \n",
       "| 2 e jour de Noël | Mardi 26 décembre 2023 |\n",
       "Cas Outre-mer: Dates des fêtes légales en 2023:\n",
       "| Fête légale | Date | \n",
       "| - | - | \n",
       "| Jour de l'An | Dimanche 1 er janvier 2023 | \n",
       "| Lundi de Pâques | Lundi 10 avril 2023 | \n",
       "| Fête du Travail | Lundi 1 er mai 2023 | \n",
       "| Victoire 1945 | Lundi 8 mai 2023 | \n",
       "| Ascension | Jeudi 18 mai 2023 | \n",
       "| Lundi de Pentecôte | Lundi 29 mai 2023 | \n",
       "| Fête nationale | Vendredi 14 juillet 2023 | \n",
       "| Assomption | Mardi 15 août 2023 | \n",
       "| Toussaint | Mercredi 1 er novembre 2023 | \n",
       "| Armistice 1918 | Samedi 11 novembre 2023 | \n",
       "| Noël | Lundi 25 décembre 2023 | \n",
       " En plus des fêtes légales nationales, le jour de la commémoration de l'abolition de l'esclavage est un jour férié dans les Drom . La date varie selon le département, dans les conditions suivantes : \n",
       "Date de la commémoration de l'abolition de l'esclavage dans chaque Dom:\n",
       "| Dom concerné | Date | \n",
       "| - | - | \n",
       "| Guadeloupe | 27 mai | \n",
       "| Guyane | 10 juin | \n",
       "| Martinique | 22 mai | \n",
       "| Mayotte | 27 avril | \n",
       "| La Réunion | 20 décembre | \n",
       "| Saint-Barthélemy | 9 octobre | \n",
       "| Saint-Martin | 27 mai | \n",
       "\n",
       "Question : Quels sont les jours fériés spécifiques à l'Alsace-Moselle et quelles sont les différences par rapport au reste de la France ?</pre></div><div style=\"width: 50%; padding:10px;\"> <div style=\"text-align:center;color:blue;\">answer</div> <pre class=\"qq\">Les jours fériés spécifiques à l'Alsace-Moselle sont le Vendredi Saint (dans les communes ayant un temple protestant ou une église mixte) et les deux jours de Noël (le 1er jour de Noël et le 2e jour de Noël). Les différences par rapport au reste de la France sont que ces jours fériés ne sont pas observés dans les autres départements français.</pre></div></div></div>"
      ],
      "text/plain": [
       "<IPython.core.display.HTML object>"
      ]
     },
     "metadata": {},
     "output_type": "display_data"
    },
    {
     "data": {
      "text/html": [
       "<br>"
      ],
      "text/plain": [
       "<IPython.core.display.HTML object>"
      ]
     },
     "metadata": {},
     "output_type": "display_data"
    },
    {
     "data": {
      "text/html": [
       "\n",
       "        <style>\n",
       "            .qq {\n",
       "                word-break: keep-all;\n",
       "                white-space: pre-wrap;\n",
       "            }\n",
       "        </style>\n",
       "\n",
       "        <div style=\"border:1px solid grey;padding:5px;border-radius:8px;\">\n",
       "            <div>ID: ID &nbsp Q: 98</div>\n",
       "            <h5 style=\"font-weight: bold;\">Comment peut-on consulter le FCC pour vérifier si une personne est interdite d'émettre des chèques ou d'utiliser une carte bancaire ?</h5>\n",
       "            <div style=\"display:flex; align-items:top;\"><div style=\"width: 50%; padding:10px;\"> <div style=\"text-align:center;color:blue;\">prompt</div> <pre class=\"qq\">Utilisez les éléments de contexte à votre disposition ci-dessous pour répondre à la question finale. Si vous ne connaissez pas la réponse, dites simplement que vous ne savez pas, n'essayez pas d'inventer une réponse.\n",
       "\n",
       "https://www.service-public.fr/particuliers/vosdroits/F2411 : Fichier central des chèques (FCC) (Pour quels motifs pouvez-vous être inscrit au fichier central des chèques ?)\n",
       "Vous pouvez être inscrit au FCC si vous êtes dans l'une des situations suivantes :\n",
       "- Votre banque vous a interdit d’émettre des chèques . C'est le cas lorsque vous avez fait un chèque sans provision et que celui-ci a été rejeté par votre banque. - Une décision judiciaire vous a interdit d'émettre des chèques\n",
       "- Votre banque vous a interdit d'utiliser une carte bancaire en raison d'un usage abusif\n",
       "La Banque de France vous inscrit alors au FCC. \n",
       "\n",
       "https://www.service-public.fr/particuliers/vosdroits/F2411 : Fichier central des chèques (FCC) (Quelles sont les informations contenues dans le fichier central des chèques ?)\n",
       "Les informations contenues dans le fichier dépendent de la raison pour laquelle vous y êtes inscrit. Cas Vous avez interdiction d'émettre des chèques: Le FCC regroupe les informations suivantes : \n",
       "- Votre identité (prénom, nom, nom d'usage, sexe, date et lieu de naissance)\n",
       "- Chèques sans provision à l'origine d'une interdiction (numéro d'incident, montant du chèque, date et cause du refus de paiement, agence bancaire de rattachement, etc.) Cas Vous avez interdiction d'utiliser une carte bancaire: Le FCC regroupe les informations suivantes : \n",
       "- Votre identité (prénom, nom, date et lieu de naissance),\n",
       "- Date du retrait de la carte bancaire \n",
       "\n",
       "https://www.service-public.fr/particuliers/vosdroits/F2411 : Fichier central des chèques (FCC) (Qui peut consulter le ficher central des chèques ?)\n",
       "Les organismes suivants peuvent consulter l'intégralité des informations du FCC :\n",
       "- Établissements de crédit, sociétés de financement, établissements de paiement et de monnaie électronique\n",
       "\n",
       "- Commission de surendettement\n",
       "- Autorités judiciaires\n",
       "Vous pouvez également accéder au FCC, mais uniquement pour consulter les informations qui vous concernent. \n",
       "\n",
       "https://www.service-public.fr/particuliers/vosdroits/F2411 : Fichier central des chèques (FCC) (Comment êtes vous informé de votre inscription au fichier central des chèques ?)\n",
       "Votre banque doit vous informer par écrit de votre inscription au FCC. \n",
       "\n",
       "Question : Comment peut-on consulter le FCC pour vérifier si une personne est interdite d'émettre des chèques ou d'utiliser une carte bancaire ?</pre></div><div style=\"width: 50%; padding:10px;\"> <div style=\"text-align:center;color:blue;\">answer</div> <pre class=\"qq\">Pour consulter le FCC et vérifier si une personne est interdite d'émettre des chèques ou d'utiliser une carte bancaire, seuls les établissements de crédit, les sociétés de financement, les établissements de paiement et de monnaie électronique, la Commission de surendettement et les autorités judiciaires ont le droit d'accéder à l'intégralité des informations du FCC. Les particuliers ne peuvent consulter que les informations les concernant. Par conséquent, il n'est pas possible pour un particulier de consulter le FCC pour vérifier si une personne est interdite d'émettre des chèques ou d'utiliser une carte bancaire.</pre></div></div></div>"
      ],
      "text/plain": [
       "<IPython.core.display.HTML object>"
      ]
     },
     "metadata": {},
     "output_type": "display_data"
    },
    {
     "data": {
      "text/html": [
       "<br>"
      ],
      "text/plain": [
       "<IPython.core.display.HTML object>"
      ]
     },
     "metadata": {},
     "output_type": "display_data"
    },
    {
     "data": {
      "text/html": [
       "\n",
       "        <style>\n",
       "            .qq {\n",
       "                word-break: keep-all;\n",
       "                white-space: pre-wrap;\n",
       "            }\n",
       "        </style>\n",
       "\n",
       "        <div style=\"border:1px solid grey;padding:5px;border-radius:8px;\">\n",
       "            <div>ID: ID &nbsp Q: 99</div>\n",
       "            <h5 style=\"font-weight: bold;\">Quelles sont les démarches à suivre pour effectuer un changement de nom en France en cas de motif légitime ?</h5>\n",
       "            <div style=\"display:flex; align-items:top;\"><div style=\"width: 50%; padding:10px;\"> <div style=\"text-align:center;color:blue;\">prompt</div> <pre class=\"qq\">Utilisez les éléments de contexte à votre disposition ci-dessous pour répondre à la question finale. Si vous ne connaissez pas la réponse, dites simplement que vous ne savez pas, n'essayez pas d'inventer une réponse.\n",
       "\n",
       "https://www.service-public.fr/particuliers/vosdroits/F1656 : Procédure de changement de nom de famille par décret (motif légitime) (En France > Publier votre demande au Journal officiel de la République française (JORF) > Prix)\n",
       "La publication d'une annonce préalable de changement de nom au JORF est gratuite. \n",
       "\n",
       "https://www.service-public.fr/particuliers/vosdroits/F1656 : Procédure de changement de nom de famille par décret (motif légitime) (En France > Attendre la réponse du ministère de la justice > Délai)\n",
       "Le délai pour obtenir une décision est variable en fonction de la complexité de la demande. Comptez plusieurs mois, parfois plusieurs années. Pour connaître l'avancement de votre dossier, vous pouvez vous adresser à la Direction des affaires civiles et du Sceau du ministère de la justice. \n",
       "\n",
       "https://www.service-public.fr/particuliers/vosdroits/F1656 : Procédure de changement de nom de famille par décret (motif légitime) (En France > Attendre la réponse du ministère de la justice > Instruction)\n",
       "Le service du Sceau du ministère de la justice étudie votre dossier. Ce service peut demander au procureur de la République de faire une enquête. Il peut aussi demander l'avis du Conseil d'État en cas de difficulté. (À savoir: Si vous souhaitez renoncer à votre demande, vous devez le faire par écrit dans les 2 mois suivant l'envoi de votre dossier.) \n",
       "\n",
       "https://www.service-public.fr/particuliers/vosdroits/F1656 : Procédure de changement de nom de famille par décret (motif légitime) (En France > Publier votre demande au Journal officiel de la République française (JORF) > Délai de publication)\n",
       "De 3 à 5 jours. \n",
       "\n",
       "Question : Quelles sont les démarches à suivre pour effectuer un changement de nom en France en cas de motif légitime ?</pre></div><div style=\"width: 50%; padding:10px;\"> <div style=\"text-align:center;color:blue;\">answer</div> <pre class=\"qq\">Pour effectuer un changement de nom en France en cas de motif légitime, vous devez suivre les démarches suivantes :\n",
       "1. Publier une annonce préalable de changement de nom au Journal officiel de la République française (JORF), ce qui est gratuit.\n",
       "2. Attendre la réponse du ministère de la justice, qui peut prendre plusieurs mois voire plusieurs années en fonction de la complexité de la demande.\n",
       "3. Pendant l'instruction de votre dossier par le service du Sceau du ministère de la justice, il peut demander au procureur de la République de faire une enquête et demander l'avis du Conseil d'État en cas de difficulté.\n",
       "4. Si vous souhaitez renoncer à votre demande, vous devez le faire par écrit dans les 2 mois suivant l'envoi de votre dossier.\n",
       "5. Une fois que votre demande est acceptée, votre changement de nom sera publié au Journal officiel de la République française (JORF) dans un délai de 3 à 5 jours.</pre></div></div></div>"
      ],
      "text/plain": [
       "<IPython.core.display.HTML object>"
      ]
     },
     "metadata": {},
     "output_type": "display_data"
    },
    {
     "data": {
      "text/html": [
       "<br>"
      ],
      "text/plain": [
       "<IPython.core.display.HTML object>"
      ]
     },
     "metadata": {},
     "output_type": "display_data"
    },
    {
     "data": {
      "text/html": [
       "\n",
       "        <style>\n",
       "            .qq {\n",
       "                word-break: keep-all;\n",
       "                white-space: pre-wrap;\n",
       "            }\n",
       "        </style>\n",
       "\n",
       "        <div style=\"border:1px solid grey;padding:5px;border-radius:8px;\">\n",
       "            <div>ID: ID &nbsp Q: 100</div>\n",
       "            <h5 style=\"font-weight: bold;\">Quels sont les recours possibles en cas de refus d'une demande de changement de nom par le Conseil d'État ?</h5>\n",
       "            <div style=\"display:flex; align-items:top;\"><div style=\"width: 50%; padding:10px;\"> <div style=\"text-align:center;color:blue;\">prompt</div> <pre class=\"qq\">Utilisez les éléments de contexte à votre disposition ci-dessous pour répondre à la question finale. Si vous ne connaissez pas la réponse, dites simplement que vous ne savez pas, n'essayez pas d'inventer une réponse.\n",
       "\n",
       "https://www.service-public.fr/particuliers/vosdroits/F1656 : Procédure de changement de nom de famille par décret (motif légitime) (À l'étranger > S'assurer que personne conteste votre changement de nom)\n",
       "Un tiers peut s'opposer à votre changement de nom s'il donne des raisons précises. Par exemple, pour protéger son propre nom de famille. Le tiers peut envoyer un courrier au ministère de la justice. Il doit envoyer son courrier après la publication au JORF de votre demande préalable mais avant la publication au JORF du décret relatif à votre changement de nom. Si le décret concernant votre changement de nom a été publié au JORF, le tiers doit engager une procédure devant le Conseil d'État dans les 2 mois suivant sa publication au JORF. Pour vous assurer qu'aucun tiers ne s'est opposé à votre changement de nom, vous pouvez vous adresser au Conseil d'État. Le Conseil d’État vous délivre :\n",
       "- Soit un certificat de non-opposition, si personne ne s'est opposé à votre changement de nom,\n",
       "- Soit une copie de la décision refusant l'opposition si le Conseil d'État a refusé l’opposition d'un tiers à votre changement de nom. Si le Conseil d'État annule le décret relatif à votre changement de nom, vous ne pouvez pas renouveler votre demande à moins d'avoir de nouveaux éléments exceptionnels. \n",
       "\n",
       "https://www.service-public.fr/particuliers/vosdroits/F1656 : Procédure de changement de nom de famille par décret (motif légitime) (En France > S'assurer que personne conteste votre changement de nom)\n",
       "Un tiers peut s'opposer à votre changement de nom s'il donne des raisons précises. Par exemple, pour protéger son propre nom de famille. Le tiers peut envoyer un courrier au ministère de la justice. Il doit envoyer son courrier après la publication au JORF de votre demande préalable mais avant la publication au JORF du décret concernant votre changement de nom. Si le décret relatif à votre changement de nom a été publié au JORF, le tiers doit engager une procédure devant le Conseil d'État dans les 2 mois suivant sa publication au JORF. Pour vous assurer qu'aucun tiers ne s'est opposé à votre changement de nom, vous pouvez vous adresser au Conseil d'État. Le Conseil d’État vous délivre :\n",
       "- Soit un certificat de non-opposition , si personne ne s'est opposé à votre changement de nom,\n",
       "- Soit une copie de la décision refusant l'opposition si le Conseil d'État a refusé l’opposition d'un tiers à votre changement de nom. Si le Conseil d'État annule le décret relatif à votre changement de nom, vous ne pouvez pas renouveler votre demande à moins d'avoir de nouveaux éléments exceptionnels. \n",
       "\n",
       "https://www.service-public.fr/particuliers/vosdroits/F1656 : Procédure de changement de nom de famille par décret (motif légitime) (En France > Faire un éventuel recours si votre demande est refusée)\n",
       "Si votre demande est refusée, le refus doit être motivé. Il vous est notifié par lettre recommandée avec AR. Vous pouvez contester la décision de refus devant le tribunal administratif de Paris dans les 2 mois à partir de sa notification. Le recours à un avocat n'est pas obligatoire. Avant de contester la décision de refus devant le tribunal administratif de Paris, vous pouvez faire un recours gracieux auprès du ministre de la justice. Toutefois, vous devez présenter de nouveaux éléments pour que votre recours soit examiné. Vous devez faire le recours gracieux dans les 2 mois suivant la notification de la décision de refus. Si vous faites un recours gracieux, le recours pour saisir le tribunal administratif est interrompu. (Exemple: Le ministère de la justice vous notifie un refus le 4 avril 2023 et vous déposez un recours gracieux le 26 mai 2023. Votre recours gracieux est rejeté le 24 juin 2023. Vous pouvez saisir le juge administratif jusqu'au 25 août 2023 à minuit. Si le délai expire un samedi, un dimanche, un jour férié ou un jour chômé , le délai est prolongé jusqu'au 1 er jour ouvrable suivant.) \n",
       "\n",
       "https://www.service-public.fr/particuliers/vosdroits/F1656 : \n",
       "Vous avez un motif légitime pour changer votre nom de famille ? Par exemple, votre nom est difficile à porter ? Vous pouvez utiliser la procédure de changement de nom par décret . Cette page vous indique les étapes à suivre pour faire cette démarche. Elle diffère selon que vous résidez en France ou à l'étranger . Voici une liste de différents cas possibles:\n",
       "- Vérifier que la procédure correspond à votre situation\n",
       "- Vérifier qui doit faire la demande\n",
       "- Publier votre demande au Journal officiel de la République française (JORF)\n",
       "- Publier votre demande sur un support habilité à recevoir des annonces légales\n",
       "- Envoyer votre demande au ministère de la justice\n",
       "- Attendre la réponse du ministère de la justice\n",
       "- Réceptionner votre décret de changement de nom\n",
       "- Faire un éventuel recours si votre demande est refusée\n",
       "- S'assurer que personne conteste votre changement de nom\n",
       "- Demander le renouvellement de vos titres d'identité \n",
       "\n",
       "Question : Quels sont les recours possibles en cas de refus d'une demande de changement de nom par le Conseil d'État ?</pre></div><div style=\"width: 50%; padding:10px;\"> <div style=\"text-align:center;color:blue;\">answer</div> <pre class=\"qq\">En cas de refus d'une demande de changement de nom par le Conseil d'État, il est possible de faire un recours devant le tribunal administratif de Paris dans les 2 mois suivant la notification du refus. Il est également possible de faire un recours gracieux auprès du ministre de la justice, mais il est nécessaire de présenter de nouveaux éléments pour que le recours soit examiné. Le recours gracieux doit être fait dans les 2 mois suivant la notification du refus.</pre></div></div></div>"
      ],
      "text/plain": [
       "<IPython.core.display.HTML object>"
      ]
     },
     "metadata": {},
     "output_type": "display_data"
    },
    {
     "data": {
      "text/html": [
       "<br>"
      ],
      "text/plain": [
       "<IPython.core.display.HTML object>"
      ]
     },
     "metadata": {},
     "output_type": "display_data"
    },
    {
     "data": {
      "text/html": [
       "\n",
       "        <style>\n",
       "            .qq {\n",
       "                word-break: keep-all;\n",
       "                white-space: pre-wrap;\n",
       "            }\n",
       "        </style>\n",
       "\n",
       "        <div style=\"border:1px solid grey;padding:5px;border-radius:8px;\">\n",
       "            <div>ID: ID &nbsp Q: 101</div>\n",
       "            <h5 style=\"font-weight: bold;\">Quels sont les critères pour établir la responsabilité civile d'un membre d'une association pour une faute détachable de ses fonctions ?</h5>\n",
       "            <div style=\"display:flex; align-items:top;\"><div style=\"width: 50%; padding:10px;\"> <div style=\"text-align:center;color:blue;\">prompt</div> <pre class=\"qq\">Utilisez les éléments de contexte à votre disposition ci-dessous pour répondre à la question finale. Si vous ne connaissez pas la réponse, dites simplement que vous ne savez pas, n'essayez pas d'inventer une réponse.\n",
       "\n",
       "https://www.service-public.fr/particuliers/vosdroits/F1130 : \n",
       "Si le dirigeant d'une association cause un dommage à un membre ou à un tiers, c'est en principe l'association qui est civilement responsable. Si le dirigeant d'une association cause un dommage par son fait et dans le cadre de ses fonctions à un tiers (personne extérieure à l'association), c'est en principe l'association en tant que personne morale qui est civilement responsable. Il en est de même si le dirigeant cause un dommage à un membre de l'association. C'est l'association qui indemnise la victime des dommages qu'elle a subi. Toutefois, la responsabilité personnelle du dirigeant peut également être recherchée s'il est établi qu'il a commis une faute détachable de ses fonctions. Une faute détachable des fonctions est une faute commise intentionnellement et d'une particulière gravité incompatible avec l'exercice normal des fonctions de dirigeant. La responsabilité personnelle du dirigeant peut également être recherchée s'il agit hors de ses attributions ou en dehors de son objet (exemple : une association de loisirs qui va faire des investissements immobiliers). L'association, en tant que personne morale, peut être pénalement responsable si son dirigeant commet pour son compte, un crime ou un délit. La responsabilité pénale du dirigeant, en tant qu'auteur ou complice des faits répréhensibles, peut aussi être engagée. Ainsi, si l'accident a pour cause un délit ou un crime, l'association et/ou son dirigeant peuvent être pénalement poursuivis. (Exemple: Une association a une voiture pour déplacer ses membres et le président conduit la voiture à plus de 50 km au-dessus des limitations de vitesse.) Dans ce cas, l'association sera civilement responsable et/ou pénalement et le dirigeant sera également pénalement poursuivi en tant qu'auteur des faits. (À savoir: les associations peuvent avoir plus ou moins d'obligations en fonction de leur objet (exemple : les associations sportives ont une obligation de sécurité vis-à-vis de leur adhérent). À ce titre, elles doivent souscrire une assurance couvrant leur responsabilité civile.) \n",
       "\n",
       "https://www.service-public.fr/particuliers/vosdroits/F10507 : \n",
       "Pour associer la famille à une mesure de protection, le juge et/ou le conseil de famille peut désigner un de ses membres en tant que subrogé tuteur ou subrogé curateur. Celui-ci joue un rôle important de contrôle. Il surveille les actes passés par le tuteur ou le curateur. Il doit informer le juge dès qu'il constate des fautes dans l'exercice de sa mission. Voici une liste de différents cas possibles:\n",
       "- Qui peut être le subrogé tuteur ? - Quel est le rôle du subrogé tuteur ? - Quelle articulation avec le conseil de famille ? - Dans quels cas la responsabilité du subrogé tuteur peut-elle être engagée ? - Le subrogé tuteur peut-il se voir retirer ses fonctions ? - Quand peut être désigné un tuteur exceptionnel (tuteur ad hoc) ? - Quand prend fin la mission du subrogé tuteur ? - Qui est le subrogé curateur ? - Quel est le rôle du subrogé curateur ? - Dans quels cas la responsabilité du subrogé curateur peut-elle être engagée ? - Quand peut-être désigné un curateur exceptionnel (curateur ad hoc) ? - Quand prend fin la mission du subrogé curateur ? \n",
       "\n",
       "https://www.service-public.fr/particuliers/vosdroits/F1127 : \n",
       "La constitution de partie civile est une demande d'indemnisation des préjudices subis pour une personne qui a été victime d'une ou plusieurs infractions . Une association qui défend des intérêts collectifs de portée générale (par exemple, racisme, aide aux victimes) peut se constituer partie civile sous certaines conditions. Elle peut également se constituer partie civile pour soutenir une ou plusieurs victimes nommément désignées suite à des infractions entrant dans son objet. Voici une liste de différents cas possibles:\n",
       "- Associations pouvant se constituer partie civile\n",
       "- Conditions pour qu'une association se constitue partie civile pour elle-même\n",
       "- Conditions pour qu'une association se constitue partie civile pour une victime\n",
       "- Infractions concernées\n",
       "- Comment se constituer partie civile ? - Quelle association peut bénéficier de l'aide juridictionnelle ? \n",
       "\n",
       "https://www.service-public.fr/particuliers/vosdroits/F24418 : \n",
       "En principe, un membre d'une association peut démissionner à tout moment et librement. Cependant, des dispositions dans les statuts peuvent soumettre la démission à certaines conditions. Dans tous les cas, la rédaction d'une lettre de démission est conseillée. Lorsque la démission provient du président ou d'un membre de droit de l'association, des spécificités s'appliquent. Nous vous présentons les informations à connaître. Voici une liste de différents cas possibles:\n",
       "- Quelles sont les règles pour qu'un membre d'une association démissionne ? - Quelles conditions peuvent être prévues dans les statuts pour une démission ? - Le membre de l'association qui démissionne doit-il envoyer une lettre de démission ? - Le membre de l'association peut-il se rétracter après sa démission ? - Faut-il déclarer la démission d'un dirigeant de l'association ? - Que deviennent les données personnelles du membre de l'association qui a démissionné ? - Quelles sont les conditions pouvant être prévues par les statuts pour une démission ? \n",
       "\n",
       "Question : Quels sont les critères pour établir la responsabilité civile d'un membre d'une association pour une faute détachable de ses fonctions ?</pre></div><div style=\"width: 50%; padding:10px;\"> <div style=\"text-align:center;color:blue;\">answer</div> <pre class=\"qq\">Les critères pour établir la responsabilité civile d'un membre d'une association pour une faute détachable de ses fonctions sont les suivants :\n",
       "- La faute doit être commise intentionnellement et d'une particulière gravité incompatible avec l'exercice normal des fonctions de dirigeant.\n",
       "- Le membre d'une association doit agir hors de ses attributions ou en dehors de l'objet de l'association.\n",
       "- La faute doit causer un dommage à un membre de l'association ou à un tiers.\n",
       "- L'association en tant que personne morale est civilement responsable et peut indemniser la victime, mais la responsabilité personnelle du membre peut également être recherchée.</pre></div></div></div>"
      ],
      "text/plain": [
       "<IPython.core.display.HTML object>"
      ]
     },
     "metadata": {},
     "output_type": "display_data"
    },
    {
     "data": {
      "text/html": [
       "<br>"
      ],
      "text/plain": [
       "<IPython.core.display.HTML object>"
      ]
     },
     "metadata": {},
     "output_type": "display_data"
    }
   ],
   "source": [
    "import IPython.display as display\n",
    "import pandas as pd\n",
    "\n",
    "\n",
    "def draw(view):\n",
    "    display.display(display.HTML(view))\n",
    "\n",
    "def draw_cols(cols, with_refs=False):\n",
    "    col_len = 100 // len(cols)\n",
    "    draw(f'''\n",
    "        <style>\n",
    "            .qq {{\n",
    "                word-break: keep-all;\n",
    "                white-space: pre-wrap;\n",
    "            }}\n",
    "        </style>\n",
    "\n",
    "        <div style=\"border:1px solid grey;padding:5px;border-radius:8px;\">\n",
    "            <div>ID: ID &nbsp Q: {i}</div>\n",
    "            <h5 style=\"font-weight: bold;\">{question}</h5>\n",
    "            <div style=\"display:flex; align-items:top;\">'''\n",
    "                    + ''.join([\n",
    "                                f'<div style=\"width: {col_len}%; padding:10px;\"> <div style=\"text-align:center;color:blue;\">{title}</div> <pre class=\"qq\">{text}</pre></div>'\n",
    "                                for title, text in cols\n",
    "                                ])\n",
    "            + '</div>'\n",
    "            #+ str(extract_top_words(cols[1][1], 5))\n",
    "            + (f'''<br><br>{\"=\"*100}<br><br>\n",
    "                 <pre>REFERENCES:<br><br>{\"<br>\".join(x[\"references_raw\"])}\n",
    "                 </pre>''' if with_refs else '')\n",
    "        + '</div>')\n",
    "    draw(\"<br>\")\n",
    "\n",
    "# Generate corpus from _data/training_albert-light.json :\n",
    "# cat _data/training_albert-light.json  |  jq 'map(select(.answer != \"nan\")) | map({query:.query, prompt:.prompt, answer: .answer})' > notebooks/albert-light.json\n",
    "corpus = pd.read_json(\"albert-light.json\")\n",
    "\n",
    "missed_patterns = [\n",
    "    \"ne fournissent pas\",\n",
    "    \"a pas d'éléments de contexte\",\n",
    "    \"pas possible de répondre\",\n",
    "    \"peux pas répondre à cette question\",\n",
    "    \"je ne sais pas\",\n",
    "    \"je ne peux pas\",\n",
    "]\n",
    "\n",
    "\n",
    "missed = corpus.apply(lambda x: any([q in x[\"answer\"] for q in missed_patterns]), axis=1).sum()\n",
    "\n",
    "print(f'''\n",
    "total: {len(corpus)}\n",
    "total negatif: {missed}\n",
    "''')\n",
    "\n",
    "\n",
    "for i, x in corpus.iterrows():\n",
    "    question = x[\"query\"]\n",
    "    cols = [\n",
    "        (\"prompt\", x[\"prompt\"]),\n",
    "        (\"answer\", x[\"answer\"]),\n",
    "    ]\n",
    "\n",
    "    draw_cols(cols, with_refs=False)\n",
    "\n",
    "    if i > 100:\n",
    "        break"
   ]
  },
  {
   "cell_type": "code",
   "execution_count": null,
   "id": "11b8cca6-489f-44e7-b0a8-129f3b78175d",
   "metadata": {},
   "outputs": [],
   "source": []
  },
  {
   "cell_type": "code",
   "execution_count": null,
   "id": "84256418-a8dd-4420-90af-82ff9eeea58d",
   "metadata": {},
   "outputs": [],
   "source": []
  }
 ],
 "metadata": {
  "kernelspec": {
   "display_name": "Python 3 (ipykernel)",
   "language": "python",
   "name": "python3"
  },
  "language_info": {
   "codemirror_mode": {
    "name": "ipython",
    "version": 3
   },
   "file_extension": ".py",
   "mimetype": "text/x-python",
   "name": "python",
   "nbconvert_exporter": "python",
   "pygments_lexer": "ipython3",
   "version": "3.9.2"
  }
 },
 "nbformat": 4,
 "nbformat_minor": 5
}
