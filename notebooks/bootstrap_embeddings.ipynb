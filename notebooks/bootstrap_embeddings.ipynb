{
  "nbformat": 4,
  "nbformat_minor": 0,
  "metadata": {
    "colab": {
      "provenance": [],
      "gpuType": "T4"
    },
    "kernelspec": {
      "name": "python3",
      "display_name": "Python 3"
    },
    "language_info": {
      "name": "python"
    },
    "accelerator": "GPU"
  },
  "cells": [
    {
      "cell_type": "code",
      "execution_count": 1,
      "metadata": {
        "colab": {
          "base_uri": "https://localhost:8080/"
        },
        "id": "Khsd3rWefzQS",
        "outputId": "205d6a52-bce2-4afa-e003-6904ecccb361"
      },
      "outputs": [
        {
          "output_type": "stream",
          "name": "stdout",
          "text": [
            "Drive already mounted at /content/drive; to attempt to forcibly remount, call drive.mount(\"/content/drive\", force_remount=True).\n",
            "/content/drive/My Drive\n"
          ]
        }
      ],
      "source": [
        "from google.colab import drive\n",
        "drive.mount('/content/drive')\n",
        "\n",
        "%cd \"/content/drive/My Drive\""
      ]
    },
    {
      "cell_type": "code",
      "source": [
        "p!pip install --progress-bar off  qdrant-client pandas transformers accelerate"
      ],
      "metadata": {
        "id": "6X-NasD5gFAr"
      },
      "execution_count": null,
      "outputs": []
    },
    {
      "cell_type": "code",
      "source": [
        "import json\n",
        "import re\n",
        "from time import time\n",
        "\n",
        "import torch\n",
        "import torch.nn.functional as F\n",
        "#from sentence_transformers import SentenceTransformer\n",
        "from torch import Tensor\n",
        "from transformers import AutoModel, AutoTokenizer\n",
        "import numpy as np\n"
      ],
      "metadata": {
        "id": "TFONFuvdrxGP"
      },
      "execution_count": 2,
      "outputs": []
    },
    {
      "cell_type": "code",
      "source": [
        "\n",
        "def average_pool(last_hidden_states: Tensor, attention_mask: Tensor) -> Tensor:\n",
        "    last_hidden = last_hidden_states.masked_fill(~attention_mask[..., None].bool(), 0.0)\n",
        "    return last_hidden.sum(dim=1) / attention_mask.sum(dim=1)[..., None]\n",
        "\n",
        "def embed(tokenizer, model, texts, batch_size=1):\n",
        "    # Sentence transformers for E5\n",
        "    embeddings = []\n",
        "    for i in range(0, len(texts), batch_size):\n",
        "        #print(\"batch:\", i)\n",
        "        batch_dict = tokenizer(\n",
        "            texts[i : i + batch_size],\n",
        "            max_length=512,\n",
        "            padding=True,\n",
        "            truncation=True,\n",
        "            return_tensors=\"pt\",\n",
        "        ).to(\"cuda\")\n",
        "        outputs = model(**batch_dict)\n",
        "\n",
        "        vectors = average_pool(outputs.last_hidden_state, batch_dict[\"attention_mask\"])\n",
        "        vectors = F.normalize(vectors, p=2, dim=1)\n",
        "        # print(type(vectors)) -> Tensor\n",
        "        # print(vectors.shape) -> (n_doc X size_embedding)\n",
        "        embeddings.append(vectors.detach().cpu().numpy())\n",
        "        #torch.cuda.empty_cache()\n",
        "\n",
        "    #return torch.cat(embeddings) # burn memory\n",
        "    return np.vstack(embeddings)\n",
        "\n",
        "now = time()\n",
        "\n",
        "device_map = \"cuda:0\"\n",
        "\n",
        "# sentence_transformer_ef = embedding_functions.SentenceTransformerEmbeddingFunction(model_name=\"e5-multilingual\", device = \"cuda\")\n",
        "model_name = \"intfloat/multilingual-e5-base\"\n",
        "#model_name = \"intfloat/multilingual-e5-small\"\n",
        "tokenizer = AutoTokenizer.from_pretrained(model_name)\n",
        "model = AutoModel.from_pretrained(model_name, device_map=device_map)  # -> SentenceTransformer\n",
        "\n",
        "loading_time = time()\n",
        "print(\"Loading time: %.3f\" % (loading_time - now))"
      ],
      "metadata": {
        "colab": {
          "base_uri": "https://localhost:8080/"
        },
        "id": "LQdE_LbwmADz",
        "outputId": "de03f014-b98c-44b8-ebdf-0e154fbf312a"
      },
      "execution_count": 29,
      "outputs": [
        {
          "output_type": "stream",
          "name": "stdout",
          "text": [
            "Loading time: 2.007\n"
          ]
        }
      ]
    },
    {
      "cell_type": "code",
      "source": [
        "\n",
        "with open(\"_data/export-expa-c-riences.json\") as f:\n",
        "    documents = json.load(f)\n",
        "\n",
        "def add_space_after_punctuation(text):\n",
        "    return re.sub(r'([.,;:!?])([^\\s\\d])', r'\\1 \\2', text)\n",
        "\n",
        "for d in documents:\n",
        "  descr = d[\"description\"]\n",
        "  d[\"description\"] = re.sub(r'([.,;!?])([^\\s])', r'\\1 \\2', descr)\n",
        ""
      ],
      "metadata": {
        "id": "ze91oh-1nOL6"
      },
      "execution_count": 30,
      "outputs": []
    },
    {
      "cell_type": "code",
      "source": [
        "\n",
        "now = time()\n",
        "texts = [x[\"description\"] for x in documents]\n",
        "embeddings = embed(tokenizer, model, texts, batch_size=4)\n",
        "print(\"Inference time: %.3f\" % (time() - now))\n",
        "\n",
        "np.save('embeddings_e5_experiences.npy', embeddings)"
      ],
      "metadata": {
        "colab": {
          "base_uri": "https://localhost:8080/"
        },
        "id": "qrGPKg9om1Mn",
        "outputId": "4caaa283-b620-4dc3-fdaf-7c1e9813f052"
      },
      "execution_count": 31,
      "outputs": [
        {
          "output_type": "stream",
          "name": "stdout",
          "text": [
            "Inference time: 633.767\n"
          ]
        }
      ]
    },
    {
      "cell_type": "code",
      "source": [],
      "metadata": {
        "id": "fINdwhWvpANY"
      },
      "execution_count": null,
      "outputs": []
    }
  ]
}