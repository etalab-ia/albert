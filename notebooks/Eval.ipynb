{
 "cells": [
  {
   "cell_type": "code",
   "execution_count": 2,
   "id": "243fc01e-9cfa-4fcf-abee-c2f95f0bbd9a",
   "metadata": {},
   "outputs": [],
   "source": [
    "import pandas as pd\n",
    "import matplotlib.pyplot as plt\n",
    "import re"
   ]
  },
  {
   "cell_type": "markdown",
   "id": "2e640696-187a-4c79-8912-cb460bb51bfb",
   "metadata": {},
   "source": [
    "**Reproduce the results**\n",
    "\n",
    "Simply run this bash script.\n",
    "\n",
    "```bash\n",
    "for model in miaou reference-simple reference-experience reference-expert; do\n",
    "    time python3 gpt.py evaluate $model v0 --csv\n",
    "done\n",
    "```"
   ]
  },
  {
   "cell_type": "code",
   "execution_count": 3,
   "id": "eeed7ca9-9dfc-4937-ac8d-c3783528cf84",
   "metadata": {},
   "outputs": [
    {
     "name": "stdout",
     "output_type": "stream",
     "text": [
      "Number of document: 500\n"
     ]
    }
   ],
   "source": [
    "targets = [\"albert-light-rag-v0\", \"albert-light-simple-v0\"]\n",
    "\n",
    "mean_dfs = []\n",
    "std_dfs = []\n",
    "for target in targets:\n",
    "    df = pd.read_csv(f\"../_data/x/{target}/res.csv\")\n",
    "    df = df.drop(\"id\", axis=1)\n",
    "    features = df.columns\n",
    "    n_doc = df.shape[0]\n",
    "    mean_dfs.append(df.mean(0))\n",
    "    std_dfs.append(df.std(0))\n",
    "\n",
    "print(\"Number of document: %d\" % n_doc)"
   ]
  },
  {
   "cell_type": "markdown",
   "id": "362d0f1a-4a2c-49df-80c3-32d33fc1ad23",
   "metadata": {},
   "source": [
    "The results show the mean value in the generated text, for the evaluation set \n",
    "\n",
    "* **words**: number of words in the text\n",
    "* **ttr**: lexical diversity (unique words / words)\n",
    "* **artefacts**: match prompt artefacts (^---, ^<\\w, ^###)\n",
    "* **emails**: number of emails\n",
    "* **urls**: number of url/website\n",
    "* **phones**: numbers of phone number\n",
    "* **dates**: number of date (at least a month given, optionnaly a day or a year)\n",
    "* **hours**: number of hours\n",
    "* **prices**: number of price or ratio"
   ]
  },
  {
   "cell_type": "code",
   "execution_count": 4,
   "id": "3a9504de-5ccc-47ea-8a70-0fbd76cd6b55",
   "metadata": {},
   "outputs": [
    {
     "data": {
      "text/html": [
       "<div>\n",
       "<style scoped>\n",
       "    .dataframe tbody tr th:only-of-type {\n",
       "        vertical-align: middle;\n",
       "    }\n",
       "\n",
       "    .dataframe tbody tr th {\n",
       "        vertical-align: top;\n",
       "    }\n",
       "\n",
       "    .dataframe thead th {\n",
       "        text-align: right;\n",
       "    }\n",
       "</style>\n",
       "<table border=\"1\" class=\"dataframe\">\n",
       "  <thead>\n",
       "    <tr style=\"text-align: right;\">\n",
       "      <th></th>\n",
       "      <th>words</th>\n",
       "      <th>ttr</th>\n",
       "      <th>emails</th>\n",
       "      <th>urls</th>\n",
       "      <th>phones</th>\n",
       "      <th>dates</th>\n",
       "      <th>hours</th>\n",
       "      <th>prices_</th>\n",
       "      <th>number_artefacts</th>\n",
       "      <th>prompt_artefacts</th>\n",
       "      <th>repetition</th>\n",
       "      <th>3word_repetition</th>\n",
       "    </tr>\n",
       "  </thead>\n",
       "  <tbody>\n",
       "    <tr>\n",
       "      <th>albert-light-rag-v0</th>\n",
       "      <td>120.35</td>\n",
       "      <td>0.61</td>\n",
       "      <td>0.0</td>\n",
       "      <td>0.06</td>\n",
       "      <td>0.04</td>\n",
       "      <td>0.04</td>\n",
       "      <td>0.01</td>\n",
       "      <td>0.12</td>\n",
       "      <td>0.86</td>\n",
       "      <td>0.0</td>\n",
       "      <td>0.05</td>\n",
       "      <td>0.0</td>\n",
       "    </tr>\n",
       "    <tr>\n",
       "      <th>albert-light-simple-v0</th>\n",
       "      <td>209.47</td>\n",
       "      <td>0.44</td>\n",
       "      <td>0.0</td>\n",
       "      <td>0.01</td>\n",
       "      <td>0.05</td>\n",
       "      <td>0.07</td>\n",
       "      <td>0.04</td>\n",
       "      <td>0.19</td>\n",
       "      <td>4.41</td>\n",
       "      <td>0.0</td>\n",
       "      <td>0.08</td>\n",
       "      <td>0.0</td>\n",
       "    </tr>\n",
       "  </tbody>\n",
       "</table>\n",
       "</div>"
      ],
      "text/plain": [
       "                         words   ttr  emails  urls  phones  dates  hours  \\\n",
       "albert-light-rag-v0     120.35  0.61     0.0  0.06    0.04   0.04   0.01   \n",
       "albert-light-simple-v0  209.47  0.44     0.0  0.01    0.05   0.07   0.04   \n",
       "\n",
       "                        prices_  number_artefacts  prompt_artefacts  \\\n",
       "albert-light-rag-v0        0.12              0.86               0.0   \n",
       "albert-light-simple-v0     0.19              4.41               0.0   \n",
       "\n",
       "                        repetition  3word_repetition  \n",
       "albert-light-rag-v0           0.05               0.0  \n",
       "albert-light-simple-v0        0.08               0.0  "
      ]
     },
     "execution_count": 4,
     "metadata": {},
     "output_type": "execute_result"
    }
   ],
   "source": [
    "#\n",
    "# Mean values\n",
    "#\n",
    "mean_df = pd.DataFrame(mean_dfs, columns=features, index=[re.sub(r\"-test$\", \"\", x) for x in targets])\n",
    "mean_df.round(2)"
   ]
  },
  {
   "cell_type": "code",
   "execution_count": 5,
   "id": "703f9517-bf0e-431d-b96c-5a45f2863a3f",
   "metadata": {},
   "outputs": [
    {
     "data": {
      "text/html": [
       "<div>\n",
       "<style scoped>\n",
       "    .dataframe tbody tr th:only-of-type {\n",
       "        vertical-align: middle;\n",
       "    }\n",
       "\n",
       "    .dataframe tbody tr th {\n",
       "        vertical-align: top;\n",
       "    }\n",
       "\n",
       "    .dataframe thead th {\n",
       "        text-align: right;\n",
       "    }\n",
       "</style>\n",
       "<table border=\"1\" class=\"dataframe\">\n",
       "  <thead>\n",
       "    <tr style=\"text-align: right;\">\n",
       "      <th></th>\n",
       "      <th>words</th>\n",
       "      <th>ttr</th>\n",
       "      <th>emails</th>\n",
       "      <th>urls</th>\n",
       "      <th>phones</th>\n",
       "      <th>dates</th>\n",
       "      <th>hours</th>\n",
       "      <th>prices_</th>\n",
       "      <th>number_artefacts</th>\n",
       "      <th>prompt_artefacts</th>\n",
       "      <th>repetition</th>\n",
       "      <th>3word_repetition</th>\n",
       "    </tr>\n",
       "  </thead>\n",
       "  <tbody>\n",
       "    <tr>\n",
       "      <th>albert-light-rag-v0</th>\n",
       "      <td>120.35 ± 94.14</td>\n",
       "      <td>0.61 ± 0.19</td>\n",
       "      <td>0.0 ± 0.0</td>\n",
       "      <td>0.06 ± 0.35</td>\n",
       "      <td>0.04 ± 0.32</td>\n",
       "      <td>0.04 ± 0.26</td>\n",
       "      <td>0.01 ± 0.18</td>\n",
       "      <td>0.12 ± 0.62</td>\n",
       "      <td>0.86 ± 1.91</td>\n",
       "      <td>0.0 ± 0.0</td>\n",
       "      <td>0.05 ± 0.21</td>\n",
       "      <td>0.0 ± 0.0</td>\n",
       "    </tr>\n",
       "    <tr>\n",
       "      <th>albert-light-simple-v0</th>\n",
       "      <td>209.47 ± 145.98</td>\n",
       "      <td>0.44 ± 0.17</td>\n",
       "      <td>0.0 ± 0.0</td>\n",
       "      <td>0.01 ± 0.19</td>\n",
       "      <td>0.05 ± 0.5</td>\n",
       "      <td>0.07 ± 0.71</td>\n",
       "      <td>0.04 ± 0.8</td>\n",
       "      <td>0.19 ± 1.49</td>\n",
       "      <td>4.41 ± 6.41</td>\n",
       "      <td>0.0 ± 0.0</td>\n",
       "      <td>0.08 ± 0.27</td>\n",
       "      <td>0.0 ± 0.06</td>\n",
       "    </tr>\n",
       "  </tbody>\n",
       "</table>\n",
       "</div>"
      ],
      "text/plain": [
       "                                  words          ttr     emails         urls  \\\n",
       "albert-light-rag-v0      120.35 ± 94.14  0.61 ± 0.19  0.0 ± 0.0  0.06 ± 0.35   \n",
       "albert-light-simple-v0  209.47 ± 145.98  0.44 ± 0.17  0.0 ± 0.0  0.01 ± 0.19   \n",
       "\n",
       "                             phones        dates        hours      prices_  \\\n",
       "albert-light-rag-v0     0.04 ± 0.32  0.04 ± 0.26  0.01 ± 0.18  0.12 ± 0.62   \n",
       "albert-light-simple-v0   0.05 ± 0.5  0.07 ± 0.71   0.04 ± 0.8  0.19 ± 1.49   \n",
       "\n",
       "                       number_artefacts prompt_artefacts   repetition  \\\n",
       "albert-light-rag-v0         0.86 ± 1.91        0.0 ± 0.0  0.05 ± 0.21   \n",
       "albert-light-simple-v0      4.41 ± 6.41        0.0 ± 0.0  0.08 ± 0.27   \n",
       "\n",
       "                       3word_repetition  \n",
       "albert-light-rag-v0           0.0 ± 0.0  \n",
       "albert-light-simple-v0       0.0 ± 0.06  "
      ]
     },
     "execution_count": 5,
     "metadata": {},
     "output_type": "execute_result"
    }
   ],
   "source": [
    "#\n",
    "# Mean + std values\n",
    "#\n",
    "mean_df = pd.DataFrame(mean_dfs, columns=features, index=[re.sub(r\"-test$\", \"\", x) for x in targets])\n",
    "std_df = pd.DataFrame(std_dfs, columns=features, index=[re.sub(r\"-test$\", \"\", x) for x in targets])\n",
    "\n",
    "df = mean_df.round(2).astype(str) + \" ± \" + std_df.round(2).astype(str)\n",
    "df"
   ]
  }
 ],
 "metadata": {
  "kernelspec": {
   "display_name": "Python 3 (ipykernel)",
   "language": "python",
   "name": "python3"
  },
  "language_info": {
   "codemirror_mode": {
    "name": "ipython",
    "version": 3
   },
   "file_extension": ".py",
   "mimetype": "text/x-python",
   "name": "python",
   "nbconvert_exporter": "python",
   "pygments_lexer": "ipython3",
   "version": "3.9.2"
  }
 },
 "nbformat": 4,
 "nbformat_minor": 5
}
